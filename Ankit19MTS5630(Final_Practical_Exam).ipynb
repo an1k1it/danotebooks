{
  "nbformat": 4,
  "nbformat_minor": 0,
  "metadata": {
    "colab": {
      "name": "Ankit19MTS5630(Final Practical Exam).ipynb",
      "provenance": [],
      "collapsed_sections": []
    },
    "kernelspec": {
      "name": "python3",
      "display_name": "Python 3"
    }
  },
  "cells": [
    {
      "cell_type": "markdown",
      "metadata": {
        "id": "L_VGygc5akE9"
      },
      "source": [
        "(a) Full Name:Ankit\n",
        "\n",
        "\n",
        "(b) Class Roll Number:19MTS5630\n",
        "\n",
        "\n",
        "(c) Name of Course: B.Sc. Mathematical Sciences\n",
        "\n",
        "\n",
        "(d) Semester: 3rd Semester (2nd Year)\n",
        "\n",
        "\n",
        "(e) Name of Subject: Data Analysis Using Python (SEC)\n",
        "\n",
        "\n",
        "(f) Assessment: B.Sc. Mathematical Sciences, 3rd Semester Lab-Work Assessment\n",
        "\n",
        "\n",
        "(g) Assessment Date: 30th November 2020\n",
        "\n",
        "\n",
        "(h) Assessment Time: 10am – 12noon\n",
        "\n",
        "\n",
        "(i) Compiler Used: Google Colab\n",
        "\n",
        "\n",
        "(j) Email ID used for assessment submission: ankit75me@gmail.com\n",
        "\n",
        "\n",
        "(k) Submitted to: Dr. Rajan Gupta\n",
        "\n",
        "\n",
        "(l) College/University: Deen Dayal Upadhyaya College, University of Delhi"
      ]
    },
    {
      "cell_type": "code",
      "metadata": {
        "id": "886tBT4GaMDd"
      },
      "source": [
        "#importing libraries\n",
        "import pandas as pd\n",
        "import numpy as np"
      ],
      "execution_count": null,
      "outputs": []
    },
    {
      "cell_type": "markdown",
      "metadata": {
        "id": "GQIICwb9hK52"
      },
      "source": [
        " **Q1.Create a 1-D array of the following shoe brand names in the given particular order - (Nike,\n",
        "Adidas, Reebok, Puma, Adidas, Nike, Reebok, Reebok). Now create a random array of 8\n",
        "rows and 4 columns with only positive numbers and multiply each element by 10,000. This\n",
        "array determines the price of the shoes of various brands having four different variants.\n",
        "Display the price of all Adidas Shoes, Reebok Shoes, PUMA Shoes and Nike Shoes,\n",
        "individually. Then display the Price of only 2nd and 3rd variant of all Nike or Adidas shoes,\n",
        "and the price of 1st and 2nd variant of shoes other than Nike or Puma Brand.\n",
        "Also, display the price of all the shoes which are more than 1500 and then change the price\n",
        "of all the Reebok shoes to 5000. Then print only 1st and 2nd variant prices of first four\n",
        "brands of the shoes.**"
      ]
    },
    {
      "cell_type": "code",
      "metadata": {
        "id": "rCFV3krPhl_v",
        "colab": {
          "base_uri": "https://localhost:8080/"
        },
        "outputId": "9cae8fe3-c933-466d-d704-09b241f30723"
      },
      "source": [
        "brands = np.array(['Nike', 'Addidas', 'Reebok', 'Puma', 'Adidas', 'Nike', 'Reebok','Reebok'])\n",
        "data = np.random.rand(8,4)\n",
        "data"
      ],
      "execution_count": null,
      "outputs": [
        {
          "output_type": "execute_result",
          "data": {
            "text/plain": [
              "array([[0.10413886, 0.20247966, 0.60565598, 0.92417286],\n",
              "       [0.55036873, 0.23237699, 0.41748977, 0.69353797],\n",
              "       [0.33256468, 0.54496759, 0.53599117, 0.74294544],\n",
              "       [0.63333695, 0.47269396, 0.76353479, 0.22421685],\n",
              "       [0.87180453, 0.72113057, 0.77546606, 0.22816213],\n",
              "       [0.94056885, 0.74368731, 0.49280833, 0.19991938],\n",
              "       [0.25531568, 0.78549946, 0.90275153, 0.42131165],\n",
              "       [0.36458064, 0.82591045, 0.59068481, 0.34817738]])"
            ]
          },
          "metadata": {
            "tags": []
          },
          "execution_count": 8
        }
      ]
    },
    {
      "cell_type": "code",
      "metadata": {
        "id": "WleVr2ePhmlf",
        "colab": {
          "base_uri": "https://localhost:8080/"
        },
        "outputId": "410eea0e-252a-40ef-dac9-a3192a90684e"
      },
      "source": [
        "#price of shoes\n",
        "price=data*10000\n",
        "price"
      ],
      "execution_count": null,
      "outputs": [
        {
          "output_type": "execute_result",
          "data": {
            "text/plain": [
              "array([[1041.38864032, 2024.79662413, 6056.55984579, 9241.72860283],\n",
              "       [5503.68728268, 2323.76989569, 4174.89770773, 6935.37968947],\n",
              "       [3325.64681028, 5449.6758872 , 5359.91167776, 7429.45437367],\n",
              "       [6333.36947995, 4726.93956021, 7635.34793091, 2242.16845261],\n",
              "       [8718.04527463, 7211.3056634 , 7754.66057951, 2281.62126666],\n",
              "       [9405.68851121, 7436.87310508, 4928.08327818, 1999.19381249],\n",
              "       [2553.15682561, 7854.99462226, 9027.51529035, 4213.11650732],\n",
              "       [3645.8063723 , 8259.10452912, 5906.84813966, 3481.7737515 ]])"
            ]
          },
          "metadata": {
            "tags": []
          },
          "execution_count": 12
        }
      ]
    },
    {
      "cell_type": "code",
      "metadata": {
        "id": "STPhCa0JhnSJ",
        "colab": {
          "base_uri": "https://localhost:8080/"
        },
        "outputId": "57e267cc-e644-4818-dc65-4e6491bd6d40"
      },
      "source": [
        "#price of addidas shoes\n",
        "price[brands == 'Addidas']"
      ],
      "execution_count": null,
      "outputs": [
        {
          "output_type": "execute_result",
          "data": {
            "text/plain": [
              "array([[5503.68728268, 2323.76989569, 4174.89770773, 6935.37968947]])"
            ]
          },
          "metadata": {
            "tags": []
          },
          "execution_count": 13
        }
      ]
    },
    {
      "cell_type": "code",
      "metadata": {
        "id": "uTMUNt9Thn0N",
        "colab": {
          "base_uri": "https://localhost:8080/"
        },
        "outputId": "4fb2ebfe-7036-40ed-bac4-833299042e19"
      },
      "source": [
        "#price of reebok shoes\n",
        "price[brands == 'Reebok']"
      ],
      "execution_count": null,
      "outputs": [
        {
          "output_type": "execute_result",
          "data": {
            "text/plain": [
              "array([[3325.64681028, 5449.6758872 , 5359.91167776, 7429.45437367],\n",
              "       [2553.15682561, 7854.99462226, 9027.51529035, 4213.11650732],\n",
              "       [3645.8063723 , 8259.10452912, 5906.84813966, 3481.7737515 ]])"
            ]
          },
          "metadata": {
            "tags": []
          },
          "execution_count": 14
        }
      ]
    },
    {
      "cell_type": "code",
      "metadata": {
        "id": "9bAM05pWhpIU",
        "colab": {
          "base_uri": "https://localhost:8080/"
        },
        "outputId": "20f50e5c-a7d9-4387-d2d7-cde14a80c22e"
      },
      "source": [
        "#price of Puma shoes\n",
        "price[brands == 'Puma']"
      ],
      "execution_count": null,
      "outputs": [
        {
          "output_type": "execute_result",
          "data": {
            "text/plain": [
              "array([[6333.36947995, 4726.93956021, 7635.34793091, 2242.16845261]])"
            ]
          },
          "metadata": {
            "tags": []
          },
          "execution_count": 15
        }
      ]
    },
    {
      "cell_type": "code",
      "metadata": {
        "colab": {
          "base_uri": "https://localhost:8080/"
        },
        "id": "M_UH5szafqaR",
        "outputId": "176ffc86-c427-43c5-cc26-de4ee84b8178"
      },
      "source": [
        "#price of Nike shoes\n",
        "price[brands == 'Nike']"
      ],
      "execution_count": null,
      "outputs": [
        {
          "output_type": "execute_result",
          "data": {
            "text/plain": [
              "array([[1041.38864032, 2024.79662413, 6056.55984579, 9241.72860283],\n",
              "       [9405.68851121, 7436.87310508, 4928.08327818, 1999.19381249]])"
            ]
          },
          "metadata": {
            "tags": []
          },
          "execution_count": 16
        }
      ]
    },
    {
      "cell_type": "code",
      "metadata": {
        "colab": {
          "base_uri": "https://localhost:8080/"
        },
        "id": "xzxgwTFiho4Y",
        "outputId": "20bd62fe-6335-4f16-e305-acdfeaf59808"
      },
      "source": [
        "#the Price of only 2nd and 3rd variant of all Nike or Adidas shoes\n",
        "price[(brands == \"Nike\")|(brands == \"Adidas\"),1:3]"
      ],
      "execution_count": null,
      "outputs": [
        {
          "output_type": "execute_result",
          "data": {
            "text/plain": [
              "array([[2024.79662413, 6056.55984579],\n",
              "       [7211.3056634 , 7754.66057951],\n",
              "       [7436.87310508, 4928.08327818]])"
            ]
          },
          "metadata": {
            "tags": []
          },
          "execution_count": 25
        }
      ]
    },
    {
      "cell_type": "code",
      "metadata": {
        "colab": {
          "base_uri": "https://localhost:8080/"
        },
        "id": "riKh5GSdiLpA",
        "outputId": "1c970bc4-2dbc-4f7a-e9a6-64d82848a583"
      },
      "source": [
        "#the price of 1st and 2nd variant of shoes other than Nike or Puma Brand\n",
        "price[(brands != \"Nike\")|(brands != \"Puma\"),0:2]"
      ],
      "execution_count": null,
      "outputs": [
        {
          "output_type": "execute_result",
          "data": {
            "text/plain": [
              "array([[1041.38864032, 2024.79662413],\n",
              "       [5503.68728268, 2323.76989569],\n",
              "       [5000.        , 5000.        ],\n",
              "       [6333.36947995, 4726.93956021],\n",
              "       [8718.04527463, 7211.3056634 ],\n",
              "       [9405.68851121, 7436.87310508],\n",
              "       [5000.        , 5000.        ],\n",
              "       [5000.        , 5000.        ]])"
            ]
          },
          "metadata": {
            "tags": []
          },
          "execution_count": 64
        }
      ]
    },
    {
      "cell_type": "code",
      "metadata": {
        "id": "UJvSOc4piWoQ",
        "colab": {
          "base_uri": "https://localhost:8080/"
        },
        "outputId": "d13fecc2-fc1b-4608-bc21-c34b3c169f9e"
      },
      "source": [
        " #Price of all the shoes which are more than 1500\n",
        " price[price>1500]"
      ],
      "execution_count": null,
      "outputs": [
        {
          "output_type": "execute_result",
          "data": {
            "text/plain": [
              "array([2024.79662413, 6056.55984579, 9241.72860283, 5503.68728268,\n",
              "       2323.76989569, 4174.89770773, 6935.37968947, 3325.64681028,\n",
              "       5449.6758872 , 5359.91167776, 7429.45437367, 6333.36947995,\n",
              "       4726.93956021, 7635.34793091, 2242.16845261, 8718.04527463,\n",
              "       7211.3056634 , 7754.66057951, 2281.62126666, 9405.68851121,\n",
              "       7436.87310508, 4928.08327818, 1999.19381249, 2553.15682561,\n",
              "       7854.99462226, 9027.51529035, 4213.11650732, 3645.8063723 ,\n",
              "       8259.10452912, 5906.84813966, 3481.7737515 ])"
            ]
          },
          "metadata": {
            "tags": []
          },
          "execution_count": 17
        }
      ]
    },
    {
      "cell_type": "code",
      "metadata": {
        "id": "9PEQ2bLTk1Oe",
        "colab": {
          "base_uri": "https://localhost:8080/"
        },
        "outputId": "eebdacb3-47ff-45e5-ac97-9c2ed584bb20"
      },
      "source": [
        "#Change the price of all the Reebok shoes to 5000\n",
        "price[brands == 'Reebok'] = 5000\n",
        "price"
      ],
      "execution_count": null,
      "outputs": [
        {
          "output_type": "execute_result",
          "data": {
            "text/plain": [
              "array([[1041.38864032, 2024.79662413, 6056.55984579, 9241.72860283],\n",
              "       [5503.68728268, 2323.76989569, 4174.89770773, 6935.37968947],\n",
              "       [5000.        , 5000.        , 5000.        , 5000.        ],\n",
              "       [6333.36947995, 4726.93956021, 7635.34793091, 2242.16845261],\n",
              "       [8718.04527463, 7211.3056634 , 7754.66057951, 2281.62126666],\n",
              "       [9405.68851121, 7436.87310508, 4928.08327818, 1999.19381249],\n",
              "       [5000.        , 5000.        , 5000.        , 5000.        ],\n",
              "       [5000.        , 5000.        , 5000.        , 5000.        ]])"
            ]
          },
          "metadata": {
            "tags": []
          },
          "execution_count": 63
        }
      ]
    },
    {
      "cell_type": "code",
      "metadata": {
        "colab": {
          "base_uri": "https://localhost:8080/"
        },
        "id": "HKD1g57DiZ1B",
        "outputId": "ee25e751-e837-4be1-8e4e-452d51906120"
      },
      "source": [
        "#only 1st and 2nd variant prices of first four brands of the shoes.\n",
        "price[0:4,0:2]"
      ],
      "execution_count": null,
      "outputs": [
        {
          "output_type": "execute_result",
          "data": {
            "text/plain": [
              "array([[1041.38864032, 2024.79662413],\n",
              "       [5503.68728268, 2323.76989569],\n",
              "       [3325.64681028, 5449.6758872 ],\n",
              "       [6333.36947995, 4726.93956021]])"
            ]
          },
          "metadata": {
            "tags": []
          },
          "execution_count": 27
        }
      ]
    },
    {
      "cell_type": "markdown",
      "metadata": {
        "id": "8wcl6tcolBtf"
      },
      "source": [
        "2) Create a dataframe of 10 students for their complete graduation (3 years) with 3 columns -\n",
        "Name, Year, Percentage\n",
        "e.g. (Ram, 2017, 75), (Ram, 2018, 77), (Ram, 2019, 80), (Reeta, 2017, 83), (Reeta, 2018, 89),\n",
        "(Reeta, 2019, 85), etc. (This will make 30 entries in the dataframe for the 10 students across\n",
        "3 years [2017-2018-2019])\n",
        "Perform the following operations."
      ]
    },
    {
      "cell_type": "code",
      "metadata": {
        "colab": {
          "base_uri": "https://localhost:8080/",
          "height": 935
        },
        "id": "ySmIy0tnk7DU",
        "outputId": "489a523f-d95b-4e11-a9e5-dc5a64d3fdad"
      },
      "source": [
        "rdata={'Name':['Ram','Ram','Ram','Shyam','Shyam','Shyam','Jake','Jake','Jake','Fake','Fake','Fake','Gina','Gina','Gina','Tina','Tina','Tina','Menna','Menna','Menna','Sam','Sam','Sam','Mike','Mike','Mike','Harvey','Harvey','Harvey'],'Year':[2017,2018,2019,2017,2018,2019,2017,2018,2019,2017,2018,2019,2017,2018,2019,2017,2018,2019,2017,2018,2019,2017,2018,2019,2017,2018,2019,2017,2018,2019],'Percentage':[75,45,68,83,42,54,98,76,67,67,44,33,98,60,75,45,76,69,70,78,89,87,96,69,80,78,75,65,67,87]}\n",
        "record=pd.DataFrame(rdata)\n",
        "record"
      ],
      "execution_count": null,
      "outputs": [
        {
          "output_type": "execute_result",
          "data": {
            "text/html": [
              "<div>\n",
              "<style scoped>\n",
              "    .dataframe tbody tr th:only-of-type {\n",
              "        vertical-align: middle;\n",
              "    }\n",
              "\n",
              "    .dataframe tbody tr th {\n",
              "        vertical-align: top;\n",
              "    }\n",
              "\n",
              "    .dataframe thead th {\n",
              "        text-align: right;\n",
              "    }\n",
              "</style>\n",
              "<table border=\"1\" class=\"dataframe\">\n",
              "  <thead>\n",
              "    <tr style=\"text-align: right;\">\n",
              "      <th></th>\n",
              "      <th>Name</th>\n",
              "      <th>Year</th>\n",
              "      <th>Percentage</th>\n",
              "    </tr>\n",
              "  </thead>\n",
              "  <tbody>\n",
              "    <tr>\n",
              "      <th>0</th>\n",
              "      <td>Ram</td>\n",
              "      <td>2017</td>\n",
              "      <td>75</td>\n",
              "    </tr>\n",
              "    <tr>\n",
              "      <th>1</th>\n",
              "      <td>Ram</td>\n",
              "      <td>2018</td>\n",
              "      <td>45</td>\n",
              "    </tr>\n",
              "    <tr>\n",
              "      <th>2</th>\n",
              "      <td>Ram</td>\n",
              "      <td>2019</td>\n",
              "      <td>68</td>\n",
              "    </tr>\n",
              "    <tr>\n",
              "      <th>3</th>\n",
              "      <td>Shyam</td>\n",
              "      <td>2017</td>\n",
              "      <td>83</td>\n",
              "    </tr>\n",
              "    <tr>\n",
              "      <th>4</th>\n",
              "      <td>Shyam</td>\n",
              "      <td>2018</td>\n",
              "      <td>42</td>\n",
              "    </tr>\n",
              "    <tr>\n",
              "      <th>5</th>\n",
              "      <td>Shyam</td>\n",
              "      <td>2019</td>\n",
              "      <td>54</td>\n",
              "    </tr>\n",
              "    <tr>\n",
              "      <th>6</th>\n",
              "      <td>Jake</td>\n",
              "      <td>2017</td>\n",
              "      <td>98</td>\n",
              "    </tr>\n",
              "    <tr>\n",
              "      <th>7</th>\n",
              "      <td>Jake</td>\n",
              "      <td>2018</td>\n",
              "      <td>76</td>\n",
              "    </tr>\n",
              "    <tr>\n",
              "      <th>8</th>\n",
              "      <td>Jake</td>\n",
              "      <td>2019</td>\n",
              "      <td>67</td>\n",
              "    </tr>\n",
              "    <tr>\n",
              "      <th>9</th>\n",
              "      <td>Fake</td>\n",
              "      <td>2017</td>\n",
              "      <td>67</td>\n",
              "    </tr>\n",
              "    <tr>\n",
              "      <th>10</th>\n",
              "      <td>Fake</td>\n",
              "      <td>2018</td>\n",
              "      <td>44</td>\n",
              "    </tr>\n",
              "    <tr>\n",
              "      <th>11</th>\n",
              "      <td>Fake</td>\n",
              "      <td>2019</td>\n",
              "      <td>33</td>\n",
              "    </tr>\n",
              "    <tr>\n",
              "      <th>12</th>\n",
              "      <td>Gina</td>\n",
              "      <td>2017</td>\n",
              "      <td>98</td>\n",
              "    </tr>\n",
              "    <tr>\n",
              "      <th>13</th>\n",
              "      <td>Gina</td>\n",
              "      <td>2018</td>\n",
              "      <td>60</td>\n",
              "    </tr>\n",
              "    <tr>\n",
              "      <th>14</th>\n",
              "      <td>Gina</td>\n",
              "      <td>2019</td>\n",
              "      <td>75</td>\n",
              "    </tr>\n",
              "    <tr>\n",
              "      <th>15</th>\n",
              "      <td>Tina</td>\n",
              "      <td>2017</td>\n",
              "      <td>45</td>\n",
              "    </tr>\n",
              "    <tr>\n",
              "      <th>16</th>\n",
              "      <td>Tina</td>\n",
              "      <td>2018</td>\n",
              "      <td>76</td>\n",
              "    </tr>\n",
              "    <tr>\n",
              "      <th>17</th>\n",
              "      <td>Tina</td>\n",
              "      <td>2019</td>\n",
              "      <td>69</td>\n",
              "    </tr>\n",
              "    <tr>\n",
              "      <th>18</th>\n",
              "      <td>Menna</td>\n",
              "      <td>2017</td>\n",
              "      <td>70</td>\n",
              "    </tr>\n",
              "    <tr>\n",
              "      <th>19</th>\n",
              "      <td>Menna</td>\n",
              "      <td>2018</td>\n",
              "      <td>78</td>\n",
              "    </tr>\n",
              "    <tr>\n",
              "      <th>20</th>\n",
              "      <td>Menna</td>\n",
              "      <td>2019</td>\n",
              "      <td>89</td>\n",
              "    </tr>\n",
              "    <tr>\n",
              "      <th>21</th>\n",
              "      <td>Sam</td>\n",
              "      <td>2017</td>\n",
              "      <td>87</td>\n",
              "    </tr>\n",
              "    <tr>\n",
              "      <th>22</th>\n",
              "      <td>Sam</td>\n",
              "      <td>2018</td>\n",
              "      <td>96</td>\n",
              "    </tr>\n",
              "    <tr>\n",
              "      <th>23</th>\n",
              "      <td>Sam</td>\n",
              "      <td>2019</td>\n",
              "      <td>69</td>\n",
              "    </tr>\n",
              "    <tr>\n",
              "      <th>24</th>\n",
              "      <td>Mike</td>\n",
              "      <td>2017</td>\n",
              "      <td>80</td>\n",
              "    </tr>\n",
              "    <tr>\n",
              "      <th>25</th>\n",
              "      <td>Mike</td>\n",
              "      <td>2018</td>\n",
              "      <td>78</td>\n",
              "    </tr>\n",
              "    <tr>\n",
              "      <th>26</th>\n",
              "      <td>Mike</td>\n",
              "      <td>2019</td>\n",
              "      <td>75</td>\n",
              "    </tr>\n",
              "    <tr>\n",
              "      <th>27</th>\n",
              "      <td>Harvey</td>\n",
              "      <td>2017</td>\n",
              "      <td>65</td>\n",
              "    </tr>\n",
              "    <tr>\n",
              "      <th>28</th>\n",
              "      <td>Harvey</td>\n",
              "      <td>2018</td>\n",
              "      <td>67</td>\n",
              "    </tr>\n",
              "    <tr>\n",
              "      <th>29</th>\n",
              "      <td>Harvey</td>\n",
              "      <td>2019</td>\n",
              "      <td>87</td>\n",
              "    </tr>\n",
              "  </tbody>\n",
              "</table>\n",
              "</div>"
            ],
            "text/plain": [
              "      Name  Year  Percentage\n",
              "0      Ram  2017          75\n",
              "1      Ram  2018          45\n",
              "2      Ram  2019          68\n",
              "3    Shyam  2017          83\n",
              "4    Shyam  2018          42\n",
              "5    Shyam  2019          54\n",
              "6     Jake  2017          98\n",
              "7     Jake  2018          76\n",
              "8     Jake  2019          67\n",
              "9     Fake  2017          67\n",
              "10    Fake  2018          44\n",
              "11    Fake  2019          33\n",
              "12    Gina  2017          98\n",
              "13    Gina  2018          60\n",
              "14    Gina  2019          75\n",
              "15    Tina  2017          45\n",
              "16    Tina  2018          76\n",
              "17    Tina  2019          69\n",
              "18   Menna  2017          70\n",
              "19   Menna  2018          78\n",
              "20   Menna  2019          89\n",
              "21     Sam  2017          87\n",
              "22     Sam  2018          96\n",
              "23     Sam  2019          69\n",
              "24    Mike  2017          80\n",
              "25    Mike  2018          78\n",
              "26    Mike  2019          75\n",
              "27  Harvey  2017          65\n",
              "28  Harvey  2018          67\n",
              "29  Harvey  2019          87"
            ]
          },
          "metadata": {
            "tags": []
          },
          "execution_count": 28
        }
      ]
    },
    {
      "cell_type": "markdown",
      "metadata": {
        "id": "MTiYZdDqlSSR"
      },
      "source": [
        "**(a) Display the first 8 entries of the dataframe**"
      ]
    },
    {
      "cell_type": "code",
      "metadata": {
        "colab": {
          "base_uri": "https://localhost:8080/",
          "height": 284
        },
        "id": "4YXU_esdlR8q",
        "outputId": "62ac5423-7e13-4529-a338-c6598100cfd9"
      },
      "source": [
        "record.head(8)"
      ],
      "execution_count": null,
      "outputs": [
        {
          "output_type": "execute_result",
          "data": {
            "text/html": [
              "<div>\n",
              "<style scoped>\n",
              "    .dataframe tbody tr th:only-of-type {\n",
              "        vertical-align: middle;\n",
              "    }\n",
              "\n",
              "    .dataframe tbody tr th {\n",
              "        vertical-align: top;\n",
              "    }\n",
              "\n",
              "    .dataframe thead th {\n",
              "        text-align: right;\n",
              "    }\n",
              "</style>\n",
              "<table border=\"1\" class=\"dataframe\">\n",
              "  <thead>\n",
              "    <tr style=\"text-align: right;\">\n",
              "      <th></th>\n",
              "      <th>Name</th>\n",
              "      <th>Year</th>\n",
              "      <th>Percentage</th>\n",
              "    </tr>\n",
              "  </thead>\n",
              "  <tbody>\n",
              "    <tr>\n",
              "      <th>0</th>\n",
              "      <td>Ram</td>\n",
              "      <td>2017</td>\n",
              "      <td>75</td>\n",
              "    </tr>\n",
              "    <tr>\n",
              "      <th>1</th>\n",
              "      <td>Ram</td>\n",
              "      <td>2018</td>\n",
              "      <td>45</td>\n",
              "    </tr>\n",
              "    <tr>\n",
              "      <th>2</th>\n",
              "      <td>Ram</td>\n",
              "      <td>2019</td>\n",
              "      <td>68</td>\n",
              "    </tr>\n",
              "    <tr>\n",
              "      <th>3</th>\n",
              "      <td>Shyam</td>\n",
              "      <td>2017</td>\n",
              "      <td>83</td>\n",
              "    </tr>\n",
              "    <tr>\n",
              "      <th>4</th>\n",
              "      <td>Shyam</td>\n",
              "      <td>2018</td>\n",
              "      <td>42</td>\n",
              "    </tr>\n",
              "    <tr>\n",
              "      <th>5</th>\n",
              "      <td>Shyam</td>\n",
              "      <td>2019</td>\n",
              "      <td>54</td>\n",
              "    </tr>\n",
              "    <tr>\n",
              "      <th>6</th>\n",
              "      <td>Jake</td>\n",
              "      <td>2017</td>\n",
              "      <td>98</td>\n",
              "    </tr>\n",
              "    <tr>\n",
              "      <th>7</th>\n",
              "      <td>Jake</td>\n",
              "      <td>2018</td>\n",
              "      <td>76</td>\n",
              "    </tr>\n",
              "  </tbody>\n",
              "</table>\n",
              "</div>"
            ],
            "text/plain": [
              "    Name  Year  Percentage\n",
              "0    Ram  2017          75\n",
              "1    Ram  2018          45\n",
              "2    Ram  2019          68\n",
              "3  Shyam  2017          83\n",
              "4  Shyam  2018          42\n",
              "5  Shyam  2019          54\n",
              "6   Jake  2017          98\n",
              "7   Jake  2018          76"
            ]
          },
          "metadata": {
            "tags": []
          },
          "execution_count": 29
        }
      ]
    },
    {
      "cell_type": "markdown",
      "metadata": {
        "id": "h4T9R66l6MKX"
      },
      "source": [
        "(b) Display the last 5 entries of the dataframe\n"
      ]
    },
    {
      "cell_type": "code",
      "metadata": {
        "colab": {
          "base_uri": "https://localhost:8080/",
          "height": 195
        },
        "id": "vaZZBpoil-u4",
        "outputId": "59d5f85c-ffab-4b60-a2ce-eecc645dcaa7"
      },
      "source": [
        "record.tail(5)"
      ],
      "execution_count": null,
      "outputs": [
        {
          "output_type": "execute_result",
          "data": {
            "text/html": [
              "<div>\n",
              "<style scoped>\n",
              "    .dataframe tbody tr th:only-of-type {\n",
              "        vertical-align: middle;\n",
              "    }\n",
              "\n",
              "    .dataframe tbody tr th {\n",
              "        vertical-align: top;\n",
              "    }\n",
              "\n",
              "    .dataframe thead th {\n",
              "        text-align: right;\n",
              "    }\n",
              "</style>\n",
              "<table border=\"1\" class=\"dataframe\">\n",
              "  <thead>\n",
              "    <tr style=\"text-align: right;\">\n",
              "      <th></th>\n",
              "      <th>Name</th>\n",
              "      <th>Year</th>\n",
              "      <th>Percentage</th>\n",
              "    </tr>\n",
              "  </thead>\n",
              "  <tbody>\n",
              "    <tr>\n",
              "      <th>25</th>\n",
              "      <td>Mike</td>\n",
              "      <td>2018</td>\n",
              "      <td>78</td>\n",
              "    </tr>\n",
              "    <tr>\n",
              "      <th>26</th>\n",
              "      <td>Mike</td>\n",
              "      <td>2019</td>\n",
              "      <td>75</td>\n",
              "    </tr>\n",
              "    <tr>\n",
              "      <th>27</th>\n",
              "      <td>Harvey</td>\n",
              "      <td>2017</td>\n",
              "      <td>65</td>\n",
              "    </tr>\n",
              "    <tr>\n",
              "      <th>28</th>\n",
              "      <td>Harvey</td>\n",
              "      <td>2018</td>\n",
              "      <td>67</td>\n",
              "    </tr>\n",
              "    <tr>\n",
              "      <th>29</th>\n",
              "      <td>Harvey</td>\n",
              "      <td>2019</td>\n",
              "      <td>87</td>\n",
              "    </tr>\n",
              "  </tbody>\n",
              "</table>\n",
              "</div>"
            ],
            "text/plain": [
              "      Name  Year  Percentage\n",
              "25    Mike  2018          78\n",
              "26    Mike  2019          75\n",
              "27  Harvey  2017          65\n",
              "28  Harvey  2018          67\n",
              "29  Harvey  2019          87"
            ]
          },
          "metadata": {
            "tags": []
          },
          "execution_count": 31
        }
      ]
    },
    {
      "cell_type": "markdown",
      "metadata": {
        "id": "d_BeJPYKmBOj"
      },
      "source": [
        "(c) Change the index values of the dataframe with numbers written as text. e.g. 1 replaced as One, 2 replaced as Two, etc."
      ]
    },
    {
      "cell_type": "code",
      "metadata": {
        "colab": {
          "base_uri": "https://localhost:8080/",
          "height": 935
        },
        "id": "40hNP27NmFxZ",
        "outputId": "d523ffa8-1a55-4c30-acf4-1445f926fb3b"
      },
      "source": [
        "record.index=['zero','one', 'two', 'three', 'four','five', 'six','seven','eight','nine','ten','eleven','twelve','thirteen','fourteen','fifteen','sixteen','seventeen','eighteen','nineteen','twenty','twentyone','twentytwo','twentythree','twentyfour','twentyfive','twentysix','twentyseven','twentyeight','twentynine']\n",
        "record"
      ],
      "execution_count": null,
      "outputs": [
        {
          "output_type": "execute_result",
          "data": {
            "text/html": [
              "<div>\n",
              "<style scoped>\n",
              "    .dataframe tbody tr th:only-of-type {\n",
              "        vertical-align: middle;\n",
              "    }\n",
              "\n",
              "    .dataframe tbody tr th {\n",
              "        vertical-align: top;\n",
              "    }\n",
              "\n",
              "    .dataframe thead th {\n",
              "        text-align: right;\n",
              "    }\n",
              "</style>\n",
              "<table border=\"1\" class=\"dataframe\">\n",
              "  <thead>\n",
              "    <tr style=\"text-align: right;\">\n",
              "      <th></th>\n",
              "      <th>Name</th>\n",
              "      <th>Year</th>\n",
              "      <th>Percentage</th>\n",
              "    </tr>\n",
              "  </thead>\n",
              "  <tbody>\n",
              "    <tr>\n",
              "      <th>zero</th>\n",
              "      <td>Ram</td>\n",
              "      <td>2017</td>\n",
              "      <td>75</td>\n",
              "    </tr>\n",
              "    <tr>\n",
              "      <th>one</th>\n",
              "      <td>Ram</td>\n",
              "      <td>2018</td>\n",
              "      <td>45</td>\n",
              "    </tr>\n",
              "    <tr>\n",
              "      <th>two</th>\n",
              "      <td>Ram</td>\n",
              "      <td>2019</td>\n",
              "      <td>68</td>\n",
              "    </tr>\n",
              "    <tr>\n",
              "      <th>three</th>\n",
              "      <td>Shyam</td>\n",
              "      <td>2017</td>\n",
              "      <td>83</td>\n",
              "    </tr>\n",
              "    <tr>\n",
              "      <th>four</th>\n",
              "      <td>Shyam</td>\n",
              "      <td>2018</td>\n",
              "      <td>42</td>\n",
              "    </tr>\n",
              "    <tr>\n",
              "      <th>five</th>\n",
              "      <td>Shyam</td>\n",
              "      <td>2019</td>\n",
              "      <td>54</td>\n",
              "    </tr>\n",
              "    <tr>\n",
              "      <th>six</th>\n",
              "      <td>Jake</td>\n",
              "      <td>2017</td>\n",
              "      <td>98</td>\n",
              "    </tr>\n",
              "    <tr>\n",
              "      <th>seven</th>\n",
              "      <td>Jake</td>\n",
              "      <td>2018</td>\n",
              "      <td>76</td>\n",
              "    </tr>\n",
              "    <tr>\n",
              "      <th>eight</th>\n",
              "      <td>Jake</td>\n",
              "      <td>2019</td>\n",
              "      <td>67</td>\n",
              "    </tr>\n",
              "    <tr>\n",
              "      <th>nine</th>\n",
              "      <td>Fake</td>\n",
              "      <td>2017</td>\n",
              "      <td>67</td>\n",
              "    </tr>\n",
              "    <tr>\n",
              "      <th>ten</th>\n",
              "      <td>Fake</td>\n",
              "      <td>2018</td>\n",
              "      <td>44</td>\n",
              "    </tr>\n",
              "    <tr>\n",
              "      <th>eleven</th>\n",
              "      <td>Fake</td>\n",
              "      <td>2019</td>\n",
              "      <td>33</td>\n",
              "    </tr>\n",
              "    <tr>\n",
              "      <th>twelve</th>\n",
              "      <td>Gina</td>\n",
              "      <td>2017</td>\n",
              "      <td>98</td>\n",
              "    </tr>\n",
              "    <tr>\n",
              "      <th>thirteen</th>\n",
              "      <td>Gina</td>\n",
              "      <td>2018</td>\n",
              "      <td>60</td>\n",
              "    </tr>\n",
              "    <tr>\n",
              "      <th>fourteen</th>\n",
              "      <td>Gina</td>\n",
              "      <td>2019</td>\n",
              "      <td>75</td>\n",
              "    </tr>\n",
              "    <tr>\n",
              "      <th>fifteen</th>\n",
              "      <td>Tina</td>\n",
              "      <td>2017</td>\n",
              "      <td>45</td>\n",
              "    </tr>\n",
              "    <tr>\n",
              "      <th>sixteen</th>\n",
              "      <td>Tina</td>\n",
              "      <td>2018</td>\n",
              "      <td>76</td>\n",
              "    </tr>\n",
              "    <tr>\n",
              "      <th>seventeen</th>\n",
              "      <td>Tina</td>\n",
              "      <td>2019</td>\n",
              "      <td>69</td>\n",
              "    </tr>\n",
              "    <tr>\n",
              "      <th>eighteen</th>\n",
              "      <td>Menna</td>\n",
              "      <td>2017</td>\n",
              "      <td>70</td>\n",
              "    </tr>\n",
              "    <tr>\n",
              "      <th>nineteen</th>\n",
              "      <td>Menna</td>\n",
              "      <td>2018</td>\n",
              "      <td>78</td>\n",
              "    </tr>\n",
              "    <tr>\n",
              "      <th>twenty</th>\n",
              "      <td>Menna</td>\n",
              "      <td>2019</td>\n",
              "      <td>89</td>\n",
              "    </tr>\n",
              "    <tr>\n",
              "      <th>twentyone</th>\n",
              "      <td>Sam</td>\n",
              "      <td>2017</td>\n",
              "      <td>87</td>\n",
              "    </tr>\n",
              "    <tr>\n",
              "      <th>twentytwo</th>\n",
              "      <td>Sam</td>\n",
              "      <td>2018</td>\n",
              "      <td>96</td>\n",
              "    </tr>\n",
              "    <tr>\n",
              "      <th>twentythree</th>\n",
              "      <td>Sam</td>\n",
              "      <td>2019</td>\n",
              "      <td>69</td>\n",
              "    </tr>\n",
              "    <tr>\n",
              "      <th>twentyfour</th>\n",
              "      <td>Mike</td>\n",
              "      <td>2017</td>\n",
              "      <td>80</td>\n",
              "    </tr>\n",
              "    <tr>\n",
              "      <th>twentyfive</th>\n",
              "      <td>Mike</td>\n",
              "      <td>2018</td>\n",
              "      <td>78</td>\n",
              "    </tr>\n",
              "    <tr>\n",
              "      <th>twentysix</th>\n",
              "      <td>Mike</td>\n",
              "      <td>2019</td>\n",
              "      <td>75</td>\n",
              "    </tr>\n",
              "    <tr>\n",
              "      <th>twentyseven</th>\n",
              "      <td>Harvey</td>\n",
              "      <td>2017</td>\n",
              "      <td>65</td>\n",
              "    </tr>\n",
              "    <tr>\n",
              "      <th>twentyeight</th>\n",
              "      <td>Harvey</td>\n",
              "      <td>2018</td>\n",
              "      <td>67</td>\n",
              "    </tr>\n",
              "    <tr>\n",
              "      <th>twentynine</th>\n",
              "      <td>Harvey</td>\n",
              "      <td>2019</td>\n",
              "      <td>87</td>\n",
              "    </tr>\n",
              "  </tbody>\n",
              "</table>\n",
              "</div>"
            ],
            "text/plain": [
              "               Name  Year  Percentage\n",
              "zero            Ram  2017          75\n",
              "one             Ram  2018          45\n",
              "two             Ram  2019          68\n",
              "three         Shyam  2017          83\n",
              "four          Shyam  2018          42\n",
              "five          Shyam  2019          54\n",
              "six            Jake  2017          98\n",
              "seven          Jake  2018          76\n",
              "eight          Jake  2019          67\n",
              "nine           Fake  2017          67\n",
              "ten            Fake  2018          44\n",
              "eleven         Fake  2019          33\n",
              "twelve         Gina  2017          98\n",
              "thirteen       Gina  2018          60\n",
              "fourteen       Gina  2019          75\n",
              "fifteen        Tina  2017          45\n",
              "sixteen        Tina  2018          76\n",
              "seventeen      Tina  2019          69\n",
              "eighteen      Menna  2017          70\n",
              "nineteen      Menna  2018          78\n",
              "twenty        Menna  2019          89\n",
              "twentyone       Sam  2017          87\n",
              "twentytwo       Sam  2018          96\n",
              "twentythree     Sam  2019          69\n",
              "twentyfour     Mike  2017          80\n",
              "twentyfive     Mike  2018          78\n",
              "twentysix      Mike  2019          75\n",
              "twentyseven  Harvey  2017          65\n",
              "twentyeight  Harvey  2018          67\n",
              "twentynine   Harvey  2019          87"
            ]
          },
          "metadata": {
            "tags": []
          },
          "execution_count": 32
        }
      ]
    },
    {
      "cell_type": "markdown",
      "metadata": {
        "id": "BLKF9_OCmMNJ"
      },
      "source": [
        "(d) Add a grade column with no values\n"
      ]
    },
    {
      "cell_type": "code",
      "metadata": {
        "colab": {
          "base_uri": "https://localhost:8080/",
          "height": 935
        },
        "id": "uHaq8qbLmGPQ",
        "outputId": "6fc7c41e-842c-4fe6-8f52-d6070f8e7b6e"
      },
      "source": [
        "record = pd.DataFrame(rdata, columns=['Name', 'Year', 'Percentage', 'Grade'])\n",
        "record"
      ],
      "execution_count": null,
      "outputs": [
        {
          "output_type": "execute_result",
          "data": {
            "text/html": [
              "<div>\n",
              "<style scoped>\n",
              "    .dataframe tbody tr th:only-of-type {\n",
              "        vertical-align: middle;\n",
              "    }\n",
              "\n",
              "    .dataframe tbody tr th {\n",
              "        vertical-align: top;\n",
              "    }\n",
              "\n",
              "    .dataframe thead th {\n",
              "        text-align: right;\n",
              "    }\n",
              "</style>\n",
              "<table border=\"1\" class=\"dataframe\">\n",
              "  <thead>\n",
              "    <tr style=\"text-align: right;\">\n",
              "      <th></th>\n",
              "      <th>Name</th>\n",
              "      <th>Year</th>\n",
              "      <th>Percentage</th>\n",
              "      <th>Grade</th>\n",
              "    </tr>\n",
              "  </thead>\n",
              "  <tbody>\n",
              "    <tr>\n",
              "      <th>0</th>\n",
              "      <td>Ram</td>\n",
              "      <td>2017</td>\n",
              "      <td>75</td>\n",
              "      <td>NaN</td>\n",
              "    </tr>\n",
              "    <tr>\n",
              "      <th>1</th>\n",
              "      <td>Ram</td>\n",
              "      <td>2018</td>\n",
              "      <td>45</td>\n",
              "      <td>NaN</td>\n",
              "    </tr>\n",
              "    <tr>\n",
              "      <th>2</th>\n",
              "      <td>Ram</td>\n",
              "      <td>2019</td>\n",
              "      <td>68</td>\n",
              "      <td>NaN</td>\n",
              "    </tr>\n",
              "    <tr>\n",
              "      <th>3</th>\n",
              "      <td>Shyam</td>\n",
              "      <td>2017</td>\n",
              "      <td>83</td>\n",
              "      <td>NaN</td>\n",
              "    </tr>\n",
              "    <tr>\n",
              "      <th>4</th>\n",
              "      <td>Shyam</td>\n",
              "      <td>2018</td>\n",
              "      <td>42</td>\n",
              "      <td>NaN</td>\n",
              "    </tr>\n",
              "    <tr>\n",
              "      <th>5</th>\n",
              "      <td>Shyam</td>\n",
              "      <td>2019</td>\n",
              "      <td>54</td>\n",
              "      <td>NaN</td>\n",
              "    </tr>\n",
              "    <tr>\n",
              "      <th>6</th>\n",
              "      <td>Jake</td>\n",
              "      <td>2017</td>\n",
              "      <td>98</td>\n",
              "      <td>NaN</td>\n",
              "    </tr>\n",
              "    <tr>\n",
              "      <th>7</th>\n",
              "      <td>Jake</td>\n",
              "      <td>2018</td>\n",
              "      <td>76</td>\n",
              "      <td>NaN</td>\n",
              "    </tr>\n",
              "    <tr>\n",
              "      <th>8</th>\n",
              "      <td>Jake</td>\n",
              "      <td>2019</td>\n",
              "      <td>67</td>\n",
              "      <td>NaN</td>\n",
              "    </tr>\n",
              "    <tr>\n",
              "      <th>9</th>\n",
              "      <td>Fake</td>\n",
              "      <td>2017</td>\n",
              "      <td>67</td>\n",
              "      <td>NaN</td>\n",
              "    </tr>\n",
              "    <tr>\n",
              "      <th>10</th>\n",
              "      <td>Fake</td>\n",
              "      <td>2018</td>\n",
              "      <td>44</td>\n",
              "      <td>NaN</td>\n",
              "    </tr>\n",
              "    <tr>\n",
              "      <th>11</th>\n",
              "      <td>Fake</td>\n",
              "      <td>2019</td>\n",
              "      <td>33</td>\n",
              "      <td>NaN</td>\n",
              "    </tr>\n",
              "    <tr>\n",
              "      <th>12</th>\n",
              "      <td>Gina</td>\n",
              "      <td>2017</td>\n",
              "      <td>98</td>\n",
              "      <td>NaN</td>\n",
              "    </tr>\n",
              "    <tr>\n",
              "      <th>13</th>\n",
              "      <td>Gina</td>\n",
              "      <td>2018</td>\n",
              "      <td>60</td>\n",
              "      <td>NaN</td>\n",
              "    </tr>\n",
              "    <tr>\n",
              "      <th>14</th>\n",
              "      <td>Gina</td>\n",
              "      <td>2019</td>\n",
              "      <td>75</td>\n",
              "      <td>NaN</td>\n",
              "    </tr>\n",
              "    <tr>\n",
              "      <th>15</th>\n",
              "      <td>Tina</td>\n",
              "      <td>2017</td>\n",
              "      <td>45</td>\n",
              "      <td>NaN</td>\n",
              "    </tr>\n",
              "    <tr>\n",
              "      <th>16</th>\n",
              "      <td>Tina</td>\n",
              "      <td>2018</td>\n",
              "      <td>76</td>\n",
              "      <td>NaN</td>\n",
              "    </tr>\n",
              "    <tr>\n",
              "      <th>17</th>\n",
              "      <td>Tina</td>\n",
              "      <td>2019</td>\n",
              "      <td>69</td>\n",
              "      <td>NaN</td>\n",
              "    </tr>\n",
              "    <tr>\n",
              "      <th>18</th>\n",
              "      <td>Menna</td>\n",
              "      <td>2017</td>\n",
              "      <td>70</td>\n",
              "      <td>NaN</td>\n",
              "    </tr>\n",
              "    <tr>\n",
              "      <th>19</th>\n",
              "      <td>Menna</td>\n",
              "      <td>2018</td>\n",
              "      <td>78</td>\n",
              "      <td>NaN</td>\n",
              "    </tr>\n",
              "    <tr>\n",
              "      <th>20</th>\n",
              "      <td>Menna</td>\n",
              "      <td>2019</td>\n",
              "      <td>89</td>\n",
              "      <td>NaN</td>\n",
              "    </tr>\n",
              "    <tr>\n",
              "      <th>21</th>\n",
              "      <td>Sam</td>\n",
              "      <td>2017</td>\n",
              "      <td>87</td>\n",
              "      <td>NaN</td>\n",
              "    </tr>\n",
              "    <tr>\n",
              "      <th>22</th>\n",
              "      <td>Sam</td>\n",
              "      <td>2018</td>\n",
              "      <td>96</td>\n",
              "      <td>NaN</td>\n",
              "    </tr>\n",
              "    <tr>\n",
              "      <th>23</th>\n",
              "      <td>Sam</td>\n",
              "      <td>2019</td>\n",
              "      <td>69</td>\n",
              "      <td>NaN</td>\n",
              "    </tr>\n",
              "    <tr>\n",
              "      <th>24</th>\n",
              "      <td>Mike</td>\n",
              "      <td>2017</td>\n",
              "      <td>80</td>\n",
              "      <td>NaN</td>\n",
              "    </tr>\n",
              "    <tr>\n",
              "      <th>25</th>\n",
              "      <td>Mike</td>\n",
              "      <td>2018</td>\n",
              "      <td>78</td>\n",
              "      <td>NaN</td>\n",
              "    </tr>\n",
              "    <tr>\n",
              "      <th>26</th>\n",
              "      <td>Mike</td>\n",
              "      <td>2019</td>\n",
              "      <td>75</td>\n",
              "      <td>NaN</td>\n",
              "    </tr>\n",
              "    <tr>\n",
              "      <th>27</th>\n",
              "      <td>Harvey</td>\n",
              "      <td>2017</td>\n",
              "      <td>65</td>\n",
              "      <td>NaN</td>\n",
              "    </tr>\n",
              "    <tr>\n",
              "      <th>28</th>\n",
              "      <td>Harvey</td>\n",
              "      <td>2018</td>\n",
              "      <td>67</td>\n",
              "      <td>NaN</td>\n",
              "    </tr>\n",
              "    <tr>\n",
              "      <th>29</th>\n",
              "      <td>Harvey</td>\n",
              "      <td>2019</td>\n",
              "      <td>87</td>\n",
              "      <td>NaN</td>\n",
              "    </tr>\n",
              "  </tbody>\n",
              "</table>\n",
              "</div>"
            ],
            "text/plain": [
              "      Name  Year  Percentage Grade\n",
              "0      Ram  2017          75   NaN\n",
              "1      Ram  2018          45   NaN\n",
              "2      Ram  2019          68   NaN\n",
              "3    Shyam  2017          83   NaN\n",
              "4    Shyam  2018          42   NaN\n",
              "5    Shyam  2019          54   NaN\n",
              "6     Jake  2017          98   NaN\n",
              "7     Jake  2018          76   NaN\n",
              "8     Jake  2019          67   NaN\n",
              "9     Fake  2017          67   NaN\n",
              "10    Fake  2018          44   NaN\n",
              "11    Fake  2019          33   NaN\n",
              "12    Gina  2017          98   NaN\n",
              "13    Gina  2018          60   NaN\n",
              "14    Gina  2019          75   NaN\n",
              "15    Tina  2017          45   NaN\n",
              "16    Tina  2018          76   NaN\n",
              "17    Tina  2019          69   NaN\n",
              "18   Menna  2017          70   NaN\n",
              "19   Menna  2018          78   NaN\n",
              "20   Menna  2019          89   NaN\n",
              "21     Sam  2017          87   NaN\n",
              "22     Sam  2018          96   NaN\n",
              "23     Sam  2019          69   NaN\n",
              "24    Mike  2017          80   NaN\n",
              "25    Mike  2018          78   NaN\n",
              "26    Mike  2019          75   NaN\n",
              "27  Harvey  2017          65   NaN\n",
              "28  Harvey  2018          67   NaN\n",
              "29  Harvey  2019          87   NaN"
            ]
          },
          "metadata": {
            "tags": []
          },
          "execution_count": 33
        }
      ]
    },
    {
      "cell_type": "markdown",
      "metadata": {
        "id": "IwVKoioMmVAR"
      },
      "source": [
        "(e) Display the student details only for the year 2018"
      ]
    },
    {
      "cell_type": "code",
      "metadata": {
        "colab": {
          "base_uri": "https://localhost:8080/",
          "height": 343
        },
        "id": "qcu3BHoQmPOs",
        "outputId": "5c82577e-782e-417c-9e2a-aa77935202c1"
      },
      "source": [
        "record[record['Year']==2018]"
      ],
      "execution_count": null,
      "outputs": [
        {
          "output_type": "execute_result",
          "data": {
            "text/html": [
              "<div>\n",
              "<style scoped>\n",
              "    .dataframe tbody tr th:only-of-type {\n",
              "        vertical-align: middle;\n",
              "    }\n",
              "\n",
              "    .dataframe tbody tr th {\n",
              "        vertical-align: top;\n",
              "    }\n",
              "\n",
              "    .dataframe thead th {\n",
              "        text-align: right;\n",
              "    }\n",
              "</style>\n",
              "<table border=\"1\" class=\"dataframe\">\n",
              "  <thead>\n",
              "    <tr style=\"text-align: right;\">\n",
              "      <th></th>\n",
              "      <th>Name</th>\n",
              "      <th>Year</th>\n",
              "      <th>Percentage</th>\n",
              "      <th>Grade</th>\n",
              "    </tr>\n",
              "  </thead>\n",
              "  <tbody>\n",
              "    <tr>\n",
              "      <th>1</th>\n",
              "      <td>Ram</td>\n",
              "      <td>2018</td>\n",
              "      <td>45</td>\n",
              "      <td>NaN</td>\n",
              "    </tr>\n",
              "    <tr>\n",
              "      <th>4</th>\n",
              "      <td>Shyam</td>\n",
              "      <td>2018</td>\n",
              "      <td>42</td>\n",
              "      <td>NaN</td>\n",
              "    </tr>\n",
              "    <tr>\n",
              "      <th>7</th>\n",
              "      <td>Jake</td>\n",
              "      <td>2018</td>\n",
              "      <td>76</td>\n",
              "      <td>NaN</td>\n",
              "    </tr>\n",
              "    <tr>\n",
              "      <th>10</th>\n",
              "      <td>Fake</td>\n",
              "      <td>2018</td>\n",
              "      <td>44</td>\n",
              "      <td>NaN</td>\n",
              "    </tr>\n",
              "    <tr>\n",
              "      <th>13</th>\n",
              "      <td>Gina</td>\n",
              "      <td>2018</td>\n",
              "      <td>60</td>\n",
              "      <td>NaN</td>\n",
              "    </tr>\n",
              "    <tr>\n",
              "      <th>16</th>\n",
              "      <td>Tina</td>\n",
              "      <td>2018</td>\n",
              "      <td>76</td>\n",
              "      <td>NaN</td>\n",
              "    </tr>\n",
              "    <tr>\n",
              "      <th>19</th>\n",
              "      <td>Menna</td>\n",
              "      <td>2018</td>\n",
              "      <td>78</td>\n",
              "      <td>NaN</td>\n",
              "    </tr>\n",
              "    <tr>\n",
              "      <th>22</th>\n",
              "      <td>Sam</td>\n",
              "      <td>2018</td>\n",
              "      <td>96</td>\n",
              "      <td>NaN</td>\n",
              "    </tr>\n",
              "    <tr>\n",
              "      <th>25</th>\n",
              "      <td>Mike</td>\n",
              "      <td>2018</td>\n",
              "      <td>78</td>\n",
              "      <td>NaN</td>\n",
              "    </tr>\n",
              "    <tr>\n",
              "      <th>28</th>\n",
              "      <td>Harvey</td>\n",
              "      <td>2018</td>\n",
              "      <td>67</td>\n",
              "      <td>NaN</td>\n",
              "    </tr>\n",
              "  </tbody>\n",
              "</table>\n",
              "</div>"
            ],
            "text/plain": [
              "      Name  Year  Percentage Grade\n",
              "1      Ram  2018          45   NaN\n",
              "4    Shyam  2018          42   NaN\n",
              "7     Jake  2018          76   NaN\n",
              "10    Fake  2018          44   NaN\n",
              "13    Gina  2018          60   NaN\n",
              "16    Tina  2018          76   NaN\n",
              "19   Menna  2018          78   NaN\n",
              "22     Sam  2018          96   NaN\n",
              "25    Mike  2018          78   NaN\n",
              "28  Harvey  2018          67   NaN"
            ]
          },
          "metadata": {
            "tags": []
          },
          "execution_count": 34
        }
      ]
    },
    {
      "cell_type": "markdown",
      "metadata": {
        "id": "Qa_UNDzVmc24"
      },
      "source": [
        "(f) Display the student details having more than 75% marks in any year"
      ]
    },
    {
      "cell_type": "code",
      "metadata": {
        "colab": {
          "base_uri": "https://localhost:8080/",
          "height": 402
        },
        "id": "emCKiEg6mbp1",
        "outputId": "d231bacc-ac7d-4257-e37c-9dff212805bd"
      },
      "source": [
        "record[record.Percentage>75]"
      ],
      "execution_count": null,
      "outputs": [
        {
          "output_type": "execute_result",
          "data": {
            "text/html": [
              "<div>\n",
              "<style scoped>\n",
              "    .dataframe tbody tr th:only-of-type {\n",
              "        vertical-align: middle;\n",
              "    }\n",
              "\n",
              "    .dataframe tbody tr th {\n",
              "        vertical-align: top;\n",
              "    }\n",
              "\n",
              "    .dataframe thead th {\n",
              "        text-align: right;\n",
              "    }\n",
              "</style>\n",
              "<table border=\"1\" class=\"dataframe\">\n",
              "  <thead>\n",
              "    <tr style=\"text-align: right;\">\n",
              "      <th></th>\n",
              "      <th>Name</th>\n",
              "      <th>Year</th>\n",
              "      <th>Percentage</th>\n",
              "      <th>Grade</th>\n",
              "    </tr>\n",
              "  </thead>\n",
              "  <tbody>\n",
              "    <tr>\n",
              "      <th>3</th>\n",
              "      <td>Shyam</td>\n",
              "      <td>2017</td>\n",
              "      <td>83</td>\n",
              "      <td>NaN</td>\n",
              "    </tr>\n",
              "    <tr>\n",
              "      <th>6</th>\n",
              "      <td>Jake</td>\n",
              "      <td>2017</td>\n",
              "      <td>98</td>\n",
              "      <td>NaN</td>\n",
              "    </tr>\n",
              "    <tr>\n",
              "      <th>7</th>\n",
              "      <td>Jake</td>\n",
              "      <td>2018</td>\n",
              "      <td>76</td>\n",
              "      <td>NaN</td>\n",
              "    </tr>\n",
              "    <tr>\n",
              "      <th>12</th>\n",
              "      <td>Gina</td>\n",
              "      <td>2017</td>\n",
              "      <td>98</td>\n",
              "      <td>NaN</td>\n",
              "    </tr>\n",
              "    <tr>\n",
              "      <th>16</th>\n",
              "      <td>Tina</td>\n",
              "      <td>2018</td>\n",
              "      <td>76</td>\n",
              "      <td>NaN</td>\n",
              "    </tr>\n",
              "    <tr>\n",
              "      <th>19</th>\n",
              "      <td>Menna</td>\n",
              "      <td>2018</td>\n",
              "      <td>78</td>\n",
              "      <td>NaN</td>\n",
              "    </tr>\n",
              "    <tr>\n",
              "      <th>20</th>\n",
              "      <td>Menna</td>\n",
              "      <td>2019</td>\n",
              "      <td>89</td>\n",
              "      <td>NaN</td>\n",
              "    </tr>\n",
              "    <tr>\n",
              "      <th>21</th>\n",
              "      <td>Sam</td>\n",
              "      <td>2017</td>\n",
              "      <td>87</td>\n",
              "      <td>NaN</td>\n",
              "    </tr>\n",
              "    <tr>\n",
              "      <th>22</th>\n",
              "      <td>Sam</td>\n",
              "      <td>2018</td>\n",
              "      <td>96</td>\n",
              "      <td>NaN</td>\n",
              "    </tr>\n",
              "    <tr>\n",
              "      <th>24</th>\n",
              "      <td>Mike</td>\n",
              "      <td>2017</td>\n",
              "      <td>80</td>\n",
              "      <td>NaN</td>\n",
              "    </tr>\n",
              "    <tr>\n",
              "      <th>25</th>\n",
              "      <td>Mike</td>\n",
              "      <td>2018</td>\n",
              "      <td>78</td>\n",
              "      <td>NaN</td>\n",
              "    </tr>\n",
              "    <tr>\n",
              "      <th>29</th>\n",
              "      <td>Harvey</td>\n",
              "      <td>2019</td>\n",
              "      <td>87</td>\n",
              "      <td>NaN</td>\n",
              "    </tr>\n",
              "  </tbody>\n",
              "</table>\n",
              "</div>"
            ],
            "text/plain": [
              "      Name  Year  Percentage Grade\n",
              "3    Shyam  2017          83   NaN\n",
              "6     Jake  2017          98   NaN\n",
              "7     Jake  2018          76   NaN\n",
              "12    Gina  2017          98   NaN\n",
              "16    Tina  2018          76   NaN\n",
              "19   Menna  2018          78   NaN\n",
              "20   Menna  2019          89   NaN\n",
              "21     Sam  2017          87   NaN\n",
              "22     Sam  2018          96   NaN\n",
              "24    Mike  2017          80   NaN\n",
              "25    Mike  2018          78   NaN\n",
              "29  Harvey  2019          87   NaN"
            ]
          },
          "metadata": {
            "tags": []
          },
          "execution_count": 35
        }
      ]
    },
    {
      "cell_type": "markdown",
      "metadata": {
        "id": "2op6iPc9mk6g"
      },
      "source": [
        "(g) Find the transpose of the dataframe\n"
      ]
    },
    {
      "cell_type": "code",
      "metadata": {
        "colab": {
          "base_uri": "https://localhost:8080/",
          "height": 186
        },
        "id": "oNhAfYXKmkXE",
        "outputId": "f8875ed7-7b0f-447e-c88f-297170a8b386"
      },
      "source": [
        "record.T"
      ],
      "execution_count": null,
      "outputs": [
        {
          "output_type": "execute_result",
          "data": {
            "text/html": [
              "<div>\n",
              "<style scoped>\n",
              "    .dataframe tbody tr th:only-of-type {\n",
              "        vertical-align: middle;\n",
              "    }\n",
              "\n",
              "    .dataframe tbody tr th {\n",
              "        vertical-align: top;\n",
              "    }\n",
              "\n",
              "    .dataframe thead th {\n",
              "        text-align: right;\n",
              "    }\n",
              "</style>\n",
              "<table border=\"1\" class=\"dataframe\">\n",
              "  <thead>\n",
              "    <tr style=\"text-align: right;\">\n",
              "      <th></th>\n",
              "      <th>0</th>\n",
              "      <th>1</th>\n",
              "      <th>2</th>\n",
              "      <th>3</th>\n",
              "      <th>4</th>\n",
              "      <th>5</th>\n",
              "      <th>6</th>\n",
              "      <th>7</th>\n",
              "      <th>8</th>\n",
              "      <th>9</th>\n",
              "      <th>10</th>\n",
              "      <th>11</th>\n",
              "      <th>12</th>\n",
              "      <th>13</th>\n",
              "      <th>14</th>\n",
              "      <th>15</th>\n",
              "      <th>16</th>\n",
              "      <th>17</th>\n",
              "      <th>18</th>\n",
              "      <th>19</th>\n",
              "      <th>20</th>\n",
              "      <th>21</th>\n",
              "      <th>22</th>\n",
              "      <th>23</th>\n",
              "      <th>24</th>\n",
              "      <th>25</th>\n",
              "      <th>26</th>\n",
              "      <th>27</th>\n",
              "      <th>28</th>\n",
              "      <th>29</th>\n",
              "    </tr>\n",
              "  </thead>\n",
              "  <tbody>\n",
              "    <tr>\n",
              "      <th>Name</th>\n",
              "      <td>Ram</td>\n",
              "      <td>Ram</td>\n",
              "      <td>Ram</td>\n",
              "      <td>Shyam</td>\n",
              "      <td>Shyam</td>\n",
              "      <td>Shyam</td>\n",
              "      <td>Jake</td>\n",
              "      <td>Jake</td>\n",
              "      <td>Jake</td>\n",
              "      <td>Fake</td>\n",
              "      <td>Fake</td>\n",
              "      <td>Fake</td>\n",
              "      <td>Gina</td>\n",
              "      <td>Gina</td>\n",
              "      <td>Gina</td>\n",
              "      <td>Tina</td>\n",
              "      <td>Tina</td>\n",
              "      <td>Tina</td>\n",
              "      <td>Menna</td>\n",
              "      <td>Menna</td>\n",
              "      <td>Menna</td>\n",
              "      <td>Sam</td>\n",
              "      <td>Sam</td>\n",
              "      <td>Sam</td>\n",
              "      <td>Mike</td>\n",
              "      <td>Mike</td>\n",
              "      <td>Mike</td>\n",
              "      <td>Harvey</td>\n",
              "      <td>Harvey</td>\n",
              "      <td>Harvey</td>\n",
              "    </tr>\n",
              "    <tr>\n",
              "      <th>Year</th>\n",
              "      <td>2017</td>\n",
              "      <td>2018</td>\n",
              "      <td>2019</td>\n",
              "      <td>2017</td>\n",
              "      <td>2018</td>\n",
              "      <td>2019</td>\n",
              "      <td>2017</td>\n",
              "      <td>2018</td>\n",
              "      <td>2019</td>\n",
              "      <td>2017</td>\n",
              "      <td>2018</td>\n",
              "      <td>2019</td>\n",
              "      <td>2017</td>\n",
              "      <td>2018</td>\n",
              "      <td>2019</td>\n",
              "      <td>2017</td>\n",
              "      <td>2018</td>\n",
              "      <td>2019</td>\n",
              "      <td>2017</td>\n",
              "      <td>2018</td>\n",
              "      <td>2019</td>\n",
              "      <td>2017</td>\n",
              "      <td>2018</td>\n",
              "      <td>2019</td>\n",
              "      <td>2017</td>\n",
              "      <td>2018</td>\n",
              "      <td>2019</td>\n",
              "      <td>2017</td>\n",
              "      <td>2018</td>\n",
              "      <td>2019</td>\n",
              "    </tr>\n",
              "    <tr>\n",
              "      <th>Percentage</th>\n",
              "      <td>75</td>\n",
              "      <td>45</td>\n",
              "      <td>68</td>\n",
              "      <td>83</td>\n",
              "      <td>42</td>\n",
              "      <td>54</td>\n",
              "      <td>98</td>\n",
              "      <td>76</td>\n",
              "      <td>67</td>\n",
              "      <td>67</td>\n",
              "      <td>44</td>\n",
              "      <td>33</td>\n",
              "      <td>98</td>\n",
              "      <td>60</td>\n",
              "      <td>75</td>\n",
              "      <td>45</td>\n",
              "      <td>76</td>\n",
              "      <td>69</td>\n",
              "      <td>70</td>\n",
              "      <td>78</td>\n",
              "      <td>89</td>\n",
              "      <td>87</td>\n",
              "      <td>96</td>\n",
              "      <td>69</td>\n",
              "      <td>80</td>\n",
              "      <td>78</td>\n",
              "      <td>75</td>\n",
              "      <td>65</td>\n",
              "      <td>67</td>\n",
              "      <td>87</td>\n",
              "    </tr>\n",
              "    <tr>\n",
              "      <th>Grade</th>\n",
              "      <td>NaN</td>\n",
              "      <td>NaN</td>\n",
              "      <td>NaN</td>\n",
              "      <td>NaN</td>\n",
              "      <td>NaN</td>\n",
              "      <td>NaN</td>\n",
              "      <td>NaN</td>\n",
              "      <td>NaN</td>\n",
              "      <td>NaN</td>\n",
              "      <td>NaN</td>\n",
              "      <td>NaN</td>\n",
              "      <td>NaN</td>\n",
              "      <td>NaN</td>\n",
              "      <td>NaN</td>\n",
              "      <td>NaN</td>\n",
              "      <td>NaN</td>\n",
              "      <td>NaN</td>\n",
              "      <td>NaN</td>\n",
              "      <td>NaN</td>\n",
              "      <td>NaN</td>\n",
              "      <td>NaN</td>\n",
              "      <td>NaN</td>\n",
              "      <td>NaN</td>\n",
              "      <td>NaN</td>\n",
              "      <td>NaN</td>\n",
              "      <td>NaN</td>\n",
              "      <td>NaN</td>\n",
              "      <td>NaN</td>\n",
              "      <td>NaN</td>\n",
              "      <td>NaN</td>\n",
              "    </tr>\n",
              "  </tbody>\n",
              "</table>\n",
              "</div>"
            ],
            "text/plain": [
              "              0     1     2      3      4   ...    25    26      27      28      29\n",
              "Name         Ram   Ram   Ram  Shyam  Shyam  ...  Mike  Mike  Harvey  Harvey  Harvey\n",
              "Year        2017  2018  2019   2017   2018  ...  2018  2019    2017    2018    2019\n",
              "Percentage    75    45    68     83     42  ...    78    75      65      67      87\n",
              "Grade        NaN   NaN   NaN    NaN    NaN  ...   NaN   NaN     NaN     NaN     NaN\n",
              "\n",
              "[4 rows x 30 columns]"
            ]
          },
          "metadata": {
            "tags": []
          },
          "execution_count": 36
        }
      ]
    },
    {
      "cell_type": "markdown",
      "metadata": {
        "id": "7lwomFlCmzRY"
      },
      "source": [
        "3) Explain the GROUPBY feature with 3 examples."
      ]
    },
    {
      "cell_type": "markdown",
      "metadata": {
        "id": "oAXLTDa6qCXo"
      },
      "source": [
        "**Group By Operation :**\n",
        "A groupby operation involves some combination of splitting the object, applying a function, and combining the results. This can be used to group large amounts of data and compute operations on these groups.\n",
        "\n",
        "Illustration of Group By Mechanics :\n",
        "\n",
        "![Capture.JPG](data:image/jpeg;base64,/9j/4AAQSkZJRgABAQEAeAB4AAD/4RDgRXhpZgAATU0AKgAAAAgABAE7AAIAAAAHAAAISodpAAQAAAABAAAIUpydAAEAAAAOAAAQyuocAAcAAAgMAAAAPgAAAAAc6gAAAAgAAAAAAAAAAAAAAAAAAAAAAAAAAAAAAAAAAAAAAAAAAAAAAAAAAAAAAAAAAAAAAAAAAAAAAAAAAAAAAAAAAAAAAAAAAAAAAAAAAAAAAAAAAAAAAAAAAAAAAAAAAAAAAAAAAAAAAAAAAAAAAAAAAAAAAAAAAAAAAAAAAAAAAAAAAAAAAAAAAAAAAAAAAAAAAAAAAAAAAAAAAAAAAAAAAAAAAAAAAAAAAAAAAAAAAAAAAAAAAAAAAAAAAAAAAAAAAAAAAAAAAAAAAAAAAAAAAAAAAAAAAAAAAAAAAAAAAAAAAAAAAAAAAAAAAAAAAAAAAAAAAAAAAAAAAAAAAAAAAAAAAAAAAAAAAAAAAAAAAAAAAAAAAAAAAAAAAAAAAAAAAAAAAAAAAAAAAAAAAAAAAAAAAAAAAAAAAAAAAAAAAAAAAAAAAAAAAAAAAAAAAAAAAAAAAAAAAAAAAAAAAAAAAAAAAAAAAAAAAAAAAAAAAAAAAAAAAAAAAAAAAAAAAAAAAAAAAAAAAAAAAAAAAAAAAAAAAAAAAAAAAAAAAAAAAAAAAAAAAAAAAAAAAAAAAAAAAAAAAAAAAAAAAAAAAAAAAAAAAAAAAAAAAAAAAAAAAAAAAAAAAAAAAAAAAAAAAAAAAAAAAAAAAAAAAAAAAAAAAAAAAAAAAAAAAAAAAAAAAAAAAAAAAAAAAAAAAAAAAAAAAAAAAAAAAAAAAAAAAAAAAAAAAAAAAAAAAAAAAAAAAAAAAAAAAAAAAAAAAAAAAAAAAAAAAAAAAAAAAAAAAAAAAAAAAAAAAAAAAAAAAAAAAAAAAAAAAAAAAAAAAAAAAAAAAAAAAAAAAAAAAAAAAAAAAAAAAAAAAAAAAAAAAAAAAAAAAAAAAAAAAAAAAAAAAAAAAAAAAAAAAAAAAAAAAAAAAAAAAAAAAAAAAAAAAAAAAAAAAAAAAAAAAAAAAAAAAAAAAAAAAAAAAAAAAAAAAAAAAAAAAAAAAAAAAAAAAAAAAAAAAAAAAAAAAAAAAAAAAAAAAAAAAAAAAAAAAAAAAAAAAAAAAAAAAAAAAAAAAAAAAAAAAAAAAAAAAAAAAAAAAAAAAAAAAAAAAAAAAAAAAAAAAAAAAAAAAAAAAAAAAAAAAAAAAAAAAAAAAAAAAAAAAAAAAAAAAAAAAAAAAAAAAAAAAAAAAAAAAAAAAAAAAAAAAAAAAAAAAAAAAAAAAAAAAAAAAAAAAAAAAAAAAAAAAAAAAAAAAAAAAAAAAAAAAAAAAAAAAAAAAAAAAAAAAAAAAAAAAAAAAAAAAAAAAAAAAAAAAAAAAAAAAAAAAAAAAAAAAAAAAAAAAAAAAAAAAAAAAAAAAAAAAAAAAAAAAAAAAAAAAAAAAAAAAAAAAAAAAAAAAAAAAAAAAAAAAAAAAAAAAAAAAAAAAAAAAAAAAAAAAAAAAAAAAAAAAAAAAAAAAAAAAAAAAAAAAAAAAAAAAAAAAAAAAAAAAAAAAAAAAAAAAAAAAAAAAAAAAAAAAAAAAAAAAAAAAAAAAAAAAAAAAAAAAAAAAAAAAAAAAAAAAAAAAAAAAAAAAAAAAAAAAAAAAAAAAAAAAAAAAAAAAAAAAAAAAAAAAAAAAAAAAAAAAAAAAAAAAAAAAAAAAAAAAAAAAAAAAAAAAAAAAAAAAAAAAAAAAAAAAAAAAAAAAAAAAAAAAAAAAAAAAAAAAAAAAAAAAAAAAAAAAAAAAAAAAAAAAAAAAAAAAAAAAAAAAAAAAAAAAAAAAAAAAAAAAAAAAAAAAAAAAAAAAAAAAAAAAAAAAAAAAAAAAAAAAAAAAAAAAAAAAAAAAAAAAAAAAAAAAAAAAAAAAAAAAAAAAAAAAAAAAAAAAAAAAAAAAAAAAAAAAAAAAAAAAAAAAAAAAAAAAAAAAAAAAAAAAAAAAAAAAAAAAAAAAAAAAAAAAAAAAAAAAAAAAAAAAAAAAAAAAAAAAAAAAAAAAAAAAAAAAAAAAAAAAAAAAAAAAAAAAAAAAAAAAAAAAAAAAAAAAAAAAAAAAAAAAAAAAAAAAAAAAAAAAAAAAAAAAAAAAAAAAAAAAAAAAAAAAAAAAAAAAAAAAAAAAAAAAAAAAAAAAAAAAAAAAAAAAAAAAAAAAAAAAAAAAAAAAAAAAAAAAAAAAAAAAAAAAAAAAAAAAAAAAAAAAAAAAAAAAAAAAAAAAAAAAAAAAAAAAAAAAAAAAAAAAAAAAAAAAAAAAAAAAAAAAAAAAAAAAAAAAAAAAAAAAAAAAAAAAAAAAAAAAAAAAAAAAAAAAAAAAAAAAAAAAAAAAAAAAAAAAAAAAAAAAAAAAAAAAAAAAAAAAAAAAAAAAAAAAAAAAAAAAAAAAAAAAAAAAAAAAAAAAAAAAAAAAAAAAAAAAAAAAAAAAAAAAAAAAAAAAAAAAAAAAAAAAAAAAAAAAAAAAAAAAAAAAAAAAAAAAAAAAAAAAAAAAAAAAAAAAAAAAAAAAAAAAAAAAAAAAAAAAAAAAAAAAAAAAAAAAAAAAAAAAAAAAAAAAAAAAAAAAAAAAAAAAAAAAAAAAAAAAAAAAAAAAAAAAAAAAAAAAAAAAAAAAAAAAAAAAAAAAAAAAAAAAAAAAAAAAAAAAAAAAAAAAAAAAAAAAAAAAAAAAAAAAAAAAAAAAAAAAAAAAAAAAAAAAAAAAAAAAAAAAAAAAAAAAAAAAAAAAAAAAAAAAAAAAAAAAAAAAAAAAAAAAAAAAAAAAAAAAAAAAAAAAAAAAAAAAAAAAAAAAEFuaSBLLgAAAAWQAwACAAAAFAAAEKCQBAACAAAAFAAAELSSkQACAAAAAzA2AACSkgACAAAAAzA2AADqHAAHAAAIDAAACJQAAAAAHOoAAAAIAAAAAAAAAAAAAAAAAAAAAAAAAAAAAAAAAAAAAAAAAAAAAAAAAAAAAAAAAAAAAAAAAAAAAAAAAAAAAAAAAAAAAAAAAAAAAAAAAAAAAAAAAAAAAAAAAAAAAAAAAAAAAAAAAAAAAAAAAAAAAAAAAAAAAAAAAAAAAAAAAAAAAAAAAAAAAAAAAAAAAAAAAAAAAAAAAAAAAAAAAAAAAAAAAAAAAAAAAAAAAAAAAAAAAAAAAAAAAAAAAAAAAAAAAAAAAAAAAAAAAAAAAAAAAAAAAAAAAAAAAAAAAAAAAAAAAAAAAAAAAAAAAAAAAAAAAAAAAAAAAAAAAAAAAAAAAAAAAAAAAAAAAAAAAAAAAAAAAAAAAAAAAAAAAAAAAAAAAAAAAAAAAAAAAAAAAAAAAAAAAAAAAAAAAAAAAAAAAAAAAAAAAAAAAAAAAAAAAAAAAAAAAAAAAAAAAAAAAAAAAAAAAAAAAAAAAAAAAAAAAAAAAAAAAAAAAAAAAAAAAAAAAAAAAAAAAAAAAAAAAAAAAAAAAAAAAAAAAAAAAAAAAAAAAAAAAAAAAAAAAAAAAAAAAAAAAAAAAAAAAAAAAAAAAAAAAAAAAAAAAAAAAAAAAAAAAAAAAAAAAAAAAAAAAAAAAAAAAAAAAAAAAAAAAAAAAAAAAAAAAAAAAAAAAAAAAAAAAAAAAAAAAAAAAAAAAAAAAAAAAAAAAAAAAAAAAAAAAAAAAAAAAAAAAAAAAAAAAAAAAAAAAAAAAAAAAAAAAAAAAAAAAAAAAAAAAAAAAAAAAAAAAAAAAAAAAAAAAAAAAAAAAAAAAAAAAAAAAAAAAAAAAAAAAAAAAAAAAAAAAAAAAAAAAAAAAAAAAAAAAAAAAAAAAAAAAAAAAAAAAAAAAAAAAAAAAAAAAAAAAAAAAAAAAAAAAAAAAAAAAAAAAAAAAAAAAAAAAAAAAAAAAAAAAAAAAAAAAAAAAAAAAAAAAAAAAAAAAAAAAAAAAAAAAAAAAAAAAAAAAAAAAAAAAAAAAAAAAAAAAAAAAAAAAAAAAAAAAAAAAAAAAAAAAAAAAAAAAAAAAAAAAAAAAAAAAAAAAAAAAAAAAAAAAAAAAAAAAAAAAAAAAAAAAAAAAAAAAAAAAAAAAAAAAAAAAAAAAAAAAAAAAAAAAAAAAAAAAAAAAAAAAAAAAAAAAAAAAAAAAAAAAAAAAAAAAAAAAAAAAAAAAAAAAAAAAAAAAAAAAAAAAAAAAAAAAAAAAAAAAAAAAAAAAAAAAAAAAAAAAAAAAAAAAAAAAAAAAAAAAAAAAAAAAAAAAAAAAAAAAAAAAAAAAAAAAAAAAAAAAAAAAAAAAAAAAAAAAAAAAAAAAAAAAAAAAAAAAAAAAAAAAAAAAAAAAAAAAAAAAAAAAAAAAAAAAAAAAAAAAAAAAAAAAAAAAAAAAAAAAAAAAAAAAAAAAAAAAAAAAAAAAAAAAAAAAAAAAAAAAAAAAAAAAAAAAAAAAAAAAAAAAAAAAAAAAAAAAAAAAAAAAAAAAAAAAAAAAAAAAAAAAAAAAAAAAAAAAAAAAAAAAAAAAAAAAAAAAAAAAAAAAAAAAAAAAAAAAAAAAAAAAAAAAAAAAAAAAAAAAAAAAAAAAAAAAAAAAAAAAAAAAAAAAAAAAAAAAAAAAAAAAAAAAAAAAAAAAAAAAAAAAAAAAAAAAAAAAAAAAAAAAAAAAAAAAAAAAAAAAAAAAAAAAAAAAAAAAAAAAAAAAAAAAAAAAAAAAAAAAAAAAAAAAAAAAAAAAAAAAAAAAAAAAAAAAAAAAAAAAAAAAAAAAAAAAAAAAAAAAAAAAAAAAAAAAAAAAAAAAAAAAAAAAAAAAAAAAAAAAAAAAAAAAAAAAAAAAAAAAAAAAAAAAAAAAAAAAAAAAAAAAAAAAAAAAAAAAAAAAAAAAAAAAAAAAAAAAAAAAAAAAAAAAAAAAAAAAAAAAAAAAAAAAAAAAAAAAAAAAAAAAAAAAAAAAAAAAAAAAAAAAAAAAAAAAAAAAAAAAAAAAAAAAAAAAAAAAAAAAAAAAAAAAAAAAAAAAAAAAAAAAAAAAAAAAAAAAAAAAAAAAAAAAAAAAAAAAAAAAAAAAAAAAAAAAAAAAAAAAAAAAAAAAAAAAAAAAAAAAAAAAAAAAAAAAAAAAAAAAAAAAAAAAAAAAAAAAAAAAAAAAAAAAAAAAAAAAAAAAAAAAAAAAAAAAAAAAAAAAAAAAAAAAAAAAAAAAAAAAAAAAAAAAAAAAAAAAAAAAAAAAAAAAAAAAAAAAAAAAAAAAAAAAAAAAAAAAAAAAAAAAAAAAAAAAAAAAAAAAAAAAAAAAAAAAAAAAAAAAAAAAAAAAAAAAAAAAAAAAAAAAAAAAAAAAAAAAAAAAAAAAAAAAAAAAAAAAAAAAAAAAAAAAAAAAAAAAAAAAAAAAAAAAAAAAAAAAAAAAAAAAAAAAAAAAAAAAAAAAAAAAAAAAAAAAAAAAAAAAAAAAAAAAAAAAAAAAAAAAAAAAAAAAAAAAAAAAAAAAAAAAAAAAAAAAAAAAAAAAAAAAAAAAAAAAAAAAAAAAAAAAAAAAAAAAAAAAAAAAAAAAAAAAAAAAAAAAAAAAAAAAAAAAAAAAAAAAAAAAAAAAAAAAAAAAAAAAAAAAAAAAAAAAAAAAAAAAAAAAAAAAAAAAAAAAAAAAAAAAAAAAAAAAAAAAAAAAAAAAAAAAAAAAAAAAAAAAAAAAAAAAAAAAAAAAAAAAAAAAAAAAAAAAAAAAAAAAAAyMDIwOjExOjMwIDExOjEyOjAyADIwMjA6MTE6MzAgMTE6MTI6MDIAAABBAG4AaQAgAEsALgAAAP/hCxlodHRwOi8vbnMuYWRvYmUuY29tL3hhcC8xLjAvADw/eHBhY2tldCBiZWdpbj0n77u/JyBpZD0nVzVNME1wQ2VoaUh6cmVTek5UY3prYzlkJz8+DQo8eDp4bXBtZXRhIHhtbG5zOng9ImFkb2JlOm5zOm1ldGEvIj48cmRmOlJERiB4bWxuczpyZGY9Imh0dHA6Ly93d3cudzMub3JnLzE5OTkvMDIvMjItcmRmLXN5bnRheC1ucyMiPjxyZGY6RGVzY3JpcHRpb24gcmRmOmFib3V0PSJ1dWlkOmZhZjViZGQ1LWJhM2QtMTFkYS1hZDMxLWQzM2Q3NTE4MmYxYiIgeG1sbnM6ZGM9Imh0dHA6Ly9wdXJsLm9yZy9kYy9lbGVtZW50cy8xLjEvIi8+PHJkZjpEZXNjcmlwdGlvbiByZGY6YWJvdXQ9InV1aWQ6ZmFmNWJkZDUtYmEzZC0xMWRhLWFkMzEtZDMzZDc1MTgyZjFiIiB4bWxuczp4bXA9Imh0dHA6Ly9ucy5hZG9iZS5jb20veGFwLzEuMC8iPjx4bXA6Q3JlYXRlRGF0ZT4yMDIwLTExLTMwVDExOjEyOjAyLjA1NTwveG1wOkNyZWF0ZURhdGU+PC9yZGY6RGVzY3JpcHRpb24+PHJkZjpEZXNjcmlwdGlvbiByZGY6YWJvdXQ9InV1aWQ6ZmFmNWJkZDUtYmEzZC0xMWRhLWFkMzEtZDMzZDc1MTgyZjFiIiB4bWxuczpkYz0iaHR0cDovL3B1cmwub3JnL2RjL2VsZW1lbnRzLzEuMS8iPjxkYzpjcmVhdG9yPjxyZGY6U2VxIHhtbG5zOnJkZj0iaHR0cDovL3d3dy53My5vcmcvMTk5OS8wMi8yMi1yZGYtc3ludGF4LW5zIyI+PHJkZjpsaT5BbmkgSy48L3JkZjpsaT48L3JkZjpTZXE+DQoJCQk8L2RjOmNyZWF0b3I+PC9yZGY6RGVzY3JpcHRpb24+PC9yZGY6UkRGPjwveDp4bXBtZXRhPg0KICAgICAgICAgICAgICAgICAgICAgICAgICAgICAgICAgICAgICAgICAgICAgICAgICAgICAgICAgICAgICAgICAgICAgICAgICAgICAgICAgICAgICAgICAgICAgICAgICAgIAogICAgICAgICAgICAgICAgICAgICAgICAgICAgICAgICAgICAgICAgICAgICAgICAgICAgICAgICAgICAgICAgICAgICAgICAgICAgICAgICAgICAgICAgICAgICAgICAgICAgCiAgICAgICAgICAgICAgICAgICAgICAgICAgICAgICAgICAgICAgICAgICAgICAgICAgICAgICAgICAgICAgICAgICAgICAgICAgICAgICAgICAgICAgICAgICAgICAgICAgICAKICAgICAgICAgICAgICAgICAgICAgICAgICAgICAgICAgICAgICAgICAgICAgICAgICAgICAgICAgICAgICAgICAgICAgICAgICAgICAgICAgICAgICAgICAgICAgICAgICAgIAogICAgICAgICAgICAgICAgICAgICAgICAgICAgICAgICAgICAgICAgICAgICAgICAgICAgICAgICAgICAgICAgICAgICAgICAgICAgICAgICAgICAgICAgICAgICAgICAgICAgCiAgICAgICAgICAgICAgICAgICAgICAgICAgICAgICAgICAgICAgICAgICAgICAgICAgICAgICAgICAgICAgICAgICAgICAgICAgICAgICAgICAgICAgICAgICAgICAgICAgICAKICAgICAgICAgICAgICAgICAgICAgICAgICAgICAgICAgICAgICAgICAgICAgICAgICAgICAgICAgICAgICAgICAgICAgICAgICAgICAgICAgICAgICAgICAgICAgICAgICAgIAogICAgICAgICAgICAgICAgICAgICAgICAgICAgICAgICAgICAgICAgICAgICAgICAgICAgICAgICAgICAgICAgICAgICAgICAgICAgICAgICAgICAgICAgICAgICAgICAgICAgCiAgICAgICAgICAgICAgICAgICAgICAgICAgICAgICAgICAgICAgICAgICAgICAgICAgICAgICAgICAgICAgICAgICAgICAgICAgICAgICAgICAgICAgICAgICAgICAgICAgICAKICAgICAgICAgICAgICAgICAgICAgICAgICAgICAgICAgICAgICAgICAgICAgICAgICAgICAgICAgICAgICAgICAgICAgICAgICAgICAgICAgICAgICAgICAgICAgICAgICAgIAogICAgICAgICAgICAgICAgICAgICAgICAgICAgICAgICAgICAgICAgICAgICAgICAgICAgICAgICAgICAgICAgICAgICAgICAgICAgICAgICAgICAgICAgICAgICAgICAgICAgCiAgICAgICAgICAgICAgICAgICAgICAgICAgICAgICAgICAgICAgICAgICAgICAgICAgICAgICAgICAgICAgICAgICAgICAgICAgICAgICAgICAgICAgICAgICAgICAgICAgICAKICAgICAgICAgICAgICAgICAgICAgICAgICAgICAgICAgICAgICAgICAgICAgICAgICAgICAgICAgICAgICAgICAgICAgICAgICAgICAgICAgICAgICAgICAgICAgICAgICAgIAogICAgICAgICAgICAgICAgICAgICAgICAgICAgICAgICAgICAgICAgICAgICAgICAgICAgICAgICAgICAgICAgICAgICAgICAgICAgICAgICAgICAgICAgICAgICAgICAgICAgCiAgICAgICAgICAgICAgICAgICAgICAgICAgICAgICAgICAgICAgICAgICAgICAgICAgICAgICAgICAgICAgICAgICAgICAgICAgICAgICAgICAgICAgICAgICAgICAgICAgICAKICAgICAgICAgICAgICAgICAgICAgICAgICAgICAgICAgICAgICAgICAgICAgICAgICAgICAgICAgICAgICAgICAgICAgICAgICAgICAgICAgICAgICAgICAgICAgICAgICAgIAogICAgICAgICAgICAgICAgICAgICAgICAgICAgICAgICAgICAgICAgICAgICAgICAgICAgICAgICAgICAgICAgICAgICAgICAgICAgICAgICAgICAgICAgICAgICAgICAgICAgCiAgICAgICAgICAgICAgICAgICAgICAgICAgICAgICAgICAgICAgICAgICAgICAgICAgICAgICAgICAgICAgICAgICAgICAgICAgICAgICAgICAgICAgICAgICAgICAgICAgICAKICAgICAgICAgICAgICAgICAgICAgICAgICAgICAgICAgICAgICAgICAgICAgICAgICAgICAgICAgICAgICAgICAgICAgICAgICAgICAgICAgICAgICAgICAgICAgICAgICAgIAogICAgICAgICAgICAgICAgICAgICAgICAgICAgICAgICAgICAgICAgICAgICAgICAgICAgICAgICAgICAgICAgICAgICAgICAgICAgICAgICAgICAgICAgICAgICAgICAgICAgCiAgICAgICAgICAgICAgICAgICAgICAgICAgICA8P3hwYWNrZXQgZW5kPSd3Jz8+/9sAQwAHBQUGBQQHBgUGCAcHCAoRCwoJCQoVDxAMERgVGhkYFRgXGx4nIRsdJR0XGCIuIiUoKSssKxogLzMvKjInKisq/9sAQwEHCAgKCQoUCwsUKhwYHCoqKioqKioqKioqKioqKioqKioqKioqKioqKioqKioqKioqKioqKioqKioqKioqKioq/8AAEQgCXwQLAwEiAAIRAQMRAf/EAB8AAAEFAQEBAQEBAAAAAAAAAAABAgMEBQYHCAkKC//EALUQAAIBAwMCBAMFBQQEAAABfQECAwAEEQUSITFBBhNRYQcicRQygZGhCCNCscEVUtHwJDNicoIJChYXGBkaJSYnKCkqNDU2Nzg5OkNERUZHSElKU1RVVldYWVpjZGVmZ2hpanN0dXZ3eHl6g4SFhoeIiYqSk5SVlpeYmZqio6Slpqeoqaqys7S1tre4ubrCw8TFxsfIycrS09TV1tfY2drh4uPk5ebn6Onq8fLz9PX29/j5+v/EAB8BAAMBAQEBAQEBAQEAAAAAAAABAgMEBQYHCAkKC//EALURAAIBAgQEAwQHBQQEAAECdwABAgMRBAUhMQYSQVEHYXETIjKBCBRCkaGxwQkjM1LwFWJy0QoWJDThJfEXGBkaJicoKSo1Njc4OTpDREVGR0hJSlNUVVZXWFlaY2RlZmdoaWpzdHV2d3h5eoKDhIWGh4iJipKTlJWWl5iZmqKjpKWmp6ipqrKztLW2t7i5usLDxMXGx8jJytLT1NXW19jZ2uLj5OXm5+jp6vLz9PX29/j5+v/aAAwDAQACEQMRAD8A+kawLjx14Ytbqa3uNatUmhkaORC3KspwQfcEYrfrmvA6g6VqWQD/AMTnUO3/AE9SUAO/4WD4U/6Dtr/30f8ACj/hYPhT/oO2v/fR/wAK6Lav90flRtX+6PyoA53/AIWD4U/6Dtr/AN9H/Cj/AIWD4U/6Dtr/AN9H/Cui2r/dH5UbV/uj8qAOd/4WD4U/6Dtr/wB9H/Cj/hYPhT/oO2v/AH0f8K6Lav8AdH5UbV/uj8qAOd/4WD4U/wCg7a/99H/Cj/hYPhT/AKDtr/30f8K6Lav90flRtX+6PyoA53/hYPhT/oO2v/fR/wAKP+Fg+FP+g7a/99H/AArotq/3R+VG1f7o/KgDnf8AhYPhT/oO2v8A30f8KP8AhYPhT/oO2v8A30f8K6Lav90flRtX+6PyoA53/hYPhT/oO2v/AH0f8KP+Fg+FP+g7a/8AfR/wrotq/wB0flRtX+6PyoA53/hYPhT/AKDtr/30f8KP+Fg+FP8AoO2v/fR/wrotq/3R+VG1f7o/KgDnf+Fg+FP+g7a/99H/AAo/4WD4U/6Dtr/30f8ACui2r/dH5UbV/uj8qAOd/wCFg+FP+g7a/wDfR/wo/wCFg+FP+g7a/wDfR/wrotq/3R+VG1f7o/KgDnf+Fg+FP+g7a/8AfR/wo/4WD4U/6Dtr/wB9H/Cui2r/AHR+VG1f7o/KgDnf+Fg+FP8AoO2v/fR/wo/4WD4U/wCg7a/99H/Cui2r/dH5UbV/uj8qAOd/4WD4U/6Dtr/30f8ACj/hYPhT/oO2v/fR/wAK6Lav90flRtX+6PyoA53/AIWD4U/6Dtr/AN9H/Cj/AIWD4U/6Dtr/AN9H/Cui2r/dH5UbV/uj8qAOd/4WD4U/6Dtr/wB9H/Cj/hYPhT/oO2v/AH0f8K6Lav8AdH5UbV/uj8qAOd/4WD4U/wCg7a/99H/Cj/hYPhT/AKDtr/30f8K6Lav90flRtX+6PyoA53/hYPhT/oO2v/fR/wAKP+Fg+FP+g7a/99H/AArotq/3R+VG1f7o/KgDnf8AhYPhT/oO2v8A30f8KP8AhYPhT/oO2v8A30f8K6Lav90flRtX+6PyoA53/hYPhT/oO2v/AH0f8KP+Fg+FP+g7a/8AfR/wrotq/wB0flRtX+6PyoA53/hYPhT/AKDtr/30f8KP+Fg+FP8AoO2v/fR/wrotq/3R+VG1f7o/KgDnf+Fg+FP+g7a/99H/AAo/4WD4U/6Dtr/30f8ACui2r/dH5UbV/uj8qAOd/wCFg+FP+g7a/wDfR/wo/wCFg+FP+g7a/wDfR/wrotq/3R+VG1f7o/KgDnf+Fg+FP+g7a/8AfR/wo/4WD4U/6Dtr/wB9H/Cui2r/AHR+VG1f7o/KgDnf+Fg+FP8AoO2v/fR/wo/4WD4U/wCg7a/99H/Cui2r/dH5UbV/uj8qAOd/4WD4U/6Dtr/30f8ACj/hYPhT/oO2v/fR/wAK6Lav90flRtX+6PyoA53/AIWD4U/6Dtr/AN9H/Cj/AIWD4U/6Dtr/AN9H/Cui2r/dH5UbV/uj8qAOd/4WD4U/6Dtr/wB9H/Cj/hYPhT/oO2v/AH0f8K6Lav8AdH5UbV/uj8qAOd/4WD4U/wCg7a/99H/Cj/hYPhT/AKDtr/30f8K6Lav90flRtX+6PyoA53/hYPhT/oO2v/fR/wAKP+Fg+FP+g7a/99H/AArotq/3R+VG1f7o/KgDnf8AhYPhT/oO2v8A30f8KP8AhYPhT/oO2v8A30f8K6Lav90flRtX+6PyoA53/hYPhT/oO2v/AH0f8KP+Fg+FP+g7a/8AfR/wrotq/wB0flRtX+6PyoA53/hYPhT/AKDtr/30f8KP+Fg+FP8AoO2v/fR/wrotq/3R+VG1f7o/KgDnf+Fg+FP+g7a/99H/AAo/4WD4U/6Dtr/30f8ACui2r/dH5UbV/uj8qAOd/wCFg+FP+g7a/wDfR/wo/wCFg+FP+g7a/wDfR/wrotq/3R+VG1f7o/KgDnf+Fg+FP+g7a/8AfR/wo/4WD4U/6Dtr/wB9H/Cui2r/AHR+VG1f7o/KgDnf+Fg+FP8AoO2v/fR/wo/4WD4U/wCg7a/99H/Cui2r/dH5UbV/uj8qAOd/4WD4U/6Dtr/30f8ACj/hYPhT/oO2v/fR/wAK6Lav90flRtX+6PyoA53/AIWD4U/6Dtr/AN9H/Cj/AIWD4U/6Dtr/AN9H/Cui2r/dH5UbV/uj8qAOd/4WD4U/6Dtr/wB9H/Cj/hYPhT/oO2v/AH0f8K6Lav8AdH5UbV/uj8qAOd/4WD4U/wCg7a/99H/Cj/hYPhT/AKDtr/30f8K6Lav90flRtX+6PyoA53/hYPhT/oO2v/fR/wAKP+Fg+FP+g7a/99H/AArotq/3R+VG1f7o/KgDnf8AhYPhT/oO2v8A30f8KP8AhYPhT/oO2v8A30f8K6Lav90flRtX+6PyoA53/hYPhT/oO2v/AH0f8KP+Fg+FP+g7a/8AfR/wrotq/wB0flRtX+6PyoA53/hYPhT/AKDtr/30f8KP+Fg+FP8AoO2v/fR/wrotq/3R+VG1f7o/KgDnf+Fg+FP+g7a/99H/AAo/4WD4U/6Dtr/30f8ACui2r/dH5UbV/uj8qAOd/wCFg+FP+g7a/wDfR/wo/wCFg+FP+g7a/wDfR/wrotq/3R+VG1f7o/KgDnf+Fg+FP+g7a/8AfR/wo/4WD4U/6Dtr/wB9H/Cui2r/AHR+VG1f7o/KgDnf+Fg+FP8AoO2v/fR/wo/4WD4U/wCg7a/99H/Cui2r/dH5UbV/uj8qAOd/4WD4U/6Dtr/30f8ACj/hYPhT/oO2v/fR/wAK6Lav90flRtX+6PyoA53/AIWD4U/6Dtr/AN9H/Cj/AIWD4U/6Dtr/AN9H/Cui2r/dH5UbV/uj8qAOd/4WD4U/6Dtr/wB9H/Cj/hYPhT/oO2v/AH0f8K6Lav8AdH5UbV/uj8qAOd/4WD4U/wCg7a/99H/Cj/hYPhT/AKDtr/30f8K6Lav90flRtX+6PyoA53/hYPhT/oO2v/fR/wAKP+Fg+FP+g7a/99H/AArotq/3R+VG1f7o/KgDnf8AhYPhT/oO2v8A30f8KP8AhYPhT/oO2v8A30f8K6Lav90flRtX+6PyoA53/hYPhT/oO2v/AH0f8KP+Fg+FP+g7a/8AfR/wrotq/wB0flRtX+6PyoA53/hYPhT/AKDtr/30f8KP+Fg+FP8AoO2v/fR/wrotq/3R+VG1f7o/KgDnf+Fg+FP+g7a/99H/AAo/4WD4U/6Dtr/30f8ACui2r/dH5UbV/uj8qAOd/wCFg+FP+g7a/wDfR/wo/wCFg+FP+g7a/wDfR/wrotq/3R+VG1f7o/KgDnf+Fg+FP+g7a/8AfR/wo/4WD4U/6Dtr/wB9H/Cui2r/AHR+VG1f7o/KgDnf+Fg+FP8AoO2v/fR/wo/4WD4U/wCg7a/99H/Cui2r/dH5UbV/uj8qAOd/4WD4U/6Dtr/30f8ACj/hYPhT/oO2v/fR/wAK6Lav90flRtX+6PyoA53/AIWD4U/6Dtr/AN9H/Cj/AIWD4U/6Dtr/AN9H/Cui2r/dH5UbV/uj8qAOd/4WD4U/6Dtr/wB9H/CprTxv4av7yK0tNZtZZ5m2xxhuWPXA/Ktzav8AdH5VzfjBQJPD+AB/xN4+3/TOSgDpaKKKACub8D/8grUv+wzqH/pVJXSVzfgf/kFal/2GdQ/9KpKAOkooooAKKKKACiiigAooooAKKKKACiiigAooooAKKKKACiiigAooooAKKKKACiiigAooooAKKKKACiiigAooooAKKKKACiiigAooooAKKKKACiiigAooooAKKKKACiiigAooooAKKKKACiiigAooooAKKKKACiivG/jL8QfEel+J9F8G+CporPUtVI3XcoHyBm2qBkEDoSTjPpQB7JRXA+ANP8X+FdM1Ob4l+JbW/hUq8M7OFWFQDuLMVXHJHX0ro18aeF3ltYk8RaWz3n/Huq3kZMvOPl555oA26K8M+LXijW9J+NfhDTtN1S5trK6MXnwRSELJmUg5Hfium0++1Sz+MmtXGqeNtKbRI7YldKN4vm2+AMlkP3AOSTnvQB6bRXlvgT436V4z8ValpcwtNMjt3WO0aa7UveMWI+UcZ6DgZ616lQAUUUUAFFFFABRRRQAUUV478f8Axtrvhmy0TT/Cd69pqF/O7FkAJKKOnIPGT+lAHsVFef8Awk8ZSeIfhLZ634gvkM8IkS8uZmVACjEbmPAHGDXSL428LM1qqeI9KY3hxb7byM+dzj5eeeePrQBuUVn3uv6Ppt7DZ6jqtlaXM43RQz3Co8g9VBOT07VDZeItH1u0um0PVbO/MCkSG1nWTYcd8HigDWorwb4EeO7q5tPEl34z8Q/6NbXSRxzahchUjzu4BY4GcV7Hc+KvD9np9tfXeuadBaXX/HvcSXSLHN/usThvwoA1qKQEMoKnIIyCO9LQAUUUUAFFFFABRRRQAUUV4Z8QPiP4t1z4kDwB8NJI7a6hH+l3rKDtIGW5IO0DIBOM5oA9zorj/BFp4g8MeE5j8Q9ft724jlZzds4VEj4wCxA9+tb+keIdG1+N5ND1Wz1FIzhzazrJtPvg8UAaNFYUnjfwrFbzTyeI9KWKB/Llf7ZHhH/unng+1STeL/Dds1otxr2mxteAG2DXSDzgehXnkUAbNFeG/HHxTrWh/ELwbbaTqlxZ211MgnSGQqsg81Rz68V6/pfiLRtaaaLSNWsr6W34mW3nWQxn3APFAGnRXmHw11LUNPj8RXXi3xxpGsWsdzvR4b1HW1QnHznjZnjjpxXZnxr4XEttGfEWl77sA26/bI/3oPTbzzQBuUVV1DU7HSbJrzVLyCztk+9NPIEQfieKj0rWtL120+1aLqFrfwZx5ltKsig+mQaAL1FFFABRRRQAUUUUAFFFFABRRRQAUUUUAFFFFABRRRQAUUUUAFFFFABRRRQAUUUUAFc34x/1nh//ALC8f/ouSukrm/GP+s8P/wDYXj/9FyUAdJRRRQAVzfgf/kFal/2GdQ/9KpK6Sub8D/8AIK1L/sM6h/6VSUAdJRRRQAUUUUAFFFFABRRRQAUUUUAFFFFABRRRQAUUUUAFFFFABRRRQAUUUUAFFFFABRRRQAUUUUAFFFFABRRRQAUUUUAFFFFABRRRQAUUUUAFFFFABRRRQAUUUUAFFFFABRRRQAUUUUAFFFFABRRRQAUUUUAFea/F34Tp8RLS2vdOuvsOt2AP2afnDjOQpI5HPIPavSq81+I3hDx9ruuQ3ngrxWukWwgEUluxYAnJO7jIzzQB5n4f8e6/q/wz8d+EfGDGbUtGsnAnblmAO0qxHUggc981wJ8GaWP2d4PGC+ausJqRiEvmnGzJAUDpxjNexN8K1+H3wj8ZXt/qLaprOpWbtdXTKQPXAySepJJPWvPfhz8J/EPxB+HmnKviUW3h5rySSayZCSrq2CV9cj16ZoAteKdRn1bxx8J7+8JM9xYWckjH+Ji/J/GtnRLG21P9rDxNZX0Qmtri2ljljboylUyK7fxX8HrrV/GvhTU9Hu7a20/QIoYvIkDbmWNs8YGOlWtG+Fuo6b8cdS8by31s9ndoyrbqG8wZCjnt2oA8w/Z/8KaJqXxC8SSXunxzNpVwr2RbP7kh2wR+Qr6frxjw/wDB3xH4R+Ks+u6Br8Mei3twZbq1KkO6Ek7OhBwT14r2egAooooAKKKKACiiigAr5r+K/izR7b9orS/+EhkkGm6RZ7JRGm87nVj0/wCBj8q+lK8v8OfCu7svi7rvjLXrizvYr9WS3gCFjGCwxnIxwFAoA8t+E2sR3HwQ+Ielo+Vt4ppo88fI8ZH81NcZb+C9Ll/Z2l8WnzBq1vqPlJJ5pwI842henU5z1r1/UfhfqHg2L4ia6l5atpeq6dcFLaMEOh5YZ4x3Nee/Db4V+IviF8PLaKDxKLTQGvme4smQkh143L6kj1xigA8eyyeKL34WDVHkLX9lbwTuDhmDS7GOfUgmt3w/pNv4B/ain8P+HvMj026tHDxFywUGDzMEn0I7+tM+OmhJY+PPAGg6RM1mscMNrbzKMmL98FVvqOtegeAfg7qmieMb/wAV+L9bTV9WnjaKFkQgKCMbjnvjAwBxQB5f8KvD3/CUfDX4i6WE3SSFZIgBzvTLLj8Vx+NZfh25bxtF8N/CTnzPsV3OZ067UV93P/AVxXtvwv8Ah/L8J9P1+88SarZNa3TiZpVJVY1GfvFvrXB/ALw1aal8UvEfijTUY6Payyw2LsuNxds8fRcf99UAfSCqFUKOgGBS0UUAFFFFABRRRQAUUUUAFfOPwnkFt+034ugv2C3UiziPfwT+9UkD8MH8K+jq8g+I/wAFLnxH4rj8V+D9Z/sbWlx5jYIWQgYDBhyDjg8HNAGH+0xf3Msvhbw+JXjstQuybjacBsMqj8txrG03TLb4e/tRafpPhlWt9PvrVFlt1YsvMeT191z+Ndfq3wc8Q+LPh9b6f4s8RrceIbK6ae11AKWCg4+Q9Djgc9qteAvhFq2l+N38YeOdaj1fV1iEUAiTCxgLtznjnAx09aAPEfDXhTTPEjfEi61WOSR9Kiee1CyFQkhZ/mwOv3R1rMfwtprfs/xeKWWVtVXVPsyymVsLGAcKFzjtmvdfDHwX1bQ4PGyT6lZyHxFAY4Ngb90SXPzcf7Q6VTPwL1k/BZfBv9qWX2sagbvz8Ns24PHTOeaAOE+KynXI/hal87Mb2ygWVwcMd7ICc+vNamjaJa+AP2qbXRvDYkhsLu3IkiLlsBoS5BJ5PzKOtdh4u+CGreJrPwhbw6xb2Z0GzS3lmUMWLrjDJ+I71e8A/B/VtG8dXXi3xnriaxqbRmKAohAUYxuOe+OMAUAeOeB/+SY/FH/dj/8ARlZGp+DtKtv2d9I8WxpJ/a8+pmBpjK2BH+8woXOBjYK9m8PfA3WNH8I+L9Jm1OyeXXgohdQ2I8Nn5uP5VJqHwR1e8+B2m+CE1OzW8tL/AO1NOQ3lsv7zgcZz84/KgDz/AOJniK61TXPAWm6nZXer2K6bBdTafb5L3bsMkYHJ6D8M10vwOtNWsPiprjW/hjVtA0C+gMkdveW8iJGwYYALADPJ/Cur8XfBi613RPDc+k6uum+IdBto4Y7pVJSTaPzHOcH36V0vgDRPHWlS3cnjrxDb6ssiKsEcEW3yyM5OcDrkflQB29FFFABRRRQAUUUUAFFFFABRRRQAUUUUAFFFFABRRRQAUUUUAFFFFABRRRQAUUUUAFc34x/1nh//ALC8f/ouSukrm/GP+s8P/wDYXj/9FyUAdJRRRQAVzfgf/kFal/2GdQ/9KpK6Sub8D/8AIK1L/sM6h/6VSUAdJRRRQAUUUUAFFFFABRRRQAUUUUAFFFFABRRRQAUUUUAFFFFABRRRQAUUUUAFFFFAFC513SbPVIdNu9StYb6cAxW0kyrI+eBhScnoav187/E47f2rPBxJwBFBn/v5JXpfhf4u6H4qn1prO3uoNO0YMbjUZwohOD2wSTwCenSgDvaK8p0n9oTwtqviC1042epWlvey+Ta39xDthlbOODn149u+K3NK+K+kap471Xwp9jvLa+0uOSWV5gux1QjJXBz0IP0oA7qiuS+H/wAQ9P8AiLpt3faTZ3VvBaz+QWuQo3tjJxgnjmutoAKKKKACiiigAooqG8u4LCxnvLyRYre3jaWWRuiqoySfwFAEOpatp2jWwuNWvreyhLbRJcSBFJ9MnvViCeK5t0nt5FlikUOjocqwIyCD3FfLXxo+MmgeP/B7aTo1veRvBfJIk00YCTKFYEjB46jg+tern4k2PgH4d+Eku9M1HUZ7zS4jFHZQ7+FjTOTnjqKAPUqK8sg+OWi618Ptb1zRLW++2aYgWSzMQMsbN8qtjOCoPJ9ga5j4E/FvVfEt5caX4kTUNQvLq5eSO8WEeRAgQHYSOhyDxjvQB71RXj9x+0f4bs9TWG90bWbazaQx/bZbcBMg8nGckfTmvXLeeK6t457dxJFKodHU5DA8g0ASUUUUAFFFFABRRRQAUUUUAFFFFABRRRQAUUUE4oAKKiM6L1YfnTftUf8AeH50AT0VB9qj/vD86PtUf94fnQBFq+lWmuaPdaZqUZltLqMxyoGI3Ke2RVPwv4W0nwdoiaToFubezR2dULlsFjk8nmtH7VH/AHh+dH2qP+8PzoAnoqD7VH/eH50fao/7w/OgCeioPtUf94fnR9qj/vD86AJ6Kg+1R/3h+dH2qP8AvD86AJ6KhWdW6EVIGzQA6iiigAooooAqapptrrOk3Wm6gnmWt1E0UqAkblIwRkVQ8LeE9I8GaP8A2X4ftzb2gcybC5f5j15JzW1RQBzfiDwD4e8Ua7p2sazZtNe6aytbSCVl2FW3DgHB59a6SiigDP17RLPxHoN3pGqIXtLyMxyqDg49j60zw74c0vwrosOlaHapa2kIwqL1J7knuT61p0UAFFFFABRRRQAUUUUAFFFFABRRRQAUUUUAFFFFABRRRQAUUUUAFFFFABRRRQAUUUUAFFFFABRRRQAUUUUAFFFFABRRRQAUUUUAFFFFABRRRQAUUUUAFFFFABXN+Mf9Z4f/AOwvH/6LkrpK5vxj/rPD/wD2F4//AEXJQB0lFFFABXN+B/8AkFal/wBhnUP/AEqkrpK5vwP/AMgrUv8AsM6h/wClUlAHSUUUUAFFFFABRRRQAUUUUAFFFFABRRRQAUUUUAFFFFABRRRQAUUUUAFFFFABRRRQB8t/tBWuo3vx10a10Q4v5tOjSDnHzF5B1qt4f1SG6/ZT8RaZpkIh1CxuR9vCfekVpFO8/hx/wGvoHWfhxoOu+ONP8V36TnU9PVVgKykIApJGV78sar6J8KfDGga3qupWFvLnVkeO7t5JN0MisckbDx6/maAPAdB8B+MPH/w+8OpB4j8PJpVk4a0hZyk0T5wVbCfez2zya1/jQkngL4qw+I4hhdX0ae2dlHBlEJj/APjZr0yy/Z+8D6fr0Oq2dveRSQTLNFEty2xWByOOvUetcZ8Xjc/Ez4naV8P9N0yZV02ZZ769kXhI2CklSO2316nFAHf/AAM0H+wPhFpEbrtmu0N3J6kyHcP/AB3A/CvQ6itLaOzs4baBQsUKLGijsAMCpaACiiigAooooAK4r4xLcP8AB/xGLTO/7IScdduRu/TNdrUdxbxXdtLb3MaywzIUkRhkMpGCD+FAHx7q1zo7fsr6HBbyW/8AaC6rIZYwR5mcvkkdehX9K9B1Pxx4gM/gXwH4XvYNIlvtJtpJtRljDMoMfRc8dF/EkV2R/Z1+H5W7X7BcAXLAj/SG/dc5wnpWv4j+DfhLxRY6XbanbTZ0uBbeCaKUq5jUABWPfpQB4r8JraW08dfEuykvf7QeOxuka5AH79gzDfgcc9fxrd/Zy16z0T4Y+JriV43uLS5lufs+4b3VYlPA644IzXq3hT4VeGPBesXeo6DbSwSXcPkyRtKWTbx2P0qnoHwX8I+GvE0+taVbTJLPHJG0DSlotr/eG09qAPnvxprfiXx38K5vFeu67bx2P9pCC30eCIKFIB5z1yAffivp74dMW+Gvh4sSSdPh5P8AuCuQP7OngAtd/wChXOLg5C/aGxFzn5PSvR9H0u30TRrTTLLd9ntIlij3tk7VGBk0AXaKKKACiiigAooooAKKKKACiiigAooooAKw/GdxJbeC9Zmgdo5EsZmR1OCp2HBFblc548/5ETW/+vCb/wBANAHiHw0+D0HjnwHZa9qPinXoLi5L7o4bkbRhyOMqT2rq/wDhm/TP+hv8Sf8AgSn/AMTW7+z9/wAkY0j/AHpv/RjV6VQB4x/wzfpn/Q3+JP8AwJT/AOJo/wCGb9M/6G/xJ/4Ep/8AE17PRQB4x/wzfpn/AEN/iT/wJT/4mqWs/s+6fpug399F4t8RNJa20kyq1yuCVUkA/L04r3SsnxX/AMiZrX/YPn/9FtQB8/8Awv8Ag/B458CWuuaj4o123nmeRTHBcDaNrEDqCe1dh/wzfpn/AEN/iT/wJT/4mtb9nj/kjenf9dpv/RjV6hQB4z/wzfpn/Q3+JP8AwJT/AOJpP+Gb9M/6G/xJ/wCBKf8AxNez0UAeMf8ADN+mf9Df4k/8CU/+Jo/4Zv0z/ob/ABJ/4Ep/8TXs9FAHzl8Hb240Lxd4v0WS/ubuCyvRBC1zIWOFZ1z6ZOBnFe+afdefGDXzX4QkKfFjxuB31WT/ANGPX0J4fYtbrmgDoRRSDpS0AFFFFABRRRQAUUUUAFFFFABRRRQAUUUUAFFFFABRRRQAUUUUAFFFFABRRRQAUUUUAFFFFABRRRQAUUUUAFFFFABRRRQAUUUUAFFFFABRRRQAUUUUAFFFFABRRRQAUUUUAFFFFABRRRQAVzfjH/WeH/8AsLx/+i5K6Sub8Y/6zw//ANheP/0XJQB0lFFFABXN+B/+QVqX/YZ1D/0qkrpK5vwP/wAgrUv+wzqH/pVJQB0lFFFABRRRQAUUUUAFFFFABRRRQAUUUUAFFFFABRRRQAUUUUAFFFFABRRRQAUhNBOBXiUvxs8U6jr+rWPhfwJLqsOm3T2zzR3HcEgEjbxnGaAPbcijIrxT/haHxL/6Jdd/9/z/AIUn/C0PiZ/0S66/7/8A/wBagD2zIpixQpM8yxoJHwGcKMtjpk14t/wtD4mf9Euuv+//AP8AWo/4Wh8TP+iXXX/f8/4UAe2ZFGRXif8AwtD4mf8ARLrr/v8An/CtTwF8WdR8TeJdS0PX9AbRb2wRXZGm3Hk9CMDHagD1miq1vcCVcg1ZoAKKKKACikPArx/xV8W/E1j8SNQ8J+FPCa6zLYxRyuwn2sQyK2ceg3AUAewZFGRXip+I3xXP/NMm/wDAgf40n/Cxfix/0TNv/Agf40Ae15FGRXin/Cxfix/0TNv/AAIH+NH/AAsX4sf9Ezb/AMCB/jQB7XkUZFeKf8LF+LH/AETNv/Agf41L4a+LviS68f2/hjxZ4YXRpp4GmUmbcwA6HHTBwaAPZ6Kp212swGDmrYORQAtFFFABRRRQAUUUUAFFFFABRRRQAVznjz/kRNb/AOvCb/0A10dc548/5ETW/wDrwm/9ANAHMfs/f8kY0j/em/8ARjV6VXmv7P3/ACRjSP8Aem/9GNXpVAHn/wAbfEtx4V+Feo3thcPbXcrJBBLGcMrM2eD64BrlP2efFGt6oviHR/FF/PeX+n3CENO5ZgrAjAz2yv61m/tPa1HFF4Z0eUO8Ut4bqaOMZYquF4Hr8zYrF+Eviuyvf2jNYk06G4tbPWLYtHFcpsfeoVuRn/eoA+l6yfFf/Ima1/2D5/8A0W1a1ZPiv/kTNa/7B8//AKLagDhf2eP+SN6d/wBdpv8A0Y1eoV5f+zx/yRvTv+u03/oxq9QoA89+M/xBn+Hngc3unBDqN3KILbeMhDjJbHfAH5kVwXg3x5468MfFDTfC3xEvor+LWbdZYXVQDCzAkDIA7gqR+VH7VUcg0bw3Oc+RHdyBzjgEhSP0Bqr8UAbz9ozwBHaNudYbdm288CV2P/jtAH0TRRRQB8r+FP8AkrPjX/sKyf8Aox6+hfDv/Huv0r568Kf8lZ8a/wDYVk/9GPX0L4d/491+lAHRDpS0g6UtABRRRQAUUUUAFFFFABRRRQAUUUUAFFFFABRRRQAUUUUAFFFFABRRRQAUUUUAFFFFABRRRQAUUUUAFFFFABRRRQAUUUUAFFFFABRRRQAUUUUAFFFFABRRRQAUUUUAFFFFABRRRQAUUUUAFc34x/1nh/8A7C8f/ouSukrm/GP+s8P/APYXj/8ARclAHSUUUUAFc34H/wCQVqX/AGGdQ/8ASqSukrm/A/8AyCtS/wCwzqH/AKVSUAdJRRRQAUUUUAFFFFABRRRQAUUUUAFFFFABRRRQAUUUUAFFFFABRRRQAUUUUARynCmvG/gJz4g8f/8AYZb+bV7JN9w1438A/wDkYPH3/YYb+bUAe0UUUhIVSzHAAySe1AC0V5r4G+N2heO/FsugadZ3dvPHE8iyzbdrhWAwMHOec/hXpVABXzcLprX9o7xaVONwjH6LX0jXzLef8nGeKv8Atn/JaAPeNBuGlhUk9q6Felcv4Z/490+ldQvSgBaKKKAGv92vF/C5z+1l4s/7BsH/AKLir2h/u14v4W/5Ow8Wf9g2H/0XFQB7VRRSOyojO5CqoySTwBQAtFeVp+0P4IfxQNIE1yIzL5IvjF+5LZx1znHvivUwwZQynIIyCO9AC189fEic237SmlyLwRpeP1avoWvnP4qf8nGaZ/2DB/NqAPX/AA5dtNEpJrq0+7XE+E/9Sv0rtk+6KAHUUUUAFFFFABRRRQAUUUUAFFFFABXOePP+RE1v/rwm/wDQDXR1znjz/kRNb/68Jv8A0A0Acx+z9/yRjSP96b/0Y1elV5r+z9/yRjSP96b/ANGNXpVAHnXiX4XSeJfivo/i261NBa6WqhLEw5LEEnO7Pqc9O1JrPwskv/i/pnjew1KO0+xoqS2vkZ80AEH5sjHB9O1ejUUAFZPiv/kTNa/7B8//AKLatasnxX/yJmtf9g+f/wBFtQBwv7PH/JG9O/67Tf8Aoxq9Qry/9nj/AJI3p3/Xab/0Y1eoUAcz4/8AA9h8QfCk2i6k7RbmEkM6jJikHRsd+pGPeuL+H3wSfwt4pXxD4j16XXb63i8m0LoVEK4wDyTk44HpmvWqKACiiigD5X8Kf8lZ8a/9hWT/ANGPX0L4d/491+lfPXhT/krPjX/sKyf+jHr6F8O/8e6/SgDoh0paQdKWgAooooAKKKKACiiigAooooAKKKKACiiigAooooAKKKKACiiigAooooAKKKKACiiigAooooAKKKKACiiigAooooAKKKKACiiigAooooAKKKKACiiigAooooAKKKKACiiigAooooAKKKKACub8Y/6zw/8A9heP/wBFyV0lc34x/wBZ4f8A+wvH/wCi5KAOkooooAK5vwP/AMgrUv8AsM6h/wClUldJXN+B/wDkFal/2GdQ/wDSqSgDpKKKKACiiigAooooAKKKKACiiigAooooAKKKKACiiigAooooAKKKKACiiigCOb7hrxv4B/8AIwePv+ww382r2Sb7hrxv4B/8jB4+/wCww382oA9ormfiNrH9g/DfXtR3bWhspAh/2mG1f1Irpq8h/aUvrmH4XpYWUUs0t/eJGyxIWOxQWJ49wv50AeQ+A7JvB3jT4aau/wC7GtQyLK3TcXldR+jR19eV8leP/hXe/D/w/wCF9es7/UtSninj327jctuwAfCADgZUj8BX1dZTi60+3uF6Sxq4/EZoAnr5kvP+TjPFX/bP+S19N18yXn/Jxnir/tn/ACWgD3Hwz/x7p9K6lelct4Z/490+ldSvSgBaKKKAGv8Adrxfwt/ydh4s/wCwbD/6Lir2h/u14v4W/wCTsPFn/YNh/wDRcVAHtVcl8VL6XTfhV4iubdisi2TqCvUbvl/rXW1j+LNEHiTwhqujkhTe2rxKx6BiOD+eKAPly90azT9kmw1BYUF0dWMhl2jcSWdev0A/Kvpn4fXkmofDfw9eTkmSfToHYnuSgr5gFn4zvfBNr8Jz4ZvEuYdTMjXbKfLCZPfGMAknOelfWWhaWmieH7DTIjlLO3SEH12qB/SgC/Xzn8VP+TjNM/7Bg/m1fRlfOfxU/wCTjNM/7Bg/m1AHqnhP/Ur9K7ZPuiuJ8J/6lfpXbJ90UAOooooAKKKKACiiigAooooAKKKKACuc8ef8iJrf/XhN/wCgGujrnPHn/Iia3/14Tf8AoBoA8M+Fnw/8ca38PbC/0L4hXOj2Uhk8uzSFmEeHIPIcdTz0rsP+FU/Ez/orN5/4DN/8crc/Z+/5IxpH+9N/6MavSqAPGf8AhVPxM/6Kzef+Azf/AByj/hVPxM/6Kzef+Azf/HK9mooA8Z/4VT8TP+is3n/gM3/xyqOufDD4jW3h7UZ7r4p3dxBFayvJCbdgJFCElfv9xxXulZPiv/kTNa/7B8//AKLagD57+E/gHxvrnw+tL7QfiDc6NZPJIEs0hZghDkE5Djqeeldp/wAKp+Jn/RWbz/wGb/45Wt+zx/yRvTv+u03/AKMavUKAPGf+FU/Ez/orN5/4DN/8co/4VT8TP+is3n/gM3/xyvZqKAPGf+FU/Ez/AKKzef8AgM3/AMco/wCFU/Ez/orN5/4DN/8AHK9mooA+S/h5aXNh4+8U2l/dte3UF8Y5rlhgzOHcFse55r6R8O/8e6/Svnrwp/yVnxr/ANhWT/0Y9fQvh3/j3X6UAdEOlLSDpS0AFFFFABRRRQAUUUUAFFFFABRRRQAUUUUAFFFFABRRRQAUUUUAFFFFABRRRQAUUUUAFFFFABRRRQAUUUUAFFFFABRRRQAUUUUAFFFFABRRRQAUUUUAFFFFABRRRQAUUUUAFFFFABRRRQAVzfjH/WeH/wDsLx/+i5K6Sub8Y/6zw/8A9heP/wBFyUAdJRRRQAVzfgf/AJBWpf8AYZ1D/wBKpK6Sub8D/wDIK1L/ALDOof8ApVJQB0lFFFABRRRQAUUUUAFFFFABRRRQAUUUUAFFFFABRRRQAUUUUAFFFFABRRRQBHN9w1438A/+Rg8ff9hhv5tXsk33DXzJ4B+Jdv4C8VeM4LjRdT1I3Wqu4ayi3hMMwwaAPp+kKq33lB+orxz/AIaL0/8A6E/xH/4C0f8ADRWn/wDQn+I//AWgD2MqrDDAEe4penSvG/8AhorT/wDoT/Ef/gLR/wANF6f/ANCf4j/8BaAPZK+ZLz/k4zxV/wBs/wCS12//AA0Xp/8A0J/iP/wFrzLQ9fTxP8aNf1eK0uLNLlUYQXK7ZE6DkfhQB9D+Gf8Aj3T6V1K9K5bwz/x7p9K6lelAC0UUUANf7teL+Fv+TsPFn/YNh/8ARcVe0P8Adr5w1HxhL4L/AGmfE19Bol5rLS2UERhsxll/dRHceDxxQB9I0V41/wAL9vf+ideIP++D/wDEUf8AC/b3/onXiD/vg/8AxFAHsmBnOBn1xS141/wv29/6J14g/wC+D/8AEUf8L9vf+ideIP8Avg//ABFAHstfOfxU/wCTjNM/7Bg/m1dP/wAL9vf+ideIP++D/wDEV5prni2Xxl8cNP1CbRrzR2Wx8vyLsYY43Hd0HHNAHvHhP/Ur9K7ZPuiuJ8J/6lfpXbJ90UAOooooAKKKKACiiigAooooAKKKKACuc8ef8iJrf/XhN/6Aa6Ouc8ef8iJrf/XhN/6AaAOY/Z+/5IxpH+9N/wCjGr0qvNf2fv8AkjGkf703/oxq9KoA4v4s+K7jwZ8NtR1ewkWO8XZHbsyg4dmA6HrxmuX+A/j/AFzxnZ61a+Kplk1DT7hRxGEwjDpge6msX9p7V4Y9I8O6Lcy+XDd3/nzn0ROM/wDj5rG+EPiLSpP2hvEMOh3Im07VLfzIXCldzLtOMH6t+VAH0fWT4r/5EzWv+wfP/wCi2rWrJ8V/8iZrX/YPn/8ARbUAcL+zx/yRvTv+u03/AKMavUK8v/Z4/wCSN6d/12m/9GNXqFAHJfE/xVc+C/h3qWuaesTXVuEEIlGVLFwOR9Ca4z4c+LPir4h1nT5/Eeh2VvoN1EZDcxABsFcqcbyeeO1dn8SvBT+P/BsuhR332HzJUkaXy9/C9sZFeWfD/wAReLPAvxdh+HPifUhqtjJBi0lxzGAu5cHqBgEYNAH0BRRRQB8r+FP+Ss+Nf+wrJ/6MevoXw7/x7r9K+evCn/JWfGv/AGFZP/Rj19C+Hf8Aj3X6UAdEOlLSDpS0AFFFFABRRRQAUUUUAFFFFABRRRQAUUUUAFFFFABRRRQAUUUUAFFFFABRRRQAUUUUAFFFFABRRRQAUUUUAFFFFABRRRQAUUUUAFFFFABRRRQAUUUUAFFFFABRRRQAUUUUAFFFFABRRRQAVzfjH/WeH/8AsLx/+i5K6Sub8Y/6zw//ANheP/0XJQB0lFFFABXN+B/+QVqX/YZ1D/0qkrpK5vwP/wAgrUv+wzqH/pVJQB0lFFFABRRRQAUUUUAFFFFABRRRQAUUUUAFFFFABRRRQAUUUUAFFFFABRRRQBHN9w14z8BVVvEHj7coP/E4bqPdq9mm+4a8b+Af/IwePv8AsMN/NqAPZvLT+4v5UeWn9xfyp1Yni3xbpXgrQX1jXZJI7RHCExpuJY9BigDZ8tP7i/lR5af3F/KvOdA+PPgXxDqsOnW99Pa3E7BYvtcPlq5PQZyR+dekUAN8tP7i/lXzNdgD9ovxUAMD93/Ja+m6+ZLz/k4zxV/2z/ktAHuPhn/j3T6V1K9K5bwz/wAe6fSupXpQAtFFFADX+7Xi3hcA/tYeLMjP/Eth/wDRcVe0v92vF/C3/J2Hiz/sGw/+i4qAPadq/wB0flRtX+6PypaKAE2r/dH5UbV/uj8q8+n+Ofw+t7uS1l10CWNzGy+Q/DA49K9AjdZI1dDlWGQfagBdq/3R+VfOnxUAH7RemYGP+JYP5tX0ZXzn8VP+TjNM/wCwYP5tQB6p4T/1K/Su2T7orifCf+pX6V2yfdFADqKKKACiiigAooooAKKKKACiiigArnPHn/Iia3/14Tf+gGujrnPHn/Iia3/14Tf+gGgDmP2fv+SMaR/vTf8Aoxq9KrzX9n7/AJIxpH+9N/6MavSqAPKPHHwx1bxl8XtC1u6+wyeH9NRRJBK5LuQSx+Tbggkjv0FQ33wmv7L44aV4t8LQ6bZaVBGEubdSY26MrFVVcdCO4r12igArJ8V/8iZrX/YPn/8ARbVrVk+K/wDkTNa/7B8//otqAOF/Z4/5I3p3/Xab/wBGNXqFeX/s8f8AJG9O/wCu03/oxq9QoA5P4gWvjS60q2/4V9e2dpexzbpjdjKyJj7v3T3rjfh/8KdftPHU3jb4hapBqGsshSGO3+5HkYznA7cAAV69RQAUUUUAfK/hT/krPjX/ALCsn/ox6+hfDv8Ax7r9K+evCn/JWfGv/YVk/wDRj19C+Hf+PdfpQB0Q6UtIOlLQAUUUUAFFFFABRRRQAUUUUAFFFFABRRRQAUUUUAFFFFABRRRQAUUUUAFFFFABRRRQAUUUUAFFFFABRRRQAUUUUAFFFFABRRRQAUUUUAFFFFABRRRQAUUUUAFFFFABRRRQAUUUUAFFFFABXN+Mf9Z4f/7C8f8A6LkrpK5vxj/rPD//AGF4/wD0XJQB0lFFFABXN+B/+QVqX/YZ1D/0qkrpK5vwP/yCtS/7DOof+lUlAHSUUUUAFFFFABRRRQAUUUUAFFFFABRRRQAUUUUAFFFFABRRRQAUUUUAFFFFAEc33DXjfwD/AORg8ff9hhv5tXsk33DXjfwD/wCRg8ff9hhv5tQB7RXkn7Sv/JHZ/wDr8h/ma9bryT9pX/kjs/8A1+Q/zNAHid5q+k+PbLwF4V0SFLHUbJUS6v7nbEM/Lwpz83Qkepr7EhTy4EQndtUDPrXx14p1vR/F/gPwX4c8JWMl34jtERJpYYCrIduNu7HPPOegxX15pENxbaJZQ3r+ZcxwIsr/AN5goBP50AXK+ZLz/k4zxV/2z/ktfTdfMl5/ycZ4q/7Z/wAloA9x8M/8e6fSupXpXLeGf+PdPpXUr0oAWiiigBr/AHa8X8Lf8nYeLP8AsGw/+i4q9of7teL+Fv8Ak7DxZ/2DYf8A0XFQB7VUF9IYtPuJFVmZImYBRkkgdhU9UtZ1W30PRLzVL3d5FpC00gQZJAGcAetAHyr8M9R8H6JqEul/E/wtNHqGoXpkhvL61IVFOAAQwBAznn3r61jCrGojwEA+XHpXzB8VvG2mfGOfQtA8D6ddXV8tzveeSHb5QIwRnnjuT7V9M2Fu1pp1vbuxdoolQse5AxmgCxXzn8VP+TjNM/7Bg/m1fRlfOfxU/wCTjNM/7Bg/m1AHqnhP/Ur9K7ZPuiuJ8J/6lfpXbJ90UAOooooAKKKKACiiigAooooAKKKKACuc8ef8iJrf/XhN/wCgGujrnPHn/Iia3/14Tf8AoBoA8M+FmnfFuf4e2EnhDXNLtdJJk8mKeBWdfnOckoe+e9dh/ZHx6/6GXRf/AAGT/wCN1ufs/f8AJGNI/wB6b/0Y1elUAeM/2R8ev+hl0X/wGT/43R/ZHx6/6GXRf/AZP/jdezUUAeM/2R8e/wDoZdF/8Bk/+N1R1zSvjivh7UWv/EWjvai1lM6rboCybDuA+TrjNe6Vk+K/+RM1r/sHz/8AotqAPnv4T6d8Wbj4fWkng7W9MtNKMknlxXECs4O87uSh75712n9kfHv/AKGXRf8AwGT/AON1rfs8f8kb07/rtN/6MavUKAPGf7I+Pf8A0Mui/wDgMn/xuj+yPj3/ANDLov8A4DJ/8br2aigDxn+yPj3/ANDLov8A4DJ/8bo/sj49/wDQy6L/AOAyf/G69mooA+Svh4l/H4+8UJrMqS6gt8RcyRjCtJvfcQPTOa+kvDv/AB7r9K+evCn/ACVnxr/2FZP/AEY9fQvh3/j3X6UAdEOlQXV/Z2Pl/bbqC3819kfnSBN7egz1PtU46VzHj7wFpnxA0EafqhkikibzLe4ibDQv6j1+lAHUUV4RpvjbxZ8H9Qi0X4jxy6roLNstdaiBYoOwfufoefrXtel6rY61p0V/pV1Fd2sw3JLE2QaAPPfHOu6rL8StK8Kw66/hyxurNp1vERS1xMGwIgzDA45x3qxqus6zpPxV8F6AdTkntrq0n+2Eoo+0OicMQOnPPFN+LV94bu9GudE13Tb27vWtzLYtb2UkhEpBC7HUYVs47jiuT1Jdb8M3vw38TeJLO8uvsFpJbai0MZlkiZ0wpYDk9efpQBt/8JbrZ1T4oxfbn2aLbK9gMD9yfKdsj8QK5ifxF8QNM8K+E/FY8SLcPrcsNq1hLbr5KeaMI+RySDyas6Qb3Vn+LN+dKvbVNQsla1jnhZXlUxSYwPU8cdRmpNZ069f4OfDeBbO4aaC/08yxiJt0YGMlhjjHvQB0XhvUvEegfF1vCuva2+tWt9p326GWWJUaFw20qMdq9RrzS+tLlv2jtMuhbym3XQnQzBDsDeYeN3TPtXpdABRRRQAUUUUAFFFFABRRRQAUUUUAFFFFABRRRQAUUUUAFFFFABRRRQAUUUUAFFFFABRRRQAUUUUAFFFFABRRRQAUUUUAFFFFABRRRQAUUUUAFFFFABRRRQAVzfjH/WeH/wDsLx/+i5K6Sub8Y/6zw/8A9heP/wBFyUAdJRRRQAVzfgf/AJBWpf8AYZ1D/wBKpK6Sub8D/wDIK1L/ALDOof8ApVJQB0lFFFABRRRQAUUUUAFFFFABRRRQAUUUUAFFFFABRRRQAUUUUAFFFFABRRRQBHN9w1438A/+Rg8ff9hhv5tXsk33DXzZ8OPid4c8AeKPGsHiKaeN7rVneLyoi+QGYGgD6XqC7srXULcwX1vFcQk5McqBlP4GvMP+Gj/h9/z+Xn/gKf8AGj/ho/4ff8/l5/4Cn/GgD0ex0PStMbdp2nWtqfWGFV/kKv15T/w0f8Pv+fy8/wDAU/40f8NH/D7/AJ/Lz/wFP+NAHq1fMl5/ycZ4q/7Z/wAlr0X/AIaP+H3/AD+Xn/gKf8a8n0nxBYeKfjd4h1jSXd7S6VGjZ12kgYHT8KAPoTwz/wAe6fSupXpXLeGf+PdPpXUr0oAWiiigBr/drxfwt/ydh4s/7BsP/ouKvaH+7XzneeOdI8BftN+JtQ14zCCaygiXyY9x3eVEen4UAfR1NdFkRldQysMEEZBryb/hpTwF/wA9NQ/8Bv8A69H/AA0p4C/56ah/4Df/AF6APUbXTLGxdns7OCBm+8Y4wpP5VaryT/hpTwF/z01D/wABv/r0f8NKeAv+emof+A3/ANegD1uvnP4qf8nGaZ/2DB/Nq7H/AIaU8Bf89NQ/8Bv/AK9eW+IfGuk+O/jlp+qaEZjbpY+UfOTadw3Hp+NAHuvhP/Ur9K7ZPuiuJ8J/6lfpXbJ90UAOooooAKKKKACiiigAooooAKKKKACuc8ef8iJrf/XhN/6Aa6Ouc8ef8iJrf/XhN/6AaAOY/Z+/5IxpH+9N/wCjGr0qvNf2fv8AkjGkf703/oxq9KoA5X4leLZPBHgDUNdt0ikuIAohSUHazswABwQfWub+C3xN1L4i6dqp1y2trW9sJ1Qx26so2kcEgk85B/Kud/aa1OMeG9C0KSVYl1DUVeVmOAETgkn0+fP4VkfCHU9Psv2gPFGmaRdw3NjfwCaGSFgyMVIPBH++fyoA+h6yfFf/ACJmtf8AYPn/APRbVrVk+K/+RM1r/sHz/wDotqAOF/Z4/wCSN6d/12m/9GNXo2pahDpWl3WoXW4w2sTSybBk7VGTgV5z+zx/yRvTv+u03/oxq9OdFljaORQyMCGUjII9KAPEtA/aFk8R/EfTvD9p4ee2sr+TbHcXLkSFdpO4LjGDiup+J3xV/wCEGvNP0jSdMbVtb1HmG1U4wucAnHJyQePavO/GEaRfteeGkiRUVYowFUYA/dvUutFrj9sjTEuBlYbdfKz2/dE/zJoA9G+FvxRi+Idrew3NidN1XT5Nlzas2cdcEfkRj2rv6+evhSWh/aY8awwjEDCYsB0yJRj+Zr6FoA+V/Cn/ACVnxr/2FZP/AEY9fQvh3/j3X6V89eFP+Ss+Nf8AsKyf+jHr6F8O/wDHuv0oA6IdKWkHSloAq6jpllrGny2OqWsV1bTLteKVQysPoa8T1TwH4q+EupS678MpZNR0Zm33WiTMW2juU9fw5+te7UUAcX4C+JugfECzzYv9n1GIfv7CfiSI9/qPcV2ZAbggEe9eZeP/AIOWmv3v9v8AhW5bQ/EkJ3pcwfKsrD++B/P+dZXhH4wXuk6wnhX4rWv9k6quEiviMQ3Poc9Bn16fSgD2LaOeB+VGBgDA4oR1kQOjBlYZBByCKWgAwM5xz60UUUAFFFFABRRRQAUUUUAFFFFABRRRQAUUUUAFFFFABRRRQAUUUUAFFFFABRRRQAUUUUAFFFFABRRRQAUUUUAFFFFABRRRQAUUUUAFFFFABRRRQAUUUUAFFFFABXN+Mf8AWeH/APsLx/8AouSukrm/GP8ArPD/AP2F4/8A0XJQB0lFFFABXN+B/wDkFal/2GdQ/wDSqSukrm/A/wDyCtS/7DOof+lUlAHSUUUUAFFFFABRRRQAUUUUAFFFFABRRRQAUUUUAFFFFABRRRQAUUUUAFFFFAEc33DXiXwN06yvvEPj03lpDOV1hgpkjDY5b1r22b7hrxv4B/8AIwePv+ww382oA9Y/sDSP+gZaf9+V/wAKP7A0j/oGWn/flf8ACtCigDP/ALA0j/oGWn/flf8ACj+wNI/6Blp/35X/AArE1f4neDdB1T+ztU1+1hu9wVogS5U+h2g4/GuqVg6BlOQRkGgCh/YGkf8AQMtP+/K/4V84zQRW37Q3iiK3jWKNfL2ogwBwO1fT1fMl5/ycZ4q/7Z/yWgD3Hwz/AMe6fSupXpXLeGf+PdPpXUr0oAWiiigBr/drxLw5bw3P7V3itbiJJVGmwkB1BH+rir21/u14v4W/5Ow8Wf8AYNh/9FxUAev/ANlaf/z42/8A36FH9laf/wA+Nv8A9+hVusvWPE2ieHwn9uarZ2HmfcFxMELfQGgCz/ZWn/8APjb/APfoUf2Vp/8Az42//foVKLy3NkLzz4/sxTzPOLALtxnOfTFZ2j+KtB8QTSxaJq9nfyQ/6xIJgxX3wO3vQBc/srT/APnxt/8Av0K+evidbw2/7ROmJbxJEv8AZgOEUAdWr6Qr5z+Kn/Jxmmf9gwfzagD1Twn/AKlfpXbJ90VxPhP/AFK/Su2T7ooAdRRRQAUUUUAFFFFABRRRQAUUUUAFc548/wCRE1v/AK8Jv/QDXR1znjz/AJETW/8Arwm/9ANAHMfs/f8AJGNI/wB6b/0Y1elV5r+z9/yRjSP96b/0Y1elUAeMfEv4fax46+MHh6S50/zvDVjGBcu0gAbkswxnPPyiqY+FV74V+PWka34O0hIdBEQS48uQARkqytwTk9jXudFABWT4r/5EzWv+wfP/AOi2rWrJ8V/8iZrX/YPn/wDRbUAcL+zx/wAkb07/AK7Tf+jGr1CvL/2eP+SN6d/12m/9GNXqFAHjPifwJ4g1D9pDRPE9rZb9JtY0Es+9RtIRgeM57ipPix4B8ST+NtI8deBI4rjVLBRHLbSEDzAM4POM8EgjPpXsVFAHk/wZ+Hus+HbzWPEvi4RrrOsy7miQ58pcknn1JP6CvWKKKAPlfwp/yVnxr/2FZP8A0Y9fQvh3/j3X6V89eFP+Ss+Nf+wrJ/6MevoXw7/x7r9KAOiHSlpB0paACiiigArA8XeC9E8baQ+n6/ZrMmP3cg4eI/3lbsa36KAPA0u/GfwIuhFfibxH4MLYSYczWa+/p/L6V7L4Z8U6P4u0ePUtBvEurdxztPzIfRh2Nak0MdxC8M8ayRuNrIwyGHoRXjHiX4T6v4R1iTxT8I7n7Jc533Gksf3U47hR0/D8sUAe1UV518Pvi/pni+Y6Tq0TaP4hhO2awuPl3MOuzPX6da9FoAKKKKACiiigAooooAKKKKACiiigAooooAKKKKACiiigAooooAKKKKACiiigAooooAKKKKACiiigAooooAKKKKACiiigAooooAKKKKACiiigAooooAKKKKACub8Y/wCs8P8A/YXj/wDRcldJXN+Mf9Z4f/7C8f8A6LkoA6SiiigArm/A/wDyCtS/7DOof+lUldJXN+B/+QVqX/YZ1D/0qkoA6SiiigAooooAKKKKACiiigAooooAKKKKACiiigAooooAKKKKACiiigAooooAjm+4a8b+Af8AyMHj7/sMN/Nq9km+4a8b+Af/ACMHj7/sMN/NqAPaK5L4o+IpvC3wz1rVrNtlzFBthb+67EKD+Gc/hXW1x/xW8Pz+J/hfremWSF7l4N8KDqzIQ2Pxxj8aAPMfgb8KvD2teBYPE/iWyXUtQ1CZ5Veck+WFcgY9yVzn3r30AKoA4A4FfPvwO+Lnh3RfA1t4Y8SXTaff2MzxRiSNsSBnJHQcEFsYNfQQIZQRyDyKAFr5kvP+TjPFX/bP+S19N18yXn/Jxnir/tn/ACWgD3Hwz/x7p9K6lelct4Z/490+ldSvSgBaKKKAGv8Adrxfwt/ydh4s/wCwbD/6Lir2h/u14v4W/wCTsPFn/YNh/wDRcVAHtVfMH7Rfw+tNFtZfFLX11dXmo6htCSvlIUKk7VH1FfT9eHftUf8AJO9O/wCwgP8A0BqAKnxs1250v4C+HrC0laM6mkEUhU4JRYwxH54rlr7QbX4V/F3wFN4fLwpf20KXa7yfNZjscnPrkceorp/jfolxqPwH8OahaxNJ/ZqwSSBRnCNGAT+eK5vUNbs/ip8XvAUPh7fPHYW0Ul22wgRFTuYH6YAz6mgD6iHNfOfxU/5OM0z/ALBg/m1fRg4r5z+Kn/Jxmmf9gwfzagD1Twn/AKlfpXbJ90VxPhP/AFK/Su2T7ooAdRRRQAUUUUAFFFFABRRRQAUUUUAFYni2xm1LwrqdlbAGa4tJIowTgFipArbqOVNykUAfNvhbxD8Ufh74Xt9BtvC1lLBal9sksmWOWJ7N71oH4y/FBTg+FNO/76b/AOKr2bUNHW5JytY7eFI2Odn6UAeYf8Lm+J//AEKunf8AfTf/ABVH/C5vif8A9Crp3/fTf/FV6d/wiUf9z9KP+ESj/ufpQB5j/wALm+J//Qq6d/303/xVVtR+LPxM1LS7qxl8LaeqXULwsyscgMpBI+b3r1f/AIRKP+5+lH/CJR/3P0oA8R8E+OPiJ4G8LwaHp/huznghZ2DzMdx3MT2b3roP+FzfE/8A6FTTv++m/wDiq9O/4RKP+5+lH/CJJ/c/SgDzH/hc3xP/AOhU07/vpv8A4qj/AIXN8T/+hV07/vpv/iq9O/4RJP7n6Uf8IlH/AHP0oA8x/wCFzfE//oVdO/76b/4qj/hc3xP/AOhV07/vpv8A4qvTv+ESj/ufpQPCcefufpQB4v8AD3R9bfxNresa5Zray6nc+fsRsgElice3NfQWgxlIFBqhaeHEhcEL+ldFaWwhUACgC2KWiigAooooAKKKKACiiigDg/iF8KNG8dxC550/WYRm31C34dSOm7HUVxeh/EvxF8ONUi8OfFmB5LUnZaa5EpKOO289/wCfrXuFYfjG10C68K33/CWwwyaXHEXm84cKB3HofTFAGL4++J+j+CfBya4s0V8bkgWcUUgInPqCOwHeup0bVbbXNFtNTsXElvdRLLGw9CM1+feuX0NzqE0WmvcDS4pX+xwTyFjGhPAr6X/Zg8af2l4buvC95LmfTm823BPJiY8j8G/mKAPeqKKKACiiigAooooAKKKKACiiigAooooAKKKKACiiigAooooAKKKKACiiigAooooAKKKKACiiigAooooAKKKKACiiigAooooAKKKKACiiigAooooAK5vxj/rPD/8A2F4//RcldJXN+Mf9Z4f/AOwvH/6LkoA6SiiigArm/A//ACCtS/7DOof+lUldJXN+B/8AkFal/wBhnUP/AEqkoA6SiiigAooooAKKKKACiiigAooooAKKKKACiiigAooooAKKKKACiiigAooooAjm+4a8b+Af/IwePv8AsMN/Nq9km+4a+f8A4R+M/D3hbxL45j8Qatb2Dz6u7RiYkbgC2cUAfQlFcZ/wt7wD/wBDRY/99H/Cj/hbvgH/AKGix/76P+FAFzUPhv4P1XVP7Sv/AA9Yy3e7cZTCMsfU+tdMAFUBRgDgCuN/4W74B/6Gix/76P8AhR/wt7wD/wBDRY/99H/CgDs6+ZLz/k4zxV/2z/kte0f8Le8A/wDQ0WP/AH0f8K8Mt9Vsdb+PXiXUNKuUurSYIY5Y+jDAHFAHvnhn/j3T6V1K9K5bwz/x7p9K6lelAC0UUUANf7teL+Fv+TsPFn/YNh/9FxV7Q/3a+f4vFeieEf2ovFF54iv0sbeSwgjR3VjlvLiOOAfSgD6CrN1rw/pPiO0W213T7e/gR96x3EYcBsYzg1yf/C8Ph1/0M9v/AN+pP/iaP+F4fDr/AKGe3/79Sf8AxNAHb/YbX+z/ALCbeM2vl+X5JUFduMbcemKzdE8I+H/DcssmhaPZ2Dzf6xoIQpb2yO1c1/wvD4df9DPb/wDfqT/4mj/heHw6/wChnt/+/Un/AMTQB31fOfxU/wCTjNM/7Bg/m1enf8Lw+HX/AEM9v/36k/8Aia8b8ZeKdG8W/HrTr/w9fJe2y6f5ZkRWADDdkcgetAHtXhP/AFK/Su2T7orifCf+pX6V2yfdFADqKKKACiiigAooooAKKK8n+MHxV8QfDiSE2Ph6K5s5xhL6SQlQ/dSoxg/jzQB6xRXxXrX7Qnj/AFfcseppp8Z/hs4wmP8AgXX9a+n/AISWmp23wz0ubXbu4u9QvI/tU0txIXfL/MASfQECgDtaKKiurmKztZbi5kWOGJC7ux4VQMk0APKg9aTYvpXAP8cfh6pI/wCEkgJH/TKT/wCJqP8A4Xn8Pv8AoYof+/Un/wATQB6HsX0o2L6V55/wvP4ff9DFD/36k/8AiaP+F5/D7/oYof8Av1J/8TQB6HsX0o2L6V57/wALz+H3/QxQ/wDfqT/4mj/hefw+/wChih/79Sf/ABNAHoWxfSl2L6V55/wvP4ff9DFD/wB+pP8A4mj/AIXn8Pv+hih/79Sf/E0Aeh7F9KTYvpXnv/C8/h9/0MUP/fqT/wCJo/4Xn8Pv+hih/wC/Un/xNAHoWxfSjYvpXnv/AAvP4ff9DFD/AN+pP/iaP+F5/D7/AKGKH/v1J/8AE0Aeh7BS4xXNeG/Hvh7xakzeHtSjvRAQJNgYbc9OoHpXRJIHHFAElFFFABRRRQAUUUUAFFFFABVLV9H0/XtOew1i0ju7WTBeKVcqcdOKu0UAed3nwI+Hl5nd4fjiJ/54yMn8jR4Y+Cfhbwd4li1vw8b21uI1ZCn2gsjqeoIOeOn5V6JRQAUUUUAFFFFABRRSE4oAWiuEv/jL4D06+ms7vxFAk8DlJE8tztYHBGQuKqn45/D7/oY4f+/Un/xNAHotFec/8Lz+H3/QxQ/9+pP/AIml/wCF5/D7/oYof+/Un/xNAHotFec/8Lz+H3/QxQ/9+pP/AImj/hefw+/6GKH/AL9Sf/E0AejUV51/wvP4ff8AQxQ/9+pP/iaP+F5/D7/oYof+/Un/AMTQB6LRXnX/AAvP4ff9DFD/AN+pP/iaP+F5/D7/AKGKH/v1J/8AE0Aei0V51/wvP4ff9DFD/wB+pP8A4mk/4Xn8Pv8AoYof+/Un/wATQB6NRXHeH/if4T8UagbHQtYiu7kIXMaqynaO/IHrXWRzB+lAEtFFFABRRRQAUUUUAFFFFABRRRQAUUUUAFFFFABRRRQAUUUUAFFFFABRRRQAVzfjH/WeH/8AsLx/+i5K6Sub8Y/6zw//ANheP/0XJQB0lFFFABXN+B/+QVqX/YZ1D/0qkrpK5vwP/wAgrUv+wzqH/pVJQB0lFFFABRRRQAUUUUAFFFFABRRRQAUUUUAFFFFABRRRQAUUUUAFFFFABRRRQBHN9w18/wDwj8GeHfFPiXxzJ4h0i11B4NXdY2njDbAS2QK+gJvuGvG/gH/yMHj7/sMN/NqAO1/4VB4A/wChU0z/AL8Ck/4VD4A/6FTTP+/ArtKKAOL/AOFQ+AP+hU0z/vwKX/hUHgD/AKFTTP8AvwK6W01rS7+6e2stRtbidAS0UUysygHByAavUAcZ/wAKg8Af9Cppn/fgV4Zb6VY6J8evEmn6Tax2tpCEEcMS4VRgHgV9TV8yXn/Jxnir/tn/ACWgD3Hwz/x7p9K6lelct4Z/490+ldSvSgBaKKKAGv8AdrwfTdC0rX/2p/FVvren29/CmnwOsdxGHUHy4ucGveH+7Xi/hb/k7DxZ/wBg2H/0XFQB6F/wrTwT/wBCrpP/AICJ/hR/wrTwT/0K2k/+Aif4V1FFAHL/APCtPBP/AEKuk/8AgIn+FH/Cs/BP/QraT/4CJ/hW22s6WrFW1K0DA4IM65B/OroOcEcigDl/+FaeCf8AoVdJ/wDARP8ACvDfH2iaZoP7QGm2ui2FvYwNp28x28YRSctzgV9NV85/FT/k4zTP+wYP5tQB6p4T/wBSv0rtk+6K4nwn/qV+ldsn3RQA6iiigAooooAKKKbJIkUTSSsqIg3MzHAA9TQApOBk8CvDPiX4yn+I2oyfDvwFaRai0jAX+oOu6K3APOD6j1/KjxT431v4qa9L4N+GztDpqHbqWs8hQvdVPp+p+len+B/Auj+AtCTTtHh+Y8z3DjMkzerGgD5S1L4Kaz4e+KWjeHbwG5s9QuEEd3GuFdAQX+hAzxX2dBClvbxwxKFSNQqgdgBRJBFLJG8kas8R3IxGSpxjI9ODUlABXPeOmx4E1z/rwm/9ANdDXOePP+RE1v8A68Jv/QDQB518EPA/hfWPhPpd7qugafd3UjS75prdWZsSMBkkV6B/wrTwT/0K2k/+Aif4Vzv7P3/JGNI/3pv/AEY1elUAcv8A8K08E/8AQraT/wCAif4Uf8K08E/9CtpP/gIn+Famr+JtE0BkXW9VtLBpBlBcTBCw9RmpNK13StdhaXRtRtb5F+81vKHx9cUAY/8AwrTwT/0Kuk/+Aif4VmeJfhz4Nt/CerTQeGdLjljspnR1tUBUhCQRxXd1k+K/+RM1r/sHz/8AotqAPKPgX4I8Maz8KbC81XQdPvLl5ZQ0s1urMQHIHJFei/8ACtPBP/Qq6T/4CJ/hXL/s8f8AJG9O/wCu03/oxq9QoA5f/hWngn/oVdJ/8BE/wo/4Vp4J/wChV0n/AMBE/wAK6WWaOCJpZ5FjjX7zuwAH4moINU0+5lEVvfW0sh6JHMrE/gDQBg/8K08E/wDQq6T/AOAif4Uf8K08E/8AQq6T/wCAif4V1FFAHzR8MZ4tF+JHjizs40ggXUikcaDCqqvIAAPSvoDSbkzRKa+b/CbEfFnxtj/oKyf+jHr6F8OnNuv0oA6EUtIOlLQAUUUUAFFFFABRRRQAUUUUAFFFFABRRRQAUUUUAFRynCmpKhn/ANWaAPAfg74K8OeKtS8YT+IdHtdQkh1h0jaeMMVHXAr1D/hUPgD/AKFTTP8AvwK4v9nz/j58a/8AYZf+Ve0UAcX/AMKh8Af9Cppn/fgUv/CoPAH/AEKmmf8AfgV2dUbPWtL1C4eCx1G1uZkGWjimVmH1ANAHM/8ACofAH/QqaZ/34FH/AAqHwB/0Kmmf9+BXaUUAfPHw98A+FtT+MfjzTb/Q7OeysJYxawPECsQJfO0dugr1T/hUHgD/AKFTTP8AvwK4z4Xf8l4+JP8A13i/9Ckr2agDjP8AhUHgD/oVNM/78Cj/AIVB4A/6FTTP+/ArsXkSPHmOq56bjilZlRdzMFHqTQBxv/CoPAH/AEKmmf8AfgUn/CofAH/QqaZ/34Fdis8TttSVGPoGBp9AHzTc6dpvhD9pm4tNDs4bG1XTl2xQrtUEqhPFe66Lem4jUk14X46OP2nrjH/QPj/9AWvY/CxzAv0oA7FeRS01Pu06gAooooAKKKKACiiigAooooAKKKKACiiigAooooAKKKKACiiigAooooAK5vxj/rPD/wD2F4//AEXJXSVzfjH/AFnh/wD7C8f/AKLkoA6SiiigArm/A/8AyCtS/wCwzqH/AKVSV0lc34H/AOQVqX/YZ1D/ANKpKAOkooooAKKKKACiiigAooooAKKKKACiiigAooooAKKKKACiiigAooooAKKKKAI5vuGvG/gH/wAjB4+/7DDfzavZJvuGvG/gH/yMHj7/ALDDfzagD2iszxJqq6H4X1PVGOBZ2sk2T6qpI/WtOvMP2hdZ/sj4O6gitte/kjtV98ncf0U0AeIfBV7nw/8AFTw1f3MjeX4itpx8x6/vHUf+PRCvr6vjTVJPFPhxPh9qOv6PDp1jpbxiznjbLTJuVzu54OCT26mvsmNxLCjr0YAigB1fMl5/ycZ4q/7Z/wAlr6br5kvP+TjPFX/bP+S0Ae4+Gf8Aj3T6V1K9K5bwz/x7p9K6lelAC0UUUANf7teL+Fv+TsPFn/YNh/8ARcVe0P8Adrxfwt/ydh4s/wCwbD/6LioA9qqK6lEFnNMTgRxs2foM1LUF7NbW9hcTX7xpapGzTNIflCY5z7YoA+Sfhd4V8GeO7y8bxP4hns9Xmvm+zWqTbPMXgg8jBOSeM9q+uooxDCka8hFCjPtXzB8d4PBW/QZPARsTrcl0MDS2U5XjGdvfdjHfrX01p4mGm2wuuZ/KXzP97HNAFivnP4qf8nGaZ/2DB/Nq+jK+c/ip/wAnGaZ/2DB/NqAPVPCf+pX6V2yfdFcT4T/1K/Su2T7ooAdRRRQAUUVT1XVbHRNLn1HVbmO2tYF3SSyHAAoAmu7u3sbSW6vJkgghUtJJI2FUDuTXhOseIde+OWuSeH/B7y6f4Tt3232pkbWuMdVX/D8T6UyafX/2gdbMFmZ9J8DWsmHk+7Jekenr/IfWvb9D0PTvDmjwaZo1qlraQLtSNB+p9TQBV8K+FNJ8G6FDpWh2ywQRjk/xSN3Zj3JraoooAKKKKACuc8ef8iJrf/XhN/6Aa6Ouc8ef8iJrf/XhN/6AaAOY/Z+/5IxpH+9N/wCjGr0qvNf2fv8AkjGkf703/oxq9KoA+bf2i0s5fit4Oj1Up9hZUFxvOF8vzvmz7YzTfh3p1lH+0hdP8Od58MwQFbl4yxhyUGVBPX5+n0NSftDwWtz8W/BkGohDaSCNJxIcKUM+GyfTGaoaL/Z/hr9puz034a3HmaVcqovIYJN8Q+UlueeBwfY8UAfT9ZPiv/kTNa/7B8//AKLatasnxX/yJmtf9g+f/wBFtQBwv7PH/JG9O/67Tf8Aoxq9Qry/9nj/AJI3p3/Xab/0Y1eoUAeZ/tBX5sfgzqgVipuHiiGD/tg/+y1yXwR8D+CWuNP8QaF4gnvtYtrcG5tjLxGzLhvlIBxk9a9h8Sy+HU0+OLxY9gtpNIFRb4qEZ8E/xcZxmvn7wzb6TH+1Uq/D0odLWFjdfZTmIfJ82McY3bfxoA+maKKKAPlfwp/yVnxr/wBhWT/0Y9fQvh3/AI91+lfPXhT/AJKz41/7Csn/AKMevoXw7/x7r9KAOiHSlpB0paACiiigAooooAKKKKACiiigAooooAKKKKACiiigAqG4/wBWamqG4/1ZoA8d/Z8/4+fGv/YZf+Ve0V4v+z5/x8+Nf+wy/wDKvaKAMfxdqo0Twbq+psdv2WzkkB9wpx+uK+Xvgi9x4f8AipoF1dO2zxDZzHDHjl2x/wCgD869l/aL1n+yfhDdwq2JL+eO2A9Rksf/AEH9a8N1CTxT4c1P4fah4i0eHTbTTnihtZY2yZY9wLbuTg4Y/nQB9jUU2NxJGrr0YAinUAeM/C7/AJLx8Sf+u8X/AKFJXs1eM/C7/kvHxJ/67xf+hSV7NQB8mfHXwz4h0PWLLV9d8QzX7X95IsECkhYIgQVH1wfSvXPj9qDWHwRn2OUe4eCIEHB9f/Za5P8Aap/48/DH/XzJ/wCy17Jrlt4dvtDtLTxYLF7WTaY471lCs4XtnvgmgDyz4LfDvwvbXdl4m0TxTc6pfRW+Li185WSNmXkFcbhg9K9yr5o8FWmm6X+1NcWfgKRW0byG+0LA26JRsBYA+gfFfS9AHzV47/5OeuP+wfH/AOgLXsXhX/UL9K8d8d/8nPXH/YPj/wDQFr2Lwr/qF+lAHYp92nU1Pu06gAooooAKKKKACiiigAooooAKKKKACiiigAooooAKKKKACiiigAooooAK5vxj/rPD/wD2F4//AEXJXSVzfjH/AFnh/wD7C8f/AKLkoA6SiiigArm/A/8AyCtS/wCwzqH/AKVSV0lc34H/AOQVqX/YZ1D/ANKpKAOkooooAKKKKACiiigAooooAKKKKACiiigAooooAKKKKACiiigAooooAKKKKAI5vuGvG/gH/wAjB4+/7DDfzavZJvuGvD/gjrGm6Z4i8eLqWo2loz6wxUXE6xlhlumTzQB7pXN+M/AmiePdPt7HxHDLNb28vmokcrJ82MZODzwTV7/hK/Dv/Qe0v/wMj/xo/wCEr8O/9B7S/wDwMj/xoAoeLfAGgeNdFtdK162eS1tZA8SxyMhUgFeo9jXQW1ulpaRW8WdkSBF3HJwBjrWd/wAJX4d/6D2l/wDgZH/jR/wlfh3/AKD2l/8AgZH/AI0Aa1fMl5/ycZ4q/wC2f8lr6F/4Svw7/wBB7S//AAMj/wAa+dXure8/aE8UT2c8c8L+WVkicMrcDoRxQB7t4Z/490+ldSvSuW8M/wDHun0rqV6UALRRRQA1/u14v4W/5Ow8Wf8AYNh/9FxV7Q/3a8M0XVNP0r9qrxVNql9bWUTadAqvczLGpPlxcZYjmgD3Wqupada6tplxp+oRCW2uYzHLGT95T1FZ3/CaeFv+hl0j/wAD4v8A4qj/AITTwt/0Mmkf+B8X/wAVQBh+Hvg94I8L6ouo6RoqJdIcpJLI0mw/7O4nH4V29Yn/AAmnhb/oZdI/8D4v/iqP+E08Lf8AQy6R/wCB8X/xVAG3Xzn8VP8Ak4zTP+wYP5tXuP8Awmnhb/oZdI/8D4v/AIqvBPiLqdhqv7Qmmz6Ze297CNN2mS3lWRQctxkE80AeveE/9Sv0rtk+6K4nwn/qV+ldsn3RQA6iisHxh4y0jwPoMmqa5cCONRiOIH55W/uqO9AFrxF4j0vwrok+q63dJbWsIySx5Y9lUdyfSvFbLTdf+PmuJqeurNpfgq2kzbWeSrXmP4j7H1/L1qbQPCmu/GbXovFPj2OSz8PQtu07SMkeYOzN7dPr9K90t7eK1t0gto1iijUKiIMBQOwFAEWn6faaVYQ2WnQJb20KhI441wFAqzRRQAUUUUAFFFFABXOePP8AkRNb/wCvCb/0A10dc548/wCRE1v/AK8Jv/QDQBzH7P3/ACRjSP8Aem/9GNXpVeQ/ArxNoOnfCHSrbUNb061nRpd0U93GjL+8bqCc16H/AMJp4W/6GTSP/A+L/wCKoAzfGHwy8LeO7q3ufEtg9zLbpsjZJ3j2rnOPlI7mpvCvw78LeC3d/DukxWsrjDTEl3I9Nxyauf8ACaeFv+hk0j/wPi/+Ko/4TTwt/wBDJpH/AIHxf/FUAbdZPiv/AJEzWv8AsHz/APotqi/4TTwt/wBDLpH/AIHxf/FVl+J/GHhqXwjq8cXiLSXkexmVVW+jJYmM4AG6gDnv2eP+SN6d/wBdpv8A0Y1eoV458BPE2had8JLC31DWtOtZ1lmLRT3aIwzIccE5r0j/AITTwt/0Mukf+B8X/wAVQAzxZ4K0Lxvp8Vl4ks/tUMT74wJGQq2MZBBBqPwp4C8N+CYZI/DemR2nm/fkyWdvqx5NT/8ACaeFv+hl0j/wPi/+Ko/4TTwt/wBDLpH/AIHxf/FUAbdFYn/CaeFv+hl0j/wPi/8AiqP+E08Lf9DLpH/gfF/8VQB85eFP+Ss+Nf8AsKyf+jHr6F8O/wDHuv0r538GzRXPxS8ZTW8iSxSam7JJGwZWBkfBBHUV9EeHf+PdfpQB0Q6UtIOlLQAUUUUAc54n8daN4UuLe21A3M93cqXjtbOBppSo6ttXsPWpB4z0j+19H00tMt1rMDT2iPEVyqjJ3Z+6cdq5X4h6LrWkeJIPH/hhYrqfT7NoL2xm486DO8lT2YYrFu9ctvEfxd+G+s2YKQXlhcyIrdVyh4/CgD0E+OdFE+vw+ZLv8PoHvh5f3QVLcevANYcPxp8GS3dvC17NFFcpujupYGWFiFyV39Cw9PXiuLBzrPxox/z6L/6Jes/W7O2PwT+GamCPDahYZG0c7sbvzoA9a8MfEPQfFup3Wn6Y9xHd2qh3huoGiZkPR1B6j3rqK8tu0WL9prTfKUJv8PsG2jGcSHFepUAFFFFABRRRQAUUUUAFQ3H+rNTVDcf6s0AeO/s+f8fPjX/sMv8Ayr2ivCvgVrGmaZeeM01LUbS0Z9YcqtxOsZYeoya9e/4Szw7/ANB/S/8AwMj/AMaAKXjHwHofju1tbfxFDJNFayebGqSsg3e+DzTfFnw/0Dxrpdpp+vW8kkFm4eERyshU4x1Bq/8A8JZ4d/6D+l/+Bkf+NL/wlnh3/oP6X/4GR/40AaVvCltbxwR52RqFXJycCpKyP+Es8O/9B/S//AyP/Gj/AISzw7/0H9L/APAyP/GgDzD4Xf8AJePiT/13i/8AQpK9mrwv4a65pNt8b/iHcXGqWUUE80Rile4RVk+Z/uknB/CvXv8AhLPDv/Qf0v8A8DI/8aAM7xl8PtA8eR2ieIoJJhZuXi8uVkwTjPQ89BS+MPh/oPjnTbay1+CWSO1JaExzMhU4xng8/jWh/wAJZ4d/6D+l/wDgZH/jR/wlnh3/AKD+l/8AgZH/AI0AZ3g/4eeG/AkMieHNPEDzf6yV2Lu/1Y849q6esn/hLPDv/Qf0v/wMj/xpP+Es8O/9B/S//AyP/GgDwHx3/wAnPXH/AGD4/wD0Ba9i8K/6hfpXi3jC9tdQ/aWnnsLmG5hNhGBJDIHUnavccV7T4V/1C/SgDsU+7Tqan3adQAUUUUAFFFFABRRRQAUUUUAFFFFABRRRQAUUUUAFFFFABRRRQAUUUUAFc34x/wBZ4f8A+wvH/wCi5K6Sub8Y/wCs8P8A/YXj/wDRclAHSUUUUAFc34H/AOQVqX/YZ1D/ANKpK6Sub8D/APIK1L/sM6h/6VSUAdJRRRQAUUUUAFFFFABRRRQAUUUUAFFFFABRRRQAUUUUAFFFFABRRRQAUUUUARzfcNfN/wANPht4b8d+KPGs3iK1kne11Z0iKTMmAWYnoa+kJvuGvG/gH/yMHj7/ALDDfzagDY/4Z5+H3/QNn/8AAqT/ABo/4Z5+H3/QNn/8CpP8a9QpCwUZYgD1JoA8w/4Z5+H3/QNn/wDAqT/Gj/hnn4ff9A2f/wACpP8AGvTllR/uOrfQ5p1AHl//AAzz8Pv+gbP/AOBUn+NeRaXoNh4Z+OHiHSNJjaO0tlRY1ZixAwD1P1r6tr5kvP8Ak4zxV/2z/ktAHuPhn/j3T6V1K9K5bwz/AMe6fSupXpQAtFFFADX+7Xz03g3RfGv7T/iex8Q2pubeKxglRQ5XDeVEM8fWvoV/u14v4W/5Ow8Wf9g2H/0XFQBv/wDDP3w8/wCgM3/f9/8AGj/hn74ef9AZv+/7/wCNel0UAeaf8M/fDz/oDN/3/f8Axo/4Z++Hn/QGb/v+/wDjXpdFAHmn/DP3w8/6Azf9/wB/8a8j8VeENH8F/HfTtO8P2xt7Z7DzShct8x3DPP0r6nr5z+Kn/Jxmmf8AYMH82oA9U8J/6lfpXbJ90VxPhP8A1K/Sm/ET4m6b4A0tFI+26vcjbaWEfLSMehIHQZ/OgDQ8ffEHSPh/obXupyeZcSAi2tEP7yduwA9PevOvB/gHWfiHr0fjb4nqfKB36do7D5Il6gsP6fnVzwD8M9T1rXB43+J7fa9WkIe1sH5jtF7cdMjsO1exgYGBwKAERFjQIihVUYAAwAKWiigAooooAKKK5P4m+JL3wj8PdR1vTBGbm02MokXKnLgEH8DQB1lFeS/D39oDw54vEdnq7Lo+qNgeXK37uQ/7Ldvoa9ZDBl3KQQeQR3oAWuc8ef8AIia3/wBeE3/oBro65zx5/wAiJrf/AF4Tf+gGgDyD4QfB/wAG+Kfhnp2ra1prT3k5k3uJWXOHIHAPoK7f/hn74ef9AZv+/wC/+NL+z9/yRjSP96b/ANGNXpVAHmn/AAz98PP+gM3/AH/f/Gj/AIZ++Hn/AEBm/wC/7/416PLPFAMzSpGPV2ApySJKu6J1dfVTkUAebf8ADP3w8/6Azf8Af9/8azvEHwI8A2XhnU7u30hlmgs5ZI289zhlQkHr6ivXKyfFf/Ima1/2D5//AEW1AHh3wb+EPg7xX8NbLVdb00z3cskqs4lZcgOQOAfQV3n/AAz98PP+gM3/AH/f/Gov2eP+SN6d/wBdpv8A0Y1eoUAeaf8ADP3w8/6Azf8Af9/8aP8Ahn74ef8AQGb/AL/v/jXpdFAHmn/DP3w8/wCgM3/f9/8AGj/hn74ef9AZv+/7/wCNel0UAfJ3gLT7fSfiL4s0+xTy7a11BoYlznaqu4A/IV9HeHf+PdfpXz14U/5Kz41/7Csn/ox6+hfDv/Huv0oA6IdKWkHSloAKKKKAOV8VeDrvxLM4j8R6jp1pND5M9rbFdsi856jIJBxmqOu/C3TNT0zRLfTLu50ifQuLG5tWG9FIAIOeucV3FFAHB6R8KtP0i18SQrqN5cN4hgEV1LOwZ921lL59TuJqzd/Dawu/Cfh7QXu51h0KeCaGQY3SGLoD9a7OigDnpvCFtN8QLbxWZ5Bc29kbNYhjaVLbs+ua6GiigAopAwJIBBI6+1LQAUUUUAFFFFABUNx/qzU1Q3H+rNAHzh8LPhp4a8dap4tufEVrJPLb6tJHGUmZMDr2Nei/8M8/D7/oGz/+BUn+NY/7Pn/Hz41/7DL/AMq9ooA8v/4Z5+H3/QNn/wDAqT/Gj/hnn4ff9A2f/wACpP8AGvT2ZUGWIUepNIkiP9x1b6HNAHmP/DPPw+/6Bs//AIFSf40f8M8/D7/oGz/+BUn+NeoUUAfMvgT4T+Fdb+K/jXRdQs5XstKljW1QTsCoJfOSDk9B1r0r/hnn4ff9A2f/AMCpP8ayfhd/yXj4k/8AXeL/ANCkr2agDy//AIZ4+H3/AEDZ/wDwKk/xo/4Z4+H3/QNn/wDAqT/GvUKKAPL/APhnj4ff9A2f/wACpP8AGj/hnn4ff9A2f/wKk/xr1CigD5R1Pwtpfg/9oKXSdDhaG0SyV1VnLHLKpPJr3vwr/qF+leO+O/8Ak564/wCwfH/6AtexeFf9Qv0oA7FPu06mp92nUAFFFFABRRRQAUUUUAFFFFABRRRQAUUUUAFFFFABRRRQAUUUUAFFFFABXN+Mf9Z4f/7C8f8A6LkrpK5vxj/rPD//AGF4/wD0XJQB0lFFFABXN+B/+QVqX/YZ1D/0qkrpK5vwP/yCtS/7DOof+lUlAHSUUUUAFFFFABRRRQAUUUUAFFFFABRRRQAUUUUAFFFFABRRRQAUUUUAFFFFAEc33DXjfwD/AORg8ff9hhv5tXsk33DXjfwD/wCRg8ff9hhv5tQB7RXlH7R88tv8IZ3gkeNvtcQ3I2DjJr1evJP2lf8Akjs//X5D/M0AeM3mnSeBtM8Da94R1y8fWNWCPcWXn7txO3+EdiSRg19fRMzQI0gwxUFh6Gvj7WvD0fw38I+C/Hfh/UJP7Tu0VntpyHX7u4lR2Hb8RX1zpN4+oaNZ3ksZie4gSRkP8JIBxQBbr5kvP+TjPFX/AGz/AJLX03XzJef8nGeKv+2f8loA9x8M/wDHun0rqV6Vy3hn/j3T6V1K9KAFooooAa/3a8X8Lf8AJ2Hiz/sGw/8AouKvaH+7Xi/hb/k7DxZ/2DYf/RcVAHtVfMvx9Xx7pUkusXevtb6Q175FjaWrlDtwTubHfjHevpqvDv2qP+Sd6d/2EB/6A1AGh8T/ABzf+EfgbpVxps7JqWowwW8c+fmTKZZh74GM+9cL4fu/Enwt+KPhey1PXLnUrHxFbxvcxzMSEdyRxnuGxz6GtH49WcsvwV8H3iAmO2aESY7bohg/pVP4iXEHiP4tfDW20uVZ2NvbynyznC7938lJoA+lq+c/ip/ycZpn/YMH82r6MHAFfOfxU/5OM0z/ALBg/m1AHqnhP/Ur9K+fvih4J8WeEviEfFN7qd5LYT3G5dVtwWe1U9ARnjA4HbivoHwn/qV+ldhPaW99ZPbXkKTwSqVeORcqwPYigDxDQvAvjHxLpMWpaJ8X9Qu7WUZV0ZuPYjdwfatH/hU3xE/6Kpqn5t/8VVLXfh94i+F2ry+Jvhaz3GnMd97ojklSvfYPz9xXoPw/+Jmi/EDTy1g5t9QhGLmxl4kiPfjuM96AOL/4VN8RP+iqap+bf/FUf8Km+In/AEVTVPzb/wCKr2aigDxn/hU3xE/6Kpqn5t/8VR/wqb4if9FU1T82/wDiq9mooA8Z/wCFTfET/oqmqfm3/wAVXJ/E34d+NNF+Hmp3+sfEG/1WzhVTJaSltsnzAc5b15r6SrI8U+G7Pxb4duNF1MyC1uSvmeWcEgMDjP4UAfBXhzwvrXirU0svD9hNdzkjPljhPct0FfZXwk8F+JPBvh77N4m16TUGYDy7X7yW/sGPJ/lXWeHvDGj+FtNSx0Gwhs4FHSNeW9yepNa1ABXOePP+RE1v/rwm/wDQDXR1znjz/kRNb/68Jv8A0A0Acx+z9/yRjSP96b/0Y1elV5r+z9/yRjSP96b/ANGNXpVAHzh+0TCt98U/B+nXE8kVrdKkU2x9vytNgnP0pPh9BL4T/aLuPDHhTVLjUdB8gtcK8vmLH8gPJ6ZDHGffFJ+0RYRap8WvBlhc7hDdCOGTacHa02Dg/jVfw9CfhZ+0bB4X8NXj3mmakEFxFIQ7RkqTyfUYz9DQB9M1k+K/+RM1r/sHz/8Aotq1qyfFf/Ima1/2D5//AEW1AHC/s8f8kb07/rtN/wCjGr0PWhfnQ70aMyLqHkt9mLjKiTHy5/GvPP2eP+SN6d/12m/9GNXqFAHy9ojeMdF/aU0PSfFevzX9xNmWZEkbyhuhchQOmB9K6v4ua5rPiT4qaJ8OtD1KbTYLhBLdzQkhjkE9uwUdPU1m+Jf+TzND/wCuS/8Aoh6f4lA0n9r/AEi7vn8uG8gXy3c4H+rZev1GKANX4FeJNYg8UeIvA+v30l+2kyE280pJbaGKkZPbofxr3Cvnr4QINS/aJ8a6ranfap5se9eQS0gx/wCgmvoWgD5X8Kf8lZ8a/wDYVk/9GPX0L4d/491+lfPXhT/krPjX/sKyf+jHr6F8O/8AHuv0oA6IdKpaprWmaJAk2sX9vZRO21XnkCBj6DNXR0rF8T+D9D8ZWUVp4jsEvIYX3xhiRtPTIIoAr/8ACwfCH/QyaZ/4Er/jR/wsHwh/0Mmmf+BK/wCNc9/woj4d/wDQvx/9/X/xo/4UR8O/+hfj/wC/r/40AdD/AMLB8If9DJpn/gSv+NH/AAsHwh/0Mmmf+BK/41z3/CiPh3/0L8f/AH9f/Gj/AIUR8O/+hfj/AO/r/wCNAHQ/8LB8If8AQyaZ/wCBK/40f8LB8If9DJpn/gSv+Nc9/wAKI+Hf/Qvx/wDf1/8AGj/hRHw7/wChfj/7+v8A40AdD/wsHwh/0Mmmf+BK/wCNL/wsHwh/0Mmmf+BK/wCNc7/woj4d/wDQvx/9/X/xpf8AhRHw7/6F+P8A7+v/AI0AeF/ED4r6v4Z+NWp6j4P1hZ7GTyiYlfzIJcIoOR0/EV658Pf2gfDvi4RWesMuj6m3GyVv3Uh/2W7fQ14R8QvhvcTfGPUPDngbSJHhiEe2OPJWPKAklj0GT3r1n4d/s1abpBi1DxnIuo3i4ZbVD+5Q+/dv5UAe8AhgCpyD0I70tNiiSGJIolCIgCqoHAA7U6gAooooAKhuP9WamqG4/wBWaAPHf2fP+Pnxr/2GX/lXtFeL/s+f8fPjX/sMv/KvaKAPHv2nLia2+FELW8rxMdTiUlGIJGyTivKLjTpfAOo+AtR8Ha3eT6jrKQyXdiZ94JbZxgdjuI59K9T/AGov+SSwf9hSH/0CSvJtd0JPhVY+CfGPhu/kkvr+BJJrWch85VSdo7A5xQB9eISUUsMEgZFOqCyna6sIJ3XY0sauV9MjNT0AeM/C7/kvHxJ/67xf+hSV7NXjPwu/5Lx8Sf8ArvF/6FJXs1AHzb8YdC8ReBYm8VWvjy9a6lvf3Vk0pG1CSQFGeQMY9K6T4ofEfXdH+D+gSWpaz13XVjR2Xho/lBbHoSSP1rN/aA8DafbWMvj+y1SSPUo5otkTuGikIwBtHrxn865z4t6teeIfhz8PfFGox+Vuf9/tGFDfKc49wpNAGv4P1LxL8N/jNpvhXW9cn1ax1i3V/wB+xOyRlJyM9OQR+NfRlfOfjMprX7Tfg6KwcSmG3hkcoc4ADP8Ayx+dfRlAHzV47/5OeuP+wfH/AOgLXsXhX/UL9K8d8d/8nPXH/YPj/wDQFr2Lwr/qF+lAHYp92nU1Pu06gAooooAKKKKACiiigAooooAKKKKACiiigAooooAKKKKACiiigAooooAK5vxj/rPD/wD2F4//AEXJXSVzfjH/AFnh/wD7C8f/AKLkoA6SiiigArm/A/8AyCtS/wCwzqH/AKVSV0lc34H/AOQVqX/YZ1D/ANKpKAOkooooAKKKKACiiigAooooAKKKKACiiigAooooAKKKKACiiigAooooAKKKKAI5vuGvG/gH/wAjB4+/7DDfzavZJvuGvG/gH/yMHj7/ALDDfzagD2iua8e+CbPx/wCF30PUbia3heVZPMhxuBXp1B9a6WigDyHRP2c/DGmaha3WpX2oauLUgww3cg2Lg8DAA49q9dChVCqMADAA7UtFABXzJef8nGeKv+2f8lr6br5kvP8Ak4zxV/2z/ktAHuPhn/j3T6V1K9K5bwz/AMe6fSupXpQAtFFFADX+7Xi/hb/k7DxZ/wBg2H/0XFXtD/drxTwzLHF+1f4sMrqg/s2Hljj/AJZxUAe21ynxA+H+m/ETRYdN1eaeGKGbzlMBAJOCO/1rpftlt/z8Rf8AfYo+2W3/AD8Rf99igDJ1HwjpWr+Df+Ea1OI3Fh5Cw4Y/NhQMHPYjANcr4G+CnhrwJrTatZNc3l4FKQyXT7vJU9l/lmvQPtlt/wA/EX/fYo+2W3/PxF/32KAJq+c/ip/ycZpn/YMH82r6G+2W3/PxF/32K+d/ijIkv7RWmGJ1cf2YOVOe7UAereE/9Sv0rtk+6K4nwn/qV+ldsn3RQA6vLfiB8IF1bUB4l8E3P9i+JITvWSI7UnPowHf3/OvUqKAPJ/Afxfe41T/hFviFb/2N4ihOwNINsVz7g9AT+R7V6xXJePPhzonj/SzBqkPl3UYzb3kXEkLeoPce1ebaP438TfCLVIfD3xJWS/0R22WetRqW2DsH/wDr8j3oA92oqvY39rqdlFeafcR3NvMoaOWNtysPrVigAooooAKKKKACuc8ef8iJrf8A14Tf+gGujrnPHn/Iia3/ANeE3/oBoA5j9n7/AJIxpH+9N/6MavSq8w+ANzBH8GtIWSaNWDS5DOAf9Y1ek/bLb/n4i/77FAHC/EP4RaT8RtSsr7Ur68tJ7OPy4zbMBxuJzyOuTTvBPwd8NeB9TbU7JZ7zUWUqLq7k3soPXHYV3H2y2/5+Iv8AvsUfbLb/AJ+Iv++xQBNWT4r/AORM1r/sHz/+i2rQ+2W3/PxF/wB9isnxVd2x8G6yBcREmwnwA4/55tQBxf7PH/JG9O/67Tf+jGr1CvK/2e7mCP4O6csk0at503DOB/y0avTvtlt/z8Rf99igDkb74Y6Tf/E608by3FwNQtVCpGGHlnCFORjPQ0/x/wDDLQ/iJa266uJYbm2J8m6gbbIgPUfSur+2W3/PxF/32KPtlt/z8Rf99igDnfAvgDRvh9o72GiI5Mr75p5Tl5W9Sa6ioftlt/z8Rf8AfYo+2W3/AD8Rf99igD5d8Kf8lZ8a/wDYVk/9GPX0L4d/491+lfPPhJg3xY8alSCDqkmCO/7x6+hvDv8Ax7r9KAOiHSlpB0paACiiigAooooAKKKKACiiigCKO1gimkmihRJZTmRwoBY4xyfwqWiigAooooAKKKKACobj/VmpqhuP9WaAPHf2fP8Aj58a/wDYZf8AlXtFeL/s+f8AHz41/wCwy/8AKvaKAOW+IXgOy+InhldF1K5ntoluFnEkGN25QwHUH+8a47w/+zx4Y0jVLW+1C8v9Ye0KmBLyQFEx04AHTHSvWqKAEAAAAGABxS0UUAeM/C7/AJLx8Sf+u8X/AKFJXspGQR61418Lv+S8fEn/AK7xf+hSV7NQB47/AMM2+GptV+032q6rd23mF/sksw2Ek564zXoHiLwPonibwh/wjd/ahbBVURLH8piKjClfQiuiooA88+H/AMGdA+H+py6lZzXN9fOnlrPdMCY19BgV6HRRQB81eO/+Tnrj/sHx/wDoC17F4V/1C/SvHfHf/Jz1x/2D4/8A0Ba9i8K/6hfpQB2Kfdp1NT7tOoAKKKKACiiigAooooAKKKKACiiigAooooAKKKKACiiigAooooAKKKKACub8Y/6zw/8A9heP/wBFyV0lc34x/wBZ4f8A+wvH/wCi5KAOkooooAK5vwP/AMgrUv8AsM6h/wClUldJXN+B/wDkFal/2GdQ/wDSqSgDpKKKKACiiigAooooAKKKKACiiigAooooAKKKKACiiigAooooAKKKKACiiigCOb7hr5j8BfDO28e+KvGc9zq1/YG11V0C2km0NlmOTX05N9w1438A/wDkYPH3/YYb+bUAO/4Zz07/AKGnW/8Av/8A/Wo/4Zz07/oadb/7/wD/ANavZqKAPGf+Gc9O/wChp1v/AL//AP1qP+Gc9O/6GnW/+/8A/wDWr2aigDxn/hnPTv8Aoadb/wC//wD9avM9D0CPwv8AGjX9HhuZrpLZUUTTtl26Hk/jX1lXzJef8nGeKv8Atn/JaAPcfDP/AB7p9K6lelct4Z/490+ldSvSgBaKKKAGv92vnG+8D2Pjv9prxNp+p3N1bxxWUEoa1k2MT5UQxn05r6Of7teL+Fv+TsPFn/YNh/8ARcVAFr/hm/wz/wBBjWv/AAK/+tR/wzf4Z/6DGtf+BX/1q9gooA8f/wCGb/DP/QY1r/wK/wDrUf8ADN/hn/oMa1/4Ff8A1q9gooA8f/4Zv8M/9BjWv/Ar/wCtXmGv+C7HwN8cdP0zTbi5uInsfNL3L72ydwxn04r6vr5z+Kn/ACcZpn/YMH82oA9U8J/6lfpXbJ90VxPhP/Ur9K7ZPuigB1FFFABVHWNF0/xBpc2naxaR3VrMuHjkXI/+savUUAeCXmg+K/gbqEmpeFPO1vwlI26405iWktx6r/j+deteDvG+ieOdHXUNCulkGP3sLHEkR9GHaugZVdSrgMpGCCOteO+MfhLqGjaw3i34VT/2bqinfPYKcRXI6kY6An06UAex0V5z8O/i5Y+LpDpGswnR/EUHyzWU/wAu8jumev0r0agAooooAK5zx5/yImt/9eE3/oBro65zx5/yImt/9eE3/oBoA8Q+FPwU0Pxd8O7DWb7UdTgnuDJuSCfagw5HAx7V2X/DN/hn/oMa1/4Ff/WrW/Z+/wCSMaR/vTf+jGr0qgDx/wD4Zv8ADP8A0GNa/wDAr/61H/DN/hn/AKDGtf8AgV/9avYKKAPH/wDhm/wz/wBBjWv/AAK/+tVDXf2evDlh4d1G8i1bWGe3tJZVVrnIJVCQDx04r2+snxX/AMiZrX/YPn/9FtQB8/8Awk+C+ieL/h5aavf6jqcE0skilLefag2uR0x7V23/AAzf4Z/6DGtf+BX/ANatD9nj/kjenf8AXab/ANGNXqFAHj//AAzf4Z/6DGtf+BX/ANaj/hm/wz/0GNa/8Cv/AK1ewUUAeP8A/DN/hn/oMa1/4Ff/AFqP+Gb/AAz/ANBjWv8AwK/+tXsFFAHyX8PdNi0f4geKdNt3d4rS+MKNIcswV3AJPrxX0j4d/wCPdfpXz14T/wCSs+Nf+wrJ/wCjHr6F8O/8e6/SgDoh0paQdKWgAooooAKKKKACiiigAooooAKKKKACiiigAooooAKhuP8AVmpqhuP9WaAPmT4dfDC18e6x4rubnV7+wNtqskYW0k2hs85Nd3/wznp3/Q063/3/AP8A61N/Z8/4+fGv/YZf+Ve0UAeM/wDDOenf9DTrf/f/AP8ArUf8M56d/wBDTrf/AH//APrV7NRQB4z/AMM56d/0NOt/9/8A/wCtR/wznp3/AENOt/8Af/8A+tXs1FAHyv4L+ElprnxO8X6JJrepQJpMiKk0UmHlyWHzHv0r0L/hnPTv+hp1v/v/AP8A1qPhd/yXj4k/9d4v/QpK9moA8Z/4Zz07/oadb/7/AP8A9aj/AIZz07/oadb/AO//AP8AWr2aigDxn/hnPTv+hp1v/v8A/wD1qP8AhnPTv+hp1v8A7/8A/wBavZqKAPku48KReDPj1JpEF5cXqR2av5ty25zuCnGa+gfCv+oX6V4747/5OeuP+wfH/wCgLXsXhX/UL9KAOxT7tOpqfdp1ABRRRQAUUUUAFFFFABRRRQAUUUUAFFFFABRRRQAUUUUAFFFFABRRRQAVzfjH/WeH/wDsLx/+i5K6Sub8Y/6zw/8A9heP/wBFyUAdJRRRQAVzfgf/AJBWpf8AYZ1D/wBKpK6Sub8D/wDIK1L/ALDOof8ApVJQB0lFFFABRRRQAUUUUAFFFFABRRRQAUUUUAFFFFABRRRQAUUUUAFFFFABRRRQBHN9w1438A/+Rg8ff9hhv5tXsk33DXjfwD/5GDx9/wBhhv5tQB7RWV4m1638MeGNQ1q8GYbKBpSoP3iOg/E4H41q1578dLea5+DGvLbgkrGjsB3USKT+nNAHmPhCz+JvxdL+KP8AhK5tD037Ri3t4CwVwp5AAI+mTmvo5FKxqrHcQACT3rzP9nq+trv4L6TFbOpktmljmUHlW8xjz9QQfxr06gAr5kvP+TjPFX/bP+S19N18yXn/ACcZ4q/7Z/yWgD3Hwz/x7p9K6lelct4Z/wCPdPpXUr0oAWiiigBr/drxfwt/ydh4s/7BsP8A6Lir2h/u14v4W/5Ow8Wf9g2H/wBFxUAe1V84/Gzxf8TtBu57yC4XSNDju/s9o1uwElxwTuPfoK+jq8O/ao/5J3p3/YQH/oDUAdZ438S3+jfAGfXLe6eO/wD7PgZZwfm3uUGfr81ct8K9E+JN/d6F4k1vxd9s0e4h8+WyZyWKvGdoPbIJB/Cu7fwpYeNfhTpuiauZRazWduz+U20naoI5+orx7w9Y3nws/aM0/wAJ6Lqlze6RqEWXt5X3bAUYjI6ZBXOfQ0AfSlfOfxU/5OM0z/sGD+bV9GV85/FT/k4zTP8AsGD+bUAeqeE/9Sv0rtk+6K4nwn/qV+ldsn3RQA6iiigAooooAKKKKAOB+Inwo0vxxEt7bsdN1yD5rfUIBhgR0DY6iuT8LfFLWPB2sx+E/izEbefOy11fH7ucdtx/r+de1Vzvjfw/4e1/wvdxeLIojYxRtI8z8GHA+8D2IoAXxd410jwb4Xk1zU51a3AHlLGwJmY9AvrWxp1/Bqul21/ZuHguYlljYd1YZFfAXiPXbi8f+yrfU7u80axmcWCXD52oT1x7gCvp79mnxh/bngGTRLmTddaO+xQTyYm5X8uR+FAHtFc548/5ETW/+vCb/wBANdHXOePP+RE1v/rwm/8AQDQBzH7P3/JGNI/3pv8A0Y1elV5r+z9/yRjSP96b/wBGNXpVAHz58f7/AFVviT4U0XT9Wu7C31BUik+zyleWl27seuKPAupeIvB/x8k8Cza7c67pjw7yZ23GL92HB9iDwfrVD9ouyOpfFfwdYiZ4DcqkXmxn5k3TYyPcZqHwlDcfCj9oZPDckyavHrCqDdyoDOm4EjLdeo5HpQB9MVk+K/8AkTNa/wCwfP8A+i2rWrJ8V/8AIma1/wBg+f8A9FtQBwv7PH/JG9O/67Tf+jGr0PWp7220O9n0mBbi9jhZoIm6O4HA/E155+zx/wAkb07/AK7Tf+jGr1CgD5s0Dxh8RYfj9o2h+MdSMS3ZMkthAw8tVMTsFwPTArrfjr4j8Q6frXhXQ/CuqyabdapO0bSI2ByVUE+wya53xL/yeZof/XJf/RD16b8Q/hRo3xElgudUubq2ubSIpBJBJgJk5zigA+Gnh7xloKX/APwm3iBdZ84obYhifLxnd19cj8q7uvCv2b9e1W4bxD4f1G8e/ttLnUW8zsWwCWBAPp8ua91oA+V/Cf8AyVnxr/2FZP8A0Y9fQvh3/j3X6V89eE/+Ss+Nf+wrJ/6MevoXw7/x7r9KAOiHSlpB0paACiiigAooooAKKKKACiiigAooooAKKKKACiiigAqG4/1Zqaobj/VmgDx39nz/AI+fGv8A2GX/AJV7RXi/7Pn/AB8+Nf8AsMv/ACr2igDE8YeJIPCPhHUdcuhuSzhLqmfvt0VfxJFeH+CdM+JnxRaLxbceLZtI05rkGG0hLBZEVvmAAIAHBGTnNd/+0HbzXHwZ1X7OCfLeJ3A/uhxmrPwJvra9+DmiC1dWMMRikAPKuGIOaAPQlGFAJyQOtLRRQB4z8Lv+S8fEn/rvF/6FJXs1eM/C7/kvHxJ/67xf+hSV7Bd3AtLGe5ZSwhjaQqvU4GcUAeMfH34o6p4V+y6P4TuTDqAX7TdyoATFFnABz0yT/KtHxb421fSP2dLTxFBesmqz29vi4wMl2xk4+ma8E13xcuqaP4rvNc02+/tvWblPLnaIiKCFWBCZP+eBXuXhDStK+MHwO03Rb4X1jBYtHG7LhWdkTGRkHK/N+lAE3wy0/wCKM2qWGreK9egu9GuLfzDbgjdllyueO1ev186/D+TWPh78fpfAY1afU9Jmhyiytny/kDg47EdK+iqAPmrx3/yc9cf9g+P/ANAWvYvCv+oX6V4747/5OeuP+wfH/wCgLXsXhX/UL9KAOxT7tOpqfdp1ABRRRQAUUUUAFFFFABRRRQAUUUUAFFFFABRRRQAUUUUAFFFFABRRRQAVzfjH/WeH/wDsLx/+i5K6Sub8Y/6zw/8A9heP/wBFyUAdJRRRQAVzfgf/AJBWpf8AYZ1D/wBKpK6Sub8D/wDIK1L/ALDOof8ApVJQB0lFFFABRRRQAUUUUAFFFFABRRRQAUUUUAFFFFABRRRQAUUUUAFFFFABRRRQBHN9w1438A/+Rg8ff9hhv5tXsk33DXjfwD/5GDx9/wBhhv5tQB7RUF5ZwahYzWd5GstvPG0ciMOGUjBFT0UAeFQfs96noOuvP4Q8X3WnafJKHe3IOSAc7cgjPpXuigqihjkgAE+tLRQAV8yXn/Jxnir/ALZ/yWvpuvmS8/5OM8Vf9s/5LQB7j4Z/490+ldSvSuW8M/8AHun0rqV6UALRRRQA1/u14v4W/wCTsPFn/YNh/wDRcVe0P92vF/C3/J2Hiz/sGw/+i4qAPaq4j4pfDpPiV4et9Le/axEFwJt4Tdn5SMfrXb0UAcX4o8CXmueC9O0TTdeudKmsBHturcYL7U24Pt3rI8A/Bqy8IeIJfEGqanca1rMilRc3H8APXHv2zXpdFABXzn8VP+TjNM/7Bg/m1fRlfOfxU/5OM0z/ALBg/m1AHqnhP/Ur9K7ZPuiuJ8J/6lfpXbJ90UAOooooAKKKKACiiigArL8ReHdO8U6LLpWsxNLaTEF0Vyu7HuK1KKAPG9Q/Zj8D3efsr39kT08qbdj/AL6Bq58Pfggnw58WnVtJ124ntpImimt54x846jkY5Br1iigArnPHn/Iia3/14Tf+gGujrnPHn/Iia3/14Tf+gGgDmP2fv+SMaR/vTf8Aoxq9KrzX9n7/AJIxpH+9N/6MavSqAPMfih8IpfiDr2mata60+mXGnJtjKx7jkMWDA54INJ4J+Ctl4Z8UHxLrGrXWuazjCz3PROMZA9ccc16fRQAVk+K/+RM1r/sHz/8Aotq1qyfFf/Ima1/2D5//AEW1AHC/s8f8kb07/rtN/wCjGr1CvL/2eP8Akjenf9dpv/RjV6hQB57qXwsTUPjHZeOzqTI1ooX7L5fDYjKdfxzUPj74Yar4w1v7dp/i2+0mF4RDJbQ/cYDPPB6nNekUUAcn8Pvh7pXw70JtP0oySyTP5k9xLjfK3qa6yiigD5X8J/8AJWfGv/YVk/8ARj19C+Hf+PdfpXz14T/5Kz41/wCwrJ/6MevoXw7/AMe6/SgDoh0paQdKWgAooooAKKKKACiiigAooooAKKKKACiiigAooooAKhuP9WamqG4/1ZoA8d/Z8/4+fGv/AGGX/lXtFeL/ALPn/Hz41/7DL/yr2igCrqWnW2r6Zc6ffxCW2uYzFKh/iUjBrxfTf2f9V8N+IVn8L+MLmz0z7Qsz2pB+YBs7TggH06V7lRQAijCgHk4paKKAPGfhd/yXj4k/9d4v/QpK9mxnIPSvGfhd/wAl4+JP/XeL/wBCkr2agDkviJ4ITxv4LutDgljsnnZGE3lg4wc1j6x8Otbl8D6JovhzxNLo9zpaBXuIEI87Cgc4PtXotFAHmvw6+EEPg3XLnxBq+qTazrlypVrqYfdB6475OBzXpVFFAHzV47/5OeuP+wfH/wCgLXsXhX/UL9K8d8d/8nPXH/YPj/8AQFr2Lwr/AKhfpQB2Kfdp1NT7tOoAKKKKACiiigAooooAKKKKACiiigAooooAKKKKACiiigAooooAKKKKACub8Y/6zw//ANheP/0XJXSVzfjH/WeH/wDsLx/+i5KAOkooooAK5vwP/wAgrUv+wzqH/pVJXSVzfgf/AJBWpf8AYZ1D/wBKpKAOkooooAKKKKACiiigAooooAKKKKACiiigAooooAKKKKACiiigAooooAKKKKAI5vuGvmPwF4L1/wAVeKvGcug+K7jQUg1V1kSFSfNJZsE4I6V9OTfcNeN/AP8A5GDx9/2GG/m1ADv+FPeOf+in3/8A37P/AMVR/wAKf8c/9FPv/wDv2f8A4qvZqKAPGf8AhT/jn/op9/8A9+z/APFUf8Ke8c/9FPv/APv2f/iq9mooA8Z/4U945/6Kff8A/fs//FV5noek3uifGjX9P1TUn1O6hVBJdyDDSHg5NfWVfMl5/wAnGeKv+2f8loA9x8M/8e6fSupXpXLeGf8Aj3T6V1K9KAFooooAa/3a+b9S8Laj4r/aY8TWek67caJLHZQSNPb9WHlRDb+tfSD/AHa8X8Lf8nYeLP8AsGw/+i4qAJP+FLeLf+imar+R/wAaP+FLeLf+imar+R/xr2aigDxn/hS3i3/opmq/kf8AGj/hS3i3/opmq/kf8a9mooA8Z/4Ut4t/6KZqv5H/ABrzTW/DOoeFfjhp9jqut3GtTNZeYLif7wB3fL+lfWNfOfxU/wCTjNM/7Bg/m1AHqnhP/Ur9K7ZPuiuJ8J/6lfpXbJ90UAOooooAKKKKACiiigAooooAKKKKACszX9OXVtEvNPkYol1A8LMvUBgRn9a06a67hQB84f8ACqPE3huzFno/jbUILWMnZFGCqrk56A1Qbwr45U4/4TbUz/wM/wCNfR1zpqTdVqkdAhJ+6KAPnz/hF/HP/Q7an/32f8aP+EX8c/8AQ7an/wB9n/GvoL/hH4f7go/4R+H+4KAPn3/hF/HP/Q7an/32f8aZN4S8bXEDwzeM9SeORSjqzEhgRgjrX0L/AMI/D/cFH/CPw/3BQB856b4D8V6NYrZ6X4sv7W3QkrFESqgnk8Zq3/wi/jn/AKHbU/8Avs/419A/8I/D/cFH/CPw/wBwUAfP3/CL+Of+h21P/vs/40n/AAi/jn/odtT/AO+z/jX0F/wj8P8AcFH/AAj8P9wUAfPv/CL+Of8AodtT/wC+z/jSjwv45/6HbVP++z/jX0D/AMI/D/cFH9gQ/wBwUAeK+BPANzoOoXt3d3kl7cXsgklkcck8kn6kk17dokBihUGnQ6NFG2QorThgEa4FAEwpaKKACiiigAooooAKKKKACiiigAooooAKKKKACiiigAqKYZQ1LSMMigD56vfhN4j0PVNSuvDvjC5sIb65ad4ooyOSe+DzWVJ4c+IMbYHjnUD/AN9f419GXNis33hVBtBiY/dFAHz9/YHxC/6HjUPzb/Gj+wPiF/0PGofm3+Ne/wD/AAj8P9wUf8I/D/cFAHgH9gfEL/oeNQ/Nv8aP7A+IX/Q8ah+bf417/wD8I/D/AHBR/wAI/D/cFAHzhZ+A/F+n6nd6hZeK7qG7vSDcTIpDSkZxk556mtD+wPiF/wBDxqH5t/jXv/8Awj8P9wUf8I/D/cFAHgH9gfEL/oeNQ/8AHv8AGj+wPiF/0PGof+Pf417/AP8ACPw/3BR/wj8P9wUAeAf2B8Qv+h41D/x7/Gj+wPiF/wBDxqH5t/jXv/8Awj8P9wUf8I/D/cFAHg3h7wDq8fi467rmrzandNF5W6VeccdT+Fe4+HrUwxKCKuR6JEjZCitK3tViHAoAsL0p1A4ooAKKKKACiiigAooooAKKKKACiiigAooooAKKKKACiiigAooooAKKKKACub8Y/wCs8P8A/YXj/wDRcldJXN+Mf9Z4f/7C8f8A6LkoA6SiiigArm/A/wDyCtS/7DOof+lUldJXN+B/+QVqX/YZ1D/0qkoA6SiiigAooooAKKKKACiiigAooooAKKKKACiiigAooooAKKKKACiiigAooooAjm+4a8b+Af8AyMHj7/sMN/Nq9km+4a8b+Af/ACMHj7/sMN/NqAPaKgvbuOwsLi7nOI7eJpHPsoyf5VPXCfGjWf7D+EOuzhtsk0H2dOe8hC/yJoA8s+D/AMW/FXiL4mQad4kvBLp+owTNap5arhlbggj/AHWFfR1fGOh+I9E03xB8M59Jud9zp+IdRGwrsMkxJ578SN+VfZwOQCO9ABXzJef8nGeKv+2f8lr6br5kvP8Ak4zxV/2z/ktAHuPhn/j3T6V1K9K5bwz/AMe6fSupXpQAtFFFADX+7Xi/hb/k7DxZ/wBg2H/0XFXtD/drxfwt/wAnYeLP+wbD/wCi4qAPaq+f/iv8Y/HHhnVLlNG0ZdP021uTbC9uIw/2hsZ+XPbA7fnX0BXh37VH/JO9O/7CA/8AQGoA7Dxn8R28G/CW28STok9/dQRCGM8K8rrkn6Dk1w3g34seM7Lx7pGhfES3thDr0CzWckSBTHvztBx7jGKy/j6Jf+FOeCyP9SGi3/XyRj+tR/FceZ8VPhqtpgyGK3I2+nmD/wCvQB9JV85/FT/k4zTP+wYP5tX0WOg+lfOnxU/5OM0z/sGD+bUAeqeE/wDUr9K7ZPuiuJ8J/wCpX6V2yfdFADqKKKACiiigAooooAKKKKACiiigAooqjrOpJpGi3moyoXS0geZlB5YKpOP0oAu8UcV4bY/HrX9Xs1vNK+Hmo3Vs5OyWOXcrYOOu2p/+FzeLv+iaar/38/8AsaAPa+KOK8U/4XN4u/6Jrqv/AH8/+xo/4XN4u/6Jrqv/AH8/+xoA9r4o4rxT/hc3i7/omuq/9/P/ALGmS/GvxVbwPNN8N9USONSzs0nCgDJP3aAPbuKOK8J0349eINYslvNL+H+oXVu5IWWKXKkjg87at/8AC5vF3/RNNV/7+f8A2NAHtfFHFeKf8Lm8Xf8ARNNV/wC/n/2NH/C5vF3/AETXVf8Av5/9jQB7XxRxXin/AAubxd/0TXVf+/n/ANjR/wALm8Xf9E11X/v5/wDY0Ae18UteY/Dv4sf8JxcanbXOkyaXc6dIscsUsm45OeOgwQVNejwTiReDQBPRRRQAUUUUAFFFFABRRRQAUUV4L+0KvjrRbca3oGvXUWisAk8ELbDCx4zkdQaAPbr7WNN0yMvqWoWtoo6meZU/maXTNVsdZsEvdLuY7q2ckLLGcq2Dg4P1r89Hu9S1m8jimuZ7qeZwih5CxZicAc+9fffg3QY/DPg3S9HhAxaWyISO7Y5P55oA26KKKACiiigAooooAMUmKWigBMUYFLRQAmKMUtFACYFGBS0UAJgUYFLRQAmBRilooATFLRRQAUUUUAFFFFABRRRQAUUUUAFFFFABRRRQAUUUUAFFFFABRRRQAUUUUAFFFFABXN+Mf9Z4f/7C8f8A6LkrpK5vxj/rPD//AGF4/wD0XJQB0lFFFABXN+B/+QVqX/YZ1D/0qkrpK5vwP/yCtS/7DOof+lUlAHSUUUUAFFFFABRRRQAUUUUAFFFFABRRRQAUUUUAFFFFABRRRQAUUUUAFFFFAEc33DXjfwD/AORg8ff9hhv5tXsk33DXjfwD/wCRg8ff9hhv5tQB7RXnXxo8D618QPCNto2hT28GLsTTNOxAKqpAHHu2fwr0WigDx74kfBb+3/Cei2XhOOysr/TZFzM67N6hcckDk5ANetWSTR2ECXO3zljUSbTkbsc4qeigAr5kvP8Ak4zxV/2z/ktfTdfMl5/ycZ4q/wC2f8loA9x8M/8AHun0rqV6Vy3hn/j3T6V1K9KAFooooAa/3a8X8Lf8nYeLP+wbD/6Lir2h/u14v4W/5Ow8Wf8AYNh/9FxUAe1V518Zvh9qHxF8LWumaVcQwSw3QmZps4I2kdvrXotFAHD+K/h1D4u+F0Hhe+mEU8EEQiuFGQkqLjP06j6GuM8DfBjXrLxpYeIPHWtR6m+kQiCwiTJ2qAQpJPpknHrXtdFABXzn8VP+TjNM/wCwYP5tX0ZXzn8VP+TjNM/7Bg/m1AHqnhP/AFK/Su2T7orifCf+pX6V2yfdFADqKKKACiiigAooooAKKKKACiiigArnfHbY8Ca3/wBeE3/oBroq5zx5/wAiJrf/AF4Tf+gGgDl/2fx/xZjSP96X/wBGNXpWK82/Z+/5IxpH+9N/6MavSqAExRiqer6xYaDpM+patcpbWluu6SVzwB/jXBeFPjl4b8ZeLY9B0a2vmllDFJnjAQhRknrxQB6VgelZHisf8UZrX/YPn/8ARbVr1k+K/wDkTNa/7B8//otqAOF/Z4H/ABZvTv8ArtN/6MavUMD0ry/9nj/kjenf9dpv/RjV6dJKkMTSTOscaDLMxwAPUmgB2B6UYHpXEWvxf8G3/iyHw7Yan9qv5n8tPJQlC2CcbvwrV8YeO9A8C6fHdeIr0QCU7Yo1G55D7CgDosD0owPSsLwn4y0TxtpX9oeHrwXMKttcYwyN6Edq3aAPmTwLeNa/FXx0qnG/VX/9GSV7/ok5lhUmvnPwn/yVnxr/ANhWT/0Y9fQvh3/j3X6UAdEKWkHSloAKKKKACiiigAoorC8XeMNI8FaDLqmuXCxRqPkjB+aVv7qjuaALXiDxDpnhfRZ9U1q6S2tYRksx5Y+gHc+1eKWthr/x91tL/Vlm0rwTbSZgts4a8I7n/H8ql0Lwzrvxq12LxL44SSy8NQvu0/Ss484dmYenv3+le6W1tDZ20dvaxLFDGoVEQYCgdgKAPAIf2fv7E+NWlajpieZ4dWQ3LKxyYHXkIfUZxj6V9CDpRRQAUUUUAFFFFABRRRQAUUUUAFFFFABRRRQAUUUUAFFFFABRRRQAUUUUAFFFFABRRRQAUUUUAFFFFABRRRQAUUUUAFFFFABRRRQAUUUUAFFFFABRRRQAVzfjH/WeH/8AsLx/+i5K6Sub8Y/6zw//ANheP/0XJQB0lFFFABXN+B/+QVqX/YZ1D/0qkrpK5vwP/wAgrUv+wzqH/pVJQB0lFFFABRRRQAUUUUAFFFFABRRRQAUUUUAFFFFABRRRQAUUUUAFFFFABRRRQBHN9w18x+AtL8e6h4q8Zt4E1m102FNVcXCzxhi7bmwRx6V9OTfcNeN/AP8A5GDx9/2GG/m1ADv+EZ+OH/Q36Z/4Dj/Cj/hGfjh/0N+mf+A4/wAK9mooA8Z/4Rn44f8AQ36Z/wCA4/wo/wCEZ+OH/Q36Z/4Dj/CvZqKAPGf+EZ+OH/Q36Z/4Dj/CvM9Dt9ZtPjRr8Pia6ju9UVU8+aJcK546D6Yr6yr5kvP+TjPFX/bP+S0Ae4+Gf+PdPpXUr0rlvDP/AB7p9K6lelAC0UUUANf7tfN+paZ4o1T9pjxNF4M1aLS7xbKBpJZE3Bk8qLj88V9IP92vF/C3/J2Hiz/sGw/+i4qAJP8AhDvjR/0PNn/4D0f8Id8aP+h5s/8AwHr2aigDxn/hDvjR/wBDzZ/+A9H/AAh3xo/6Hmz/APAevZqKAPGf+EO+NH/Q82f/AID15prem+JdL+OGnw+MtVj1S+NluWaNNoCfNgY/OvrGvnP4qf8AJxmmf9gwfzagD1Twn/qV+ldsn3RXE+E/9Sv0rtk+6KAHUUUUAFFFFABRRRQAUUUUAFFFFABXOePP+RE1v/rwm/8AQDXR1znjz/kRNb/68Jv/AEA0Acx+z9/yRjSP96b/ANGNXpVea/s/f8kY0j/em/8ARjV6VQB4F+1HqVwdO8O6FFIyQ390zyYPXbtUZ/77Nex+GfDWleHdDsbPTLKGFbeJVVlQbjxyc+przf8AaL8Fah4m8JWWp6JC895pMxkMSDLNGRyQO5BUcVP8MfjXb+Lr2x8O3ulXdrq3kkTOy/u8oOfcZ9KAPW6yfFf/ACJmtf8AYPn/APRbVrVk+K/+RM1r/sHz/wDotqAOF/Z4/wCSN6d/12m/9GNXo+o2EOqaXc2F0CYbmJopADg7WGDXnH7PH/JG9O/67Tf+jGr1CgD5gvvC+leEf2pvDGl6FbC2tURG2g5LMUfJJ7mtjxmsXib9q/RNH1NRPZWUCkQOMqTsZ+n1I/KneMoZW/a78OyLG5QRR5YKcD5H71J8WILrwR8bdD+IH2Ka60vyxHdGFclGClT+hB/CgCL4MFdF+PfjPQLIeXZZkkSJfurskwMD6NX0NXg/wH0q91jxt4n8eXlpLa2+pSslqsq4LKW3E/oor3igD5X8J/8AJWfGv/YVk/8ARj19C+Hf+PdfpXz14T/5Kz41/wCwrJ/6MevoXw7/AMe6/SgDoh0paQdKWgAooooAKKK4r4jfEvTPAGmDzB9r1W4+W0sY+XkY8AkDoM0AXPHnj/SPAGhtf6tJumcEW9qh+eZvQD096838JeBNa+JOvx+NPiYrJbKd+naOfuRr2LD8jj86ueA/hrqfiHXV8cfE4/aNSkIez09v9Xar2yPX2r2UABQAMAdBQA1EWKNUjUKijAUDAAp1FFABRRRQAUUUUAFFFFABRRRQAUUUUAFFFFABRRRQAUUUUAFFFFABRRRQAUUUUAFFFFABRRRQAUUUUAFFFFABRRRQAUUUUAFFFFABRRRQAUUUUAFFFFABRRRQAVzfjH/WeH/+wvH/AOi5K6Sub8Y/6zw//wBheP8A9FyUAdJRRRQAVzfgf/kFal/2GdQ/9KpK6Sub8D/8grUv+wzqH/pVJQB0lFFFABRRRQAUUUUAFFFFABRRRQAUUUUAFFFFABRRRQAUUUUAFFFFABRRRQBHN9w1438A/wDkYPH3/YYb+bV7JN9w1438A/8AkYPH3/YYb+bUAe0Vw/xd8Z33gPwDLrWlxRS3CzpEFlGVw2f8K7ivJP2lf+SOz/8AX5D/ADNAHKWvxv8AG2gDQ9S8aaPZtoutYMU9sSGVTjn6gHOK+hEcSRq6/dYAivjq+udbi0zwLP8AEa1LeEYFQ2n2MjLDAPz++AOPSvsG1mhuLOGa2IaGRFaMjoVI4oAmr5kvP+TjPFX/AGz/AJLX03XzJef8nGeKv+2f8loA9x8M/wDHun0rqV6Vy3hn/j3T6V1K9KAFooooAa/3a8X8Lf8AJ2Hiz/sGw/8AouKvaH+7Xi/hb/k7DxZ/2DYf/RcVAHtVeG/Ej4/3/hTWbmw0Xw88sdnOYJru7VhGz+i4/wAa9yrwz9qaNI/h7p5RFUtqILEDGTsagD0PxL4zm0L4SzeLBDG06WUc4ibO0s+0Y+mWri/h98TPiB4r17Sv7T8JR2uh3yl2vkzgJsLKRk9yAPxrodf8J3Xjf4H2mgWN0lrJdWdtmR1yMLtbH6CuC8A+K/FvgH4mad8NvF0sN5ZSQCOyljUDYoU7MHrj5SMGgD6Ar5z+Kn/Jxmmf9gwfzavoyvnP4qf8nGaZ/wBgwfzagD1Twn/qV+ldsn3RXE+E/wDUr9K7ZPuigB1FFFABRRRQAUUUUAFFFFABRRRQAVznjz/kRNb/AOvCb/0A10dc548/5ETW/wDrwm/9ANAHMfs/f8kY0j/em/8ARjV6VXzd8KfjTofhL4dWGj32nanNPAZNzwQbkOXJ4P412X/DR3hr/oEaz/4C0Aev9RUEdlaxTGWK2iSQ9XVAD+deT/8ADR3hr/oEaz/4C0f8NHeGv+gRrP8A4C0Aev1k+K/+RM1r/sHz/wDotq82/wCGjvDX/QI1n/wFqhrv7Qfhy/8ADuo2cWlaur3FpLErNbYALIQCfbmgDe/Z4/5I3p3/AF2m/wDRjV6hXzV8JPjPonhD4eWmkX+n6lNNFJIxeCDcp3OT1/Gu2/4aO8Nf9AjWf/AWgD1traBphM0MZlHRyoyPxpZYYp49k8ayIequuRXkf/DR3hr/AKBGs/8AgLR/w0d4a/6BGs/+AtAHrscaRIEiRUUdFUYAp1eQf8NHeGv+gRrP/gLR/wANHeGv+gRrP/gLQB5t4T/5Kz41/wCwrJ/6MevoXw7/AMe6/Svm74e6lFrHxA8U6lbo6RXd8ZkWQYYBncgEevNfSPh3/j3X6UAdEOlLSDpS0AFFFeYfEr4qtoV0nhnwdD/afie7+RIoxuW3z/E3v7H8aALvxL+Kdr4LiTTNKi/tLxFd/LbWUQ3FSejMB/LvWR8OPhZdQ6o3jD4gS/2j4jufnVHOUtR2AHTP8qt/Df4WxeFnfxF4ruV1HxJdndNczNkQk/wrn+demb13Abhlugz1oAdRTfMT5vnX5fvc9KQSxlgokUsRkANzj1oAfRTUkSTPlurYODtOcGnUAFFFFABRRRQAUUUUAFFFFABRRRQAUUUUAFFFFABRRRQAUUUUAFFFFABRRRQAUUUUAFFFFABRRRQAUUUUAFFFFABRRRQAUUUUAFFFFABRRRQAUUUUAFFFFABXN+Mf9Z4f/wCwvH/6LkrpK5vxj/rPD/8A2F4//RclAHSUUUUAFc34H/5BWpf9hnUP/SqSukrm/A//ACCtS/7DOof+lUlAHSUUUUAFFFFABRRRQAUUUUAFFFFABRRRQAUUUUAFFFFABRRRQAUUUUAFFFFAEc33DXjfwD/5GDx9/wBhhv5tXsk33DXjfwD/AORg8ff9hhv5tQB7RXnXxx8Mar4t+Gs2maDbfars3McgjDAZAznrXotFAHzNJ8OfiX450Hw/4X17T7bRtG0kKplLhnfA27sAnJxn86+kbCzj07Tbayg/1VvEsSfRRgfyqxRQAV8yXn/Jxnir/tn/ACWvpuvmS8/5OM8Vf9s/5LQB7j4Z/wCPdPpXUr0rlvDP/Hun0rqV6UALRRRQA1/u14v4W/5Ow8Wf9g2H/wBFxV7Q/wB2vF/C3/J2Hiz/ALBsP/ouKgD2qvL/AI8eCdZ8deD7Ow8PRRy3EV2JWEj7Rt2kf1r1CigDhteg8aaV4A0i38Fw2smqW0cUdxHcH5Sqpgge+cVx/gr4b+LNU+JieO/iPNbrd2yFLW1gOQvBA+gAJ49TXtNFABXzn8VP+TjNM/7Bg/m1fRlfOfxU/wCTjNM/7Bg/m1AHqnhP/Ur9K7ZPuiuJ8J/6lfpXbJ90UAOooooAKKKKACiiigAooooAKKKKACuc8ef8iJrf/XhN/wCgGujrnPHn/Iia3/14Tf8AoBoA5L4BWtvJ8G9IaSCJ2LS5LICf9Y1ek/YbT/n1h/79ivPP2fv+SMaR/vTf+jGr0qgCD7Daf8+sP/fsUfYbT/n1h/79ilu7u3sLOW6vZkggiUtJJI2FUDuTXH6F8XfB3iXxIuh6LqZubx92wLEdrYGTg/hQB1/2G0/59Yf+/YrJ8VWVqPBuskW0IIsJ8ERj/nm1btZPiv8A5EzWv+wfP/6LagDgP2e7W3l+DunNJBG7edNyyAn/AFjV6d9htP8An1h/79ivNv2eP+SN6d/12m/9GNXqBOBk8CgCD7Daf8+sP/fsUfYbT/n1h/79isYeO/DDeIE0OPWrWTUpG2rbo+4k4zjjjtVjxB4s0PwrFDJ4g1GGxSckRmXPzEden1oA0fsNp/z6w/8AfsUfYbT/AJ9Yf+/YrM8PeMNB8Vic+HtThvvs+PN8rPyZzjOfoa2qAPlbwkoX4r+NFUAAapIAAOn7x6+hvDv/AB7r9K+evCf/ACVnxr/2FZP/AEY9fQvh3/j3X6UAdEOlLSA4HNeL+OPiNq3i3Xn8D/C/Mty3yX2qKfkt16EA/wBfyoAufEP4o3s2rf8ACGfDiP7fr0/yzXMfKWg7knpn37fWt74a/C6y8DWj3l3J/aGu3XzXV9JyxJ6hc9BV74d/DfSvh/pHlWo+0X83zXV7IMvK317D2rsaAPIPiiYIfiFpEvjEXR8IvatFvhZhHFcluGk29tvQ1Y1cxWnxm+H1ppk7NYfYLgR4kLB1CfKSe/1rovH82u3dhd6LpvhdNWtr61aMXD3CqsbsCPmUjoODxXJah4G8S+HIfA2p6JbrrF94ege3urcybDIrrg7SfTmgCp9qnOsfGMedJiG0Uxjcfk/cv09K5e+8Pvp3w+8CeJLLVb+LV9Tuba2uLkTsSY5htKgdBgdK7PSPCHiqVfiNdaxYRQ3PiG0X7LHHIGG7y3GzPqMgZqfVPBGu3Hww8C6TFag3mk3llLdpvHyLHjcc98UAM0DS4/Bnx6TRdInuP7P1HR/tM0Mspcear43DPevXq4S78N6nL8ctP8QJADp0OkNbPLuHEhcnGPpXd0AFFFFABRRRQAUUUUAFFFFABRRRQAUUUUAFFFFABRRRQAUUUUAFFFFABRRRQAUUUUAFFFFABRRRQAUUUUAFFFFABRRRQAUUUUAFFFFABRRRQAUUUUAFFFFABXN+Mf8AWeH/APsLx/8AouSukrm/GP8ArPD/AP2F4/8A0XJQB0lFFFABXN+B/wDkFal/2GdQ/wDSqSukrm/A/wDyCtS/7DOof+lUlAHSUUUUAFFFFABRRRQAUUUUAFFFFABRRRQAUUUUAFFFFABRRRQAUUUUAFFFFAEc33DXzH4C1Lx9YeKvGa+A9Ks7+FtVc3DXLYKtubGOfSvpyb7hrxv4B/8AIwePv+ww382oAd/wkXxy/wChY0j/AL+H/Gj/AISL45f9CxpH/fw/417NRQB4z/wkXxy/6FjSP+/h/wAaP+Ei+OX/AELGkf8Afw/417NRQB4z/wAJF8cv+hY0j/v4f8a8z0K41m6+NGvzeJ7aK11RlTz4oTlVPHT8MV9ZV8yXn/Jxnir/ALZ/yWgD3Hwz/wAe6fSupXpXLeGf+PdPpXUr0oAWiiigBr/dr5v1KTxdF+0x4mPgSO1kvvsUHmC6+7s8qLp75xX0g/3a8X8Lf8nYeLP+wbD/AOi4qAJPtfx3/wCfTRP0/wAKPtfx3/59dE/T/CvZqKAPGftfx3/59NE/T/Cj7X8d/wDn00T9P8K9mooA8Z+1/Hf/AJ9NE/T/AArzTW5PFcnxv08+OY7WPUPsXyi2+7s+bH45zX1jXzn8VP8Ak4zTP+wYP5tQB6p4T/1K/Su2T7orifCf+pX6V2yfdFADqKKKACiiigAooooAKKKKACiiigArnPHn/Iia3/14Tf8AoBro65zx5/yImt/9eE3/AKAaAOY/Z+/5IxpH+9N/6MavSq81/Z+/5IxpH+9N/wCjGr0qgDwn9p/W7uDQdF8P2crRLqlyxlwcbguAAfbLZ/CvSPBnw68N+EtNsDpul263kEIBuyg8xiR8xLe9ef8A7THhm+1Pwvpmu6ZE00mkTs0ioMlUbB3fQFR+ddH8OvjR4d8a/YNKhaWHV5IcyW7JwCo+bBoA9LrJ8V/8iZrX/YPn/wDRbVrVk+K/+RM1r/sHz/8AotqAOF/Z4/5I3p3/AF2m/wDRjV6Lqtguq6Pd2DyNGtzC0RdDhl3DGR7151+zx/yRvTv+u03/AKMavUKAPlf/AIQ7T/A37T3hnSNKaV4gqyPJM25nYo+Sa6X9pCaD/hKPCSapaXFzpVu7T3oijLZj3KCM/RTUXjT/AJPA8Of9co//AEB69P8AGfxN8G+Fb6XS/E84+0fZ/M8kw796nPH1oArfCRfAc+jXOofDy3WCOdlW6j5Dqy5wGB+pr0KvA/2Z9LulbxJraW8lrpd/cKLSNhgMAWOR9AQM175QB8r+E/8AkrPjX/sKyf8Aox6+hfDv/Huv0r568J/8lZ8a/wDYVk/9GPX0L4d/491+lAHQ4DIVPIIwax/DnhHQ/CdvNDoGnxWizyGSQqOWY+prZHSloAKKKKACiiigAooooAKKKKACiiigAooooAKKKKACiiigAooooAKKKKACiiigAooooAKKKKACiiigAooooAKKKKACiiigAooooAKKKKACiiigAooooAKKKKACiiigAooooAKKKKACiiigArm/GP8ArPD/AP2F4/8A0XJXSVzfjH/WeH/+wvH/AOi5KAOkooooAK5vwP8A8grUv+wzqH/pVJXSVzfgf/kFal/2GdQ/9KpKAOkooooAKKKKACiiigAooooAKKKKACiiigAooooAKKKKACiiigAooooAKKKKAI5vuGvG/gH/AMjB4+/7DDfzavZJvuGvG/gH/wAjB4+/7DDfzagD2io7i4itbaS4uZFjhiUu7scBVHJJqSvP/jjez2Pwa16S2JV3iWIkdlZ1B/QkfjQBx7/tBX2r69Ja+CvCdzq9lDKI5LrB9cZ46fjXtyEtGpYbSQCR6V5l+zzp9rZ/BnSprdFEl00skzgcs3mMOfoAB+Fen0AFfMl5/wAnGeKv+2f8lr6br5kvP+TjPFX/AGz/AJLQB7j4Z/490+ldSvSuW8M/8e6fSupXpQAtFFFADX+7Xi/hb/k7DxZ/2DYf/RcVe0P92vF/C3/J2Hiz/sGw/wDouKgD2qvH/Ffx5PhjXr20bwpqM1nYzmGe8xhMg4yDjGK9grzH48+ItP0D4X6haTrG93qo+z28OAS7EjLfgP1xQBvz/EvQIPhuvjVpmOmvEHVcfOWJxsx654/CuY8C/HXTvF/iaLRL3SrnSbm6TzLMznImXGR27gV5L8QNGvvC37Ofg/R70MklzeNcTof4SwLBT9N36VufE+FNK+K3w1msEEbrDbxjaMfKJMY/ImgD6Ur5z+Kn/Jxmmf8AYMH82r6LHQfSvnT4qf8AJxmmf9gwfzagD1Twn/qV+ldsn3RXE+E/9Sv0rtk+6KAHUUUUAFFFFABRRRQAUUUUAFFFFABXOePP+RE1v/rwm/8AQDXR1znjz/kRNb/68Jv/AEA0Acx+z9/yRjSP96b/ANGNXpVfPvwg+L/g3wt8M9O0nWtTMF5AZN8flE4y5I5+hrt/+GgPh3/0Gm/78tQB6S6LJGUkUMrcFWGQayrHwnoGm6kb/T9ItLe7Of30cQVuevNcX/w0B8O/+g03/flqP+GgPh3/ANBpv+/LUAel1k+K/wDkTNa/7B8//otq4r/hoD4d/wDQab/vy1Z/iD47+AL3wzqdpbawWmns5Y418luWZCAPzNAFv9nj/kjenf8AXab/ANGNXqFfPPwb+Lvg7wr8NbLStb1MwXcUkrMnlE4Bckcj2Nd5/wANAfDv/oNN/wB+WoA7ubQtLuNWj1Oewt5L6IYS4aMF1+h/GodT8MaHrVwk+q6Va3cqY2vNEGI/GuK/4aA+Hf8A0Gm/78tSf8NAfDv/AKDTf9+WoA9Hgt4bWFYbaJIokGFRFwB+FSV5p/w0B8O/+g03/flqP+GgPh3/ANBpv+/LUAeReE/+Ss+Nf+wrJ/6MevoXw7/x7r9K+cfAWoW+rfEXxZqFi/mW11qDTRPjG5WdyD+Rr6O8O/8AHuv0oA6IdKWkHSloAKKKKACiiigAooooAKKKKACiiigAooooAKKKKACiiigAooooAKKKKACiiigAooooAKKKKACiiigAooooAKKKKACiiigAooooAKKKKACiiigAooooAKKKKACiiigAooooAKKKKACiiigArm/GP+s8P/8AYXj/APRcldJXN+Mf9Z4f/wCwvH/6LkoA6SiiigArm/A//IK1L/sM6h/6VSV0lc34H/5BWpf9hnUP/SqSgDpKKKKACiiigAooooAKKKKACiiigAooooAKKKKACiiigAooooAKKKKACiiigCOb7hrxv4B/8jB4+/7DDfzavZJvuGvG/gH/AMjB4+/7DDfzagD2isbxd4eh8V+EdS0O4bal7AYw+Put1U/gQDWzRQB81+BtT+JfwrB8KzeFX1SxFwTDMgJVAzckEdup5r6TQlkUkYJGSPSlooAK+ZLz/k4zxV/2z/ktfTdfMl5/ycZ4q/7Z/wAloA9x8M/8e6fSupXpXLeGf+PdPpXUr0oAWiiigBr/AHa8X8Lf8nYeLP8AsGw/+i4q9of7teL+Fv8Ak7DxZ/2DYf8A0XFQB7VXyx4sg+IWrfFuTxDfeD7jVLTT5mSwtpB+6VVPytgHn1+tfU9FAHinizQfE/xa+DLnVdHXStds7szW9oTjeFGMfiCfyrnvCvhfxp48+JXh/V/GOjnS7Lw5bpF8/HnumSCB7sQT9K+jKKACvnP4qf8AJxmmf9gwfzavoyvnP4qf8nGaZ/2DB/NqAPVPCf8AqV+ldsn3RXE+E/8AUr9K7ZPuigB1FFFABRRRQAUUUUAFFFFABRRRQAVznjz/AJETW/8Arwm/9ANdHXOePP8AkRNb/wCvCb/0A0AcH8C/DGh6j8ItKub7SrS4ndpd0kkQZj+8bvXof/CF+Gv+gFYf9+Frkf2fv+SMaR/vTf8Aoxq9KoAw/wDhC/DX/QCsP+/C0f8ACF+Gv+gFYf8Afha2ndY42eRlRFGWZjgAetYNh478MarrP9ladrdpc3xziGJ9xOOuOxoAk/4Qvw1/0ArD/vwtZfifwf4ci8I6vJFolijpYzMrCBcgiM4NdhWT4r/5EzWv+wfP/wCi2oA8x+AvhnRNR+EthcX+lWlxM0swMkkQZjhz3r0n/hC/DX/QCsP+/C1xX7PH/JG9O/67Tf8Aoxq9Pd1jQu7BVUZJJwBQBi/8IX4a/wCgFYf9+FpP+EL8Nf8AQCsP+/C1btfEOjX12bWy1ayuLgdYorhGb8gas3t/aabbG41C6htYR1kmkCL+ZoAy/wDhC/DX/QCsP+/C0f8ACF+Gv+gFYf8Afha1rW8tr63WeyuIriFvuyROHU/iKmoA+VPBsMVt8UvGUNvGscUepuqIowFAkfAFfRHh3/j3X6V89eE/+Ss+Nf8AsKyf+jHr6F8O/wDHuv0oA6IdKWkHSloAKKKKACiiigAooooAKKKKACiiigAooooAKKKKACiiigAooooAKKKKACiiigAooooAKKKKACiiigAooooAKKKKACiiigAooooAKKKKACiiigAooooAKKKKACiiigAooooAKKKKACiiigArm/GP+s8P/wDYXj/9FyV0lc34x/1nh/8A7C8f/ouSgDpKKKKACub8D/8AIK1L/sM6h/6VSV0lc34H/wCQVqX/AGGdQ/8ASqSgDpKKKKACiiigAooooAKKKKACiiigAooooAKKKKACiiigAooooAKKKKACiiigCOb7hr5t8P8AiDxd8MvE/ikQ+EJ9Qh1HUXmSXdgY3HGPrmvpRhkVjalpouQcigDx9vj/AOKEOG8CSA/9dTSf8NBeJv8AoRZP+/prv5vCiO5Oz9Kj/wCEQT+4PyoA4T/hoLxN/wBCLJ/39NH/AA0F4m/6EWT/AL+mu7/4RBP7g/Kj/hEE/uD8qAOE/wCGgvE3/Qiyf9/TXKeGZNW8R/FDWfEeo6VJpy3qoRGxyARgYz+Fezf8Ign9wflVq08MLC4O39KANHw5GUt1z6V0q9KoWNp5CAAVoCgAooooAa/3a+efEd54q8EfHfXPEukeG5NVtb61hhRs4XiNATx7qRX0ORkVl6hYC4UgjrQB4q/x98ZRnD+BMH3kamf8NBeL/wDoRh/38avSLjwssjk7P0qD/hEE/uD8qAPPv+GgvF//AEIw/wC/jUf8NBeL/wDoRh/38avQf+EQT+4Pyo/4RBP7g/KgDz7/AIaC8X/9CMP+/jVyj6vr/j34sWev6lobabHDaGEgHI4zjr9a9s/4RBP7g/Kp7fwssbg7P0oAn8LwskS5Fdin3RWZp9gLdQAK1AMCgBaKKKACiiigAooooAKKKKACiiigArnPHn/Iia3/ANeE3/oBro65zx5/yImt/wDXhN/6AaAOY/Z+/wCSMaR/vTf+jGr0qvNf2fv+SMaR/vTf+jGr0qgDxP8AaW8T32l+FtN0LTJWhl1icrIynBKLj5foSw/Kuo+H/wAH/DXgyHT9QtrUyatDD8927ElmYfNxXF/tQ6LdzaHomv2kRkXTLlhLgZ2hsEE+2Vx+NeheB/ij4Y8Y2ljBp2pR/wBozQgtZsCHUgfMPwoA7asnxX/yJmtf9g+f/wBFtWtWT4r/AORM1r/sHz/+i2oA4X9nj/kjenf9dpv/AEY1ei6rp0Or6Pd6dclhFdQtE5U4IDDGRXnX7PH/ACRvTv8ArtN/6MavRNY1a00LR7rVNSk8q1tYzJK/oBQB8x/F7wDpPwv1Hw3feCZrmHVZrggRtMWLkEYP4k4roPiaX8d/Hfw94Iv5pF0uOFZLiKN9u9ipc/oAKwfD/jLw/wCO/ixJ4x8d6xb2FhprbdMsJck8cqTgduv1rb8bXVr4X/ac0DxNqEgi0m/tlIuSDtHyFP8AD86ALXwHuZvD3xM8WeCVneSxtHaS3V2zs2vtP5gj8q+ga+fPgjGNf+NPjLxVZgtYM7xRS44fe+ePwUH8a+g6APlfwn/yVnxr/wBhWT/0Y9fQvh3/AI91+lfPXhP/AJKz41/7Csn/AKMevoXw7/x7r9KAOiHSlpB0paACiiigAooooAKKKKACiiigAooooAKKKKACiiigAooooAKKKKACiiigAooooAKKKKACiiigAooooAKKKKACiiigAooooAKKKKACiiigAooooAKKKKACiiigAooooAKKKKACiiigAooooAK5vxj/AKzw/wD9heP/ANFyV0lc34x/1nh//sLx/wDouSgDpKKKKACub8D/APIK1L/sM6h/6VSV0lc34H/5BWpf9hnUP/SqSgDpKKKKACiiigAooooAKKKKACiiigAooooAKKKKACiiigAooooAKKKKACiiigAppUGnUUAM8pfSk8pfSpKKAI/KX0pfKX0p9FADPKX0oESjtT6KAEAApaKKACiiigApCoPWlooAZ5SntSeUvpUlFADPKX0o8pfSn0UAM8pfSgRL6U+igBAoFLRRQAUUUUAFFFFABRRRQAUUUUAFFFFABXOePP8AkRNb/wCvCb/0A10dc548/wCRE1v/AK8Jv/QDQBzH7P3/ACRjSP8Aem/9GNXpVeMfBDxr4a0j4TaXZ6nrdna3MbS74pZQGXMjEcV6B/wsjwb/ANDJp/8A3+FAHQ3dpb39pJa3sKTwSrteORcqw9CK5jQ/hf4Q8N64NX0XRobW9UELImflzwcDtU3/AAsjwb/0Mmn/APf4Uf8ACyPBv/Qyaf8A9/hQB09ZPiv/AJEzWv8AsHz/APotqzv+FkeDf+hk0/8A7/CszxL8Q/CNx4T1aGHxDYPJJYzKirMMsShAFAGT+zx/yRvTv+u03/oxq9E1bSrPW9KuNN1SBZ7S4XZLE3RhnOP0rx/4FeNPDej/AApsLPVNas7W4SWUtFLKAwy5I4r0b/hZHg3/AKGTT/8Av8KAMb/hSHw9/wChctv1ro9d8G6B4l0mHTdb02G7toQPKVxzHgY4Paqv/CyPBv8A0Mmn/wDf4Un/AAsjwb/0Mmn/APf4UAamg+HdJ8MaYun6FYxWVspzsjXGT6n1Nadcx/wsjwb/ANDJp/8A3+FH/CyPBv8A0Mmn/wDf4UAfP3hP/krPjX/sKyf+jHr6F8O/8e6/SvnbwTPFe/E7xjc2kiywS6k7xyIchlLuQRX0V4dGLdaAOhHSlpB0paACiiigAooooAKKKKACiiigAooooAKKKKACiiigAooooAKKKKACiiigAooooAKKKKACiiigAooooAKKKKACiiigAooooAKKKKACiiigAooooAKKKKACiiigAooooAKKKKACiiigAooooAK5vxj/AKzw/wD9heP/ANFyV0lc34x/1nh//sLx/wDouSgDpKKKKACub8D/APIK1L/sM6h/6VSV0lc34H/5BWpf9hnUP/SqSgDpKKKKACiiigAooooAKKKKACiiigAooooAKKKKACiiigAooooAKKKKACiiigAooooAKKKKACiiigAooooAKKKKACiiigAooooAKKKKACiiigAooooAKKKKACiiigAooooAKKKKACiiigAooooAKqahax3lnLbzoJIpUKOhHDAjBFW6QjNAHi2rfBfwkGY2+ixJ9M1z7/BvQt3GmJj8a+gZLVH6ioTpsR/hFAHgX/Cm9D/6BqfrR/wpvQ/+gan6175/ZkX90Uf2ZF/dFAHgf/Cm9D/6BqfrR/wpvQ/+gan6175/ZkX90Uf2ZF/dFAHgf/Cm9D/6BqfrR/wpvQ/+gan6175/ZkX90Uv9mRf3RQB4F/wpvQ/+gan60f8ACm9D/wCgan6177/ZkX90Un9mRf3RQB4H/wAKb0P/AKBqfrQPg3oef+Qan6175/ZkX90Uf2bF/dFAHlHhb4f2OgSP/Z1osHmEF8d8V6hpVt5MQGKtJYRqeFqykYUcUAPFLRRQAUUUUAFFFFABRRRQAUUUUAFFFFABRRRQAUUUUAFFFFABRRRQAUUUUAFFFFABRRRQAUUUUAFFFFABRRRQAUUUUAFFFFABRRRQAUUUUAFFFFABRRRQAUUUUAFFFFABRRRQAUUUUAFFFFABXN+Mf9Z4f/7C8f8A6LkrpK5vxj/rPD//AGF4/wD0XJQB0lFFFABXN+B/+QVqX/YZ1D/0qkrpK5vwP/yCtS/7DOof+lUlAHSUUUUAFFFFABRRRQAUUUUAFFFFABRRRQAUUUUAFFFFABRRRQAUUUUAFFFFABRRRQAUUUUAFFFFABRRRQAUUUUAFFFFABRRRQAUUUUAFFFFABRRRQAUUUUAFFFFABRRRQAUUUUAFFFFABRRRQAUUUUAFFFFABRRRQAUUUUAFFFFABRRRQAUUUUAFFFFABRRRQAUUUUAFFFFABRRRQAUUUUAFFFFABRRRQAUUUUAFFFFABRRRQAUUUUAFFFFABRRRQAUUUUAFFFFABRRRQAUUUUAFFFFABRRRQAUUUUAFFFFABRRRQAUUUUAFFFFABRRRQAUUUUAFFFFABXN+Mf9Z4f/AOwvH/6LkrpK5vxj/rPD/wD2F4//AEXJQB0lFFFABXNHwPZrcXEltqmsWi3E8lw8VvfuiB3YsxCjpkkmulooA5v/AIQuL/oPeIP/AAZyUf8ACFxf9B7xB/4M5K6SigDm/wDhC4v+g94g/wDBnJR/whcX/Qe8Qf8AgzkrpKKAOb/4QuL/AKD3iD/wZyUf8IXF/wBB7xB/4M5K6SigDm/+ELi/6D3iD/wZyUf8IXF/0HvEH/gzkrpKKAOb/wCELi/6D3iD/wAGclH/AAhcX/Qe8Qf+DOSukooA5v8A4QuL/oPeIP8AwZyUf8IXF/0HvEH/AIM5K6SigDm/+ELi/wCg94g/8GclH/CFxf8AQe8Qf+DOSukooA5v/hC4v+g94g/8GclH/CFxf9B7xB/4M5K6SigDm/8AhC4v+g94g/8ABnJR/wAIXF/0HvEH/gzkrpKKAOb/AOELi/6D3iD/AMGclH/CFxf9B7xB/wCDOSukooA5v/hC4v8AoPeIP/BnJR/whcX/AEHvEH/gzkrpKKAOb/4QuL/oPeIP/BnJR/whcX/Qe8Qf+DOSukooA5v/AIQuL/oPeIP/AAZyUf8ACFxf9B7xB/4M5K6SigDm/wDhC4v+g94g/wDBnJR/whcX/Qe8Qf8AgzkrpKKAOb/4QuL/AKD3iD/wZyUf8IXF/wBB7xB/4M5K6SigDm/+ELi/6D3iD/wZyUf8IXF/0HvEH/gzkrpKKAOb/wCELi/6D3iD/wAGclH/AAhcX/Qe8Qf+DOSukooA5v8A4QuL/oPeIP8AwZyUf8IXF/0HvEH/AIM5K6SigDm/+ELi/wCg94g/8GclH/CFxf8AQe8Qf+DOSukooA5v/hC4v+g94g/8GclH/CFxf9B7xB/4M5K6SigDm/8AhC4v+g94g/8ABnJR/wAIXF/0HvEH/gzkrpKKAOb/AOELi/6D3iD/AMGclH/CFxf9B7xB/wCDOSukooA5v/hC4v8AoPeIP/BnJR/whcX/AEHvEH/gzkrpKKAOb/4QuL/oPeIP/BnJR/whcX/Qe8Qf+DOSukooA5v/AIQuL/oPeIP/AAZyUf8ACFxf9B7xB/4M5K6SigDm/wDhC4v+g94g/wDBnJR/whcX/Qe8Qf8AgzkrpKKAOb/4QuL/AKD3iD/wZyUf8IXF/wBB7xB/4M5K6SigDm/+ELi/6D3iD/wZyUf8IXF/0HvEH/gzkrpKKAOb/wCELi/6D3iD/wAGclH/AAhcX/Qe8Qf+DOSukooA5v8A4QuL/oPeIP8AwZyUf8IXF/0HvEH/AIM5K6SigDm/+ELi/wCg94g/8GclH/CFxf8AQe8Qf+DOSukooA5v/hC4v+g94g/8GclH/CFxf9B7xB/4M5K6SigDm/8AhC4v+g94g/8ABnJR/wAIXF/0HvEH/gzkrpKKAOb/AOELi/6D3iD/AMGclH/CFxf9B7xB/wCDOSukooA5v/hC4v8AoPeIP/BnJR/whcX/AEHvEH/gzkrpKKAOb/4QuL/oPeIP/BnJR/whcX/Qe8Qf+DOSukooA5v/AIQuL/oPeIP/AAZyUf8ACFxf9B7xB/4M5K6SigDm/wDhC4v+g94g/wDBnJR/whcX/Qe8Qf8AgzkrpKKAOb/4QuL/AKD3iD/wZyUf8IXF/wBB7xB/4M5K6SigDm/+ELi/6D3iD/wZyUf8IXF/0HvEH/gzkrpKKAOb/wCELi/6D3iD/wAGclH/AAhcX/Qe8Qf+DOSukooA5v8A4QuL/oPeIP8AwZyUf8IXF/0HvEH/AIM5K6SigDm/+ELi/wCg94g/8GclH/CFxf8AQe8Qf+DOSukooA5v/hC4v+g94g/8GclH/CFxf9B7xB/4M5K6SigDm/8AhC4v+g94g/8ABnJR/wAIXF/0HvEH/gzkrpKKAOb/AOELi/6D3iD/AMGclH/CFxf9B7xB/wCDOSukooA5v/hC4v8AoPeIP/BnJR/whcX/AEHvEH/gzkrpKKAOb/4QuL/oPeIP/BnJR/whcX/Qe8Qf+DOSukooA5v/AIQuL/oPeIP/AAZyUf8ACFxf9B7xB/4M5K6SigDm/wDhC4v+g94g/wDBnJR/whcX/Qe8Qf8AgzkrpKKAOb/4QuL/AKD3iD/wZyUf8IXF/wBB7xB/4M5K6SigDm/+ELi/6D3iD/wZyUf8IXF/0HvEH/gzkrpKKAOb/wCELi/6D3iD/wAGclH/AAhcX/Qe8Qf+DOSukooA5v8A4QuL/oPeIP8AwZyUf8IXF/0HvEH/AIM5K6SigDm/+ELi/wCg94g/8GclH/CFxf8AQe8Qf+DOSukooA5v/hC4v+g94g/8GclH/CFxf9B7xB/4M5K6SigDm/8AhC4v+g94g/8ABnJR/wAIXF/0HvEH/gzkrpKKAOb/AOELi/6D3iD/AMGclH/CFxf9B7xB/wCDOSukooA5v/hC4v8AoPeIP/BnJR/whcX/AEHvEH/gzkrpKKAOb/4QuL/oPeIP/BnJR/whcX/Qe8Qf+DOSukooA5v/AIQuL/oPeIP/AAZyUf8ACFxf9B7xB/4M5K6SigDm/wDhC4v+g94g/wDBnJR/whcX/Qe8Qf8AgzkrpKKAOb/4QuL/AKD3iD/wZyUsXgmzW9trm41LV7s2somijub55EDgEA7T14Jro6KACiiigD//2Q==)"
      ]
    },
    {
      "cell_type": "code",
      "metadata": {
        "colab": {
          "base_uri": "https://localhost:8080/",
          "height": 402
        },
        "id": "1wGBCp8jtNaA",
        "outputId": "7a92e425-78bf-4405-d494-d818d6e63e7b"
      },
      "source": [
        "ipl_data = {'Team': ['Riders', 'Riders', 'Devils', 'Devils', 'Kings',\n",
        "   'kings', 'Kings', 'Kings', 'Riders', 'Royals', 'Royals', 'Riders'],\n",
        "   'Rank': [1, 2, 2, 3, 3,4 ,1 ,1,2 , 4,1,2],\n",
        "   'Year': [2014,2015,2014,2015,2014,2015,2016,2017,2016,2014,2015,2017],\n",
        "   'Points':[876,789,863,673,741,812,756,788,694,701,804,690]}\n",
        "team = pd.DataFrame(ipl_data)\n",
        "team"
      ],
      "execution_count": null,
      "outputs": [
        {
          "output_type": "execute_result",
          "data": {
            "text/html": [
              "<div>\n",
              "<style scoped>\n",
              "    .dataframe tbody tr th:only-of-type {\n",
              "        vertical-align: middle;\n",
              "    }\n",
              "\n",
              "    .dataframe tbody tr th {\n",
              "        vertical-align: top;\n",
              "    }\n",
              "\n",
              "    .dataframe thead th {\n",
              "        text-align: right;\n",
              "    }\n",
              "</style>\n",
              "<table border=\"1\" class=\"dataframe\">\n",
              "  <thead>\n",
              "    <tr style=\"text-align: right;\">\n",
              "      <th></th>\n",
              "      <th>Team</th>\n",
              "      <th>Rank</th>\n",
              "      <th>Year</th>\n",
              "      <th>Points</th>\n",
              "    </tr>\n",
              "  </thead>\n",
              "  <tbody>\n",
              "    <tr>\n",
              "      <th>0</th>\n",
              "      <td>Riders</td>\n",
              "      <td>1</td>\n",
              "      <td>2014</td>\n",
              "      <td>876</td>\n",
              "    </tr>\n",
              "    <tr>\n",
              "      <th>1</th>\n",
              "      <td>Riders</td>\n",
              "      <td>2</td>\n",
              "      <td>2015</td>\n",
              "      <td>789</td>\n",
              "    </tr>\n",
              "    <tr>\n",
              "      <th>2</th>\n",
              "      <td>Devils</td>\n",
              "      <td>2</td>\n",
              "      <td>2014</td>\n",
              "      <td>863</td>\n",
              "    </tr>\n",
              "    <tr>\n",
              "      <th>3</th>\n",
              "      <td>Devils</td>\n",
              "      <td>3</td>\n",
              "      <td>2015</td>\n",
              "      <td>673</td>\n",
              "    </tr>\n",
              "    <tr>\n",
              "      <th>4</th>\n",
              "      <td>Kings</td>\n",
              "      <td>3</td>\n",
              "      <td>2014</td>\n",
              "      <td>741</td>\n",
              "    </tr>\n",
              "    <tr>\n",
              "      <th>5</th>\n",
              "      <td>kings</td>\n",
              "      <td>4</td>\n",
              "      <td>2015</td>\n",
              "      <td>812</td>\n",
              "    </tr>\n",
              "    <tr>\n",
              "      <th>6</th>\n",
              "      <td>Kings</td>\n",
              "      <td>1</td>\n",
              "      <td>2016</td>\n",
              "      <td>756</td>\n",
              "    </tr>\n",
              "    <tr>\n",
              "      <th>7</th>\n",
              "      <td>Kings</td>\n",
              "      <td>1</td>\n",
              "      <td>2017</td>\n",
              "      <td>788</td>\n",
              "    </tr>\n",
              "    <tr>\n",
              "      <th>8</th>\n",
              "      <td>Riders</td>\n",
              "      <td>2</td>\n",
              "      <td>2016</td>\n",
              "      <td>694</td>\n",
              "    </tr>\n",
              "    <tr>\n",
              "      <th>9</th>\n",
              "      <td>Royals</td>\n",
              "      <td>4</td>\n",
              "      <td>2014</td>\n",
              "      <td>701</td>\n",
              "    </tr>\n",
              "    <tr>\n",
              "      <th>10</th>\n",
              "      <td>Royals</td>\n",
              "      <td>1</td>\n",
              "      <td>2015</td>\n",
              "      <td>804</td>\n",
              "    </tr>\n",
              "    <tr>\n",
              "      <th>11</th>\n",
              "      <td>Riders</td>\n",
              "      <td>2</td>\n",
              "      <td>2017</td>\n",
              "      <td>690</td>\n",
              "    </tr>\n",
              "  </tbody>\n",
              "</table>\n",
              "</div>"
            ],
            "text/plain": [
              "      Team  Rank  Year  Points\n",
              "0   Riders     1  2014     876\n",
              "1   Riders     2  2015     789\n",
              "2   Devils     2  2014     863\n",
              "3   Devils     3  2015     673\n",
              "4    Kings     3  2014     741\n",
              "5    kings     4  2015     812\n",
              "6    Kings     1  2016     756\n",
              "7    Kings     1  2017     788\n",
              "8   Riders     2  2016     694\n",
              "9   Royals     4  2014     701\n",
              "10  Royals     1  2015     804\n",
              "11  Riders     2  2017     690"
            ]
          },
          "metadata": {
            "tags": []
          },
          "execution_count": 44
        }
      ]
    },
    {
      "cell_type": "markdown",
      "metadata": {
        "id": "Tsy4FxxTr34c"
      },
      "source": [
        "Example 1: Grouping by single column and finding mean"
      ]
    },
    {
      "cell_type": "code",
      "metadata": {
        "colab": {
          "base_uri": "https://localhost:8080/",
          "height": 225
        },
        "id": "XpToBuKiqBzg",
        "outputId": "e1457464-e086-4333-a05b-f6da69146d5c"
      },
      "source": [
        "groupteam=df.groupby(['Team'])\n",
        "groupteam.mean()"
      ],
      "execution_count": null,
      "outputs": [
        {
          "output_type": "execute_result",
          "data": {
            "text/html": [
              "<div>\n",
              "<style scoped>\n",
              "    .dataframe tbody tr th:only-of-type {\n",
              "        vertical-align: middle;\n",
              "    }\n",
              "\n",
              "    .dataframe tbody tr th {\n",
              "        vertical-align: top;\n",
              "    }\n",
              "\n",
              "    .dataframe thead th {\n",
              "        text-align: right;\n",
              "    }\n",
              "</style>\n",
              "<table border=\"1\" class=\"dataframe\">\n",
              "  <thead>\n",
              "    <tr style=\"text-align: right;\">\n",
              "      <th></th>\n",
              "      <th>Rank</th>\n",
              "      <th>Year</th>\n",
              "      <th>Points</th>\n",
              "    </tr>\n",
              "    <tr>\n",
              "      <th>Team</th>\n",
              "      <th></th>\n",
              "      <th></th>\n",
              "      <th></th>\n",
              "    </tr>\n",
              "  </thead>\n",
              "  <tbody>\n",
              "    <tr>\n",
              "      <th>Devils</th>\n",
              "      <td>2.500000</td>\n",
              "      <td>2014.500000</td>\n",
              "      <td>768.000000</td>\n",
              "    </tr>\n",
              "    <tr>\n",
              "      <th>Kings</th>\n",
              "      <td>1.666667</td>\n",
              "      <td>2015.666667</td>\n",
              "      <td>761.666667</td>\n",
              "    </tr>\n",
              "    <tr>\n",
              "      <th>Riders</th>\n",
              "      <td>1.750000</td>\n",
              "      <td>2015.500000</td>\n",
              "      <td>762.250000</td>\n",
              "    </tr>\n",
              "    <tr>\n",
              "      <th>Royals</th>\n",
              "      <td>2.500000</td>\n",
              "      <td>2014.500000</td>\n",
              "      <td>752.500000</td>\n",
              "    </tr>\n",
              "    <tr>\n",
              "      <th>kings</th>\n",
              "      <td>4.000000</td>\n",
              "      <td>2015.000000</td>\n",
              "      <td>812.000000</td>\n",
              "    </tr>\n",
              "  </tbody>\n",
              "</table>\n",
              "</div>"
            ],
            "text/plain": [
              "            Rank         Year      Points\n",
              "Team                                     \n",
              "Devils  2.500000  2014.500000  768.000000\n",
              "Kings   1.666667  2015.666667  761.666667\n",
              "Riders  1.750000  2015.500000  762.250000\n",
              "Royals  2.500000  2014.500000  752.500000\n",
              "kings   4.000000  2015.000000  812.000000"
            ]
          },
          "metadata": {
            "tags": []
          },
          "execution_count": 50
        }
      ]
    },
    {
      "cell_type": "markdown",
      "metadata": {
        "id": "jtO2Axo7r9Nn"
      },
      "source": [
        "Example 2 : Grouping by Multiple Column\n"
      ]
    },
    {
      "cell_type": "code",
      "metadata": {
        "colab": {
          "base_uri": "https://localhost:8080/",
          "height": 343
        },
        "id": "s_nctLhVr8xP",
        "outputId": "0c7c1e97-10b5-4bce-e8e3-3ab8f1b5427b"
      },
      "source": [
        "grouprank = df.groupby(['Team','Rank'])\n",
        "grouprank.mean()"
      ],
      "execution_count": null,
      "outputs": [
        {
          "output_type": "execute_result",
          "data": {
            "text/html": [
              "<div>\n",
              "<style scoped>\n",
              "    .dataframe tbody tr th:only-of-type {\n",
              "        vertical-align: middle;\n",
              "    }\n",
              "\n",
              "    .dataframe tbody tr th {\n",
              "        vertical-align: top;\n",
              "    }\n",
              "\n",
              "    .dataframe thead th {\n",
              "        text-align: right;\n",
              "    }\n",
              "</style>\n",
              "<table border=\"1\" class=\"dataframe\">\n",
              "  <thead>\n",
              "    <tr style=\"text-align: right;\">\n",
              "      <th></th>\n",
              "      <th></th>\n",
              "      <th>Year</th>\n",
              "      <th>Points</th>\n",
              "    </tr>\n",
              "    <tr>\n",
              "      <th>Team</th>\n",
              "      <th>Rank</th>\n",
              "      <th></th>\n",
              "      <th></th>\n",
              "    </tr>\n",
              "  </thead>\n",
              "  <tbody>\n",
              "    <tr>\n",
              "      <th rowspan=\"2\" valign=\"top\">Devils</th>\n",
              "      <th>2</th>\n",
              "      <td>2014.0</td>\n",
              "      <td>863.000000</td>\n",
              "    </tr>\n",
              "    <tr>\n",
              "      <th>3</th>\n",
              "      <td>2015.0</td>\n",
              "      <td>673.000000</td>\n",
              "    </tr>\n",
              "    <tr>\n",
              "      <th rowspan=\"2\" valign=\"top\">Kings</th>\n",
              "      <th>1</th>\n",
              "      <td>2016.5</td>\n",
              "      <td>772.000000</td>\n",
              "    </tr>\n",
              "    <tr>\n",
              "      <th>3</th>\n",
              "      <td>2014.0</td>\n",
              "      <td>741.000000</td>\n",
              "    </tr>\n",
              "    <tr>\n",
              "      <th rowspan=\"2\" valign=\"top\">Riders</th>\n",
              "      <th>1</th>\n",
              "      <td>2014.0</td>\n",
              "      <td>876.000000</td>\n",
              "    </tr>\n",
              "    <tr>\n",
              "      <th>2</th>\n",
              "      <td>2016.0</td>\n",
              "      <td>724.333333</td>\n",
              "    </tr>\n",
              "    <tr>\n",
              "      <th rowspan=\"2\" valign=\"top\">Royals</th>\n",
              "      <th>1</th>\n",
              "      <td>2015.0</td>\n",
              "      <td>804.000000</td>\n",
              "    </tr>\n",
              "    <tr>\n",
              "      <th>4</th>\n",
              "      <td>2014.0</td>\n",
              "      <td>701.000000</td>\n",
              "    </tr>\n",
              "    <tr>\n",
              "      <th>kings</th>\n",
              "      <th>4</th>\n",
              "      <td>2015.0</td>\n",
              "      <td>812.000000</td>\n",
              "    </tr>\n",
              "  </tbody>\n",
              "</table>\n",
              "</div>"
            ],
            "text/plain": [
              "               Year      Points\n",
              "Team   Rank                    \n",
              "Devils 2     2014.0  863.000000\n",
              "       3     2015.0  673.000000\n",
              "Kings  1     2016.5  772.000000\n",
              "       3     2014.0  741.000000\n",
              "Riders 1     2014.0  876.000000\n",
              "       2     2016.0  724.333333\n",
              "Royals 1     2015.0  804.000000\n",
              "       4     2014.0  701.000000\n",
              "kings  4     2015.0  812.000000"
            ]
          },
          "metadata": {
            "tags": []
          },
          "execution_count": 55
        }
      ]
    },
    {
      "cell_type": "markdown",
      "metadata": {
        "id": "BZcE_fgFsDm5"
      },
      "source": [
        "Example 3 : Hierarchical Indexes"
      ]
    },
    {
      "cell_type": "code",
      "metadata": {
        "colab": {
          "base_uri": "https://localhost:8080/",
          "height": 195
        },
        "id": "IgdIX11umveR",
        "outputId": "fc18e4a5-cbc0-4929-b736-335ea79c8f0e"
      },
      "source": [
        "arrays = [['Falcon', 'Falcon', 'Parrot', 'Parrot'],\n",
        "          ['Captive', 'Wild', 'Captive', 'Wild']]\n",
        "index = pd.MultiIndex.from_arrays(arrays, names=('Animal', 'Type'))\n",
        "animaldf = pd.DataFrame({'Max Speed': [390., 350., 30., 20.]},\n",
        "                  index=index)\n",
        "animaldf"
      ],
      "execution_count": null,
      "outputs": [
        {
          "output_type": "execute_result",
          "data": {
            "text/html": [
              "<div>\n",
              "<style scoped>\n",
              "    .dataframe tbody tr th:only-of-type {\n",
              "        vertical-align: middle;\n",
              "    }\n",
              "\n",
              "    .dataframe tbody tr th {\n",
              "        vertical-align: top;\n",
              "    }\n",
              "\n",
              "    .dataframe thead th {\n",
              "        text-align: right;\n",
              "    }\n",
              "</style>\n",
              "<table border=\"1\" class=\"dataframe\">\n",
              "  <thead>\n",
              "    <tr style=\"text-align: right;\">\n",
              "      <th></th>\n",
              "      <th></th>\n",
              "      <th>Max Speed</th>\n",
              "    </tr>\n",
              "    <tr>\n",
              "      <th>Animal</th>\n",
              "      <th>Type</th>\n",
              "      <th></th>\n",
              "    </tr>\n",
              "  </thead>\n",
              "  <tbody>\n",
              "    <tr>\n",
              "      <th rowspan=\"2\" valign=\"top\">Falcon</th>\n",
              "      <th>Captive</th>\n",
              "      <td>390.0</td>\n",
              "    </tr>\n",
              "    <tr>\n",
              "      <th>Wild</th>\n",
              "      <td>350.0</td>\n",
              "    </tr>\n",
              "    <tr>\n",
              "      <th rowspan=\"2\" valign=\"top\">Parrot</th>\n",
              "      <th>Captive</th>\n",
              "      <td>30.0</td>\n",
              "    </tr>\n",
              "    <tr>\n",
              "      <th>Wild</th>\n",
              "      <td>20.0</td>\n",
              "    </tr>\n",
              "  </tbody>\n",
              "</table>\n",
              "</div>"
            ],
            "text/plain": [
              "                Max Speed\n",
              "Animal Type              \n",
              "Falcon Captive      390.0\n",
              "       Wild         350.0\n",
              "Parrot Captive       30.0\n",
              "       Wild          20.0"
            ]
          },
          "metadata": {
            "tags": []
          },
          "execution_count": 52
        }
      ]
    },
    {
      "cell_type": "code",
      "metadata": {
        "colab": {
          "base_uri": "https://localhost:8080/",
          "height": 136
        },
        "id": "cE4_lFY_unLY",
        "outputId": "8b302aec-f556-4ab6-cf93-0428864905b3"
      },
      "source": [
        "animaldf.groupby(level=\"Type\").mean()"
      ],
      "execution_count": null,
      "outputs": [
        {
          "output_type": "execute_result",
          "data": {
            "text/html": [
              "<div>\n",
              "<style scoped>\n",
              "    .dataframe tbody tr th:only-of-type {\n",
              "        vertical-align: middle;\n",
              "    }\n",
              "\n",
              "    .dataframe tbody tr th {\n",
              "        vertical-align: top;\n",
              "    }\n",
              "\n",
              "    .dataframe thead th {\n",
              "        text-align: right;\n",
              "    }\n",
              "</style>\n",
              "<table border=\"1\" class=\"dataframe\">\n",
              "  <thead>\n",
              "    <tr style=\"text-align: right;\">\n",
              "      <th></th>\n",
              "      <th>Max Speed</th>\n",
              "    </tr>\n",
              "    <tr>\n",
              "      <th>Type</th>\n",
              "      <th></th>\n",
              "    </tr>\n",
              "  </thead>\n",
              "  <tbody>\n",
              "    <tr>\n",
              "      <th>Captive</th>\n",
              "      <td>210.0</td>\n",
              "    </tr>\n",
              "    <tr>\n",
              "      <th>Wild</th>\n",
              "      <td>185.0</td>\n",
              "    </tr>\n",
              "  </tbody>\n",
              "</table>\n",
              "</div>"
            ],
            "text/plain": [
              "         Max Speed\n",
              "Type              \n",
              "Captive      210.0\n",
              "Wild         185.0"
            ]
          },
          "metadata": {
            "tags": []
          },
          "execution_count": 56
        }
      ]
    },
    {
      "cell_type": "markdown",
      "metadata": {
        "id": "BEhZhFNwwIb5"
      },
      "source": [
        "Iterating over Groups:\n"
      ]
    },
    {
      "cell_type": "code",
      "metadata": {
        "colab": {
          "base_uri": "https://localhost:8080/"
        },
        "id": "7OtgezeJvgMI",
        "outputId": "21aaeaf5-79c0-44e9-faa5-8a565a7021a4"
      },
      "source": [
        "grouped = team.groupby('Year')\n",
        "\n",
        "for name,group in grouped:\n",
        "   print (name)\n",
        "   print (group)"
      ],
      "execution_count": null,
      "outputs": [
        {
          "output_type": "stream",
          "text": [
            "2014\n",
            "     Team  Rank  Year  Points\n",
            "0  Riders     1  2014     876\n",
            "2  Devils     2  2014     863\n",
            "4   Kings     3  2014     741\n",
            "9  Royals     4  2014     701\n",
            "2015\n",
            "      Team  Rank  Year  Points\n",
            "1   Riders     2  2015     789\n",
            "3   Devils     3  2015     673\n",
            "5    kings     4  2015     812\n",
            "10  Royals     1  2015     804\n",
            "2016\n",
            "     Team  Rank  Year  Points\n",
            "6   Kings     1  2016     756\n",
            "8  Riders     2  2016     694\n",
            "2017\n",
            "      Team  Rank  Year  Points\n",
            "7    Kings     1  2017     788\n",
            "11  Riders     2  2017     690\n"
          ],
          "name": "stdout"
        }
      ]
    },
    {
      "cell_type": "code",
      "metadata": {
        "colab": {
          "base_uri": "https://localhost:8080/"
        },
        "id": "9HJvJBaSwC7G",
        "outputId": "b45420ae-5371-498b-b8cb-a99cba7f3294"
      },
      "source": [
        "#size of group\n",
        "grouped.size()"
      ],
      "execution_count": null,
      "outputs": [
        {
          "output_type": "execute_result",
          "data": {
            "text/plain": [
              "Year\n",
              "2014    4\n",
              "2015    4\n",
              "2016    2\n",
              "2017    2\n",
              "dtype: int64"
            ]
          },
          "metadata": {
            "tags": []
          },
          "execution_count": 60
        }
      ]
    },
    {
      "cell_type": "code",
      "metadata": {
        "colab": {
          "base_uri": "https://localhost:8080/"
        },
        "id": "4cGjoQanwtHz",
        "outputId": "3b2cd7dd-af42-42b7-b9e7-29618b6aa864"
      },
      "source": [
        "#changing axis of groupby to make it row wise\n",
        "grouped = df.groupby(df.dtypes, axis=1)\n",
        "grouped"
      ],
      "execution_count": null,
      "outputs": [
        {
          "output_type": "execute_result",
          "data": {
            "text/plain": [
              "<pandas.core.groupby.generic.DataFrameGroupBy object at 0x7fc6176a3eb8>"
            ]
          },
          "metadata": {
            "tags": []
          },
          "execution_count": 61
        }
      ]
    },
    {
      "cell_type": "code",
      "metadata": {
        "id": "n6UuJJ2tw84r",
        "colab": {
          "base_uri": "https://localhost:8080/"
        },
        "outputId": "67b43063-a25d-4075-d7d9-bf02cadba037"
      },
      "source": [
        "for dtype, group in grouped:\n",
        "  print(dtype)\n",
        "  print(group)"
      ],
      "execution_count": null,
      "outputs": [
        {
          "output_type": "stream",
          "text": [
            "int64\n",
            "    Rank  Year  Points\n",
            "0      1  2014     876\n",
            "1      2  2015     789\n",
            "2      2  2014     863\n",
            "3      3  2015     673\n",
            "4      3  2014     741\n",
            "5      4  2015     812\n",
            "6      1  2016     756\n",
            "7      1  2017     788\n",
            "8      2  2016     694\n",
            "9      4  2014     701\n",
            "10     1  2015     804\n",
            "11     2  2017     690\n",
            "object\n",
            "      Team\n",
            "0   Riders\n",
            "1   Riders\n",
            "2   Devils\n",
            "3   Devils\n",
            "4    Kings\n",
            "5    kings\n",
            "6    Kings\n",
            "7    Kings\n",
            "8   Riders\n",
            "9   Royals\n",
            "10  Royals\n",
            "11  Riders\n"
          ],
          "name": "stdout"
        }
      ]
    },
    {
      "cell_type": "code",
      "metadata": {
        "id": "MlkJBMJEw_uL"
      },
      "source": [
        ""
      ],
      "execution_count": null,
      "outputs": []
    }
  ]
}