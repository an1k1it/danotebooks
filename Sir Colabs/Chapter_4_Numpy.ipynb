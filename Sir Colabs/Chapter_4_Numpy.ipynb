{
  "nbformat": 4,
  "nbformat_minor": 0,
  "metadata": {
    "colab": {
      "name": "Chapter 4 Numpy.ipynb",
      "provenance": [],
      "collapsed_sections": []
    },
    "kernelspec": {
      "name": "python3",
      "display_name": "Python 3"
    }
  },
  "cells": [
    {
      "cell_type": "markdown",
      "metadata": {
        "id": "3u80YG2-LIkX"
      },
      "source": [
        "JUPYTER NOTEBOOK CREATED BY\n",
        "# DR. RAJAN GUPTA\n",
        "# DEEN DAYAL UPADHYAYA COLLEGE\n",
        "# UNIVERSITY OF DELHI\n",
        "# rgupta.cs.du@gmail.com"
      ]
    },
    {
      "cell_type": "markdown",
      "metadata": {
        "id": "MnkPh4mr_hRD"
      },
      "source": [
        "Chapter 4 - Numpy [4.1-4.4]"
      ]
    },
    {
      "cell_type": "code",
      "metadata": {
        "id": "V1JbBoHG--7P"
      },
      "source": [
        "#Chapter 4 - Numpy [4.1-4.4]\n",
        "#Run Cell using \"Shift + Enter\""
      ],
      "execution_count": null,
      "outputs": []
    },
    {
      "cell_type": "markdown",
      "metadata": {
        "id": "q2EzCuUBAyig"
      },
      "source": [
        "\n",
        "ADVANTAGES\n",
        "*   Fast vectorized array operations for data munging and cleaning [Faster Libraries rather than using direct operations]\n",
        "*   Common array algorithms like sorting, unique, and set operations\n",
        "*   Efficient descriptive statistics and aggregating/summarizing data\n",
        "*   Data alignment and relational data manipulations for merging and joining\n",
        "together heterogeneous datasets\n",
        "*   Expressing conditional logic as array expressions instead of loops with if-elif-else branches\n",
        "*   Group-wise data manipulations (aggregation, transformation, function application)\n",
        "\n",
        "\n",
        "\n",
        "\n",
        "\n"
      ]
    },
    {
      "cell_type": "code",
      "metadata": {
        "id": "cWlzLTtI_sbY"
      },
      "source": [
        "#Importing the Numpy package\n",
        "import numpy as np"
      ],
      "execution_count": null,
      "outputs": []
    },
    {
      "cell_type": "markdown",
      "metadata": {
        "id": "uqPeWb4WRH0q"
      },
      "source": [
        "**4.1 The NumPy ndarray: A Multidimensional Array Object**"
      ]
    },
    {
      "cell_type": "code",
      "metadata": {
        "id": "PwCVnMjUCJrb",
        "colab": {
          "base_uri": "https://localhost:8080/",
          "height": 50
        },
        "outputId": "d141b5a6-8e1f-4a16-be38-13fee044fba4"
      },
      "source": [
        "#Generating Random Data (an array of 2 rows and 3 cols)\n",
        "data = np.random.randn(2,3)\n",
        "data"
      ],
      "execution_count": null,
      "outputs": [
        {
          "output_type": "execute_result",
          "data": {
            "text/plain": [
              "array([[-0.13873407,  0.56082992,  1.95700144],\n",
              "       [-0.59281789,  0.59330076,  0.34283509]])"
            ]
          },
          "metadata": {
            "tags": []
          },
          "execution_count": 7
        }
      ]
    },
    {
      "cell_type": "code",
      "metadata": {
        "id": "1tadYAZICeV5",
        "colab": {
          "base_uri": "https://localhost:8080/",
          "height": 50
        },
        "outputId": "71c8ad84-6ca9-4bd1-f25f-1864f6524a46"
      },
      "source": [
        "#Basic Mathematical Operations on this array\n",
        "\n",
        "#Addition\n",
        "data+10"
      ],
      "execution_count": null,
      "outputs": [
        {
          "output_type": "execute_result",
          "data": {
            "text/plain": [
              "array([[ 9.86126593, 10.56082992, 11.95700144],\n",
              "       [ 9.40718211, 10.59330076, 10.34283509]])"
            ]
          },
          "metadata": {
            "tags": []
          },
          "execution_count": 8
        }
      ]
    },
    {
      "cell_type": "code",
      "metadata": {
        "id": "ntJhQMvLCuF8",
        "colab": {
          "base_uri": "https://localhost:8080/",
          "height": 50
        },
        "outputId": "840fe6ea-c96a-4677-cae6-db4101d0e5e0"
      },
      "source": [
        "#Multiplication\n",
        "data*10"
      ],
      "execution_count": null,
      "outputs": [
        {
          "output_type": "execute_result",
          "data": {
            "text/plain": [
              "array([[-1.38734068,  5.60829922, 19.5700144 ],\n",
              "       [-5.92817888,  5.93300755,  3.42835093]])"
            ]
          },
          "metadata": {
            "tags": []
          },
          "execution_count": 9
        }
      ]
    },
    {
      "cell_type": "code",
      "metadata": {
        "id": "GPoUNS0uCxpT",
        "colab": {
          "base_uri": "https://localhost:8080/",
          "height": 50
        },
        "outputId": "2a43d1e4-835a-4eaa-daec-25ed17a8277b"
      },
      "source": [
        "#Array Addition\n",
        "data+data"
      ],
      "execution_count": null,
      "outputs": [
        {
          "output_type": "execute_result",
          "data": {
            "text/plain": [
              "array([[-0.27746814,  1.12165984,  3.91400288],\n",
              "       [-1.18563578,  1.18660151,  0.68567019]])"
            ]
          },
          "metadata": {
            "tags": []
          },
          "execution_count": 10
        }
      ]
    },
    {
      "cell_type": "code",
      "metadata": {
        "id": "-xi0ecDbC14V",
        "colab": {
          "base_uri": "https://localhost:8080/",
          "height": 34
        },
        "outputId": "7f454e32-faaf-4657-c9b4-cf01306fcca6"
      },
      "source": [
        "#Knowing the dimension of the array\n",
        "data.shape"
      ],
      "execution_count": null,
      "outputs": [
        {
          "output_type": "execute_result",
          "data": {
            "text/plain": [
              "(2, 3)"
            ]
          },
          "metadata": {
            "tags": []
          },
          "execution_count": 12
        }
      ]
    },
    {
      "cell_type": "code",
      "metadata": {
        "id": "w4zlnHuMDR_p",
        "colab": {
          "base_uri": "https://localhost:8080/",
          "height": 34
        },
        "outputId": "e11a2a64-b4c8-44e6-9603-6686b73029ba"
      },
      "source": [
        "#Knowing the data type of the elements of the array\n",
        "data.dtype"
      ],
      "execution_count": null,
      "outputs": [
        {
          "output_type": "execute_result",
          "data": {
            "text/plain": [
              "dtype('float64')"
            ]
          },
          "metadata": {
            "tags": []
          },
          "execution_count": 13
        }
      ]
    },
    {
      "cell_type": "code",
      "metadata": {
        "id": "uxJ4l9H7DWy1",
        "colab": {
          "base_uri": "https://localhost:8080/",
          "height": 34
        },
        "outputId": "25c8e766-3dd8-4256-c9c6-656d58582da5"
      },
      "source": [
        "#Creating ndarrays\n",
        "\n",
        "#creating a single list in data1 of mixed data type\n",
        "data1 = [6, 7.5, 8, 0, 1]\n",
        "#converting the list to a single Dimension array\n",
        "arr1=np.array(data1)\n",
        "arr1"
      ],
      "execution_count": null,
      "outputs": [
        {
          "output_type": "execute_result",
          "data": {
            "text/plain": [
              "array([6. , 7.5, 8. , 0. , 1. ])"
            ]
          },
          "metadata": {
            "tags": []
          },
          "execution_count": 15
        }
      ]
    },
    {
      "cell_type": "code",
      "metadata": {
        "id": "0EAWaRj_Jdb7",
        "colab": {
          "base_uri": "https://localhost:8080/",
          "height": 50
        },
        "outputId": "78690355-5b8d-457f-f24e-474cbe41173a"
      },
      "source": [
        "#creating a 2D array with list of equal length lists\n",
        "data2 = [[1,2,3,4],[5,6,7,8]]\n",
        "#converting the list to a 2D array\n",
        "arr2=np.array(data2)\n",
        "arr2"
      ],
      "execution_count": null,
      "outputs": [
        {
          "output_type": "execute_result",
          "data": {
            "text/plain": [
              "array([[1, 2, 3, 4],\n",
              "       [5, 6, 7, 8]])"
            ]
          },
          "metadata": {
            "tags": []
          },
          "execution_count": 16
        }
      ]
    },
    {
      "cell_type": "code",
      "metadata": {
        "id": "4JEp_VE7KBUP",
        "colab": {
          "base_uri": "https://localhost:8080/",
          "height": 34
        },
        "outputId": "44d305cc-2857-4553-fe9f-0b42ab5fd6ae"
      },
      "source": [
        "#Checking the dimensions and shape of the created array\n",
        "arr1.ndim"
      ],
      "execution_count": null,
      "outputs": [
        {
          "output_type": "execute_result",
          "data": {
            "text/plain": [
              "1"
            ]
          },
          "metadata": {
            "tags": []
          },
          "execution_count": 17
        }
      ]
    },
    {
      "cell_type": "code",
      "metadata": {
        "id": "0A08GQKmKJh1",
        "colab": {
          "base_uri": "https://localhost:8080/",
          "height": 34
        },
        "outputId": "b8549fef-7101-4707-af83-f71bc2125fcd"
      },
      "source": [
        "#shape is not relevant for 1D array. It will only give number of elements\n",
        "arr1.shape"
      ],
      "execution_count": null,
      "outputs": [
        {
          "output_type": "execute_result",
          "data": {
            "text/plain": [
              "(5,)"
            ]
          },
          "metadata": {
            "tags": []
          },
          "execution_count": 21
        }
      ]
    },
    {
      "cell_type": "code",
      "metadata": {
        "id": "mS3_kNfqKNft",
        "colab": {
          "base_uri": "https://localhost:8080/",
          "height": 34
        },
        "outputId": "5d8ac2d1-73be-423f-dd52-8087253e684a"
      },
      "source": [
        "arr2.ndim"
      ],
      "execution_count": null,
      "outputs": [
        {
          "output_type": "execute_result",
          "data": {
            "text/plain": [
              "2"
            ]
          },
          "metadata": {
            "tags": []
          },
          "execution_count": 19
        }
      ]
    },
    {
      "cell_type": "code",
      "metadata": {
        "id": "vJVNnoSxKSg3",
        "colab": {
          "base_uri": "https://localhost:8080/",
          "height": 34
        },
        "outputId": "d09f7857-3495-4967-c7cd-9e5b83429c2d"
      },
      "source": [
        "arr2.shape"
      ],
      "execution_count": null,
      "outputs": [
        {
          "output_type": "execute_result",
          "data": {
            "text/plain": [
              "(2, 4)"
            ]
          },
          "metadata": {
            "tags": []
          },
          "execution_count": 20
        }
      ]
    },
    {
      "cell_type": "code",
      "metadata": {
        "id": "fQ3aSaqhKWPE",
        "colab": {
          "base_uri": "https://localhost:8080/",
          "height": 34
        },
        "outputId": "07aa4f9d-b9f8-4be4-d779-8d65afea7a0f"
      },
      "source": [
        "#checking the datatype of the arrays\n",
        "arr1.dtype"
      ],
      "execution_count": null,
      "outputs": [
        {
          "output_type": "execute_result",
          "data": {
            "text/plain": [
              "dtype('float64')"
            ]
          },
          "metadata": {
            "tags": []
          },
          "execution_count": 23
        }
      ]
    },
    {
      "cell_type": "code",
      "metadata": {
        "id": "hO3tBs5LKjgZ",
        "colab": {
          "base_uri": "https://localhost:8080/",
          "height": 34
        },
        "outputId": "daf03c38-30c5-468f-8845-b89a1bc26c1a"
      },
      "source": [
        "arr2.dtype"
      ],
      "execution_count": null,
      "outputs": [
        {
          "output_type": "execute_result",
          "data": {
            "text/plain": [
              "dtype('int64')"
            ]
          },
          "metadata": {
            "tags": []
          },
          "execution_count": 24
        }
      ]
    },
    {
      "cell_type": "code",
      "metadata": {
        "id": "hMYghljIKoz9",
        "colab": {
          "base_uri": "https://localhost:8080/",
          "height": 34
        },
        "outputId": "fa431911-8e19-491a-9977-be85862c7fa1"
      },
      "source": [
        "#Other methods of creating arrays\n",
        "\n",
        "#Zeros initialized 1D array with number of ele as input\n",
        "np.zeros(10)"
      ],
      "execution_count": null,
      "outputs": [
        {
          "output_type": "execute_result",
          "data": {
            "text/plain": [
              "array([0., 0., 0., 0., 0., 0., 0., 0., 0., 0.])"
            ]
          },
          "metadata": {
            "tags": []
          },
          "execution_count": 27
        }
      ]
    },
    {
      "cell_type": "code",
      "metadata": {
        "id": "545c0I9JK34B",
        "colab": {
          "base_uri": "https://localhost:8080/",
          "height": 67
        },
        "outputId": "d124d84d-4434-46c1-db12-c98e7670c951"
      },
      "source": [
        "#Zeros initialized multidimensional array with rows and col as input\n",
        "np.zeros((3,6))"
      ],
      "execution_count": null,
      "outputs": [
        {
          "output_type": "execute_result",
          "data": {
            "text/plain": [
              "array([[0., 0., 0., 0., 0., 0.],\n",
              "       [0., 0., 0., 0., 0., 0.],\n",
              "       [0., 0., 0., 0., 0., 0.]])"
            ]
          },
          "metadata": {
            "tags": []
          },
          "execution_count": 28
        }
      ]
    },
    {
      "cell_type": "code",
      "metadata": {
        "id": "e66qsl8CLDmK",
        "colab": {
          "base_uri": "https://localhost:8080/",
          "height": 134
        },
        "outputId": "4c5f2197-0aa1-4f9b-eea4-ab95c2444721"
      },
      "source": [
        "#creating a 3D array with empty function which may return array of zeros or garbage values\n",
        "\n",
        "#creating 2 arrays of dimensions 3 rows and 2 cols\n",
        "np.empty((2,3,2))"
      ],
      "execution_count": null,
      "outputs": [
        {
          "output_type": "execute_result",
          "data": {
            "text/plain": [
              "array([[[3.59272838e-316, 2.47032823e-322],\n",
              "        [0.00000000e+000, 0.00000000e+000],\n",
              "        [6.95017281e-310, 1.33664410e+160]],\n",
              "\n",
              "       [[5.24774488e-090, 9.05970507e-043],\n",
              "        [3.63372616e+174, 2.36012804e+180],\n",
              "        [3.99910963e+252, 2.66090406e-312]]])"
            ]
          },
          "metadata": {
            "tags": []
          },
          "execution_count": 29
        }
      ]
    },
    {
      "cell_type": "code",
      "metadata": {
        "id": "jJv-jKTNLg0o",
        "colab": {
          "base_uri": "https://localhost:8080/",
          "height": 34
        },
        "outputId": "7f5e25da-12d9-480f-e5d3-3e2fa7197f11"
      },
      "source": [
        "#Using arange\n",
        "#arange is an array-valued version of the built-in Python range function\n",
        "#It will generate a sequence of elements from 0 to num-1 in a 1D array form\n",
        "np.arange(15)"
      ],
      "execution_count": null,
      "outputs": [
        {
          "output_type": "execute_result",
          "data": {
            "text/plain": [
              "array([ 0,  1,  2,  3,  4,  5,  6,  7,  8,  9, 10, 11, 12, 13, 14])"
            ]
          },
          "metadata": {
            "tags": []
          },
          "execution_count": 31
        }
      ]
    },
    {
      "cell_type": "code",
      "metadata": {
        "id": "VPN5ClHCLrBI",
        "colab": {
          "base_uri": "https://localhost:8080/",
          "height": 34
        },
        "outputId": "182b7ed5-1b08-49f8-d8f3-916ee4e674be"
      },
      "source": [
        "#Using ones function\n",
        "np.ones(5)"
      ],
      "execution_count": null,
      "outputs": [
        {
          "output_type": "execute_result",
          "data": {
            "text/plain": [
              "array([1., 1., 1., 1., 1.])"
            ]
          },
          "metadata": {
            "tags": []
          },
          "execution_count": 3
        }
      ]
    },
    {
      "cell_type": "code",
      "metadata": {
        "id": "D98ajun1cPBV",
        "colab": {
          "base_uri": "https://localhost:8080/",
          "height": 50
        },
        "outputId": "e5fd9132-2340-4f4f-b0e8-7aa3c8ebc9dc"
      },
      "source": [
        "#creating 2D array with ones function\n",
        "np.ones((2,4))"
      ],
      "execution_count": null,
      "outputs": [
        {
          "output_type": "execute_result",
          "data": {
            "text/plain": [
              "array([[1., 1., 1., 1.],\n",
              "       [1., 1., 1., 1.]])"
            ]
          },
          "metadata": {
            "tags": []
          },
          "execution_count": 5
        }
      ]
    },
    {
      "cell_type": "code",
      "metadata": {
        "id": "h6XlwcAPcjIh"
      },
      "source": [
        "#Specifying Data Types for ndarray\n",
        "\n",
        "arr1 = np.array([1,2,3], dtype=np.float64)\n",
        "arr2 = np.array([1,2,3], dtype=np.int32)"
      ],
      "execution_count": null,
      "outputs": []
    },
    {
      "cell_type": "code",
      "metadata": {
        "id": "jTiyXqXZdWJE",
        "colab": {
          "base_uri": "https://localhost:8080/",
          "height": 34
        },
        "outputId": "a40ee9ef-a87a-4160-cbc6-60ce3ab6ba09"
      },
      "source": [
        "arr1.dtype"
      ],
      "execution_count": null,
      "outputs": [
        {
          "output_type": "execute_result",
          "data": {
            "text/plain": [
              "dtype('float64')"
            ]
          },
          "metadata": {
            "tags": []
          },
          "execution_count": 7
        }
      ]
    },
    {
      "cell_type": "code",
      "metadata": {
        "id": "g5cQJ1WFdX2_",
        "colab": {
          "base_uri": "https://localhost:8080/",
          "height": 34
        },
        "outputId": "69685bae-6c4a-40d9-b115-7569f1727518"
      },
      "source": [
        "arr2.dtype"
      ],
      "execution_count": null,
      "outputs": [
        {
          "output_type": "execute_result",
          "data": {
            "text/plain": [
              "dtype('int32')"
            ]
          },
          "metadata": {
            "tags": []
          },
          "execution_count": 8
        }
      ]
    },
    {
      "cell_type": "markdown",
      "metadata": {
        "id": "6V3PqTacdp4-"
      },
      "source": [
        "Numpy Data Types - \n",
        "int8, uint8, int16, uint16, int32, uint32, int64, uint64, float16, float32, float64, float128, complex64, complex128, complex256, bool, object, string_, unicode_"
      ]
    },
    {
      "cell_type": "code",
      "metadata": {
        "id": "OpMGhdZCdank",
        "colab": {
          "base_uri": "https://localhost:8080/",
          "height": 34
        },
        "outputId": "8c76bb48-d259-413f-c147-246da15f42e2"
      },
      "source": [
        "#Converting the data type of array\n",
        "#Typecasting\n",
        "\n",
        "arr = np.array([1,2,3,4,5])\n",
        "arr.dtype"
      ],
      "execution_count": null,
      "outputs": [
        {
          "output_type": "execute_result",
          "data": {
            "text/plain": [
              "dtype('int64')"
            ]
          },
          "metadata": {
            "tags": []
          },
          "execution_count": 9
        }
      ]
    },
    {
      "cell_type": "code",
      "metadata": {
        "id": "OJwU9wMpq_b8",
        "colab": {
          "base_uri": "https://localhost:8080/",
          "height": 34
        },
        "outputId": "c088e6b4-e66a-4174-a328-d0661a615006"
      },
      "source": [
        "float_arr = arr.astype(np.float64)\n",
        "float_arr.dtype"
      ],
      "execution_count": null,
      "outputs": [
        {
          "output_type": "execute_result",
          "data": {
            "text/plain": [
              "dtype('float64')"
            ]
          },
          "metadata": {
            "tags": []
          },
          "execution_count": 10
        }
      ]
    },
    {
      "cell_type": "code",
      "metadata": {
        "id": "aFRQbgoErMzz",
        "colab": {
          "base_uri": "https://localhost:8080/",
          "height": 34
        },
        "outputId": "d675cc82-e74f-4547-a7f4-00898f9c5dae"
      },
      "source": [
        "float_arr"
      ],
      "execution_count": null,
      "outputs": [
        {
          "output_type": "execute_result",
          "data": {
            "text/plain": [
              "array([1., 2., 3., 4., 5.])"
            ]
          },
          "metadata": {
            "tags": []
          },
          "execution_count": 11
        }
      ]
    },
    {
      "cell_type": "code",
      "metadata": {
        "id": "mdjjXLA4rQUc",
        "colab": {
          "base_uri": "https://localhost:8080/",
          "height": 34
        },
        "outputId": "d11f76e6-088f-48a4-d35c-a966e1c162ba"
      },
      "source": [
        "#converting float type to integers will truncate the decimal part\n",
        "arr = np.array([3.7, -1.2, -2.6, 0.5, 12.9, 10.1])\n",
        "arr.astype(np.int32)"
      ],
      "execution_count": null,
      "outputs": [
        {
          "output_type": "execute_result",
          "data": {
            "text/plain": [
              "array([ 3, -1, -2,  0, 12, 10], dtype=int32)"
            ]
          },
          "metadata": {
            "tags": []
          },
          "execution_count": 12
        }
      ]
    },
    {
      "cell_type": "code",
      "metadata": {
        "id": "Vm4FpjQhr6dP",
        "colab": {
          "base_uri": "https://localhost:8080/",
          "height": 34
        },
        "outputId": "9f31154d-113f-4625-c2f4-11da6748b6d2"
      },
      "source": [
        "#converting string types to numeric data\n",
        "num_strings = np.array(['1.25', '-9.6', '42'], dtype=np.string_)\n",
        "num_strings.astype(float)"
      ],
      "execution_count": null,
      "outputs": [
        {
          "output_type": "execute_result",
          "data": {
            "text/plain": [
              "array([ 1.25, -9.6 , 42.  ])"
            ]
          },
          "metadata": {
            "tags": []
          },
          "execution_count": 13
        }
      ]
    },
    {
      "cell_type": "code",
      "metadata": {
        "id": "Sztdh08hsplG",
        "colab": {
          "base_uri": "https://localhost:8080/",
          "height": 34
        },
        "outputId": "a374b844-4087-438c-dcab-03f23a4b92ec"
      },
      "source": [
        "#using the dtype of other array as input to 'astype' function\n",
        "\n",
        "int_array = np.arange(10)\n",
        "int_array"
      ],
      "execution_count": null,
      "outputs": [
        {
          "output_type": "execute_result",
          "data": {
            "text/plain": [
              "array([0, 1, 2, 3, 4, 5, 6, 7, 8, 9])"
            ]
          },
          "metadata": {
            "tags": []
          },
          "execution_count": 17
        }
      ]
    },
    {
      "cell_type": "code",
      "metadata": {
        "id": "HmqsYdtpt5Um",
        "colab": {
          "base_uri": "https://localhost:8080/",
          "height": 34
        },
        "outputId": "9c67babc-d0ba-4533-c8c6-dd21c1ea5cfa"
      },
      "source": [
        "calibers = np.array([.22, .270, .357, .380, .44, .50], dtype=np.float64)\n",
        "int_array.astype(calibers.dtype)"
      ],
      "execution_count": null,
      "outputs": [
        {
          "output_type": "execute_result",
          "data": {
            "text/plain": [
              "array([0., 1., 2., 3., 4., 5., 6., 7., 8., 9.])"
            ]
          },
          "metadata": {
            "tags": []
          },
          "execution_count": 18
        }
      ]
    },
    {
      "cell_type": "markdown",
      "metadata": {
        "id": "XUW2rL1BuHz5"
      },
      "source": [
        "ARITHMETIC WITH NUMPY ARRAYS"
      ]
    },
    {
      "cell_type": "code",
      "metadata": {
        "id": "IKkXIytBuBl_"
      },
      "source": [
        "#Any arithmetic operations between equal-size arrays applies the - - -  \n",
        "#operation element-wise:"
      ],
      "execution_count": null,
      "outputs": []
    },
    {
      "cell_type": "code",
      "metadata": {
        "id": "FKUuAciUvkV7",
        "colab": {
          "base_uri": "https://localhost:8080/",
          "height": 50
        },
        "outputId": "4dbb082f-c1b3-492a-9a3e-d3f3d5710136"
      },
      "source": [
        "arr = np.array([[1., 2., 3.], [4., 5., 6.]])\n",
        "arr"
      ],
      "execution_count": null,
      "outputs": [
        {
          "output_type": "execute_result",
          "data": {
            "text/plain": [
              "array([[1., 2., 3.],\n",
              "       [4., 5., 6.]])"
            ]
          },
          "metadata": {
            "tags": []
          },
          "execution_count": 3
        }
      ]
    },
    {
      "cell_type": "code",
      "metadata": {
        "id": "FkhOZQjduMfN",
        "colab": {
          "base_uri": "https://localhost:8080/",
          "height": 50
        },
        "outputId": "2b44653c-60b9-4adc-d2da-566f1c6319fe"
      },
      "source": [
        "#multiply\n",
        "arr * arr"
      ],
      "execution_count": null,
      "outputs": [
        {
          "output_type": "execute_result",
          "data": {
            "text/plain": [
              "array([[ 1.,  4.,  9.],\n",
              "       [16., 25., 36.]])"
            ]
          },
          "metadata": {
            "tags": []
          },
          "execution_count": 4
        }
      ]
    },
    {
      "cell_type": "code",
      "metadata": {
        "id": "visOEipmufUp",
        "colab": {
          "base_uri": "https://localhost:8080/",
          "height": 50
        },
        "outputId": "0b3e8bd0-9614-417c-f527-6eb6c0565bec"
      },
      "source": [
        "#substract\n",
        "arr - arr"
      ],
      "execution_count": null,
      "outputs": [
        {
          "output_type": "execute_result",
          "data": {
            "text/plain": [
              "array([[0., 0., 0.],\n",
              "       [0., 0., 0.]])"
            ]
          },
          "metadata": {
            "tags": []
          },
          "execution_count": 5
        }
      ]
    },
    {
      "cell_type": "code",
      "metadata": {
        "id": "Gzxhi__fuiE-",
        "colab": {
          "base_uri": "https://localhost:8080/",
          "height": 50
        },
        "outputId": "c5a865a4-9d65-4c48-bf0a-18d0f4acde1c"
      },
      "source": [
        "#add\n",
        "arr + arr"
      ],
      "execution_count": null,
      "outputs": [
        {
          "output_type": "execute_result",
          "data": {
            "text/plain": [
              "array([[ 2.,  4.,  6.],\n",
              "       [ 8., 10., 12.]])"
            ]
          },
          "metadata": {
            "tags": []
          },
          "execution_count": 6
        }
      ]
    },
    {
      "cell_type": "code",
      "metadata": {
        "id": "NSwY4B4KulHX",
        "colab": {
          "base_uri": "https://localhost:8080/",
          "height": 50
        },
        "outputId": "3259a03d-5bcd-497f-8835-e5d2ae4e03d6"
      },
      "source": [
        "#divide\n",
        "1 / arr"
      ],
      "execution_count": null,
      "outputs": [
        {
          "output_type": "execute_result",
          "data": {
            "text/plain": [
              "array([[1.        , 0.5       , 0.33333333],\n",
              "       [0.25      , 0.2       , 0.16666667]])"
            ]
          },
          "metadata": {
            "tags": []
          },
          "execution_count": 7
        }
      ]
    },
    {
      "cell_type": "code",
      "metadata": {
        "id": "BR_ERf3IutPw",
        "colab": {
          "base_uri": "https://localhost:8080/",
          "height": 50
        },
        "outputId": "4cfd2b55-a84d-411c-9521-d2dc3864ad87"
      },
      "source": [
        "#raise to power (square root)\n",
        "arr ** 0.5"
      ],
      "execution_count": null,
      "outputs": [
        {
          "output_type": "execute_result",
          "data": {
            "text/plain": [
              "array([[1.        , 1.41421356, 1.73205081],\n",
              "       [2.        , 2.23606798, 2.44948974]])"
            ]
          },
          "metadata": {
            "tags": []
          },
          "execution_count": 8
        }
      ]
    },
    {
      "cell_type": "code",
      "metadata": {
        "id": "c1qapZ1su4OY"
      },
      "source": [
        "arr2 = np.array([[0., 4., 1.], [7., 2., 12.]])"
      ],
      "execution_count": null,
      "outputs": []
    },
    {
      "cell_type": "code",
      "metadata": {
        "id": "8H2Rg0fEu-V4",
        "colab": {
          "base_uri": "https://localhost:8080/",
          "height": 50
        },
        "outputId": "3c9a45dc-9369-4c64-b522-456a0e082e1c"
      },
      "source": [
        "#boolean operation\n",
        "arr2 > arr"
      ],
      "execution_count": null,
      "outputs": [
        {
          "output_type": "execute_result",
          "data": {
            "text/plain": [
              "array([[False,  True, False],\n",
              "       [ True, False,  True]])"
            ]
          },
          "metadata": {
            "tags": []
          },
          "execution_count": 10
        }
      ]
    },
    {
      "cell_type": "code",
      "metadata": {
        "id": "UZLiROSgvCG7",
        "colab": {
          "base_uri": "https://localhost:8080/",
          "height": 50
        },
        "outputId": "04ce81a2-b46e-45a7-efec-ac0ef7488c90"
      },
      "source": [
        "#equal to comparison\n",
        "arr == arr2"
      ],
      "execution_count": null,
      "outputs": [
        {
          "output_type": "execute_result",
          "data": {
            "text/plain": [
              "array([[False, False, False],\n",
              "       [False, False, False]])"
            ]
          },
          "metadata": {
            "tags": []
          },
          "execution_count": 11
        }
      ]
    },
    {
      "cell_type": "code",
      "metadata": {
        "id": "tbapEgZ5vGyV",
        "colab": {
          "base_uri": "https://localhost:8080/",
          "height": 50
        },
        "outputId": "42b30e03-db50-4f84-8718-af0c5011ebf1"
      },
      "source": [
        "arr"
      ],
      "execution_count": null,
      "outputs": [
        {
          "output_type": "execute_result",
          "data": {
            "text/plain": [
              "array([[1., 2., 3.],\n",
              "       [4., 5., 6.]])"
            ]
          },
          "metadata": {
            "tags": []
          },
          "execution_count": 12
        }
      ]
    },
    {
      "cell_type": "code",
      "metadata": {
        "id": "-qHFtHKuviDN",
        "colab": {
          "base_uri": "https://localhost:8080/",
          "height": 50
        },
        "outputId": "70733341-1960-43b9-96ca-1ea5ed3ad0cd"
      },
      "source": [
        "arr2"
      ],
      "execution_count": null,
      "outputs": [
        {
          "output_type": "execute_result",
          "data": {
            "text/plain": [
              "array([[ 0.,  4.,  1.],\n",
              "       [ 7.,  2., 12.]])"
            ]
          },
          "metadata": {
            "tags": []
          },
          "execution_count": 13
        }
      ]
    },
    {
      "cell_type": "markdown",
      "metadata": {
        "id": "zQZTyAQovoBp"
      },
      "source": [
        "BASIC INDEXING AND SLICING"
      ]
    },
    {
      "cell_type": "code",
      "metadata": {
        "id": "_gRj-x0zvjB3",
        "colab": {
          "base_uri": "https://localhost:8080/",
          "height": 34
        },
        "outputId": "eb6769f8-9d67-4a04-9750-1e744d2efa5e"
      },
      "source": [
        "arr = np.arange(10)\n",
        "arr"
      ],
      "execution_count": null,
      "outputs": [
        {
          "output_type": "execute_result",
          "data": {
            "text/plain": [
              "array([0, 1, 2, 3, 4, 5, 6, 7, 8, 9])"
            ]
          },
          "metadata": {
            "tags": []
          },
          "execution_count": 15
        }
      ]
    },
    {
      "cell_type": "code",
      "metadata": {
        "id": "MFXXP9e0wEJe",
        "colab": {
          "base_uri": "https://localhost:8080/",
          "height": 34
        },
        "outputId": "9239be73-d567-4ced-a8c1-63dab680d887"
      },
      "source": [
        "#Finding the element of array using indexing which starts from zero to size-1\n",
        "arr[0]"
      ],
      "execution_count": null,
      "outputs": [
        {
          "output_type": "execute_result",
          "data": {
            "text/plain": [
              "0"
            ]
          },
          "metadata": {
            "tags": []
          },
          "execution_count": 16
        }
      ]
    },
    {
      "cell_type": "code",
      "metadata": {
        "id": "tX8fs7_FxIbj",
        "colab": {
          "base_uri": "https://localhost:8080/",
          "height": 34
        },
        "outputId": "47b6f357-9cad-471e-e759-c86e085bf5d4"
      },
      "source": [
        "arr[4]"
      ],
      "execution_count": null,
      "outputs": [
        {
          "output_type": "execute_result",
          "data": {
            "text/plain": [
              "4"
            ]
          },
          "metadata": {
            "tags": []
          },
          "execution_count": 17
        }
      ]
    },
    {
      "cell_type": "code",
      "metadata": {
        "id": "BgnD0hV_xJ9B",
        "colab": {
          "base_uri": "https://localhost:8080/",
          "height": 34
        },
        "outputId": "c18d7e03-bfce-4dd0-f633-dfd165a271b9"
      },
      "source": [
        "#Finding subset of elements in a range (start to end_index-1)\n",
        "arr[5:8]"
      ],
      "execution_count": null,
      "outputs": [
        {
          "output_type": "execute_result",
          "data": {
            "text/plain": [
              "array([5, 6, 7])"
            ]
          },
          "metadata": {
            "tags": []
          },
          "execution_count": 18
        }
      ]
    },
    {
      "cell_type": "code",
      "metadata": {
        "id": "xH6J3yCDxUIE",
        "colab": {
          "base_uri": "https://localhost:8080/",
          "height": 34
        },
        "outputId": "41d59bc9-4728-4e3d-9c6d-c22129c162f6"
      },
      "source": [
        "#change the subset of elements\n",
        "arr[5:8]=12\n",
        "arr"
      ],
      "execution_count": null,
      "outputs": [
        {
          "output_type": "execute_result",
          "data": {
            "text/plain": [
              "array([ 0,  1,  2,  3,  4, 12, 12, 12,  8,  9])"
            ]
          },
          "metadata": {
            "tags": []
          },
          "execution_count": 20
        }
      ]
    },
    {
      "cell_type": "code",
      "metadata": {
        "id": "fR2AODdxxcQx",
        "colab": {
          "base_uri": "https://localhost:8080/",
          "height": 34
        },
        "outputId": "3289f6a0-1d85-4528-c344-1e614818bcba"
      },
      "source": [
        "#slicing\n",
        "arr_slice = arr[5:8]\n",
        "arr_slice"
      ],
      "execution_count": null,
      "outputs": [
        {
          "output_type": "execute_result",
          "data": {
            "text/plain": [
              "array([12, 12, 12])"
            ]
          },
          "metadata": {
            "tags": []
          },
          "execution_count": 21
        }
      ]
    },
    {
      "cell_type": "code",
      "metadata": {
        "id": "mtQPAusSyZ5B"
      },
      "source": [
        "#copy is not formed in slicing, but ref to original array is there\n",
        "arr_slice[1] = 120"
      ],
      "execution_count": null,
      "outputs": []
    },
    {
      "cell_type": "code",
      "metadata": {
        "id": "MXaNsrWVyuT8",
        "colab": {
          "base_uri": "https://localhost:8080/",
          "height": 34
        },
        "outputId": "06c76204-8607-417b-bc04-cb62e6b557b6"
      },
      "source": [
        "arr_slice"
      ],
      "execution_count": null,
      "outputs": [
        {
          "output_type": "execute_result",
          "data": {
            "text/plain": [
              "array([ 12, 120,  12])"
            ]
          },
          "metadata": {
            "tags": []
          },
          "execution_count": 23
        }
      ]
    },
    {
      "cell_type": "code",
      "metadata": {
        "id": "gtBETZ8iyv8i",
        "colab": {
          "base_uri": "https://localhost:8080/",
          "height": 34
        },
        "outputId": "0fa5b44b-cc2e-4dbf-8fa3-29b38132f99a"
      },
      "source": [
        "arr"
      ],
      "execution_count": null,
      "outputs": [
        {
          "output_type": "execute_result",
          "data": {
            "text/plain": [
              "array([  0,   1,   2,   3,   4,  12, 120,  12,   8,   9])"
            ]
          },
          "metadata": {
            "tags": []
          },
          "execution_count": 24
        }
      ]
    },
    {
      "cell_type": "code",
      "metadata": {
        "id": "oajD6Nndyw0G"
      },
      "source": [
        "#if all the elements of array need to be assigned to common value\n",
        "#then we dont need to specify index\n",
        "arr_slice[:]=1200"
      ],
      "execution_count": null,
      "outputs": []
    },
    {
      "cell_type": "code",
      "metadata": {
        "id": "1qKJCfMxzSNS",
        "colab": {
          "base_uri": "https://localhost:8080/",
          "height": 34
        },
        "outputId": "bb8c991b-a255-4af7-ebee-62ca6e6e878a"
      },
      "source": [
        "arr_slice"
      ],
      "execution_count": null,
      "outputs": [
        {
          "output_type": "execute_result",
          "data": {
            "text/plain": [
              "array([1200, 1200, 1200])"
            ]
          },
          "metadata": {
            "tags": []
          },
          "execution_count": 26
        }
      ]
    },
    {
      "cell_type": "code",
      "metadata": {
        "id": "zQInZPBFzTcv",
        "colab": {
          "base_uri": "https://localhost:8080/",
          "height": 34
        },
        "outputId": "c1b1cd1d-6461-4d9b-c25c-d697778818fd"
      },
      "source": [
        "arr"
      ],
      "execution_count": null,
      "outputs": [
        {
          "output_type": "execute_result",
          "data": {
            "text/plain": [
              "array([   0,    1,    2,    3,    4, 1200, 1200, 1200,    8,    9])"
            ]
          },
          "metadata": {
            "tags": []
          },
          "execution_count": 27
        }
      ]
    },
    {
      "cell_type": "code",
      "metadata": {
        "id": "oXEw6sywzUIV",
        "colab": {
          "base_uri": "https://localhost:8080/",
          "height": 67
        },
        "outputId": "98a35f7e-91da-43c0-bcfa-bed13c11fc0c"
      },
      "source": [
        "#Element indexing in 2D array\n",
        "arr2d = np.array([[1, 2, 3], [4, 5, 6], [7, 8, 9]])\n",
        "arr2d"
      ],
      "execution_count": null,
      "outputs": [
        {
          "output_type": "execute_result",
          "data": {
            "text/plain": [
              "array([[1, 2, 3],\n",
              "       [4, 5, 6],\n",
              "       [7, 8, 9]])"
            ]
          },
          "metadata": {
            "tags": []
          },
          "execution_count": 28
        }
      ]
    },
    {
      "cell_type": "code",
      "metadata": {
        "id": "X_H0QHBlzmAF",
        "colab": {
          "base_uri": "https://localhost:8080/",
          "height": 34
        },
        "outputId": "aa032ce5-d68e-4bd6-80e1-00ad5660a612"
      },
      "source": [
        "#all elements of 3rd row\n",
        "arr2d[2]"
      ],
      "execution_count": null,
      "outputs": [
        {
          "output_type": "execute_result",
          "data": {
            "text/plain": [
              "array([7, 8, 9])"
            ]
          },
          "metadata": {
            "tags": []
          },
          "execution_count": 29
        }
      ]
    },
    {
      "cell_type": "code",
      "metadata": {
        "id": "HRwQIMRbzn-t",
        "colab": {
          "base_uri": "https://localhost:8080/",
          "height": 34
        },
        "outputId": "ee9006e2-b3d0-42fe-b970-4e49d793d820"
      },
      "source": [
        "#Accessing first element\n",
        "arr2d[0][0]"
      ],
      "execution_count": null,
      "outputs": [
        {
          "output_type": "execute_result",
          "data": {
            "text/plain": [
              "1"
            ]
          },
          "metadata": {
            "tags": []
          },
          "execution_count": 30
        }
      ]
    },
    {
      "cell_type": "code",
      "metadata": {
        "id": "K2feRf__z1MJ",
        "colab": {
          "base_uri": "https://localhost:8080/",
          "height": 101
        },
        "outputId": "6b640488-2c04-48b3-eb79-f81ff73a8c2f"
      },
      "source": [
        "#indexing in 3D array (2x2x3 array)\n",
        "arr3d = np.array([[[1, 2, 3], [4, 5, 6]], [[7, 8, 9], [10, 11, 12]]])\n",
        "arr3d"
      ],
      "execution_count": null,
      "outputs": [
        {
          "output_type": "execute_result",
          "data": {
            "text/plain": [
              "array([[[ 1,  2,  3],\n",
              "        [ 4,  5,  6]],\n",
              "\n",
              "       [[ 7,  8,  9],\n",
              "        [10, 11, 12]]])"
            ]
          },
          "metadata": {
            "tags": []
          },
          "execution_count": 32
        }
      ]
    },
    {
      "cell_type": "code",
      "metadata": {
        "id": "MgNiWZaw0x4-",
        "colab": {
          "base_uri": "https://localhost:8080/",
          "height": 50
        },
        "outputId": "9e389406-8ce8-4654-8b10-9b0139e58ace"
      },
      "source": [
        "#accessing the first array\n",
        "arr3d[0]"
      ],
      "execution_count": null,
      "outputs": [
        {
          "output_type": "execute_result",
          "data": {
            "text/plain": [
              "array([[1, 2, 3],\n",
              "       [4, 5, 6]])"
            ]
          },
          "metadata": {
            "tags": []
          },
          "execution_count": 33
        }
      ]
    },
    {
      "cell_type": "code",
      "metadata": {
        "id": "Wfr0p8x81AUA",
        "colab": {
          "base_uri": "https://localhost:8080/",
          "height": 50
        },
        "outputId": "dde8dec9-7d5d-498b-92dc-0ed9475bafe6"
      },
      "source": [
        "#creating a copy of old values\n",
        "old_values = arr3d[0].copy()\n",
        "old_values"
      ],
      "execution_count": null,
      "outputs": [
        {
          "output_type": "execute_result",
          "data": {
            "text/plain": [
              "array([[1, 2, 3],\n",
              "       [4, 5, 6]])"
            ]
          },
          "metadata": {
            "tags": []
          },
          "execution_count": 34
        }
      ]
    },
    {
      "cell_type": "code",
      "metadata": {
        "id": "Ajk4oDhG1Wb2",
        "colab": {
          "base_uri": "https://localhost:8080/",
          "height": 101
        },
        "outputId": "1e9e2146-8575-4f74-9d62-a0ee676bee28"
      },
      "source": [
        "arr3d[0]=42\n",
        "arr3d"
      ],
      "execution_count": null,
      "outputs": [
        {
          "output_type": "execute_result",
          "data": {
            "text/plain": [
              "array([[[42, 42, 42],\n",
              "        [42, 42, 42]],\n",
              "\n",
              "       [[ 7,  8,  9],\n",
              "        [10, 11, 12]]])"
            ]
          },
          "metadata": {
            "tags": []
          },
          "execution_count": 35
        }
      ]
    },
    {
      "cell_type": "code",
      "metadata": {
        "id": "86eHOa1Q1bRy",
        "colab": {
          "base_uri": "https://localhost:8080/",
          "height": 101
        },
        "outputId": "e593b19e-0d7d-4b9c-aa86-b7ce9044b639"
      },
      "source": [
        "arr3d[0]=old_values\n",
        "arr3d"
      ],
      "execution_count": null,
      "outputs": [
        {
          "output_type": "execute_result",
          "data": {
            "text/plain": [
              "array([[[ 1,  2,  3],\n",
              "        [ 4,  5,  6]],\n",
              "\n",
              "       [[ 7,  8,  9],\n",
              "        [10, 11, 12]]])"
            ]
          },
          "metadata": {
            "tags": []
          },
          "execution_count": 36
        }
      ]
    },
    {
      "cell_type": "code",
      "metadata": {
        "id": "eyyNcpH71hwl",
        "colab": {
          "base_uri": "https://localhost:8080/",
          "height": 34
        },
        "outputId": "09ed9c4f-0320-4dda-8beb-6ec813e15df1"
      },
      "source": [
        "#Indexing with slices\n",
        "arr"
      ],
      "execution_count": null,
      "outputs": [
        {
          "output_type": "execute_result",
          "data": {
            "text/plain": [
              "array([   0,    1,    2,    3,    4, 1200, 1200, 1200,    8,    9])"
            ]
          },
          "metadata": {
            "tags": []
          },
          "execution_count": 37
        }
      ]
    },
    {
      "cell_type": "code",
      "metadata": {
        "id": "yl7i3YIT11Fy",
        "colab": {
          "base_uri": "https://localhost:8080/",
          "height": 34
        },
        "outputId": "72c5d3a3-1605-44d1-fd3b-0d94cdcb0c00"
      },
      "source": [
        "arr[1:6]"
      ],
      "execution_count": null,
      "outputs": [
        {
          "output_type": "execute_result",
          "data": {
            "text/plain": [
              "array([   1,    2,    3,    4, 1200])"
            ]
          },
          "metadata": {
            "tags": []
          },
          "execution_count": 38
        }
      ]
    },
    {
      "cell_type": "code",
      "metadata": {
        "id": "pmkDClgb13xw",
        "colab": {
          "base_uri": "https://localhost:8080/",
          "height": 67
        },
        "outputId": "9e8bb835-8814-41f9-fa5e-65ca9eb7a4ee"
      },
      "source": [
        "arr2d"
      ],
      "execution_count": null,
      "outputs": [
        {
          "output_type": "execute_result",
          "data": {
            "text/plain": [
              "array([[1, 2, 3],\n",
              "       [4, 5, 6],\n",
              "       [7, 8, 9]])"
            ]
          },
          "metadata": {
            "tags": []
          },
          "execution_count": 39
        }
      ]
    },
    {
      "cell_type": "code",
      "metadata": {
        "id": "5F8T8DgQ2pIk",
        "colab": {
          "base_uri": "https://localhost:8080/",
          "height": 50
        },
        "outputId": "b58ea35a-af71-4efb-cfd1-cbb4f3703328"
      },
      "source": [
        "#selecting the first two rows of a 2D matrix\n",
        "arr2d[:2]"
      ],
      "execution_count": null,
      "outputs": [
        {
          "output_type": "execute_result",
          "data": {
            "text/plain": [
              "array([[1, 2, 3],\n",
              "       [4, 5, 6]])"
            ]
          },
          "metadata": {
            "tags": []
          },
          "execution_count": 41
        }
      ]
    },
    {
      "cell_type": "code",
      "metadata": {
        "id": "65z59puu4tYC",
        "colab": {
          "base_uri": "https://localhost:8080/",
          "height": 50
        },
        "outputId": "23bf319a-1903-4f9c-ca6e-72070d51d09b"
      },
      "source": [
        "#multiple slicing\n",
        "#selecting first two rows and last two col\n",
        "arr2d[:2, 1:]"
      ],
      "execution_count": null,
      "outputs": [
        {
          "output_type": "execute_result",
          "data": {
            "text/plain": [
              "array([[2, 3],\n",
              "       [5, 6]])"
            ]
          },
          "metadata": {
            "tags": []
          },
          "execution_count": 42
        }
      ]
    },
    {
      "cell_type": "code",
      "metadata": {
        "id": "3ODk97cH5vQY",
        "colab": {
          "base_uri": "https://localhost:8080/",
          "height": 34
        },
        "outputId": "6abe0811-369e-4154-833f-aff0c6c8e16d"
      },
      "source": [
        "arr2d[:1, 0:]"
      ],
      "execution_count": null,
      "outputs": [
        {
          "output_type": "execute_result",
          "data": {
            "text/plain": [
              "array([[1, 2, 3]])"
            ]
          },
          "metadata": {
            "tags": []
          },
          "execution_count": 43
        }
      ]
    },
    {
      "cell_type": "code",
      "metadata": {
        "id": "BzD3Ncyv5zgZ",
        "colab": {
          "base_uri": "https://localhost:8080/",
          "height": 34
        },
        "outputId": "3b2a2044-01c4-41bd-fc53-24ac744a8ab8"
      },
      "source": [
        "arr2d[:1, 2:]"
      ],
      "execution_count": null,
      "outputs": [
        {
          "output_type": "execute_result",
          "data": {
            "text/plain": [
              "array([[3]])"
            ]
          },
          "metadata": {
            "tags": []
          },
          "execution_count": 44
        }
      ]
    },
    {
      "cell_type": "code",
      "metadata": {
        "id": "U5Fk4A2756Bb",
        "colab": {
          "base_uri": "https://localhost:8080/",
          "height": 34
        },
        "outputId": "b14e06ea-5a41-4626-ade4-a1907a8d1a36"
      },
      "source": [
        "#selecting with slicing and index number\n",
        "#access 2nd row elements for 1st and 2nd column\n",
        "arr2d[1, :2]"
      ],
      "execution_count": null,
      "outputs": [
        {
          "output_type": "execute_result",
          "data": {
            "text/plain": [
              "array([4, 5])"
            ]
          },
          "metadata": {
            "tags": []
          },
          "execution_count": 45
        }
      ]
    },
    {
      "cell_type": "code",
      "metadata": {
        "id": "ABnGZ15l90kx",
        "colab": {
          "base_uri": "https://localhost:8080/",
          "height": 34
        },
        "outputId": "c42fd380-979b-4c92-869a-e2c78e4fb767"
      },
      "source": [
        "#selecting 3rd column but only first 2 rows\n",
        "arr2d[:2, 2]"
      ],
      "execution_count": null,
      "outputs": [
        {
          "output_type": "execute_result",
          "data": {
            "text/plain": [
              "array([3, 6])"
            ]
          },
          "metadata": {
            "tags": []
          },
          "execution_count": 46
        }
      ]
    },
    {
      "cell_type": "code",
      "metadata": {
        "id": "gPmvCZVOAAvt",
        "colab": {
          "base_uri": "https://localhost:8080/",
          "height": 67
        },
        "outputId": "9151deaa-f8e3-4761-ff6f-e9db2f22de8e"
      },
      "source": [
        "#slicing only 1st column\n",
        "arr2d[:, :1]"
      ],
      "execution_count": null,
      "outputs": [
        {
          "output_type": "execute_result",
          "data": {
            "text/plain": [
              "array([[1],\n",
              "       [4],\n",
              "       [7]])"
            ]
          },
          "metadata": {
            "tags": []
          },
          "execution_count": 47
        }
      ]
    },
    {
      "cell_type": "markdown",
      "metadata": {
        "id": "h8JkaCkeAWAu"
      },
      "source": [
        "![image.png](data:image/png;base64,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)"
      ]
    },
    {
      "cell_type": "markdown",
      "metadata": {
        "id": "0RUHS54EAlmY"
      },
      "source": [
        "BOOLEAN INDEXING"
      ]
    },
    {
      "cell_type": "code",
      "metadata": {
        "id": "calqHZFvAL1U"
      },
      "source": [
        "names = np.array(['Bob', 'Joe', 'Will', 'Bob', 'Will', 'Joe', 'Joe'])\n",
        "data = np.random.randn(7, 4)"
      ],
      "execution_count": null,
      "outputs": []
    },
    {
      "cell_type": "code",
      "metadata": {
        "id": "PAkomR9KDPBb",
        "colab": {
          "base_uri": "https://localhost:8080/",
          "height": 34
        },
        "outputId": "67fdc4a1-621d-4d71-ad8b-703397ca7941"
      },
      "source": [
        "names"
      ],
      "execution_count": null,
      "outputs": [
        {
          "output_type": "execute_result",
          "data": {
            "text/plain": [
              "array(['Bob', 'Joe', 'Will', 'Bob', 'Will', 'Joe', 'Joe'], dtype='<U4')"
            ]
          },
          "metadata": {
            "tags": []
          },
          "execution_count": 49
        }
      ]
    },
    {
      "cell_type": "code",
      "metadata": {
        "id": "9rHuDqJbDQ9p",
        "colab": {
          "base_uri": "https://localhost:8080/",
          "height": 134
        },
        "outputId": "9181931a-8798-46f8-f79d-8cf92bd1dee0"
      },
      "source": [
        "data"
      ],
      "execution_count": null,
      "outputs": [
        {
          "output_type": "execute_result",
          "data": {
            "text/plain": [
              "array([[-0.6314972 ,  1.67309574,  0.76052235,  0.8300151 ],\n",
              "       [-0.37162519, -0.44220253, -1.20637653,  3.18312124],\n",
              "       [ 0.59988126,  0.50935028, -1.35879686,  0.85539665],\n",
              "       [ 2.59541573,  0.92726542, -0.58421133, -0.85833205],\n",
              "       [-1.41381302,  1.43557179, -1.13366169, -0.8814099 ],\n",
              "       [-0.41575433,  0.35563813,  0.4461977 , -1.59013741],\n",
              "       [ 0.52261891, -1.90988501, -2.44556415, -0.56830841]])"
            ]
          },
          "metadata": {
            "tags": []
          },
          "execution_count": 50
        }
      ]
    },
    {
      "cell_type": "code",
      "metadata": {
        "id": "hlo4sxowDSAI",
        "colab": {
          "base_uri": "https://localhost:8080/",
          "height": 34
        },
        "outputId": "34aea2ef-a897-4ac7-bebc-5ee7adc9b7c4"
      },
      "source": [
        "#generating boolean array\n",
        "names == 'Bob'"
      ],
      "execution_count": null,
      "outputs": [
        {
          "output_type": "execute_result",
          "data": {
            "text/plain": [
              "array([ True, False, False,  True, False, False, False])"
            ]
          },
          "metadata": {
            "tags": []
          },
          "execution_count": 51
        }
      ]
    },
    {
      "cell_type": "code",
      "metadata": {
        "id": "FKy_NwkvDhLQ",
        "colab": {
          "base_uri": "https://localhost:8080/",
          "height": 50
        },
        "outputId": "34dc5301-61cb-4540-e223-14514dee3825"
      },
      "source": [
        "#pass this boolean array as index to other array\n",
        "data[names == 'Bob']\n",
        "\n",
        "#rows with only TRUE value were listed here and not the FALSE ones\n",
        "#for such kind of processing, boolean array must be of same length"
      ],
      "execution_count": null,
      "outputs": [
        {
          "output_type": "execute_result",
          "data": {
            "text/plain": [
              "array([[-0.6314972 ,  1.67309574,  0.76052235,  0.8300151 ],\n",
              "       [ 2.59541573,  0.92726542, -0.58421133, -0.85833205]])"
            ]
          },
          "metadata": {
            "tags": []
          },
          "execution_count": 52
        }
      ]
    },
    {
      "cell_type": "code",
      "metadata": {
        "id": "NU0Q5sI-EyHS",
        "colab": {
          "base_uri": "https://localhost:8080/",
          "height": 50
        },
        "outputId": "fc28022e-6701-4635-a48b-d6e2a11b99e9"
      },
      "source": [
        "#Along with boolean array condition, slicing index can also be given\n",
        "data[names=='Bob', 2:]"
      ],
      "execution_count": null,
      "outputs": [
        {
          "output_type": "execute_result",
          "data": {
            "text/plain": [
              "array([[ 0.76052235,  0.8300151 ],\n",
              "       [-0.58421133, -0.85833205]])"
            ]
          },
          "metadata": {
            "tags": []
          },
          "execution_count": 53
        }
      ]
    },
    {
      "cell_type": "code",
      "metadata": {
        "id": "WIgRtL8pF74y",
        "colab": {
          "base_uri": "https://localhost:8080/",
          "height": 34
        },
        "outputId": "081d9b89-2037-4755-f629-0c4155b91b29"
      },
      "source": [
        "#Accessing only 4th column\n",
        "data[names=='Bob', 3]"
      ],
      "execution_count": null,
      "outputs": [
        {
          "output_type": "execute_result",
          "data": {
            "text/plain": [
              "array([ 0.8300151 , -0.85833205])"
            ]
          },
          "metadata": {
            "tags": []
          },
          "execution_count": 54
        }
      ]
    },
    {
      "cell_type": "code",
      "metadata": {
        "id": "nZ9jBHRqGFTK",
        "colab": {
          "base_uri": "https://localhost:8080/",
          "height": 101
        },
        "outputId": "fb90365e-ed12-4d0a-e403-0b6aa084df5a"
      },
      "source": [
        "#using not of operator will fetch opposite results\n",
        "data[names!='Bob']"
      ],
      "execution_count": null,
      "outputs": [
        {
          "output_type": "execute_result",
          "data": {
            "text/plain": [
              "array([[-0.37162519, -0.44220253, -1.20637653,  3.18312124],\n",
              "       [ 0.59988126,  0.50935028, -1.35879686,  0.85539665],\n",
              "       [-1.41381302,  1.43557179, -1.13366169, -0.8814099 ],\n",
              "       [-0.41575433,  0.35563813,  0.4461977 , -1.59013741],\n",
              "       [ 0.52261891, -1.90988501, -2.44556415, -0.56830841]])"
            ]
          },
          "metadata": {
            "tags": []
          },
          "execution_count": 55
        }
      ]
    },
    {
      "cell_type": "code",
      "metadata": {
        "id": "HBCbdlouGV-K",
        "colab": {
          "base_uri": "https://localhost:8080/",
          "height": 101
        },
        "outputId": "2f2bc46b-5cd2-4272-bf5e-4bf1a9200a2d"
      },
      "source": [
        "#Another way of getting similar results using negation symbol\n",
        "data[~(names=='Bob')]"
      ],
      "execution_count": null,
      "outputs": [
        {
          "output_type": "execute_result",
          "data": {
            "text/plain": [
              "array([[-0.37162519, -0.44220253, -1.20637653,  3.18312124],\n",
              "       [ 0.59988126,  0.50935028, -1.35879686,  0.85539665],\n",
              "       [-1.41381302,  1.43557179, -1.13366169, -0.8814099 ],\n",
              "       [-0.41575433,  0.35563813,  0.4461977 , -1.59013741],\n",
              "       [ 0.52261891, -1.90988501, -2.44556415, -0.56830841]])"
            ]
          },
          "metadata": {
            "tags": []
          },
          "execution_count": 56
        }
      ]
    },
    {
      "cell_type": "code",
      "metadata": {
        "id": "RWxBnOfhGjM1",
        "colab": {
          "base_uri": "https://localhost:8080/",
          "height": 101
        },
        "outputId": "84dd2047-d2fb-472c-bfbe-f76d9adfac2e"
      },
      "source": [
        "#we can also store it as a condition\n",
        "condn = names=='Bob'\n",
        "data[~condn]"
      ],
      "execution_count": null,
      "outputs": [
        {
          "output_type": "execute_result",
          "data": {
            "text/plain": [
              "array([[-0.37162519, -0.44220253, -1.20637653,  3.18312124],\n",
              "       [ 0.59988126,  0.50935028, -1.35879686,  0.85539665],\n",
              "       [-1.41381302,  1.43557179, -1.13366169, -0.8814099 ],\n",
              "       [-0.41575433,  0.35563813,  0.4461977 , -1.59013741],\n",
              "       [ 0.52261891, -1.90988501, -2.44556415, -0.56830841]])"
            ]
          },
          "metadata": {
            "tags": []
          },
          "execution_count": 57
        }
      ]
    },
    {
      "cell_type": "code",
      "metadata": {
        "id": "ZieCoFYfGvap",
        "colab": {
          "base_uri": "https://localhost:8080/",
          "height": 34
        },
        "outputId": "57f0b7b6-2882-4c01-fccc-f603924f6af4"
      },
      "source": [
        "#combining two conditions\n",
        "cond1 = names=='Bob'\n",
        "cond2 = names=='Will'\n",
        "names"
      ],
      "execution_count": null,
      "outputs": [
        {
          "output_type": "execute_result",
          "data": {
            "text/plain": [
              "array(['Bob', 'Joe', 'Will', 'Bob', 'Will', 'Joe', 'Joe'], dtype='<U4')"
            ]
          },
          "metadata": {
            "tags": []
          },
          "execution_count": 60
        }
      ]
    },
    {
      "cell_type": "code",
      "metadata": {
        "id": "hpvDFyzzHPNp",
        "colab": {
          "base_uri": "https://localhost:8080/",
          "height": 84
        },
        "outputId": "bcbdc8e6-b327-4f79-8273-b464a61f503c"
      },
      "source": [
        "#using OR operator for boolean result. We may also use AND (&)\n",
        "data[cond1|cond2]"
      ],
      "execution_count": null,
      "outputs": [
        {
          "output_type": "execute_result",
          "data": {
            "text/plain": [
              "array([[-0.6314972 ,  1.67309574,  0.76052235,  0.8300151 ],\n",
              "       [ 0.59988126,  0.50935028, -1.35879686,  0.85539665],\n",
              "       [ 2.59541573,  0.92726542, -0.58421133, -0.85833205],\n",
              "       [-1.41381302,  1.43557179, -1.13366169, -0.8814099 ]])"
            ]
          },
          "metadata": {
            "tags": []
          },
          "execution_count": 59
        }
      ]
    },
    {
      "cell_type": "code",
      "metadata": {
        "id": "tvqRenKRHWxW",
        "colab": {
          "base_uri": "https://localhost:8080/",
          "height": 134
        },
        "outputId": "0002c660-c03a-4a43-9b2f-c2559a39c143"
      },
      "source": [
        "#filling the data based on condition\n",
        "#Eliminating the negative numbers from data and replacing with zero\n",
        "data[data<0]=0\n",
        "data"
      ],
      "execution_count": null,
      "outputs": [
        {
          "output_type": "execute_result",
          "data": {
            "text/plain": [
              "array([[0.        , 1.67309574, 0.76052235, 0.8300151 ],\n",
              "       [0.        , 0.        , 0.        , 3.18312124],\n",
              "       [0.59988126, 0.50935028, 0.        , 0.85539665],\n",
              "       [2.59541573, 0.92726542, 0.        , 0.        ],\n",
              "       [0.        , 1.43557179, 0.        , 0.        ],\n",
              "       [0.        , 0.35563813, 0.4461977 , 0.        ],\n",
              "       [0.52261891, 0.        , 0.        , 0.        ]])"
            ]
          },
          "metadata": {
            "tags": []
          },
          "execution_count": 62
        }
      ]
    },
    {
      "cell_type": "code",
      "metadata": {
        "id": "Hsi9CjtAJ6RI",
        "colab": {
          "base_uri": "https://localhost:8080/",
          "height": 134
        },
        "outputId": "fb30c916-5110-4972-a0d3-b2405f2320c8"
      },
      "source": [
        "#Setting all the rows having true for name not equal to Joe will be set to 7\n",
        "data[names!='Joe'] = 7\n",
        "data"
      ],
      "execution_count": null,
      "outputs": [
        {
          "output_type": "execute_result",
          "data": {
            "text/plain": [
              "array([[7.        , 7.        , 7.        , 7.        ],\n",
              "       [0.        , 0.        , 0.        , 3.18312124],\n",
              "       [7.        , 7.        , 7.        , 7.        ],\n",
              "       [7.        , 7.        , 7.        , 7.        ],\n",
              "       [7.        , 7.        , 7.        , 7.        ],\n",
              "       [0.        , 0.35563813, 0.4461977 , 0.        ],\n",
              "       [0.52261891, 0.        , 0.        , 0.        ]])"
            ]
          },
          "metadata": {
            "tags": []
          },
          "execution_count": 63
        }
      ]
    },
    {
      "cell_type": "markdown",
      "metadata": {
        "id": "ebVp5LGyKUxL"
      },
      "source": [
        "FANCY INDEXING"
      ]
    },
    {
      "cell_type": "code",
      "metadata": {
        "id": "9BDWBSbnKR1I"
      },
      "source": [
        "#using unusual and different indexing to access elements"
      ],
      "execution_count": null,
      "outputs": []
    },
    {
      "cell_type": "code",
      "metadata": {
        "id": "zB0vHtRUN8qo",
        "colab": {
          "base_uri": "https://localhost:8080/",
          "height": 151
        },
        "outputId": "a28305ed-d495-4099-c1a8-b7240ce02587"
      },
      "source": [
        "arr = np.empty((8,4))\n",
        "arr"
      ],
      "execution_count": null,
      "outputs": [
        {
          "output_type": "execute_result",
          "data": {
            "text/plain": [
              "array([[1.5736489e-316, 0.0000000e+000, 0.0000000e+000, 0.0000000e+000],\n",
              "       [0.0000000e+000, 0.0000000e+000, 0.0000000e+000, 0.0000000e+000],\n",
              "       [0.0000000e+000, 0.0000000e+000, 0.0000000e+000, 0.0000000e+000],\n",
              "       [0.0000000e+000, 0.0000000e+000, 0.0000000e+000, 0.0000000e+000],\n",
              "       [0.0000000e+000, 0.0000000e+000, 0.0000000e+000, 0.0000000e+000],\n",
              "       [0.0000000e+000, 0.0000000e+000, 0.0000000e+000, 0.0000000e+000],\n",
              "       [0.0000000e+000, 0.0000000e+000, 0.0000000e+000, 0.0000000e+000],\n",
              "       [0.0000000e+000, 0.0000000e+000, 0.0000000e+000, 0.0000000e+000]])"
            ]
          },
          "metadata": {
            "tags": []
          },
          "execution_count": 65
        }
      ]
    },
    {
      "cell_type": "code",
      "metadata": {
        "id": "QIXn6cBZOAYI"
      },
      "source": [
        "for i in range(8):\n",
        "  arr[i]=i"
      ],
      "execution_count": null,
      "outputs": []
    },
    {
      "cell_type": "code",
      "metadata": {
        "id": "7fS5WTq_OOD_",
        "colab": {
          "base_uri": "https://localhost:8080/",
          "height": 151
        },
        "outputId": "ff854907-33d6-4a18-909c-8430652904ba"
      },
      "source": [
        "arr"
      ],
      "execution_count": null,
      "outputs": [
        {
          "output_type": "execute_result",
          "data": {
            "text/plain": [
              "array([[0., 0., 0., 0.],\n",
              "       [1., 1., 1., 1.],\n",
              "       [2., 2., 2., 2.],\n",
              "       [3., 3., 3., 3.],\n",
              "       [4., 4., 4., 4.],\n",
              "       [5., 5., 5., 5.],\n",
              "       [6., 6., 6., 6.],\n",
              "       [7., 7., 7., 7.]])"
            ]
          },
          "metadata": {
            "tags": []
          },
          "execution_count": 67
        }
      ]
    },
    {
      "cell_type": "code",
      "metadata": {
        "id": "-EMI-FtlOPEw",
        "colab": {
          "base_uri": "https://localhost:8080/",
          "height": 84
        },
        "outputId": "ce5a2888-f4e0-46d2-ce61-952209f405fa"
      },
      "source": [
        "#list of integers passed to specify the order of the array elements\n",
        "arr[[4,3,0,6]]"
      ],
      "execution_count": null,
      "outputs": [
        {
          "output_type": "execute_result",
          "data": {
            "text/plain": [
              "array([[4., 4., 4., 4.],\n",
              "       [3., 3., 3., 3.],\n",
              "       [0., 0., 0., 0.],\n",
              "       [6., 6., 6., 6.]])"
            ]
          },
          "metadata": {
            "tags": []
          },
          "execution_count": 68
        }
      ]
    },
    {
      "cell_type": "code",
      "metadata": {
        "id": "GknehfmqOdaj",
        "colab": {
          "base_uri": "https://localhost:8080/",
          "height": 67
        },
        "outputId": "d5ab0c22-43b3-4498-d08f-fb00c4675e64"
      },
      "source": [
        "#accessing using negative index (-1, -2, -3, -4, -5, -6, -7, -8) corresponds to \n",
        "#(7, 6, 5, 4, 3, 2, 1, 0)\n",
        "arr[[-3,-5,-7]]"
      ],
      "execution_count": null,
      "outputs": [
        {
          "output_type": "execute_result",
          "data": {
            "text/plain": [
              "array([[5., 5., 5., 5.],\n",
              "       [3., 3., 3., 3.],\n",
              "       [1., 1., 1., 1.]])"
            ]
          },
          "metadata": {
            "tags": []
          },
          "execution_count": 69
        }
      ]
    },
    {
      "cell_type": "code",
      "metadata": {
        "id": "sE4cQg_sOjgb",
        "colab": {
          "base_uri": "https://localhost:8080/",
          "height": 151
        },
        "outputId": "ebe1c035-9258-4115-f508-a31be7ed5e34"
      },
      "source": [
        "#fancy indexing in 2D arrays\n",
        "arr = np.arange(32).reshape((8, 4))\n",
        "arr"
      ],
      "execution_count": null,
      "outputs": [
        {
          "output_type": "execute_result",
          "data": {
            "text/plain": [
              "array([[ 0,  1,  2,  3],\n",
              "       [ 4,  5,  6,  7],\n",
              "       [ 8,  9, 10, 11],\n",
              "       [12, 13, 14, 15],\n",
              "       [16, 17, 18, 19],\n",
              "       [20, 21, 22, 23],\n",
              "       [24, 25, 26, 27],\n",
              "       [28, 29, 30, 31]])"
            ]
          },
          "metadata": {
            "tags": []
          },
          "execution_count": 70
        }
      ]
    },
    {
      "cell_type": "code",
      "metadata": {
        "id": "oZbgEfEXPAB4",
        "colab": {
          "base_uri": "https://localhost:8080/",
          "height": 34
        },
        "outputId": "4a36bd21-39fd-485f-97d9-15615f46cd48"
      },
      "source": [
        "#select the elements (1,0), (5,3), (7,1), (2,2)\n",
        "arr[[1,5,7,2],[0,3,1,2]]"
      ],
      "execution_count": null,
      "outputs": [
        {
          "output_type": "execute_result",
          "data": {
            "text/plain": [
              "array([ 4, 23, 29, 10])"
            ]
          },
          "metadata": {
            "tags": []
          },
          "execution_count": 71
        }
      ]
    },
    {
      "cell_type": "markdown",
      "metadata": {
        "id": "vXMY9qMvPXXv"
      },
      "source": [
        "TRANSPOSING ARRAYS AND SWAPPING AXES"
      ]
    },
    {
      "cell_type": "code",
      "metadata": {
        "id": "QAWoHU7DPPua",
        "colab": {
          "base_uri": "https://localhost:8080/",
          "height": 67
        },
        "outputId": "ac13a984-112d-478b-c49d-6efbfdad1bb3"
      },
      "source": [
        "arr = np.arange(15).reshape((3, 5))\n",
        "arr"
      ],
      "execution_count": null,
      "outputs": [
        {
          "output_type": "execute_result",
          "data": {
            "text/plain": [
              "array([[ 0,  1,  2,  3,  4],\n",
              "       [ 5,  6,  7,  8,  9],\n",
              "       [10, 11, 12, 13, 14]])"
            ]
          },
          "metadata": {
            "tags": []
          },
          "execution_count": 72
        }
      ]
    },
    {
      "cell_type": "code",
      "metadata": {
        "id": "gEualeDrPzNU",
        "colab": {
          "base_uri": "https://localhost:8080/",
          "height": 101
        },
        "outputId": "3bdecbd2-9016-4408-dcc8-d64e5c91af38"
      },
      "source": [
        "#Finding the Transpose of the matrix\n",
        "arr.T"
      ],
      "execution_count": null,
      "outputs": [
        {
          "output_type": "execute_result",
          "data": {
            "text/plain": [
              "array([[ 0,  5, 10],\n",
              "       [ 1,  6, 11],\n",
              "       [ 2,  7, 12],\n",
              "       [ 3,  8, 13],\n",
              "       [ 4,  9, 14]])"
            ]
          },
          "metadata": {
            "tags": []
          },
          "execution_count": 73
        }
      ]
    },
    {
      "cell_type": "code",
      "metadata": {
        "id": "RXz2NuL_P4-S",
        "colab": {
          "base_uri": "https://localhost:8080/",
          "height": 101
        },
        "outputId": "fe6adf73-47f8-4545-9269-c042b06e203e"
      },
      "source": [
        "#finding the inner dot product of matrix\n",
        "np.dot(arr.T, arr)"
      ],
      "execution_count": null,
      "outputs": [
        {
          "output_type": "execute_result",
          "data": {
            "text/plain": [
              "array([[125, 140, 155, 170, 185],\n",
              "       [140, 158, 176, 194, 212],\n",
              "       [155, 176, 197, 218, 239],\n",
              "       [170, 194, 218, 242, 266],\n",
              "       [185, 212, 239, 266, 293]])"
            ]
          },
          "metadata": {
            "tags": []
          },
          "execution_count": 74
        }
      ]
    },
    {
      "cell_type": "code",
      "metadata": {
        "id": "gyRAUFxtQJZe",
        "colab": {
          "base_uri": "https://localhost:8080/",
          "height": 101
        },
        "outputId": "03fb133a-9af2-4f8c-af6e-3106284b986f"
      },
      "source": [
        "#selective transpose can be done for a subarray in higher order arrays like 3D\n",
        "arr = np.arange(16).reshape((2, 2, 4))\n",
        "arr"
      ],
      "execution_count": null,
      "outputs": [
        {
          "output_type": "execute_result",
          "data": {
            "text/plain": [
              "array([[[ 0,  1,  2,  3],\n",
              "        [ 4,  5,  6,  7]],\n",
              "\n",
              "       [[ 8,  9, 10, 11],\n",
              "        [12, 13, 14, 15]]])"
            ]
          },
          "metadata": {
            "tags": []
          },
          "execution_count": 75
        }
      ]
    },
    {
      "cell_type": "code",
      "metadata": {
        "id": "OZicLZzcQbKS",
        "colab": {
          "base_uri": "https://localhost:8080/",
          "height": 101
        },
        "outputId": "698b006c-68fe-499d-d9d9-c290cb5fd99e"
      },
      "source": [
        "#1.Transpose function is used to pass the parameters\n",
        "#2.In 3D array, axis reordering to be done (1st - 2nd)\n",
        "arr.transpose((1,0,2))"
      ],
      "execution_count": null,
      "outputs": [
        {
          "output_type": "execute_result",
          "data": {
            "text/plain": [
              "array([[[ 0,  1,  2,  3],\n",
              "        [ 8,  9, 10, 11]],\n",
              "\n",
              "       [[ 4,  5,  6,  7],\n",
              "        [12, 13, 14, 15]]])"
            ]
          },
          "metadata": {
            "tags": []
          },
          "execution_count": 76
        }
      ]
    },
    {
      "cell_type": "code",
      "metadata": {
        "id": "RPjE3kbWQfuj",
        "colab": {
          "base_uri": "https://localhost:8080/",
          "height": 168
        },
        "outputId": "d60f5506-20ce-433a-f7cb-cf361c8b6d34"
      },
      "source": [
        "#we can completely swap the axes too without making a copy\n",
        "arr.swapaxes(1,2)"
      ],
      "execution_count": null,
      "outputs": [
        {
          "output_type": "execute_result",
          "data": {
            "text/plain": [
              "array([[[ 0,  4],\n",
              "        [ 1,  5],\n",
              "        [ 2,  6],\n",
              "        [ 3,  7]],\n",
              "\n",
              "       [[ 8, 12],\n",
              "        [ 9, 13],\n",
              "        [10, 14],\n",
              "        [11, 15]]])"
            ]
          },
          "metadata": {
            "tags": []
          },
          "execution_count": 77
        }
      ]
    },
    {
      "cell_type": "markdown",
      "metadata": {
        "id": "fiDJzvlXRSh-"
      },
      "source": [
        "**4.2 Universal Functions: Fast Element-Wise Array Functions**"
      ]
    },
    {
      "cell_type": "markdown",
      "metadata": {
        "id": "o7tsLJulRhk8"
      },
      "source": [
        "A universal function, or ufunc, is a function that performs element-wise operations\n",
        "on data in ndarrays. You can think of them as fast vectorized wrappers for simple\n",
        "functions that take one or more scalar values and produce one or more scalar results. [Unary ufuncs: take one input array][Binary ufuncs: take two input arrays]"
      ]
    },
    {
      "cell_type": "code",
      "metadata": {
        "id": "5iqYgnAgQ7Kf",
        "colab": {
          "base_uri": "https://localhost:8080/",
          "height": 34
        },
        "outputId": "fd3aea7f-c8fe-4edf-f985-f262f1c4be49"
      },
      "source": [
        "#using functions sqrt and exp\n",
        "\n",
        "arr = np.arange(10)\n",
        "arr"
      ],
      "execution_count": null,
      "outputs": [
        {
          "output_type": "execute_result",
          "data": {
            "text/plain": [
              "array([0, 1, 2, 3, 4, 5, 6, 7, 8, 9])"
            ]
          },
          "metadata": {
            "tags": []
          },
          "execution_count": 78
        }
      ]
    },
    {
      "cell_type": "code",
      "metadata": {
        "id": "rD18I-IQRrDa",
        "colab": {
          "base_uri": "https://localhost:8080/",
          "height": 50
        },
        "outputId": "df1fd8ce-2e8b-40c5-e11d-17e11de2da3e"
      },
      "source": [
        "#finding square root of each element of the array\n",
        "np.sqrt(arr)"
      ],
      "execution_count": null,
      "outputs": [
        {
          "output_type": "execute_result",
          "data": {
            "text/plain": [
              "array([0.        , 1.        , 1.41421356, 1.73205081, 2.        ,\n",
              "       2.23606798, 2.44948974, 2.64575131, 2.82842712, 3.        ])"
            ]
          },
          "metadata": {
            "tags": []
          },
          "execution_count": 79
        }
      ]
    },
    {
      "cell_type": "code",
      "metadata": {
        "id": "n6dMJGreRwxA",
        "colab": {
          "base_uri": "https://localhost:8080/",
          "height": 67
        },
        "outputId": "4fd5e120-4b4b-4c57-ad25-4acf2cb6a7b1"
      },
      "source": [
        "#finding e raise to power each element of the array\n",
        "np.exp(arr)"
      ],
      "execution_count": null,
      "outputs": [
        {
          "output_type": "execute_result",
          "data": {
            "text/plain": [
              "array([1.00000000e+00, 2.71828183e+00, 7.38905610e+00, 2.00855369e+01,\n",
              "       5.45981500e+01, 1.48413159e+02, 4.03428793e+02, 1.09663316e+03,\n",
              "       2.98095799e+03, 8.10308393e+03])"
            ]
          },
          "metadata": {
            "tags": []
          },
          "execution_count": 80
        }
      ]
    },
    {
      "cell_type": "code",
      "metadata": {
        "id": "ZgAqMytgR5p5",
        "colab": {
          "base_uri": "https://localhost:8080/",
          "height": 118
        },
        "outputId": "f901e587-5438-4e51-e517-a73391299c9a"
      },
      "source": [
        "#Comparing two arrays element wise and pick the larger of the two\n",
        "arr1 = np.random.randn(8)\n",
        "arr2 = np.random.randn(8)\n",
        "print(arr1)\n",
        "print(arr2)\n",
        "np.maximum(arr1,arr2)"
      ],
      "execution_count": null,
      "outputs": [
        {
          "output_type": "stream",
          "text": [
            "[-1.50457415 -0.57875487 -0.84623367  0.94837373 -1.76077729  0.71647101\n",
            "  0.81015887  0.86535821]\n",
            "[ 1.90435914  0.60529048 -1.11214741 -1.08274909  0.37531375  1.27697865\n",
            " -0.14585746 -0.57411019]\n"
          ],
          "name": "stdout"
        },
        {
          "output_type": "execute_result",
          "data": {
            "text/plain": [
              "array([ 1.90435914,  0.60529048, -0.84623367,  0.94837373,  0.37531375,\n",
              "        1.27697865,  0.81015887,  0.86535821])"
            ]
          },
          "metadata": {
            "tags": []
          },
          "execution_count": 82
        }
      ]
    },
    {
      "cell_type": "code",
      "metadata": {
        "id": "bJfQHMEtSdo-",
        "colab": {
          "base_uri": "https://localhost:8080/",
          "height": 50
        },
        "outputId": "9b03575b-5e3b-46f5-ed3b-4207f149e92d"
      },
      "source": [
        "#multiple array returns like float division to return integer part and decimal part separately\n",
        "arr = np.random.randn(7) * 5\n",
        "arr"
      ],
      "execution_count": null,
      "outputs": [
        {
          "output_type": "execute_result",
          "data": {
            "text/plain": [
              "array([-11.05225543,  11.37663841,  -7.58370407,  -6.55557856,\n",
              "        -4.83476717,   2.7081415 ,   1.6837521 ])"
            ]
          },
          "metadata": {
            "tags": []
          },
          "execution_count": 83
        }
      ]
    },
    {
      "cell_type": "code",
      "metadata": {
        "id": "ZctJ-PQaS4J2"
      },
      "source": [
        "remainder, whole_part = np.modf(arr)"
      ],
      "execution_count": null,
      "outputs": []
    },
    {
      "cell_type": "code",
      "metadata": {
        "id": "9A-mOlGLS9-R",
        "colab": {
          "base_uri": "https://localhost:8080/",
          "height": 50
        },
        "outputId": "d22eadce-c315-4cc7-f3d3-79e9a519256f"
      },
      "source": [
        "remainder"
      ],
      "execution_count": null,
      "outputs": [
        {
          "output_type": "execute_result",
          "data": {
            "text/plain": [
              "array([-0.05225543,  0.37663841, -0.58370407, -0.55557856, -0.83476717,\n",
              "        0.7081415 ,  0.6837521 ])"
            ]
          },
          "metadata": {
            "tags": []
          },
          "execution_count": 85
        }
      ]
    },
    {
      "cell_type": "code",
      "metadata": {
        "id": "CTqYR_p6S_Q0",
        "colab": {
          "base_uri": "https://localhost:8080/",
          "height": 34
        },
        "outputId": "b5e2d2fc-7a44-4b2b-f363-5d1ca895d167"
      },
      "source": [
        "whole_part"
      ],
      "execution_count": null,
      "outputs": [
        {
          "output_type": "execute_result",
          "data": {
            "text/plain": [
              "array([-11.,  11.,  -7.,  -6.,  -4.,   2.,   1.])"
            ]
          },
          "metadata": {
            "tags": []
          },
          "execution_count": 86
        }
      ]
    },
    {
      "cell_type": "code",
      "metadata": {
        "id": "d5H8jIpCTAWx",
        "colab": {
          "base_uri": "https://localhost:8080/",
          "height": 104
        },
        "outputId": "116df07c-ee93-4920-ca5b-2c59fa8e45b2"
      },
      "source": [
        "#putting the output in-place in the array\n",
        "#need to specify and output location as second argument\n",
        "np.sqrt(arr, arr)"
      ],
      "execution_count": null,
      "outputs": [
        {
          "output_type": "stream",
          "text": [
            "/usr/local/lib/python3.6/dist-packages/ipykernel_launcher.py:3: RuntimeWarning: invalid value encountered in sqrt\n",
            "  This is separate from the ipykernel package so we can avoid doing imports until\n"
          ],
          "name": "stderr"
        },
        {
          "output_type": "execute_result",
          "data": {
            "text/plain": [
              "array([       nan, 3.37292728,        nan,        nan,        nan,\n",
              "       1.64564319, 1.29759474])"
            ]
          },
          "metadata": {
            "tags": []
          },
          "execution_count": 88
        }
      ]
    },
    {
      "cell_type": "code",
      "metadata": {
        "id": "ivDsTRIlTTx8",
        "colab": {
          "base_uri": "https://localhost:8080/",
          "height": 50
        },
        "outputId": "a99d6f90-9494-4ac5-8a08-47b93c7d8dba"
      },
      "source": [
        "arr"
      ],
      "execution_count": null,
      "outputs": [
        {
          "output_type": "execute_result",
          "data": {
            "text/plain": [
              "array([       nan, 3.37292728,        nan,        nan,        nan,\n",
              "       1.64564319, 1.29759474])"
            ]
          },
          "metadata": {
            "tags": []
          },
          "execution_count": 89
        }
      ]
    },
    {
      "cell_type": "code",
      "metadata": {
        "id": "2BzmsZpCTYru",
        "colab": {
          "base_uri": "https://localhost:8080/",
          "height": 50
        },
        "outputId": "8a6e09eb-c1be-4892-ce5a-b349eb14840d"
      },
      "source": [
        "#Other basic mathematical functions\n",
        "arr = np.random.randn(7) * 5\n",
        "arr"
      ],
      "execution_count": null,
      "outputs": [
        {
          "output_type": "execute_result",
          "data": {
            "text/plain": [
              "array([ 4.28420004e+00,  5.35438290e-03, -4.74269531e+00,  6.39589578e+00,\n",
              "       -1.24745890e+00, -1.77054207e+00,  5.65343831e+00])"
            ]
          },
          "metadata": {
            "tags": []
          },
          "execution_count": 90
        }
      ]
    },
    {
      "cell_type": "code",
      "metadata": {
        "id": "gyhvpxo1Tplp",
        "colab": {
          "base_uri": "https://localhost:8080/",
          "height": 50
        },
        "outputId": "c4e05b85-d643-42f7-e857-d19be59fcc13"
      },
      "source": [
        "#Absolute Value\n",
        "np.abs(arr)"
      ],
      "execution_count": null,
      "outputs": [
        {
          "output_type": "execute_result",
          "data": {
            "text/plain": [
              "array([4.28420004e+00, 5.35438290e-03, 4.74269531e+00, 6.39589578e+00,\n",
              "       1.24745890e+00, 1.77054207e+00, 5.65343831e+00])"
            ]
          },
          "metadata": {
            "tags": []
          },
          "execution_count": 91
        }
      ]
    },
    {
      "cell_type": "code",
      "metadata": {
        "id": "5ZOgXNbsTwx8",
        "colab": {
          "base_uri": "https://localhost:8080/",
          "height": 50
        },
        "outputId": "e5ed3e24-5d3e-42da-826d-1d85ab2e1d7a"
      },
      "source": [
        "#computing square (can be ** 2)\n",
        "np.square(arr)"
      ],
      "execution_count": null,
      "outputs": [
        {
          "output_type": "execute_result",
          "data": {
            "text/plain": [
              "array([1.83543700e+01, 2.86694163e-05, 2.24931588e+01, 4.09074829e+01,\n",
              "       1.55615370e+00, 3.13481921e+00, 3.19613647e+01])"
            ]
          },
          "metadata": {
            "tags": []
          },
          "execution_count": 93
        }
      ]
    },
    {
      "cell_type": "code",
      "metadata": {
        "id": "Eh8rg_kAT5Ub",
        "colab": {
          "base_uri": "https://localhost:8080/",
          "height": 104
        },
        "outputId": "a69ef0bf-240e-4212-d689-4fccfbd7f71a"
      },
      "source": [
        "#taking log, log10, log2\n",
        "np.log(arr)"
      ],
      "execution_count": null,
      "outputs": [
        {
          "output_type": "stream",
          "text": [
            "/usr/local/lib/python3.6/dist-packages/ipykernel_launcher.py:2: RuntimeWarning: invalid value encountered in log\n",
            "  \n"
          ],
          "name": "stderr"
        },
        {
          "output_type": "execute_result",
          "data": {
            "text/plain": [
              "array([ 1.45493385, -5.22983982,         nan,  1.8556565 ,         nan,\n",
              "               nan,  1.73226391])"
            ]
          },
          "metadata": {
            "tags": []
          },
          "execution_count": 94
        }
      ]
    },
    {
      "cell_type": "code",
      "metadata": {
        "id": "ku6AbX50UDgx",
        "colab": {
          "base_uri": "https://localhost:8080/",
          "height": 104
        },
        "outputId": "688fcdd4-f2af-4b82-d4bb-f1827d7fb867"
      },
      "source": [
        "np.log10(arr)"
      ],
      "execution_count": null,
      "outputs": [
        {
          "output_type": "stream",
          "text": [
            "/usr/local/lib/python3.6/dist-packages/ipykernel_launcher.py:1: RuntimeWarning: invalid value encountered in log10\n",
            "  \"\"\"Entry point for launching an IPython kernel.\n"
          ],
          "name": "stderr"
        },
        {
          "output_type": "execute_result",
          "data": {
            "text/plain": [
              "array([ 0.63186974, -2.27129057,         nan,  0.80590138,         nan,\n",
              "               nan,  0.75231266])"
            ]
          },
          "metadata": {
            "tags": []
          },
          "execution_count": 95
        }
      ]
    },
    {
      "cell_type": "code",
      "metadata": {
        "id": "5CeDopfjUFuC",
        "colab": {
          "base_uri": "https://localhost:8080/",
          "height": 104
        },
        "outputId": "b7992e7b-5c73-482f-e134-0fa54d8acbcc"
      },
      "source": [
        "np.log2(arr)"
      ],
      "execution_count": null,
      "outputs": [
        {
          "output_type": "stream",
          "text": [
            "/usr/local/lib/python3.6/dist-packages/ipykernel_launcher.py:1: RuntimeWarning: invalid value encountered in log2\n",
            "  \"\"\"Entry point for launching an IPython kernel.\n"
          ],
          "name": "stderr"
        },
        {
          "output_type": "execute_result",
          "data": {
            "text/plain": [
              "array([ 2.09902584, -7.54506397,         nan,  2.67714643,         nan,\n",
              "               nan,  2.49912855])"
            ]
          },
          "metadata": {
            "tags": []
          },
          "execution_count": 96
        }
      ]
    },
    {
      "cell_type": "code",
      "metadata": {
        "id": "eiAfZWHMUMNB",
        "colab": {
          "base_uri": "https://localhost:8080/",
          "height": 34
        },
        "outputId": "2602ceb6-42db-4336-d917-2cc0fb0578c3"
      },
      "source": [
        "#finding sign of the element\n",
        "np.sign(arr)"
      ],
      "execution_count": null,
      "outputs": [
        {
          "output_type": "execute_result",
          "data": {
            "text/plain": [
              "array([ 1.,  1., -1.,  1., -1., -1.,  1.])"
            ]
          },
          "metadata": {
            "tags": []
          },
          "execution_count": 98
        }
      ]
    },
    {
      "cell_type": "code",
      "metadata": {
        "id": "6vQj89C8UYTa",
        "colab": {
          "base_uri": "https://localhost:8080/",
          "height": 50
        },
        "outputId": "dabe2713-5279-495d-9660-60ce80867a62"
      },
      "source": [
        "arr"
      ],
      "execution_count": null,
      "outputs": [
        {
          "output_type": "execute_result",
          "data": {
            "text/plain": [
              "array([ 4.28420004e+00,  5.35438290e-03, -4.74269531e+00,  6.39589578e+00,\n",
              "       -1.24745890e+00, -1.77054207e+00,  5.65343831e+00])"
            ]
          },
          "metadata": {
            "tags": []
          },
          "execution_count": 99
        }
      ]
    },
    {
      "cell_type": "code",
      "metadata": {
        "id": "ItPhtZWWUari",
        "colab": {
          "base_uri": "https://localhost:8080/",
          "height": 34
        },
        "outputId": "3d62e902-138b-4a25-f116-33e7388beb13"
      },
      "source": [
        "#finding ceil and floor of elements\n",
        "np.ceil(arr)"
      ],
      "execution_count": null,
      "outputs": [
        {
          "output_type": "execute_result",
          "data": {
            "text/plain": [
              "array([ 5.,  1., -4.,  7., -1., -1.,  6.])"
            ]
          },
          "metadata": {
            "tags": []
          },
          "execution_count": 100
        }
      ]
    },
    {
      "cell_type": "code",
      "metadata": {
        "id": "_6bguQ1AUg1P",
        "colab": {
          "base_uri": "https://localhost:8080/",
          "height": 34
        },
        "outputId": "0f29c148-f398-4c98-93dc-bad351c9e217"
      },
      "source": [
        "np.floor(arr)"
      ],
      "execution_count": null,
      "outputs": [
        {
          "output_type": "execute_result",
          "data": {
            "text/plain": [
              "array([ 4.,  0., -5.,  6., -2., -2.,  5.])"
            ]
          },
          "metadata": {
            "tags": []
          },
          "execution_count": 101
        }
      ]
    },
    {
      "cell_type": "code",
      "metadata": {
        "id": "cB7cxnkdUiTj",
        "colab": {
          "base_uri": "https://localhost:8080/",
          "height": 34
        },
        "outputId": "f5859f9a-9065-4b83-e05f-3af5b95dd346"
      },
      "source": [
        "#round function to the nearest int\n",
        "np.rint(arr)"
      ],
      "execution_count": null,
      "outputs": [
        {
          "output_type": "execute_result",
          "data": {
            "text/plain": [
              "array([ 4.,  0., -5.,  6., -1., -2.,  6.])"
            ]
          },
          "metadata": {
            "tags": []
          },
          "execution_count": 102
        }
      ]
    },
    {
      "cell_type": "code",
      "metadata": {
        "id": "QY12gyr3UrGg",
        "colab": {
          "base_uri": "https://localhost:8080/",
          "height": 34
        },
        "outputId": "59922ff6-d402-4732-f837-e8743781afc3"
      },
      "source": [
        "#checking for nan values\n",
        "np.isnan(arr)"
      ],
      "execution_count": null,
      "outputs": [
        {
          "output_type": "execute_result",
          "data": {
            "text/plain": [
              "array([False, False, False, False, False, False, False])"
            ]
          },
          "metadata": {
            "tags": []
          },
          "execution_count": 103
        }
      ]
    },
    {
      "cell_type": "code",
      "metadata": {
        "id": "QWcrNeZwU0hA",
        "colab": {
          "base_uri": "https://localhost:8080/",
          "height": 34
        },
        "outputId": "295886d0-cad8-4a3b-bcde-fdc36cd1f8ad"
      },
      "source": [
        "#checking finite and infinite values\n",
        "np.isfinite(arr)"
      ],
      "execution_count": null,
      "outputs": [
        {
          "output_type": "execute_result",
          "data": {
            "text/plain": [
              "array([ True,  True,  True,  True,  True,  True,  True])"
            ]
          },
          "metadata": {
            "tags": []
          },
          "execution_count": 104
        }
      ]
    },
    {
      "cell_type": "code",
      "metadata": {
        "id": "5wV9VMx0U7Jn",
        "colab": {
          "base_uri": "https://localhost:8080/",
          "height": 34
        },
        "outputId": "6037c6be-f85d-410e-e4ec-f41b8b71bccd"
      },
      "source": [
        "np.isinf(arr)"
      ],
      "execution_count": null,
      "outputs": [
        {
          "output_type": "execute_result",
          "data": {
            "text/plain": [
              "array([False, False, False, False, False, False, False])"
            ]
          },
          "metadata": {
            "tags": []
          },
          "execution_count": 105
        }
      ]
    },
    {
      "cell_type": "code",
      "metadata": {
        "id": "M4Ttk45vU9B7",
        "colab": {
          "base_uri": "https://localhost:8080/",
          "height": 50
        },
        "outputId": "5cfce901-1124-438b-891c-7eb7fd258849"
      },
      "source": [
        "#trigonometric functions - cos, cosh, sin, sinh, tan, tanh\n",
        "np.cos(arr)"
      ],
      "execution_count": null,
      "outputs": [
        {
          "output_type": "execute_result",
          "data": {
            "text/plain": [
              "array([-0.41522393,  0.99998567,  0.03030169,  0.9936549 ,  0.31773281,\n",
              "       -0.19842013,  0.80817654])"
            ]
          },
          "metadata": {
            "tags": []
          },
          "execution_count": 106
        }
      ]
    },
    {
      "cell_type": "code",
      "metadata": {
        "id": "bCbBUjItVEhJ",
        "colab": {
          "base_uri": "https://localhost:8080/",
          "height": 50
        },
        "outputId": "a0856abd-756d-45fc-e0d1-07b9b26df11a"
      },
      "source": [
        "np.sin(arr)"
      ],
      "execution_count": null,
      "outputs": [
        {
          "output_type": "execute_result",
          "data": {
            "text/plain": [
              "array([-0.90971924,  0.00535436,  0.9995408 ,  0.11247199, -0.94818029,\n",
              "       -0.98011706, -0.58894031])"
            ]
          },
          "metadata": {
            "tags": []
          },
          "execution_count": 107
        }
      ]
    },
    {
      "cell_type": "code",
      "metadata": {
        "id": "NiuJkisFVGKI",
        "colab": {
          "base_uri": "https://localhost:8080/",
          "height": 50
        },
        "outputId": "44048ad0-2b78-4684-acf3-ee20607acbe4"
      },
      "source": [
        "np.tan(arr)"
      ],
      "execution_count": null,
      "outputs": [
        {
          "output_type": "execute_result",
          "data": {
            "text/plain": [
              "array([ 2.19091235e+00,  5.35443407e-03,  3.29863097e+01,  1.13190191e-01,\n",
              "       -2.98420641e+00,  4.93960492e+00, -7.28727303e-01])"
            ]
          },
          "metadata": {
            "tags": []
          },
          "execution_count": 108
        }
      ]
    },
    {
      "cell_type": "code",
      "metadata": {
        "id": "Fmmmp1ZIVHnl",
        "colab": {
          "base_uri": "https://localhost:8080/",
          "height": 34
        },
        "outputId": "8eb3a9c2-b873-42ad-d842-7fcdf4b14ced"
      },
      "source": [
        "#logical NOT\n",
        "np.logical_not(arr)"
      ],
      "execution_count": null,
      "outputs": [
        {
          "output_type": "execute_result",
          "data": {
            "text/plain": [
              "array([False, False, False, False, False, False, False])"
            ]
          },
          "metadata": {
            "tags": []
          },
          "execution_count": 109
        }
      ]
    },
    {
      "cell_type": "code",
      "metadata": {
        "id": "RMmvOg17VR2C"
      },
      "source": [
        "#binary universal functions\n",
        "arr1 = np.arange(10)*0.75\n",
        "arr2 = np.arange(10)*0.89"
      ],
      "execution_count": null,
      "outputs": []
    },
    {
      "cell_type": "code",
      "metadata": {
        "id": "RKrcxumGVtSE",
        "colab": {
          "base_uri": "https://localhost:8080/",
          "height": 34
        },
        "outputId": "c5366d3a-dbd8-476f-8278-231b8cdb2931"
      },
      "source": [
        "arr1"
      ],
      "execution_count": null,
      "outputs": [
        {
          "output_type": "execute_result",
          "data": {
            "text/plain": [
              "array([0.  , 0.75, 1.5 , 2.25, 3.  , 3.75, 4.5 , 5.25, 6.  , 6.75])"
            ]
          },
          "metadata": {
            "tags": []
          },
          "execution_count": 111
        }
      ]
    },
    {
      "cell_type": "code",
      "metadata": {
        "id": "zpG2TVqcVugO",
        "colab": {
          "base_uri": "https://localhost:8080/",
          "height": 34
        },
        "outputId": "983b0dd0-12d2-4588-a24b-d32bc992fdfe"
      },
      "source": [
        "arr2"
      ],
      "execution_count": null,
      "outputs": [
        {
          "output_type": "execute_result",
          "data": {
            "text/plain": [
              "array([0.  , 0.89, 1.78, 2.67, 3.56, 4.45, 5.34, 6.23, 7.12, 8.01])"
            ]
          },
          "metadata": {
            "tags": []
          },
          "execution_count": 112
        }
      ]
    },
    {
      "cell_type": "code",
      "metadata": {
        "id": "RJnDCO5YVvVH",
        "colab": {
          "base_uri": "https://localhost:8080/",
          "height": 50
        },
        "outputId": "69eda706-17f2-478f-8aa1-2c5aef3d84d2"
      },
      "source": [
        "#addition\n",
        "np.add(arr1,arr2)"
      ],
      "execution_count": null,
      "outputs": [
        {
          "output_type": "execute_result",
          "data": {
            "text/plain": [
              "array([ 0.  ,  1.64,  3.28,  4.92,  6.56,  8.2 ,  9.84, 11.48, 13.12,\n",
              "       14.76])"
            ]
          },
          "metadata": {
            "tags": []
          },
          "execution_count": 113
        }
      ]
    },
    {
      "cell_type": "code",
      "metadata": {
        "id": "0KnPuv5LV0ZQ",
        "colab": {
          "base_uri": "https://localhost:8080/",
          "height": 50
        },
        "outputId": "1f860e73-ae01-4498-e8c2-de461a3c94f8"
      },
      "source": [
        "#substract\n",
        "np.subtract(arr1,arr2)"
      ],
      "execution_count": null,
      "outputs": [
        {
          "output_type": "execute_result",
          "data": {
            "text/plain": [
              "array([ 0.  , -0.14, -0.28, -0.42, -0.56, -0.7 , -0.84, -0.98, -1.12,\n",
              "       -1.26])"
            ]
          },
          "metadata": {
            "tags": []
          },
          "execution_count": 115
        }
      ]
    },
    {
      "cell_type": "code",
      "metadata": {
        "id": "DsAWKsSkV42V",
        "colab": {
          "base_uri": "https://localhost:8080/",
          "height": 50
        },
        "outputId": "3a136b68-f7b5-4061-901e-fd60427d3991"
      },
      "source": [
        "#multiply\n",
        "np.multiply(arr1, arr2)"
      ],
      "execution_count": null,
      "outputs": [
        {
          "output_type": "execute_result",
          "data": {
            "text/plain": [
              "array([ 0.    ,  0.6675,  2.67  ,  6.0075, 10.68  , 16.6875, 24.03  ,\n",
              "       32.7075, 42.72  , 54.0675])"
            ]
          },
          "metadata": {
            "tags": []
          },
          "execution_count": 116
        }
      ]
    },
    {
      "cell_type": "code",
      "metadata": {
        "id": "v2tZJHz_WGOR",
        "colab": {
          "base_uri": "https://localhost:8080/",
          "height": 104
        },
        "outputId": "4c32883e-bbc6-4740-9afd-6cc3a42a5265"
      },
      "source": [
        "#divide\n",
        "np.divide(arr1, arr2)"
      ],
      "execution_count": null,
      "outputs": [
        {
          "output_type": "stream",
          "text": [
            "/usr/local/lib/python3.6/dist-packages/ipykernel_launcher.py:2: RuntimeWarning: invalid value encountered in true_divide\n",
            "  \n"
          ],
          "name": "stderr"
        },
        {
          "output_type": "execute_result",
          "data": {
            "text/plain": [
              "array([       nan, 0.84269663, 0.84269663, 0.84269663, 0.84269663,\n",
              "       0.84269663, 0.84269663, 0.84269663, 0.84269663, 0.84269663])"
            ]
          },
          "metadata": {
            "tags": []
          },
          "execution_count": 117
        }
      ]
    },
    {
      "cell_type": "code",
      "metadata": {
        "id": "2rFvAN1rWK1q",
        "colab": {
          "base_uri": "https://localhost:8080/",
          "height": 67
        },
        "outputId": "0edebb33-999c-40e3-862c-a985a25a069c"
      },
      "source": [
        "#power\n",
        "np.power(arr1, arr2)"
      ],
      "execution_count": null,
      "outputs": [
        {
          "output_type": "execute_result",
          "data": {
            "text/plain": [
              "array([1.00000000e+00, 7.74113292e-01, 2.05798612e+00, 8.71620274e+00,\n",
              "       4.99518603e+01, 3.58458713e+02, 3.07719362e+03, 3.06614338e+04,\n",
              "       3.47085845e+05, 4.39261581e+06])"
            ]
          },
          "metadata": {
            "tags": []
          },
          "execution_count": 118
        }
      ]
    },
    {
      "cell_type": "code",
      "metadata": {
        "id": "s4Gd-T-mWPdB",
        "colab": {
          "base_uri": "https://localhost:8080/",
          "height": 34
        },
        "outputId": "d57f3332-f8d9-4a96-acae-a5bde32b8a4c"
      },
      "source": [
        "#maximum\n",
        "np.maximum(arr1, arr2)"
      ],
      "execution_count": null,
      "outputs": [
        {
          "output_type": "execute_result",
          "data": {
            "text/plain": [
              "array([0.  , 0.89, 1.78, 2.67, 3.56, 4.45, 5.34, 6.23, 7.12, 8.01])"
            ]
          },
          "metadata": {
            "tags": []
          },
          "execution_count": 119
        }
      ]
    },
    {
      "cell_type": "code",
      "metadata": {
        "id": "PUVwFvyXWUkK",
        "colab": {
          "base_uri": "https://localhost:8080/",
          "height": 34
        },
        "outputId": "0367b370-d5f2-4a67-b3b8-a7c69360de64"
      },
      "source": [
        "#minimum\n",
        "np.minimum(arr1, arr2)"
      ],
      "execution_count": null,
      "outputs": [
        {
          "output_type": "execute_result",
          "data": {
            "text/plain": [
              "array([0.  , 0.75, 1.5 , 2.25, 3.  , 3.75, 4.5 , 5.25, 6.  , 6.75])"
            ]
          },
          "metadata": {
            "tags": []
          },
          "execution_count": 120
        }
      ]
    },
    {
      "cell_type": "code",
      "metadata": {
        "id": "nCxEXrFVWZmV",
        "colab": {
          "base_uri": "https://localhost:8080/",
          "height": 87
        },
        "outputId": "19750e9f-5e4f-4a76-ceb7-68189f19a368"
      },
      "source": [
        "#mod i.e. remainder or division\n",
        "np.mod(arr1, arr2)"
      ],
      "execution_count": null,
      "outputs": [
        {
          "output_type": "stream",
          "text": [
            "/usr/local/lib/python3.6/dist-packages/ipykernel_launcher.py:2: RuntimeWarning: invalid value encountered in remainder\n",
            "  \n"
          ],
          "name": "stderr"
        },
        {
          "output_type": "execute_result",
          "data": {
            "text/plain": [
              "array([ nan, 0.75, 1.5 , 2.25, 3.  , 3.75, 4.5 , 5.25, 6.  , 6.75])"
            ]
          },
          "metadata": {
            "tags": []
          },
          "execution_count": 121
        }
      ]
    },
    {
      "cell_type": "code",
      "metadata": {
        "id": "M94wnFgkWg3A",
        "colab": {
          "base_uri": "https://localhost:8080/",
          "height": 34
        },
        "outputId": "f99ea731-cf34-4ac9-ed1c-51982aa01c4b"
      },
      "source": [
        "#copysign - copy sign of values in 2nd arg to values in 1st arg\n",
        "np.copysign(arr1, arr2)"
      ],
      "execution_count": null,
      "outputs": [
        {
          "output_type": "execute_result",
          "data": {
            "text/plain": [
              "array([0.  , 0.75, 1.5 , 2.25, 3.  , 3.75, 4.5 , 5.25, 6.  , 6.75])"
            ]
          },
          "metadata": {
            "tags": []
          },
          "execution_count": 122
        }
      ]
    },
    {
      "cell_type": "code",
      "metadata": {
        "id": "B-tbtdCAWpb1",
        "colab": {
          "base_uri": "https://localhost:8080/",
          "height": 50
        },
        "outputId": "343863f6-3073-473e-db2f-83bcd47da1d9"
      },
      "source": [
        "#greater\n",
        "np.greater(arr1, arr2)"
      ],
      "execution_count": null,
      "outputs": [
        {
          "output_type": "execute_result",
          "data": {
            "text/plain": [
              "array([False, False, False, False, False, False, False, False, False,\n",
              "       False])"
            ]
          },
          "metadata": {
            "tags": []
          },
          "execution_count": 123
        }
      ]
    },
    {
      "cell_type": "code",
      "metadata": {
        "id": "GZOkibQ5W7pR",
        "colab": {
          "base_uri": "https://localhost:8080/",
          "height": 50
        },
        "outputId": "2d16de4b-2b7d-4fe0-bf7b-e294b681ec29"
      },
      "source": [
        "#greater or equal\n",
        "np.greater_equal(arr1, arr2)"
      ],
      "execution_count": null,
      "outputs": [
        {
          "output_type": "execute_result",
          "data": {
            "text/plain": [
              "array([ True, False, False, False, False, False, False, False, False,\n",
              "       False])"
            ]
          },
          "metadata": {
            "tags": []
          },
          "execution_count": 124
        }
      ]
    },
    {
      "cell_type": "code",
      "metadata": {
        "id": "QHBmk6AyW_zV",
        "colab": {
          "base_uri": "https://localhost:8080/",
          "height": 50
        },
        "outputId": "a31b2bab-2d6a-46dd-dfff-f48782cd8d81"
      },
      "source": [
        "#less\n",
        "np.less(arr1, arr2)"
      ],
      "execution_count": null,
      "outputs": [
        {
          "output_type": "execute_result",
          "data": {
            "text/plain": [
              "array([False,  True,  True,  True,  True,  True,  True,  True,  True,\n",
              "        True])"
            ]
          },
          "metadata": {
            "tags": []
          },
          "execution_count": 125
        }
      ]
    },
    {
      "cell_type": "code",
      "metadata": {
        "id": "CDFmQJ17XD1j",
        "colab": {
          "base_uri": "https://localhost:8080/",
          "height": 50
        },
        "outputId": "6287ecb1-0c72-4a77-e523-0f9b68eb1633"
      },
      "source": [
        "#less or equal\n",
        "np.less_equal(arr1, arr2)"
      ],
      "execution_count": null,
      "outputs": [
        {
          "output_type": "execute_result",
          "data": {
            "text/plain": [
              "array([ True,  True,  True,  True,  True,  True,  True,  True,  True,\n",
              "        True])"
            ]
          },
          "metadata": {
            "tags": []
          },
          "execution_count": 126
        }
      ]
    },
    {
      "cell_type": "code",
      "metadata": {
        "id": "IF2dXKmiXIOe",
        "colab": {
          "base_uri": "https://localhost:8080/",
          "height": 50
        },
        "outputId": "24f87e65-cd54-43cc-de7e-31f682d35619"
      },
      "source": [
        "#equal\n",
        "np.equal(arr1, arr2)"
      ],
      "execution_count": null,
      "outputs": [
        {
          "output_type": "execute_result",
          "data": {
            "text/plain": [
              "array([ True, False, False, False, False, False, False, False, False,\n",
              "       False])"
            ]
          },
          "metadata": {
            "tags": []
          },
          "execution_count": 127
        }
      ]
    },
    {
      "cell_type": "code",
      "metadata": {
        "id": "H-qCKXSTXNe4",
        "colab": {
          "base_uri": "https://localhost:8080/",
          "height": 50
        },
        "outputId": "71da36c0-2bdd-4552-fb86-c325bb32cde9"
      },
      "source": [
        "#not equal\n",
        "np.not_equal(arr1, arr2)"
      ],
      "execution_count": null,
      "outputs": [
        {
          "output_type": "execute_result",
          "data": {
            "text/plain": [
              "array([False,  True,  True,  True,  True,  True,  True,  True,  True,\n",
              "        True])"
            ]
          },
          "metadata": {
            "tags": []
          },
          "execution_count": 128
        }
      ]
    },
    {
      "cell_type": "code",
      "metadata": {
        "id": "CNvQlec8XRaq",
        "colab": {
          "base_uri": "https://localhost:8080/",
          "height": 50
        },
        "outputId": "2a9df3b6-737f-4981-f2d4-16d64d671e0e"
      },
      "source": [
        "#logical and\n",
        "np.logical_and(arr1, arr2)"
      ],
      "execution_count": null,
      "outputs": [
        {
          "output_type": "execute_result",
          "data": {
            "text/plain": [
              "array([False,  True,  True,  True,  True,  True,  True,  True,  True,\n",
              "        True])"
            ]
          },
          "metadata": {
            "tags": []
          },
          "execution_count": 129
        }
      ]
    },
    {
      "cell_type": "code",
      "metadata": {
        "id": "FHIDOU2BXZgV",
        "colab": {
          "base_uri": "https://localhost:8080/",
          "height": 50
        },
        "outputId": "d6db78ec-fdd6-4cdb-b1c1-6de6f829f53b"
      },
      "source": [
        "#logical or\n",
        "np.logical_or(arr1, arr2)"
      ],
      "execution_count": null,
      "outputs": [
        {
          "output_type": "execute_result",
          "data": {
            "text/plain": [
              "array([False,  True,  True,  True,  True,  True,  True,  True,  True,\n",
              "        True])"
            ]
          },
          "metadata": {
            "tags": []
          },
          "execution_count": 130
        }
      ]
    },
    {
      "cell_type": "code",
      "metadata": {
        "id": "s0e4KWBsXd5N",
        "colab": {
          "base_uri": "https://localhost:8080/",
          "height": 50
        },
        "outputId": "7dc04aef-248f-4978-bd0b-05c5b61793c7"
      },
      "source": [
        "#logical xor\n",
        "np.logical_xor(arr1, arr2)"
      ],
      "execution_count": null,
      "outputs": [
        {
          "output_type": "execute_result",
          "data": {
            "text/plain": [
              "array([False, False, False, False, False, False, False, False, False,\n",
              "       False])"
            ]
          },
          "metadata": {
            "tags": []
          },
          "execution_count": 131
        }
      ]
    },
    {
      "cell_type": "markdown",
      "metadata": {
        "id": "tLnEnyoRXkZ7"
      },
      "source": [
        "**4.3 Array-Oriented Programming with Arrays**"
      ]
    },
    {
      "cell_type": "code",
      "metadata": {
        "id": "e6kvLMiyXiG-",
        "colab": {
          "base_uri": "https://localhost:8080/",
          "height": 1000
        },
        "outputId": "14d93746-0531-403b-ceb1-ad9227a8d140"
      },
      "source": [
        "#computing equations like finding hypotenuse of pythogoras theoram\n",
        "#sqrt(x^2 + y^2)\n",
        "\n",
        "#generating an array of 1000 equally spaced points between -5 and 5\n",
        "points = np.arange(-5, 5, 0.01)\n",
        "points"
      ],
      "execution_count": null,
      "outputs": [
        {
          "output_type": "execute_result",
          "data": {
            "text/plain": [
              "array([-5.0000000e+00, -4.9900000e+00, -4.9800000e+00, -4.9700000e+00,\n",
              "       -4.9600000e+00, -4.9500000e+00, -4.9400000e+00, -4.9300000e+00,\n",
              "       -4.9200000e+00, -4.9100000e+00, -4.9000000e+00, -4.8900000e+00,\n",
              "       -4.8800000e+00, -4.8700000e+00, -4.8600000e+00, -4.8500000e+00,\n",
              "       -4.8400000e+00, -4.8300000e+00, -4.8200000e+00, -4.8100000e+00,\n",
              "       -4.8000000e+00, -4.7900000e+00, -4.7800000e+00, -4.7700000e+00,\n",
              "       -4.7600000e+00, -4.7500000e+00, -4.7400000e+00, -4.7300000e+00,\n",
              "       -4.7200000e+00, -4.7100000e+00, -4.7000000e+00, -4.6900000e+00,\n",
              "       -4.6800000e+00, -4.6700000e+00, -4.6600000e+00, -4.6500000e+00,\n",
              "       -4.6400000e+00, -4.6300000e+00, -4.6200000e+00, -4.6100000e+00,\n",
              "       -4.6000000e+00, -4.5900000e+00, -4.5800000e+00, -4.5700000e+00,\n",
              "       -4.5600000e+00, -4.5500000e+00, -4.5400000e+00, -4.5300000e+00,\n",
              "       -4.5200000e+00, -4.5100000e+00, -4.5000000e+00, -4.4900000e+00,\n",
              "       -4.4800000e+00, -4.4700000e+00, -4.4600000e+00, -4.4500000e+00,\n",
              "       -4.4400000e+00, -4.4300000e+00, -4.4200000e+00, -4.4100000e+00,\n",
              "       -4.4000000e+00, -4.3900000e+00, -4.3800000e+00, -4.3700000e+00,\n",
              "       -4.3600000e+00, -4.3500000e+00, -4.3400000e+00, -4.3300000e+00,\n",
              "       -4.3200000e+00, -4.3100000e+00, -4.3000000e+00, -4.2900000e+00,\n",
              "       -4.2800000e+00, -4.2700000e+00, -4.2600000e+00, -4.2500000e+00,\n",
              "       -4.2400000e+00, -4.2300000e+00, -4.2200000e+00, -4.2100000e+00,\n",
              "       -4.2000000e+00, -4.1900000e+00, -4.1800000e+00, -4.1700000e+00,\n",
              "       -4.1600000e+00, -4.1500000e+00, -4.1400000e+00, -4.1300000e+00,\n",
              "       -4.1200000e+00, -4.1100000e+00, -4.1000000e+00, -4.0900000e+00,\n",
              "       -4.0800000e+00, -4.0700000e+00, -4.0600000e+00, -4.0500000e+00,\n",
              "       -4.0400000e+00, -4.0300000e+00, -4.0200000e+00, -4.0100000e+00,\n",
              "       -4.0000000e+00, -3.9900000e+00, -3.9800000e+00, -3.9700000e+00,\n",
              "       -3.9600000e+00, -3.9500000e+00, -3.9400000e+00, -3.9300000e+00,\n",
              "       -3.9200000e+00, -3.9100000e+00, -3.9000000e+00, -3.8900000e+00,\n",
              "       -3.8800000e+00, -3.8700000e+00, -3.8600000e+00, -3.8500000e+00,\n",
              "       -3.8400000e+00, -3.8300000e+00, -3.8200000e+00, -3.8100000e+00,\n",
              "       -3.8000000e+00, -3.7900000e+00, -3.7800000e+00, -3.7700000e+00,\n",
              "       -3.7600000e+00, -3.7500000e+00, -3.7400000e+00, -3.7300000e+00,\n",
              "       -3.7200000e+00, -3.7100000e+00, -3.7000000e+00, -3.6900000e+00,\n",
              "       -3.6800000e+00, -3.6700000e+00, -3.6600000e+00, -3.6500000e+00,\n",
              "       -3.6400000e+00, -3.6300000e+00, -3.6200000e+00, -3.6100000e+00,\n",
              "       -3.6000000e+00, -3.5900000e+00, -3.5800000e+00, -3.5700000e+00,\n",
              "       -3.5600000e+00, -3.5500000e+00, -3.5400000e+00, -3.5300000e+00,\n",
              "       -3.5200000e+00, -3.5100000e+00, -3.5000000e+00, -3.4900000e+00,\n",
              "       -3.4800000e+00, -3.4700000e+00, -3.4600000e+00, -3.4500000e+00,\n",
              "       -3.4400000e+00, -3.4300000e+00, -3.4200000e+00, -3.4100000e+00,\n",
              "       -3.4000000e+00, -3.3900000e+00, -3.3800000e+00, -3.3700000e+00,\n",
              "       -3.3600000e+00, -3.3500000e+00, -3.3400000e+00, -3.3300000e+00,\n",
              "       -3.3200000e+00, -3.3100000e+00, -3.3000000e+00, -3.2900000e+00,\n",
              "       -3.2800000e+00, -3.2700000e+00, -3.2600000e+00, -3.2500000e+00,\n",
              "       -3.2400000e+00, -3.2300000e+00, -3.2200000e+00, -3.2100000e+00,\n",
              "       -3.2000000e+00, -3.1900000e+00, -3.1800000e+00, -3.1700000e+00,\n",
              "       -3.1600000e+00, -3.1500000e+00, -3.1400000e+00, -3.1300000e+00,\n",
              "       -3.1200000e+00, -3.1100000e+00, -3.1000000e+00, -3.0900000e+00,\n",
              "       -3.0800000e+00, -3.0700000e+00, -3.0600000e+00, -3.0500000e+00,\n",
              "       -3.0400000e+00, -3.0300000e+00, -3.0200000e+00, -3.0100000e+00,\n",
              "       -3.0000000e+00, -2.9900000e+00, -2.9800000e+00, -2.9700000e+00,\n",
              "       -2.9600000e+00, -2.9500000e+00, -2.9400000e+00, -2.9300000e+00,\n",
              "       -2.9200000e+00, -2.9100000e+00, -2.9000000e+00, -2.8900000e+00,\n",
              "       -2.8800000e+00, -2.8700000e+00, -2.8600000e+00, -2.8500000e+00,\n",
              "       -2.8400000e+00, -2.8300000e+00, -2.8200000e+00, -2.8100000e+00,\n",
              "       -2.8000000e+00, -2.7900000e+00, -2.7800000e+00, -2.7700000e+00,\n",
              "       -2.7600000e+00, -2.7500000e+00, -2.7400000e+00, -2.7300000e+00,\n",
              "       -2.7200000e+00, -2.7100000e+00, -2.7000000e+00, -2.6900000e+00,\n",
              "       -2.6800000e+00, -2.6700000e+00, -2.6600000e+00, -2.6500000e+00,\n",
              "       -2.6400000e+00, -2.6300000e+00, -2.6200000e+00, -2.6100000e+00,\n",
              "       -2.6000000e+00, -2.5900000e+00, -2.5800000e+00, -2.5700000e+00,\n",
              "       -2.5600000e+00, -2.5500000e+00, -2.5400000e+00, -2.5300000e+00,\n",
              "       -2.5200000e+00, -2.5100000e+00, -2.5000000e+00, -2.4900000e+00,\n",
              "       -2.4800000e+00, -2.4700000e+00, -2.4600000e+00, -2.4500000e+00,\n",
              "       -2.4400000e+00, -2.4300000e+00, -2.4200000e+00, -2.4100000e+00,\n",
              "       -2.4000000e+00, -2.3900000e+00, -2.3800000e+00, -2.3700000e+00,\n",
              "       -2.3600000e+00, -2.3500000e+00, -2.3400000e+00, -2.3300000e+00,\n",
              "       -2.3200000e+00, -2.3100000e+00, -2.3000000e+00, -2.2900000e+00,\n",
              "       -2.2800000e+00, -2.2700000e+00, -2.2600000e+00, -2.2500000e+00,\n",
              "       -2.2400000e+00, -2.2300000e+00, -2.2200000e+00, -2.2100000e+00,\n",
              "       -2.2000000e+00, -2.1900000e+00, -2.1800000e+00, -2.1700000e+00,\n",
              "       -2.1600000e+00, -2.1500000e+00, -2.1400000e+00, -2.1300000e+00,\n",
              "       -2.1200000e+00, -2.1100000e+00, -2.1000000e+00, -2.0900000e+00,\n",
              "       -2.0800000e+00, -2.0700000e+00, -2.0600000e+00, -2.0500000e+00,\n",
              "       -2.0400000e+00, -2.0300000e+00, -2.0200000e+00, -2.0100000e+00,\n",
              "       -2.0000000e+00, -1.9900000e+00, -1.9800000e+00, -1.9700000e+00,\n",
              "       -1.9600000e+00, -1.9500000e+00, -1.9400000e+00, -1.9300000e+00,\n",
              "       -1.9200000e+00, -1.9100000e+00, -1.9000000e+00, -1.8900000e+00,\n",
              "       -1.8800000e+00, -1.8700000e+00, -1.8600000e+00, -1.8500000e+00,\n",
              "       -1.8400000e+00, -1.8300000e+00, -1.8200000e+00, -1.8100000e+00,\n",
              "       -1.8000000e+00, -1.7900000e+00, -1.7800000e+00, -1.7700000e+00,\n",
              "       -1.7600000e+00, -1.7500000e+00, -1.7400000e+00, -1.7300000e+00,\n",
              "       -1.7200000e+00, -1.7100000e+00, -1.7000000e+00, -1.6900000e+00,\n",
              "       -1.6800000e+00, -1.6700000e+00, -1.6600000e+00, -1.6500000e+00,\n",
              "       -1.6400000e+00, -1.6300000e+00, -1.6200000e+00, -1.6100000e+00,\n",
              "       -1.6000000e+00, -1.5900000e+00, -1.5800000e+00, -1.5700000e+00,\n",
              "       -1.5600000e+00, -1.5500000e+00, -1.5400000e+00, -1.5300000e+00,\n",
              "       -1.5200000e+00, -1.5100000e+00, -1.5000000e+00, -1.4900000e+00,\n",
              "       -1.4800000e+00, -1.4700000e+00, -1.4600000e+00, -1.4500000e+00,\n",
              "       -1.4400000e+00, -1.4300000e+00, -1.4200000e+00, -1.4100000e+00,\n",
              "       -1.4000000e+00, -1.3900000e+00, -1.3800000e+00, -1.3700000e+00,\n",
              "       -1.3600000e+00, -1.3500000e+00, -1.3400000e+00, -1.3300000e+00,\n",
              "       -1.3200000e+00, -1.3100000e+00, -1.3000000e+00, -1.2900000e+00,\n",
              "       -1.2800000e+00, -1.2700000e+00, -1.2600000e+00, -1.2500000e+00,\n",
              "       -1.2400000e+00, -1.2300000e+00, -1.2200000e+00, -1.2100000e+00,\n",
              "       -1.2000000e+00, -1.1900000e+00, -1.1800000e+00, -1.1700000e+00,\n",
              "       -1.1600000e+00, -1.1500000e+00, -1.1400000e+00, -1.1300000e+00,\n",
              "       -1.1200000e+00, -1.1100000e+00, -1.1000000e+00, -1.0900000e+00,\n",
              "       -1.0800000e+00, -1.0700000e+00, -1.0600000e+00, -1.0500000e+00,\n",
              "       -1.0400000e+00, -1.0300000e+00, -1.0200000e+00, -1.0100000e+00,\n",
              "       -1.0000000e+00, -9.9000000e-01, -9.8000000e-01, -9.7000000e-01,\n",
              "       -9.6000000e-01, -9.5000000e-01, -9.4000000e-01, -9.3000000e-01,\n",
              "       -9.2000000e-01, -9.1000000e-01, -9.0000000e-01, -8.9000000e-01,\n",
              "       -8.8000000e-01, -8.7000000e-01, -8.6000000e-01, -8.5000000e-01,\n",
              "       -8.4000000e-01, -8.3000000e-01, -8.2000000e-01, -8.1000000e-01,\n",
              "       -8.0000000e-01, -7.9000000e-01, -7.8000000e-01, -7.7000000e-01,\n",
              "       -7.6000000e-01, -7.5000000e-01, -7.4000000e-01, -7.3000000e-01,\n",
              "       -7.2000000e-01, -7.1000000e-01, -7.0000000e-01, -6.9000000e-01,\n",
              "       -6.8000000e-01, -6.7000000e-01, -6.6000000e-01, -6.5000000e-01,\n",
              "       -6.4000000e-01, -6.3000000e-01, -6.2000000e-01, -6.1000000e-01,\n",
              "       -6.0000000e-01, -5.9000000e-01, -5.8000000e-01, -5.7000000e-01,\n",
              "       -5.6000000e-01, -5.5000000e-01, -5.4000000e-01, -5.3000000e-01,\n",
              "       -5.2000000e-01, -5.1000000e-01, -5.0000000e-01, -4.9000000e-01,\n",
              "       -4.8000000e-01, -4.7000000e-01, -4.6000000e-01, -4.5000000e-01,\n",
              "       -4.4000000e-01, -4.3000000e-01, -4.2000000e-01, -4.1000000e-01,\n",
              "       -4.0000000e-01, -3.9000000e-01, -3.8000000e-01, -3.7000000e-01,\n",
              "       -3.6000000e-01, -3.5000000e-01, -3.4000000e-01, -3.3000000e-01,\n",
              "       -3.2000000e-01, -3.1000000e-01, -3.0000000e-01, -2.9000000e-01,\n",
              "       -2.8000000e-01, -2.7000000e-01, -2.6000000e-01, -2.5000000e-01,\n",
              "       -2.4000000e-01, -2.3000000e-01, -2.2000000e-01, -2.1000000e-01,\n",
              "       -2.0000000e-01, -1.9000000e-01, -1.8000000e-01, -1.7000000e-01,\n",
              "       -1.6000000e-01, -1.5000000e-01, -1.4000000e-01, -1.3000000e-01,\n",
              "       -1.2000000e-01, -1.1000000e-01, -1.0000000e-01, -9.0000000e-02,\n",
              "       -8.0000000e-02, -7.0000000e-02, -6.0000000e-02, -5.0000000e-02,\n",
              "       -4.0000000e-02, -3.0000000e-02, -2.0000000e-02, -1.0000000e-02,\n",
              "       -1.0658141e-13,  1.0000000e-02,  2.0000000e-02,  3.0000000e-02,\n",
              "        4.0000000e-02,  5.0000000e-02,  6.0000000e-02,  7.0000000e-02,\n",
              "        8.0000000e-02,  9.0000000e-02,  1.0000000e-01,  1.1000000e-01,\n",
              "        1.2000000e-01,  1.3000000e-01,  1.4000000e-01,  1.5000000e-01,\n",
              "        1.6000000e-01,  1.7000000e-01,  1.8000000e-01,  1.9000000e-01,\n",
              "        2.0000000e-01,  2.1000000e-01,  2.2000000e-01,  2.3000000e-01,\n",
              "        2.4000000e-01,  2.5000000e-01,  2.6000000e-01,  2.7000000e-01,\n",
              "        2.8000000e-01,  2.9000000e-01,  3.0000000e-01,  3.1000000e-01,\n",
              "        3.2000000e-01,  3.3000000e-01,  3.4000000e-01,  3.5000000e-01,\n",
              "        3.6000000e-01,  3.7000000e-01,  3.8000000e-01,  3.9000000e-01,\n",
              "        4.0000000e-01,  4.1000000e-01,  4.2000000e-01,  4.3000000e-01,\n",
              "        4.4000000e-01,  4.5000000e-01,  4.6000000e-01,  4.7000000e-01,\n",
              "        4.8000000e-01,  4.9000000e-01,  5.0000000e-01,  5.1000000e-01,\n",
              "        5.2000000e-01,  5.3000000e-01,  5.4000000e-01,  5.5000000e-01,\n",
              "        5.6000000e-01,  5.7000000e-01,  5.8000000e-01,  5.9000000e-01,\n",
              "        6.0000000e-01,  6.1000000e-01,  6.2000000e-01,  6.3000000e-01,\n",
              "        6.4000000e-01,  6.5000000e-01,  6.6000000e-01,  6.7000000e-01,\n",
              "        6.8000000e-01,  6.9000000e-01,  7.0000000e-01,  7.1000000e-01,\n",
              "        7.2000000e-01,  7.3000000e-01,  7.4000000e-01,  7.5000000e-01,\n",
              "        7.6000000e-01,  7.7000000e-01,  7.8000000e-01,  7.9000000e-01,\n",
              "        8.0000000e-01,  8.1000000e-01,  8.2000000e-01,  8.3000000e-01,\n",
              "        8.4000000e-01,  8.5000000e-01,  8.6000000e-01,  8.7000000e-01,\n",
              "        8.8000000e-01,  8.9000000e-01,  9.0000000e-01,  9.1000000e-01,\n",
              "        9.2000000e-01,  9.3000000e-01,  9.4000000e-01,  9.5000000e-01,\n",
              "        9.6000000e-01,  9.7000000e-01,  9.8000000e-01,  9.9000000e-01,\n",
              "        1.0000000e+00,  1.0100000e+00,  1.0200000e+00,  1.0300000e+00,\n",
              "        1.0400000e+00,  1.0500000e+00,  1.0600000e+00,  1.0700000e+00,\n",
              "        1.0800000e+00,  1.0900000e+00,  1.1000000e+00,  1.1100000e+00,\n",
              "        1.1200000e+00,  1.1300000e+00,  1.1400000e+00,  1.1500000e+00,\n",
              "        1.1600000e+00,  1.1700000e+00,  1.1800000e+00,  1.1900000e+00,\n",
              "        1.2000000e+00,  1.2100000e+00,  1.2200000e+00,  1.2300000e+00,\n",
              "        1.2400000e+00,  1.2500000e+00,  1.2600000e+00,  1.2700000e+00,\n",
              "        1.2800000e+00,  1.2900000e+00,  1.3000000e+00,  1.3100000e+00,\n",
              "        1.3200000e+00,  1.3300000e+00,  1.3400000e+00,  1.3500000e+00,\n",
              "        1.3600000e+00,  1.3700000e+00,  1.3800000e+00,  1.3900000e+00,\n",
              "        1.4000000e+00,  1.4100000e+00,  1.4200000e+00,  1.4300000e+00,\n",
              "        1.4400000e+00,  1.4500000e+00,  1.4600000e+00,  1.4700000e+00,\n",
              "        1.4800000e+00,  1.4900000e+00,  1.5000000e+00,  1.5100000e+00,\n",
              "        1.5200000e+00,  1.5300000e+00,  1.5400000e+00,  1.5500000e+00,\n",
              "        1.5600000e+00,  1.5700000e+00,  1.5800000e+00,  1.5900000e+00,\n",
              "        1.6000000e+00,  1.6100000e+00,  1.6200000e+00,  1.6300000e+00,\n",
              "        1.6400000e+00,  1.6500000e+00,  1.6600000e+00,  1.6700000e+00,\n",
              "        1.6800000e+00,  1.6900000e+00,  1.7000000e+00,  1.7100000e+00,\n",
              "        1.7200000e+00,  1.7300000e+00,  1.7400000e+00,  1.7500000e+00,\n",
              "        1.7600000e+00,  1.7700000e+00,  1.7800000e+00,  1.7900000e+00,\n",
              "        1.8000000e+00,  1.8100000e+00,  1.8200000e+00,  1.8300000e+00,\n",
              "        1.8400000e+00,  1.8500000e+00,  1.8600000e+00,  1.8700000e+00,\n",
              "        1.8800000e+00,  1.8900000e+00,  1.9000000e+00,  1.9100000e+00,\n",
              "        1.9200000e+00,  1.9300000e+00,  1.9400000e+00,  1.9500000e+00,\n",
              "        1.9600000e+00,  1.9700000e+00,  1.9800000e+00,  1.9900000e+00,\n",
              "        2.0000000e+00,  2.0100000e+00,  2.0200000e+00,  2.0300000e+00,\n",
              "        2.0400000e+00,  2.0500000e+00,  2.0600000e+00,  2.0700000e+00,\n",
              "        2.0800000e+00,  2.0900000e+00,  2.1000000e+00,  2.1100000e+00,\n",
              "        2.1200000e+00,  2.1300000e+00,  2.1400000e+00,  2.1500000e+00,\n",
              "        2.1600000e+00,  2.1700000e+00,  2.1800000e+00,  2.1900000e+00,\n",
              "        2.2000000e+00,  2.2100000e+00,  2.2200000e+00,  2.2300000e+00,\n",
              "        2.2400000e+00,  2.2500000e+00,  2.2600000e+00,  2.2700000e+00,\n",
              "        2.2800000e+00,  2.2900000e+00,  2.3000000e+00,  2.3100000e+00,\n",
              "        2.3200000e+00,  2.3300000e+00,  2.3400000e+00,  2.3500000e+00,\n",
              "        2.3600000e+00,  2.3700000e+00,  2.3800000e+00,  2.3900000e+00,\n",
              "        2.4000000e+00,  2.4100000e+00,  2.4200000e+00,  2.4300000e+00,\n",
              "        2.4400000e+00,  2.4500000e+00,  2.4600000e+00,  2.4700000e+00,\n",
              "        2.4800000e+00,  2.4900000e+00,  2.5000000e+00,  2.5100000e+00,\n",
              "        2.5200000e+00,  2.5300000e+00,  2.5400000e+00,  2.5500000e+00,\n",
              "        2.5600000e+00,  2.5700000e+00,  2.5800000e+00,  2.5900000e+00,\n",
              "        2.6000000e+00,  2.6100000e+00,  2.6200000e+00,  2.6300000e+00,\n",
              "        2.6400000e+00,  2.6500000e+00,  2.6600000e+00,  2.6700000e+00,\n",
              "        2.6800000e+00,  2.6900000e+00,  2.7000000e+00,  2.7100000e+00,\n",
              "        2.7200000e+00,  2.7300000e+00,  2.7400000e+00,  2.7500000e+00,\n",
              "        2.7600000e+00,  2.7700000e+00,  2.7800000e+00,  2.7900000e+00,\n",
              "        2.8000000e+00,  2.8100000e+00,  2.8200000e+00,  2.8300000e+00,\n",
              "        2.8400000e+00,  2.8500000e+00,  2.8600000e+00,  2.8700000e+00,\n",
              "        2.8800000e+00,  2.8900000e+00,  2.9000000e+00,  2.9100000e+00,\n",
              "        2.9200000e+00,  2.9300000e+00,  2.9400000e+00,  2.9500000e+00,\n",
              "        2.9600000e+00,  2.9700000e+00,  2.9800000e+00,  2.9900000e+00,\n",
              "        3.0000000e+00,  3.0100000e+00,  3.0200000e+00,  3.0300000e+00,\n",
              "        3.0400000e+00,  3.0500000e+00,  3.0600000e+00,  3.0700000e+00,\n",
              "        3.0800000e+00,  3.0900000e+00,  3.1000000e+00,  3.1100000e+00,\n",
              "        3.1200000e+00,  3.1300000e+00,  3.1400000e+00,  3.1500000e+00,\n",
              "        3.1600000e+00,  3.1700000e+00,  3.1800000e+00,  3.1900000e+00,\n",
              "        3.2000000e+00,  3.2100000e+00,  3.2200000e+00,  3.2300000e+00,\n",
              "        3.2400000e+00,  3.2500000e+00,  3.2600000e+00,  3.2700000e+00,\n",
              "        3.2800000e+00,  3.2900000e+00,  3.3000000e+00,  3.3100000e+00,\n",
              "        3.3200000e+00,  3.3300000e+00,  3.3400000e+00,  3.3500000e+00,\n",
              "        3.3600000e+00,  3.3700000e+00,  3.3800000e+00,  3.3900000e+00,\n",
              "        3.4000000e+00,  3.4100000e+00,  3.4200000e+00,  3.4300000e+00,\n",
              "        3.4400000e+00,  3.4500000e+00,  3.4600000e+00,  3.4700000e+00,\n",
              "        3.4800000e+00,  3.4900000e+00,  3.5000000e+00,  3.5100000e+00,\n",
              "        3.5200000e+00,  3.5300000e+00,  3.5400000e+00,  3.5500000e+00,\n",
              "        3.5600000e+00,  3.5700000e+00,  3.5800000e+00,  3.5900000e+00,\n",
              "        3.6000000e+00,  3.6100000e+00,  3.6200000e+00,  3.6300000e+00,\n",
              "        3.6400000e+00,  3.6500000e+00,  3.6600000e+00,  3.6700000e+00,\n",
              "        3.6800000e+00,  3.6900000e+00,  3.7000000e+00,  3.7100000e+00,\n",
              "        3.7200000e+00,  3.7300000e+00,  3.7400000e+00,  3.7500000e+00,\n",
              "        3.7600000e+00,  3.7700000e+00,  3.7800000e+00,  3.7900000e+00,\n",
              "        3.8000000e+00,  3.8100000e+00,  3.8200000e+00,  3.8300000e+00,\n",
              "        3.8400000e+00,  3.8500000e+00,  3.8600000e+00,  3.8700000e+00,\n",
              "        3.8800000e+00,  3.8900000e+00,  3.9000000e+00,  3.9100000e+00,\n",
              "        3.9200000e+00,  3.9300000e+00,  3.9400000e+00,  3.9500000e+00,\n",
              "        3.9600000e+00,  3.9700000e+00,  3.9800000e+00,  3.9900000e+00,\n",
              "        4.0000000e+00,  4.0100000e+00,  4.0200000e+00,  4.0300000e+00,\n",
              "        4.0400000e+00,  4.0500000e+00,  4.0600000e+00,  4.0700000e+00,\n",
              "        4.0800000e+00,  4.0900000e+00,  4.1000000e+00,  4.1100000e+00,\n",
              "        4.1200000e+00,  4.1300000e+00,  4.1400000e+00,  4.1500000e+00,\n",
              "        4.1600000e+00,  4.1700000e+00,  4.1800000e+00,  4.1900000e+00,\n",
              "        4.2000000e+00,  4.2100000e+00,  4.2200000e+00,  4.2300000e+00,\n",
              "        4.2400000e+00,  4.2500000e+00,  4.2600000e+00,  4.2700000e+00,\n",
              "        4.2800000e+00,  4.2900000e+00,  4.3000000e+00,  4.3100000e+00,\n",
              "        4.3200000e+00,  4.3300000e+00,  4.3400000e+00,  4.3500000e+00,\n",
              "        4.3600000e+00,  4.3700000e+00,  4.3800000e+00,  4.3900000e+00,\n",
              "        4.4000000e+00,  4.4100000e+00,  4.4200000e+00,  4.4300000e+00,\n",
              "        4.4400000e+00,  4.4500000e+00,  4.4600000e+00,  4.4700000e+00,\n",
              "        4.4800000e+00,  4.4900000e+00,  4.5000000e+00,  4.5100000e+00,\n",
              "        4.5200000e+00,  4.5300000e+00,  4.5400000e+00,  4.5500000e+00,\n",
              "        4.5600000e+00,  4.5700000e+00,  4.5800000e+00,  4.5900000e+00,\n",
              "        4.6000000e+00,  4.6100000e+00,  4.6200000e+00,  4.6300000e+00,\n",
              "        4.6400000e+00,  4.6500000e+00,  4.6600000e+00,  4.6700000e+00,\n",
              "        4.6800000e+00,  4.6900000e+00,  4.7000000e+00,  4.7100000e+00,\n",
              "        4.7200000e+00,  4.7300000e+00,  4.7400000e+00,  4.7500000e+00,\n",
              "        4.7600000e+00,  4.7700000e+00,  4.7800000e+00,  4.7900000e+00,\n",
              "        4.8000000e+00,  4.8100000e+00,  4.8200000e+00,  4.8300000e+00,\n",
              "        4.8400000e+00,  4.8500000e+00,  4.8600000e+00,  4.8700000e+00,\n",
              "        4.8800000e+00,  4.8900000e+00,  4.9000000e+00,  4.9100000e+00,\n",
              "        4.9200000e+00,  4.9300000e+00,  4.9400000e+00,  4.9500000e+00,\n",
              "        4.9600000e+00,  4.9700000e+00,  4.9800000e+00,  4.9900000e+00])"
            ]
          },
          "metadata": {
            "tags": []
          },
          "execution_count": 132
        }
      ]
    },
    {
      "cell_type": "code",
      "metadata": {
        "id": "E1sPRMbnZzU1"
      },
      "source": [
        "#creating two similar components\n",
        "xs, ys = np.meshgrid(points, points)"
      ],
      "execution_count": null,
      "outputs": []
    },
    {
      "cell_type": "code",
      "metadata": {
        "id": "tI8J1v8Senrn",
        "colab": {
          "base_uri": "https://localhost:8080/",
          "height": 134
        },
        "outputId": "e76f1ad0-04bc-44b6-a604-f5c50e7c98ca"
      },
      "source": [
        "ys"
      ],
      "execution_count": null,
      "outputs": [
        {
          "output_type": "execute_result",
          "data": {
            "text/plain": [
              "array([[-5.  , -5.  , -5.  , ..., -5.  , -5.  , -5.  ],\n",
              "       [-4.99, -4.99, -4.99, ..., -4.99, -4.99, -4.99],\n",
              "       [-4.98, -4.98, -4.98, ..., -4.98, -4.98, -4.98],\n",
              "       ...,\n",
              "       [ 4.97,  4.97,  4.97, ...,  4.97,  4.97,  4.97],\n",
              "       [ 4.98,  4.98,  4.98, ...,  4.98,  4.98,  4.98],\n",
              "       [ 4.99,  4.99,  4.99, ...,  4.99,  4.99,  4.99]])"
            ]
          },
          "metadata": {
            "tags": []
          },
          "execution_count": 134
        }
      ]
    },
    {
      "cell_type": "code",
      "metadata": {
        "id": "Iwi_ZenXev3-",
        "colab": {
          "base_uri": "https://localhost:8080/",
          "height": 235
        },
        "outputId": "c40de6b4-ab03-4ca7-d1b3-0661a293c542"
      },
      "source": [
        "#computing sqrt of the squares sum\n",
        "z = np.sqrt(xs ** 2 + ys ** 2)\n",
        "z"
      ],
      "execution_count": null,
      "outputs": [
        {
          "output_type": "execute_result",
          "data": {
            "text/plain": [
              "array([[7.07106781, 7.06400028, 7.05693985, ..., 7.04988652, 7.05693985,\n",
              "        7.06400028],\n",
              "       [7.06400028, 7.05692568, 7.04985815, ..., 7.04279774, 7.04985815,\n",
              "        7.05692568],\n",
              "       [7.05693985, 7.04985815, 7.04278354, ..., 7.03571603, 7.04278354,\n",
              "        7.04985815],\n",
              "       ...,\n",
              "       [7.04988652, 7.04279774, 7.03571603, ..., 7.0286414 , 7.03571603,\n",
              "        7.04279774],\n",
              "       [7.05693985, 7.04985815, 7.04278354, ..., 7.03571603, 7.04278354,\n",
              "        7.04985815],\n",
              "       [7.06400028, 7.05692568, 7.04985815, ..., 7.04279774, 7.04985815,\n",
              "        7.05692568]])"
            ]
          },
          "metadata": {
            "tags": []
          },
          "execution_count": 135
        }
      ]
    },
    {
      "cell_type": "code",
      "metadata": {
        "id": "nxbcltqCe6Er"
      },
      "source": [
        "#creating visualization using matplotlib\n",
        "import matplotlib.pyplot as plt"
      ],
      "execution_count": null,
      "outputs": []
    },
    {
      "cell_type": "code",
      "metadata": {
        "id": "L4uhPSe_fNA0",
        "colab": {
          "base_uri": "https://localhost:8080/",
          "height": 305
        },
        "outputId": "be4b53ca-5337-417e-eda7-a8846b71dfc7"
      },
      "source": [
        "plt.imshow(z, cmap=plt.cm.gray); plt.colorbar()\n",
        "plt.title(\"Image plot of $\\sqrt{x^2 + y^2}$ for a grid of values\")"
      ],
      "execution_count": null,
      "outputs": [
        {
          "output_type": "execute_result",
          "data": {
            "text/plain": [
              "Text(0.5, 1.0, 'Image plot of $\\\\sqrt{x^2 + y^2}$ for a grid of values')"
            ]
          },
          "metadata": {
            "tags": []
          },
          "execution_count": 139
        },
        {
          "output_type": "display_data",
          "data": {
            "image/png": "[encoded data removed]",
            "text/plain": [
              "<Figure size 432x288 with 2 Axes>"
            ]
          },
          "metadata": {
            "tags": [],
            "needs_background": "light"
          }
        }
      ]
    },
    {
      "cell_type": "markdown",
      "metadata": {
        "id": "s67JHFJXfmzs"
      },
      "source": [
        "Expressing Conditional Logic as Array Operations"
      ]
    },
    {
      "cell_type": "code",
      "metadata": {
        "id": "x0C8UwzKfXnP"
      },
      "source": [
        "xarr = np.array([1.1, 1.2, 1.3, 1.4, 1.5])\n",
        "yarr = np.array([2.1, 2.2, 2.3, 2.4, 2.5])\n",
        "cond = np.array([True, False, True, True, False])"
      ],
      "execution_count": null,
      "outputs": []
    },
    {
      "cell_type": "code",
      "metadata": {
        "id": "gZaYQqAFf4iq",
        "colab": {
          "base_uri": "https://localhost:8080/",
          "height": 34
        },
        "outputId": "3be58b14-5d8c-4577-c906-498b8c6354cb"
      },
      "source": [
        "#Executing conditional statements\n",
        "result = [(x if c else y) for x,y,c in zip(xarr, yarr, cond)]\n",
        "result"
      ],
      "execution_count": null,
      "outputs": [
        {
          "output_type": "execute_result",
          "data": {
            "text/plain": [
              "[1.1, 2.2, 1.3, 1.4, 2.5]"
            ]
          },
          "metadata": {
            "tags": []
          },
          "execution_count": 141
        }
      ]
    },
    {
      "cell_type": "code",
      "metadata": {
        "id": "ruQ69kSmgROD",
        "colab": {
          "base_uri": "https://localhost:8080/",
          "height": 34
        },
        "outputId": "4425b8e6-cc0c-4ebc-e085-d7d3d164d718"
      },
      "source": [
        "#the above will not work on multidimensional array so use WHERE fun\n",
        "result = np.where(cond, xarr, yarr)\n",
        "result"
      ],
      "execution_count": null,
      "outputs": [
        {
          "output_type": "execute_result",
          "data": {
            "text/plain": [
              "array([1.1, 2.2, 1.3, 1.4, 2.5])"
            ]
          },
          "metadata": {
            "tags": []
          },
          "execution_count": 142
        }
      ]
    },
    {
      "cell_type": "code",
      "metadata": {
        "id": "Ee40IfeFgiZe",
        "colab": {
          "base_uri": "https://localhost:8080/",
          "height": 84
        },
        "outputId": "9824c3f5-0d07-463d-a7d4-8af55639fc66"
      },
      "source": [
        "#handling WHERE in multiple arrays\n",
        "arr = np.random.randn(4, 4)\n",
        "\n",
        "#if arr value is poisitve, replace with 2 else with false\n",
        "np.where(arr>0, 2, -2)"
      ],
      "execution_count": null,
      "outputs": [
        {
          "output_type": "execute_result",
          "data": {
            "text/plain": [
              "array([[-2, -2, -2, -2],\n",
              "       [ 2,  2,  2,  2],\n",
              "       [-2, -2,  2, -2],\n",
              "       [ 2,  2,  2,  2]])"
            ]
          },
          "metadata": {
            "tags": []
          },
          "execution_count": 143
        }
      ]
    },
    {
      "cell_type": "code",
      "metadata": {
        "id": "HE92Js4yhYby",
        "colab": {
          "base_uri": "https://localhost:8080/",
          "height": 84
        },
        "outputId": "828ef3a5-5901-43aa-82a9-d5d0c58b1cfd"
      },
      "source": [
        "#if arr val is +ve, set is 2 else leave is as original value\n",
        "np.where(arr > 0, 2, arr)"
      ],
      "execution_count": null,
      "outputs": [
        {
          "output_type": "execute_result",
          "data": {
            "text/plain": [
              "array([[-0.21604117, -0.05004536, -0.89349798, -0.10682878],\n",
              "       [ 2.        ,  2.        ,  2.        ,  2.        ],\n",
              "       [-1.37237704, -1.67289244,  2.        , -2.43508651],\n",
              "       [ 2.        ,  2.        ,  2.        ,  2.        ]])"
            ]
          },
          "metadata": {
            "tags": []
          },
          "execution_count": 144
        }
      ]
    },
    {
      "cell_type": "markdown",
      "metadata": {
        "id": "L2mcmBZMhlZf"
      },
      "source": [
        "Mathematical and Statistical Methods"
      ]
    },
    {
      "cell_type": "code",
      "metadata": {
        "id": "vc4NsW48hikh",
        "colab": {
          "base_uri": "https://localhost:8080/",
          "height": 101
        },
        "outputId": "fbfd3cb4-700b-4ad7-fb89-892ffe8bbfb0"
      },
      "source": [
        "#Executing regular aggregation functions\n",
        "arr = np.random.randn(5, 4)\n",
        "arr"
      ],
      "execution_count": null,
      "outputs": [
        {
          "output_type": "execute_result",
          "data": {
            "text/plain": [
              "array([[-0.3910786 ,  0.61395517,  0.32815157, -1.54555243],\n",
              "       [ 0.1335717 , -0.10907626,  0.84363914,  0.60906829],\n",
              "       [-0.99847013, -0.45575092,  1.80145787, -0.19565584],\n",
              "       [-0.92016115,  0.23891036,  0.38051666, -0.55189956],\n",
              "       [ 1.51225343,  0.51870814,  0.92187039,  0.82675863]])"
            ]
          },
          "metadata": {
            "tags": []
          },
          "execution_count": 145
        }
      ]
    },
    {
      "cell_type": "code",
      "metadata": {
        "id": "XH0VFix6hztH",
        "colab": {
          "base_uri": "https://localhost:8080/",
          "height": 34
        },
        "outputId": "c7fb3a54-bb8d-4ff0-b8a7-cdc5d9113d79"
      },
      "source": [
        "#Finding mean\n",
        "arr.mean()"
      ],
      "execution_count": null,
      "outputs": [
        {
          "output_type": "execute_result",
          "data": {
            "text/plain": [
              "0.17806082431008016"
            ]
          },
          "metadata": {
            "tags": []
          },
          "execution_count": 146
        }
      ]
    },
    {
      "cell_type": "code",
      "metadata": {
        "id": "LVpG7m5Ah4bF",
        "colab": {
          "base_uri": "https://localhost:8080/",
          "height": 34
        },
        "outputId": "37b4938b-e884-473a-a2ef-c3d2fa4b6b84"
      },
      "source": [
        "#finding mean using np function\n",
        "np.mean(arr)"
      ],
      "execution_count": null,
      "outputs": [
        {
          "output_type": "execute_result",
          "data": {
            "text/plain": [
              "0.17806082431008016"
            ]
          },
          "metadata": {
            "tags": []
          },
          "execution_count": 147
        }
      ]
    },
    {
      "cell_type": "code",
      "metadata": {
        "id": "2g49yUOYh8cD",
        "colab": {
          "base_uri": "https://localhost:8080/",
          "height": 34
        },
        "outputId": "fb3d9cac-ec31-48ef-b212-f9654613033b"
      },
      "source": [
        "#finding sum\n",
        "arr.sum()"
      ],
      "execution_count": null,
      "outputs": [
        {
          "output_type": "execute_result",
          "data": {
            "text/plain": [
              "3.5612164862016034"
            ]
          },
          "metadata": {
            "tags": []
          },
          "execution_count": 148
        }
      ]
    },
    {
      "cell_type": "code",
      "metadata": {
        "id": "N0FVLAd5iXQG",
        "colab": {
          "base_uri": "https://localhost:8080/",
          "height": 34
        },
        "outputId": "2aee2f6f-b7a1-46eb-c609-ec449cb9855a"
      },
      "source": [
        "#we can take mean and sum for axis\n",
        "\n",
        "#mean for every row\n",
        "arr.mean(axis=1)"
      ],
      "execution_count": null,
      "outputs": [
        {
          "output_type": "execute_result",
          "data": {
            "text/plain": [
              "array([-0.24863107,  0.36930072,  0.03789525, -0.21315842,  0.94489765])"
            ]
          },
          "metadata": {
            "tags": []
          },
          "execution_count": 149
        }
      ]
    },
    {
      "cell_type": "code",
      "metadata": {
        "id": "Pt1S_d9XilT3",
        "colab": {
          "base_uri": "https://localhost:8080/",
          "height": 34
        },
        "outputId": "7bc74147-677d-4470-f08f-44a63a6dbc9e"
      },
      "source": [
        "#sum for every column\n",
        "arr.sum(axis=0)"
      ],
      "execution_count": null,
      "outputs": [
        {
          "output_type": "execute_result",
          "data": {
            "text/plain": [
              "array([-0.66388474,  0.8067465 ,  4.27563564, -0.85728091])"
            ]
          },
          "metadata": {
            "tags": []
          },
          "execution_count": 150
        }
      ]
    },
    {
      "cell_type": "code",
      "metadata": {
        "id": "MUaAHCfLip_7",
        "colab": {
          "base_uri": "https://localhost:8080/",
          "height": 34
        },
        "outputId": "6a1f4812-818b-44fc-e3e1-209a72031bb3"
      },
      "source": [
        "#finding cumulative sum\n",
        "arr = np.array([0, 1, 2, 3, 4, 5, 6, 7])\n",
        "arr.cumsum()"
      ],
      "execution_count": null,
      "outputs": [
        {
          "output_type": "execute_result",
          "data": {
            "text/plain": [
              "array([ 0,  1,  3,  6, 10, 15, 21, 28])"
            ]
          },
          "metadata": {
            "tags": []
          },
          "execution_count": 151
        }
      ]
    },
    {
      "cell_type": "code",
      "metadata": {
        "id": "_lng7os0jAce",
        "colab": {
          "base_uri": "https://localhost:8080/",
          "height": 67
        },
        "outputId": "faf31336-f637-4c2b-f5d3-3562b3d368d8"
      },
      "source": [
        "#cumulative sum along the axis\n",
        "arr = np.array([[0, 1, 2], [3, 4, 5], [6, 7, 8]])\n",
        "arr"
      ],
      "execution_count": null,
      "outputs": [
        {
          "output_type": "execute_result",
          "data": {
            "text/plain": [
              "array([[0, 1, 2],\n",
              "       [3, 4, 5],\n",
              "       [6, 7, 8]])"
            ]
          },
          "metadata": {
            "tags": []
          },
          "execution_count": 152
        }
      ]
    },
    {
      "cell_type": "code",
      "metadata": {
        "id": "R-G7QVaAjXiM",
        "colab": {
          "base_uri": "https://localhost:8080/",
          "height": 67
        },
        "outputId": "7ef09712-1de9-45e0-f4c3-8d8c51b0c5cd"
      },
      "source": [
        "#finding cumulative sum for each column\n",
        "arr.cumsum(axis=0)"
      ],
      "execution_count": null,
      "outputs": [
        {
          "output_type": "execute_result",
          "data": {
            "text/plain": [
              "array([[ 0,  1,  2],\n",
              "       [ 3,  5,  7],\n",
              "       [ 9, 12, 15]])"
            ]
          },
          "metadata": {
            "tags": []
          },
          "execution_count": 153
        }
      ]
    },
    {
      "cell_type": "code",
      "metadata": {
        "id": "rgdoZ8aqjbO3",
        "colab": {
          "base_uri": "https://localhost:8080/",
          "height": 67
        },
        "outputId": "1d8a7f79-4c35-41c0-ef93-42cf180e3824"
      },
      "source": [
        "#finding cumulative productive along the rows\n",
        "arr.cumprod(axis=1)"
      ],
      "execution_count": null,
      "outputs": [
        {
          "output_type": "execute_result",
          "data": {
            "text/plain": [
              "array([[  0,   0,   0],\n",
              "       [  3,  12,  60],\n",
              "       [  6,  42, 336]])"
            ]
          },
          "metadata": {
            "tags": []
          },
          "execution_count": 154
        }
      ]
    },
    {
      "cell_type": "code",
      "metadata": {
        "id": "-nYX905Xjs92",
        "colab": {
          "base_uri": "https://localhost:8080/",
          "height": 34
        },
        "outputId": "15c34120-8ad6-4831-ba1f-4726217ccea5"
      },
      "source": [
        "#std deviation and variance\n",
        "arr.std()"
      ],
      "execution_count": null,
      "outputs": [
        {
          "output_type": "execute_result",
          "data": {
            "text/plain": [
              "2.581988897471611"
            ]
          },
          "metadata": {
            "tags": []
          },
          "execution_count": 155
        }
      ]
    },
    {
      "cell_type": "code",
      "metadata": {
        "id": "JP76uAdTj99T",
        "colab": {
          "base_uri": "https://localhost:8080/",
          "height": 34
        },
        "outputId": "9aa1c326-528f-4814-91b3-5db15abff4e1"
      },
      "source": [
        "arr.var()"
      ],
      "execution_count": null,
      "outputs": [
        {
          "output_type": "execute_result",
          "data": {
            "text/plain": [
              "6.666666666666667"
            ]
          },
          "metadata": {
            "tags": []
          },
          "execution_count": 156
        }
      ]
    },
    {
      "cell_type": "markdown",
      "metadata": {
        "id": "ZyF6cI0QkEoC"
      },
      "source": [
        "Methods for Boolean Arrays"
      ]
    },
    {
      "cell_type": "code",
      "metadata": {
        "id": "JarzHlltj_d5"
      },
      "source": [
        "arr = np.random.randn(100)"
      ],
      "execution_count": null,
      "outputs": []
    },
    {
      "cell_type": "code",
      "metadata": {
        "id": "Ygkd0_38kJPK",
        "colab": {
          "base_uri": "https://localhost:8080/",
          "height": 34
        },
        "outputId": "799bf4ed-3c78-46b0-8e58-35b90ee1f9ac"
      },
      "source": [
        "#finding number of positive values in the array based on boolean return\n",
        "(arr>0).sum()"
      ],
      "execution_count": null,
      "outputs": [
        {
          "output_type": "execute_result",
          "data": {
            "text/plain": [
              "55"
            ]
          },
          "metadata": {
            "tags": []
          },
          "execution_count": 158
        }
      ]
    },
    {
      "cell_type": "code",
      "metadata": {
        "id": "WCZoNg9AkREw",
        "colab": {
          "base_uri": "https://localhost:8080/",
          "height": 34
        },
        "outputId": "2a78edb1-3613-419a-f470-c0905fac9a8a"
      },
      "source": [
        "#any or all func\n",
        "#any - checks if even one value is TRUE\n",
        "#all - checks is all values are TRUE\n",
        "\n",
        "bools = np.array([False, False, True, False])\n",
        "bools.any()"
      ],
      "execution_count": null,
      "outputs": [
        {
          "output_type": "execute_result",
          "data": {
            "text/plain": [
              "True"
            ]
          },
          "metadata": {
            "tags": []
          },
          "execution_count": 159
        }
      ]
    },
    {
      "cell_type": "code",
      "metadata": {
        "id": "mvm7-tU8kh1i",
        "colab": {
          "base_uri": "https://localhost:8080/",
          "height": 34
        },
        "outputId": "e1b76fbd-a159-4443-b92a-b8808533fab2"
      },
      "source": [
        "bools.all()"
      ],
      "execution_count": null,
      "outputs": [
        {
          "output_type": "execute_result",
          "data": {
            "text/plain": [
              "False"
            ]
          },
          "metadata": {
            "tags": []
          },
          "execution_count": 160
        }
      ]
    },
    {
      "cell_type": "markdown",
      "metadata": {
        "id": "kLe7uGwYkq6P"
      },
      "source": [
        "SORTING"
      ]
    },
    {
      "cell_type": "code",
      "metadata": {
        "id": "zwkwUncokj9v",
        "colab": {
          "base_uri": "https://localhost:8080/",
          "height": 50
        },
        "outputId": "81afb0b5-c21e-4f5a-a24a-4370925ebd37"
      },
      "source": [
        "#Arranging the elements in increasing or decreasing order\n",
        "arr = np.random.randn(6)\n",
        "arr"
      ],
      "execution_count": null,
      "outputs": [
        {
          "output_type": "execute_result",
          "data": {
            "text/plain": [
              "array([1.67223304, 0.4974585 , 1.19179885, 0.45084197, 1.69373619,\n",
              "       1.43941078])"
            ]
          },
          "metadata": {
            "tags": []
          },
          "execution_count": 161
        }
      ]
    },
    {
      "cell_type": "code",
      "metadata": {
        "id": "ySB1yj3akykM"
      },
      "source": [
        "arr.sort()"
      ],
      "execution_count": null,
      "outputs": []
    },
    {
      "cell_type": "code",
      "metadata": {
        "id": "YIp9zOp9k0Qp",
        "colab": {
          "base_uri": "https://localhost:8080/",
          "height": 50
        },
        "outputId": "7b53e8c3-f020-4864-b8e3-b000a29cb888"
      },
      "source": [
        "arr"
      ],
      "execution_count": null,
      "outputs": [
        {
          "output_type": "execute_result",
          "data": {
            "text/plain": [
              "array([0.45084197, 0.4974585 , 1.19179885, 1.43941078, 1.67223304,\n",
              "       1.69373619])"
            ]
          },
          "metadata": {
            "tags": []
          },
          "execution_count": 163
        }
      ]
    },
    {
      "cell_type": "code",
      "metadata": {
        "id": "QwsIXD1xk1q7",
        "colab": {
          "base_uri": "https://localhost:8080/",
          "height": 101
        },
        "outputId": "3401cc37-ea5a-4851-e4dd-5865a20d41fc"
      },
      "source": [
        "#multidimensional array sorting along each row or column\n",
        "arr = np.random.randn(5, 3)\n",
        "arr"
      ],
      "execution_count": null,
      "outputs": [
        {
          "output_type": "execute_result",
          "data": {
            "text/plain": [
              "array([[-1.1362739 , -1.11075318,  0.60633461],\n",
              "       [-0.22429601, -0.39701654, -0.17058264],\n",
              "       [-0.60389118,  0.54347525, -0.25648543],\n",
              "       [ 0.79807335,  0.44174964,  0.40546838],\n",
              "       [ 0.50179908, -0.65270874, -1.37530812]])"
            ]
          },
          "metadata": {
            "tags": []
          },
          "execution_count": 164
        }
      ]
    },
    {
      "cell_type": "code",
      "metadata": {
        "id": "upOgOya0k-Sx"
      },
      "source": [
        "#row wise sorting in ascending order\n",
        "arr.sort(1)"
      ],
      "execution_count": null,
      "outputs": []
    },
    {
      "cell_type": "code",
      "metadata": {
        "id": "Cl_QPpgalAg0",
        "colab": {
          "base_uri": "https://localhost:8080/",
          "height": 101
        },
        "outputId": "e4959501-00e3-4203-873f-728a5f689a4d"
      },
      "source": [
        "arr"
      ],
      "execution_count": null,
      "outputs": [
        {
          "output_type": "execute_result",
          "data": {
            "text/plain": [
              "array([[-1.1362739 , -1.11075318,  0.60633461],\n",
              "       [-0.39701654, -0.22429601, -0.17058264],\n",
              "       [-0.60389118, -0.25648543,  0.54347525],\n",
              "       [ 0.40546838,  0.44174964,  0.79807335],\n",
              "       [-1.37530812, -0.65270874,  0.50179908]])"
            ]
          },
          "metadata": {
            "tags": []
          },
          "execution_count": 166
        }
      ]
    },
    {
      "cell_type": "markdown",
      "metadata": {
        "id": "ebGyjGTblSiq"
      },
      "source": [
        "Unique and Other Set Logic"
      ]
    },
    {
      "cell_type": "code",
      "metadata": {
        "id": "YRJ7hHr0lBj9"
      },
      "source": [
        "names = np.array(['Bob', 'Joe', 'Will', 'Bob', 'Will', 'Joe', 'Joe'])"
      ],
      "execution_count": null,
      "outputs": []
    },
    {
      "cell_type": "code",
      "metadata": {
        "id": "sBA5jLD-lfc8",
        "colab": {
          "base_uri": "https://localhost:8080/",
          "height": 34
        },
        "outputId": "f6dbad9d-0010-44a7-94da-9453ae756dd9"
      },
      "source": [
        "#finding unique names\n",
        "np.unique(names)"
      ],
      "execution_count": null,
      "outputs": [
        {
          "output_type": "execute_result",
          "data": {
            "text/plain": [
              "array(['Bob', 'Joe', 'Will'], dtype='<U4')"
            ]
          },
          "metadata": {
            "tags": []
          },
          "execution_count": 168
        }
      ]
    },
    {
      "cell_type": "code",
      "metadata": {
        "id": "TshTtbQ3lisk"
      },
      "source": [
        "ints = np.array([3, 3, 3, 2, 2, 1, 1, 4, 4])"
      ],
      "execution_count": null,
      "outputs": []
    },
    {
      "cell_type": "code",
      "metadata": {
        "id": "a0eFisZylnz-",
        "colab": {
          "base_uri": "https://localhost:8080/",
          "height": 34
        },
        "outputId": "06cce9ba-07cf-4287-9aaa-333fc171288a"
      },
      "source": [
        "np.unique(ints)"
      ],
      "execution_count": null,
      "outputs": [
        {
          "output_type": "execute_result",
          "data": {
            "text/plain": [
              "array([1, 2, 3, 4])"
            ]
          },
          "metadata": {
            "tags": []
          },
          "execution_count": 170
        }
      ]
    },
    {
      "cell_type": "code",
      "metadata": {
        "id": "-R3Ne5t6lpqH",
        "colab": {
          "base_uri": "https://localhost:8080/",
          "height": 34
        },
        "outputId": "59834ee3-4d8f-4c5f-bbaf-55b7a85502ed"
      },
      "source": [
        "#Another way of finding unique - finding set of unique elements and then sort\n",
        "sorted(set(names))"
      ],
      "execution_count": null,
      "outputs": [
        {
          "output_type": "execute_result",
          "data": {
            "text/plain": [
              "['Bob', 'Joe', 'Will']"
            ]
          },
          "metadata": {
            "tags": []
          },
          "execution_count": 171
        }
      ]
    },
    {
      "cell_type": "code",
      "metadata": {
        "id": "xvo67zthlz8e",
        "colab": {
          "base_uri": "https://localhost:8080/",
          "height": 34
        },
        "outputId": "f23c3b39-7a90-46a6-ff30-ba0381147017"
      },
      "source": [
        "#np.in1d, tests membership of the values in one array in another, returning a boolean array\n",
        "values = np.array([6, 0, 0, 3, 2, 5, 6])\n",
        "np.in1d(values, [2, 3, 6])"
      ],
      "execution_count": null,
      "outputs": [
        {
          "output_type": "execute_result",
          "data": {
            "text/plain": [
              "array([ True, False, False,  True,  True, False,  True])"
            ]
          },
          "metadata": {
            "tags": []
          },
          "execution_count": 172
        }
      ]
    },
    {
      "cell_type": "code",
      "metadata": {
        "id": "2lNipHysmCQC",
        "colab": {
          "base_uri": "https://localhost:8080/",
          "height": 34
        },
        "outputId": "2847464b-6e38-4f64-f5c7-d29c78c4dc55"
      },
      "source": [
        "values"
      ],
      "execution_count": null,
      "outputs": [
        {
          "output_type": "execute_result",
          "data": {
            "text/plain": [
              "array([6, 0, 0, 3, 2, 5, 6])"
            ]
          },
          "metadata": {
            "tags": []
          },
          "execution_count": 173
        }
      ]
    },
    {
      "cell_type": "code",
      "metadata": {
        "id": "lZ4xIaHmmQ7a",
        "colab": {
          "base_uri": "https://localhost:8080/",
          "height": 34
        },
        "outputId": "8a31103b-d39a-4d07-e0e5-d03e4b1bf883"
      },
      "source": [
        "ints"
      ],
      "execution_count": null,
      "outputs": [
        {
          "output_type": "execute_result",
          "data": {
            "text/plain": [
              "array([3, 3, 3, 2, 2, 1, 1, 4, 4])"
            ]
          },
          "metadata": {
            "tags": []
          },
          "execution_count": 174
        }
      ]
    },
    {
      "cell_type": "code",
      "metadata": {
        "id": "Ya9QqqYHmUX5",
        "colab": {
          "base_uri": "https://localhost:8080/",
          "height": 34
        },
        "outputId": "564bb4ac-c5b4-4ee3-d7d7-51ed7d869096"
      },
      "source": [
        "#finding instersection\n",
        "np.intersect1d(ints, values)"
      ],
      "execution_count": null,
      "outputs": [
        {
          "output_type": "execute_result",
          "data": {
            "text/plain": [
              "array([2, 3])"
            ]
          },
          "metadata": {
            "tags": []
          },
          "execution_count": 177
        }
      ]
    },
    {
      "cell_type": "code",
      "metadata": {
        "id": "qShTNNX_mZtz",
        "colab": {
          "base_uri": "https://localhost:8080/",
          "height": 34
        },
        "outputId": "aa6208fe-e1b4-4f04-cbed-87de0535f063"
      },
      "source": [
        "#finding union\n",
        "np.union1d(ints, values)"
      ],
      "execution_count": null,
      "outputs": [
        {
          "output_type": "execute_result",
          "data": {
            "text/plain": [
              "array([0, 1, 2, 3, 4, 5, 6])"
            ]
          },
          "metadata": {
            "tags": []
          },
          "execution_count": 178
        }
      ]
    },
    {
      "cell_type": "code",
      "metadata": {
        "id": "r97-inAtmpwM",
        "colab": {
          "base_uri": "https://localhost:8080/",
          "height": 34
        },
        "outputId": "f3b0971e-5840-45e5-960a-764c61b8bb69"
      },
      "source": [
        "#finding set difference i.e. ele in arr1 that are not in arr2\n",
        "np.setdiff1d(ints, values)"
      ],
      "execution_count": null,
      "outputs": [
        {
          "output_type": "execute_result",
          "data": {
            "text/plain": [
              "array([1, 4])"
            ]
          },
          "metadata": {
            "tags": []
          },
          "execution_count": 179
        }
      ]
    },
    {
      "cell_type": "code",
      "metadata": {
        "id": "HyQ-u4hemxKT",
        "colab": {
          "base_uri": "https://localhost:8080/",
          "height": 34
        },
        "outputId": "7715d9f3-e710-4c16-d082-22186d3bede0"
      },
      "source": [
        "#finding symmetric differences i.e. ele in either array but not both\n",
        "np.setxor1d(ints, values)"
      ],
      "execution_count": null,
      "outputs": [
        {
          "output_type": "execute_result",
          "data": {
            "text/plain": [
              "array([0, 1, 4, 5, 6])"
            ]
          },
          "metadata": {
            "tags": []
          },
          "execution_count": 180
        }
      ]
    },
    {
      "cell_type": "markdown",
      "metadata": {
        "id": "FKgoAr7AnDVX"
      },
      "source": [
        "**4.4 File Input & Ouput with Arrays**"
      ]
    },
    {
      "cell_type": "markdown",
      "metadata": {
        "id": "BHsPGK6LnPHo"
      },
      "source": [
        "NumPy is able to save and load data to and from disk either in text or binary format."
      ]
    },
    {
      "cell_type": "code",
      "metadata": {
        "id": "slCRMH3Hm8x-"
      },
      "source": [
        "#some_array.npy will be created which is an uncompressed raw binary format\n",
        "#by default it gets stored in the current working space\n",
        "arr = np.arange(10)\n",
        "np.save('some_array', arr)"
      ],
      "execution_count": null,
      "outputs": []
    },
    {
      "cell_type": "code",
      "metadata": {
        "id": "z9BvHGEdnbGJ",
        "colab": {
          "base_uri": "https://localhost:8080/",
          "height": 34
        },
        "outputId": "025ec8f0-8ace-4365-85bd-571c7793f032"
      },
      "source": [
        "#loading the file\n",
        "np.load('some_array.npy')"
      ],
      "execution_count": null,
      "outputs": [
        {
          "output_type": "execute_result",
          "data": {
            "text/plain": [
              "array([0, 1, 2, 3, 4, 5, 6, 7, 8, 9])"
            ]
          },
          "metadata": {
            "tags": []
          },
          "execution_count": 182
        }
      ]
    },
    {
      "cell_type": "code",
      "metadata": {
        "id": "H7Kc664OoA8j"
      },
      "source": [
        "#save multiple arrays in an uncompressed archive using np.savez and passing the\n",
        "#arrays as keyword arguments\n",
        "np.savez('array_archive.npz', a=arr, b=arr)"
      ],
      "execution_count": null,
      "outputs": []
    },
    {
      "cell_type": "code",
      "metadata": {
        "id": "YF6p8UnPoMzc",
        "colab": {
          "base_uri": "https://localhost:8080/",
          "height": 34
        },
        "outputId": "3779ce54-37f9-48de-8578-dd556299c52a"
      },
      "source": [
        "#loading the array\n",
        "arch = np.load('array_archive.npz')\n",
        "arch['b']"
      ],
      "execution_count": null,
      "outputs": [
        {
          "output_type": "execute_result",
          "data": {
            "text/plain": [
              "array([0, 1, 2, 3, 4, 5, 6, 7, 8, 9])"
            ]
          },
          "metadata": {
            "tags": []
          },
          "execution_count": 184
        }
      ]
    },
    {
      "cell_type": "code",
      "metadata": {
        "id": "2cdrbGweoSfb"
      },
      "source": [
        ""
      ],
      "execution_count": null,
      "outputs": []
    }
  ]
}