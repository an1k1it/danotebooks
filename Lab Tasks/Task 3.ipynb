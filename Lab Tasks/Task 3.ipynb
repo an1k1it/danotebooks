{
 "cells": [
  {
   "cell_type": "markdown",
   "metadata": {
    "id": "Sb9Quv-R3zid"
   },
   "source": [
    "Name - Ankit\n",
    "Roll No.-19MTS5630\n",
    "Class-BSc Mathematical Science 2nd year(3rd sem)\n",
    "Date-07 Sept 2020"
   ]
  },
  {
   "cell_type": "code",
   "execution_count": null,
   "metadata": {
    "id": "387XDLjM34Lr"
   },
   "outputs": [],
   "source": [
    "import pandas as pd\n",
    "from pandas import Series, DataFrame"
   ]
  },
  {
   "cell_type": "code",
   "execution_count": null,
   "metadata": {
    "id": "s8IuTtDi4KP5"
   },
   "outputs": [],
   "source": [
    "\n"
   ]
  },
  {
   "cell_type": "markdown",
   "metadata": {
    "id": "TohYQ8se39j3"
   },
   "source": [
    "\n",
    "1. Create a Series of 10 elements and change their default index from numeric to alphabets starting from 'a'."
   ]
  },
  {
   "cell_type": "code",
   "execution_count": null,
   "metadata": {
    "colab": {
     "base_uri": "https://localhost:8080/",
     "height": 202
    },
    "id": "xQDlrhWX35pk",
    "outputId": "a31e1920-0600-4674-dc20-2e81259d5bff"
   },
   "outputs": [
    {
     "data": {
      "text/plain": [
       "0    0\n",
       "1    1\n",
       "2    2\n",
       "3    3\n",
       "4    4\n",
       "5    5\n",
       "6    6\n",
       "7    7\n",
       "8    8\n",
       "9    9\n",
       "dtype: int64"
      ]
     },
     "execution_count": 160,
     "metadata": {
      "tags": []
     },
     "output_type": "execute_result"
    }
   ],
   "source": [
    "sdata=np.arange(10)\n",
    "obj=pd.Series(sdata)\n",
    "obj"
   ]
  },
  {
   "cell_type": "code",
   "execution_count": null,
   "metadata": {
    "colab": {
     "base_uri": "https://localhost:8080/",
     "height": 34
    },
    "id": "umgH37dP4zbu",
    "outputId": "df6833ff-64ca-41de-f59c-6e67b05d3f39"
   },
   "outputs": [
    {
     "data": {
      "text/plain": [
       "RangeIndex(start=0, stop=10, step=1)"
      ]
     },
     "execution_count": 41,
     "metadata": {
      "tags": []
     },
     "output_type": "execute_result"
    }
   ],
   "source": [
    "obj.index"
   ]
  },
  {
   "cell_type": "code",
   "execution_count": null,
   "metadata": {
    "colab": {
     "base_uri": "https://localhost:8080/",
     "height": 202
    },
    "id": "99ISWJhO41MN",
    "outputId": "e2496b1a-3608-43d3-bbf9-81b6ef46b76c"
   },
   "outputs": [
    {
     "data": {
      "text/plain": [
       "0    0\n",
       "1    1\n",
       "2    2\n",
       "3    3\n",
       "4    4\n",
       "5    5\n",
       "6    6\n",
       "7    7\n",
       "8    8\n",
       "9    9\n",
       "dtype: int64"
      ]
     },
     "execution_count": 162,
     "metadata": {
      "tags": []
     },
     "output_type": "execute_result"
    }
   ],
   "source": [
    "obj.reindex=['a', 'b', 'c', 'd', 'e','f','g','h','i','j']\n",
    "obj"
   ]
  },
  {
   "cell_type": "markdown",
   "metadata": {
    "id": "Oxz4vsX95Tc6"
   },
   "source": [
    "2. Create a series of the following batting averages with batsmen name as the key. Name the index as Batsmen and value as Batting Average.\n",
    "(Rohit: 152, Shikhar: 102, Virat: 170, Shreyas: 95, Rishabh: 125, Hardik: 112, Ravindra: 88, Bhuvaneshwar: 75, Kuldeep: 67, Shami: 59, Bumrah: 12)\n",
    "Perform the following operations on the Series created.\n"
   ]
  },
  {
   "cell_type": "code",
   "execution_count": null,
   "metadata": {
    "colab": {
     "base_uri": "https://localhost:8080/",
     "height": 235
    },
    "id": "g1XqX9dh7C5u",
    "outputId": "c4ca740f-45bf-47cf-f186-424c391e3425"
   },
   "outputs": [
    {
     "data": {
      "text/plain": [
       "Batsmen\n",
       "Rohit           152\n",
       "Shikhar         102\n",
       "Virat           170\n",
       "Shreyas          95\n",
       "Rishabh         125\n",
       "Hardik          112\n",
       "Ravindra         88\n",
       "Bhuvaneshwar     75\n",
       "Kuldeep          67\n",
       "Shami            59\n",
       "Bumrah           12\n",
       "Name: Batting Average, dtype: int64"
      ]
     },
     "execution_count": 176,
     "metadata": {
      "tags": []
     },
     "output_type": "execute_result"
    }
   ],
   "source": [
    "data={'Rohit' : 152, 'Shikhar' : 102, 'Virat': 170, 'Shreyas': 95, 'Rishabh':125, 'Hardik':112, 'Ravindra': 88, 'Bhuvaneshwar': 75, 'Kuldeep':67, 'Shami':59, 'Bumrah':12}\n",
    "batdata=pd.Series(data)\n",
    "batdata.index.name=\"Batsmen\"\n",
    "batdata.name=\"Batting Average\"\n",
    "batdata \n"
   ]
  },
  {
   "cell_type": "markdown",
   "metadata": {
    "id": "8KSvSgYQ5VAu"
   },
   "source": [
    "(a) Display the list of Batsmen with more than 100 as batting average\n"
   ]
  },
  {
   "cell_type": "code",
   "execution_count": null,
   "metadata": {
    "colab": {
     "base_uri": "https://localhost:8080/",
     "height": 134
    },
    "id": "BqfT6TJ28csp",
    "outputId": "66bc29b2-fff3-468f-ebf9-21dad8990a59"
   },
   "outputs": [
    {
     "data": {
      "text/plain": [
       "Batsmen\n",
       "Rohit      152\n",
       "Shikhar    102\n",
       "Virat      170\n",
       "Rishabh    125\n",
       "Hardik     112\n",
       "Name: Batting Average, dtype: int64"
      ]
     },
     "execution_count": 169,
     "metadata": {
      "tags": []
     },
     "output_type": "execute_result"
    }
   ],
   "source": [
    "batdata[batdata>100]"
   ]
  },
  {
   "cell_type": "markdown",
   "metadata": {
    "id": "uyOF59QJ5ZiN"
   },
   "source": [
    "(b) Display the list of Batsmen with less than 90 as batting average\n"
   ]
  },
  {
   "cell_type": "code",
   "execution_count": null,
   "metadata": {
    "colab": {
     "base_uri": "https://localhost:8080/",
     "height": 134
    },
    "id": "QSZRVXx38rVX",
    "outputId": "e4595cc1-817c-471f-b55c-b7592a0f8436"
   },
   "outputs": [
    {
     "data": {
      "text/plain": [
       "Batsmen\n",
       "Ravindra        88\n",
       "Bhuvaneshwar    75\n",
       "Kuldeep         67\n",
       "Shami           59\n",
       "Bumrah          12\n",
       "Name: Batting Average, dtype: int64"
      ]
     },
     "execution_count": 170,
     "metadata": {
      "tags": []
     },
     "output_type": "execute_result"
    }
   ],
   "source": [
    "batdata[batdata<90]"
   ]
  },
  {
   "cell_type": "markdown",
   "metadata": {
    "id": "uimou3B65dno"
   },
   "source": [
    "(c) Due to the good performance of the top six batsmen, increase their average by 25%\n"
   ]
  },
  {
   "cell_type": "code",
   "execution_count": null,
   "metadata": {
    "colab": {
     "base_uri": "https://localhost:8080/",
     "height": 151
    },
    "id": "3VZ17H-dG4Um",
    "outputId": "cf403c9c-229a-4025-f5da-a4eb5bff00a3"
   },
   "outputs": [
    {
     "data": {
      "text/plain": [
       "Batsmen\n",
       "Rohit      190.00\n",
       "Shikhar    127.50\n",
       "Virat      212.50\n",
       "Shreyas    118.75\n",
       "Rishabh    156.25\n",
       "Hardik     140.00\n",
       "Name: Batting Average, dtype: float64"
      ]
     },
     "execution_count": 177,
     "metadata": {
      "tags": []
     },
     "output_type": "execute_result"
    }
   ],
   "source": [
    "batdata.head(6)*1.25\n",
    "\n"
   ]
  },
  {
   "cell_type": "markdown",
   "metadata": {
    "id": "mRqOoJEA5gcX"
   },
   "source": [
    "(d) Due to the poor performance of the bottom three batsmen, decrease their average by 10%\n"
   ]
  },
  {
   "cell_type": "code",
   "execution_count": null,
   "metadata": {
    "colab": {
     "base_uri": "https://localhost:8080/",
     "height": 101
    },
    "id": "iuMj6mIpADiW",
    "outputId": "17d374d6-7263-4504-f2df-b342d9ef9df6"
   },
   "outputs": [
    {
     "data": {
      "text/plain": [
       "Batsmen\n",
       "Kuldeep    60.3\n",
       "Shami      53.1\n",
       "Bumrah     10.8\n",
       "Name: Batting Average, dtype: float64"
      ]
     },
     "execution_count": 178,
     "metadata": {
      "tags": []
     },
     "output_type": "execute_result"
    }
   ],
   "source": [
    "batdata.tail(3)*0.9\n"
   ]
  },
  {
   "cell_type": "markdown",
   "metadata": {
    "id": "sBK62ucd5iS_"
   },
   "source": [
    "(e) Include a 12th man named 'Chahal' in the list without any batting average and display the new list\n"
   ]
  },
  {
   "cell_type": "code",
   "execution_count": null,
   "metadata": {
    "colab": {
     "base_uri": "https://localhost:8080/",
     "height": 252
    },
    "id": "PdEfzvky874n",
    "outputId": "c75d9873-d2d2-4e52-c35f-e6b5f8d54c54"
   },
   "outputs": [
    {
     "data": {
      "text/plain": [
       "Batsmen\n",
       "Rohit           152.0\n",
       "Shikhar         102.0\n",
       "Virat           170.0\n",
       "Shreyas          95.0\n",
       "Rishabh         125.0\n",
       "Hardik          112.0\n",
       "Ravindra         88.0\n",
       "Bhuvaneshwar     75.0\n",
       "Kuldeep          67.0\n",
       "Shami            59.0\n",
       "Bumrah           12.0\n",
       "Chahal            NaN\n",
       "Name: Batting Average, dtype: float64"
      ]
     },
     "execution_count": 179,
     "metadata": {
      "tags": []
     },
     "output_type": "execute_result"
    }
   ],
   "source": [
    "batdata=batdata.reindex(['Rohit','Shikhar','Virat','Shreyas','Rishabh','Hardik','Ravindra','Bhuvaneshwar','Kuldeep','Shami','Bumrah','Chahal'])\n",
    "batdata"
   ]
  },
  {
   "cell_type": "markdown",
   "metadata": {
    "id": "a7NjLUjf5k0c"
   },
   "source": [
    "(f) Display how many batting averages are NULL in the list\n"
   ]
  },
  {
   "cell_type": "code",
   "execution_count": null,
   "metadata": {
    "colab": {
     "base_uri": "https://localhost:8080/",
     "height": 252
    },
    "id": "s-Lno3Mt88ie",
    "outputId": "2369eb12-c094-470c-ea31-b2be5ed02659"
   },
   "outputs": [
    {
     "data": {
      "text/plain": [
       "Batsmen\n",
       "Rohit           False\n",
       "Shikhar         False\n",
       "Virat           False\n",
       "Shreyas         False\n",
       "Rishabh         False\n",
       "Hardik          False\n",
       "Ravindra        False\n",
       "Bhuvaneshwar    False\n",
       "Kuldeep         False\n",
       "Shami           False\n",
       "Bumrah          False\n",
       "Chahal           True\n",
       "Name: Batting Average, dtype: bool"
      ]
     },
     "execution_count": 180,
     "metadata": {
      "tags": []
     },
     "output_type": "execute_result"
    }
   ],
   "source": [
    "batdata.isnull()"
   ]
  },
  {
   "cell_type": "markdown",
   "metadata": {
    "id": "U4ioFa3b5mkk"
   },
   "source": [
    "(g) Display how many batting averages are NOT NULL in the list \n"
   ]
  },
  {
   "cell_type": "code",
   "execution_count": null,
   "metadata": {
    "colab": {
     "base_uri": "https://localhost:8080/",
     "height": 252
    },
    "id": "NVwUMS-V8--I",
    "outputId": "97d58b8b-afa5-485c-ff59-bfed742e0bb3"
   },
   "outputs": [
    {
     "data": {
      "text/plain": [
       "Batsmen\n",
       "Rohit            True\n",
       "Shikhar          True\n",
       "Virat            True\n",
       "Shreyas          True\n",
       "Rishabh          True\n",
       "Hardik           True\n",
       "Ravindra         True\n",
       "Bhuvaneshwar     True\n",
       "Kuldeep          True\n",
       "Shami            True\n",
       "Bumrah           True\n",
       "Chahal          False\n",
       "Name: Batting Average, dtype: bool"
      ]
     },
     "execution_count": 181,
     "metadata": {
      "tags": []
     },
     "output_type": "execute_result"
    }
   ],
   "source": [
    "batdata.notnull()"
   ]
  },
  {
   "cell_type": "markdown",
   "metadata": {
    "id": "YQV3ZiVD5oT2"
   },
   "source": [
    "(h) Due to injury to Shikhar, he was replaced by \"Rahul\" having a batting average of 120. Change that in the series and display the new series."
   ]
  },
  {
   "cell_type": "code",
   "execution_count": null,
   "metadata": {
    "colab": {
     "base_uri": "https://localhost:8080/",
     "height": 235
    },
    "id": "xg0lEtED9AmW",
    "outputId": "536e0929-e8ad-4301-a65a-914a9aab0489"
   },
   "outputs": [
    {
     "data": {
      "text/plain": [
       "Rohit           152.0\n",
       "Rahul           120.0\n",
       "Virat           170.0\n",
       "Shreyas          95.0\n",
       "Rishabh         125.0\n",
       "Hardik          112.0\n",
       "Ravindra         88.0\n",
       "Bhuvaneshwar     75.0\n",
       "Kuldeep          67.0\n",
       "Shami            59.0\n",
       "Bumrah           12.0\n",
       "Chahal            NaN\n",
       "Name: Batting Average, dtype: float64"
      ]
     },
     "execution_count": 182,
     "metadata": {
      "tags": []
     },
     "output_type": "execute_result"
    }
   ],
   "source": [
    "\n",
    "batdata.index=['Rohit', 'Rahul', 'Virat', 'Shreyas', 'Rishabh', 'Hardik', 'Ravindra',\n",
    "       'Bhuvaneshwar', 'Kuldeep', 'Shami', 'Bumrah','Chahal']\n",
    "batdata['Rahul']=120\n",
    "batdata"
   ]
  },
  {
   "cell_type": "markdown",
   "metadata": {
    "id": "YF1aBiRR5p10"
   },
   "source": [
    "3. Create another series of bowling average of the same team having the following averages.\n",
    "(Rohit: 102, Shikhar: 100, Virat: 121, Shreyas: 112, Rishabh: 100, Hardik: 42, Ravindra: 41, Bhuvaneshwar: 32, Kuldeep: 36, Shami: 27, Bumrah: 19)"
   ]
  },
  {
   "cell_type": "code",
   "execution_count": null,
   "metadata": {
    "colab": {
     "base_uri": "https://localhost:8080/",
     "height": 218
    },
    "id": "oVFXYHw79U1P",
    "outputId": "e8a30e0e-01f0-4aeb-c5af-f22e084bc311"
   },
   "outputs": [
    {
     "data": {
      "text/plain": [
       "Rohit           102\n",
       "Shikhar         100\n",
       "Virat           121\n",
       "Shreyas         112\n",
       "Rishabh         100\n",
       "Hardik           42\n",
       "Ravindra         41\n",
       "Bhuvaneshwar     32\n",
       "Kuldeep          36\n",
       "Shami            27\n",
       "Bumrah           19\n",
       "dtype: int64"
      ]
     },
     "execution_count": 165,
     "metadata": {
      "tags": []
     },
     "output_type": "execute_result"
    }
   ],
   "source": [
    "data2={'Rohit': 102, 'Shikhar': 100, 'Virat': 121, 'Shreyas': 112, 'Rishabh': 100, 'Hardik': 42, 'Ravindra': 41, 'Bhuvaneshwar': 32, 'Kuldeep': 36, 'Shami': 27, 'Bumrah': 19}\n",
    "boldata=pd.Series(data2)\n",
    "boldata"
   ]
  },
  {
   "cell_type": "markdown",
   "metadata": {
    "id": "qlfU3lsy5sqh"
   },
   "source": [
    "(a) Find out the ratio of the batting/bowling average for the two series"
   ]
  },
  {
   "cell_type": "code",
   "execution_count": null,
   "metadata": {
    "colab": {
     "base_uri": "https://localhost:8080/",
     "height": 252
    },
    "id": "qRyueWh-9UZm",
    "outputId": "0b141ab6-3606-4ea4-b484-d3a777b5d909"
   },
   "outputs": [
    {
     "data": {
      "text/plain": [
       "Bhuvaneshwar    2.343750\n",
       "Bumrah          0.631579\n",
       "Chahal               NaN\n",
       "Hardik          2.666667\n",
       "Kuldeep         1.861111\n",
       "Rahul                NaN\n",
       "Ravindra        2.146341\n",
       "Rishabh         1.250000\n",
       "Rohit           1.490196\n",
       "Shami           2.185185\n",
       "Shikhar              NaN\n",
       "Shreyas         0.848214\n",
       "Virat           1.404959\n",
       "dtype: float64"
      ]
     },
     "execution_count": 183,
     "metadata": {
      "tags": []
     },
     "output_type": "execute_result"
    }
   ],
   "source": [
    "batdata/boldata"
   ]
  },
  {
   "cell_type": "markdown",
   "metadata": {
    "id": "WBGS9Trx6Bs2"
   },
   "source": [
    "(b) Find out the difference of the batting & bowling average for the two series\n"
   ]
  },
  {
   "cell_type": "code",
   "execution_count": null,
   "metadata": {
    "colab": {
     "base_uri": "https://localhost:8080/",
     "height": 252
    },
    "id": "XR-vb2AI9lcf",
    "outputId": "963b8a06-8603-442d-de35-839b83519f10"
   },
   "outputs": [
    {
     "data": {
      "text/plain": [
       "Bhuvaneshwar    43.0\n",
       "Bumrah          -7.0\n",
       "Chahal           NaN\n",
       "Hardik          70.0\n",
       "Kuldeep         31.0\n",
       "Rahul            NaN\n",
       "Ravindra        47.0\n",
       "Rishabh         25.0\n",
       "Rohit           50.0\n",
       "Shami           32.0\n",
       "Shikhar          NaN\n",
       "Shreyas        -17.0\n",
       "Virat           49.0\n",
       "dtype: float64"
      ]
     },
     "execution_count": 184,
     "metadata": {
      "tags": []
     },
     "output_type": "execute_result"
    }
   ],
   "source": [
    "batdata-boldata"
   ]
  },
  {
   "cell_type": "markdown",
   "metadata": {
    "id": "mLA3Wuei6Ett"
   },
   "source": [
    "(c) Display the players having the ratio of the two averages of more than 1.5"
   ]
  },
  {
   "cell_type": "code",
   "execution_count": null,
   "metadata": {
    "colab": {
     "base_uri": "https://localhost:8080/",
     "height": 252
    },
    "id": "fOknv5qp9l5H",
    "outputId": "fedaf1d4-4b35-41e1-907f-3bb790245b90"
   },
   "outputs": [
    {
     "data": {
      "text/plain": [
       "Bhuvaneshwar     True\n",
       "Bumrah          False\n",
       "Chahal          False\n",
       "Hardik           True\n",
       "Kuldeep          True\n",
       "Rahul           False\n",
       "Ravindra         True\n",
       "Rishabh         False\n",
       "Rohit           False\n",
       "Shami            True\n",
       "Shikhar         False\n",
       "Shreyas         False\n",
       "Virat           False\n",
       "dtype: bool"
      ]
     },
     "execution_count": 185,
     "metadata": {
      "tags": []
     },
     "output_type": "execute_result"
    }
   ],
   "source": [
    "batdata/boldata>1.5"
   ]
  },
  {
   "cell_type": "markdown",
   "metadata": {
    "id": "MS99WkNf6Fl7"
   },
   "source": [
    "4. Create a dataframe of 10 students for their complete graduation (3 years) with 3 columns - Name, Year, Percentage \n",
    "e.g. (Ram, 2017, 75), (Ram, 2018, 77), (Ram, 2019, 80), (Reeta, 2017, 83), (Reeta, 2018, 89), (Reeta, 2019, 85), etc. (This will make 30 entries in the dataframe for the 10 students across 3 years [2017-2018-2019])\n",
    "Perform the following operations.\n"
   ]
  },
  {
   "cell_type": "code",
   "execution_count": null,
   "metadata": {
    "colab": {
     "base_uri": "https://localhost:8080/",
     "height": 935
    },
    "id": "qsDHcxH7Owd7",
    "outputId": "6528de53-0643-4338-e8a0-c7717d2ae7c4"
   },
   "outputs": [
    {
     "data": {
      "text/html": [
       "<div>\n",
       "<style scoped>\n",
       "    .dataframe tbody tr th:only-of-type {\n",
       "        vertical-align: middle;\n",
       "    }\n",
       "\n",
       "    .dataframe tbody tr th {\n",
       "        vertical-align: top;\n",
       "    }\n",
       "\n",
       "    .dataframe thead th {\n",
       "        text-align: right;\n",
       "    }\n",
       "</style>\n",
       "<table border=\"1\" class=\"dataframe\">\n",
       "  <thead>\n",
       "    <tr style=\"text-align: right;\">\n",
       "      <th></th>\n",
       "      <th>Name</th>\n",
       "      <th>Year</th>\n",
       "      <th>Percentage</th>\n",
       "    </tr>\n",
       "  </thead>\n",
       "  <tbody>\n",
       "    <tr>\n",
       "      <th>0</th>\n",
       "      <td>Ram</td>\n",
       "      <td>2017</td>\n",
       "      <td>75</td>\n",
       "    </tr>\n",
       "    <tr>\n",
       "      <th>1</th>\n",
       "      <td>Ram</td>\n",
       "      <td>2018</td>\n",
       "      <td>45</td>\n",
       "    </tr>\n",
       "    <tr>\n",
       "      <th>2</th>\n",
       "      <td>Ram</td>\n",
       "      <td>2019</td>\n",
       "      <td>68</td>\n",
       "    </tr>\n",
       "    <tr>\n",
       "      <th>3</th>\n",
       "      <td>Shyam</td>\n",
       "      <td>2017</td>\n",
       "      <td>83</td>\n",
       "    </tr>\n",
       "    <tr>\n",
       "      <th>4</th>\n",
       "      <td>Shyam</td>\n",
       "      <td>2018</td>\n",
       "      <td>42</td>\n",
       "    </tr>\n",
       "    <tr>\n",
       "      <th>5</th>\n",
       "      <td>Shyam</td>\n",
       "      <td>2019</td>\n",
       "      <td>54</td>\n",
       "    </tr>\n",
       "    <tr>\n",
       "      <th>6</th>\n",
       "      <td>Jake</td>\n",
       "      <td>2017</td>\n",
       "      <td>98</td>\n",
       "    </tr>\n",
       "    <tr>\n",
       "      <th>7</th>\n",
       "      <td>Jake</td>\n",
       "      <td>2018</td>\n",
       "      <td>76</td>\n",
       "    </tr>\n",
       "    <tr>\n",
       "      <th>8</th>\n",
       "      <td>Jake</td>\n",
       "      <td>2019</td>\n",
       "      <td>67</td>\n",
       "    </tr>\n",
       "    <tr>\n",
       "      <th>9</th>\n",
       "      <td>Fake</td>\n",
       "      <td>2017</td>\n",
       "      <td>67</td>\n",
       "    </tr>\n",
       "    <tr>\n",
       "      <th>10</th>\n",
       "      <td>Fake</td>\n",
       "      <td>2018</td>\n",
       "      <td>44</td>\n",
       "    </tr>\n",
       "    <tr>\n",
       "      <th>11</th>\n",
       "      <td>Fake</td>\n",
       "      <td>2019</td>\n",
       "      <td>33</td>\n",
       "    </tr>\n",
       "    <tr>\n",
       "      <th>12</th>\n",
       "      <td>Gina</td>\n",
       "      <td>2017</td>\n",
       "      <td>98</td>\n",
       "    </tr>\n",
       "    <tr>\n",
       "      <th>13</th>\n",
       "      <td>Gina</td>\n",
       "      <td>2018</td>\n",
       "      <td>60</td>\n",
       "    </tr>\n",
       "    <tr>\n",
       "      <th>14</th>\n",
       "      <td>Gina</td>\n",
       "      <td>2019</td>\n",
       "      <td>75</td>\n",
       "    </tr>\n",
       "    <tr>\n",
       "      <th>15</th>\n",
       "      <td>Tina</td>\n",
       "      <td>2017</td>\n",
       "      <td>45</td>\n",
       "    </tr>\n",
       "    <tr>\n",
       "      <th>16</th>\n",
       "      <td>Tina</td>\n",
       "      <td>2018</td>\n",
       "      <td>76</td>\n",
       "    </tr>\n",
       "    <tr>\n",
       "      <th>17</th>\n",
       "      <td>Tina</td>\n",
       "      <td>2019</td>\n",
       "      <td>69</td>\n",
       "    </tr>\n",
       "    <tr>\n",
       "      <th>18</th>\n",
       "      <td>Menna</td>\n",
       "      <td>2017</td>\n",
       "      <td>70</td>\n",
       "    </tr>\n",
       "    <tr>\n",
       "      <th>19</th>\n",
       "      <td>Menna</td>\n",
       "      <td>2018</td>\n",
       "      <td>78</td>\n",
       "    </tr>\n",
       "    <tr>\n",
       "      <th>20</th>\n",
       "      <td>Menna</td>\n",
       "      <td>2019</td>\n",
       "      <td>89</td>\n",
       "    </tr>\n",
       "    <tr>\n",
       "      <th>21</th>\n",
       "      <td>Sam</td>\n",
       "      <td>2017</td>\n",
       "      <td>87</td>\n",
       "    </tr>\n",
       "    <tr>\n",
       "      <th>22</th>\n",
       "      <td>Sam</td>\n",
       "      <td>2018</td>\n",
       "      <td>96</td>\n",
       "    </tr>\n",
       "    <tr>\n",
       "      <th>23</th>\n",
       "      <td>Sam</td>\n",
       "      <td>2019</td>\n",
       "      <td>69</td>\n",
       "    </tr>\n",
       "    <tr>\n",
       "      <th>24</th>\n",
       "      <td>Mike</td>\n",
       "      <td>2017</td>\n",
       "      <td>80</td>\n",
       "    </tr>\n",
       "    <tr>\n",
       "      <th>25</th>\n",
       "      <td>Mike</td>\n",
       "      <td>2018</td>\n",
       "      <td>78</td>\n",
       "    </tr>\n",
       "    <tr>\n",
       "      <th>26</th>\n",
       "      <td>Mike</td>\n",
       "      <td>2019</td>\n",
       "      <td>75</td>\n",
       "    </tr>\n",
       "    <tr>\n",
       "      <th>27</th>\n",
       "      <td>Harvey</td>\n",
       "      <td>2017</td>\n",
       "      <td>65</td>\n",
       "    </tr>\n",
       "    <tr>\n",
       "      <th>28</th>\n",
       "      <td>Harvey</td>\n",
       "      <td>2018</td>\n",
       "      <td>67</td>\n",
       "    </tr>\n",
       "    <tr>\n",
       "      <th>29</th>\n",
       "      <td>Harvey</td>\n",
       "      <td>2019</td>\n",
       "      <td>87</td>\n",
       "    </tr>\n",
       "  </tbody>\n",
       "</table>\n",
       "</div>"
      ],
      "text/plain": [
       "      Name  Year  Percentage\n",
       "0      Ram  2017          75\n",
       "1      Ram  2018          45\n",
       "2      Ram  2019          68\n",
       "3    Shyam  2017          83\n",
       "4    Shyam  2018          42\n",
       "5    Shyam  2019          54\n",
       "6     Jake  2017          98\n",
       "7     Jake  2018          76\n",
       "8     Jake  2019          67\n",
       "9     Fake  2017          67\n",
       "10    Fake  2018          44\n",
       "11    Fake  2019          33\n",
       "12    Gina  2017          98\n",
       "13    Gina  2018          60\n",
       "14    Gina  2019          75\n",
       "15    Tina  2017          45\n",
       "16    Tina  2018          76\n",
       "17    Tina  2019          69\n",
       "18   Menna  2017          70\n",
       "19   Menna  2018          78\n",
       "20   Menna  2019          89\n",
       "21     Sam  2017          87\n",
       "22     Sam  2018          96\n",
       "23     Sam  2019          69\n",
       "24    Mike  2017          80\n",
       "25    Mike  2018          78\n",
       "26    Mike  2019          75\n",
       "27  Harvey  2017          65\n",
       "28  Harvey  2018          67\n",
       "29  Harvey  2019          87"
      ]
     },
     "execution_count": 186,
     "metadata": {
      "tags": []
     },
     "output_type": "execute_result"
    }
   ],
   "source": [
    "rdata={'Name':['Ram','Ram','Ram','Shyam','Shyam','Shyam','Jake','Jake','Jake','Fake','Fake','Fake','Gina','Gina','Gina','Tina','Tina','Tina','Menna','Menna','Menna','Sam','Sam','Sam','Mike','Mike','Mike','Harvey','Harvey','Harvey'],'Year':[2017,2018,2019,2017,2018,2019,2017,2018,2019,2017,2018,2019,2017,2018,2019,2017,2018,2019,2017,2018,2019,2017,2018,2019,2017,2018,2019,2017,2018,2019],'Percentage':[75,45,68,83,42,54,98,76,67,67,44,33,98,60,75,45,76,69,70,78,89,87,96,69,80,78,75,65,67,87]}\n",
    "record=pd.DataFrame(rdata)\n",
    "record"
   ]
  },
  {
   "cell_type": "markdown",
   "metadata": {
    "id": "Q_UjhuJl6Kgi"
   },
   "source": [
    "(a) Display the first 8 entries of the dataframe\n"
   ]
  },
  {
   "cell_type": "code",
   "execution_count": null,
   "metadata": {
    "colab": {
     "base_uri": "https://localhost:8080/",
     "height": 284
    },
    "id": "PaFWx0pgQRu7",
    "outputId": "c0a2d737-67ca-4c44-a7cb-6827a3dbde3d"
   },
   "outputs": [
    {
     "data": {
      "text/html": [
       "<div>\n",
       "<style scoped>\n",
       "    .dataframe tbody tr th:only-of-type {\n",
       "        vertical-align: middle;\n",
       "    }\n",
       "\n",
       "    .dataframe tbody tr th {\n",
       "        vertical-align: top;\n",
       "    }\n",
       "\n",
       "    .dataframe thead th {\n",
       "        text-align: right;\n",
       "    }\n",
       "</style>\n",
       "<table border=\"1\" class=\"dataframe\">\n",
       "  <thead>\n",
       "    <tr style=\"text-align: right;\">\n",
       "      <th></th>\n",
       "      <th>Name</th>\n",
       "      <th>Year</th>\n",
       "      <th>Percentage</th>\n",
       "    </tr>\n",
       "  </thead>\n",
       "  <tbody>\n",
       "    <tr>\n",
       "      <th>0</th>\n",
       "      <td>Ram</td>\n",
       "      <td>2017</td>\n",
       "      <td>75</td>\n",
       "    </tr>\n",
       "    <tr>\n",
       "      <th>1</th>\n",
       "      <td>Ram</td>\n",
       "      <td>2018</td>\n",
       "      <td>45</td>\n",
       "    </tr>\n",
       "    <tr>\n",
       "      <th>2</th>\n",
       "      <td>Ram</td>\n",
       "      <td>2019</td>\n",
       "      <td>68</td>\n",
       "    </tr>\n",
       "    <tr>\n",
       "      <th>3</th>\n",
       "      <td>Shyam</td>\n",
       "      <td>2017</td>\n",
       "      <td>83</td>\n",
       "    </tr>\n",
       "    <tr>\n",
       "      <th>4</th>\n",
       "      <td>Shyam</td>\n",
       "      <td>2018</td>\n",
       "      <td>42</td>\n",
       "    </tr>\n",
       "    <tr>\n",
       "      <th>5</th>\n",
       "      <td>Shyam</td>\n",
       "      <td>2019</td>\n",
       "      <td>54</td>\n",
       "    </tr>\n",
       "    <tr>\n",
       "      <th>6</th>\n",
       "      <td>Jake</td>\n",
       "      <td>2017</td>\n",
       "      <td>98</td>\n",
       "    </tr>\n",
       "    <tr>\n",
       "      <th>7</th>\n",
       "      <td>Jake</td>\n",
       "      <td>2018</td>\n",
       "      <td>76</td>\n",
       "    </tr>\n",
       "  </tbody>\n",
       "</table>\n",
       "</div>"
      ],
      "text/plain": [
       "    Name  Year  Percentage\n",
       "0    Ram  2017          75\n",
       "1    Ram  2018          45\n",
       "2    Ram  2019          68\n",
       "3  Shyam  2017          83\n",
       "4  Shyam  2018          42\n",
       "5  Shyam  2019          54\n",
       "6   Jake  2017          98\n",
       "7   Jake  2018          76"
      ]
     },
     "execution_count": 187,
     "metadata": {
      "tags": []
     },
     "output_type": "execute_result"
    }
   ],
   "source": [
    "record.head(8)"
   ]
  },
  {
   "cell_type": "markdown",
   "metadata": {
    "id": "h4T9R66l6MKX"
   },
   "source": [
    "(b) Display the last 5 entries of the dataframe\n"
   ]
  },
  {
   "cell_type": "code",
   "execution_count": null,
   "metadata": {
    "colab": {
     "base_uri": "https://localhost:8080/",
     "height": 195
    },
    "id": "A3ROma9zQc08",
    "outputId": "d21cf686-243c-46e6-9cdb-e40c19508c83"
   },
   "outputs": [
    {
     "data": {
      "text/html": [
       "<div>\n",
       "<style scoped>\n",
       "    .dataframe tbody tr th:only-of-type {\n",
       "        vertical-align: middle;\n",
       "    }\n",
       "\n",
       "    .dataframe tbody tr th {\n",
       "        vertical-align: top;\n",
       "    }\n",
       "\n",
       "    .dataframe thead th {\n",
       "        text-align: right;\n",
       "    }\n",
       "</style>\n",
       "<table border=\"1\" class=\"dataframe\">\n",
       "  <thead>\n",
       "    <tr style=\"text-align: right;\">\n",
       "      <th></th>\n",
       "      <th>Name</th>\n",
       "      <th>Year</th>\n",
       "      <th>Percentage</th>\n",
       "    </tr>\n",
       "  </thead>\n",
       "  <tbody>\n",
       "    <tr>\n",
       "      <th>25</th>\n",
       "      <td>Mike</td>\n",
       "      <td>2018</td>\n",
       "      <td>78</td>\n",
       "    </tr>\n",
       "    <tr>\n",
       "      <th>26</th>\n",
       "      <td>Mike</td>\n",
       "      <td>2019</td>\n",
       "      <td>75</td>\n",
       "    </tr>\n",
       "    <tr>\n",
       "      <th>27</th>\n",
       "      <td>Harvey</td>\n",
       "      <td>2017</td>\n",
       "      <td>65</td>\n",
       "    </tr>\n",
       "    <tr>\n",
       "      <th>28</th>\n",
       "      <td>Harvey</td>\n",
       "      <td>2018</td>\n",
       "      <td>67</td>\n",
       "    </tr>\n",
       "    <tr>\n",
       "      <th>29</th>\n",
       "      <td>Harvey</td>\n",
       "      <td>2019</td>\n",
       "      <td>87</td>\n",
       "    </tr>\n",
       "  </tbody>\n",
       "</table>\n",
       "</div>"
      ],
      "text/plain": [
       "      Name  Year  Percentage\n",
       "25    Mike  2018          78\n",
       "26    Mike  2019          75\n",
       "27  Harvey  2017          65\n",
       "28  Harvey  2018          67\n",
       "29  Harvey  2019          87"
      ]
     },
     "execution_count": 188,
     "metadata": {
      "tags": []
     },
     "output_type": "execute_result"
    }
   ],
   "source": [
    "record.tail()"
   ]
  },
  {
   "cell_type": "markdown",
   "metadata": {
    "id": "kie0caKs6Nh0"
   },
   "source": [
    "(c) Change the index values of the dataframe with numbers written as text. e.g. 1 replaced as One, 2 replaced as Two, etc.\n"
   ]
  },
  {
   "cell_type": "code",
   "execution_count": null,
   "metadata": {
    "colab": {
     "base_uri": "https://localhost:8080/",
     "height": 935
    },
    "id": "vwEDrk-XQzUy",
    "outputId": "18172250-c30f-43b3-bc42-798f22f1d293"
   },
   "outputs": [
    {
     "data": {
      "text/html": [
       "<div>\n",
       "<style scoped>\n",
       "    .dataframe tbody tr th:only-of-type {\n",
       "        vertical-align: middle;\n",
       "    }\n",
       "\n",
       "    .dataframe tbody tr th {\n",
       "        vertical-align: top;\n",
       "    }\n",
       "\n",
       "    .dataframe thead th {\n",
       "        text-align: right;\n",
       "    }\n",
       "</style>\n",
       "<table border=\"1\" class=\"dataframe\">\n",
       "  <thead>\n",
       "    <tr style=\"text-align: right;\">\n",
       "      <th></th>\n",
       "      <th>Name</th>\n",
       "      <th>Year</th>\n",
       "      <th>Percentage</th>\n",
       "    </tr>\n",
       "  </thead>\n",
       "  <tbody>\n",
       "    <tr>\n",
       "      <th>zero</th>\n",
       "      <td>Ram</td>\n",
       "      <td>2017</td>\n",
       "      <td>75</td>\n",
       "    </tr>\n",
       "    <tr>\n",
       "      <th>one</th>\n",
       "      <td>Ram</td>\n",
       "      <td>2018</td>\n",
       "      <td>45</td>\n",
       "    </tr>\n",
       "    <tr>\n",
       "      <th>two</th>\n",
       "      <td>Ram</td>\n",
       "      <td>2019</td>\n",
       "      <td>68</td>\n",
       "    </tr>\n",
       "    <tr>\n",
       "      <th>three</th>\n",
       "      <td>Shyam</td>\n",
       "      <td>2017</td>\n",
       "      <td>83</td>\n",
       "    </tr>\n",
       "    <tr>\n",
       "      <th>four</th>\n",
       "      <td>Shyam</td>\n",
       "      <td>2018</td>\n",
       "      <td>42</td>\n",
       "    </tr>\n",
       "    <tr>\n",
       "      <th>five</th>\n",
       "      <td>Shyam</td>\n",
       "      <td>2019</td>\n",
       "      <td>54</td>\n",
       "    </tr>\n",
       "    <tr>\n",
       "      <th>six</th>\n",
       "      <td>Jake</td>\n",
       "      <td>2017</td>\n",
       "      <td>98</td>\n",
       "    </tr>\n",
       "    <tr>\n",
       "      <th>seven</th>\n",
       "      <td>Jake</td>\n",
       "      <td>2018</td>\n",
       "      <td>76</td>\n",
       "    </tr>\n",
       "    <tr>\n",
       "      <th>eight</th>\n",
       "      <td>Jake</td>\n",
       "      <td>2019</td>\n",
       "      <td>67</td>\n",
       "    </tr>\n",
       "    <tr>\n",
       "      <th>nine</th>\n",
       "      <td>Fake</td>\n",
       "      <td>2017</td>\n",
       "      <td>67</td>\n",
       "    </tr>\n",
       "    <tr>\n",
       "      <th>ten</th>\n",
       "      <td>Fake</td>\n",
       "      <td>2018</td>\n",
       "      <td>44</td>\n",
       "    </tr>\n",
       "    <tr>\n",
       "      <th>eleven</th>\n",
       "      <td>Fake</td>\n",
       "      <td>2019</td>\n",
       "      <td>33</td>\n",
       "    </tr>\n",
       "    <tr>\n",
       "      <th>twelve</th>\n",
       "      <td>Gina</td>\n",
       "      <td>2017</td>\n",
       "      <td>98</td>\n",
       "    </tr>\n",
       "    <tr>\n",
       "      <th>thirteen</th>\n",
       "      <td>Gina</td>\n",
       "      <td>2018</td>\n",
       "      <td>60</td>\n",
       "    </tr>\n",
       "    <tr>\n",
       "      <th>fourteen</th>\n",
       "      <td>Gina</td>\n",
       "      <td>2019</td>\n",
       "      <td>75</td>\n",
       "    </tr>\n",
       "    <tr>\n",
       "      <th>fifteen</th>\n",
       "      <td>Tina</td>\n",
       "      <td>2017</td>\n",
       "      <td>45</td>\n",
       "    </tr>\n",
       "    <tr>\n",
       "      <th>sixteen</th>\n",
       "      <td>Tina</td>\n",
       "      <td>2018</td>\n",
       "      <td>76</td>\n",
       "    </tr>\n",
       "    <tr>\n",
       "      <th>seventeen</th>\n",
       "      <td>Tina</td>\n",
       "      <td>2019</td>\n",
       "      <td>69</td>\n",
       "    </tr>\n",
       "    <tr>\n",
       "      <th>eighteen</th>\n",
       "      <td>Menna</td>\n",
       "      <td>2017</td>\n",
       "      <td>70</td>\n",
       "    </tr>\n",
       "    <tr>\n",
       "      <th>nineteen</th>\n",
       "      <td>Menna</td>\n",
       "      <td>2018</td>\n",
       "      <td>78</td>\n",
       "    </tr>\n",
       "    <tr>\n",
       "      <th>twenty</th>\n",
       "      <td>Menna</td>\n",
       "      <td>2019</td>\n",
       "      <td>89</td>\n",
       "    </tr>\n",
       "    <tr>\n",
       "      <th>twentyone</th>\n",
       "      <td>Sam</td>\n",
       "      <td>2017</td>\n",
       "      <td>87</td>\n",
       "    </tr>\n",
       "    <tr>\n",
       "      <th>twentytwo</th>\n",
       "      <td>Sam</td>\n",
       "      <td>2018</td>\n",
       "      <td>96</td>\n",
       "    </tr>\n",
       "    <tr>\n",
       "      <th>twentythree</th>\n",
       "      <td>Sam</td>\n",
       "      <td>2019</td>\n",
       "      <td>69</td>\n",
       "    </tr>\n",
       "    <tr>\n",
       "      <th>twentyfour</th>\n",
       "      <td>Mike</td>\n",
       "      <td>2017</td>\n",
       "      <td>80</td>\n",
       "    </tr>\n",
       "    <tr>\n",
       "      <th>twentyfive</th>\n",
       "      <td>Mike</td>\n",
       "      <td>2018</td>\n",
       "      <td>78</td>\n",
       "    </tr>\n",
       "    <tr>\n",
       "      <th>twentysix</th>\n",
       "      <td>Mike</td>\n",
       "      <td>2019</td>\n",
       "      <td>75</td>\n",
       "    </tr>\n",
       "    <tr>\n",
       "      <th>twentyseven</th>\n",
       "      <td>Harvey</td>\n",
       "      <td>2017</td>\n",
       "      <td>65</td>\n",
       "    </tr>\n",
       "    <tr>\n",
       "      <th>twentyeight</th>\n",
       "      <td>Harvey</td>\n",
       "      <td>2018</td>\n",
       "      <td>67</td>\n",
       "    </tr>\n",
       "    <tr>\n",
       "      <th>twentynine</th>\n",
       "      <td>Harvey</td>\n",
       "      <td>2019</td>\n",
       "      <td>87</td>\n",
       "    </tr>\n",
       "  </tbody>\n",
       "</table>\n",
       "</div>"
      ],
      "text/plain": [
       "               Name  Year  Percentage\n",
       "zero            Ram  2017          75\n",
       "one             Ram  2018          45\n",
       "two             Ram  2019          68\n",
       "three         Shyam  2017          83\n",
       "four          Shyam  2018          42\n",
       "five          Shyam  2019          54\n",
       "six            Jake  2017          98\n",
       "seven          Jake  2018          76\n",
       "eight          Jake  2019          67\n",
       "nine           Fake  2017          67\n",
       "ten            Fake  2018          44\n",
       "eleven         Fake  2019          33\n",
       "twelve         Gina  2017          98\n",
       "thirteen       Gina  2018          60\n",
       "fourteen       Gina  2019          75\n",
       "fifteen        Tina  2017          45\n",
       "sixteen        Tina  2018          76\n",
       "seventeen      Tina  2019          69\n",
       "eighteen      Menna  2017          70\n",
       "nineteen      Menna  2018          78\n",
       "twenty        Menna  2019          89\n",
       "twentyone       Sam  2017          87\n",
       "twentytwo       Sam  2018          96\n",
       "twentythree     Sam  2019          69\n",
       "twentyfour     Mike  2017          80\n",
       "twentyfive     Mike  2018          78\n",
       "twentysix      Mike  2019          75\n",
       "twentyseven  Harvey  2017          65\n",
       "twentyeight  Harvey  2018          67\n",
       "twentynine   Harvey  2019          87"
      ]
     },
     "execution_count": 189,
     "metadata": {
      "tags": []
     },
     "output_type": "execute_result"
    }
   ],
   "source": [
    "record.index=['zero','one', 'two', 'three', 'four','five', 'six','seven','eight','nine','ten','eleven','twelve','thirteen','fourteen','fifteen','sixteen','seventeen','eighteen','nineteen','twenty','twentyone','twentytwo','twentythree','twentyfour','twentyfive','twentysix','twentyseven','twentyeight','twentynine']\n",
    "record"
   ]
  },
  {
   "cell_type": "markdown",
   "metadata": {
    "id": "KfPa5ss76PMM"
   },
   "source": [
    "(d) Add a grade column with no values\n"
   ]
  },
  {
   "cell_type": "code",
   "execution_count": null,
   "metadata": {
    "colab": {
     "base_uri": "https://localhost:8080/",
     "height": 935
    },
    "id": "IeaR2XJ8Q2YD",
    "outputId": "aaf03f83-7ff0-4152-894e-0d29f9501312"
   },
   "outputs": [
    {
     "data": {
      "text/html": [
       "<div>\n",
       "<style scoped>\n",
       "    .dataframe tbody tr th:only-of-type {\n",
       "        vertical-align: middle;\n",
       "    }\n",
       "\n",
       "    .dataframe tbody tr th {\n",
       "        vertical-align: top;\n",
       "    }\n",
       "\n",
       "    .dataframe thead th {\n",
       "        text-align: right;\n",
       "    }\n",
       "</style>\n",
       "<table border=\"1\" class=\"dataframe\">\n",
       "  <thead>\n",
       "    <tr style=\"text-align: right;\">\n",
       "      <th></th>\n",
       "      <th>Name</th>\n",
       "      <th>Year</th>\n",
       "      <th>Percentage</th>\n",
       "      <th>Grade</th>\n",
       "    </tr>\n",
       "  </thead>\n",
       "  <tbody>\n",
       "    <tr>\n",
       "      <th>0</th>\n",
       "      <td>Ram</td>\n",
       "      <td>2017</td>\n",
       "      <td>75</td>\n",
       "      <td>NaN</td>\n",
       "    </tr>\n",
       "    <tr>\n",
       "      <th>1</th>\n",
       "      <td>Ram</td>\n",
       "      <td>2018</td>\n",
       "      <td>45</td>\n",
       "      <td>NaN</td>\n",
       "    </tr>\n",
       "    <tr>\n",
       "      <th>2</th>\n",
       "      <td>Ram</td>\n",
       "      <td>2019</td>\n",
       "      <td>68</td>\n",
       "      <td>NaN</td>\n",
       "    </tr>\n",
       "    <tr>\n",
       "      <th>3</th>\n",
       "      <td>Shyam</td>\n",
       "      <td>2017</td>\n",
       "      <td>83</td>\n",
       "      <td>NaN</td>\n",
       "    </tr>\n",
       "    <tr>\n",
       "      <th>4</th>\n",
       "      <td>Shyam</td>\n",
       "      <td>2018</td>\n",
       "      <td>42</td>\n",
       "      <td>NaN</td>\n",
       "    </tr>\n",
       "    <tr>\n",
       "      <th>5</th>\n",
       "      <td>Shyam</td>\n",
       "      <td>2019</td>\n",
       "      <td>54</td>\n",
       "      <td>NaN</td>\n",
       "    </tr>\n",
       "    <tr>\n",
       "      <th>6</th>\n",
       "      <td>Jake</td>\n",
       "      <td>2017</td>\n",
       "      <td>98</td>\n",
       "      <td>NaN</td>\n",
       "    </tr>\n",
       "    <tr>\n",
       "      <th>7</th>\n",
       "      <td>Jake</td>\n",
       "      <td>2018</td>\n",
       "      <td>76</td>\n",
       "      <td>NaN</td>\n",
       "    </tr>\n",
       "    <tr>\n",
       "      <th>8</th>\n",
       "      <td>Jake</td>\n",
       "      <td>2019</td>\n",
       "      <td>67</td>\n",
       "      <td>NaN</td>\n",
       "    </tr>\n",
       "    <tr>\n",
       "      <th>9</th>\n",
       "      <td>Fake</td>\n",
       "      <td>2017</td>\n",
       "      <td>67</td>\n",
       "      <td>NaN</td>\n",
       "    </tr>\n",
       "    <tr>\n",
       "      <th>10</th>\n",
       "      <td>Fake</td>\n",
       "      <td>2018</td>\n",
       "      <td>44</td>\n",
       "      <td>NaN</td>\n",
       "    </tr>\n",
       "    <tr>\n",
       "      <th>11</th>\n",
       "      <td>Fake</td>\n",
       "      <td>2019</td>\n",
       "      <td>33</td>\n",
       "      <td>NaN</td>\n",
       "    </tr>\n",
       "    <tr>\n",
       "      <th>12</th>\n",
       "      <td>Gina</td>\n",
       "      <td>2017</td>\n",
       "      <td>98</td>\n",
       "      <td>NaN</td>\n",
       "    </tr>\n",
       "    <tr>\n",
       "      <th>13</th>\n",
       "      <td>Gina</td>\n",
       "      <td>2018</td>\n",
       "      <td>60</td>\n",
       "      <td>NaN</td>\n",
       "    </tr>\n",
       "    <tr>\n",
       "      <th>14</th>\n",
       "      <td>Gina</td>\n",
       "      <td>2019</td>\n",
       "      <td>75</td>\n",
       "      <td>NaN</td>\n",
       "    </tr>\n",
       "    <tr>\n",
       "      <th>15</th>\n",
       "      <td>Tina</td>\n",
       "      <td>2017</td>\n",
       "      <td>45</td>\n",
       "      <td>NaN</td>\n",
       "    </tr>\n",
       "    <tr>\n",
       "      <th>16</th>\n",
       "      <td>Tina</td>\n",
       "      <td>2018</td>\n",
       "      <td>76</td>\n",
       "      <td>NaN</td>\n",
       "    </tr>\n",
       "    <tr>\n",
       "      <th>17</th>\n",
       "      <td>Tina</td>\n",
       "      <td>2019</td>\n",
       "      <td>69</td>\n",
       "      <td>NaN</td>\n",
       "    </tr>\n",
       "    <tr>\n",
       "      <th>18</th>\n",
       "      <td>Menna</td>\n",
       "      <td>2017</td>\n",
       "      <td>70</td>\n",
       "      <td>NaN</td>\n",
       "    </tr>\n",
       "    <tr>\n",
       "      <th>19</th>\n",
       "      <td>Menna</td>\n",
       "      <td>2018</td>\n",
       "      <td>78</td>\n",
       "      <td>NaN</td>\n",
       "    </tr>\n",
       "    <tr>\n",
       "      <th>20</th>\n",
       "      <td>Menna</td>\n",
       "      <td>2019</td>\n",
       "      <td>89</td>\n",
       "      <td>NaN</td>\n",
       "    </tr>\n",
       "    <tr>\n",
       "      <th>21</th>\n",
       "      <td>Sam</td>\n",
       "      <td>2017</td>\n",
       "      <td>87</td>\n",
       "      <td>NaN</td>\n",
       "    </tr>\n",
       "    <tr>\n",
       "      <th>22</th>\n",
       "      <td>Sam</td>\n",
       "      <td>2018</td>\n",
       "      <td>96</td>\n",
       "      <td>NaN</td>\n",
       "    </tr>\n",
       "    <tr>\n",
       "      <th>23</th>\n",
       "      <td>Sam</td>\n",
       "      <td>2019</td>\n",
       "      <td>69</td>\n",
       "      <td>NaN</td>\n",
       "    </tr>\n",
       "    <tr>\n",
       "      <th>24</th>\n",
       "      <td>Mike</td>\n",
       "      <td>2017</td>\n",
       "      <td>80</td>\n",
       "      <td>NaN</td>\n",
       "    </tr>\n",
       "    <tr>\n",
       "      <th>25</th>\n",
       "      <td>Mike</td>\n",
       "      <td>2018</td>\n",
       "      <td>78</td>\n",
       "      <td>NaN</td>\n",
       "    </tr>\n",
       "    <tr>\n",
       "      <th>26</th>\n",
       "      <td>Mike</td>\n",
       "      <td>2019</td>\n",
       "      <td>75</td>\n",
       "      <td>NaN</td>\n",
       "    </tr>\n",
       "    <tr>\n",
       "      <th>27</th>\n",
       "      <td>Harvey</td>\n",
       "      <td>2017</td>\n",
       "      <td>65</td>\n",
       "      <td>NaN</td>\n",
       "    </tr>\n",
       "    <tr>\n",
       "      <th>28</th>\n",
       "      <td>Harvey</td>\n",
       "      <td>2018</td>\n",
       "      <td>67</td>\n",
       "      <td>NaN</td>\n",
       "    </tr>\n",
       "    <tr>\n",
       "      <th>29</th>\n",
       "      <td>Harvey</td>\n",
       "      <td>2019</td>\n",
       "      <td>87</td>\n",
       "      <td>NaN</td>\n",
       "    </tr>\n",
       "  </tbody>\n",
       "</table>\n",
       "</div>"
      ],
      "text/plain": [
       "      Name  Year  Percentage Grade\n",
       "0      Ram  2017          75   NaN\n",
       "1      Ram  2018          45   NaN\n",
       "2      Ram  2019          68   NaN\n",
       "3    Shyam  2017          83   NaN\n",
       "4    Shyam  2018          42   NaN\n",
       "5    Shyam  2019          54   NaN\n",
       "6     Jake  2017          98   NaN\n",
       "7     Jake  2018          76   NaN\n",
       "8     Jake  2019          67   NaN\n",
       "9     Fake  2017          67   NaN\n",
       "10    Fake  2018          44   NaN\n",
       "11    Fake  2019          33   NaN\n",
       "12    Gina  2017          98   NaN\n",
       "13    Gina  2018          60   NaN\n",
       "14    Gina  2019          75   NaN\n",
       "15    Tina  2017          45   NaN\n",
       "16    Tina  2018          76   NaN\n",
       "17    Tina  2019          69   NaN\n",
       "18   Menna  2017          70   NaN\n",
       "19   Menna  2018          78   NaN\n",
       "20   Menna  2019          89   NaN\n",
       "21     Sam  2017          87   NaN\n",
       "22     Sam  2018          96   NaN\n",
       "23     Sam  2019          69   NaN\n",
       "24    Mike  2017          80   NaN\n",
       "25    Mike  2018          78   NaN\n",
       "26    Mike  2019          75   NaN\n",
       "27  Harvey  2017          65   NaN\n",
       "28  Harvey  2018          67   NaN\n",
       "29  Harvey  2019          87   NaN"
      ]
     },
     "execution_count": 190,
     "metadata": {
      "tags": []
     },
     "output_type": "execute_result"
    }
   ],
   "source": [
    "record = pd.DataFrame(rdata, columns=['Name', 'Year', 'Percentage', 'Grade'])\n",
    "record"
   ]
  },
  {
   "cell_type": "markdown",
   "metadata": {
    "id": "3gDIUhyj6Qpc"
   },
   "source": [
    "(e) Display the student details only for the year 2018\n"
   ]
  },
  {
   "cell_type": "code",
   "execution_count": null,
   "metadata": {
    "colab": {
     "base_uri": "https://localhost:8080/",
     "height": 343
    },
    "id": "CcKbObP3RdWS",
    "outputId": "73c65906-2ee3-406f-96eb-829beb95c596"
   },
   "outputs": [
    {
     "data": {
      "text/html": [
       "<div>\n",
       "<style scoped>\n",
       "    .dataframe tbody tr th:only-of-type {\n",
       "        vertical-align: middle;\n",
       "    }\n",
       "\n",
       "    .dataframe tbody tr th {\n",
       "        vertical-align: top;\n",
       "    }\n",
       "\n",
       "    .dataframe thead th {\n",
       "        text-align: right;\n",
       "    }\n",
       "</style>\n",
       "<table border=\"1\" class=\"dataframe\">\n",
       "  <thead>\n",
       "    <tr style=\"text-align: right;\">\n",
       "      <th></th>\n",
       "      <th>Name</th>\n",
       "      <th>Year</th>\n",
       "      <th>Percentage</th>\n",
       "      <th>Grade</th>\n",
       "    </tr>\n",
       "  </thead>\n",
       "  <tbody>\n",
       "    <tr>\n",
       "      <th>1</th>\n",
       "      <td>Ram</td>\n",
       "      <td>2018</td>\n",
       "      <td>45</td>\n",
       "      <td>NaN</td>\n",
       "    </tr>\n",
       "    <tr>\n",
       "      <th>4</th>\n",
       "      <td>Shyam</td>\n",
       "      <td>2018</td>\n",
       "      <td>42</td>\n",
       "      <td>NaN</td>\n",
       "    </tr>\n",
       "    <tr>\n",
       "      <th>7</th>\n",
       "      <td>Jake</td>\n",
       "      <td>2018</td>\n",
       "      <td>76</td>\n",
       "      <td>NaN</td>\n",
       "    </tr>\n",
       "    <tr>\n",
       "      <th>10</th>\n",
       "      <td>Fake</td>\n",
       "      <td>2018</td>\n",
       "      <td>44</td>\n",
       "      <td>NaN</td>\n",
       "    </tr>\n",
       "    <tr>\n",
       "      <th>13</th>\n",
       "      <td>Gina</td>\n",
       "      <td>2018</td>\n",
       "      <td>60</td>\n",
       "      <td>NaN</td>\n",
       "    </tr>\n",
       "    <tr>\n",
       "      <th>16</th>\n",
       "      <td>Tina</td>\n",
       "      <td>2018</td>\n",
       "      <td>76</td>\n",
       "      <td>NaN</td>\n",
       "    </tr>\n",
       "    <tr>\n",
       "      <th>19</th>\n",
       "      <td>Menna</td>\n",
       "      <td>2018</td>\n",
       "      <td>78</td>\n",
       "      <td>NaN</td>\n",
       "    </tr>\n",
       "    <tr>\n",
       "      <th>22</th>\n",
       "      <td>Sam</td>\n",
       "      <td>2018</td>\n",
       "      <td>96</td>\n",
       "      <td>NaN</td>\n",
       "    </tr>\n",
       "    <tr>\n",
       "      <th>25</th>\n",
       "      <td>Mike</td>\n",
       "      <td>2018</td>\n",
       "      <td>78</td>\n",
       "      <td>NaN</td>\n",
       "    </tr>\n",
       "    <tr>\n",
       "      <th>28</th>\n",
       "      <td>Harvey</td>\n",
       "      <td>2018</td>\n",
       "      <td>67</td>\n",
       "      <td>NaN</td>\n",
       "    </tr>\n",
       "  </tbody>\n",
       "</table>\n",
       "</div>"
      ],
      "text/plain": [
       "      Name  Year  Percentage Grade\n",
       "1      Ram  2018          45   NaN\n",
       "4    Shyam  2018          42   NaN\n",
       "7     Jake  2018          76   NaN\n",
       "10    Fake  2018          44   NaN\n",
       "13    Gina  2018          60   NaN\n",
       "16    Tina  2018          76   NaN\n",
       "19   Menna  2018          78   NaN\n",
       "22     Sam  2018          96   NaN\n",
       "25    Mike  2018          78   NaN\n",
       "28  Harvey  2018          67   NaN"
      ]
     },
     "execution_count": 191,
     "metadata": {
      "tags": []
     },
     "output_type": "execute_result"
    }
   ],
   "source": [
    "record[record['Year']==2018]"
   ]
  },
  {
   "cell_type": "markdown",
   "metadata": {
    "id": "ReUSxaXL6SSI"
   },
   "source": [
    "(f) Display the student details having more than 75% marks in any year\n"
   ]
  },
  {
   "cell_type": "code",
   "execution_count": null,
   "metadata": {
    "colab": {
     "base_uri": "https://localhost:8080/",
     "height": 402
    },
    "id": "o51zRtCdWEUZ",
    "outputId": "420ee2d2-f4ec-4e32-e16d-6a3836a93054"
   },
   "outputs": [
    {
     "data": {
      "text/html": [
       "<div>\n",
       "<style scoped>\n",
       "    .dataframe tbody tr th:only-of-type {\n",
       "        vertical-align: middle;\n",
       "    }\n",
       "\n",
       "    .dataframe tbody tr th {\n",
       "        vertical-align: top;\n",
       "    }\n",
       "\n",
       "    .dataframe thead th {\n",
       "        text-align: right;\n",
       "    }\n",
       "</style>\n",
       "<table border=\"1\" class=\"dataframe\">\n",
       "  <thead>\n",
       "    <tr style=\"text-align: right;\">\n",
       "      <th></th>\n",
       "      <th>Name</th>\n",
       "      <th>Year</th>\n",
       "      <th>Percentage</th>\n",
       "      <th>Grade</th>\n",
       "    </tr>\n",
       "  </thead>\n",
       "  <tbody>\n",
       "    <tr>\n",
       "      <th>3</th>\n",
       "      <td>Shyam</td>\n",
       "      <td>2017</td>\n",
       "      <td>83</td>\n",
       "      <td>NaN</td>\n",
       "    </tr>\n",
       "    <tr>\n",
       "      <th>6</th>\n",
       "      <td>Jake</td>\n",
       "      <td>2017</td>\n",
       "      <td>98</td>\n",
       "      <td>NaN</td>\n",
       "    </tr>\n",
       "    <tr>\n",
       "      <th>7</th>\n",
       "      <td>Jake</td>\n",
       "      <td>2018</td>\n",
       "      <td>76</td>\n",
       "      <td>NaN</td>\n",
       "    </tr>\n",
       "    <tr>\n",
       "      <th>12</th>\n",
       "      <td>Gina</td>\n",
       "      <td>2017</td>\n",
       "      <td>98</td>\n",
       "      <td>NaN</td>\n",
       "    </tr>\n",
       "    <tr>\n",
       "      <th>16</th>\n",
       "      <td>Tina</td>\n",
       "      <td>2018</td>\n",
       "      <td>76</td>\n",
       "      <td>NaN</td>\n",
       "    </tr>\n",
       "    <tr>\n",
       "      <th>19</th>\n",
       "      <td>Menna</td>\n",
       "      <td>2018</td>\n",
       "      <td>78</td>\n",
       "      <td>NaN</td>\n",
       "    </tr>\n",
       "    <tr>\n",
       "      <th>20</th>\n",
       "      <td>Menna</td>\n",
       "      <td>2019</td>\n",
       "      <td>89</td>\n",
       "      <td>NaN</td>\n",
       "    </tr>\n",
       "    <tr>\n",
       "      <th>21</th>\n",
       "      <td>Sam</td>\n",
       "      <td>2017</td>\n",
       "      <td>87</td>\n",
       "      <td>NaN</td>\n",
       "    </tr>\n",
       "    <tr>\n",
       "      <th>22</th>\n",
       "      <td>Sam</td>\n",
       "      <td>2018</td>\n",
       "      <td>96</td>\n",
       "      <td>NaN</td>\n",
       "    </tr>\n",
       "    <tr>\n",
       "      <th>24</th>\n",
       "      <td>Mike</td>\n",
       "      <td>2017</td>\n",
       "      <td>80</td>\n",
       "      <td>NaN</td>\n",
       "    </tr>\n",
       "    <tr>\n",
       "      <th>25</th>\n",
       "      <td>Mike</td>\n",
       "      <td>2018</td>\n",
       "      <td>78</td>\n",
       "      <td>NaN</td>\n",
       "    </tr>\n",
       "    <tr>\n",
       "      <th>29</th>\n",
       "      <td>Harvey</td>\n",
       "      <td>2019</td>\n",
       "      <td>87</td>\n",
       "      <td>NaN</td>\n",
       "    </tr>\n",
       "  </tbody>\n",
       "</table>\n",
       "</div>"
      ],
      "text/plain": [
       "      Name  Year  Percentage Grade\n",
       "3    Shyam  2017          83   NaN\n",
       "6     Jake  2017          98   NaN\n",
       "7     Jake  2018          76   NaN\n",
       "12    Gina  2017          98   NaN\n",
       "16    Tina  2018          76   NaN\n",
       "19   Menna  2018          78   NaN\n",
       "20   Menna  2019          89   NaN\n",
       "21     Sam  2017          87   NaN\n",
       "22     Sam  2018          96   NaN\n",
       "24    Mike  2017          80   NaN\n",
       "25    Mike  2018          78   NaN\n",
       "29  Harvey  2019          87   NaN"
      ]
     },
     "execution_count": 192,
     "metadata": {
      "tags": []
     },
     "output_type": "execute_result"
    }
   ],
   "source": [
    "record[record.Percentage>75]"
   ]
  },
  {
   "cell_type": "markdown",
   "metadata": {
    "id": "Qn8MzYiQ6TxN"
   },
   "source": [
    "(g) Find the transpose of the dataframe"
   ]
  },
  {
   "cell_type": "code",
   "execution_count": null,
   "metadata": {
    "colab": {
     "base_uri": "https://localhost:8080/",
     "height": 186
    },
    "id": "SFdHO8kuWmIh",
    "outputId": "ed58a60d-f054-4b07-8d23-3f83887e13b7"
   },
   "outputs": [
    {
     "data": {
      "text/html": [
       "<div>\n",
       "<style scoped>\n",
       "    .dataframe tbody tr th:only-of-type {\n",
       "        vertical-align: middle;\n",
       "    }\n",
       "\n",
       "    .dataframe tbody tr th {\n",
       "        vertical-align: top;\n",
       "    }\n",
       "\n",
       "    .dataframe thead th {\n",
       "        text-align: right;\n",
       "    }\n",
       "</style>\n",
       "<table border=\"1\" class=\"dataframe\">\n",
       "  <thead>\n",
       "    <tr style=\"text-align: right;\">\n",
       "      <th></th>\n",
       "      <th>0</th>\n",
       "      <th>1</th>\n",
       "      <th>2</th>\n",
       "      <th>3</th>\n",
       "      <th>4</th>\n",
       "      <th>5</th>\n",
       "      <th>6</th>\n",
       "      <th>7</th>\n",
       "      <th>8</th>\n",
       "      <th>9</th>\n",
       "      <th>10</th>\n",
       "      <th>11</th>\n",
       "      <th>12</th>\n",
       "      <th>13</th>\n",
       "      <th>14</th>\n",
       "      <th>15</th>\n",
       "      <th>16</th>\n",
       "      <th>17</th>\n",
       "      <th>18</th>\n",
       "      <th>19</th>\n",
       "      <th>20</th>\n",
       "      <th>21</th>\n",
       "      <th>22</th>\n",
       "      <th>23</th>\n",
       "      <th>24</th>\n",
       "      <th>25</th>\n",
       "      <th>26</th>\n",
       "      <th>27</th>\n",
       "      <th>28</th>\n",
       "      <th>29</th>\n",
       "    </tr>\n",
       "  </thead>\n",
       "  <tbody>\n",
       "    <tr>\n",
       "      <th>Name</th>\n",
       "      <td>Ram</td>\n",
       "      <td>Ram</td>\n",
       "      <td>Ram</td>\n",
       "      <td>Shyam</td>\n",
       "      <td>Shyam</td>\n",
       "      <td>Shyam</td>\n",
       "      <td>Jake</td>\n",
       "      <td>Jake</td>\n",
       "      <td>Jake</td>\n",
       "      <td>Fake</td>\n",
       "      <td>Fake</td>\n",
       "      <td>Fake</td>\n",
       "      <td>Gina</td>\n",
       "      <td>Gina</td>\n",
       "      <td>Gina</td>\n",
       "      <td>Tina</td>\n",
       "      <td>Tina</td>\n",
       "      <td>Tina</td>\n",
       "      <td>Menna</td>\n",
       "      <td>Menna</td>\n",
       "      <td>Menna</td>\n",
       "      <td>Sam</td>\n",
       "      <td>Sam</td>\n",
       "      <td>Sam</td>\n",
       "      <td>Mike</td>\n",
       "      <td>Mike</td>\n",
       "      <td>Mike</td>\n",
       "      <td>Harvey</td>\n",
       "      <td>Harvey</td>\n",
       "      <td>Harvey</td>\n",
       "    </tr>\n",
       "    <tr>\n",
       "      <th>Year</th>\n",
       "      <td>2017</td>\n",
       "      <td>2018</td>\n",
       "      <td>2019</td>\n",
       "      <td>2017</td>\n",
       "      <td>2018</td>\n",
       "      <td>2019</td>\n",
       "      <td>2017</td>\n",
       "      <td>2018</td>\n",
       "      <td>2019</td>\n",
       "      <td>2017</td>\n",
       "      <td>2018</td>\n",
       "      <td>2019</td>\n",
       "      <td>2017</td>\n",
       "      <td>2018</td>\n",
       "      <td>2019</td>\n",
       "      <td>2017</td>\n",
       "      <td>2018</td>\n",
       "      <td>2019</td>\n",
       "      <td>2017</td>\n",
       "      <td>2018</td>\n",
       "      <td>2019</td>\n",
       "      <td>2017</td>\n",
       "      <td>2018</td>\n",
       "      <td>2019</td>\n",
       "      <td>2017</td>\n",
       "      <td>2018</td>\n",
       "      <td>2019</td>\n",
       "      <td>2017</td>\n",
       "      <td>2018</td>\n",
       "      <td>2019</td>\n",
       "    </tr>\n",
       "    <tr>\n",
       "      <th>Percentage</th>\n",
       "      <td>75</td>\n",
       "      <td>45</td>\n",
       "      <td>68</td>\n",
       "      <td>83</td>\n",
       "      <td>42</td>\n",
       "      <td>54</td>\n",
       "      <td>98</td>\n",
       "      <td>76</td>\n",
       "      <td>67</td>\n",
       "      <td>67</td>\n",
       "      <td>44</td>\n",
       "      <td>33</td>\n",
       "      <td>98</td>\n",
       "      <td>60</td>\n",
       "      <td>75</td>\n",
       "      <td>45</td>\n",
       "      <td>76</td>\n",
       "      <td>69</td>\n",
       "      <td>70</td>\n",
       "      <td>78</td>\n",
       "      <td>89</td>\n",
       "      <td>87</td>\n",
       "      <td>96</td>\n",
       "      <td>69</td>\n",
       "      <td>80</td>\n",
       "      <td>78</td>\n",
       "      <td>75</td>\n",
       "      <td>65</td>\n",
       "      <td>67</td>\n",
       "      <td>87</td>\n",
       "    </tr>\n",
       "    <tr>\n",
       "      <th>Grade</th>\n",
       "      <td>NaN</td>\n",
       "      <td>NaN</td>\n",
       "      <td>NaN</td>\n",
       "      <td>NaN</td>\n",
       "      <td>NaN</td>\n",
       "      <td>NaN</td>\n",
       "      <td>NaN</td>\n",
       "      <td>NaN</td>\n",
       "      <td>NaN</td>\n",
       "      <td>NaN</td>\n",
       "      <td>NaN</td>\n",
       "      <td>NaN</td>\n",
       "      <td>NaN</td>\n",
       "      <td>NaN</td>\n",
       "      <td>NaN</td>\n",
       "      <td>NaN</td>\n",
       "      <td>NaN</td>\n",
       "      <td>NaN</td>\n",
       "      <td>NaN</td>\n",
       "      <td>NaN</td>\n",
       "      <td>NaN</td>\n",
       "      <td>NaN</td>\n",
       "      <td>NaN</td>\n",
       "      <td>NaN</td>\n",
       "      <td>NaN</td>\n",
       "      <td>NaN</td>\n",
       "      <td>NaN</td>\n",
       "      <td>NaN</td>\n",
       "      <td>NaN</td>\n",
       "      <td>NaN</td>\n",
       "    </tr>\n",
       "  </tbody>\n",
       "</table>\n",
       "</div>"
      ],
      "text/plain": [
       "              0     1     2      3      4   ...    25    26      27      28      29\n",
       "Name         Ram   Ram   Ram  Shyam  Shyam  ...  Mike  Mike  Harvey  Harvey  Harvey\n",
       "Year        2017  2018  2019   2017   2018  ...  2018  2019    2017    2018    2019\n",
       "Percentage    75    45    68     83     42  ...    78    75      65      67      87\n",
       "Grade        NaN   NaN   NaN    NaN    NaN  ...   NaN   NaN     NaN     NaN     NaN\n",
       "\n",
       "[4 rows x 30 columns]"
      ]
     },
     "execution_count": 193,
     "metadata": {
      "tags": []
     },
     "output_type": "execute_result"
    }
   ],
   "source": [
    "record.T\n"
   ]
  }
 ],
 "metadata": {
  "colab": {
   "collapsed_sections": [],
   "name": "ANKIT19MTS5630LAB(21/09/2020)Task 3.ipynb",
   "provenance": []
  },
  "kernelspec": {
   "display_name": "Python 3",
   "language": "python",
   "name": "python3"
  },
  "language_info": {
   "codemirror_mode": {
    "name": "ipython",
    "version": 3
   },
   "file_extension": ".py",
   "mimetype": "text/x-python",
   "name": "python",
   "nbconvert_exporter": "python",
   "pygments_lexer": "ipython3",
   "version": "3.8.3"
  },
  "toc": {
   "base_numbering": 1,
   "nav_menu": {},
   "number_sections": true,
   "sideBar": true,
   "skip_h1_title": false,
   "title_cell": "Table of Contents",
   "title_sidebar": "Contents",
   "toc_cell": false,
   "toc_position": {},
   "toc_section_display": true,
   "toc_window_display": false
  }
 },
 "nbformat": 4,
 "nbformat_minor": 1
}
