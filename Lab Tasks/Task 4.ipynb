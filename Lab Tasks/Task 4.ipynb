{
 "cells": [
  {
   "cell_type": "markdown",
   "metadata": {
    "id": "JGCXDNY0_Fd8"
   },
   "source": [
    "Name - Ankit\n",
    "Roll No.-19MTS5630\n",
    "Class-BSc Mathematical Science 2nd year(3rd sem)\n",
    "Date-07 Sept 2020\n"
   ]
  },
  {
   "cell_type": "code",
   "execution_count": null,
   "metadata": {
    "id": "kAC-p-E7BTNo"
   },
   "outputs": [],
   "source": [
    "import pandas as pd\n",
    "from pandas import Series, DataFrame"
   ]
  },
  {
   "cell_type": "code",
   "execution_count": null,
   "metadata": {
    "id": "2vIhqY0bBVMQ"
   },
   "outputs": [],
   "source": [
    "import numpy as np"
   ]
  },
  {
   "cell_type": "markdown",
   "metadata": {
    "id": "RkVcnnDK_KeC"
   },
   "source": [
    "1. Create a series of size 20 with random elements in any range and perform the following operations\n"
   ]
  },
  {
   "cell_type": "code",
   "execution_count": null,
   "metadata": {
    "colab": {
     "base_uri": "https://localhost:8080/",
     "height": 370
    },
    "id": "b6XsnT1S_KFD",
    "outputId": "381931a6-ca28-4c0e-bb35-930186c9625f"
   },
   "outputs": [
    {
     "data": {
      "text/plain": [
       "0      0\n",
       "1      1\n",
       "2      2\n",
       "3      3\n",
       "4      4\n",
       "5      5\n",
       "6      6\n",
       "7      7\n",
       "8      8\n",
       "9      9\n",
       "10    10\n",
       "11    11\n",
       "12    12\n",
       "13    13\n",
       "14    14\n",
       "15    15\n",
       "16    16\n",
       "17    17\n",
       "18    18\n",
       "19    19\n",
       "dtype: int64"
      ]
     },
     "execution_count": 4,
     "metadata": {
      "tags": []
     },
     "output_type": "execute_result"
    }
   ],
   "source": [
    "series=pd.Series(np.arange(20))\n",
    "series"
   ]
  },
  {
   "cell_type": "markdown",
   "metadata": {
    "id": "MOwF7HMO_PBu"
   },
   "source": [
    "(a) Change the index from 'a' to 't'\n"
   ]
  },
  {
   "cell_type": "code",
   "execution_count": null,
   "metadata": {
    "colab": {
     "base_uri": "https://localhost:8080/",
     "height": 370
    },
    "id": "YVZvg6bz_Qt1",
    "outputId": "9b32b94b-4710-439d-bc7b-d893cfcb99f0"
   },
   "outputs": [
    {
     "data": {
      "text/plain": [
       "a     0\n",
       "b     1\n",
       "c     2\n",
       "d     3\n",
       "e     4\n",
       "f     5\n",
       "g     6\n",
       "h     7\n",
       "i     8\n",
       "j     9\n",
       "k    10\n",
       "l    11\n",
       "m    12\n",
       "n    13\n",
       "o    14\n",
       "p    15\n",
       "q    16\n",
       "r    17\n",
       "s    18\n",
       "t    19\n",
       "dtype: int64"
      ]
     },
     "execution_count": 6,
     "metadata": {
      "tags": []
     },
     "output_type": "execute_result"
    }
   ],
   "source": [
    "series.index=['a','b','c','d','e','f','g','h','i','j','k','l','m','n','o','p','q','r','s','t']\n",
    "series"
   ]
  },
  {
   "cell_type": "markdown",
   "metadata": {
    "id": "GH2qt_AU_RIs"
   },
   "source": [
    "(b) Assign the values of 4th and 5th element of the series at 'm' and 'n' index position\n"
   ]
  },
  {
   "cell_type": "code",
   "execution_count": null,
   "metadata": {
    "colab": {
     "base_uri": "https://localhost:8080/",
     "height": 370
    },
    "id": "0IX1zkOH_Xf2",
    "outputId": "7d591964-986d-4475-ff31-dd5eec19c9dd"
   },
   "outputs": [
    {
     "data": {
      "text/plain": [
       "a     0\n",
       "b     1\n",
       "c     2\n",
       "d     3\n",
       "e     4\n",
       "f     5\n",
       "g     6\n",
       "h     7\n",
       "i     8\n",
       "j     9\n",
       "k    10\n",
       "l    11\n",
       "m     3\n",
       "n     4\n",
       "o    14\n",
       "p    15\n",
       "q    16\n",
       "r    10\n",
       "s    10\n",
       "t    10\n",
       "dtype: int64"
      ]
     },
     "execution_count": 28,
     "metadata": {
      "tags": []
     },
     "output_type": "execute_result"
    }
   ],
   "source": [
    "series['m','n']=[3,4]\n",
    "series"
   ]
  },
  {
   "cell_type": "markdown",
   "metadata": {
    "id": "xEezQjdt_X2O"
   },
   "source": [
    "(c) Assign 10 value to the last 3 elements of the series\n"
   ]
  },
  {
   "cell_type": "code",
   "execution_count": null,
   "metadata": {
    "colab": {
     "base_uri": "https://localhost:8080/",
     "height": 370
    },
    "id": "QrLnnnxJ_bWE",
    "outputId": "4c953499-f0db-42ec-c68a-f75e1fed732e"
   },
   "outputs": [
    {
     "data": {
      "text/plain": [
       "a     0\n",
       "b     1\n",
       "c     2\n",
       "d     3\n",
       "e     4\n",
       "f     5\n",
       "g     6\n",
       "h     7\n",
       "i     8\n",
       "j     9\n",
       "k    10\n",
       "l    11\n",
       "m    12\n",
       "n    13\n",
       "o    14\n",
       "p    15\n",
       "q    16\n",
       "r    10\n",
       "s    10\n",
       "t    10\n",
       "dtype: int64"
      ]
     },
     "execution_count": 11,
     "metadata": {
      "tags": []
     },
     "output_type": "execute_result"
    }
   ],
   "source": [
    "series[17:]=10\n",
    "series"
   ]
  },
  {
   "cell_type": "markdown",
   "metadata": {
    "id": "Sf0qsW24_b5n"
   },
   "source": [
    "(d) Display the series values from index 'e' to 'r'\n"
   ]
  },
  {
   "cell_type": "code",
   "execution_count": null,
   "metadata": {
    "colab": {
     "base_uri": "https://localhost:8080/",
     "height": 269
    },
    "id": "BLvlDO61_d04",
    "outputId": "6245172f-6d82-41e9-dc2a-1ede814a9187"
   },
   "outputs": [
    {
     "data": {
      "text/plain": [
       "e     4\n",
       "f     5\n",
       "g     6\n",
       "h     7\n",
       "i     8\n",
       "j     9\n",
       "k    10\n",
       "l    11\n",
       "m    12\n",
       "n    13\n",
       "o    14\n",
       "p    15\n",
       "q    16\n",
       "r    10\n",
       "dtype: int64"
      ]
     },
     "execution_count": 12,
     "metadata": {
      "tags": []
     },
     "output_type": "execute_result"
    }
   ],
   "source": [
    "series['e':'r']"
   ]
  },
  {
   "cell_type": "markdown",
   "metadata": {
    "id": "bQNp_iwz_dSU"
   },
   "source": [
    "(e) Using loc function, display first 10 elements of series\n"
   ]
  },
  {
   "cell_type": "code",
   "execution_count": null,
   "metadata": {
    "colab": {
     "base_uri": "https://localhost:8080/",
     "height": 202
    },
    "id": "qM8n5p78_f5u",
    "outputId": "de6c5834-a4c2-47ef-ee9b-beecfc9333e5"
   },
   "outputs": [
    {
     "data": {
      "text/plain": [
       "a    0\n",
       "b    1\n",
       "c    2\n",
       "d    3\n",
       "e    4\n",
       "f    5\n",
       "g    6\n",
       "h    7\n",
       "i    8\n",
       "j    9\n",
       "dtype: int64"
      ]
     },
     "execution_count": 24,
     "metadata": {
      "tags": []
     },
     "output_type": "execute_result"
    }
   ],
   "source": [
    "series.loc[:'j']"
   ]
  },
  {
   "cell_type": "markdown",
   "metadata": {
    "id": "WM1MZLyd_gkq"
   },
   "source": [
    "(f) Using iloc function, display last 10 elements of series\n"
   ]
  },
  {
   "cell_type": "code",
   "execution_count": null,
   "metadata": {
    "colab": {
     "base_uri": "https://localhost:8080/",
     "height": 202
    },
    "id": "lWHMXvp8_iNu",
    "outputId": "99b6608f-2229-49c5-80c0-fc81776ac669"
   },
   "outputs": [
    {
     "data": {
      "text/plain": [
       "k    10\n",
       "l    11\n",
       "m    12\n",
       "n    13\n",
       "o    14\n",
       "p    15\n",
       "q    16\n",
       "r    10\n",
       "s    10\n",
       "t    10\n",
       "dtype: int64"
      ]
     },
     "execution_count": 26,
     "metadata": {
      "tags": []
     },
     "output_type": "execute_result"
    }
   ],
   "source": [
    "series.iloc[10:]"
   ]
  },
  {
   "cell_type": "markdown",
   "metadata": {
    "id": "D1dyr0e6_isN"
   },
   "source": [
    "(g) Sort the values of the series"
   ]
  },
  {
   "cell_type": "code",
   "execution_count": null,
   "metadata": {
    "colab": {
     "base_uri": "https://localhost:8080/",
     "height": 370
    },
    "id": "A7SPoEPu_jdT",
    "outputId": "9473906b-f90b-49c0-8107-07fb218594bc"
   },
   "outputs": [
    {
     "data": {
      "text/plain": [
       "a     0\n",
       "b     1\n",
       "c     2\n",
       "d     3\n",
       "e     4\n",
       "f     5\n",
       "g     6\n",
       "h     7\n",
       "i     8\n",
       "j     9\n",
       "k    10\n",
       "r    10\n",
       "s    10\n",
       "t    10\n",
       "l    11\n",
       "m    12\n",
       "n    13\n",
       "o    14\n",
       "p    15\n",
       "q    16\n",
       "dtype: int64"
      ]
     },
     "execution_count": 22,
     "metadata": {
      "tags": []
     },
     "output_type": "execute_result"
    }
   ],
   "source": [
    "series.sort_values()"
   ]
  },
  {
   "cell_type": "markdown",
   "metadata": {
    "id": "maXsyQFS_rzG"
   },
   "source": [
    "2. Create two dataframes - First having 4 rows and 4 columns and Second with 3 rows and 4 columns, with random data values of your choice, and perform following operations\n"
   ]
  },
  {
   "cell_type": "code",
   "execution_count": null,
   "metadata": {
    "colab": {
     "base_uri": "https://localhost:8080/",
     "height": 166
    },
    "id": "oRJxS9BD_rWV",
    "outputId": "cf400702-40a7-4baf-8aa4-afbaa4d1b51b"
   },
   "outputs": [
    {
     "data": {
      "text/html": [
       "<div>\n",
       "<style scoped>\n",
       "    .dataframe tbody tr th:only-of-type {\n",
       "        vertical-align: middle;\n",
       "    }\n",
       "\n",
       "    .dataframe tbody tr th {\n",
       "        vertical-align: top;\n",
       "    }\n",
       "\n",
       "    .dataframe thead th {\n",
       "        text-align: right;\n",
       "    }\n",
       "</style>\n",
       "<table border=\"1\" class=\"dataframe\">\n",
       "  <thead>\n",
       "    <tr style=\"text-align: right;\">\n",
       "      <th></th>\n",
       "      <th>d</th>\n",
       "      <th>a</th>\n",
       "      <th>c</th>\n",
       "      <th>b</th>\n",
       "    </tr>\n",
       "  </thead>\n",
       "  <tbody>\n",
       "    <tr>\n",
       "      <th>0</th>\n",
       "      <td>-0.336614</td>\n",
       "      <td>1.020264</td>\n",
       "      <td>0.247439</td>\n",
       "      <td>0.817070</td>\n",
       "    </tr>\n",
       "    <tr>\n",
       "      <th>1</th>\n",
       "      <td>-0.770172</td>\n",
       "      <td>0.854277</td>\n",
       "      <td>-1.583654</td>\n",
       "      <td>0.181994</td>\n",
       "    </tr>\n",
       "    <tr>\n",
       "      <th>2</th>\n",
       "      <td>1.045017</td>\n",
       "      <td>-0.008853</td>\n",
       "      <td>1.615692</td>\n",
       "      <td>1.110510</td>\n",
       "    </tr>\n",
       "    <tr>\n",
       "      <th>3</th>\n",
       "      <td>0.604278</td>\n",
       "      <td>-1.729748</td>\n",
       "      <td>0.620739</td>\n",
       "      <td>-0.192867</td>\n",
       "    </tr>\n",
       "  </tbody>\n",
       "</table>\n",
       "</div>"
      ],
      "text/plain": [
       "          d         a         c         b\n",
       "0 -0.336614  1.020264  0.247439  0.817070\n",
       "1 -0.770172  0.854277 -1.583654  0.181994\n",
       "2  1.045017 -0.008853  1.615692  1.110510\n",
       "3  0.604278 -1.729748  0.620739 -0.192867"
      ]
     },
     "execution_count": 70,
     "metadata": {
      "tags": []
     },
     "output_type": "execute_result"
    }
   ],
   "source": [
    "df1 = pd.DataFrame(np.random.randn(4, 4), columns=['d','a','c','b'])\n",
    "df1"
   ]
  },
  {
   "cell_type": "code",
   "execution_count": null,
   "metadata": {
    "colab": {
     "base_uri": "https://localhost:8080/",
     "height": 166
    },
    "id": "mGWdEqm8G3GB",
    "outputId": "6f4eb898-8711-4e92-bc65-72f72ad6ff3f"
   },
   "outputs": [
    {
     "data": {
      "text/html": [
       "<div>\n",
       "<style scoped>\n",
       "    .dataframe tbody tr th:only-of-type {\n",
       "        vertical-align: middle;\n",
       "    }\n",
       "\n",
       "    .dataframe tbody tr th {\n",
       "        vertical-align: top;\n",
       "    }\n",
       "\n",
       "    .dataframe thead th {\n",
       "        text-align: right;\n",
       "    }\n",
       "</style>\n",
       "<table border=\"1\" class=\"dataframe\">\n",
       "  <thead>\n",
       "    <tr style=\"text-align: right;\">\n",
       "      <th></th>\n",
       "      <th>c</th>\n",
       "      <th>b</th>\n",
       "      <th>d</th>\n",
       "      <th>a</th>\n",
       "    </tr>\n",
       "  </thead>\n",
       "  <tbody>\n",
       "    <tr>\n",
       "      <th>0</th>\n",
       "      <td>-0.270190</td>\n",
       "      <td>-1.038231</td>\n",
       "      <td>1.107881</td>\n",
       "      <td>0.584540</td>\n",
       "    </tr>\n",
       "    <tr>\n",
       "      <th>1</th>\n",
       "      <td>1.080931</td>\n",
       "      <td>-0.212864</td>\n",
       "      <td>-1.301556</td>\n",
       "      <td>-1.400217</td>\n",
       "    </tr>\n",
       "    <tr>\n",
       "      <th>2</th>\n",
       "      <td>-1.414878</td>\n",
       "      <td>-1.678289</td>\n",
       "      <td>0.463366</td>\n",
       "      <td>-1.857638</td>\n",
       "    </tr>\n",
       "    <tr>\n",
       "      <th>3</th>\n",
       "      <td>-0.562129</td>\n",
       "      <td>-0.765117</td>\n",
       "      <td>-1.301853</td>\n",
       "      <td>0.231399</td>\n",
       "    </tr>\n",
       "  </tbody>\n",
       "</table>\n",
       "</div>"
      ],
      "text/plain": [
       "          c         b         d         a\n",
       "0 -0.270190 -1.038231  1.107881  0.584540\n",
       "1  1.080931 -0.212864 -1.301556 -1.400217\n",
       "2 -1.414878 -1.678289  0.463366 -1.857638\n",
       "3 -0.562129 -0.765117 -1.301853  0.231399"
      ]
     },
     "execution_count": 69,
     "metadata": {
      "tags": []
     },
     "output_type": "execute_result"
    }
   ],
   "source": [
    "df2 = pd.DataFrame(np.random.randn(4, 4), columns=[ 'c', 'b','d', 'a'])\n",
    "df2"
   ]
  },
  {
   "cell_type": "markdown",
   "metadata": {
    "id": "CSft6tZd_ugf"
   },
   "source": [
    "(a) Perform additions of the two dataframes\n"
   ]
  },
  {
   "cell_type": "code",
   "execution_count": null,
   "metadata": {
    "colab": {
     "base_uri": "https://localhost:8080/",
     "height": 166
    },
    "id": "Qx9EMszQ_vcM",
    "outputId": "e497fd79-39c6-4528-adad-929a944d8fcf"
   },
   "outputs": [
    {
     "data": {
      "text/html": [
       "<div>\n",
       "<style scoped>\n",
       "    .dataframe tbody tr th:only-of-type {\n",
       "        vertical-align: middle;\n",
       "    }\n",
       "\n",
       "    .dataframe tbody tr th {\n",
       "        vertical-align: top;\n",
       "    }\n",
       "\n",
       "    .dataframe thead th {\n",
       "        text-align: right;\n",
       "    }\n",
       "</style>\n",
       "<table border=\"1\" class=\"dataframe\">\n",
       "  <thead>\n",
       "    <tr style=\"text-align: right;\">\n",
       "      <th></th>\n",
       "      <th>a</th>\n",
       "      <th>b</th>\n",
       "      <th>c</th>\n",
       "      <th>d</th>\n",
       "    </tr>\n",
       "  </thead>\n",
       "  <tbody>\n",
       "    <tr>\n",
       "      <th>0</th>\n",
       "      <td>1.604804</td>\n",
       "      <td>-0.221161</td>\n",
       "      <td>-0.022751</td>\n",
       "      <td>0.771267</td>\n",
       "    </tr>\n",
       "    <tr>\n",
       "      <th>1</th>\n",
       "      <td>-0.545940</td>\n",
       "      <td>-0.030870</td>\n",
       "      <td>-0.502723</td>\n",
       "      <td>-2.071728</td>\n",
       "    </tr>\n",
       "    <tr>\n",
       "      <th>2</th>\n",
       "      <td>-1.866491</td>\n",
       "      <td>-0.567779</td>\n",
       "      <td>0.200814</td>\n",
       "      <td>1.508383</td>\n",
       "    </tr>\n",
       "    <tr>\n",
       "      <th>3</th>\n",
       "      <td>-1.498349</td>\n",
       "      <td>-0.957984</td>\n",
       "      <td>0.058609</td>\n",
       "      <td>-0.697575</td>\n",
       "    </tr>\n",
       "  </tbody>\n",
       "</table>\n",
       "</div>"
      ],
      "text/plain": [
       "          a         b         c         d\n",
       "0  1.604804 -0.221161 -0.022751  0.771267\n",
       "1 -0.545940 -0.030870 -0.502723 -2.071728\n",
       "2 -1.866491 -0.567779  0.200814  1.508383\n",
       "3 -1.498349 -0.957984  0.058609 -0.697575"
      ]
     },
     "execution_count": 71,
     "metadata": {
      "tags": []
     },
     "output_type": "execute_result"
    }
   ],
   "source": [
    "df1+df2"
   ]
  },
  {
   "cell_type": "markdown",
   "metadata": {
    "id": "rkii6clo_zRB"
   },
   "source": [
    "(b) Perform difference of the two dataframes\n"
   ]
  },
  {
   "cell_type": "code",
   "execution_count": null,
   "metadata": {
    "colab": {
     "base_uri": "https://localhost:8080/",
     "height": 166
    },
    "id": "ySW2VdBgAbaa",
    "outputId": "cec331a6-691b-4d76-a3db-a2c0c9a505f7"
   },
   "outputs": [
    {
     "data": {
      "text/html": [
       "<div>\n",
       "<style scoped>\n",
       "    .dataframe tbody tr th:only-of-type {\n",
       "        vertical-align: middle;\n",
       "    }\n",
       "\n",
       "    .dataframe tbody tr th {\n",
       "        vertical-align: top;\n",
       "    }\n",
       "\n",
       "    .dataframe thead th {\n",
       "        text-align: right;\n",
       "    }\n",
       "</style>\n",
       "<table border=\"1\" class=\"dataframe\">\n",
       "  <thead>\n",
       "    <tr style=\"text-align: right;\">\n",
       "      <th></th>\n",
       "      <th>a</th>\n",
       "      <th>b</th>\n",
       "      <th>c</th>\n",
       "      <th>d</th>\n",
       "    </tr>\n",
       "  </thead>\n",
       "  <tbody>\n",
       "    <tr>\n",
       "      <th>0</th>\n",
       "      <td>0.435724</td>\n",
       "      <td>1.855301</td>\n",
       "      <td>0.517629</td>\n",
       "      <td>-1.444495</td>\n",
       "    </tr>\n",
       "    <tr>\n",
       "      <th>1</th>\n",
       "      <td>2.254494</td>\n",
       "      <td>0.394858</td>\n",
       "      <td>-2.664585</td>\n",
       "      <td>0.531384</td>\n",
       "    </tr>\n",
       "    <tr>\n",
       "      <th>2</th>\n",
       "      <td>1.848785</td>\n",
       "      <td>2.788798</td>\n",
       "      <td>3.030570</td>\n",
       "      <td>0.581650</td>\n",
       "    </tr>\n",
       "    <tr>\n",
       "      <th>3</th>\n",
       "      <td>-1.961147</td>\n",
       "      <td>0.572250</td>\n",
       "      <td>1.182868</td>\n",
       "      <td>1.906131</td>\n",
       "    </tr>\n",
       "  </tbody>\n",
       "</table>\n",
       "</div>"
      ],
      "text/plain": [
       "          a         b         c         d\n",
       "0  0.435724  1.855301  0.517629 -1.444495\n",
       "1  2.254494  0.394858 -2.664585  0.531384\n",
       "2  1.848785  2.788798  3.030570  0.581650\n",
       "3 -1.961147  0.572250  1.182868  1.906131"
      ]
     },
     "execution_count": 72,
     "metadata": {
      "tags": []
     },
     "output_type": "execute_result"
    }
   ],
   "source": [
    "df1-df2"
   ]
  },
  {
   "cell_type": "markdown",
   "metadata": {
    "id": "7ahze_pJ_1au"
   },
   "source": [
    "(c) Change the diagonal values in the first dataframe to NaN and then perform addition and substraction of the two dataframes \n"
   ]
  },
  {
   "cell_type": "code",
   "execution_count": null,
   "metadata": {
    "colab": {
     "base_uri": "https://localhost:8080/",
     "height": 166
    },
    "id": "Zzyuqp6YAb2g",
    "outputId": "440d4976-c8d4-4cf7-c594-b2e1c9b401f4"
   },
   "outputs": [
    {
     "data": {
      "text/html": [
       "<div>\n",
       "<style scoped>\n",
       "    .dataframe tbody tr th:only-of-type {\n",
       "        vertical-align: middle;\n",
       "    }\n",
       "\n",
       "    .dataframe tbody tr th {\n",
       "        vertical-align: top;\n",
       "    }\n",
       "\n",
       "    .dataframe thead th {\n",
       "        text-align: right;\n",
       "    }\n",
       "</style>\n",
       "<table border=\"1\" class=\"dataframe\">\n",
       "  <thead>\n",
       "    <tr style=\"text-align: right;\">\n",
       "      <th></th>\n",
       "      <th>d</th>\n",
       "      <th>a</th>\n",
       "      <th>c</th>\n",
       "      <th>b</th>\n",
       "    </tr>\n",
       "  </thead>\n",
       "  <tbody>\n",
       "    <tr>\n",
       "      <th>0</th>\n",
       "      <td>-0.336614</td>\n",
       "      <td>NaN</td>\n",
       "      <td>0.247439</td>\n",
       "      <td>0.817070</td>\n",
       "    </tr>\n",
       "    <tr>\n",
       "      <th>1</th>\n",
       "      <td>-0.770172</td>\n",
       "      <td>0.854277</td>\n",
       "      <td>-1.583654</td>\n",
       "      <td>NaN</td>\n",
       "    </tr>\n",
       "    <tr>\n",
       "      <th>2</th>\n",
       "      <td>1.045017</td>\n",
       "      <td>-0.008853</td>\n",
       "      <td>NaN</td>\n",
       "      <td>1.110510</td>\n",
       "    </tr>\n",
       "    <tr>\n",
       "      <th>3</th>\n",
       "      <td>NaN</td>\n",
       "      <td>-1.729748</td>\n",
       "      <td>0.620739</td>\n",
       "      <td>-0.192867</td>\n",
       "    </tr>\n",
       "  </tbody>\n",
       "</table>\n",
       "</div>"
      ],
      "text/plain": [
       "          d         a         c         b\n",
       "0 -0.336614       NaN  0.247439  0.817070\n",
       "1 -0.770172  0.854277 -1.583654       NaN\n",
       "2  1.045017 -0.008853       NaN  1.110510\n",
       "3       NaN -1.729748  0.620739 -0.192867"
      ]
     },
     "execution_count": 73,
     "metadata": {
      "tags": []
     },
     "output_type": "execute_result"
    }
   ],
   "source": [
    "df1.loc[0, 'a']= np.nan\n",
    "df1.loc[1, 'b']= np.nan\n",
    "df1.loc[2, 'c']= np.nan\n",
    "df1.loc[3, 'd']= np.nan\n",
    "df1"
   ]
  },
  {
   "cell_type": "code",
   "execution_count": null,
   "metadata": {
    "colab": {
     "base_uri": "https://localhost:8080/",
     "height": 166
    },
    "id": "jr8K6UOLIckI",
    "outputId": "14be3487-dcf7-4b76-d2ea-4d985de62606"
   },
   "outputs": [
    {
     "data": {
      "text/html": [
       "<div>\n",
       "<style scoped>\n",
       "    .dataframe tbody tr th:only-of-type {\n",
       "        vertical-align: middle;\n",
       "    }\n",
       "\n",
       "    .dataframe tbody tr th {\n",
       "        vertical-align: top;\n",
       "    }\n",
       "\n",
       "    .dataframe thead th {\n",
       "        text-align: right;\n",
       "    }\n",
       "</style>\n",
       "<table border=\"1\" class=\"dataframe\">\n",
       "  <thead>\n",
       "    <tr style=\"text-align: right;\">\n",
       "      <th></th>\n",
       "      <th>a</th>\n",
       "      <th>b</th>\n",
       "      <th>c</th>\n",
       "      <th>d</th>\n",
       "    </tr>\n",
       "  </thead>\n",
       "  <tbody>\n",
       "    <tr>\n",
       "      <th>0</th>\n",
       "      <td>NaN</td>\n",
       "      <td>-0.221161</td>\n",
       "      <td>-0.022751</td>\n",
       "      <td>0.771267</td>\n",
       "    </tr>\n",
       "    <tr>\n",
       "      <th>1</th>\n",
       "      <td>-0.545940</td>\n",
       "      <td>NaN</td>\n",
       "      <td>-0.502723</td>\n",
       "      <td>-2.071728</td>\n",
       "    </tr>\n",
       "    <tr>\n",
       "      <th>2</th>\n",
       "      <td>-1.866491</td>\n",
       "      <td>-0.567779</td>\n",
       "      <td>NaN</td>\n",
       "      <td>1.508383</td>\n",
       "    </tr>\n",
       "    <tr>\n",
       "      <th>3</th>\n",
       "      <td>-1.498349</td>\n",
       "      <td>-0.957984</td>\n",
       "      <td>0.058609</td>\n",
       "      <td>NaN</td>\n",
       "    </tr>\n",
       "  </tbody>\n",
       "</table>\n",
       "</div>"
      ],
      "text/plain": [
       "          a         b         c         d\n",
       "0       NaN -0.221161 -0.022751  0.771267\n",
       "1 -0.545940       NaN -0.502723 -2.071728\n",
       "2 -1.866491 -0.567779       NaN  1.508383\n",
       "3 -1.498349 -0.957984  0.058609       NaN"
      ]
     },
     "execution_count": 74,
     "metadata": {
      "tags": []
     },
     "output_type": "execute_result"
    }
   ],
   "source": [
    "#additon\n",
    "df1+df2"
   ]
  },
  {
   "cell_type": "code",
   "execution_count": null,
   "metadata": {
    "colab": {
     "base_uri": "https://localhost:8080/",
     "height": 166
    },
    "id": "HCEtXUrKIg3e",
    "outputId": "5cfe3359-c408-46d2-cca1-3f806348d537"
   },
   "outputs": [
    {
     "data": {
      "text/html": [
       "<div>\n",
       "<style scoped>\n",
       "    .dataframe tbody tr th:only-of-type {\n",
       "        vertical-align: middle;\n",
       "    }\n",
       "\n",
       "    .dataframe tbody tr th {\n",
       "        vertical-align: top;\n",
       "    }\n",
       "\n",
       "    .dataframe thead th {\n",
       "        text-align: right;\n",
       "    }\n",
       "</style>\n",
       "<table border=\"1\" class=\"dataframe\">\n",
       "  <thead>\n",
       "    <tr style=\"text-align: right;\">\n",
       "      <th></th>\n",
       "      <th>a</th>\n",
       "      <th>b</th>\n",
       "      <th>c</th>\n",
       "      <th>d</th>\n",
       "    </tr>\n",
       "  </thead>\n",
       "  <tbody>\n",
       "    <tr>\n",
       "      <th>0</th>\n",
       "      <td>NaN</td>\n",
       "      <td>1.855301</td>\n",
       "      <td>0.517629</td>\n",
       "      <td>-1.444495</td>\n",
       "    </tr>\n",
       "    <tr>\n",
       "      <th>1</th>\n",
       "      <td>2.254494</td>\n",
       "      <td>NaN</td>\n",
       "      <td>-2.664585</td>\n",
       "      <td>0.531384</td>\n",
       "    </tr>\n",
       "    <tr>\n",
       "      <th>2</th>\n",
       "      <td>1.848785</td>\n",
       "      <td>2.788798</td>\n",
       "      <td>NaN</td>\n",
       "      <td>0.581650</td>\n",
       "    </tr>\n",
       "    <tr>\n",
       "      <th>3</th>\n",
       "      <td>-1.961147</td>\n",
       "      <td>0.572250</td>\n",
       "      <td>1.182868</td>\n",
       "      <td>NaN</td>\n",
       "    </tr>\n",
       "  </tbody>\n",
       "</table>\n",
       "</div>"
      ],
      "text/plain": [
       "          a         b         c         d\n",
       "0       NaN  1.855301  0.517629 -1.444495\n",
       "1  2.254494       NaN -2.664585  0.531384\n",
       "2  1.848785  2.788798       NaN  0.581650\n",
       "3 -1.961147  0.572250  1.182868       NaN"
      ]
     },
     "execution_count": 75,
     "metadata": {
      "tags": []
     },
     "output_type": "execute_result"
    }
   ],
   "source": [
    "#subtraction\n",
    "df1-df2"
   ]
  },
  {
   "cell_type": "markdown",
   "metadata": {
    "id": "zg_RJYVZ_-_t"
   },
   "source": [
    "(d) While adding the two dataframes, fill 100 in place of Nan values.\n"
   ]
  },
  {
   "cell_type": "code",
   "execution_count": null,
   "metadata": {
    "colab": {
     "base_uri": "https://localhost:8080/",
     "height": 166
    },
    "id": "oGVySP63AcSo",
    "outputId": "713ec042-4792-4cd1-e286-2029817aeb45"
   },
   "outputs": [
    {
     "data": {
      "text/html": [
       "<div>\n",
       "<style scoped>\n",
       "    .dataframe tbody tr th:only-of-type {\n",
       "        vertical-align: middle;\n",
       "    }\n",
       "\n",
       "    .dataframe tbody tr th {\n",
       "        vertical-align: top;\n",
       "    }\n",
       "\n",
       "    .dataframe thead th {\n",
       "        text-align: right;\n",
       "    }\n",
       "</style>\n",
       "<table border=\"1\" class=\"dataframe\">\n",
       "  <thead>\n",
       "    <tr style=\"text-align: right;\">\n",
       "      <th></th>\n",
       "      <th>a</th>\n",
       "      <th>b</th>\n",
       "      <th>c</th>\n",
       "      <th>d</th>\n",
       "    </tr>\n",
       "  </thead>\n",
       "  <tbody>\n",
       "    <tr>\n",
       "      <th>0</th>\n",
       "      <td>100.584540</td>\n",
       "      <td>-0.221161</td>\n",
       "      <td>-0.022751</td>\n",
       "      <td>0.771267</td>\n",
       "    </tr>\n",
       "    <tr>\n",
       "      <th>1</th>\n",
       "      <td>-0.545940</td>\n",
       "      <td>99.787136</td>\n",
       "      <td>-0.502723</td>\n",
       "      <td>-2.071728</td>\n",
       "    </tr>\n",
       "    <tr>\n",
       "      <th>2</th>\n",
       "      <td>-1.866491</td>\n",
       "      <td>-0.567779</td>\n",
       "      <td>98.585122</td>\n",
       "      <td>1.508383</td>\n",
       "    </tr>\n",
       "    <tr>\n",
       "      <th>3</th>\n",
       "      <td>-1.498349</td>\n",
       "      <td>-0.957984</td>\n",
       "      <td>0.058609</td>\n",
       "      <td>98.698147</td>\n",
       "    </tr>\n",
       "  </tbody>\n",
       "</table>\n",
       "</div>"
      ],
      "text/plain": [
       "            a          b          c          d\n",
       "0  100.584540  -0.221161  -0.022751   0.771267\n",
       "1   -0.545940  99.787136  -0.502723  -2.071728\n",
       "2   -1.866491  -0.567779  98.585122   1.508383\n",
       "3   -1.498349  -0.957984   0.058609  98.698147"
      ]
     },
     "execution_count": 76,
     "metadata": {
      "tags": []
     },
     "output_type": "execute_result"
    }
   ],
   "source": [
    "df1.add(df2,fill_value=100)"
   ]
  },
  {
   "cell_type": "markdown",
   "metadata": {
    "id": "gZR58FmaABEo"
   },
   "source": [
    "(e) Perform Division of two dataframes\n"
   ]
  },
  {
   "cell_type": "code",
   "execution_count": null,
   "metadata": {
    "colab": {
     "base_uri": "https://localhost:8080/",
     "height": 166
    },
    "id": "vUGSexSuAckH",
    "outputId": "572942a9-8974-433a-9103-2ca8f2fe8f93"
   },
   "outputs": [
    {
     "data": {
      "text/html": [
       "<div>\n",
       "<style scoped>\n",
       "    .dataframe tbody tr th:only-of-type {\n",
       "        vertical-align: middle;\n",
       "    }\n",
       "\n",
       "    .dataframe tbody tr th {\n",
       "        vertical-align: top;\n",
       "    }\n",
       "\n",
       "    .dataframe thead th {\n",
       "        text-align: right;\n",
       "    }\n",
       "</style>\n",
       "<table border=\"1\" class=\"dataframe\">\n",
       "  <thead>\n",
       "    <tr style=\"text-align: right;\">\n",
       "      <th></th>\n",
       "      <th>a</th>\n",
       "      <th>b</th>\n",
       "      <th>c</th>\n",
       "      <th>d</th>\n",
       "    </tr>\n",
       "  </thead>\n",
       "  <tbody>\n",
       "    <tr>\n",
       "      <th>0</th>\n",
       "      <td>0.584540</td>\n",
       "      <td>-1.270675</td>\n",
       "      <td>-1.091946</td>\n",
       "      <td>-3.291252</td>\n",
       "    </tr>\n",
       "    <tr>\n",
       "      <th>1</th>\n",
       "      <td>-1.639067</td>\n",
       "      <td>-0.212864</td>\n",
       "      <td>-0.682555</td>\n",
       "      <td>1.689955</td>\n",
       "    </tr>\n",
       "    <tr>\n",
       "      <th>2</th>\n",
       "      <td>209.834922</td>\n",
       "      <td>-1.511278</td>\n",
       "      <td>-1.414878</td>\n",
       "      <td>0.443406</td>\n",
       "    </tr>\n",
       "    <tr>\n",
       "      <th>3</th>\n",
       "      <td>-0.133776</td>\n",
       "      <td>3.967077</td>\n",
       "      <td>-0.905581</td>\n",
       "      <td>-1.301853</td>\n",
       "    </tr>\n",
       "  </tbody>\n",
       "</table>\n",
       "</div>"
      ],
      "text/plain": [
       "            a         b         c         d\n",
       "0    0.584540 -1.270675 -1.091946 -3.291252\n",
       "1   -1.639067 -0.212864 -0.682555  1.689955\n",
       "2  209.834922 -1.511278 -1.414878  0.443406\n",
       "3   -0.133776  3.967077 -0.905581 -1.301853"
      ]
     },
     "execution_count": 77,
     "metadata": {
      "tags": []
     },
     "output_type": "execute_result"
    }
   ],
   "source": [
    "df1.rdiv(df2,fill_value=1)"
   ]
  },
  {
   "cell_type": "markdown",
   "metadata": {
    "id": "xwaCHjs7ADkS"
   },
   "source": [
    "(f) Write a function to print difference between highest and lowest values of each column of both the dataframes\n"
   ]
  },
  {
   "cell_type": "code",
   "execution_count": null,
   "metadata": {
    "colab": {
     "base_uri": "https://localhost:8080/",
     "height": 101
    },
    "id": "FEqemmEyAc5-",
    "outputId": "1a982f1d-268c-4974-c6cb-62b678fd7075"
   },
   "outputs": [
    {
     "data": {
      "text/plain": [
       "d    1.815188\n",
       "a    2.584025\n",
       "c    2.204393\n",
       "b    1.303376\n",
       "dtype: float64"
      ]
     },
     "execution_count": 78,
     "metadata": {
      "tags": []
     },
     "output_type": "execute_result"
    }
   ],
   "source": [
    "cfunction = lambda x: x.max() - x.min()\n",
    "df1.apply(cfunction)\n"
   ]
  },
  {
   "cell_type": "code",
   "execution_count": null,
   "metadata": {
    "colab": {
     "base_uri": "https://localhost:8080/",
     "height": 101
    },
    "id": "q9ibdOb9JhSB",
    "outputId": "48e1bbc9-0711-4853-ac17-7772d47f508b"
   },
   "outputs": [
    {
     "data": {
      "text/plain": [
       "c    2.495809\n",
       "b    1.465424\n",
       "d    2.409734\n",
       "a    2.442178\n",
       "dtype: float64"
      ]
     },
     "execution_count": 79,
     "metadata": {
      "tags": []
     },
     "output_type": "execute_result"
    }
   ],
   "source": [
    "#data frame 2\n",
    "df2.apply(cfunction)"
   ]
  },
  {
   "cell_type": "markdown",
   "metadata": {
    "id": "i23I9-ZRAFND"
   },
   "source": [
    "(g) Write a function to print difference between highest and lowest values of each row of both the dataframes\n"
   ]
  },
  {
   "cell_type": "code",
   "execution_count": null,
   "metadata": {
    "colab": {
     "base_uri": "https://localhost:8080/",
     "height": 101
    },
    "id": "071WJQLgAdrn",
    "outputId": "4e729ec1-0947-456c-cd80-b789d270639f"
   },
   "outputs": [
    {
     "data": {
      "text/plain": [
       "0    1.153684\n",
       "1    2.437931\n",
       "2    1.119362\n",
       "3    2.350487\n",
       "dtype: float64"
      ]
     },
     "execution_count": 80,
     "metadata": {
      "tags": []
     },
     "output_type": "execute_result"
    }
   ],
   "source": [
    "rfunction = lambda x: x.max() - x.min()\n",
    "df1.apply(rfunction,axis='columns')"
   ]
  },
  {
   "cell_type": "code",
   "execution_count": null,
   "metadata": {
    "colab": {
     "base_uri": "https://localhost:8080/",
     "height": 101
    },
    "id": "8hhtAIDoJpJ9",
    "outputId": "0462399b-3502-48fc-9332-d84c3911700d"
   },
   "outputs": [
    {
     "data": {
      "text/plain": [
       "0    1.323301\n",
       "1    0.342514\n",
       "2    1.707541\n",
       "3    0.988256\n",
       "dtype: float64"
      ]
     },
     "execution_count": 50,
     "metadata": {
      "tags": []
     },
     "output_type": "execute_result"
    }
   ],
   "source": [
    "#data frame 2\n",
    "df2.apply(rfunction,axis='columns')"
   ]
  },
  {
   "cell_type": "markdown",
   "metadata": {
    "id": "7_DT2o2zAGmy"
   },
   "source": [
    "(h) Sort the index of both the dataframes columnwise and row-wise\n"
   ]
  },
  {
   "cell_type": "code",
   "execution_count": null,
   "metadata": {
    "colab": {
     "base_uri": "https://localhost:8080/",
     "height": 166
    },
    "id": "LICoAJx4AeNG",
    "outputId": "9b4e5851-a70f-40e7-b310-46b309078e5e"
   },
   "outputs": [
    {
     "data": {
      "text/html": [
       "<div>\n",
       "<style scoped>\n",
       "    .dataframe tbody tr th:only-of-type {\n",
       "        vertical-align: middle;\n",
       "    }\n",
       "\n",
       "    .dataframe tbody tr th {\n",
       "        vertical-align: top;\n",
       "    }\n",
       "\n",
       "    .dataframe thead th {\n",
       "        text-align: right;\n",
       "    }\n",
       "</style>\n",
       "<table border=\"1\" class=\"dataframe\">\n",
       "  <thead>\n",
       "    <tr style=\"text-align: right;\">\n",
       "      <th></th>\n",
       "      <th>d</th>\n",
       "      <th>a</th>\n",
       "      <th>c</th>\n",
       "      <th>b</th>\n",
       "    </tr>\n",
       "  </thead>\n",
       "  <tbody>\n",
       "    <tr>\n",
       "      <th>0</th>\n",
       "      <td>-0.336614</td>\n",
       "      <td>NaN</td>\n",
       "      <td>0.247439</td>\n",
       "      <td>0.817070</td>\n",
       "    </tr>\n",
       "    <tr>\n",
       "      <th>1</th>\n",
       "      <td>-0.770172</td>\n",
       "      <td>0.854277</td>\n",
       "      <td>-1.583654</td>\n",
       "      <td>NaN</td>\n",
       "    </tr>\n",
       "    <tr>\n",
       "      <th>2</th>\n",
       "      <td>1.045017</td>\n",
       "      <td>-0.008853</td>\n",
       "      <td>NaN</td>\n",
       "      <td>1.110510</td>\n",
       "    </tr>\n",
       "    <tr>\n",
       "      <th>3</th>\n",
       "      <td>NaN</td>\n",
       "      <td>-1.729748</td>\n",
       "      <td>0.620739</td>\n",
       "      <td>-0.192867</td>\n",
       "    </tr>\n",
       "  </tbody>\n",
       "</table>\n",
       "</div>"
      ],
      "text/plain": [
       "          d         a         c         b\n",
       "0 -0.336614       NaN  0.247439  0.817070\n",
       "1 -0.770172  0.854277 -1.583654       NaN\n",
       "2  1.045017 -0.008853       NaN  1.110510\n",
       "3       NaN -1.729748  0.620739 -0.192867"
      ]
     },
     "execution_count": 81,
     "metadata": {
      "tags": []
     },
     "output_type": "execute_result"
    }
   ],
   "source": [
    "#row wise \n",
    "df1.sort_index()"
   ]
  },
  {
   "cell_type": "code",
   "execution_count": null,
   "metadata": {
    "colab": {
     "base_uri": "https://localhost:8080/",
     "height": 166
    },
    "id": "jRSC_AwOJ9Ct",
    "outputId": "d079bc8a-cb7f-4922-a220-19a4dc41bc7c"
   },
   "outputs": [
    {
     "data": {
      "text/html": [
       "<div>\n",
       "<style scoped>\n",
       "    .dataframe tbody tr th:only-of-type {\n",
       "        vertical-align: middle;\n",
       "    }\n",
       "\n",
       "    .dataframe tbody tr th {\n",
       "        vertical-align: top;\n",
       "    }\n",
       "\n",
       "    .dataframe thead th {\n",
       "        text-align: right;\n",
       "    }\n",
       "</style>\n",
       "<table border=\"1\" class=\"dataframe\">\n",
       "  <thead>\n",
       "    <tr style=\"text-align: right;\">\n",
       "      <th></th>\n",
       "      <th>c</th>\n",
       "      <th>b</th>\n",
       "      <th>d</th>\n",
       "      <th>a</th>\n",
       "    </tr>\n",
       "  </thead>\n",
       "  <tbody>\n",
       "    <tr>\n",
       "      <th>0</th>\n",
       "      <td>-0.270190</td>\n",
       "      <td>-1.038231</td>\n",
       "      <td>1.107881</td>\n",
       "      <td>0.584540</td>\n",
       "    </tr>\n",
       "    <tr>\n",
       "      <th>1</th>\n",
       "      <td>1.080931</td>\n",
       "      <td>-0.212864</td>\n",
       "      <td>-1.301556</td>\n",
       "      <td>-1.400217</td>\n",
       "    </tr>\n",
       "    <tr>\n",
       "      <th>2</th>\n",
       "      <td>-1.414878</td>\n",
       "      <td>-1.678289</td>\n",
       "      <td>0.463366</td>\n",
       "      <td>-1.857638</td>\n",
       "    </tr>\n",
       "    <tr>\n",
       "      <th>3</th>\n",
       "      <td>-0.562129</td>\n",
       "      <td>-0.765117</td>\n",
       "      <td>-1.301853</td>\n",
       "      <td>0.231399</td>\n",
       "    </tr>\n",
       "  </tbody>\n",
       "</table>\n",
       "</div>"
      ],
      "text/plain": [
       "          c         b         d         a\n",
       "0 -0.270190 -1.038231  1.107881  0.584540\n",
       "1  1.080931 -0.212864 -1.301556 -1.400217\n",
       "2 -1.414878 -1.678289  0.463366 -1.857638\n",
       "3 -0.562129 -0.765117 -1.301853  0.231399"
      ]
     },
     "execution_count": 82,
     "metadata": {
      "tags": []
     },
     "output_type": "execute_result"
    }
   ],
   "source": [
    "#data frame 2\n",
    "df2.sort_index()"
   ]
  },
  {
   "cell_type": "code",
   "execution_count": null,
   "metadata": {
    "colab": {
     "base_uri": "https://localhost:8080/",
     "height": 166
    },
    "id": "Vdg1wSAbKBPX",
    "outputId": "7b1906e1-556c-4d8d-8b64-975f1bcb20f6"
   },
   "outputs": [
    {
     "data": {
      "text/html": [
       "<div>\n",
       "<style scoped>\n",
       "    .dataframe tbody tr th:only-of-type {\n",
       "        vertical-align: middle;\n",
       "    }\n",
       "\n",
       "    .dataframe tbody tr th {\n",
       "        vertical-align: top;\n",
       "    }\n",
       "\n",
       "    .dataframe thead th {\n",
       "        text-align: right;\n",
       "    }\n",
       "</style>\n",
       "<table border=\"1\" class=\"dataframe\">\n",
       "  <thead>\n",
       "    <tr style=\"text-align: right;\">\n",
       "      <th></th>\n",
       "      <th>a</th>\n",
       "      <th>b</th>\n",
       "      <th>c</th>\n",
       "      <th>d</th>\n",
       "    </tr>\n",
       "  </thead>\n",
       "  <tbody>\n",
       "    <tr>\n",
       "      <th>0</th>\n",
       "      <td>NaN</td>\n",
       "      <td>0.817070</td>\n",
       "      <td>0.247439</td>\n",
       "      <td>-0.336614</td>\n",
       "    </tr>\n",
       "    <tr>\n",
       "      <th>1</th>\n",
       "      <td>0.854277</td>\n",
       "      <td>NaN</td>\n",
       "      <td>-1.583654</td>\n",
       "      <td>-0.770172</td>\n",
       "    </tr>\n",
       "    <tr>\n",
       "      <th>2</th>\n",
       "      <td>-0.008853</td>\n",
       "      <td>1.110510</td>\n",
       "      <td>NaN</td>\n",
       "      <td>1.045017</td>\n",
       "    </tr>\n",
       "    <tr>\n",
       "      <th>3</th>\n",
       "      <td>-1.729748</td>\n",
       "      <td>-0.192867</td>\n",
       "      <td>0.620739</td>\n",
       "      <td>NaN</td>\n",
       "    </tr>\n",
       "  </tbody>\n",
       "</table>\n",
       "</div>"
      ],
      "text/plain": [
       "          a         b         c         d\n",
       "0       NaN  0.817070  0.247439 -0.336614\n",
       "1  0.854277       NaN -1.583654 -0.770172\n",
       "2 -0.008853  1.110510       NaN  1.045017\n",
       "3 -1.729748 -0.192867  0.620739       NaN"
      ]
     },
     "execution_count": 83,
     "metadata": {
      "tags": []
     },
     "output_type": "execute_result"
    }
   ],
   "source": [
    "# column wise\n",
    "df1.sort_index(axis=1)"
   ]
  },
  {
   "cell_type": "code",
   "execution_count": null,
   "metadata": {
    "colab": {
     "base_uri": "https://localhost:8080/",
     "height": 166
    },
    "id": "xMyGRt6wKFff",
    "outputId": "72160abf-8a85-4183-ee0f-b53697069c12"
   },
   "outputs": [
    {
     "data": {
      "text/html": [
       "<div>\n",
       "<style scoped>\n",
       "    .dataframe tbody tr th:only-of-type {\n",
       "        vertical-align: middle;\n",
       "    }\n",
       "\n",
       "    .dataframe tbody tr th {\n",
       "        vertical-align: top;\n",
       "    }\n",
       "\n",
       "    .dataframe thead th {\n",
       "        text-align: right;\n",
       "    }\n",
       "</style>\n",
       "<table border=\"1\" class=\"dataframe\">\n",
       "  <thead>\n",
       "    <tr style=\"text-align: right;\">\n",
       "      <th></th>\n",
       "      <th>a</th>\n",
       "      <th>b</th>\n",
       "      <th>c</th>\n",
       "      <th>d</th>\n",
       "    </tr>\n",
       "  </thead>\n",
       "  <tbody>\n",
       "    <tr>\n",
       "      <th>0</th>\n",
       "      <td>NaN</td>\n",
       "      <td>0.817070</td>\n",
       "      <td>0.247439</td>\n",
       "      <td>-0.336614</td>\n",
       "    </tr>\n",
       "    <tr>\n",
       "      <th>1</th>\n",
       "      <td>0.854277</td>\n",
       "      <td>NaN</td>\n",
       "      <td>-1.583654</td>\n",
       "      <td>-0.770172</td>\n",
       "    </tr>\n",
       "    <tr>\n",
       "      <th>2</th>\n",
       "      <td>-0.008853</td>\n",
       "      <td>1.110510</td>\n",
       "      <td>NaN</td>\n",
       "      <td>1.045017</td>\n",
       "    </tr>\n",
       "    <tr>\n",
       "      <th>3</th>\n",
       "      <td>-1.729748</td>\n",
       "      <td>-0.192867</td>\n",
       "      <td>0.620739</td>\n",
       "      <td>NaN</td>\n",
       "    </tr>\n",
       "  </tbody>\n",
       "</table>\n",
       "</div>"
      ],
      "text/plain": [
       "          a         b         c         d\n",
       "0       NaN  0.817070  0.247439 -0.336614\n",
       "1  0.854277       NaN -1.583654 -0.770172\n",
       "2 -0.008853  1.110510       NaN  1.045017\n",
       "3 -1.729748 -0.192867  0.620739       NaN"
      ]
     },
     "execution_count": 84,
     "metadata": {
      "tags": []
     },
     "output_type": "execute_result"
    }
   ],
   "source": [
    "#data frame 2\n",
    "df1.sort_index(axis=1)"
   ]
  },
  {
   "cell_type": "markdown",
   "metadata": {
    "id": "x8pqkTViAIMd"
   },
   "source": [
    "(i) Sort the values of both the dataframes column-wise and row-wise\n"
   ]
  },
  {
   "cell_type": "code",
   "execution_count": null,
   "metadata": {
    "colab": {
     "base_uri": "https://localhost:8080/",
     "height": 166
    },
    "id": "CNLzCPuBAeee",
    "outputId": "8f089d6d-cb9c-444f-d677-4e740b450503"
   },
   "outputs": [
    {
     "data": {
      "text/html": [
       "<div>\n",
       "<style scoped>\n",
       "    .dataframe tbody tr th:only-of-type {\n",
       "        vertical-align: middle;\n",
       "    }\n",
       "\n",
       "    .dataframe tbody tr th {\n",
       "        vertical-align: top;\n",
       "    }\n",
       "\n",
       "    .dataframe thead th {\n",
       "        text-align: right;\n",
       "    }\n",
       "</style>\n",
       "<table border=\"1\" class=\"dataframe\">\n",
       "  <thead>\n",
       "    <tr style=\"text-align: right;\">\n",
       "      <th></th>\n",
       "      <th>d</th>\n",
       "      <th>c</th>\n",
       "      <th>b</th>\n",
       "      <th>a</th>\n",
       "    </tr>\n",
       "  </thead>\n",
       "  <tbody>\n",
       "    <tr>\n",
       "      <th>0</th>\n",
       "      <td>-0.336614</td>\n",
       "      <td>0.247439</td>\n",
       "      <td>0.817070</td>\n",
       "      <td>NaN</td>\n",
       "    </tr>\n",
       "    <tr>\n",
       "      <th>1</th>\n",
       "      <td>-0.770172</td>\n",
       "      <td>-1.583654</td>\n",
       "      <td>NaN</td>\n",
       "      <td>0.854277</td>\n",
       "    </tr>\n",
       "    <tr>\n",
       "      <th>2</th>\n",
       "      <td>1.045017</td>\n",
       "      <td>NaN</td>\n",
       "      <td>1.110510</td>\n",
       "      <td>-0.008853</td>\n",
       "    </tr>\n",
       "    <tr>\n",
       "      <th>3</th>\n",
       "      <td>NaN</td>\n",
       "      <td>0.620739</td>\n",
       "      <td>-0.192867</td>\n",
       "      <td>-1.729748</td>\n",
       "    </tr>\n",
       "  </tbody>\n",
       "</table>\n",
       "</div>"
      ],
      "text/plain": [
       "          d         c         b         a\n",
       "0 -0.336614  0.247439  0.817070       NaN\n",
       "1 -0.770172 -1.583654       NaN  0.854277\n",
       "2  1.045017       NaN  1.110510 -0.008853\n",
       "3       NaN  0.620739 -0.192867 -1.729748"
      ]
     },
     "execution_count": 93,
     "metadata": {
      "tags": []
     },
     "output_type": "execute_result"
    }
   ],
   "source": [
    "#column wise\n",
    "df1.sort_values(by=['a'])"
   ]
  },
  {
   "cell_type": "code",
   "execution_count": null,
   "metadata": {
    "colab": {
     "base_uri": "https://localhost:8080/",
     "height": 166
    },
    "id": "cqMO1OV9V9z3",
    "outputId": "ecadce67-e645-44dd-c015-0dddbb5a7387"
   },
   "outputs": [
    {
     "data": {
      "text/html": [
       "<div>\n",
       "<style scoped>\n",
       "    .dataframe tbody tr th:only-of-type {\n",
       "        vertical-align: middle;\n",
       "    }\n",
       "\n",
       "    .dataframe tbody tr th {\n",
       "        vertical-align: top;\n",
       "    }\n",
       "\n",
       "    .dataframe thead th {\n",
       "        text-align: right;\n",
       "    }\n",
       "</style>\n",
       "<table border=\"1\" class=\"dataframe\">\n",
       "  <thead>\n",
       "    <tr style=\"text-align: right;\">\n",
       "      <th></th>\n",
       "      <th>d</th>\n",
       "      <th>a</th>\n",
       "      <th>c</th>\n",
       "      <th>b</th>\n",
       "    </tr>\n",
       "  </thead>\n",
       "  <tbody>\n",
       "    <tr>\n",
       "      <th>3</th>\n",
       "      <td>NaN</td>\n",
       "      <td>-1.729748</td>\n",
       "      <td>0.620739</td>\n",
       "      <td>-0.192867</td>\n",
       "    </tr>\n",
       "    <tr>\n",
       "      <th>0</th>\n",
       "      <td>-0.336614</td>\n",
       "      <td>NaN</td>\n",
       "      <td>0.247439</td>\n",
       "      <td>0.817070</td>\n",
       "    </tr>\n",
       "    <tr>\n",
       "      <th>2</th>\n",
       "      <td>1.045017</td>\n",
       "      <td>-0.008853</td>\n",
       "      <td>NaN</td>\n",
       "      <td>1.110510</td>\n",
       "    </tr>\n",
       "    <tr>\n",
       "      <th>1</th>\n",
       "      <td>-0.770172</td>\n",
       "      <td>0.854277</td>\n",
       "      <td>-1.583654</td>\n",
       "      <td>NaN</td>\n",
       "    </tr>\n",
       "  </tbody>\n",
       "</table>\n",
       "</div>"
      ],
      "text/plain": [
       "          d         a         c         b\n",
       "3       NaN -1.729748  0.620739 -0.192867\n",
       "0 -0.336614       NaN  0.247439  0.817070\n",
       "2  1.045017 -0.008853       NaN  1.110510\n",
       "1 -0.770172  0.854277 -1.583654       NaN"
      ]
     },
     "execution_count": 94,
     "metadata": {
      "tags": []
     },
     "output_type": "execute_result"
    }
   ],
   "source": [
    "df1.sort_values(by=['b'])"
   ]
  },
  {
   "cell_type": "code",
   "execution_count": null,
   "metadata": {
    "colab": {
     "base_uri": "https://localhost:8080/",
     "height": 166
    },
    "id": "XXwh3D7HV-j-",
    "outputId": "fdaa41bf-d479-44db-d7a9-bd8a2e734cdd"
   },
   "outputs": [
    {
     "data": {
      "text/html": [
       "<div>\n",
       "<style scoped>\n",
       "    .dataframe tbody tr th:only-of-type {\n",
       "        vertical-align: middle;\n",
       "    }\n",
       "\n",
       "    .dataframe tbody tr th {\n",
       "        vertical-align: top;\n",
       "    }\n",
       "\n",
       "    .dataframe thead th {\n",
       "        text-align: right;\n",
       "    }\n",
       "</style>\n",
       "<table border=\"1\" class=\"dataframe\">\n",
       "  <thead>\n",
       "    <tr style=\"text-align: right;\">\n",
       "      <th></th>\n",
       "      <th>d</th>\n",
       "      <th>a</th>\n",
       "      <th>c</th>\n",
       "      <th>b</th>\n",
       "    </tr>\n",
       "  </thead>\n",
       "  <tbody>\n",
       "    <tr>\n",
       "      <th>1</th>\n",
       "      <td>-0.770172</td>\n",
       "      <td>0.854277</td>\n",
       "      <td>-1.583654</td>\n",
       "      <td>NaN</td>\n",
       "    </tr>\n",
       "    <tr>\n",
       "      <th>0</th>\n",
       "      <td>-0.336614</td>\n",
       "      <td>NaN</td>\n",
       "      <td>0.247439</td>\n",
       "      <td>0.817070</td>\n",
       "    </tr>\n",
       "    <tr>\n",
       "      <th>3</th>\n",
       "      <td>NaN</td>\n",
       "      <td>-1.729748</td>\n",
       "      <td>0.620739</td>\n",
       "      <td>-0.192867</td>\n",
       "    </tr>\n",
       "    <tr>\n",
       "      <th>2</th>\n",
       "      <td>1.045017</td>\n",
       "      <td>-0.008853</td>\n",
       "      <td>NaN</td>\n",
       "      <td>1.110510</td>\n",
       "    </tr>\n",
       "  </tbody>\n",
       "</table>\n",
       "</div>"
      ],
      "text/plain": [
       "          d         a         c         b\n",
       "1 -0.770172  0.854277 -1.583654       NaN\n",
       "0 -0.336614       NaN  0.247439  0.817070\n",
       "3       NaN -1.729748  0.620739 -0.192867\n",
       "2  1.045017 -0.008853       NaN  1.110510"
      ]
     },
     "execution_count": 95,
     "metadata": {
      "tags": []
     },
     "output_type": "execute_result"
    }
   ],
   "source": [
    "df1.sort_values(by=['c'])"
   ]
  },
  {
   "cell_type": "code",
   "execution_count": null,
   "metadata": {
    "colab": {
     "base_uri": "https://localhost:8080/",
     "height": 166
    },
    "id": "-BvWzjqZV_Ju",
    "outputId": "d8ab3ea7-f68d-4229-cd07-98cc8fa2072c"
   },
   "outputs": [
    {
     "data": {
      "text/html": [
       "<div>\n",
       "<style scoped>\n",
       "    .dataframe tbody tr th:only-of-type {\n",
       "        vertical-align: middle;\n",
       "    }\n",
       "\n",
       "    .dataframe tbody tr th {\n",
       "        vertical-align: top;\n",
       "    }\n",
       "\n",
       "    .dataframe thead th {\n",
       "        text-align: right;\n",
       "    }\n",
       "</style>\n",
       "<table border=\"1\" class=\"dataframe\">\n",
       "  <thead>\n",
       "    <tr style=\"text-align: right;\">\n",
       "      <th></th>\n",
       "      <th>d</th>\n",
       "      <th>a</th>\n",
       "      <th>c</th>\n",
       "      <th>b</th>\n",
       "    </tr>\n",
       "  </thead>\n",
       "  <tbody>\n",
       "    <tr>\n",
       "      <th>1</th>\n",
       "      <td>-0.770172</td>\n",
       "      <td>0.854277</td>\n",
       "      <td>-1.583654</td>\n",
       "      <td>NaN</td>\n",
       "    </tr>\n",
       "    <tr>\n",
       "      <th>0</th>\n",
       "      <td>-0.336614</td>\n",
       "      <td>NaN</td>\n",
       "      <td>0.247439</td>\n",
       "      <td>0.817070</td>\n",
       "    </tr>\n",
       "    <tr>\n",
       "      <th>2</th>\n",
       "      <td>1.045017</td>\n",
       "      <td>-0.008853</td>\n",
       "      <td>NaN</td>\n",
       "      <td>1.110510</td>\n",
       "    </tr>\n",
       "    <tr>\n",
       "      <th>3</th>\n",
       "      <td>NaN</td>\n",
       "      <td>-1.729748</td>\n",
       "      <td>0.620739</td>\n",
       "      <td>-0.192867</td>\n",
       "    </tr>\n",
       "  </tbody>\n",
       "</table>\n",
       "</div>"
      ],
      "text/plain": [
       "          d         a         c         b\n",
       "1 -0.770172  0.854277 -1.583654       NaN\n",
       "0 -0.336614       NaN  0.247439  0.817070\n",
       "2  1.045017 -0.008853       NaN  1.110510\n",
       "3       NaN -1.729748  0.620739 -0.192867"
      ]
     },
     "execution_count": 96,
     "metadata": {
      "tags": []
     },
     "output_type": "execute_result"
    }
   ],
   "source": [
    "df1.sort_values(by=['d'])"
   ]
  },
  {
   "cell_type": "code",
   "execution_count": null,
   "metadata": {
    "colab": {
     "base_uri": "https://localhost:8080/",
     "height": 166
    },
    "id": "va__JUThQpNh",
    "outputId": "622e963e-5e95-466b-9fe3-b5c1fb5f08be"
   },
   "outputs": [
    {
     "data": {
      "text/html": [
       "<div>\n",
       "<style scoped>\n",
       "    .dataframe tbody tr th:only-of-type {\n",
       "        vertical-align: middle;\n",
       "    }\n",
       "\n",
       "    .dataframe tbody tr th {\n",
       "        vertical-align: top;\n",
       "    }\n",
       "\n",
       "    .dataframe thead th {\n",
       "        text-align: right;\n",
       "    }\n",
       "</style>\n",
       "<table border=\"1\" class=\"dataframe\">\n",
       "  <thead>\n",
       "    <tr style=\"text-align: right;\">\n",
       "      <th></th>\n",
       "      <th>c</th>\n",
       "      <th>b</th>\n",
       "      <th>d</th>\n",
       "      <th>a</th>\n",
       "    </tr>\n",
       "  </thead>\n",
       "  <tbody>\n",
       "    <tr>\n",
       "      <th>2</th>\n",
       "      <td>-1.414878</td>\n",
       "      <td>-1.678289</td>\n",
       "      <td>0.463366</td>\n",
       "      <td>-1.857638</td>\n",
       "    </tr>\n",
       "    <tr>\n",
       "      <th>1</th>\n",
       "      <td>1.080931</td>\n",
       "      <td>-0.212864</td>\n",
       "      <td>-1.301556</td>\n",
       "      <td>-1.400217</td>\n",
       "    </tr>\n",
       "    <tr>\n",
       "      <th>3</th>\n",
       "      <td>-0.562129</td>\n",
       "      <td>-0.765117</td>\n",
       "      <td>-1.301853</td>\n",
       "      <td>0.231399</td>\n",
       "    </tr>\n",
       "    <tr>\n",
       "      <th>0</th>\n",
       "      <td>-0.270190</td>\n",
       "      <td>-1.038231</td>\n",
       "      <td>1.107881</td>\n",
       "      <td>0.584540</td>\n",
       "    </tr>\n",
       "  </tbody>\n",
       "</table>\n",
       "</div>"
      ],
      "text/plain": [
       "          c         b         d         a\n",
       "2 -1.414878 -1.678289  0.463366 -1.857638\n",
       "1  1.080931 -0.212864 -1.301556 -1.400217\n",
       "3 -0.562129 -0.765117 -1.301853  0.231399\n",
       "0 -0.270190 -1.038231  1.107881  0.584540"
      ]
     },
     "execution_count": 97,
     "metadata": {
      "tags": []
     },
     "output_type": "execute_result"
    }
   ],
   "source": [
    "#data frame 2 \n",
    "df2.sort_values(by=['a'])"
   ]
  },
  {
   "cell_type": "code",
   "execution_count": null,
   "metadata": {
    "colab": {
     "base_uri": "https://localhost:8080/",
     "height": 166
    },
    "id": "7kxIdoPLWFBH",
    "outputId": "4fa0f786-bbb5-4ebb-b531-3dd846f68ceb"
   },
   "outputs": [
    {
     "data": {
      "text/html": [
       "<div>\n",
       "<style scoped>\n",
       "    .dataframe tbody tr th:only-of-type {\n",
       "        vertical-align: middle;\n",
       "    }\n",
       "\n",
       "    .dataframe tbody tr th {\n",
       "        vertical-align: top;\n",
       "    }\n",
       "\n",
       "    .dataframe thead th {\n",
       "        text-align: right;\n",
       "    }\n",
       "</style>\n",
       "<table border=\"1\" class=\"dataframe\">\n",
       "  <thead>\n",
       "    <tr style=\"text-align: right;\">\n",
       "      <th></th>\n",
       "      <th>c</th>\n",
       "      <th>b</th>\n",
       "      <th>d</th>\n",
       "      <th>a</th>\n",
       "    </tr>\n",
       "  </thead>\n",
       "  <tbody>\n",
       "    <tr>\n",
       "      <th>2</th>\n",
       "      <td>-1.414878</td>\n",
       "      <td>-1.678289</td>\n",
       "      <td>0.463366</td>\n",
       "      <td>-1.857638</td>\n",
       "    </tr>\n",
       "    <tr>\n",
       "      <th>0</th>\n",
       "      <td>-0.270190</td>\n",
       "      <td>-1.038231</td>\n",
       "      <td>1.107881</td>\n",
       "      <td>0.584540</td>\n",
       "    </tr>\n",
       "    <tr>\n",
       "      <th>3</th>\n",
       "      <td>-0.562129</td>\n",
       "      <td>-0.765117</td>\n",
       "      <td>-1.301853</td>\n",
       "      <td>0.231399</td>\n",
       "    </tr>\n",
       "    <tr>\n",
       "      <th>1</th>\n",
       "      <td>1.080931</td>\n",
       "      <td>-0.212864</td>\n",
       "      <td>-1.301556</td>\n",
       "      <td>-1.400217</td>\n",
       "    </tr>\n",
       "  </tbody>\n",
       "</table>\n",
       "</div>"
      ],
      "text/plain": [
       "          c         b         d         a\n",
       "2 -1.414878 -1.678289  0.463366 -1.857638\n",
       "0 -0.270190 -1.038231  1.107881  0.584540\n",
       "3 -0.562129 -0.765117 -1.301853  0.231399\n",
       "1  1.080931 -0.212864 -1.301556 -1.400217"
      ]
     },
     "execution_count": 98,
     "metadata": {
      "tags": []
     },
     "output_type": "execute_result"
    }
   ],
   "source": [
    "df2.sort_values(by=['b'])"
   ]
  },
  {
   "cell_type": "code",
   "execution_count": null,
   "metadata": {
    "colab": {
     "base_uri": "https://localhost:8080/",
     "height": 166
    },
    "id": "BD2n_oI6WGeH",
    "outputId": "6f2e355d-29fa-4de3-c586-d96593cccd53"
   },
   "outputs": [
    {
     "data": {
      "text/html": [
       "<div>\n",
       "<style scoped>\n",
       "    .dataframe tbody tr th:only-of-type {\n",
       "        vertical-align: middle;\n",
       "    }\n",
       "\n",
       "    .dataframe tbody tr th {\n",
       "        vertical-align: top;\n",
       "    }\n",
       "\n",
       "    .dataframe thead th {\n",
       "        text-align: right;\n",
       "    }\n",
       "</style>\n",
       "<table border=\"1\" class=\"dataframe\">\n",
       "  <thead>\n",
       "    <tr style=\"text-align: right;\">\n",
       "      <th></th>\n",
       "      <th>c</th>\n",
       "      <th>b</th>\n",
       "      <th>d</th>\n",
       "      <th>a</th>\n",
       "    </tr>\n",
       "  </thead>\n",
       "  <tbody>\n",
       "    <tr>\n",
       "      <th>2</th>\n",
       "      <td>-1.414878</td>\n",
       "      <td>-1.678289</td>\n",
       "      <td>0.463366</td>\n",
       "      <td>-1.857638</td>\n",
       "    </tr>\n",
       "    <tr>\n",
       "      <th>3</th>\n",
       "      <td>-0.562129</td>\n",
       "      <td>-0.765117</td>\n",
       "      <td>-1.301853</td>\n",
       "      <td>0.231399</td>\n",
       "    </tr>\n",
       "    <tr>\n",
       "      <th>0</th>\n",
       "      <td>-0.270190</td>\n",
       "      <td>-1.038231</td>\n",
       "      <td>1.107881</td>\n",
       "      <td>0.584540</td>\n",
       "    </tr>\n",
       "    <tr>\n",
       "      <th>1</th>\n",
       "      <td>1.080931</td>\n",
       "      <td>-0.212864</td>\n",
       "      <td>-1.301556</td>\n",
       "      <td>-1.400217</td>\n",
       "    </tr>\n",
       "  </tbody>\n",
       "</table>\n",
       "</div>"
      ],
      "text/plain": [
       "          c         b         d         a\n",
       "2 -1.414878 -1.678289  0.463366 -1.857638\n",
       "3 -0.562129 -0.765117 -1.301853  0.231399\n",
       "0 -0.270190 -1.038231  1.107881  0.584540\n",
       "1  1.080931 -0.212864 -1.301556 -1.400217"
      ]
     },
     "execution_count": 99,
     "metadata": {
      "tags": []
     },
     "output_type": "execute_result"
    }
   ],
   "source": [
    "df2.sort_values(by=['c'])"
   ]
  },
  {
   "cell_type": "code",
   "execution_count": null,
   "metadata": {
    "colab": {
     "base_uri": "https://localhost:8080/",
     "height": 166
    },
    "id": "sVBpNAJVWHtn",
    "outputId": "f7b51cbc-46f6-49ad-8a68-43560ad735e6"
   },
   "outputs": [
    {
     "data": {
      "text/html": [
       "<div>\n",
       "<style scoped>\n",
       "    .dataframe tbody tr th:only-of-type {\n",
       "        vertical-align: middle;\n",
       "    }\n",
       "\n",
       "    .dataframe tbody tr th {\n",
       "        vertical-align: top;\n",
       "    }\n",
       "\n",
       "    .dataframe thead th {\n",
       "        text-align: right;\n",
       "    }\n",
       "</style>\n",
       "<table border=\"1\" class=\"dataframe\">\n",
       "  <thead>\n",
       "    <tr style=\"text-align: right;\">\n",
       "      <th></th>\n",
       "      <th>c</th>\n",
       "      <th>b</th>\n",
       "      <th>d</th>\n",
       "      <th>a</th>\n",
       "    </tr>\n",
       "  </thead>\n",
       "  <tbody>\n",
       "    <tr>\n",
       "      <th>3</th>\n",
       "      <td>-0.562129</td>\n",
       "      <td>-0.765117</td>\n",
       "      <td>-1.301853</td>\n",
       "      <td>0.231399</td>\n",
       "    </tr>\n",
       "    <tr>\n",
       "      <th>1</th>\n",
       "      <td>1.080931</td>\n",
       "      <td>-0.212864</td>\n",
       "      <td>-1.301556</td>\n",
       "      <td>-1.400217</td>\n",
       "    </tr>\n",
       "    <tr>\n",
       "      <th>2</th>\n",
       "      <td>-1.414878</td>\n",
       "      <td>-1.678289</td>\n",
       "      <td>0.463366</td>\n",
       "      <td>-1.857638</td>\n",
       "    </tr>\n",
       "    <tr>\n",
       "      <th>0</th>\n",
       "      <td>-0.270190</td>\n",
       "      <td>-1.038231</td>\n",
       "      <td>1.107881</td>\n",
       "      <td>0.584540</td>\n",
       "    </tr>\n",
       "  </tbody>\n",
       "</table>\n",
       "</div>"
      ],
      "text/plain": [
       "          c         b         d         a\n",
       "3 -0.562129 -0.765117 -1.301853  0.231399\n",
       "1  1.080931 -0.212864 -1.301556 -1.400217\n",
       "2 -1.414878 -1.678289  0.463366 -1.857638\n",
       "0 -0.270190 -1.038231  1.107881  0.584540"
      ]
     },
     "execution_count": 100,
     "metadata": {
      "tags": []
     },
     "output_type": "execute_result"
    }
   ],
   "source": [
    "df2.sort_values(by=['d'])"
   ]
  },
  {
   "cell_type": "code",
   "execution_count": null,
   "metadata": {
    "colab": {
     "base_uri": "https://localhost:8080/",
     "height": 166
    },
    "id": "PDXIXkrBWR5-",
    "outputId": "2662da39-3be7-438d-cab4-07c600c0ff6c"
   },
   "outputs": [
    {
     "data": {
      "text/html": [
       "<div>\n",
       "<style scoped>\n",
       "    .dataframe tbody tr th:only-of-type {\n",
       "        vertical-align: middle;\n",
       "    }\n",
       "\n",
       "    .dataframe tbody tr th {\n",
       "        vertical-align: top;\n",
       "    }\n",
       "\n",
       "    .dataframe thead th {\n",
       "        text-align: right;\n",
       "    }\n",
       "</style>\n",
       "<table border=\"1\" class=\"dataframe\">\n",
       "  <thead>\n",
       "    <tr style=\"text-align: right;\">\n",
       "      <th></th>\n",
       "      <th>d</th>\n",
       "      <th>c</th>\n",
       "      <th>b</th>\n",
       "      <th>a</th>\n",
       "    </tr>\n",
       "  </thead>\n",
       "  <tbody>\n",
       "    <tr>\n",
       "      <th>0</th>\n",
       "      <td>-0.336614</td>\n",
       "      <td>0.247439</td>\n",
       "      <td>0.817070</td>\n",
       "      <td>NaN</td>\n",
       "    </tr>\n",
       "    <tr>\n",
       "      <th>1</th>\n",
       "      <td>-0.770172</td>\n",
       "      <td>-1.583654</td>\n",
       "      <td>NaN</td>\n",
       "      <td>0.854277</td>\n",
       "    </tr>\n",
       "    <tr>\n",
       "      <th>2</th>\n",
       "      <td>1.045017</td>\n",
       "      <td>NaN</td>\n",
       "      <td>1.110510</td>\n",
       "      <td>-0.008853</td>\n",
       "    </tr>\n",
       "    <tr>\n",
       "      <th>3</th>\n",
       "      <td>NaN</td>\n",
       "      <td>0.620739</td>\n",
       "      <td>-0.192867</td>\n",
       "      <td>-1.729748</td>\n",
       "    </tr>\n",
       "  </tbody>\n",
       "</table>\n",
       "</div>"
      ],
      "text/plain": [
       "          d         c         b         a\n",
       "0 -0.336614  0.247439  0.817070       NaN\n",
       "1 -0.770172 -1.583654       NaN  0.854277\n",
       "2  1.045017       NaN  1.110510 -0.008853\n",
       "3       NaN  0.620739 -0.192867 -1.729748"
      ]
     },
     "execution_count": 101,
     "metadata": {
      "tags": []
     },
     "output_type": "execute_result"
    }
   ],
   "source": [
    "#row wise\n",
    "df1.sort_values(by=[0],axis=1)"
   ]
  },
  {
   "cell_type": "code",
   "execution_count": null,
   "metadata": {
    "colab": {
     "base_uri": "https://localhost:8080/",
     "height": 166
    },
    "id": "L6iovkvEWW9d",
    "outputId": "2cf41dee-5185-4bbd-ca8c-bf82865d15e0"
   },
   "outputs": [
    {
     "data": {
      "text/html": [
       "<div>\n",
       "<style scoped>\n",
       "    .dataframe tbody tr th:only-of-type {\n",
       "        vertical-align: middle;\n",
       "    }\n",
       "\n",
       "    .dataframe tbody tr th {\n",
       "        vertical-align: top;\n",
       "    }\n",
       "\n",
       "    .dataframe thead th {\n",
       "        text-align: right;\n",
       "    }\n",
       "</style>\n",
       "<table border=\"1\" class=\"dataframe\">\n",
       "  <thead>\n",
       "    <tr style=\"text-align: right;\">\n",
       "      <th></th>\n",
       "      <th>c</th>\n",
       "      <th>d</th>\n",
       "      <th>a</th>\n",
       "      <th>b</th>\n",
       "    </tr>\n",
       "  </thead>\n",
       "  <tbody>\n",
       "    <tr>\n",
       "      <th>0</th>\n",
       "      <td>0.247439</td>\n",
       "      <td>-0.336614</td>\n",
       "      <td>NaN</td>\n",
       "      <td>0.817070</td>\n",
       "    </tr>\n",
       "    <tr>\n",
       "      <th>1</th>\n",
       "      <td>-1.583654</td>\n",
       "      <td>-0.770172</td>\n",
       "      <td>0.854277</td>\n",
       "      <td>NaN</td>\n",
       "    </tr>\n",
       "    <tr>\n",
       "      <th>2</th>\n",
       "      <td>NaN</td>\n",
       "      <td>1.045017</td>\n",
       "      <td>-0.008853</td>\n",
       "      <td>1.110510</td>\n",
       "    </tr>\n",
       "    <tr>\n",
       "      <th>3</th>\n",
       "      <td>0.620739</td>\n",
       "      <td>NaN</td>\n",
       "      <td>-1.729748</td>\n",
       "      <td>-0.192867</td>\n",
       "    </tr>\n",
       "  </tbody>\n",
       "</table>\n",
       "</div>"
      ],
      "text/plain": [
       "          c         d         a         b\n",
       "0  0.247439 -0.336614       NaN  0.817070\n",
       "1 -1.583654 -0.770172  0.854277       NaN\n",
       "2       NaN  1.045017 -0.008853  1.110510\n",
       "3  0.620739       NaN -1.729748 -0.192867"
      ]
     },
     "execution_count": 102,
     "metadata": {
      "tags": []
     },
     "output_type": "execute_result"
    }
   ],
   "source": [
    "df1.sort_values(by=[1],axis=1)"
   ]
  },
  {
   "cell_type": "code",
   "execution_count": null,
   "metadata": {
    "colab": {
     "base_uri": "https://localhost:8080/",
     "height": 166
    },
    "id": "FWfdvf2OWXO_",
    "outputId": "f154ee3c-a05d-4fa3-96cb-df98dd7ed34d"
   },
   "outputs": [
    {
     "data": {
      "text/html": [
       "<div>\n",
       "<style scoped>\n",
       "    .dataframe tbody tr th:only-of-type {\n",
       "        vertical-align: middle;\n",
       "    }\n",
       "\n",
       "    .dataframe tbody tr th {\n",
       "        vertical-align: top;\n",
       "    }\n",
       "\n",
       "    .dataframe thead th {\n",
       "        text-align: right;\n",
       "    }\n",
       "</style>\n",
       "<table border=\"1\" class=\"dataframe\">\n",
       "  <thead>\n",
       "    <tr style=\"text-align: right;\">\n",
       "      <th></th>\n",
       "      <th>a</th>\n",
       "      <th>d</th>\n",
       "      <th>b</th>\n",
       "      <th>c</th>\n",
       "    </tr>\n",
       "  </thead>\n",
       "  <tbody>\n",
       "    <tr>\n",
       "      <th>0</th>\n",
       "      <td>NaN</td>\n",
       "      <td>-0.336614</td>\n",
       "      <td>0.817070</td>\n",
       "      <td>0.247439</td>\n",
       "    </tr>\n",
       "    <tr>\n",
       "      <th>1</th>\n",
       "      <td>0.854277</td>\n",
       "      <td>-0.770172</td>\n",
       "      <td>NaN</td>\n",
       "      <td>-1.583654</td>\n",
       "    </tr>\n",
       "    <tr>\n",
       "      <th>2</th>\n",
       "      <td>-0.008853</td>\n",
       "      <td>1.045017</td>\n",
       "      <td>1.110510</td>\n",
       "      <td>NaN</td>\n",
       "    </tr>\n",
       "    <tr>\n",
       "      <th>3</th>\n",
       "      <td>-1.729748</td>\n",
       "      <td>NaN</td>\n",
       "      <td>-0.192867</td>\n",
       "      <td>0.620739</td>\n",
       "    </tr>\n",
       "  </tbody>\n",
       "</table>\n",
       "</div>"
      ],
      "text/plain": [
       "          a         d         b         c\n",
       "0       NaN -0.336614  0.817070  0.247439\n",
       "1  0.854277 -0.770172       NaN -1.583654\n",
       "2 -0.008853  1.045017  1.110510       NaN\n",
       "3 -1.729748       NaN -0.192867  0.620739"
      ]
     },
     "execution_count": 103,
     "metadata": {
      "tags": []
     },
     "output_type": "execute_result"
    }
   ],
   "source": [
    "df1.sort_values(by=[2],axis=1)"
   ]
  },
  {
   "cell_type": "code",
   "execution_count": null,
   "metadata": {
    "colab": {
     "base_uri": "https://localhost:8080/",
     "height": 166
    },
    "id": "KMSV1OPjWXlA",
    "outputId": "0adf80e8-4dac-4f9d-bc2b-c640e391dfa0"
   },
   "outputs": [
    {
     "data": {
      "text/html": [
       "<div>\n",
       "<style scoped>\n",
       "    .dataframe tbody tr th:only-of-type {\n",
       "        vertical-align: middle;\n",
       "    }\n",
       "\n",
       "    .dataframe tbody tr th {\n",
       "        vertical-align: top;\n",
       "    }\n",
       "\n",
       "    .dataframe thead th {\n",
       "        text-align: right;\n",
       "    }\n",
       "</style>\n",
       "<table border=\"1\" class=\"dataframe\">\n",
       "  <thead>\n",
       "    <tr style=\"text-align: right;\">\n",
       "      <th></th>\n",
       "      <th>a</th>\n",
       "      <th>b</th>\n",
       "      <th>c</th>\n",
       "      <th>d</th>\n",
       "    </tr>\n",
       "  </thead>\n",
       "  <tbody>\n",
       "    <tr>\n",
       "      <th>0</th>\n",
       "      <td>NaN</td>\n",
       "      <td>0.817070</td>\n",
       "      <td>0.247439</td>\n",
       "      <td>-0.336614</td>\n",
       "    </tr>\n",
       "    <tr>\n",
       "      <th>1</th>\n",
       "      <td>0.854277</td>\n",
       "      <td>NaN</td>\n",
       "      <td>-1.583654</td>\n",
       "      <td>-0.770172</td>\n",
       "    </tr>\n",
       "    <tr>\n",
       "      <th>2</th>\n",
       "      <td>-0.008853</td>\n",
       "      <td>1.110510</td>\n",
       "      <td>NaN</td>\n",
       "      <td>1.045017</td>\n",
       "    </tr>\n",
       "    <tr>\n",
       "      <th>3</th>\n",
       "      <td>-1.729748</td>\n",
       "      <td>-0.192867</td>\n",
       "      <td>0.620739</td>\n",
       "      <td>NaN</td>\n",
       "    </tr>\n",
       "  </tbody>\n",
       "</table>\n",
       "</div>"
      ],
      "text/plain": [
       "          a         b         c         d\n",
       "0       NaN  0.817070  0.247439 -0.336614\n",
       "1  0.854277       NaN -1.583654 -0.770172\n",
       "2 -0.008853  1.110510       NaN  1.045017\n",
       "3 -1.729748 -0.192867  0.620739       NaN"
      ]
     },
     "execution_count": 104,
     "metadata": {
      "tags": []
     },
     "output_type": "execute_result"
    }
   ],
   "source": [
    "df1.sort_values(by=[3],axis=1)"
   ]
  },
  {
   "cell_type": "code",
   "execution_count": null,
   "metadata": {
    "colab": {
     "base_uri": "https://localhost:8080/",
     "height": 166
    },
    "id": "mKQXCdVJWbvI",
    "outputId": "09522f1f-3bf4-41c4-de2e-a7ecd150ffc3"
   },
   "outputs": [
    {
     "data": {
      "text/html": [
       "<div>\n",
       "<style scoped>\n",
       "    .dataframe tbody tr th:only-of-type {\n",
       "        vertical-align: middle;\n",
       "    }\n",
       "\n",
       "    .dataframe tbody tr th {\n",
       "        vertical-align: top;\n",
       "    }\n",
       "\n",
       "    .dataframe thead th {\n",
       "        text-align: right;\n",
       "    }\n",
       "</style>\n",
       "<table border=\"1\" class=\"dataframe\">\n",
       "  <thead>\n",
       "    <tr style=\"text-align: right;\">\n",
       "      <th></th>\n",
       "      <th>b</th>\n",
       "      <th>c</th>\n",
       "      <th>a</th>\n",
       "      <th>d</th>\n",
       "    </tr>\n",
       "  </thead>\n",
       "  <tbody>\n",
       "    <tr>\n",
       "      <th>0</th>\n",
       "      <td>-1.038231</td>\n",
       "      <td>-0.270190</td>\n",
       "      <td>0.584540</td>\n",
       "      <td>1.107881</td>\n",
       "    </tr>\n",
       "    <tr>\n",
       "      <th>1</th>\n",
       "      <td>-0.212864</td>\n",
       "      <td>1.080931</td>\n",
       "      <td>-1.400217</td>\n",
       "      <td>-1.301556</td>\n",
       "    </tr>\n",
       "    <tr>\n",
       "      <th>2</th>\n",
       "      <td>-1.678289</td>\n",
       "      <td>-1.414878</td>\n",
       "      <td>-1.857638</td>\n",
       "      <td>0.463366</td>\n",
       "    </tr>\n",
       "    <tr>\n",
       "      <th>3</th>\n",
       "      <td>-0.765117</td>\n",
       "      <td>-0.562129</td>\n",
       "      <td>0.231399</td>\n",
       "      <td>-1.301853</td>\n",
       "    </tr>\n",
       "  </tbody>\n",
       "</table>\n",
       "</div>"
      ],
      "text/plain": [
       "          b         c         a         d\n",
       "0 -1.038231 -0.270190  0.584540  1.107881\n",
       "1 -0.212864  1.080931 -1.400217 -1.301556\n",
       "2 -1.678289 -1.414878 -1.857638  0.463366\n",
       "3 -0.765117 -0.562129  0.231399 -1.301853"
      ]
     },
     "execution_count": 106,
     "metadata": {
      "tags": []
     },
     "output_type": "execute_result"
    }
   ],
   "source": [
    "#data frame 2\n",
    "df2.sort_values(by=[0],axis=1)"
   ]
  },
  {
   "cell_type": "code",
   "execution_count": null,
   "metadata": {
    "colab": {
     "base_uri": "https://localhost:8080/",
     "height": 166
    },
    "id": "eNM9nyeFWlmG",
    "outputId": "6901fbcb-c461-4d39-c530-390891ae38a0"
   },
   "outputs": [
    {
     "data": {
      "text/html": [
       "<div>\n",
       "<style scoped>\n",
       "    .dataframe tbody tr th:only-of-type {\n",
       "        vertical-align: middle;\n",
       "    }\n",
       "\n",
       "    .dataframe tbody tr th {\n",
       "        vertical-align: top;\n",
       "    }\n",
       "\n",
       "    .dataframe thead th {\n",
       "        text-align: right;\n",
       "    }\n",
       "</style>\n",
       "<table border=\"1\" class=\"dataframe\">\n",
       "  <thead>\n",
       "    <tr style=\"text-align: right;\">\n",
       "      <th></th>\n",
       "      <th>a</th>\n",
       "      <th>d</th>\n",
       "      <th>b</th>\n",
       "      <th>c</th>\n",
       "    </tr>\n",
       "  </thead>\n",
       "  <tbody>\n",
       "    <tr>\n",
       "      <th>0</th>\n",
       "      <td>0.584540</td>\n",
       "      <td>1.107881</td>\n",
       "      <td>-1.038231</td>\n",
       "      <td>-0.270190</td>\n",
       "    </tr>\n",
       "    <tr>\n",
       "      <th>1</th>\n",
       "      <td>-1.400217</td>\n",
       "      <td>-1.301556</td>\n",
       "      <td>-0.212864</td>\n",
       "      <td>1.080931</td>\n",
       "    </tr>\n",
       "    <tr>\n",
       "      <th>2</th>\n",
       "      <td>-1.857638</td>\n",
       "      <td>0.463366</td>\n",
       "      <td>-1.678289</td>\n",
       "      <td>-1.414878</td>\n",
       "    </tr>\n",
       "    <tr>\n",
       "      <th>3</th>\n",
       "      <td>0.231399</td>\n",
       "      <td>-1.301853</td>\n",
       "      <td>-0.765117</td>\n",
       "      <td>-0.562129</td>\n",
       "    </tr>\n",
       "  </tbody>\n",
       "</table>\n",
       "</div>"
      ],
      "text/plain": [
       "          a         d         b         c\n",
       "0  0.584540  1.107881 -1.038231 -0.270190\n",
       "1 -1.400217 -1.301556 -0.212864  1.080931\n",
       "2 -1.857638  0.463366 -1.678289 -1.414878\n",
       "3  0.231399 -1.301853 -0.765117 -0.562129"
      ]
     },
     "execution_count": 105,
     "metadata": {
      "tags": []
     },
     "output_type": "execute_result"
    }
   ],
   "source": [
    "df2.sort_values(by=[1],axis=1)"
   ]
  },
  {
   "cell_type": "code",
   "execution_count": null,
   "metadata": {
    "colab": {
     "base_uri": "https://localhost:8080/",
     "height": 166
    },
    "id": "Y3ZMCjbcWmA3",
    "outputId": "d6a41b93-f564-4eb2-830a-afa6f1eabe1b"
   },
   "outputs": [
    {
     "data": {
      "text/html": [
       "<div>\n",
       "<style scoped>\n",
       "    .dataframe tbody tr th:only-of-type {\n",
       "        vertical-align: middle;\n",
       "    }\n",
       "\n",
       "    .dataframe tbody tr th {\n",
       "        vertical-align: top;\n",
       "    }\n",
       "\n",
       "    .dataframe thead th {\n",
       "        text-align: right;\n",
       "    }\n",
       "</style>\n",
       "<table border=\"1\" class=\"dataframe\">\n",
       "  <thead>\n",
       "    <tr style=\"text-align: right;\">\n",
       "      <th></th>\n",
       "      <th>a</th>\n",
       "      <th>b</th>\n",
       "      <th>c</th>\n",
       "      <th>d</th>\n",
       "    </tr>\n",
       "  </thead>\n",
       "  <tbody>\n",
       "    <tr>\n",
       "      <th>0</th>\n",
       "      <td>0.584540</td>\n",
       "      <td>-1.038231</td>\n",
       "      <td>-0.270190</td>\n",
       "      <td>1.107881</td>\n",
       "    </tr>\n",
       "    <tr>\n",
       "      <th>1</th>\n",
       "      <td>-1.400217</td>\n",
       "      <td>-0.212864</td>\n",
       "      <td>1.080931</td>\n",
       "      <td>-1.301556</td>\n",
       "    </tr>\n",
       "    <tr>\n",
       "      <th>2</th>\n",
       "      <td>-1.857638</td>\n",
       "      <td>-1.678289</td>\n",
       "      <td>-1.414878</td>\n",
       "      <td>0.463366</td>\n",
       "    </tr>\n",
       "    <tr>\n",
       "      <th>3</th>\n",
       "      <td>0.231399</td>\n",
       "      <td>-0.765117</td>\n",
       "      <td>-0.562129</td>\n",
       "      <td>-1.301853</td>\n",
       "    </tr>\n",
       "  </tbody>\n",
       "</table>\n",
       "</div>"
      ],
      "text/plain": [
       "          a         b         c         d\n",
       "0  0.584540 -1.038231 -0.270190  1.107881\n",
       "1 -1.400217 -0.212864  1.080931 -1.301556\n",
       "2 -1.857638 -1.678289 -1.414878  0.463366\n",
       "3  0.231399 -0.765117 -0.562129 -1.301853"
      ]
     },
     "execution_count": 107,
     "metadata": {
      "tags": []
     },
     "output_type": "execute_result"
    }
   ],
   "source": [
    "df2.sort_values(by=[2],axis=1)"
   ]
  },
  {
   "cell_type": "code",
   "execution_count": null,
   "metadata": {
    "colab": {
     "base_uri": "https://localhost:8080/",
     "height": 166
    },
    "id": "Rm_zh7vUWmeW",
    "outputId": "9d819440-7a32-4bba-dd07-1093ac6b1f40"
   },
   "outputs": [
    {
     "data": {
      "text/html": [
       "<div>\n",
       "<style scoped>\n",
       "    .dataframe tbody tr th:only-of-type {\n",
       "        vertical-align: middle;\n",
       "    }\n",
       "\n",
       "    .dataframe tbody tr th {\n",
       "        vertical-align: top;\n",
       "    }\n",
       "\n",
       "    .dataframe thead th {\n",
       "        text-align: right;\n",
       "    }\n",
       "</style>\n",
       "<table border=\"1\" class=\"dataframe\">\n",
       "  <thead>\n",
       "    <tr style=\"text-align: right;\">\n",
       "      <th></th>\n",
       "      <th>d</th>\n",
       "      <th>b</th>\n",
       "      <th>c</th>\n",
       "      <th>a</th>\n",
       "    </tr>\n",
       "  </thead>\n",
       "  <tbody>\n",
       "    <tr>\n",
       "      <th>0</th>\n",
       "      <td>1.107881</td>\n",
       "      <td>-1.038231</td>\n",
       "      <td>-0.270190</td>\n",
       "      <td>0.584540</td>\n",
       "    </tr>\n",
       "    <tr>\n",
       "      <th>1</th>\n",
       "      <td>-1.301556</td>\n",
       "      <td>-0.212864</td>\n",
       "      <td>1.080931</td>\n",
       "      <td>-1.400217</td>\n",
       "    </tr>\n",
       "    <tr>\n",
       "      <th>2</th>\n",
       "      <td>0.463366</td>\n",
       "      <td>-1.678289</td>\n",
       "      <td>-1.414878</td>\n",
       "      <td>-1.857638</td>\n",
       "    </tr>\n",
       "    <tr>\n",
       "      <th>3</th>\n",
       "      <td>-1.301853</td>\n",
       "      <td>-0.765117</td>\n",
       "      <td>-0.562129</td>\n",
       "      <td>0.231399</td>\n",
       "    </tr>\n",
       "  </tbody>\n",
       "</table>\n",
       "</div>"
      ],
      "text/plain": [
       "          d         b         c         a\n",
       "0  1.107881 -1.038231 -0.270190  0.584540\n",
       "1 -1.301556 -0.212864  1.080931 -1.400217\n",
       "2  0.463366 -1.678289 -1.414878 -1.857638\n",
       "3 -1.301853 -0.765117 -0.562129  0.231399"
      ]
     },
     "execution_count": 108,
     "metadata": {
      "tags": []
     },
     "output_type": "execute_result"
    }
   ],
   "source": [
    "df2.sort_values(by=[3],axis=1)"
   ]
  },
  {
   "cell_type": "markdown",
   "metadata": {
    "id": "Rhyo-5IIAKr-"
   },
   "source": [
    "(j) Find the rank of elements in 2nd column of both the dataframes"
   ]
  },
  {
   "cell_type": "code",
   "execution_count": null,
   "metadata": {
    "colab": {
     "base_uri": "https://localhost:8080/",
     "height": 101
    },
    "id": "XdHsIvVXAe4O",
    "outputId": "6c5557ce-858a-44a2-ce23-281f2797eaee"
   },
   "outputs": [
    {
     "data": {
      "text/plain": [
       "0    1.0\n",
       "1    NaN\n",
       "2    2.0\n",
       "3    3.0\n",
       "Name: b, dtype: float64"
      ]
     },
     "execution_count": 67,
     "metadata": {
      "tags": []
     },
     "output_type": "execute_result"
    }
   ],
   "source": [
    "df1['b'].rank()"
   ]
  },
  {
   "cell_type": "code",
   "execution_count": null,
   "metadata": {
    "colab": {
     "base_uri": "https://localhost:8080/",
     "height": 101
    },
    "id": "FJnHDNvBOf_n",
    "outputId": "34dc5a23-9d65-4360-8251-9de0c66518b4"
   },
   "outputs": [
    {
     "data": {
      "text/plain": [
       "0    4.0\n",
       "1    2.0\n",
       "2    1.0\n",
       "3    3.0\n",
       "Name: b, dtype: float64"
      ]
     },
     "execution_count": 68,
     "metadata": {
      "tags": []
     },
     "output_type": "execute_result"
    }
   ],
   "source": [
    "df2['b'].rank()"
   ]
  }
 ],
 "metadata": {
  "colab": {
   "collapsed_sections": [],
   "name": "ANKIT19MTS5630LAB(28/09/2020)Task 4.ipynb",
   "provenance": []
  },
  "kernelspec": {
   "display_name": "Python 3",
   "language": "python",
   "name": "python3"
  },
  "language_info": {
   "codemirror_mode": {
    "name": "ipython",
    "version": 3
   },
   "file_extension": ".py",
   "mimetype": "text/x-python",
   "name": "python",
   "nbconvert_exporter": "python",
   "pygments_lexer": "ipython3",
   "version": "3.8.3"
  },
  "toc": {
   "base_numbering": 1,
   "nav_menu": {},
   "number_sections": true,
   "sideBar": true,
   "skip_h1_title": false,
   "title_cell": "Table of Contents",
   "title_sidebar": "Contents",
   "toc_cell": false,
   "toc_position": {},
   "toc_section_display": true,
   "toc_window_display": false
  }
 },
 "nbformat": 4,
 "nbformat_minor": 1
}
