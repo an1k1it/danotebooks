{
 "cells": [
  {
   "cell_type": "code",
   "execution_count": null,
   "metadata": {
    "id": "wWKo_20Sr0e9"
   },
   "outputs": [],
   "source": [
    "#Import the libraries\n",
    "import pandas as pd\n",
    "import numpy as np"
   ]
  },
  {
   "cell_type": "markdown",
   "metadata": {
    "id": "pauAASLRsbnn"
   },
   "source": [
    "**Summarizing and Computing Descritive Statistics**"
   ]
  },
  {
   "cell_type": "code",
   "execution_count": null,
   "metadata": {
    "colab": {
     "base_uri": "https://localhost:8080/",
     "height": 166
    },
    "id": "AKGETotisOWE",
    "outputId": "3489decc-08e2-42ab-e094-3f0083bf5c52"
   },
   "outputs": [
    {
     "data": {
      "text/html": [
       "<div>\n",
       "<style scoped>\n",
       "    .dataframe tbody tr th:only-of-type {\n",
       "        vertical-align: middle;\n",
       "    }\n",
       "\n",
       "    .dataframe tbody tr th {\n",
       "        vertical-align: top;\n",
       "    }\n",
       "\n",
       "    .dataframe thead th {\n",
       "        text-align: right;\n",
       "    }\n",
       "</style>\n",
       "<table border=\"1\" class=\"dataframe\">\n",
       "  <thead>\n",
       "    <tr style=\"text-align: right;\">\n",
       "      <th></th>\n",
       "      <th>one</th>\n",
       "      <th>two</th>\n",
       "    </tr>\n",
       "  </thead>\n",
       "  <tbody>\n",
       "    <tr>\n",
       "      <th>a</th>\n",
       "      <td>1.40</td>\n",
       "      <td>NaN</td>\n",
       "    </tr>\n",
       "    <tr>\n",
       "      <th>b</th>\n",
       "      <td>7.10</td>\n",
       "      <td>-4.5</td>\n",
       "    </tr>\n",
       "    <tr>\n",
       "      <th>c</th>\n",
       "      <td>NaN</td>\n",
       "      <td>NaN</td>\n",
       "    </tr>\n",
       "    <tr>\n",
       "      <th>d</th>\n",
       "      <td>0.75</td>\n",
       "      <td>-1.3</td>\n",
       "    </tr>\n",
       "  </tbody>\n",
       "</table>\n",
       "</div>"
      ],
      "text/plain": [
       "    one  two\n",
       "a  1.40  NaN\n",
       "b  7.10 -4.5\n",
       "c   NaN  NaN\n",
       "d  0.75 -1.3"
      ]
     },
     "execution_count": 2,
     "metadata": {
      "tags": []
     },
     "output_type": "execute_result"
    }
   ],
   "source": [
    "df = pd.DataFrame([[1.4, np.nan], [7.1, -4.5],\n",
    "                   [np.nan, np.nan], [0.75, -1.3]],\n",
    "                  index=['a', 'b', 'c', 'd'],\n",
    "                  columns=['one', 'two'])\n",
    "df"
   ]
  },
  {
   "cell_type": "code",
   "execution_count": null,
   "metadata": {
    "colab": {
     "base_uri": "https://localhost:8080/",
     "height": 67
    },
    "id": "YNle8XBHtJE5",
    "outputId": "cd71d38b-2f06-4653-b36e-1111787b9f35"
   },
   "outputs": [
    {
     "data": {
      "text/plain": [
       "one    9.25\n",
       "two   -5.80\n",
       "dtype: float64"
      ]
     },
     "execution_count": 3,
     "metadata": {
      "tags": []
     },
     "output_type": "execute_result"
    }
   ],
   "source": [
    "#finding the sum of the columns\n",
    "df.sum()"
   ]
  },
  {
   "cell_type": "code",
   "execution_count": null,
   "metadata": {
    "colab": {
     "base_uri": "https://localhost:8080/",
     "height": 101
    },
    "id": "iiyVXFqltOqg",
    "outputId": "d5497a48-55d1-4528-c8fe-04b8fe860c01"
   },
   "outputs": [
    {
     "data": {
      "text/plain": [
       "a    1.40\n",
       "b    2.60\n",
       "c    0.00\n",
       "d   -0.55\n",
       "dtype: float64"
      ]
     },
     "execution_count": 4,
     "metadata": {
      "tags": []
     },
     "output_type": "execute_result"
    }
   ],
   "source": [
    "#finding sum row wise\n",
    "df.sum(axis='columns')"
   ]
  },
  {
   "cell_type": "code",
   "execution_count": null,
   "metadata": {
    "colab": {
     "base_uri": "https://localhost:8080/",
     "height": 101
    },
    "id": "ma9JwiB7tZs9",
    "outputId": "4d011cee-0368-42a7-c053-7aa62e3d250b"
   },
   "outputs": [
    {
     "data": {
      "text/plain": [
       "a    1.40\n",
       "b    2.60\n",
       "c    0.00\n",
       "d   -0.55\n",
       "dtype: float64"
      ]
     },
     "execution_count": 5,
     "metadata": {
      "tags": []
     },
     "output_type": "execute_result"
    }
   ],
   "source": [
    "#finding sum row wise\n",
    "df.sum(axis=1)"
   ]
  },
  {
   "cell_type": "code",
   "execution_count": null,
   "metadata": {
    "colab": {
     "base_uri": "https://localhost:8080/",
     "height": 67
    },
    "id": "ELMzTN_Gtd7W",
    "outputId": "dcc25858-5d91-42f3-8070-baea110560e3"
   },
   "outputs": [
    {
     "data": {
      "text/plain": [
       "one    3.083333\n",
       "two   -2.900000\n",
       "dtype: float64"
      ]
     },
     "execution_count": 6,
     "metadata": {
      "tags": []
     },
     "output_type": "execute_result"
    }
   ],
   "source": [
    "#Finding mean of the data\n",
    "df.mean()"
   ]
  },
  {
   "cell_type": "code",
   "execution_count": null,
   "metadata": {
    "colab": {
     "base_uri": "https://localhost:8080/",
     "height": 67
    },
    "id": "QfSevRwGtnYG",
    "outputId": "4ac69800-cf82-4b52-a34d-e9508c86d3c8"
   },
   "outputs": [
    {
     "data": {
      "text/plain": [
       "one   NaN\n",
       "two   NaN\n",
       "dtype: float64"
      ]
     },
     "execution_count": 7,
     "metadata": {
      "tags": []
     },
     "output_type": "execute_result"
    }
   ],
   "source": [
    "#Finding means with considering NaN observation\n",
    "df.mean(skipna=False)"
   ]
  },
  {
   "cell_type": "code",
   "execution_count": null,
   "metadata": {
    "colab": {
     "base_uri": "https://localhost:8080/",
     "height": 101
    },
    "id": "3NQWUETbtupF",
    "outputId": "5da71548-e6d6-4aac-b14c-9aa0a3964458"
   },
   "outputs": [
    {
     "data": {
      "text/plain": [
       "a    1.400\n",
       "b    1.300\n",
       "c      NaN\n",
       "d   -0.275\n",
       "dtype: float64"
      ]
     },
     "execution_count": 8,
     "metadata": {
      "tags": []
     },
     "output_type": "execute_result"
    }
   ],
   "source": [
    "#Finding means of every row\n",
    "df.mean(axis=1)"
   ]
  },
  {
   "cell_type": "code",
   "execution_count": null,
   "metadata": {
    "colab": {
     "base_uri": "https://localhost:8080/",
     "height": 67
    },
    "id": "PnF9pZWst2-5",
    "outputId": "a81ccb58-3385-42e7-e0b5-e65758796c4d"
   },
   "outputs": [
    {
     "data": {
      "text/plain": [
       "one    b\n",
       "two    d\n",
       "dtype: object"
      ]
     },
     "execution_count": 9,
     "metadata": {
      "tags": []
     },
     "output_type": "execute_result"
    }
   ],
   "source": [
    "#Finding index value of the minimum or maximum values\n",
    "df.idxmax()"
   ]
  },
  {
   "cell_type": "code",
   "execution_count": null,
   "metadata": {
    "colab": {
     "base_uri": "https://localhost:8080/",
     "height": 67
    },
    "id": "oON6gsfPuCjF",
    "outputId": "d80a0e42-e3c4-484b-d039-3e69806e436a"
   },
   "outputs": [
    {
     "data": {
      "text/plain": [
       "one    d\n",
       "two    b\n",
       "dtype: object"
      ]
     },
     "execution_count": 10,
     "metadata": {
      "tags": []
     },
     "output_type": "execute_result"
    }
   ],
   "source": [
    "df.idxmin()"
   ]
  },
  {
   "cell_type": "code",
   "execution_count": null,
   "metadata": {
    "colab": {
     "base_uri": "https://localhost:8080/",
     "height": 166
    },
    "id": "tFHFc9DluIiB",
    "outputId": "145d352f-4284-42a1-f317-2671c61f14ae"
   },
   "outputs": [
    {
     "data": {
      "text/html": [
       "<div>\n",
       "<style scoped>\n",
       "    .dataframe tbody tr th:only-of-type {\n",
       "        vertical-align: middle;\n",
       "    }\n",
       "\n",
       "    .dataframe tbody tr th {\n",
       "        vertical-align: top;\n",
       "    }\n",
       "\n",
       "    .dataframe thead th {\n",
       "        text-align: right;\n",
       "    }\n",
       "</style>\n",
       "<table border=\"1\" class=\"dataframe\">\n",
       "  <thead>\n",
       "    <tr style=\"text-align: right;\">\n",
       "      <th></th>\n",
       "      <th>one</th>\n",
       "      <th>two</th>\n",
       "    </tr>\n",
       "  </thead>\n",
       "  <tbody>\n",
       "    <tr>\n",
       "      <th>a</th>\n",
       "      <td>1.40</td>\n",
       "      <td>NaN</td>\n",
       "    </tr>\n",
       "    <tr>\n",
       "      <th>b</th>\n",
       "      <td>8.50</td>\n",
       "      <td>-4.5</td>\n",
       "    </tr>\n",
       "    <tr>\n",
       "      <th>c</th>\n",
       "      <td>NaN</td>\n",
       "      <td>NaN</td>\n",
       "    </tr>\n",
       "    <tr>\n",
       "      <th>d</th>\n",
       "      <td>9.25</td>\n",
       "      <td>-5.8</td>\n",
       "    </tr>\n",
       "  </tbody>\n",
       "</table>\n",
       "</div>"
      ],
      "text/plain": [
       "    one  two\n",
       "a  1.40  NaN\n",
       "b  8.50 -4.5\n",
       "c   NaN  NaN\n",
       "d  9.25 -5.8"
      ]
     },
     "execution_count": 11,
     "metadata": {
      "tags": []
     },
     "output_type": "execute_result"
    }
   ],
   "source": [
    "#Finding the cumulative sum\n",
    "df.cumsum()"
   ]
  },
  {
   "cell_type": "code",
   "execution_count": null,
   "metadata": {
    "colab": {
     "base_uri": "https://localhost:8080/",
     "height": 284
    },
    "id": "yKJwQIT9uN7i",
    "outputId": "e1948857-c855-46ca-e578-303933786bc4"
   },
   "outputs": [
    {
     "data": {
      "text/html": [
       "<div>\n",
       "<style scoped>\n",
       "    .dataframe tbody tr th:only-of-type {\n",
       "        vertical-align: middle;\n",
       "    }\n",
       "\n",
       "    .dataframe tbody tr th {\n",
       "        vertical-align: top;\n",
       "    }\n",
       "\n",
       "    .dataframe thead th {\n",
       "        text-align: right;\n",
       "    }\n",
       "</style>\n",
       "<table border=\"1\" class=\"dataframe\">\n",
       "  <thead>\n",
       "    <tr style=\"text-align: right;\">\n",
       "      <th></th>\n",
       "      <th>one</th>\n",
       "      <th>two</th>\n",
       "    </tr>\n",
       "  </thead>\n",
       "  <tbody>\n",
       "    <tr>\n",
       "      <th>count</th>\n",
       "      <td>3.000000</td>\n",
       "      <td>2.000000</td>\n",
       "    </tr>\n",
       "    <tr>\n",
       "      <th>mean</th>\n",
       "      <td>3.083333</td>\n",
       "      <td>-2.900000</td>\n",
       "    </tr>\n",
       "    <tr>\n",
       "      <th>std</th>\n",
       "      <td>3.493685</td>\n",
       "      <td>2.262742</td>\n",
       "    </tr>\n",
       "    <tr>\n",
       "      <th>min</th>\n",
       "      <td>0.750000</td>\n",
       "      <td>-4.500000</td>\n",
       "    </tr>\n",
       "    <tr>\n",
       "      <th>25%</th>\n",
       "      <td>1.075000</td>\n",
       "      <td>-3.700000</td>\n",
       "    </tr>\n",
       "    <tr>\n",
       "      <th>50%</th>\n",
       "      <td>1.400000</td>\n",
       "      <td>-2.900000</td>\n",
       "    </tr>\n",
       "    <tr>\n",
       "      <th>75%</th>\n",
       "      <td>4.250000</td>\n",
       "      <td>-2.100000</td>\n",
       "    </tr>\n",
       "    <tr>\n",
       "      <th>max</th>\n",
       "      <td>7.100000</td>\n",
       "      <td>-1.300000</td>\n",
       "    </tr>\n",
       "  </tbody>\n",
       "</table>\n",
       "</div>"
      ],
      "text/plain": [
       "            one       two\n",
       "count  3.000000  2.000000\n",
       "mean   3.083333 -2.900000\n",
       "std    3.493685  2.262742\n",
       "min    0.750000 -4.500000\n",
       "25%    1.075000 -3.700000\n",
       "50%    1.400000 -2.900000\n",
       "75%    4.250000 -2.100000\n",
       "max    7.100000 -1.300000"
      ]
     },
     "execution_count": 12,
     "metadata": {
      "tags": []
     },
     "output_type": "execute_result"
    }
   ],
   "source": [
    "#Descriptive summary statistics\n",
    "df.describe()"
   ]
  },
  {
   "cell_type": "code",
   "execution_count": null,
   "metadata": {
    "colab": {
     "base_uri": "https://localhost:8080/",
     "height": 101
    },
    "id": "Jrufay8HueBU",
    "outputId": "b363b4ce-4540-4715-9517-bd2c6f0fb952"
   },
   "outputs": [
    {
     "data": {
      "text/plain": [
       "count     16\n",
       "unique     3\n",
       "top        a\n",
       "freq       8\n",
       "dtype: object"
      ]
     },
     "execution_count": 13,
     "metadata": {
      "tags": []
     },
     "output_type": "execute_result"
    }
   ],
   "source": [
    "#Summary statistics on non-numeric data iwll produce count\n",
    "obj = pd.Series(['a', 'a', 'b', 'c'] * 4)\n",
    "obj.describe()"
   ]
  },
  {
   "cell_type": "markdown",
   "metadata": {
    "id": "MA5YaXXSvJq4"
   },
   "source": [
    "**Correlation and Covariance**\n"
   ]
  },
  {
   "cell_type": "code",
   "execution_count": null,
   "metadata": {
    "id": "DFRy4nGfurS5"
   },
   "outputs": [],
   "source": [
    "#Data scrapping from web\n",
    "#conda install pandas-datareader  - on local machines we may run this\n",
    "import pandas_datareader.data as web"
   ]
  },
  {
   "cell_type": "code",
   "execution_count": null,
   "metadata": {
    "id": "pk_QhVw-vkWb"
   },
   "outputs": [],
   "source": [
    "all_data = {ticker: web.get_data_yahoo(ticker) \n",
    "            for ticker in ['AAPL', 'IBM', 'MSFT', 'GOOG']}"
   ]
  },
  {
   "cell_type": "code",
   "execution_count": null,
   "metadata": {
    "colab": {
     "base_uri": "https://localhost:8080/",
     "height": 1000
    },
    "id": "Xi3G3kZivpW0",
    "outputId": "f3a13715-84af-4dcc-8bd6-8a21ccbcec23"
   },
   "outputs": [
    {
     "data": {
      "text/plain": [
       "{'AAPL':                   High         Low  ...       Volume   Adj Close\n",
       " Date                                ...                         \n",
       " 2015-10-28   29.825001   29.014999  ...  342205600.0   27.554773\n",
       " 2015-10-29   30.172501   29.567499  ...  204909200.0   27.845867\n",
       " 2015-10-30   30.305000   29.862499  ...  197461200.0   27.607912\n",
       " 2015-11-02   30.340000   29.902500  ...  128813200.0   27.996040\n",
       " 2015-11-03   30.872499   30.174999  ...  182076000.0   28.317165\n",
       " ...                ...         ...  ...          ...         ...\n",
       " 2020-10-19  120.419998  115.660004  ...  120639300.0  115.980003\n",
       " 2020-10-20  118.980003  115.629997  ...  124423700.0  117.510002\n",
       " 2020-10-21  118.709999  116.449997  ...   89946000.0  116.870003\n",
       " 2020-10-22  118.040001  114.589996  ...  101988000.0  115.750000\n",
       " 2020-10-23  116.550003  114.279999  ...   82396600.0  115.040001\n",
       " \n",
       " [1257 rows x 6 columns],\n",
       " 'GOOG':                    High          Low  ...   Volume    Adj Close\n",
       " Date                                  ...                      \n",
       " 2015-10-28   712.979980   703.080017  ...  2178900   712.950012\n",
       " 2015-10-29   718.260010   710.010010  ...  1456000   716.919983\n",
       " 2015-10-30   718.000000   710.049988  ...  1908800   710.809998\n",
       " 2015-11-02   721.619995   705.849976  ...  1886300   721.109985\n",
       " 2015-11-03   724.650024   714.719971  ...  1565400   722.159973\n",
       " ...                 ...          ...  ...      ...          ...\n",
       " 2020-10-19  1588.150024  1528.000000  ...  1607100  1534.609985\n",
       " 2020-10-20  1577.500000  1525.670044  ...  2241700  1555.930054\n",
       " 2020-10-21  1618.729980  1571.630005  ...  2568300  1593.310059\n",
       " 2020-10-22  1621.989990  1585.000000  ...  1433600  1615.329956\n",
       " 2020-10-23  1642.359985  1620.510010  ...  1375200  1641.000000\n",
       " \n",
       " [1257 rows x 6 columns],\n",
       " 'IBM':                   High         Low  ...      Volume   Adj Close\n",
       " Date                                ...                        \n",
       " 2015-10-28  141.229996  137.500000  ...   8511400.0  112.776749\n",
       " 2015-10-29  140.820007  139.020004  ...   3710400.0  112.552536\n",
       " 2015-10-30  141.330002  139.899994  ...   3984000.0  112.176132\n",
       " 2015-11-02  140.520004  139.570007  ...   3822200.0  112.408371\n",
       " 2015-11-03  142.800003  139.899994  ...   4349400.0  113.617569\n",
       " ...                ...         ...  ...         ...         ...\n",
       " 2020-10-19  127.349998  125.080002  ...   7478700.0  125.519997\n",
       " 2020-10-20  120.150002  116.839996  ...  21501100.0  117.370003\n",
       " 2020-10-21  117.690002  114.790001  ...   9755300.0  115.059998\n",
       " 2020-10-22  116.059998  112.980003  ...   7855800.0  115.760002\n",
       " 2020-10-23  116.620003  115.529999  ...   3890800.0  116.000000\n",
       " \n",
       " [1257 rows x 6 columns],\n",
       " 'MSFT':                   High         Low  ...      Volume   Adj Close\n",
       " Date                                ...                        \n",
       " 2015-10-28   53.980000   52.860001  ...  47000800.0   49.056763\n",
       " 2015-10-29   53.830002   53.220001  ...  30202100.0   48.493317\n",
       " 2015-10-30   53.990002   52.619999  ...  46619800.0   47.838978\n",
       " 2015-11-02   53.360001   52.619999  ...  30285000.0   48.384258\n",
       " 2015-11-03   54.389999   52.900002  ...  36596900.0   49.211269\n",
       " ...                ...         ...  ...         ...         ...\n",
       " 2020-10-19  222.300003  213.720001  ...  27625800.0  214.220001\n",
       " 2020-10-20  217.369995  213.089996  ...  22753500.0  214.649994\n",
       " 2020-10-21  216.919998  213.119995  ...  22724900.0  214.800003\n",
       " 2020-10-22  216.059998  211.699997  ...  22351500.0  214.889999\n",
       " 2020-10-23  216.279999  213.160004  ...  18841600.0  216.229996\n",
       " \n",
       " [1257 rows x 6 columns]}"
      ]
     },
     "execution_count": 16,
     "metadata": {
      "tags": []
     },
     "output_type": "execute_result"
    }
   ],
   "source": [
    "all_data"
   ]
  },
  {
   "cell_type": "code",
   "execution_count": null,
   "metadata": {
    "id": "RmtFe8pivyJt"
   },
   "outputs": [],
   "source": [
    "price = pd.DataFrame({ticker: data['Adj Close']\n",
    "                      for ticker, data in all_data.items()})"
   ]
  },
  {
   "cell_type": "code",
   "execution_count": null,
   "metadata": {
    "id": "lUhMRqTCwBYB"
   },
   "outputs": [],
   "source": [
    "volume = pd.DataFrame({ticker: data['Volume']\n",
    "                       for ticker, data in all_data.items()})"
   ]
  },
  {
   "cell_type": "code",
   "execution_count": null,
   "metadata": {
    "colab": {
     "base_uri": "https://localhost:8080/",
     "height": 225
    },
    "id": "8TRrhGKzwE-D",
    "outputId": "a01fa67f-e6fe-4451-8cb4-a45cecbb329d"
   },
   "outputs": [
    {
     "data": {
      "text/html": [
       "<div>\n",
       "<style scoped>\n",
       "    .dataframe tbody tr th:only-of-type {\n",
       "        vertical-align: middle;\n",
       "    }\n",
       "\n",
       "    .dataframe tbody tr th {\n",
       "        vertical-align: top;\n",
       "    }\n",
       "\n",
       "    .dataframe thead th {\n",
       "        text-align: right;\n",
       "    }\n",
       "</style>\n",
       "<table border=\"1\" class=\"dataframe\">\n",
       "  <thead>\n",
       "    <tr style=\"text-align: right;\">\n",
       "      <th></th>\n",
       "      <th>AAPL</th>\n",
       "      <th>IBM</th>\n",
       "      <th>MSFT</th>\n",
       "      <th>GOOG</th>\n",
       "    </tr>\n",
       "    <tr>\n",
       "      <th>Date</th>\n",
       "      <th></th>\n",
       "      <th></th>\n",
       "      <th></th>\n",
       "      <th></th>\n",
       "    </tr>\n",
       "  </thead>\n",
       "  <tbody>\n",
       "    <tr>\n",
       "      <th>2020-10-19</th>\n",
       "      <td>-0.025542</td>\n",
       "      <td>-0.003256</td>\n",
       "      <td>-0.024766</td>\n",
       "      <td>-0.024412</td>\n",
       "    </tr>\n",
       "    <tr>\n",
       "      <th>2020-10-20</th>\n",
       "      <td>0.013192</td>\n",
       "      <td>-0.064930</td>\n",
       "      <td>0.002007</td>\n",
       "      <td>0.013893</td>\n",
       "    </tr>\n",
       "    <tr>\n",
       "      <th>2020-10-21</th>\n",
       "      <td>-0.005446</td>\n",
       "      <td>-0.019681</td>\n",
       "      <td>0.000699</td>\n",
       "      <td>0.024024</td>\n",
       "    </tr>\n",
       "    <tr>\n",
       "      <th>2020-10-22</th>\n",
       "      <td>-0.009583</td>\n",
       "      <td>0.006084</td>\n",
       "      <td>0.000419</td>\n",
       "      <td>0.013820</td>\n",
       "    </tr>\n",
       "    <tr>\n",
       "      <th>2020-10-23</th>\n",
       "      <td>-0.006134</td>\n",
       "      <td>0.002073</td>\n",
       "      <td>0.006236</td>\n",
       "      <td>0.015892</td>\n",
       "    </tr>\n",
       "  </tbody>\n",
       "</table>\n",
       "</div>"
      ],
      "text/plain": [
       "                AAPL       IBM      MSFT      GOOG\n",
       "Date                                              \n",
       "2020-10-19 -0.025542 -0.003256 -0.024766 -0.024412\n",
       "2020-10-20  0.013192 -0.064930  0.002007  0.013893\n",
       "2020-10-21 -0.005446 -0.019681  0.000699  0.024024\n",
       "2020-10-22 -0.009583  0.006084  0.000419  0.013820\n",
       "2020-10-23 -0.006134  0.002073  0.006236  0.015892"
      ]
     },
     "execution_count": 19,
     "metadata": {
      "tags": []
     },
     "output_type": "execute_result"
    }
   ],
   "source": [
    "#compute percent changes of the prices, a time series operation\n",
    "returns = price.pct_change()\n",
    "returns.tail()"
   ]
  },
  {
   "cell_type": "code",
   "execution_count": null,
   "metadata": {
    "colab": {
     "base_uri": "https://localhost:8080/",
     "height": 34
    },
    "id": "tKarsjaywXes",
    "outputId": "91df25af-7258-4399-8c52-dff6c1b0c597"
   },
   "outputs": [
    {
     "data": {
      "text/plain": [
       "0.572546403935051"
      ]
     },
     "execution_count": 20,
     "metadata": {
      "tags": []
     },
     "output_type": "execute_result"
    }
   ],
   "source": [
    "#corr method of Series computes the correlation of the overlapping, non-NA,\n",
    "#aligned-by-index values in two Series\n",
    "returns['MSFT'].corr(returns['IBM'])"
   ]
  },
  {
   "cell_type": "code",
   "execution_count": null,
   "metadata": {
    "colab": {
     "base_uri": "https://localhost:8080/",
     "height": 34
    },
    "id": "kewDrv6twiIs",
    "outputId": "16f17c17-6ea4-454c-bf21-12ce29f137ba"
   },
   "outputs": [
    {
     "data": {
      "text/plain": [
       "0.00015994582696348168"
      ]
     },
     "execution_count": 21,
     "metadata": {
      "tags": []
     },
     "output_type": "execute_result"
    }
   ],
   "source": [
    "#cov computes the covariance\n",
    "returns['MSFT'].cov(returns['IBM'])"
   ]
  },
  {
   "cell_type": "code",
   "execution_count": null,
   "metadata": {
    "colab": {
     "base_uri": "https://localhost:8080/",
     "height": 34
    },
    "id": "yOlGHcBowmRt",
    "outputId": "957cd0ff-9ab8-48c5-cdd7-4add70fdf7b1"
   },
   "outputs": [
    {
     "data": {
      "text/plain": [
       "0.572546403935051"
      ]
     },
     "execution_count": 22,
     "metadata": {
      "tags": []
     },
     "output_type": "execute_result"
    }
   ],
   "source": [
    "#other way of writing correlation command\n",
    "returns.MSFT.corr(returns.IBM)"
   ]
  },
  {
   "cell_type": "code",
   "execution_count": null,
   "metadata": {
    "colab": {
     "base_uri": "https://localhost:8080/",
     "height": 166
    },
    "id": "jpZYLnO3wyHV",
    "outputId": "1b366104-ec68-48e1-d1d4-6f99e3dc97a7"
   },
   "outputs": [
    {
     "data": {
      "text/html": [
       "<div>\n",
       "<style scoped>\n",
       "    .dataframe tbody tr th:only-of-type {\n",
       "        vertical-align: middle;\n",
       "    }\n",
       "\n",
       "    .dataframe tbody tr th {\n",
       "        vertical-align: top;\n",
       "    }\n",
       "\n",
       "    .dataframe thead th {\n",
       "        text-align: right;\n",
       "    }\n",
       "</style>\n",
       "<table border=\"1\" class=\"dataframe\">\n",
       "  <thead>\n",
       "    <tr style=\"text-align: right;\">\n",
       "      <th></th>\n",
       "      <th>AAPL</th>\n",
       "      <th>IBM</th>\n",
       "      <th>MSFT</th>\n",
       "      <th>GOOG</th>\n",
       "    </tr>\n",
       "  </thead>\n",
       "  <tbody>\n",
       "    <tr>\n",
       "      <th>AAPL</th>\n",
       "      <td>1.000000</td>\n",
       "      <td>0.489835</td>\n",
       "      <td>0.717002</td>\n",
       "      <td>0.661342</td>\n",
       "    </tr>\n",
       "    <tr>\n",
       "      <th>IBM</th>\n",
       "      <td>0.489835</td>\n",
       "      <td>1.000000</td>\n",
       "      <td>0.572546</td>\n",
       "      <td>0.525893</td>\n",
       "    </tr>\n",
       "    <tr>\n",
       "      <th>MSFT</th>\n",
       "      <td>0.717002</td>\n",
       "      <td>0.572546</td>\n",
       "      <td>1.000000</td>\n",
       "      <td>0.780242</td>\n",
       "    </tr>\n",
       "    <tr>\n",
       "      <th>GOOG</th>\n",
       "      <td>0.661342</td>\n",
       "      <td>0.525893</td>\n",
       "      <td>0.780242</td>\n",
       "      <td>1.000000</td>\n",
       "    </tr>\n",
       "  </tbody>\n",
       "</table>\n",
       "</div>"
      ],
      "text/plain": [
       "          AAPL       IBM      MSFT      GOOG\n",
       "AAPL  1.000000  0.489835  0.717002  0.661342\n",
       "IBM   0.489835  1.000000  0.572546  0.525893\n",
       "MSFT  0.717002  0.572546  1.000000  0.780242\n",
       "GOOG  0.661342  0.525893  0.780242  1.000000"
      ]
     },
     "execution_count": 23,
     "metadata": {
      "tags": []
     },
     "output_type": "execute_result"
    }
   ],
   "source": [
    "#finding the correlation of all the variables\n",
    "returns.corr()"
   ]
  },
  {
   "cell_type": "code",
   "execution_count": null,
   "metadata": {
    "colab": {
     "base_uri": "https://localhost:8080/",
     "height": 166
    },
    "id": "mt9cXualw2Jt",
    "outputId": "354ec224-7bf9-4575-edc7-79deb90de605"
   },
   "outputs": [
    {
     "data": {
      "text/html": [
       "<div>\n",
       "<style scoped>\n",
       "    .dataframe tbody tr th:only-of-type {\n",
       "        vertical-align: middle;\n",
       "    }\n",
       "\n",
       "    .dataframe tbody tr th {\n",
       "        vertical-align: top;\n",
       "    }\n",
       "\n",
       "    .dataframe thead th {\n",
       "        text-align: right;\n",
       "    }\n",
       "</style>\n",
       "<table border=\"1\" class=\"dataframe\">\n",
       "  <thead>\n",
       "    <tr style=\"text-align: right;\">\n",
       "      <th></th>\n",
       "      <th>AAPL</th>\n",
       "      <th>IBM</th>\n",
       "      <th>MSFT</th>\n",
       "      <th>GOOG</th>\n",
       "    </tr>\n",
       "  </thead>\n",
       "  <tbody>\n",
       "    <tr>\n",
       "      <th>AAPL</th>\n",
       "      <td>0.000354</td>\n",
       "      <td>0.000148</td>\n",
       "      <td>0.000234</td>\n",
       "      <td>0.000205</td>\n",
       "    </tr>\n",
       "    <tr>\n",
       "      <th>IBM</th>\n",
       "      <td>0.000148</td>\n",
       "      <td>0.000259</td>\n",
       "      <td>0.000160</td>\n",
       "      <td>0.000139</td>\n",
       "    </tr>\n",
       "    <tr>\n",
       "      <th>MSFT</th>\n",
       "      <td>0.000234</td>\n",
       "      <td>0.000160</td>\n",
       "      <td>0.000301</td>\n",
       "      <td>0.000223</td>\n",
       "    </tr>\n",
       "    <tr>\n",
       "      <th>GOOG</th>\n",
       "      <td>0.000205</td>\n",
       "      <td>0.000139</td>\n",
       "      <td>0.000223</td>\n",
       "      <td>0.000271</td>\n",
       "    </tr>\n",
       "  </tbody>\n",
       "</table>\n",
       "</div>"
      ],
      "text/plain": [
       "          AAPL       IBM      MSFT      GOOG\n",
       "AAPL  0.000354  0.000148  0.000234  0.000205\n",
       "IBM   0.000148  0.000259  0.000160  0.000139\n",
       "MSFT  0.000234  0.000160  0.000301  0.000223\n",
       "GOOG  0.000205  0.000139  0.000223  0.000271"
      ]
     },
     "execution_count": 24,
     "metadata": {
      "tags": []
     },
     "output_type": "execute_result"
    }
   ],
   "source": [
    "#finding the covariance of all the variables\n",
    "returns.cov()"
   ]
  },
  {
   "cell_type": "code",
   "execution_count": null,
   "metadata": {
    "colab": {
     "base_uri": "https://localhost:8080/",
     "height": 101
    },
    "id": "_XDEIL-uw8-L",
    "outputId": "c0d0c8e9-ff29-483b-f163-e8ea6f77eb40"
   },
   "outputs": [
    {
     "data": {
      "text/plain": [
       "AAPL    0.489835\n",
       "IBM     1.000000\n",
       "MSFT    0.572546\n",
       "GOOG    0.525893\n",
       "dtype: float64"
      ]
     },
     "execution_count": 25,
     "metadata": {
      "tags": []
     },
     "output_type": "execute_result"
    }
   ],
   "source": [
    "#compute pairwise correlations\n",
    "returns.corrwith(returns.IBM)"
   ]
  },
  {
   "cell_type": "code",
   "execution_count": null,
   "metadata": {
    "colab": {
     "base_uri": "https://localhost:8080/",
     "height": 101
    },
    "id": "-k9pb3HYxFOa",
    "outputId": "40b92ecd-9d84-47f1-acf2-7e2776ac8c49"
   },
   "outputs": [
    {
     "data": {
      "text/plain": [
       "AAPL   -0.104790\n",
       "IBM    -0.079880\n",
       "MSFT   -0.095464\n",
       "GOOG   -0.179120\n",
       "dtype: float64"
      ]
     },
     "execution_count": 26,
     "metadata": {
      "tags": []
     },
     "output_type": "execute_result"
    }
   ],
   "source": [
    "#Passing a DataFrame computes the correlations of matching column names. \n",
    "#Here we compute correlations of percent changes with volume\n",
    "returns.corrwith(volume)"
   ]
  },
  {
   "cell_type": "code",
   "execution_count": null,
   "metadata": {
    "colab": {
     "base_uri": "https://localhost:8080/",
     "height": 235
    },
    "id": "LPKHJVOixS1J",
    "outputId": "a85b05d8-aabf-41ba-b39e-f5c6253709aa"
   },
   "outputs": [
    {
     "data": {
      "text/plain": [
       "Date\n",
       "2015-10-28         NaN\n",
       "2015-10-29    0.590877\n",
       "2015-10-30   -0.197956\n",
       "2015-11-02    0.443080\n",
       "2015-11-03    0.285229\n",
       "                ...   \n",
       "2020-10-19   -0.423485\n",
       "2020-10-20    0.296463\n",
       "2020-10-21   -0.270704\n",
       "2020-10-22   -0.915214\n",
       "2020-10-23   -0.804055\n",
       "Length: 1257, dtype: float64"
      ]
     },
     "execution_count": 27,
     "metadata": {
      "tags": []
     },
     "output_type": "execute_result"
    }
   ],
   "source": [
    "#Passing axis='columns' does things row-by-row instead\n",
    "returns.corrwith(volume, axis='columns')"
   ]
  },
  {
   "cell_type": "markdown",
   "metadata": {
    "id": "3HY5vNeKxjVz"
   },
   "source": [
    "**Unique Values, Value Counts, Memberships**"
   ]
  },
  {
   "cell_type": "code",
   "execution_count": null,
   "metadata": {
    "colab": {
     "base_uri": "https://localhost:8080/",
     "height": 185
    },
    "id": "EFHoQEuGxdZo",
    "outputId": "12c8360f-bb05-41ca-e2c8-de9d45a6d942"
   },
   "outputs": [
    {
     "data": {
      "text/plain": [
       "0    c\n",
       "1    a\n",
       "2    d\n",
       "3    a\n",
       "4    a\n",
       "5    b\n",
       "6    b\n",
       "7    c\n",
       "8    c\n",
       "dtype: object"
      ]
     },
     "execution_count": 28,
     "metadata": {
      "tags": []
     },
     "output_type": "execute_result"
    }
   ],
   "source": [
    "obj = pd.Series(['c', 'a', 'd', 'a', 'a', 'b', 'b', 'c', 'c'])\n",
    "obj"
   ]
  },
  {
   "cell_type": "code",
   "execution_count": null,
   "metadata": {
    "colab": {
     "base_uri": "https://localhost:8080/",
     "height": 34
    },
    "id": "5J-_raVpxqHz",
    "outputId": "8ac6b4c3-8883-45d5-f7ca-79851c88a2ea"
   },
   "outputs": [
    {
     "data": {
      "text/plain": [
       "array(['c', 'a', 'd', 'b'], dtype=object)"
      ]
     },
     "execution_count": 29,
     "metadata": {
      "tags": []
     },
     "output_type": "execute_result"
    }
   ],
   "source": [
    "#Finding unique objects\n",
    "uniques = obj.unique()\n",
    "uniques"
   ]
  },
  {
   "cell_type": "code",
   "execution_count": null,
   "metadata": {
    "id": "V7v-yXiHxv0L"
   },
   "outputs": [],
   "source": [
    "#sorted unique objects can also be displayed\n",
    "uniques.sort()"
   ]
  },
  {
   "cell_type": "code",
   "execution_count": null,
   "metadata": {
    "colab": {
     "base_uri": "https://localhost:8080/",
     "height": 34
    },
    "id": "DIAWqzgUx7g4",
    "outputId": "f56c0a8b-f743-42d0-bbac-51851350b2b9"
   },
   "outputs": [
    {
     "data": {
      "text/plain": [
       "array(['a', 'b', 'c', 'd'], dtype=object)"
      ]
     },
     "execution_count": 31,
     "metadata": {
      "tags": []
     },
     "output_type": "execute_result"
    }
   ],
   "source": [
    "uniques"
   ]
  },
  {
   "cell_type": "code",
   "execution_count": null,
   "metadata": {
    "colab": {
     "base_uri": "https://localhost:8080/",
     "height": 101
    },
    "id": "PAarcFQWyGEa",
    "outputId": "56553f46-7327-4325-939f-09b5fc717861"
   },
   "outputs": [
    {
     "data": {
      "text/plain": [
       "a    3\n",
       "c    3\n",
       "b    2\n",
       "d    1\n",
       "dtype: int64"
      ]
     },
     "execution_count": 32,
     "metadata": {
      "tags": []
     },
     "output_type": "execute_result"
    }
   ],
   "source": [
    "#finding the count of the object occurrences\n",
    "obj.value_counts()"
   ]
  },
  {
   "cell_type": "code",
   "execution_count": null,
   "metadata": {
    "colab": {
     "base_uri": "https://localhost:8080/",
     "height": 101
    },
    "id": "IDYlU8PPyPS1",
    "outputId": "e18061ac-a338-40ec-ad32-5e076b141612"
   },
   "outputs": [
    {
     "data": {
      "text/plain": [
       "b    2\n",
       "c    3\n",
       "d    1\n",
       "a    3\n",
       "dtype: int64"
      ]
     },
     "execution_count": 33,
     "metadata": {
      "tags": []
     },
     "output_type": "execute_result"
    }
   ],
   "source": [
    "#sorted indexes with count of their occurrences\n",
    "pd.value_counts(obj.values, sort=False)"
   ]
  },
  {
   "cell_type": "code",
   "execution_count": null,
   "metadata": {
    "colab": {
     "base_uri": "https://localhost:8080/",
     "height": 185
    },
    "id": "xYXsnsiXydS8",
    "outputId": "bcbe24ae-6ebd-4796-db1c-cbf906fd8554"
   },
   "outputs": [
    {
     "data": {
      "text/plain": [
       "0     True\n",
       "1    False\n",
       "2    False\n",
       "3    False\n",
       "4    False\n",
       "5     True\n",
       "6     True\n",
       "7     True\n",
       "8     True\n",
       "dtype: bool"
      ]
     },
     "execution_count": 34,
     "metadata": {
      "tags": []
     },
     "output_type": "execute_result"
    }
   ],
   "source": [
    "#Membership check operator\n",
    "mask = obj.isin(['b','c'])\n",
    "mask"
   ]
  },
  {
   "cell_type": "code",
   "execution_count": null,
   "metadata": {
    "colab": {
     "base_uri": "https://localhost:8080/",
     "height": 118
    },
    "id": "oN0aHd1fymiV",
    "outputId": "31e3e49a-d5a9-47e5-cbda-d0088abeafc0"
   },
   "outputs": [
    {
     "data": {
      "text/plain": [
       "0    c\n",
       "5    b\n",
       "6    b\n",
       "7    c\n",
       "8    c\n",
       "dtype: object"
      ]
     },
     "execution_count": 35,
     "metadata": {
      "tags": []
     },
     "output_type": "execute_result"
    }
   ],
   "source": [
    "obj[mask]"
   ]
  },
  {
   "cell_type": "code",
   "execution_count": null,
   "metadata": {
    "colab": {
     "base_uri": "https://localhost:8080/",
     "height": 34
    },
    "id": "QGnnfohOysxx",
    "outputId": "687c68a0-2926-4914-c14c-839b26fc0d0c"
   },
   "outputs": [
    {
     "data": {
      "text/plain": [
       "array([0, 2, 1, 1, 0, 2])"
      ]
     },
     "execution_count": 36,
     "metadata": {
      "tags": []
     },
     "output_type": "execute_result"
    }
   ],
   "source": [
    "#Finding an index array from an array of possibly non-distinct values \n",
    "#into another array of distinct values\n",
    "to_match = pd.Series(['c', 'a', 'b', 'b', 'c', 'a'])\n",
    "unique_vals = pd.Series(['c', 'b', 'a'])\n",
    "pd.Index(unique_vals).get_indexer(to_match)"
   ]
  },
  {
   "cell_type": "code",
   "execution_count": null,
   "metadata": {
    "colab": {
     "base_uri": "https://localhost:8080/",
     "height": 195
    },
    "id": "BmCyIDWOy7vm",
    "outputId": "d26ca72a-a460-40aa-bb87-868b121152da"
   },
   "outputs": [
    {
     "data": {
      "text/html": [
       "<div>\n",
       "<style scoped>\n",
       "    .dataframe tbody tr th:only-of-type {\n",
       "        vertical-align: middle;\n",
       "    }\n",
       "\n",
       "    .dataframe tbody tr th {\n",
       "        vertical-align: top;\n",
       "    }\n",
       "\n",
       "    .dataframe thead th {\n",
       "        text-align: right;\n",
       "    }\n",
       "</style>\n",
       "<table border=\"1\" class=\"dataframe\">\n",
       "  <thead>\n",
       "    <tr style=\"text-align: right;\">\n",
       "      <th></th>\n",
       "      <th>Qu1</th>\n",
       "      <th>Qu2</th>\n",
       "      <th>Qu3</th>\n",
       "    </tr>\n",
       "  </thead>\n",
       "  <tbody>\n",
       "    <tr>\n",
       "      <th>0</th>\n",
       "      <td>1</td>\n",
       "      <td>2</td>\n",
       "      <td>1</td>\n",
       "    </tr>\n",
       "    <tr>\n",
       "      <th>1</th>\n",
       "      <td>3</td>\n",
       "      <td>3</td>\n",
       "      <td>5</td>\n",
       "    </tr>\n",
       "    <tr>\n",
       "      <th>2</th>\n",
       "      <td>4</td>\n",
       "      <td>1</td>\n",
       "      <td>2</td>\n",
       "    </tr>\n",
       "    <tr>\n",
       "      <th>3</th>\n",
       "      <td>3</td>\n",
       "      <td>2</td>\n",
       "      <td>4</td>\n",
       "    </tr>\n",
       "    <tr>\n",
       "      <th>4</th>\n",
       "      <td>4</td>\n",
       "      <td>3</td>\n",
       "      <td>4</td>\n",
       "    </tr>\n",
       "  </tbody>\n",
       "</table>\n",
       "</div>"
      ],
      "text/plain": [
       "   Qu1  Qu2  Qu3\n",
       "0    1    2    1\n",
       "1    3    3    5\n",
       "2    4    1    2\n",
       "3    3    2    4\n",
       "4    4    3    4"
      ]
     },
     "execution_count": 37,
     "metadata": {
      "tags": []
     },
     "output_type": "execute_result"
    }
   ],
   "source": [
    "#Compute a histogram on multiple related columns in a DataFrame and \n",
    "#for that some processing is required as shown below\n",
    "data = pd.DataFrame({'Qu1': [1, 3, 4, 3, 4],\n",
    "                     'Qu2': [2, 3, 1, 2, 3],\n",
    "                     'Qu3': [1, 5, 2, 4, 4]})\n",
    "data"
   ]
  },
  {
   "cell_type": "code",
   "execution_count": null,
   "metadata": {
    "colab": {
     "base_uri": "https://localhost:8080/",
     "height": 195
    },
    "id": "5na0xonrzpAF",
    "outputId": "615b4caa-20ee-46cb-c7ed-ca8880a1e0f1"
   },
   "outputs": [
    {
     "data": {
      "text/html": [
       "<div>\n",
       "<style scoped>\n",
       "    .dataframe tbody tr th:only-of-type {\n",
       "        vertical-align: middle;\n",
       "    }\n",
       "\n",
       "    .dataframe tbody tr th {\n",
       "        vertical-align: top;\n",
       "    }\n",
       "\n",
       "    .dataframe thead th {\n",
       "        text-align: right;\n",
       "    }\n",
       "</style>\n",
       "<table border=\"1\" class=\"dataframe\">\n",
       "  <thead>\n",
       "    <tr style=\"text-align: right;\">\n",
       "      <th></th>\n",
       "      <th>Qu1</th>\n",
       "      <th>Qu2</th>\n",
       "      <th>Qu3</th>\n",
       "    </tr>\n",
       "  </thead>\n",
       "  <tbody>\n",
       "    <tr>\n",
       "      <th>1</th>\n",
       "      <td>1.0</td>\n",
       "      <td>1.0</td>\n",
       "      <td>1.0</td>\n",
       "    </tr>\n",
       "    <tr>\n",
       "      <th>2</th>\n",
       "      <td>0.0</td>\n",
       "      <td>2.0</td>\n",
       "      <td>1.0</td>\n",
       "    </tr>\n",
       "    <tr>\n",
       "      <th>3</th>\n",
       "      <td>2.0</td>\n",
       "      <td>2.0</td>\n",
       "      <td>0.0</td>\n",
       "    </tr>\n",
       "    <tr>\n",
       "      <th>4</th>\n",
       "      <td>2.0</td>\n",
       "      <td>0.0</td>\n",
       "      <td>2.0</td>\n",
       "    </tr>\n",
       "    <tr>\n",
       "      <th>5</th>\n",
       "      <td>0.0</td>\n",
       "      <td>0.0</td>\n",
       "      <td>1.0</td>\n",
       "    </tr>\n",
       "  </tbody>\n",
       "</table>\n",
       "</div>"
      ],
      "text/plain": [
       "   Qu1  Qu2  Qu3\n",
       "1  1.0  1.0  1.0\n",
       "2  0.0  2.0  1.0\n",
       "3  2.0  2.0  0.0\n",
       "4  2.0  0.0  2.0\n",
       "5  0.0  0.0  1.0"
      ]
     },
     "execution_count": 38,
     "metadata": {
      "tags": []
     },
     "output_type": "execute_result"
    }
   ],
   "source": [
    "result = data.apply(pd.value_counts).fillna(0)\n",
    "result"
   ]
  },
  {
   "cell_type": "markdown",
   "metadata": {
    "id": "hAqsVbr50MzI"
   },
   "source": [
    "**GROUPBY MECHANICS (10.1)**"
   ]
  },
  {
   "cell_type": "markdown",
   "metadata": {
    "id": "6dqK-sFC0jMu"
   },
   "source": [
    "![image.png](data:image/png;base64,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)"
   ]
  },
  {
   "cell_type": "markdown",
   "metadata": {
    "id": "pZVDcQYg0ivc"
   },
   "source": [
    "Illustration of a Group Aggregation"
   ]
  },
  {
   "cell_type": "code",
   "execution_count": null,
   "metadata": {
    "colab": {
     "base_uri": "https://localhost:8080/",
     "height": 195
    },
    "id": "O5Wd4nW_zsYD",
    "outputId": "e4fff37b-6110-457b-b902-e9bef1d123b2"
   },
   "outputs": [
    {
     "data": {
      "text/html": [
       "<div>\n",
       "<style scoped>\n",
       "    .dataframe tbody tr th:only-of-type {\n",
       "        vertical-align: middle;\n",
       "    }\n",
       "\n",
       "    .dataframe tbody tr th {\n",
       "        vertical-align: top;\n",
       "    }\n",
       "\n",
       "    .dataframe thead th {\n",
       "        text-align: right;\n",
       "    }\n",
       "</style>\n",
       "<table border=\"1\" class=\"dataframe\">\n",
       "  <thead>\n",
       "    <tr style=\"text-align: right;\">\n",
       "      <th></th>\n",
       "      <th>key1</th>\n",
       "      <th>key2</th>\n",
       "      <th>data1</th>\n",
       "      <th>data2</th>\n",
       "    </tr>\n",
       "  </thead>\n",
       "  <tbody>\n",
       "    <tr>\n",
       "      <th>0</th>\n",
       "      <td>a</td>\n",
       "      <td>one</td>\n",
       "      <td>-0.383222</td>\n",
       "      <td>-0.354928</td>\n",
       "    </tr>\n",
       "    <tr>\n",
       "      <th>1</th>\n",
       "      <td>a</td>\n",
       "      <td>two</td>\n",
       "      <td>-0.074126</td>\n",
       "      <td>-0.161896</td>\n",
       "    </tr>\n",
       "    <tr>\n",
       "      <th>2</th>\n",
       "      <td>b</td>\n",
       "      <td>one</td>\n",
       "      <td>-0.852126</td>\n",
       "      <td>-0.915858</td>\n",
       "    </tr>\n",
       "    <tr>\n",
       "      <th>3</th>\n",
       "      <td>b</td>\n",
       "      <td>two</td>\n",
       "      <td>0.953120</td>\n",
       "      <td>0.153948</td>\n",
       "    </tr>\n",
       "    <tr>\n",
       "      <th>4</th>\n",
       "      <td>a</td>\n",
       "      <td>one</td>\n",
       "      <td>-0.447949</td>\n",
       "      <td>0.217212</td>\n",
       "    </tr>\n",
       "  </tbody>\n",
       "</table>\n",
       "</div>"
      ],
      "text/plain": [
       "  key1 key2     data1     data2\n",
       "0    a  one -0.383222 -0.354928\n",
       "1    a  two -0.074126 -0.161896\n",
       "2    b  one -0.852126 -0.915858\n",
       "3    b  two  0.953120  0.153948\n",
       "4    a  one -0.447949  0.217212"
      ]
     },
     "execution_count": 39,
     "metadata": {
      "tags": []
     },
     "output_type": "execute_result"
    }
   ],
   "source": [
    "df = pd.DataFrame({'key1' : ['a', 'a', 'b', 'b', 'a'],\n",
    "                   'key2' : ['one', 'two', 'one', 'two', 'one'],\n",
    "                   'data1' : np.random.randn(5),\n",
    "                   'data2' : np.random.randn(5)})\n",
    "df"
   ]
  },
  {
   "cell_type": "code",
   "execution_count": null,
   "metadata": {
    "colab": {
     "base_uri": "https://localhost:8080/",
     "height": 34
    },
    "id": "S5xzYt32BUqK",
    "outputId": "4b3ac312-e080-4609-b4d3-38a92ec3f418"
   },
   "outputs": [
    {
     "data": {
      "text/plain": [
       "<pandas.core.groupby.generic.SeriesGroupBy object at 0x7f6aa3079d68>"
      ]
     },
     "execution_count": 40,
     "metadata": {
      "tags": []
     },
     "output_type": "execute_result"
    }
   ],
   "source": [
    "#grouping data1 for each label in key1\n",
    "grouped = df['data1'].groupby(df['key1'])\n",
    "grouped"
   ]
  },
  {
   "cell_type": "code",
   "execution_count": null,
   "metadata": {
    "colab": {
     "base_uri": "https://localhost:8080/",
     "height": 84
    },
    "id": "AKGNKjkYBhLf",
    "outputId": "91cf0b51-162f-4150-967f-e8e7c3157882"
   },
   "outputs": [
    {
     "data": {
      "text/plain": [
       "key1\n",
       "a   -0.301766\n",
       "b    0.050497\n",
       "Name: data1, dtype: float64"
      ]
     },
     "execution_count": 41,
     "metadata": {
      "tags": []
     },
     "output_type": "execute_result"
    }
   ],
   "source": [
    "#computing mean of data1 for groups from key1\n",
    "grouped.mean()"
   ]
  },
  {
   "cell_type": "code",
   "execution_count": null,
   "metadata": {
    "colab": {
     "base_uri": "https://localhost:8080/",
     "height": 118
    },
    "id": "rNTEos9BBuIX",
    "outputId": "27a0522f-0bde-4275-f547-6d9dcf7f4e0b"
   },
   "outputs": [
    {
     "data": {
      "text/plain": [
       "key1  key2\n",
       "a     one    -0.415586\n",
       "      two    -0.074126\n",
       "b     one    -0.852126\n",
       "      two     0.953120\n",
       "Name: data1, dtype: float64"
      ]
     },
     "execution_count": 42,
     "metadata": {
      "tags": []
     },
     "output_type": "execute_result"
    }
   ],
   "source": [
    "#finding means of data1 across groups of key1 and key2\n",
    "means = df['data1'].groupby([df['key1'], df['key2']]).mean()\n",
    "means"
   ]
  },
  {
   "cell_type": "code",
   "execution_count": null,
   "metadata": {
    "colab": {
     "base_uri": "https://localhost:8080/",
     "height": 136
    },
    "id": "bx3dV-v-B5qB",
    "outputId": "9c9dea85-ec97-44b3-cfdb-20ec50b25774"
   },
   "outputs": [
    {
     "data": {
      "text/html": [
       "<div>\n",
       "<style scoped>\n",
       "    .dataframe tbody tr th:only-of-type {\n",
       "        vertical-align: middle;\n",
       "    }\n",
       "\n",
       "    .dataframe tbody tr th {\n",
       "        vertical-align: top;\n",
       "    }\n",
       "\n",
       "    .dataframe thead th {\n",
       "        text-align: right;\n",
       "    }\n",
       "</style>\n",
       "<table border=\"1\" class=\"dataframe\">\n",
       "  <thead>\n",
       "    <tr style=\"text-align: right;\">\n",
       "      <th>key2</th>\n",
       "      <th>one</th>\n",
       "      <th>two</th>\n",
       "    </tr>\n",
       "    <tr>\n",
       "      <th>key1</th>\n",
       "      <th></th>\n",
       "      <th></th>\n",
       "    </tr>\n",
       "  </thead>\n",
       "  <tbody>\n",
       "    <tr>\n",
       "      <th>a</th>\n",
       "      <td>-0.415586</td>\n",
       "      <td>-0.074126</td>\n",
       "    </tr>\n",
       "    <tr>\n",
       "      <th>b</th>\n",
       "      <td>-0.852126</td>\n",
       "      <td>0.953120</td>\n",
       "    </tr>\n",
       "  </tbody>\n",
       "</table>\n",
       "</div>"
      ],
      "text/plain": [
       "key2       one       two\n",
       "key1                    \n",
       "a    -0.415586 -0.074126\n",
       "b    -0.852126  0.953120"
      ]
     },
     "execution_count": 43,
     "metadata": {
      "tags": []
     },
     "output_type": "execute_result"
    }
   ],
   "source": [
    "#instead of heirarchical keys, we can unstack the data to look like a table\n",
    "means.unstack()"
   ]
  },
  {
   "cell_type": "code",
   "execution_count": null,
   "metadata": {
    "colab": {
     "base_uri": "https://localhost:8080/",
     "height": 136
    },
    "id": "Wr2AcUHNCD-_",
    "outputId": "75f28476-9bda-40fb-b5eb-cd4dddb4284b"
   },
   "outputs": [
    {
     "data": {
      "text/html": [
       "<div>\n",
       "<style scoped>\n",
       "    .dataframe tbody tr th:only-of-type {\n",
       "        vertical-align: middle;\n",
       "    }\n",
       "\n",
       "    .dataframe tbody tr th {\n",
       "        vertical-align: top;\n",
       "    }\n",
       "\n",
       "    .dataframe thead th {\n",
       "        text-align: right;\n",
       "    }\n",
       "</style>\n",
       "<table border=\"1\" class=\"dataframe\">\n",
       "  <thead>\n",
       "    <tr style=\"text-align: right;\">\n",
       "      <th></th>\n",
       "      <th>data1</th>\n",
       "      <th>data2</th>\n",
       "    </tr>\n",
       "    <tr>\n",
       "      <th>key1</th>\n",
       "      <th></th>\n",
       "      <th></th>\n",
       "    </tr>\n",
       "  </thead>\n",
       "  <tbody>\n",
       "    <tr>\n",
       "      <th>a</th>\n",
       "      <td>-0.301766</td>\n",
       "      <td>-0.099871</td>\n",
       "    </tr>\n",
       "    <tr>\n",
       "      <th>b</th>\n",
       "      <td>0.050497</td>\n",
       "      <td>-0.380955</td>\n",
       "    </tr>\n",
       "  </tbody>\n",
       "</table>\n",
       "</div>"
      ],
      "text/plain": [
       "         data1     data2\n",
       "key1                    \n",
       "a    -0.301766 -0.099871\n",
       "b     0.050497 -0.380955"
      ]
     },
     "execution_count": 44,
     "metadata": {
      "tags": []
     },
     "output_type": "execute_result"
    }
   ],
   "source": [
    "#grouping for key1\n",
    "df.groupby('key1').mean()"
   ]
  },
  {
   "cell_type": "code",
   "execution_count": null,
   "metadata": {
    "colab": {
     "base_uri": "https://localhost:8080/",
     "height": 195
    },
    "id": "i6N9x339CkGu",
    "outputId": "334d5dfa-fb5d-4483-d91b-9531e1f2bf64"
   },
   "outputs": [
    {
     "data": {
      "text/html": [
       "<div>\n",
       "<style scoped>\n",
       "    .dataframe tbody tr th:only-of-type {\n",
       "        vertical-align: middle;\n",
       "    }\n",
       "\n",
       "    .dataframe tbody tr th {\n",
       "        vertical-align: top;\n",
       "    }\n",
       "\n",
       "    .dataframe thead th {\n",
       "        text-align: right;\n",
       "    }\n",
       "</style>\n",
       "<table border=\"1\" class=\"dataframe\">\n",
       "  <thead>\n",
       "    <tr style=\"text-align: right;\">\n",
       "      <th></th>\n",
       "      <th></th>\n",
       "      <th>data1</th>\n",
       "      <th>data2</th>\n",
       "    </tr>\n",
       "    <tr>\n",
       "      <th>key1</th>\n",
       "      <th>key2</th>\n",
       "      <th></th>\n",
       "      <th></th>\n",
       "    </tr>\n",
       "  </thead>\n",
       "  <tbody>\n",
       "    <tr>\n",
       "      <th rowspan=\"2\" valign=\"top\">a</th>\n",
       "      <th>one</th>\n",
       "      <td>-0.415586</td>\n",
       "      <td>-0.068858</td>\n",
       "    </tr>\n",
       "    <tr>\n",
       "      <th>two</th>\n",
       "      <td>-0.074126</td>\n",
       "      <td>-0.161896</td>\n",
       "    </tr>\n",
       "    <tr>\n",
       "      <th rowspan=\"2\" valign=\"top\">b</th>\n",
       "      <th>one</th>\n",
       "      <td>-0.852126</td>\n",
       "      <td>-0.915858</td>\n",
       "    </tr>\n",
       "    <tr>\n",
       "      <th>two</th>\n",
       "      <td>0.953120</td>\n",
       "      <td>0.153948</td>\n",
       "    </tr>\n",
       "  </tbody>\n",
       "</table>\n",
       "</div>"
      ],
      "text/plain": [
       "              data1     data2\n",
       "key1 key2                    \n",
       "a    one  -0.415586 -0.068858\n",
       "     two  -0.074126 -0.161896\n",
       "b    one  -0.852126 -0.915858\n",
       "     two   0.953120  0.153948"
      ]
     },
     "execution_count": 45,
     "metadata": {
      "tags": []
     },
     "output_type": "execute_result"
    }
   ],
   "source": [
    "#grouping for key1 and key2\n",
    "df.groupby(['key1','key2']).mean()"
   ]
  },
  {
   "cell_type": "code",
   "execution_count": null,
   "metadata": {
    "colab": {
     "base_uri": "https://localhost:8080/",
     "height": 118
    },
    "id": "M7o5-YTgC_P7",
    "outputId": "47723b69-8884-4482-c02d-148165b6ff4d"
   },
   "outputs": [
    {
     "data": {
      "text/plain": [
       "key1  key2\n",
       "a     one     2\n",
       "      two     1\n",
       "b     one     1\n",
       "      two     1\n",
       "dtype: int64"
      ]
     },
     "execution_count": 46,
     "metadata": {
      "tags": []
     },
     "output_type": "execute_result"
    }
   ],
   "source": [
    "#returns a Series containing group sizes\n",
    "#any missing values in a group key will be excluded from the result\n",
    "df.groupby(['key1', 'key2']).size()"
   ]
  },
  {
   "cell_type": "markdown",
   "metadata": {
    "id": "p3WlpkmDDY-R"
   },
   "source": [
    "**Iterating over Groups**"
   ]
  },
  {
   "cell_type": "code",
   "execution_count": null,
   "metadata": {
    "colab": {
     "base_uri": "https://localhost:8080/",
     "height": 168
    },
    "id": "u5M-1HGWDJB6",
    "outputId": "884dfa2d-84be-4090-c82f-3cf84b12d719"
   },
   "outputs": [
    {
     "name": "stdout",
     "output_type": "stream",
     "text": [
      "a\n",
      "  key1 key2     data1     data2\n",
      "0    a  one -0.383222 -0.354928\n",
      "1    a  two -0.074126 -0.161896\n",
      "4    a  one -0.447949  0.217212\n",
      "b\n",
      "  key1 key2     data1     data2\n",
      "2    b  one -0.852126 -0.915858\n",
      "3    b  two  0.953120  0.153948\n"
     ]
    }
   ],
   "source": [
    "for name, group in df.groupby('key1'):\n",
    "  print(name)\n",
    "  print(group)"
   ]
  },
  {
   "cell_type": "code",
   "execution_count": null,
   "metadata": {
    "colab": {
     "base_uri": "https://localhost:8080/",
     "height": 235
    },
    "id": "EC3a0BXsDq_h",
    "outputId": "098105fd-25b4-4f7c-a43e-531e06a709cf"
   },
   "outputs": [
    {
     "name": "stdout",
     "output_type": "stream",
     "text": [
      "('a', 'one')\n",
      "  key1 key2     data1     data2\n",
      "0    a  one -0.383222 -0.354928\n",
      "4    a  one -0.447949  0.217212\n",
      "('a', 'two')\n",
      "  key1 key2     data1     data2\n",
      "1    a  two -0.074126 -0.161896\n",
      "('b', 'one')\n",
      "  key1 key2     data1     data2\n",
      "2    b  one -0.852126 -0.915858\n",
      "('b', 'two')\n",
      "  key1 key2    data1     data2\n",
      "3    b  two  0.95312  0.153948\n"
     ]
    }
   ],
   "source": [
    "#we can iterate over dataframe using keys as well\n",
    "for (k1, k2), group in df.groupby(['key1', 'key2']):\n",
    "  print((k1, k2))\n",
    "  print(group)"
   ]
  },
  {
   "cell_type": "code",
   "execution_count": null,
   "metadata": {
    "colab": {
     "base_uri": "https://localhost:8080/",
     "height": 118
    },
    "id": "XT8HCzUPD4UV",
    "outputId": "7e4fc88a-29fe-4a9d-ccae-f62d6e783a71"
   },
   "outputs": [
    {
     "data": {
      "text/plain": [
       "{'a':   key1 key2     data1     data2\n",
       " 0    a  one -0.383222 -0.354928\n",
       " 1    a  two -0.074126 -0.161896\n",
       " 4    a  one -0.447949  0.217212, 'b':   key1 key2     data1     data2\n",
       " 2    b  one -0.852126 -0.915858\n",
       " 3    b  two  0.953120  0.153948}"
      ]
     },
     "execution_count": 49,
     "metadata": {
      "tags": []
     },
     "output_type": "execute_result"
    }
   ],
   "source": [
    "#computing a dict of the data pieces as a one-liner\n",
    "pieces = dict(list(df.groupby('key1')))\n",
    "pieces"
   ]
  },
  {
   "cell_type": "code",
   "execution_count": null,
   "metadata": {
    "colab": {
     "base_uri": "https://localhost:8080/",
     "height": 106
    },
    "id": "5A3MovqkERV9",
    "outputId": "75a564e6-1e7c-4e73-9c06-f9be5dde5640"
   },
   "outputs": [
    {
     "data": {
      "text/html": [
       "<div>\n",
       "<style scoped>\n",
       "    .dataframe tbody tr th:only-of-type {\n",
       "        vertical-align: middle;\n",
       "    }\n",
       "\n",
       "    .dataframe tbody tr th {\n",
       "        vertical-align: top;\n",
       "    }\n",
       "\n",
       "    .dataframe thead th {\n",
       "        text-align: right;\n",
       "    }\n",
       "</style>\n",
       "<table border=\"1\" class=\"dataframe\">\n",
       "  <thead>\n",
       "    <tr style=\"text-align: right;\">\n",
       "      <th></th>\n",
       "      <th>key1</th>\n",
       "      <th>key2</th>\n",
       "      <th>data1</th>\n",
       "      <th>data2</th>\n",
       "    </tr>\n",
       "  </thead>\n",
       "  <tbody>\n",
       "    <tr>\n",
       "      <th>2</th>\n",
       "      <td>b</td>\n",
       "      <td>one</td>\n",
       "      <td>-0.852126</td>\n",
       "      <td>-0.915858</td>\n",
       "    </tr>\n",
       "    <tr>\n",
       "      <th>3</th>\n",
       "      <td>b</td>\n",
       "      <td>two</td>\n",
       "      <td>0.953120</td>\n",
       "      <td>0.153948</td>\n",
       "    </tr>\n",
       "  </tbody>\n",
       "</table>\n",
       "</div>"
      ],
      "text/plain": [
       "  key1 key2     data1     data2\n",
       "2    b  one -0.852126 -0.915858\n",
       "3    b  two  0.953120  0.153948"
      ]
     },
     "execution_count": 50,
     "metadata": {
      "tags": []
     },
     "output_type": "execute_result"
    }
   ],
   "source": [
    "pieces['b']"
   ]
  },
  {
   "cell_type": "code",
   "execution_count": null,
   "metadata": {
    "colab": {
     "base_uri": "https://localhost:8080/",
     "height": 101
    },
    "id": "DEA_SuVzET6X",
    "outputId": "cb3bb4f9-1c55-4e51-c637-2e2c2e481bc3"
   },
   "outputs": [
    {
     "data": {
      "text/plain": [
       "key1      object\n",
       "key2      object\n",
       "data1    float64\n",
       "data2    float64\n",
       "dtype: object"
      ]
     },
     "execution_count": 51,
     "metadata": {
      "tags": []
     },
     "output_type": "execute_result"
    }
   ],
   "source": [
    "#checking the datatype of each element of the dataframe\n",
    "df.dtypes"
   ]
  },
  {
   "cell_type": "code",
   "execution_count": null,
   "metadata": {
    "colab": {
     "base_uri": "https://localhost:8080/",
     "height": 34
    },
    "id": "5L7F860aEbua",
    "outputId": "8cc6754e-f25c-4f54-da8f-627f6f7d876f"
   },
   "outputs": [
    {
     "data": {
      "text/plain": [
       "<pandas.core.groupby.generic.DataFrameGroupBy object at 0x7f6aa309c6d8>"
      ]
     },
     "execution_count": 52,
     "metadata": {
      "tags": []
     },
     "output_type": "execute_result"
    }
   ],
   "source": [
    "#we can change the axis of groupy to make it row-wise\n",
    "grouped = df.groupby(df.dtypes, axis=1)\n",
    "grouped"
   ]
  },
  {
   "cell_type": "code",
   "execution_count": null,
   "metadata": {
    "colab": {
     "base_uri": "https://localhost:8080/",
     "height": 252
    },
    "id": "9PQUP8clEpqr",
    "outputId": "43a7346b-79ba-4646-9ef6-831e4ba17369"
   },
   "outputs": [
    {
     "name": "stdout",
     "output_type": "stream",
     "text": [
      "float64\n",
      "      data1     data2\n",
      "0 -0.383222 -0.354928\n",
      "1 -0.074126 -0.161896\n",
      "2 -0.852126 -0.915858\n",
      "3  0.953120  0.153948\n",
      "4 -0.447949  0.217212\n",
      "object\n",
      "  key1 key2\n",
      "0    a  one\n",
      "1    a  two\n",
      "2    b  one\n",
      "3    b  two\n",
      "4    a  one\n"
     ]
    }
   ],
   "source": [
    "for dtype, group in grouped:\n",
    "  print(dtype)\n",
    "  print(group)"
   ]
  },
  {
   "cell_type": "markdown",
   "metadata": {
    "id": "yTCSzzx9E39b"
   },
   "source": [
    "**Selecting a Column or Subset of Columns**"
   ]
  },
  {
   "cell_type": "code",
   "execution_count": null,
   "metadata": {
    "colab": {
     "base_uri": "https://localhost:8080/",
     "height": 34
    },
    "id": "BYrxYSgNEywE",
    "outputId": "263d5683-8c6c-46c2-dcc0-86ee56db0be6"
   },
   "outputs": [
    {
     "data": {
      "text/plain": [
       "<pandas.core.groupby.generic.DataFrameGroupBy object at 0x7f6aa2fdec50>"
      ]
     },
     "execution_count": 54,
     "metadata": {
      "tags": []
     },
     "output_type": "execute_result"
    }
   ],
   "source": [
    "df.groupby('key1')['data1']\n",
    "df.groupby('key1')[['data2']]"
   ]
  },
  {
   "cell_type": "code",
   "execution_count": null,
   "metadata": {
    "colab": {
     "base_uri": "https://localhost:8080/",
     "height": 34
    },
    "id": "bDTg2eoXFD_K",
    "outputId": "4d2e63f6-d50d-45ed-d71c-779bbe68424f"
   },
   "outputs": [
    {
     "data": {
      "text/plain": [
       "<pandas.core.groupby.generic.DataFrameGroupBy object at 0x7f6aa30a5080>"
      ]
     },
     "execution_count": 55,
     "metadata": {
      "tags": []
     },
     "output_type": "execute_result"
    }
   ],
   "source": [
    "#similar to\n",
    "df['data1'].groupby(df['key1'])\n",
    "df[['data2']].groupby(df['key1'])"
   ]
  },
  {
   "cell_type": "code",
   "execution_count": null,
   "metadata": {
    "colab": {
     "base_uri": "https://localhost:8080/",
     "height": 195
    },
    "id": "7u9LralQFJf4",
    "outputId": "18907d76-52a5-4d0c-dd3d-d9b946093dc7"
   },
   "outputs": [
    {
     "data": {
      "text/html": [
       "<div>\n",
       "<style scoped>\n",
       "    .dataframe tbody tr th:only-of-type {\n",
       "        vertical-align: middle;\n",
       "    }\n",
       "\n",
       "    .dataframe tbody tr th {\n",
       "        vertical-align: top;\n",
       "    }\n",
       "\n",
       "    .dataframe thead th {\n",
       "        text-align: right;\n",
       "    }\n",
       "</style>\n",
       "<table border=\"1\" class=\"dataframe\">\n",
       "  <thead>\n",
       "    <tr style=\"text-align: right;\">\n",
       "      <th></th>\n",
       "      <th></th>\n",
       "      <th>data2</th>\n",
       "    </tr>\n",
       "    <tr>\n",
       "      <th>key1</th>\n",
       "      <th>key2</th>\n",
       "      <th></th>\n",
       "    </tr>\n",
       "  </thead>\n",
       "  <tbody>\n",
       "    <tr>\n",
       "      <th rowspan=\"2\" valign=\"top\">a</th>\n",
       "      <th>one</th>\n",
       "      <td>-0.068858</td>\n",
       "    </tr>\n",
       "    <tr>\n",
       "      <th>two</th>\n",
       "      <td>-0.161896</td>\n",
       "    </tr>\n",
       "    <tr>\n",
       "      <th rowspan=\"2\" valign=\"top\">b</th>\n",
       "      <th>one</th>\n",
       "      <td>-0.915858</td>\n",
       "    </tr>\n",
       "    <tr>\n",
       "      <th>two</th>\n",
       "      <td>0.153948</td>\n",
       "    </tr>\n",
       "  </tbody>\n",
       "</table>\n",
       "</div>"
      ],
      "text/plain": [
       "              data2\n",
       "key1 key2          \n",
       "a    one  -0.068858\n",
       "     two  -0.161896\n",
       "b    one  -0.915858\n",
       "     two   0.153948"
      ]
     },
     "execution_count": 56,
     "metadata": {
      "tags": []
     },
     "output_type": "execute_result"
    }
   ],
   "source": [
    "#it may be desirable to aggregate only a few columns\n",
    "df.groupby(['key1', 'key2'])[['data2']].mean()"
   ]
  },
  {
   "cell_type": "code",
   "execution_count": null,
   "metadata": {
    "colab": {
     "base_uri": "https://localhost:8080/",
     "height": 118
    },
    "id": "S-YW6tfrFRFs",
    "outputId": "b392eb84-ebb4-43f0-d5ad-eee40222b4a0"
   },
   "outputs": [
    {
     "data": {
      "text/plain": [
       "key1  key2\n",
       "a     one    -0.068858\n",
       "      two    -0.161896\n",
       "b     one    -0.915858\n",
       "      two     0.153948\n",
       "Name: data2, dtype: float64"
      ]
     },
     "execution_count": 57,
     "metadata": {
      "tags": []
     },
     "output_type": "execute_result"
    }
   ],
   "source": [
    "#by storing the groups and then computing the mean\n",
    "s_grouped = df.groupby(['key1', 'key2'])['data2']\n",
    "s_grouped.mean()"
   ]
  },
  {
   "cell_type": "code",
   "execution_count": null,
   "metadata": {
    "id": "cCzRq9jYFhGF"
   },
   "outputs": [],
   "source": []
  }
 ],
 "metadata": {
  "colab": {
   "collapsed_sections": [],
   "name": "ANKIT19MTS5630LAB(26/10/2020)Task 8.ipynb",
   "provenance": []
  },
  "kernelspec": {
   "display_name": "Python 3",
   "language": "python",
   "name": "python3"
  },
  "language_info": {
   "codemirror_mode": {
    "name": "ipython",
    "version": 3
   },
   "file_extension": ".py",
   "mimetype": "text/x-python",
   "name": "python",
   "nbconvert_exporter": "python",
   "pygments_lexer": "ipython3",
   "version": "3.8.3"
  },
  "toc": {
   "base_numbering": 1,
   "nav_menu": {},
   "number_sections": true,
   "sideBar": true,
   "skip_h1_title": false,
   "title_cell": "Table of Contents",
   "title_sidebar": "Contents",
   "toc_cell": false,
   "toc_position": {},
   "toc_section_display": true,
   "toc_window_display": false
  }
 },
 "nbformat": 4,
 "nbformat_minor": 1
}
