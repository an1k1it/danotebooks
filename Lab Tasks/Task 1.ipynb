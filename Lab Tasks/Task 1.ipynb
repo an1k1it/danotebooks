{
  "nbformat": 4,
  "nbformat_minor": 0,
  "metadata": {
    "colab": {
      "name": "ANKIT19MTS5630LAB(07/09/2020)Task1.ipynb",
      "provenance": [],
      "collapsed_sections": []
    },
    "kernelspec": {
      "name": "python3",
      "display_name": "Python 3"
    }
  },
  "cells": [
    {
      "cell_type": "markdown",
      "metadata": {
        "id": "U4Ynmo63s5jX"
      },
      "source": [
        "Name - Ankit\n",
        "Roll No.-19MTS5630\n",
        "Class-BSc Mathematical Science 2nd year(3rd sem)\n",
        "Date-07 Sept 2020\n"
      ]
    },
    {
      "cell_type": "code",
      "metadata": {
        "id": "MEW9CCGPtusG"
      },
      "source": [
        "import numpy as np\n"
      ],
      "execution_count": null,
      "outputs": []
    },
    {
      "cell_type": "markdown",
      "metadata": {
        "id": "RFUllqwMtz40"
      },
      "source": [
        " Create a 2-D Array of 8 rows and 10 columns with random elements and perform the following operations on them\n",
        "\n"
      ]
    },
    {
      "cell_type": "code",
      "metadata": {
        "id": "k2PhIzd8t_Xu",
        "colab": {
          "base_uri": "https://localhost:8080/"
        },
        "outputId": "0426b14a-992a-4320-c4b4-f0cb5a92c86a"
      },
      "source": [
        "data=np.random.rand(8,10)\n",
        "data"
      ],
      "execution_count": null,
      "outputs": [
        {
          "output_type": "execute_result",
          "data": {
            "text/plain": [
              "array([[0.57941979, 0.37012872, 0.1487552 , 0.85850761, 0.45700639,\n",
              "        0.63736474, 0.01272707, 0.80074665, 0.79472084, 0.87794459],\n",
              "       [0.23382876, 0.27441256, 0.95484165, 0.14495023, 0.04501631,\n",
              "        0.17308561, 0.48651201, 0.36106834, 0.34325504, 0.15770137],\n",
              "       [0.62099816, 0.31939085, 0.71113366, 0.86315745, 0.16269482,\n",
              "        0.97056755, 0.23351128, 0.56505401, 0.28266941, 0.69254359],\n",
              "       [0.67688869, 0.94380298, 0.28985208, 0.54235758, 0.68843525,\n",
              "        0.42260737, 0.23122637, 0.12373243, 0.83557507, 0.41795576],\n",
              "       [0.86218835, 0.32817241, 0.04392135, 0.85937168, 0.79683251,\n",
              "        0.20709436, 0.35913089, 0.03726253, 0.15741166, 0.44873446],\n",
              "       [0.01567637, 0.78223999, 0.7372134 , 0.42070561, 0.83132605,\n",
              "        0.68195522, 0.78638214, 0.50257716, 0.97974516, 0.62922859],\n",
              "       [0.99189509, 0.82747082, 0.90554211, 0.14351788, 0.01500922,\n",
              "        0.4243087 , 0.5375096 , 0.45819655, 0.13186782, 0.68652328],\n",
              "       [0.88904049, 0.31599528, 0.98693474, 0.9026312 , 0.59872616,\n",
              "        0.42730779, 0.07490139, 0.84807401, 0.67028176, 0.92171246]])"
            ]
          },
          "metadata": {
            "tags": []
          },
          "execution_count": 2
        }
      ]
    },
    {
      "cell_type": "markdown",
      "metadata": {
        "id": "_FnwfWmPvQmk"
      },
      "source": [
        "(a) Check the data type, shape and dimension of the created array"
      ]
    },
    {
      "cell_type": "code",
      "metadata": {
        "id": "NYnMJkcyvDRu",
        "colab": {
          "base_uri": "https://localhost:8080/"
        },
        "outputId": "4769a1a6-4a1f-4c8d-a287-3acf1d4800a7"
      },
      "source": [
        "#the data type of the elements of the array\n",
        "data.dtype"
      ],
      "execution_count": null,
      "outputs": [
        {
          "output_type": "execute_result",
          "data": {
            "text/plain": [
              "dtype('float64')"
            ]
          },
          "metadata": {
            "tags": []
          },
          "execution_count": 3
        }
      ]
    },
    {
      "cell_type": "code",
      "metadata": {
        "id": "yuAAiUy8wnBb",
        "colab": {
          "base_uri": "https://localhost:8080/"
        },
        "outputId": "ba63f4fc-bcce-4883-c967-a7cc528757d4"
      },
      "source": [
        "#the dimension of the array\n",
        "data.shape"
      ],
      "execution_count": null,
      "outputs": [
        {
          "output_type": "execute_result",
          "data": {
            "text/plain": [
              "(8, 10)"
            ]
          },
          "metadata": {
            "tags": []
          },
          "execution_count": 4
        }
      ]
    },
    {
      "cell_type": "code",
      "metadata": {
        "id": "DqE4jUzZw_wL",
        "colab": {
          "base_uri": "https://localhost:8080/"
        },
        "outputId": "63ab3efe-283b-46ed-865d-1619c556bdf5"
      },
      "source": [
        "#the dimension of the array\n",
        "data.ndim"
      ],
      "execution_count": null,
      "outputs": [
        {
          "output_type": "execute_result",
          "data": {
            "text/plain": [
              "2"
            ]
          },
          "metadata": {
            "tags": []
          },
          "execution_count": 5
        }
      ]
    },
    {
      "cell_type": "markdown",
      "metadata": {
        "id": "zso2NiqVvV1r"
      },
      "source": [
        "(b) Perform addition & subtraction with itself\n"
      ]
    },
    {
      "cell_type": "code",
      "metadata": {
        "id": "z55HN5ULxrGN",
        "colab": {
          "base_uri": "https://localhost:8080/"
        },
        "outputId": "df924776-33e2-43b0-f8fe-7ad9cad90b85"
      },
      "source": [
        "#Addition\n",
        "data+data"
      ],
      "execution_count": null,
      "outputs": [
        {
          "output_type": "execute_result",
          "data": {
            "text/plain": [
              "array([[1.15883958, 0.74025745, 0.29751041, 1.71701521, 0.91401278,\n",
              "        1.27472948, 0.02545414, 1.6014933 , 1.58944168, 1.75588917],\n",
              "       [0.46765751, 0.54882512, 1.9096833 , 0.28990046, 0.09003263,\n",
              "        0.34617122, 0.97302403, 0.72213668, 0.68651007, 0.31540274],\n",
              "       [1.24199631, 0.6387817 , 1.42226732, 1.7263149 , 0.32538964,\n",
              "        1.94113509, 0.46702255, 1.13010803, 0.56533882, 1.38508718],\n",
              "       [1.35377739, 1.88760597, 0.57970415, 1.08471515, 1.37687051,\n",
              "        0.84521474, 0.46245275, 0.24746486, 1.67115014, 0.83591151],\n",
              "       [1.7243767 , 0.65634482, 0.08784271, 1.71874336, 1.59366502,\n",
              "        0.41418872, 0.71826178, 0.07452505, 0.31482332, 0.89746892],\n",
              "       [0.03135274, 1.56447998, 1.47442679, 0.84141123, 1.6626521 ,\n",
              "        1.36391043, 1.57276428, 1.00515432, 1.95949032, 1.25845718],\n",
              "       [1.98379019, 1.65494165, 1.81108422, 0.28703576, 0.03001844,\n",
              "        0.84861739, 1.0750192 , 0.91639311, 0.26373565, 1.37304657],\n",
              "       [1.77808097, 0.63199057, 1.97386947, 1.8052624 , 1.19745233,\n",
              "        0.85461559, 0.14980278, 1.69614803, 1.34056352, 1.84342491]])"
            ]
          },
          "metadata": {
            "tags": []
          },
          "execution_count": 6
        }
      ]
    },
    {
      "cell_type": "code",
      "metadata": {
        "id": "Vn2MpJk8yCLt",
        "colab": {
          "base_uri": "https://localhost:8080/"
        },
        "outputId": "40a82402-331a-4e3c-e77c-642f5e389a3f"
      },
      "source": [
        "#subtraction\n",
        "data-data"
      ],
      "execution_count": null,
      "outputs": [
        {
          "output_type": "execute_result",
          "data": {
            "text/plain": [
              "array([[0., 0., 0., 0., 0., 0., 0., 0., 0., 0.],\n",
              "       [0., 0., 0., 0., 0., 0., 0., 0., 0., 0.],\n",
              "       [0., 0., 0., 0., 0., 0., 0., 0., 0., 0.],\n",
              "       [0., 0., 0., 0., 0., 0., 0., 0., 0., 0.],\n",
              "       [0., 0., 0., 0., 0., 0., 0., 0., 0., 0.],\n",
              "       [0., 0., 0., 0., 0., 0., 0., 0., 0., 0.],\n",
              "       [0., 0., 0., 0., 0., 0., 0., 0., 0., 0.],\n",
              "       [0., 0., 0., 0., 0., 0., 0., 0., 0., 0.]])"
            ]
          },
          "metadata": {
            "tags": []
          },
          "execution_count": 7
        }
      ]
    },
    {
      "cell_type": "markdown",
      "metadata": {
        "id": "zV0H4EJ5vVpT"
      },
      "source": [
        "(c) Multiply all the elements by 90\n"
      ]
    },
    {
      "cell_type": "code",
      "metadata": {
        "id": "7IfkEexEyeKr",
        "colab": {
          "base_uri": "https://localhost:8080/"
        },
        "outputId": "860c2f6f-c7c2-4e4c-da32-312809cf36f9"
      },
      "source": [
        "#Multiplication by 90\n",
        "data*90"
      ],
      "execution_count": null,
      "outputs": [
        {
          "output_type": "execute_result",
          "data": {
            "text/plain": [
              "array([[52.14778122, 33.31158505, 13.3879683 , 77.26568459, 41.13057527,\n",
              "        57.36282657,  1.14543651, 72.06719859, 71.52487581, 79.01501279],\n",
              "       [21.04458803, 24.69713019, 85.93574871, 13.04552077,  4.05146829,\n",
              "        15.57770503, 43.78608126, 32.49615059, 30.89295331, 14.19312327],\n",
              "       [55.88983403, 28.74517663, 64.00202924, 77.6841704 , 14.64253377,\n",
              "        87.35107919, 21.01601486, 50.85486131, 25.44024689, 62.3289229 ],\n",
              "       [60.9199825 , 84.94226857, 26.08668696, 48.81218178, 61.95917283,\n",
              "        38.03466339, 20.81037356, 11.13591851, 75.20175617, 37.61601814],\n",
              "       [77.59695137, 29.5355168 ,  3.95292187, 77.34345129, 71.71492612,\n",
              "        18.63849227, 32.32178018,  3.35362726, 14.16704937, 40.38610132],\n",
              "       [ 1.41087326, 70.4015993 , 66.34920559, 37.86350533, 74.81934433,\n",
              "        61.37596957, 70.77439238, 45.23194455, 88.17706448, 56.63057311],\n",
              "       [89.27055852, 74.47237411, 81.49878971, 12.91660937,  1.35082965,\n",
              "        38.18778256, 48.37586384, 41.23768991, 11.86810407, 61.78709561],\n",
              "       [80.01364384, 28.43957552, 88.82412618, 81.23680779, 53.88535472,\n",
              "        38.4577015 ,  6.741125  , 76.32666127, 60.32535828, 82.95412096]])"
            ]
          },
          "metadata": {
            "tags": []
          },
          "execution_count": 8
        }
      ]
    },
    {
      "cell_type": "markdown",
      "metadata": {
        "id": "wJrvna6pvaVj"
      },
      "source": [
        "(d) Divide all the elements by 0.05\n"
      ]
    },
    {
      "cell_type": "code",
      "metadata": {
        "id": "tKWaXiszykW7",
        "colab": {
          "base_uri": "https://localhost:8080/"
        },
        "outputId": "02d2e874-f04c-4824-96ce-28569c95ede1"
      },
      "source": [
        "#divsion by 0.05\n",
        "data/0.05"
      ],
      "execution_count": null,
      "outputs": [
        {
          "output_type": "execute_result",
          "data": {
            "text/plain": [
              "array([[11.58839583,  7.40257446,  2.97510407, 17.17015213,  9.14012784,\n",
              "        12.74729479,  0.25454145, 16.01493302, 15.89441685, 17.55889173],\n",
              "       [ 4.67657512,  5.48825115, 19.09683305,  2.89900462,  0.90032629,\n",
              "         3.46171223,  9.73024028,  7.2213668 ,  6.86510074,  3.15402739],\n",
              "       [12.41996312,  6.38781703, 14.22267316, 17.26314898,  3.25389639,\n",
              "        19.41135093,  4.67022552, 11.30108029,  5.6533882 , 13.85087176],\n",
              "       [13.53777389, 18.87605968,  5.79704155, 10.84715151, 13.76870507,\n",
              "         8.45214742,  4.62452746,  2.47464856, 16.71150137,  8.35911514],\n",
              "       [17.24376697,  6.56344818,  0.87842708, 17.18743362, 15.93665025,\n",
              "         4.14188717,  7.18261782,  0.7452505 ,  3.14823319,  8.97468918],\n",
              "       [ 0.31352739, 15.64479984, 14.74426791,  8.41411229, 16.62652096,\n",
              "        13.63910435, 15.72764275, 10.05154323, 19.59490322, 12.5845718 ],\n",
              "       [19.83790189, 16.54941647, 18.11084216,  2.87035764,  0.30018437,\n",
              "         8.4861739 , 10.75019196,  9.16393109,  2.63735646, 13.73046569],\n",
              "       [17.78080974,  6.31990567, 19.73869471, 18.05262395, 11.97452327,\n",
              "         8.54615589,  1.49802778, 16.96148028, 13.40563517, 18.4342491 ]])"
            ]
          },
          "metadata": {
            "tags": []
          },
          "execution_count": 9
        }
      ]
    },
    {
      "cell_type": "markdown",
      "metadata": {
        "id": "nZew2kpJvcDL"
      },
      "source": [
        "(e) Transpose the array"
      ]
    },
    {
      "cell_type": "code",
      "metadata": {
        "id": "gcGE-SQazH2r",
        "colab": {
          "base_uri": "https://localhost:8080/"
        },
        "outputId": "3a51d644-aff7-45ef-bf5a-100d47dbfb92"
      },
      "source": [
        "#Transpose of the matrix\n",
        "data.T"
      ],
      "execution_count": null,
      "outputs": [
        {
          "output_type": "execute_result",
          "data": {
            "text/plain": [
              "array([[0.57941979, 0.23382876, 0.62099816, 0.67688869, 0.86218835,\n",
              "        0.01567637, 0.99189509, 0.88904049],\n",
              "       [0.37012872, 0.27441256, 0.31939085, 0.94380298, 0.32817241,\n",
              "        0.78223999, 0.82747082, 0.31599528],\n",
              "       [0.1487552 , 0.95484165, 0.71113366, 0.28985208, 0.04392135,\n",
              "        0.7372134 , 0.90554211, 0.98693474],\n",
              "       [0.85850761, 0.14495023, 0.86315745, 0.54235758, 0.85937168,\n",
              "        0.42070561, 0.14351788, 0.9026312 ],\n",
              "       [0.45700639, 0.04501631, 0.16269482, 0.68843525, 0.79683251,\n",
              "        0.83132605, 0.01500922, 0.59872616],\n",
              "       [0.63736474, 0.17308561, 0.97056755, 0.42260737, 0.20709436,\n",
              "        0.68195522, 0.4243087 , 0.42730779],\n",
              "       [0.01272707, 0.48651201, 0.23351128, 0.23122637, 0.35913089,\n",
              "        0.78638214, 0.5375096 , 0.07490139],\n",
              "       [0.80074665, 0.36106834, 0.56505401, 0.12373243, 0.03726253,\n",
              "        0.50257716, 0.45819655, 0.84807401],\n",
              "       [0.79472084, 0.34325504, 0.28266941, 0.83557507, 0.15741166,\n",
              "        0.97974516, 0.13186782, 0.67028176],\n",
              "       [0.87794459, 0.15770137, 0.69254359, 0.41795576, 0.44873446,\n",
              "        0.62922859, 0.68652328, 0.92171246]])"
            ]
          },
          "metadata": {
            "tags": []
          },
          "execution_count": 10
        }
      ]
    },
    {
      "cell_type": "markdown",
      "metadata": {
        "id": "6t6tTXbJ0Kby"
      },
      "source": [
        "Create two lists of 10 elements each with values ranging from 1-20 in any order of your choice. Then convert those lists into a two-dimensional array of 2 rows and 10 columns. Check the data type, shape and dimension of the created array."
      ]
    },
    {
      "cell_type": "code",
      "metadata": {
        "id": "Opooyk5v1d6O"
      },
      "source": [
        "data=[[1,2,3,4,5,6,7,8,9,10],[11,12,13,14,15,16,17,18,19,20]]\n",
        "arr2d=np.array(data)"
      ],
      "execution_count": null,
      "outputs": []
    },
    {
      "cell_type": "code",
      "metadata": {
        "id": "1c6ygI_T25tT",
        "colab": {
          "base_uri": "https://localhost:8080/"
        },
        "outputId": "830368f9-da30-44a3-e8ae-d5bb58540c7e"
      },
      "source": [
        "arr2d"
      ],
      "execution_count": null,
      "outputs": [
        {
          "output_type": "execute_result",
          "data": {
            "text/plain": [
              "array([[ 1,  2,  3,  4,  5,  6,  7,  8,  9, 10],\n",
              "       [11, 12, 13, 14, 15, 16, 17, 18, 19, 20]])"
            ]
          },
          "metadata": {
            "tags": []
          },
          "execution_count": 12
        }
      ]
    },
    {
      "cell_type": "code",
      "metadata": {
        "id": "y_Tu3Yc93N4g",
        "colab": {
          "base_uri": "https://localhost:8080/"
        },
        "outputId": "dbac2960-8ec4-47e1-d101-c1669e09665d"
      },
      "source": [
        "#the data type of the elements of the array\n",
        "arr2d.dtype"
      ],
      "execution_count": null,
      "outputs": [
        {
          "output_type": "execute_result",
          "data": {
            "text/plain": [
              "dtype('int64')"
            ]
          },
          "metadata": {
            "tags": []
          },
          "execution_count": 13
        }
      ]
    },
    {
      "cell_type": "code",
      "metadata": {
        "id": "p-2Dk1w_3INM",
        "colab": {
          "base_uri": "https://localhost:8080/"
        },
        "outputId": "142f3020-4140-48ce-8919-80c9dee0b736"
      },
      "source": [
        "#the dimension of the array\n",
        "arr2d.shape"
      ],
      "execution_count": null,
      "outputs": [
        {
          "output_type": "execute_result",
          "data": {
            "text/plain": [
              "(2, 10)"
            ]
          },
          "metadata": {
            "tags": []
          },
          "execution_count": 14
        }
      ]
    },
    {
      "cell_type": "code",
      "metadata": {
        "id": "jrjA2Gjf3CWQ",
        "colab": {
          "base_uri": "https://localhost:8080/"
        },
        "outputId": "faba0da8-b377-4e94-c13d-2b857c631dc6"
      },
      "source": [
        "#the dimension of the array\n",
        "arr2d.ndim"
      ],
      "execution_count": null,
      "outputs": [
        {
          "output_type": "execute_result",
          "data": {
            "text/plain": [
              "2"
            ]
          },
          "metadata": {
            "tags": []
          },
          "execution_count": 15
        }
      ]
    },
    {
      "cell_type": "markdown",
      "metadata": {
        "id": "wwr6quIO3aZt"
      },
      "source": [
        "Create two 2-D arrays with initial values of zeros and ones having 4 rows and 5 columns each. Check the data type, shape and dimension of the created array. Also, compare the elements of the two array and print the largest of the two."
      ]
    },
    {
      "cell_type": "code",
      "metadata": {
        "id": "uhw6e12R3G8l",
        "colab": {
          "base_uri": "https://localhost:8080/"
        },
        "outputId": "dabee025-632d-4c1a-e853-1d3d55988f9c"
      },
      "source": [
        "#array of zero\n",
        "arr1=np.zeros((4,5))\n",
        "arr1"
      ],
      "execution_count": null,
      "outputs": [
        {
          "output_type": "execute_result",
          "data": {
            "text/plain": [
              "array([[0., 0., 0., 0., 0.],\n",
              "       [0., 0., 0., 0., 0.],\n",
              "       [0., 0., 0., 0., 0.],\n",
              "       [0., 0., 0., 0., 0.]])"
            ]
          },
          "metadata": {
            "tags": []
          },
          "execution_count": 16
        }
      ]
    },
    {
      "cell_type": "code",
      "metadata": {
        "id": "HMvrjGgC6LLU",
        "colab": {
          "base_uri": "https://localhost:8080/"
        },
        "outputId": "8e1bc8e0-b984-4cc2-a93a-9b9a22f4923b"
      },
      "source": [
        "#array of ones\n",
        "arr2=np.ones((4,5))\n",
        "arr2"
      ],
      "execution_count": null,
      "outputs": [
        {
          "output_type": "execute_result",
          "data": {
            "text/plain": [
              "array([[1., 1., 1., 1., 1.],\n",
              "       [1., 1., 1., 1., 1.],\n",
              "       [1., 1., 1., 1., 1.],\n",
              "       [1., 1., 1., 1., 1.]])"
            ]
          },
          "metadata": {
            "tags": []
          },
          "execution_count": 17
        }
      ]
    },
    {
      "cell_type": "code",
      "metadata": {
        "id": "wsYnectv6cnm",
        "colab": {
          "base_uri": "https://localhost:8080/"
        },
        "outputId": "42aec2c1-3c95-4070-ec50-d750316872db"
      },
      "source": [
        "#the data type of the elements of the array with zeros\n",
        "arr1.dtype"
      ],
      "execution_count": null,
      "outputs": [
        {
          "output_type": "execute_result",
          "data": {
            "text/plain": [
              "dtype('float64')"
            ]
          },
          "metadata": {
            "tags": []
          },
          "execution_count": 18
        }
      ]
    },
    {
      "cell_type": "code",
      "metadata": {
        "id": "uGi7HfXV7dai",
        "colab": {
          "base_uri": "https://localhost:8080/"
        },
        "outputId": "8c9fc86f-3ca8-4d1a-edca-6c9f808ccb2d"
      },
      "source": [
        "#the data type of the elements of the array with ones\n",
        "arr1.dtype"
      ],
      "execution_count": null,
      "outputs": [
        {
          "output_type": "execute_result",
          "data": {
            "text/plain": [
              "dtype('float64')"
            ]
          },
          "metadata": {
            "tags": []
          },
          "execution_count": 19
        }
      ]
    },
    {
      "cell_type": "code",
      "metadata": {
        "id": "FSEe7HgL7mr7",
        "colab": {
          "base_uri": "https://localhost:8080/"
        },
        "outputId": "6c1fc3b5-d762-42a2-8593-f56c55863d0c"
      },
      "source": [
        "#the dimension of the array of ones\n",
        "arr1.shape"
      ],
      "execution_count": null,
      "outputs": [
        {
          "output_type": "execute_result",
          "data": {
            "text/plain": [
              "(4, 5)"
            ]
          },
          "metadata": {
            "tags": []
          },
          "execution_count": 20
        }
      ]
    },
    {
      "cell_type": "code",
      "metadata": {
        "id": "hy03oBP47rEb",
        "colab": {
          "base_uri": "https://localhost:8080/"
        },
        "outputId": "2798bff8-700a-4e38-9036-4cdafbb26b16"
      },
      "source": [
        "#the dimension of the array of zeroes\n",
        "arr2.shape"
      ],
      "execution_count": null,
      "outputs": [
        {
          "output_type": "execute_result",
          "data": {
            "text/plain": [
              "(4, 5)"
            ]
          },
          "metadata": {
            "tags": []
          },
          "execution_count": 21
        }
      ]
    },
    {
      "cell_type": "code",
      "metadata": {
        "id": "PQldZ2eu7uky",
        "colab": {
          "base_uri": "https://localhost:8080/"
        },
        "outputId": "35868742-44c9-4f7b-d456-f40241f03333"
      },
      "source": [
        "#the dimension of the array of zeroes\n",
        "arr1.ndim"
      ],
      "execution_count": null,
      "outputs": [
        {
          "output_type": "execute_result",
          "data": {
            "text/plain": [
              "2"
            ]
          },
          "metadata": {
            "tags": []
          },
          "execution_count": 22
        }
      ]
    },
    {
      "cell_type": "code",
      "metadata": {
        "id": "VNHE81kR7t3l",
        "colab": {
          "base_uri": "https://localhost:8080/"
        },
        "outputId": "9faddbcb-a79f-44ab-c6dd-c1601ef0e280"
      },
      "source": [
        "#the dimension of the array of ones\n",
        "arr2.ndim"
      ],
      "execution_count": null,
      "outputs": [
        {
          "output_type": "execute_result",
          "data": {
            "text/plain": [
              "2"
            ]
          },
          "metadata": {
            "tags": []
          },
          "execution_count": 23
        }
      ]
    },
    {
      "cell_type": "code",
      "metadata": {
        "id": "j9ECBS2F7244",
        "colab": {
          "base_uri": "https://localhost:8080/"
        },
        "outputId": "749df042-ab90-4d98-8c37-d7488dc0ddc9"
      },
      "source": [
        "np.maximum(arr1,arr2)"
      ],
      "execution_count": null,
      "outputs": [
        {
          "output_type": "execute_result",
          "data": {
            "text/plain": [
              "array([[1., 1., 1., 1., 1.],\n",
              "       [1., 1., 1., 1., 1.],\n",
              "       [1., 1., 1., 1., 1.],\n",
              "       [1., 1., 1., 1., 1.]])"
            ]
          },
          "metadata": {
            "tags": []
          },
          "execution_count": 24
        }
      ]
    },
    {
      "cell_type": "markdown",
      "metadata": {
        "id": "-0-AWQJC8G71"
      },
      "source": [
        "Create a 3-D array using empty function. Check the data type, shape and dimension of the created array. Also, convert the data type of the created array to int type."
      ]
    },
    {
      "cell_type": "code",
      "metadata": {
        "id": "t_aVZrhg77zj",
        "colab": {
          "base_uri": "https://localhost:8080/"
        },
        "outputId": "c8bbc7eb-ffb3-44a6-fcd5-90009c878342"
      },
      "source": [
        "#creating a 3D array with empty function which may return array of zeros or garbage values\n",
        "\n",
        "#creating 1 array of dimensions 3 rows and 2 cols\n",
        "\n",
        "arr3d=np.empty((1,3,2))\n",
        "arr3d"
      ],
      "execution_count": null,
      "outputs": [
        {
          "output_type": "execute_result",
          "data": {
            "text/plain": [
              "array([[[2.24981685e-316, 0.00000000e+000],\n",
              "        [0.00000000e+000, 0.00000000e+000],\n",
              "        [0.00000000e+000, 0.00000000e+000]]])"
            ]
          },
          "metadata": {
            "tags": []
          },
          "execution_count": 25
        }
      ]
    },
    {
      "cell_type": "code",
      "metadata": {
        "id": "C9W9O2eg8dVx",
        "colab": {
          "base_uri": "https://localhost:8080/"
        },
        "outputId": "34a1697f-14d3-436c-8c16-5e94c52f381a"
      },
      "source": [
        "#the data type of 3d array\n",
        "arr3d.dtype"
      ],
      "execution_count": null,
      "outputs": [
        {
          "output_type": "execute_result",
          "data": {
            "text/plain": [
              "dtype('float64')"
            ]
          },
          "metadata": {
            "tags": []
          },
          "execution_count": 26
        }
      ]
    },
    {
      "cell_type": "code",
      "metadata": {
        "id": "nGP2O4c1_T7C",
        "colab": {
          "base_uri": "https://localhost:8080/"
        },
        "outputId": "d1768c4f-86be-4efd-d3ee-fc3fbb36a241"
      },
      "source": [
        "#shape of the array\n",
        "arr3d.shape"
      ],
      "execution_count": null,
      "outputs": [
        {
          "output_type": "execute_result",
          "data": {
            "text/plain": [
              "(1, 3, 2)"
            ]
          },
          "metadata": {
            "tags": []
          },
          "execution_count": 27
        }
      ]
    },
    {
      "cell_type": "code",
      "metadata": {
        "id": "ARyBjTjG_Zfh",
        "colab": {
          "base_uri": "https://localhost:8080/"
        },
        "outputId": "350827a7-3f18-499d-8070-828e61f28ce5"
      },
      "source": [
        "#dimensions of array\n",
        "arr3d.ndim"
      ],
      "execution_count": null,
      "outputs": [
        {
          "output_type": "execute_result",
          "data": {
            "text/plain": [
              "3"
            ]
          },
          "metadata": {
            "tags": []
          },
          "execution_count": 28
        }
      ]
    },
    {
      "cell_type": "code",
      "metadata": {
        "id": "Iy3TctG0-DhE",
        "colab": {
          "base_uri": "https://localhost:8080/"
        },
        "outputId": "da65c53a-8f57-488c-a45a-12e5d0e78775"
      },
      "source": [
        "#converting data type\n",
        "arr3d.astype(np.int64)"
      ],
      "execution_count": null,
      "outputs": [
        {
          "output_type": "execute_result",
          "data": {
            "text/plain": [
              "array([[[0, 0],\n",
              "        [0, 0],\n",
              "        [0, 0]]])"
            ]
          },
          "metadata": {
            "tags": []
          },
          "execution_count": 29
        }
      ]
    },
    {
      "cell_type": "markdown",
      "metadata": {
        "id": "IB6k5wkY_31H"
      },
      "source": [
        "Create two random 3-D arrays of size 2 subarrays with 6 rows and 3 columns each and perform the following operations in an element-wise manner.\n"
      ]
    },
    {
      "cell_type": "code",
      "metadata": {
        "id": "H3ja_aIZA7cW",
        "colab": {
          "base_uri": "https://localhost:8080/"
        },
        "outputId": "7af8e92b-96dd-4c4c-ad44-e73dfbbba7eb"
      },
      "source": [
        "#creating array 1\n",
        "arr3d1=np.random.rand(2,6,3)\n",
        "arr3d1"
      ],
      "execution_count": null,
      "outputs": [
        {
          "output_type": "execute_result",
          "data": {
            "text/plain": [
              "array([[[0.67049336, 0.59970521, 0.97087888],\n",
              "        [0.98802727, 0.73310091, 0.89281776],\n",
              "        [0.32970615, 0.82838812, 0.01875295],\n",
              "        [0.40350783, 0.62271279, 0.57369011],\n",
              "        [0.96962459, 0.11539884, 0.7934008 ],\n",
              "        [0.89661437, 0.16692987, 0.58013688]],\n",
              "\n",
              "       [[0.56811788, 0.51450734, 0.00108416],\n",
              "        [0.23674659, 0.54795071, 0.74955452],\n",
              "        [0.02496836, 0.92650808, 0.82008813],\n",
              "        [0.54354569, 0.86348714, 0.50898633],\n",
              "        [0.04586834, 0.61915524, 0.70522857],\n",
              "        [0.31896968, 0.61258477, 0.69087382]]])"
            ]
          },
          "metadata": {
            "tags": []
          },
          "execution_count": 30
        }
      ]
    },
    {
      "cell_type": "code",
      "metadata": {
        "id": "NqRySTVRBNH6",
        "colab": {
          "base_uri": "https://localhost:8080/"
        },
        "outputId": "e457899d-3c8c-4db4-91a4-beb67795c36a"
      },
      "source": [
        "#creating array 2\n",
        "arr3d2=np.random.rand(2,6,3)\n",
        "arr3d2"
      ],
      "execution_count": null,
      "outputs": [
        {
          "output_type": "execute_result",
          "data": {
            "text/plain": [
              "array([[[0.62894624, 0.307025  , 0.50070447],\n",
              "        [0.30277279, 0.09448825, 0.4766142 ],\n",
              "        [0.89180883, 0.30987425, 0.87991412],\n",
              "        [0.00685676, 0.80716561, 0.03853264],\n",
              "        [0.79738177, 0.32571922, 0.96037962],\n",
              "        [0.21487421, 0.97372532, 0.82315154]],\n",
              "\n",
              "       [[0.93100644, 0.43138625, 0.04838365],\n",
              "        [0.05963712, 0.50938327, 0.75609065],\n",
              "        [0.69164004, 0.26787605, 0.13567616],\n",
              "        [0.84328061, 0.95194651, 0.49185536],\n",
              "        [0.61967498, 0.06641435, 0.35421268],\n",
              "        [0.04831939, 0.5898659 , 0.19521269]]])"
            ]
          },
          "metadata": {
            "tags": []
          },
          "execution_count": 31
        }
      ]
    },
    {
      "cell_type": "markdown",
      "metadata": {
        "id": "LgjpbQxa_5xm"
      },
      "source": [
        "(a) Addition of the two arrays\n"
      ]
    },
    {
      "cell_type": "code",
      "metadata": {
        "id": "D7T0FVUtChuS",
        "colab": {
          "base_uri": "https://localhost:8080/"
        },
        "outputId": "a32c3390-3af3-4d87-cad0-6fc9ab2db1a4"
      },
      "source": [
        "np.add(arr3d1,arr3d2)"
      ],
      "execution_count": null,
      "outputs": [
        {
          "output_type": "execute_result",
          "data": {
            "text/plain": [
              "array([[[1.2994396 , 0.90673021, 1.47158335],\n",
              "        [1.29080007, 0.82758916, 1.36943196],\n",
              "        [1.22151498, 1.13826238, 0.89866707],\n",
              "        [0.41036459, 1.4298784 , 0.61222275],\n",
              "        [1.76700636, 0.44111806, 1.75378042],\n",
              "        [1.11148857, 1.1406552 , 1.40328842]],\n",
              "\n",
              "       [[1.49912432, 0.94589358, 0.0494678 ],\n",
              "        [0.29638371, 1.05733398, 1.50564517],\n",
              "        [0.7166084 , 1.19438413, 0.9557643 ],\n",
              "        [1.3868263 , 1.81543365, 1.00084168],\n",
              "        [0.66554332, 0.68556959, 1.05944125],\n",
              "        [0.36728907, 1.20245067, 0.88608651]]])"
            ]
          },
          "metadata": {
            "tags": []
          },
          "execution_count": 32
        }
      ]
    },
    {
      "cell_type": "markdown",
      "metadata": {
        "id": "xFQQn8QE_7iE"
      },
      "source": [
        "(b) Multiplication of the two arrays\n"
      ]
    },
    {
      "cell_type": "code",
      "metadata": {
        "id": "TqG4PHVcCp2g",
        "colab": {
          "base_uri": "https://localhost:8080/"
        },
        "outputId": "7217cbba-c229-4a11-c748-39bb21cf9b4f"
      },
      "source": [
        "np.multiply(arr3d1, arr3d2)"
      ],
      "execution_count": null,
      "outputs": [
        {
          "output_type": "execute_result",
          "data": {
            "text/plain": [
              "array([[[4.21704281e-01, 1.84124491e-01, 4.86123394e-01],\n",
              "        [2.99147779e-01, 6.92694203e-02, 4.25529618e-01],\n",
              "        [2.94034858e-01, 2.56696151e-01, 1.65009863e-02],\n",
              "        [2.76675780e-03, 5.02632351e-01, 2.21057951e-02],\n",
              "        [7.73160970e-01, 3.75876216e-02, 7.61965960e-01],\n",
              "        [1.92659302e-01, 1.62543844e-01, 4.77540564e-01]],\n",
              "\n",
              "       [[5.28921403e-01, 2.21951388e-01, 5.24555211e-05],\n",
              "        [1.41188859e-02, 2.79116925e-01, 5.66731165e-01],\n",
              "        [1.72691148e-02, 2.48189323e-01, 1.11266413e-01],\n",
              "        [4.58361543e-01, 8.21993565e-01, 2.50347651e-01],\n",
              "        [2.84234632e-02, 4.11207928e-02, 2.49800903e-01],\n",
              "        [1.54124212e-02, 3.61342866e-01, 1.34867340e-01]]])"
            ]
          },
          "metadata": {
            "tags": []
          },
          "execution_count": 33
        }
      ]
    },
    {
      "cell_type": "markdown",
      "metadata": {
        "id": "EfR98Zts_7XK"
      },
      "source": [
        "\n",
        "(c) Division of the two arrays\n"
      ]
    },
    {
      "cell_type": "code",
      "metadata": {
        "id": "afa_92DACuWv",
        "colab": {
          "base_uri": "https://localhost:8080/"
        },
        "outputId": "afe6cd8e-ab0d-408f-bf59-66d8d9759313"
      },
      "source": [
        "np.divide(arr3d1, arr3d2)"
      ],
      "execution_count": null,
      "outputs": [
        {
          "output_type": "execute_result",
          "data": {
            "text/plain": [
              "array([[[1.06605830e+00, 1.95327810e+00, 1.93902580e+00],\n",
              "        [3.26326305e+00, 7.75864656e+00, 1.87325046e+00],\n",
              "        [3.69704963e-01, 2.67330412e+00, 2.13122515e-02],\n",
              "        [5.88481462e+01, 7.71480818e-01, 1.48884190e+01],\n",
              "        [1.21601049e+00, 3.54289334e-01, 8.26132484e-01],\n",
              "        [4.17274077e+00, 1.71434252e-01, 7.04775312e-01]],\n",
              "\n",
              "       [[6.10219064e-01, 1.19268368e+00, 2.24075317e-02],\n",
              "        [3.96978543e+00, 1.07571398e+00, 9.91355362e-01],\n",
              "        [3.61002174e-02, 3.45871936e+00, 6.04445249e+00],\n",
              "        [6.44560874e-01, 9.07075276e-01, 1.03482929e+00],\n",
              "        [7.40199984e-02, 9.32261246e+00, 1.99097494e+00],\n",
              "        [6.60127662e+00, 1.03851531e+00, 3.53908243e+00]]])"
            ]
          },
          "metadata": {
            "tags": []
          },
          "execution_count": 34
        }
      ]
    },
    {
      "cell_type": "markdown",
      "metadata": {
        "id": "rVoHtHWiAN4L"
      },
      "source": [
        "(d) Subtraction of the two arrays\n"
      ]
    },
    {
      "cell_type": "code",
      "metadata": {
        "id": "aKAfxA0sDHgK",
        "colab": {
          "base_uri": "https://localhost:8080/"
        },
        "outputId": "b79d65e4-abe4-46f4-b470-7de219b9a122"
      },
      "source": [
        "np.subtract(arr3d1,arr3d2)"
      ],
      "execution_count": null,
      "outputs": [
        {
          "output_type": "execute_result",
          "data": {
            "text/plain": [
              "array([[[ 0.04154712,  0.29268021,  0.47017441],\n",
              "        [ 0.68525448,  0.63861267,  0.41620357],\n",
              "        [-0.56210268,  0.51851387, -0.86116117],\n",
              "        [ 0.39665106, -0.18445283,  0.53515747],\n",
              "        [ 0.17224283, -0.21032037, -0.16697882],\n",
              "        [ 0.68174016, -0.80679545, -0.24301466]],\n",
              "\n",
              "       [[-0.36288856,  0.08312109, -0.04729949],\n",
              "        [ 0.17710946,  0.03856743, -0.00653613],\n",
              "        [-0.66667169,  0.65863203,  0.68441197],\n",
              "        [-0.29973492, -0.08845937,  0.01713097],\n",
              "        [-0.57380664,  0.55274089,  0.35101589],\n",
              "        [ 0.27065029,  0.02271887,  0.49566112]]])"
            ]
          },
          "metadata": {
            "tags": []
          },
          "execution_count": 35
        }
      ]
    },
    {
      "cell_type": "markdown",
      "metadata": {
        "id": "zScKaLpIAP9O"
      },
      "source": [
        "(e) Raise to power with first array as base and second as power\n"
      ]
    },
    {
      "cell_type": "code",
      "metadata": {
        "id": "X2qMpDa2DNiR",
        "colab": {
          "base_uri": "https://localhost:8080/"
        },
        "outputId": "a4c13595-c75e-4640-b18b-d87559032a52"
      },
      "source": [
        "np.power(arr3d1, arr3d2)"
      ],
      "execution_count": null,
      "outputs": [
        {
          "output_type": "execute_result",
          "data": {
            "text/plain": [
              "array([[[0.77769886, 0.85471507, 0.98531135],\n",
              "        [0.99635975, 0.97109017, 0.94739887],\n",
              "        [0.37175896, 0.94332812, 0.0302308 ],\n",
              "        [0.9937964 , 0.68226984, 0.97881632],\n",
              "        [0.97570375, 0.49492683, 0.80070912],\n",
              "        [0.9768237 , 0.17496925, 0.6387777 ]],\n",
              "\n",
              "       [[0.59071857, 0.7507551 , 0.71869888],\n",
              "        [0.91766482, 0.73607029, 0.80415523],\n",
              "        [0.07790597, 0.97975998, 0.97344838],\n",
              "        [0.59803926, 0.86959894, 0.71736772],\n",
              "        [0.14810616, 0.96866254, 0.88364236],\n",
              "        [0.94628395, 0.7489565 , 0.93035478]]])"
            ]
          },
          "metadata": {
            "tags": []
          },
          "execution_count": 36
        }
      ]
    },
    {
      "cell_type": "markdown",
      "metadata": {
        "id": "b5qNijD_AhNN"
      },
      "source": [
        "(f) Comparing the two arrays - Less than, Less than equal to, equal to, Greater than, Greater than equal to\n"
      ]
    },
    {
      "cell_type": "code",
      "metadata": {
        "id": "cASF-mMwEikC",
        "colab": {
          "base_uri": "https://localhost:8080/"
        },
        "outputId": "d08475de-b75d-4bf0-c340-aa59b13efaed"
      },
      "source": [
        "#less\n",
        "np.less(arr3d1, arr3d2)"
      ],
      "execution_count": null,
      "outputs": [
        {
          "output_type": "execute_result",
          "data": {
            "text/plain": [
              "array([[[False, False, False],\n",
              "        [False, False, False],\n",
              "        [ True, False,  True],\n",
              "        [False,  True, False],\n",
              "        [False,  True,  True],\n",
              "        [False,  True,  True]],\n",
              "\n",
              "       [[ True, False,  True],\n",
              "        [False, False,  True],\n",
              "        [ True, False, False],\n",
              "        [ True,  True, False],\n",
              "        [ True, False, False],\n",
              "        [False, False, False]]])"
            ]
          },
          "metadata": {
            "tags": []
          },
          "execution_count": 37
        }
      ]
    },
    {
      "cell_type": "code",
      "metadata": {
        "id": "p8UIxHM_EjKe",
        "colab": {
          "base_uri": "https://localhost:8080/"
        },
        "outputId": "616e57dd-c69e-4d86-de96-1a19fdf61c0b"
      },
      "source": [
        "#less or equal\n",
        "np.less_equal(arr3d1, arr3d2)"
      ],
      "execution_count": null,
      "outputs": [
        {
          "output_type": "execute_result",
          "data": {
            "text/plain": [
              "array([[[False, False, False],\n",
              "        [False, False, False],\n",
              "        [ True, False,  True],\n",
              "        [False,  True, False],\n",
              "        [False,  True,  True],\n",
              "        [False,  True,  True]],\n",
              "\n",
              "       [[ True, False,  True],\n",
              "        [False, False,  True],\n",
              "        [ True, False, False],\n",
              "        [ True,  True, False],\n",
              "        [ True, False, False],\n",
              "        [False, False, False]]])"
            ]
          },
          "metadata": {
            "tags": []
          },
          "execution_count": 38
        }
      ]
    },
    {
      "cell_type": "code",
      "metadata": {
        "id": "gzxZeRFwEi1A",
        "colab": {
          "base_uri": "https://localhost:8080/"
        },
        "outputId": "e1277ae6-c2df-4e27-f94d-c0697bbb04a6"
      },
      "source": [
        "#greater\n",
        "np.greater(arr3d1, arr3d2)"
      ],
      "execution_count": null,
      "outputs": [
        {
          "output_type": "execute_result",
          "data": {
            "text/plain": [
              "array([[[ True,  True,  True],\n",
              "        [ True,  True,  True],\n",
              "        [False,  True, False],\n",
              "        [ True, False,  True],\n",
              "        [ True, False, False],\n",
              "        [ True, False, False]],\n",
              "\n",
              "       [[False,  True, False],\n",
              "        [ True,  True, False],\n",
              "        [False,  True,  True],\n",
              "        [False, False,  True],\n",
              "        [False,  True,  True],\n",
              "        [ True,  True,  True]]])"
            ]
          },
          "metadata": {
            "tags": []
          },
          "execution_count": 39
        }
      ]
    },
    {
      "cell_type": "code",
      "metadata": {
        "id": "KnDDodAIEiYH",
        "colab": {
          "base_uri": "https://localhost:8080/"
        },
        "outputId": "ebd6c9cc-0a13-465d-9a98-42244b11d2b7"
      },
      "source": [
        "#greater or equal\n",
        "np.greater_equal(arr3d1, arr3d2)"
      ],
      "execution_count": null,
      "outputs": [
        {
          "output_type": "execute_result",
          "data": {
            "text/plain": [
              "array([[[ True,  True,  True],\n",
              "        [ True,  True,  True],\n",
              "        [False,  True, False],\n",
              "        [ True, False,  True],\n",
              "        [ True, False, False],\n",
              "        [ True, False, False]],\n",
              "\n",
              "       [[False,  True, False],\n",
              "        [ True,  True, False],\n",
              "        [False,  True,  True],\n",
              "        [False, False,  True],\n",
              "        [False,  True,  True],\n",
              "        [ True,  True,  True]]])"
            ]
          },
          "metadata": {
            "tags": []
          },
          "execution_count": 40
        }
      ]
    },
    {
      "cell_type": "markdown",
      "metadata": {
        "id": "vA-A6EYQAhvZ"
      },
      "source": [
        "(g) Transpose of each array and then compare the two arrays as shown in part (f)\n"
      ]
    },
    {
      "cell_type": "code",
      "metadata": {
        "id": "-NIsFUVMFBIP",
        "colab": {
          "base_uri": "https://localhost:8080/"
        },
        "outputId": "1159a2c7-b79c-4b0d-8f38-a1fab01bddd5"
      },
      "source": [
        "#Finding the Transpose of the array 1\n",
        "arrt1=arr3d1.T\n",
        "arrt1"
      ],
      "execution_count": null,
      "outputs": [
        {
          "output_type": "execute_result",
          "data": {
            "text/plain": [
              "array([[[0.67049336, 0.56811788],\n",
              "        [0.98802727, 0.23674659],\n",
              "        [0.32970615, 0.02496836],\n",
              "        [0.40350783, 0.54354569],\n",
              "        [0.96962459, 0.04586834],\n",
              "        [0.89661437, 0.31896968]],\n",
              "\n",
              "       [[0.59970521, 0.51450734],\n",
              "        [0.73310091, 0.54795071],\n",
              "        [0.82838812, 0.92650808],\n",
              "        [0.62271279, 0.86348714],\n",
              "        [0.11539884, 0.61915524],\n",
              "        [0.16692987, 0.61258477]],\n",
              "\n",
              "       [[0.97087888, 0.00108416],\n",
              "        [0.89281776, 0.74955452],\n",
              "        [0.01875295, 0.82008813],\n",
              "        [0.57369011, 0.50898633],\n",
              "        [0.7934008 , 0.70522857],\n",
              "        [0.58013688, 0.69087382]]])"
            ]
          },
          "metadata": {
            "tags": []
          },
          "execution_count": 41
        }
      ]
    },
    {
      "cell_type": "code",
      "metadata": {
        "id": "maHW6lECFRHB",
        "colab": {
          "base_uri": "https://localhost:8080/"
        },
        "outputId": "2394b8df-3138-4b00-e65b-b752d5f31dd7"
      },
      "source": [
        "#Finding the Transpose of the array 2\n",
        "arrt2=arr3d2.T\n",
        "arrt2"
      ],
      "execution_count": null,
      "outputs": [
        {
          "output_type": "execute_result",
          "data": {
            "text/plain": [
              "array([[[0.62894624, 0.93100644],\n",
              "        [0.30277279, 0.05963712],\n",
              "        [0.89180883, 0.69164004],\n",
              "        [0.00685676, 0.84328061],\n",
              "        [0.79738177, 0.61967498],\n",
              "        [0.21487421, 0.04831939]],\n",
              "\n",
              "       [[0.307025  , 0.43138625],\n",
              "        [0.09448825, 0.50938327],\n",
              "        [0.30987425, 0.26787605],\n",
              "        [0.80716561, 0.95194651],\n",
              "        [0.32571922, 0.06641435],\n",
              "        [0.97372532, 0.5898659 ]],\n",
              "\n",
              "       [[0.50070447, 0.04838365],\n",
              "        [0.4766142 , 0.75609065],\n",
              "        [0.87991412, 0.13567616],\n",
              "        [0.03853264, 0.49185536],\n",
              "        [0.96037962, 0.35421268],\n",
              "        [0.82315154, 0.19521269]]])"
            ]
          },
          "metadata": {
            "tags": []
          },
          "execution_count": 42
        }
      ]
    },
    {
      "cell_type": "code",
      "metadata": {
        "id": "cdCYsmAgF3Yh",
        "colab": {
          "base_uri": "https://localhost:8080/"
        },
        "outputId": "4b2a3078-7827-4bb8-bf4f-e4dd9c80d299"
      },
      "source": [
        "#less\n",
        "np.less(arrt1, arrt2)"
      ],
      "execution_count": null,
      "outputs": [
        {
          "output_type": "execute_result",
          "data": {
            "text/plain": [
              "array([[[False,  True],\n",
              "        [False, False],\n",
              "        [ True,  True],\n",
              "        [False,  True],\n",
              "        [False,  True],\n",
              "        [False, False]],\n",
              "\n",
              "       [[False, False],\n",
              "        [False, False],\n",
              "        [False, False],\n",
              "        [ True,  True],\n",
              "        [ True, False],\n",
              "        [ True, False]],\n",
              "\n",
              "       [[False,  True],\n",
              "        [False,  True],\n",
              "        [ True, False],\n",
              "        [False, False],\n",
              "        [ True, False],\n",
              "        [ True, False]]])"
            ]
          },
          "metadata": {
            "tags": []
          },
          "execution_count": 43
        }
      ]
    },
    {
      "cell_type": "code",
      "metadata": {
        "id": "30PjCLv_GNDf",
        "colab": {
          "base_uri": "https://localhost:8080/"
        },
        "outputId": "e1093b36-7f81-4928-ecc2-5b558f5810a2"
      },
      "source": [
        "#less or equal\n",
        "np.less_equal(arrt1, arrt2)"
      ],
      "execution_count": null,
      "outputs": [
        {
          "output_type": "execute_result",
          "data": {
            "text/plain": [
              "array([[[False,  True],\n",
              "        [False, False],\n",
              "        [ True,  True],\n",
              "        [False,  True],\n",
              "        [False,  True],\n",
              "        [False, False]],\n",
              "\n",
              "       [[False, False],\n",
              "        [False, False],\n",
              "        [False, False],\n",
              "        [ True,  True],\n",
              "        [ True, False],\n",
              "        [ True, False]],\n",
              "\n",
              "       [[False,  True],\n",
              "        [False,  True],\n",
              "        [ True, False],\n",
              "        [False, False],\n",
              "        [ True, False],\n",
              "        [ True, False]]])"
            ]
          },
          "metadata": {
            "tags": []
          },
          "execution_count": 44
        }
      ]
    },
    {
      "cell_type": "code",
      "metadata": {
        "id": "f7hxLL5TGNRX",
        "colab": {
          "base_uri": "https://localhost:8080/"
        },
        "outputId": "18ae4781-ed02-4b73-f22d-042a65de90d2"
      },
      "source": [
        "#greater\n",
        "np.greater(arrt1, arrt2)"
      ],
      "execution_count": null,
      "outputs": [
        {
          "output_type": "execute_result",
          "data": {
            "text/plain": [
              "array([[[ True, False],\n",
              "        [ True,  True],\n",
              "        [False, False],\n",
              "        [ True, False],\n",
              "        [ True, False],\n",
              "        [ True,  True]],\n",
              "\n",
              "       [[ True,  True],\n",
              "        [ True,  True],\n",
              "        [ True,  True],\n",
              "        [False, False],\n",
              "        [False,  True],\n",
              "        [False,  True]],\n",
              "\n",
              "       [[ True, False],\n",
              "        [ True, False],\n",
              "        [False,  True],\n",
              "        [ True,  True],\n",
              "        [False,  True],\n",
              "        [False,  True]]])"
            ]
          },
          "metadata": {
            "tags": []
          },
          "execution_count": 45
        }
      ]
    },
    {
      "cell_type": "code",
      "metadata": {
        "id": "_I1Yy59kGM4j",
        "colab": {
          "base_uri": "https://localhost:8080/"
        },
        "outputId": "73d5c1b8-3dc1-404f-eb70-fb22dd683498"
      },
      "source": [
        "#greater or equal\n",
        "np.greater_equal(arrt1, arrt2)"
      ],
      "execution_count": null,
      "outputs": [
        {
          "output_type": "execute_result",
          "data": {
            "text/plain": [
              "array([[[ True, False],\n",
              "        [ True,  True],\n",
              "        [False, False],\n",
              "        [ True, False],\n",
              "        [ True, False],\n",
              "        [ True,  True]],\n",
              "\n",
              "       [[ True,  True],\n",
              "        [ True,  True],\n",
              "        [ True,  True],\n",
              "        [False, False],\n",
              "        [False,  True],\n",
              "        [False,  True]],\n",
              "\n",
              "       [[ True, False],\n",
              "        [ True, False],\n",
              "        [False,  True],\n",
              "        [ True,  True],\n",
              "        [False,  True],\n",
              "        [False,  True]]])"
            ]
          },
          "metadata": {
            "tags": []
          },
          "execution_count": 46
        }
      ]
    },
    {
      "cell_type": "markdown",
      "metadata": {
        "id": "ut_CBKlHAiHB"
      },
      "source": [
        "(h) Interchange the 1st and 3rd column of the array\n"
      ]
    },
    {
      "cell_type": "code",
      "metadata": {
        "id": "pKD1gmm_jJRe"
      },
      "source": [
        "arr3d1[:,:,[0]],arr3d1[:,:,[2]]=arr3d1[:,:,[2]],arr3d1[:,:,[0]]"
      ],
      "execution_count": null,
      "outputs": []
    },
    {
      "cell_type": "markdown",
      "metadata": {
        "id": "PJFgNYxdAqAi"
      },
      "source": [
        "(i) Interchange the 2nd row with 5th row, and 1st row with 4th row of the array\n"
      ]
    },
    {
      "cell_type": "code",
      "metadata": {
        "id": "c7n1U10PpCLV"
      },
      "source": [
        "arr3d1[:,[0,1]],arr3d1[:,[3,4]]=arr3d1[:,[3,4]],arr3d1[:,[0,1]]\n"
      ],
      "execution_count": null,
      "outputs": []
    },
    {
      "cell_type": "markdown",
      "metadata": {
        "id": "Y56vlPNPAtf5"
      },
      "source": [
        "(j) Inner dot product of the two arrays\n"
      ]
    },
    {
      "cell_type": "code",
      "metadata": {
        "id": "CeoRujH8H6TG",
        "colab": {
          "base_uri": "https://localhost:8080/"
        },
        "outputId": "cc9730d0-1089-4207-cea9-3e0e32997a6c"
      },
      "source": [
        "#innerdot product of array 1 of both the 3d array\n",
        "np.dot(arr3d1[0].T, arr3d2[0])"
      ],
      "execution_count": null,
      "outputs": [
        {
          "output_type": "execute_result",
          "data": {
            "text/plain": [
              "array([[1.4609946 , 1.89627724, 2.05429135],\n",
              "       [1.7898986 , 1.3441787 , 1.96027819],\n",
              "       [1.82648719, 2.05374734, 2.66705475]])"
            ]
          },
          "metadata": {
            "tags": []
          },
          "execution_count": 49
        }
      ]
    },
    {
      "cell_type": "code",
      "metadata": {
        "id": "KhtoxnM1cIb3",
        "colab": {
          "base_uri": "https://localhost:8080/"
        },
        "outputId": "d57b7285-5928-4c51-c088-168ecb0f22f4"
      },
      "source": [
        "#innerdot product of array 2 of both the 3d array\n",
        "np.dot(arr3d2[1].T, arr3d2[1])"
      ],
      "execution_count": null,
      "outputs": [
        {
          "output_type": "execute_result",
          "data": {
            "text/plain": [
              "array([[2.44614957, 1.48969064, 0.82767701],\n",
              "       [1.48969064, 1.77587779, 1.04925047],\n",
              "       [0.82767701, 1.04925047, 0.99791838]])"
            ]
          },
          "metadata": {
            "tags": []
          },
          "execution_count": 50
        }
      ]
    },
    {
      "cell_type": "markdown",
      "metadata": {
        "id": "W-3ZsUCuAw1m"
      },
      "source": [
        "(k) Swap the axis of the two arrays"
      ]
    },
    {
      "cell_type": "code",
      "metadata": {
        "id": "N0BJDP_fArlR",
        "colab": {
          "base_uri": "https://localhost:8080/"
        },
        "outputId": "e38d1fcd-a641-45d4-9a04-bd77d704e6b4"
      },
      "source": [
        "arr3d1.swapaxes(1,2)"
      ],
      "execution_count": null,
      "outputs": [
        {
          "output_type": "execute_result",
          "data": {
            "text/plain": [
              "array([[[0.57369011, 0.7934008 , 0.01875295, 0.97087888, 0.89281776,\n",
              "         0.58013688],\n",
              "        [0.62271279, 0.11539884, 0.82838812, 0.59970521, 0.73310091,\n",
              "         0.16692987],\n",
              "        [0.40350783, 0.96962459, 0.32970615, 0.67049336, 0.98802727,\n",
              "         0.89661437]],\n",
              "\n",
              "       [[0.50898633, 0.70522857, 0.82008813, 0.00108416, 0.74955452,\n",
              "         0.69087382],\n",
              "        [0.86348714, 0.61915524, 0.92650808, 0.51450734, 0.54795071,\n",
              "         0.61258477],\n",
              "        [0.54354569, 0.04586834, 0.02496836, 0.56811788, 0.23674659,\n",
              "         0.31896968]]])"
            ]
          },
          "metadata": {
            "tags": []
          },
          "execution_count": 51
        }
      ]
    },
    {
      "cell_type": "code",
      "metadata": {
        "id": "IusxQCalJgqR",
        "colab": {
          "base_uri": "https://localhost:8080/"
        },
        "outputId": "69cd90e6-6093-4bcc-c438-2adf4083a17c"
      },
      "source": [
        "arr3d2.swapaxes(1,2)"
      ],
      "execution_count": null,
      "outputs": [
        {
          "output_type": "execute_result",
          "data": {
            "text/plain": [
              "array([[[0.62894624, 0.30277279, 0.89180883, 0.00685676, 0.79738177,\n",
              "         0.21487421],\n",
              "        [0.307025  , 0.09448825, 0.30987425, 0.80716561, 0.32571922,\n",
              "         0.97372532],\n",
              "        [0.50070447, 0.4766142 , 0.87991412, 0.03853264, 0.96037962,\n",
              "         0.82315154]],\n",
              "\n",
              "       [[0.93100644, 0.05963712, 0.69164004, 0.84328061, 0.61967498,\n",
              "         0.04831939],\n",
              "        [0.43138625, 0.50938327, 0.26787605, 0.95194651, 0.06641435,\n",
              "         0.5898659 ],\n",
              "        [0.04838365, 0.75609065, 0.13567616, 0.49185536, 0.35421268,\n",
              "         0.19521269]]])"
            ]
          },
          "metadata": {
            "tags": []
          },
          "execution_count": 52
        }
      ]
    },
    {
      "cell_type": "markdown",
      "metadata": {
        "id": "FMHFutaRIVw4"
      },
      "source": [
        "Create a 2-D array of 9 rows and 9 columns with random values. Divide this array into 9 equal parts of 3 rows and 3 columns each. Fill these 9 parts with values from 1-9. Check whether the changes are done in the original array or the 9 parts. If the original array is getting changed, then create a copy of these 9 parts and then make the changes in filling the values from 1-9."
      ]
    },
    {
      "cell_type": "code",
      "metadata": {
        "id": "cNDafBytKClH",
        "colab": {
          "base_uri": "https://localhost:8080/"
        },
        "outputId": "14e56ad1-3bac-493f-9fd6-2dc2895f0e78"
      },
      "source": [
        "ar=np.random.rand(9,9)\n",
        "ar\n"
      ],
      "execution_count": null,
      "outputs": [
        {
          "output_type": "execute_result",
          "data": {
            "text/plain": [
              "array([[0.42759379, 0.07242099, 0.71501595, 0.25729939, 0.38916047,\n",
              "        0.94008787, 0.48635773, 0.94304244, 0.95661998],\n",
              "       [0.94494634, 0.50612106, 0.41518532, 0.20091829, 0.1952459 ,\n",
              "        0.35346741, 0.26614666, 0.16450329, 0.93218096],\n",
              "       [0.96235784, 0.62999146, 0.36797491, 0.25214111, 0.40764177,\n",
              "        0.63956092, 0.68039788, 0.48015117, 0.38438437],\n",
              "       [0.07576218, 0.25325736, 0.02709266, 0.10903162, 0.65770039,\n",
              "        0.93416047, 0.95662278, 0.69666754, 0.36598979],\n",
              "       [0.95688621, 0.98087734, 0.64633108, 0.82171067, 0.68764231,\n",
              "        0.71133374, 0.05827899, 0.62578603, 0.77631672],\n",
              "       [0.64579314, 0.76217321, 0.41188316, 0.19480136, 0.75468421,\n",
              "        0.77050743, 0.04035646, 0.41988209, 0.34237803],\n",
              "       [0.90550624, 0.59490705, 0.73259886, 0.20033864, 0.32895714,\n",
              "        0.94038912, 0.01756133, 0.46154158, 0.23064571],\n",
              "       [0.72775161, 0.12758227, 0.29946836, 0.34442384, 0.93675763,\n",
              "        0.87620768, 0.63360141, 0.10113811, 0.92901108],\n",
              "       [0.71118287, 0.95104516, 0.3857627 , 0.96126258, 0.31902824,\n",
              "        0.98774308, 0.94209963, 0.92413367, 0.05147996]])"
            ]
          },
          "metadata": {
            "tags": []
          },
          "execution_count": 53
        }
      ]
    },
    {
      "cell_type": "code",
      "metadata": {
        "id": "OUE2ywU8VXWC",
        "colab": {
          "base_uri": "https://localhost:8080/"
        },
        "outputId": "993bf6d5-2c75-491b-88c4-e1c79ba663fb"
      },
      "source": [
        "ar1=ar[:1,:]\n",
        "ar2=ar[1:2,:]\n",
        "ar3=ar[2:3,:]\n",
        "ar4=ar[3:4,:]\n",
        "ar5=ar[4:5,:]\n",
        "ar6=ar[5:6,:]\n",
        "ar7=ar[6:7,:]\n",
        "ar8=ar[7:8,:]\n",
        "ar9=ar[8:9,:]\n",
        "\n",
        "print(ar1)\n",
        "print(ar2)\n",
        "print(ar3)\n",
        "print(ar4)\n",
        "print(ar5)\n",
        "print(ar6)\n",
        "print(ar7)\n",
        "print(ar8)\n",
        "print(ar9)"
      ],
      "execution_count": null,
      "outputs": [
        {
          "output_type": "stream",
          "text": [
            "[[0.42759379 0.07242099 0.71501595 0.25729939 0.38916047 0.94008787\n",
            "  0.48635773 0.94304244 0.95661998]]\n",
            "[[0.94494634 0.50612106 0.41518532 0.20091829 0.1952459  0.35346741\n",
            "  0.26614666 0.16450329 0.93218096]]\n",
            "[[0.96235784 0.62999146 0.36797491 0.25214111 0.40764177 0.63956092\n",
            "  0.68039788 0.48015117 0.38438437]]\n",
            "[[0.07576218 0.25325736 0.02709266 0.10903162 0.65770039 0.93416047\n",
            "  0.95662278 0.69666754 0.36598979]]\n",
            "[[0.95688621 0.98087734 0.64633108 0.82171067 0.68764231 0.71133374\n",
            "  0.05827899 0.62578603 0.77631672]]\n",
            "[[0.64579314 0.76217321 0.41188316 0.19480136 0.75468421 0.77050743\n",
            "  0.04035646 0.41988209 0.34237803]]\n",
            "[[0.90550624 0.59490705 0.73259886 0.20033864 0.32895714 0.94038912\n",
            "  0.01756133 0.46154158 0.23064571]]\n",
            "[[0.72775161 0.12758227 0.29946836 0.34442384 0.93675763 0.87620768\n",
            "  0.63360141 0.10113811 0.92901108]]\n",
            "[[0.71118287 0.95104516 0.3857627  0.96126258 0.31902824 0.98774308\n",
            "  0.94209963 0.92413367 0.05147996]]\n"
          ],
          "name": "stdout"
        }
      ]
    },
    {
      "cell_type": "code",
      "metadata": {
        "id": "VlkJgfjaT8H8",
        "colab": {
          "base_uri": "https://localhost:8080/"
        },
        "outputId": "9379e27f-93f0-4663-d0a0-d20f3d328b6e"
      },
      "source": [
        "ar1[:]=[11,12,13,14,15,16,17,18,19]\n",
        "ar2[:]=[11,12,13,14,15,16,17,18,19]\n",
        "ar3[:]=[11,12,13,14,15,16,17,18,19]\n",
        "ar4[:]=[11,12,13,14,15,16,17,18,19]\n",
        "ar5[:]=[11,12,13,14,15,16,17,18,19]\n",
        "ar6[:]=[11,12,13,14,15,16,17,18,19]\n",
        "ar7[:]=[11,12,13,14,15,16,17,18,19]\n",
        "ar8[:]=[11,12,13,14,15,16,17,18,19]\n",
        "ar9[:]=[11,12,13,14,15,16,17,18,19]\n",
        "\n",
        "\n",
        "print(ar1)\n",
        "print(ar2)\n",
        "print(ar3)\n",
        "print(ar4)\n",
        "print(ar5)\n",
        "print(ar6)\n",
        "print(ar7)\n",
        "print(ar8)\n",
        "print(ar9)"
      ],
      "execution_count": null,
      "outputs": [
        {
          "output_type": "stream",
          "text": [
            "[[11. 12. 13. 14. 15. 16. 17. 18. 19.]]\n",
            "[[11. 12. 13. 14. 15. 16. 17. 18. 19.]]\n",
            "[[11. 12. 13. 14. 15. 16. 17. 18. 19.]]\n",
            "[[11. 12. 13. 14. 15. 16. 17. 18. 19.]]\n",
            "[[11. 12. 13. 14. 15. 16. 17. 18. 19.]]\n",
            "[[11. 12. 13. 14. 15. 16. 17. 18. 19.]]\n",
            "[[11. 12. 13. 14. 15. 16. 17. 18. 19.]]\n",
            "[[11. 12. 13. 14. 15. 16. 17. 18. 19.]]\n",
            "[[11. 12. 13. 14. 15. 16. 17. 18. 19.]]\n"
          ],
          "name": "stdout"
        }
      ]
    },
    {
      "cell_type": "code",
      "metadata": {
        "id": "IQ14vg7UWOPY",
        "colab": {
          "base_uri": "https://localhost:8080/"
        },
        "outputId": "97eb8b47-483c-4eb2-d75f-191d2759c9cc"
      },
      "source": [
        "#changes are done in orginal arr\n",
        "ar"
      ],
      "execution_count": null,
      "outputs": [
        {
          "output_type": "execute_result",
          "data": {
            "text/plain": [
              "array([[11., 12., 13., 14., 15., 16., 17., 18., 19.],\n",
              "       [11., 12., 13., 14., 15., 16., 17., 18., 19.],\n",
              "       [11., 12., 13., 14., 15., 16., 17., 18., 19.],\n",
              "       [11., 12., 13., 14., 15., 16., 17., 18., 19.],\n",
              "       [11., 12., 13., 14., 15., 16., 17., 18., 19.],\n",
              "       [11., 12., 13., 14., 15., 16., 17., 18., 19.],\n",
              "       [11., 12., 13., 14., 15., 16., 17., 18., 19.],\n",
              "       [11., 12., 13., 14., 15., 16., 17., 18., 19.],\n",
              "       [11., 12., 13., 14., 15., 16., 17., 18., 19.]])"
            ]
          },
          "metadata": {
            "tags": []
          },
          "execution_count": 56
        }
      ]
    },
    {
      "cell_type": "markdown",
      "metadata": {
        "id": "I0JEcX2KIZLW"
      },
      "source": [
        " Create a 2-D array with empty function of size 7 rows and 3 columns and fill the elements of \n"
      ]
    },
    {
      "cell_type": "code",
      "metadata": {
        "id": "EZmtMrmaTF7i",
        "colab": {
          "base_uri": "https://localhost:8080/"
        },
        "outputId": "cf8af260-8759-42ba-b80a-f3311e40de3a"
      },
      "source": [
        "arr2dd=np.empty((7,3))\n",
        "arr2dd"
      ],
      "execution_count": null,
      "outputs": [
        {
          "output_type": "execute_result",
          "data": {
            "text/plain": [
              "array([[2.25599069e-316, 6.27463370e-322, 0.00000000e+000],\n",
              "       [0.00000000e+000, 0.00000000e+000, 5.30276956e+180],\n",
              "       [1.57076922e-076, 6.97397586e-076, 3.65961319e-086],\n",
              "       [3.35809595e-143, 6.01433264e+175, 6.93885958e+218],\n",
              "       [5.56218858e+180, 3.94356143e+180, 2.80355690e-032],\n",
              "       [3.31261707e-033, 3.91878251e+179, 3.44113880e+175],\n",
              "       [5.50620356e-144, 1.50008929e+248, 2.59305228e-306]])"
            ]
          },
          "metadata": {
            "tags": []
          },
          "execution_count": 57
        }
      ]
    },
    {
      "cell_type": "markdown",
      "metadata": {
        "id": "WrRV7dG_Xqxn"
      },
      "source": [
        "(a) each column with the column number"
      ]
    },
    {
      "cell_type": "code",
      "metadata": {
        "id": "3Jh1Khe7XqK2",
        "colab": {
          "base_uri": "https://localhost:8080/"
        },
        "outputId": "5080e768-754b-4a78-8cd5-1037d8837e30"
      },
      "source": [
        "\n",
        "for i in range(3):\n",
        "  for j in range(7):\n",
        "    arr2dd[j,i] = i\n",
        "arr2dd"
      ],
      "execution_count": null,
      "outputs": [
        {
          "output_type": "execute_result",
          "data": {
            "text/plain": [
              "array([[0., 1., 2.],\n",
              "       [0., 1., 2.],\n",
              "       [0., 1., 2.],\n",
              "       [0., 1., 2.],\n",
              "       [0., 1., 2.],\n",
              "       [0., 1., 2.],\n",
              "       [0., 1., 2.]])"
            ]
          },
          "metadata": {
            "tags": []
          },
          "execution_count": 58
        }
      ]
    },
    {
      "cell_type": "markdown",
      "metadata": {
        "id": "4sFgTIXwXweh"
      },
      "source": [
        "(b) each row with the row number\n"
      ]
    },
    {
      "cell_type": "code",
      "metadata": {
        "id": "B_X9dW1NXxiH",
        "colab": {
          "base_uri": "https://localhost:8080/"
        },
        "outputId": "96414e03-8887-44ad-d442-af96b7a90761"
      },
      "source": [
        "for i in range(7):\n",
        "  arr2dd[i]=i\n",
        "arr2dd"
      ],
      "execution_count": null,
      "outputs": [
        {
          "output_type": "execute_result",
          "data": {
            "text/plain": [
              "array([[0., 0., 0.],\n",
              "       [1., 1., 1.],\n",
              "       [2., 2., 2.],\n",
              "       [3., 3., 3.],\n",
              "       [4., 4., 4.],\n",
              "       [5., 5., 5.],\n",
              "       [6., 6., 6.]])"
            ]
          },
          "metadata": {
            "tags": []
          },
          "execution_count": 59
        }
      ]
    },
    {
      "cell_type": "markdown",
      "metadata": {
        "id": "ytr1dhmgXx_y"
      },
      "source": [
        "(c) shuffle the order of rows using negative indexing"
      ]
    },
    {
      "cell_type": "code",
      "metadata": {
        "id": "SxEnO8S3X4gN",
        "colab": {
          "base_uri": "https://localhost:8080/"
        },
        "outputId": "ef5d354a-5f2c-41de-9c03-000867ac47d3"
      },
      "source": [
        "arr2dd[[-3,-5,-7,-1,-4,-2,-6]]"
      ],
      "execution_count": null,
      "outputs": [
        {
          "output_type": "execute_result",
          "data": {
            "text/plain": [
              "array([[4., 4., 4.],\n",
              "       [2., 2., 2.],\n",
              "       [0., 0., 0.],\n",
              "       [6., 6., 6.],\n",
              "       [3., 3., 3.],\n",
              "       [5., 5., 5.],\n",
              "       [1., 1., 1.]])"
            ]
          },
          "metadata": {
            "tags": []
          },
          "execution_count": 60
        }
      ]
    },
    {
      "cell_type": "markdown",
      "metadata": {
        "id": "DV05WOlcIeIz"
      },
      "source": [
        "Create a 1-D array of following shoe brand names - (Nike, Adidas, Reebok, Puma, Adidas, Nike, Reebok, Reebok). Now create a random array of 8 rows and 4 columns with only positive numbers and multiply each element by 10,000. This array determines the price of the shoes of various brands having four variants. Based on the following conditions, display the prices of the shoes.\n",
        "  \n",
        "\n",
        "\n",
        "\n",
        "\n"
      ]
    },
    {
      "cell_type": "code",
      "metadata": {
        "id": "kJ79wrg6Nvdf"
      },
      "source": [
        "brands = np.array(['Nike', 'Addidas', 'Reebok', 'Puma', 'Adidas', 'Nike', 'Reebok','Reebok'])\n",
        "data = np.random.randn(8,4)"
      ],
      "execution_count": null,
      "outputs": []
    },
    {
      "cell_type": "code",
      "metadata": {
        "id": "BPK0DMEbOLjU",
        "colab": {
          "base_uri": "https://localhost:8080/"
        },
        "outputId": "4513572a-e419-4bf5-ff85-d703a240862b"
      },
      "source": [
        "data[data<0]=1\n",
        "data"
      ],
      "execution_count": null,
      "outputs": [
        {
          "output_type": "execute_result",
          "data": {
            "text/plain": [
              "array([[0.73331659, 2.11280258, 1.58264155, 0.23549576],\n",
              "       [1.        , 1.59568561, 0.12727497, 1.        ],\n",
              "       [1.        , 0.66586968, 0.00327626, 1.05948439],\n",
              "       [0.08441686, 0.63892215, 1.        , 1.        ],\n",
              "       [1.        , 1.        , 1.        , 1.        ],\n",
              "       [1.        , 1.        , 1.52012104, 1.        ],\n",
              "       [1.57326776, 1.        , 1.        , 0.48583969],\n",
              "       [1.        , 1.        , 0.00955144, 1.        ]])"
            ]
          },
          "metadata": {
            "tags": []
          },
          "execution_count": 62
        }
      ]
    },
    {
      "cell_type": "code",
      "metadata": {
        "id": "7ddzwqToONah",
        "colab": {
          "base_uri": "https://localhost:8080/"
        },
        "outputId": "97d6d44a-dc91-46e0-8c18-502d5e9de92b"
      },
      "source": [
        "newdata=data*1000\n",
        "newdata"
      ],
      "execution_count": null,
      "outputs": [
        {
          "output_type": "execute_result",
          "data": {
            "text/plain": [
              "array([[ 733.31659116, 2112.80258013, 1582.64155402,  235.4957585 ],\n",
              "       [1000.        , 1595.68561273,  127.27496566, 1000.        ],\n",
              "       [1000.        ,  665.86968468,    3.27626483, 1059.48439112],\n",
              "       [  84.41686167,  638.92215344, 1000.        , 1000.        ],\n",
              "       [1000.        , 1000.        , 1000.        , 1000.        ],\n",
              "       [1000.        , 1000.        , 1520.12103795, 1000.        ],\n",
              "       [1573.26776117, 1000.        , 1000.        ,  485.83968506],\n",
              "       [1000.        , 1000.        ,    9.55143573, 1000.        ]])"
            ]
          },
          "metadata": {
            "tags": []
          },
          "execution_count": 63
        }
      ]
    },
    {
      "cell_type": "markdown",
      "metadata": {
        "id": "mDFASWcAIaFr"
      },
      "source": [
        "(a) Price of all Adidas Shoes"
      ]
    },
    {
      "cell_type": "code",
      "metadata": {
        "id": "9EK2aYIVOXIS",
        "colab": {
          "base_uri": "https://localhost:8080/"
        },
        "outputId": "b9095125-55ec-4c19-f811-005794b4e7c0"
      },
      "source": [
        "#price of addidas shoes\n",
        "newdata[brands == 'Addidas']"
      ],
      "execution_count": null,
      "outputs": [
        {
          "output_type": "execute_result",
          "data": {
            "text/plain": [
              "array([[1000.        , 1595.68561273,  127.27496566, 1000.        ]])"
            ]
          },
          "metadata": {
            "tags": []
          },
          "execution_count": 64
        }
      ]
    },
    {
      "cell_type": "markdown",
      "metadata": {
        "id": "XLx5ScUlIaeH"
      },
      "source": [
        "(b) Price of all Reebok Shoes"
      ]
    },
    {
      "cell_type": "code",
      "metadata": {
        "id": "m3aD9gfIIz-h",
        "colab": {
          "base_uri": "https://localhost:8080/"
        },
        "outputId": "45125bb7-1399-4743-e8c9-46a57475cb9c"
      },
      "source": [
        "#price of reebok shoes\n",
        "newdata[brands == 'Reebok']"
      ],
      "execution_count": null,
      "outputs": [
        {
          "output_type": "execute_result",
          "data": {
            "text/plain": [
              "array([[1000.        ,  665.86968468,    3.27626483, 1059.48439112],\n",
              "       [1573.26776117, 1000.        , 1000.        ,  485.83968506],\n",
              "       [1000.        , 1000.        ,    9.55143573, 1000.        ]])"
            ]
          },
          "metadata": {
            "tags": []
          },
          "execution_count": 65
        }
      ]
    },
    {
      "cell_type": "markdown",
      "metadata": {
        "id": "cjjftBI0IbZf"
      },
      "source": [
        "\n",
        "(c) Price of all Puma Shoes"
      ]
    },
    {
      "cell_type": "code",
      "metadata": {
        "id": "7lipMvr3QPZ9",
        "colab": {
          "base_uri": "https://localhost:8080/"
        },
        "outputId": "8072a88f-3259-4541-f9e2-637f9ab90949"
      },
      "source": [
        "#price of Puma shoes\n",
        "newdata[brands == 'Puma']"
      ],
      "execution_count": null,
      "outputs": [
        {
          "output_type": "execute_result",
          "data": {
            "text/plain": [
              "array([[  84.41686167,  638.92215344, 1000.        , 1000.        ]])"
            ]
          },
          "metadata": {
            "tags": []
          },
          "execution_count": 66
        }
      ]
    },
    {
      "cell_type": "markdown",
      "metadata": {
        "id": "Db6ocFFlIeKU"
      },
      "source": [
        "(d) Price of all Nike Shoes"
      ]
    },
    {
      "cell_type": "code",
      "metadata": {
        "id": "gEewRdFvQcCf",
        "colab": {
          "base_uri": "https://localhost:8080/"
        },
        "outputId": "88981494-c075-49f3-fd51-d738b2c84fc9"
      },
      "source": [
        "#price of Nike shoes\n",
        "newdata[brands == 'Nike']"
      ],
      "execution_count": null,
      "outputs": [
        {
          "output_type": "execute_result",
          "data": {
            "text/plain": [
              "array([[ 733.31659116, 2112.80258013, 1582.64155402,  235.4957585 ],\n",
              "       [1000.        , 1000.        , 1520.12103795, 1000.        ]])"
            ]
          },
          "metadata": {
            "tags": []
          },
          "execution_count": 67
        }
      ]
    },
    {
      "cell_type": "markdown",
      "metadata": {
        "id": "mrePEYlqIe31"
      },
      "source": [
        "(e) Price of all Adidas or Puma Shoes "
      ]
    },
    {
      "cell_type": "code",
      "metadata": {
        "id": "TGamLvAAQiy_",
        "colab": {
          "base_uri": "https://localhost:8080/"
        },
        "outputId": "4f02df2f-0849-411c-a576-d7d391cb8b06"
      },
      "source": [
        "#Price of all Adidas or Puma Shoes\n",
        "cond1 = brands=='Addidas'\n",
        "cond2 = brands=='Puma'\n",
        "newdata[cond1|cond2]"
      ],
      "execution_count": null,
      "outputs": [
        {
          "output_type": "execute_result",
          "data": {
            "text/plain": [
              "array([[1000.        , 1595.68561273,  127.27496566, 1000.        ],\n",
              "       [  84.41686167,  638.92215344, 1000.        , 1000.        ]])"
            ]
          },
          "metadata": {
            "tags": []
          },
          "execution_count": 68
        }
      ]
    },
    {
      "cell_type": "markdown",
      "metadata": {
        "id": "RTNEEWF2If08"
      },
      "source": [
        "(f) Price of all Nike or Reebok Shoes"
      ]
    },
    {
      "cell_type": "code",
      "metadata": {
        "id": "pHJzUaEEQ7Y_",
        "colab": {
          "base_uri": "https://localhost:8080/"
        },
        "outputId": "5e2ecffd-47fb-4997-cb14-779d74cd6d6b"
      },
      "source": [
        "#Price of all Nike or Reebok Shoe\n",
        "cond1 = brands=='Nike'\n",
        "cond2 = brands=='Reebok'\n",
        "newdata[cond1|cond2]"
      ],
      "execution_count": null,
      "outputs": [
        {
          "output_type": "execute_result",
          "data": {
            "text/plain": [
              "array([[ 733.31659116, 2112.80258013, 1582.64155402,  235.4957585 ],\n",
              "       [1000.        ,  665.86968468,    3.27626483, 1059.48439112],\n",
              "       [1000.        , 1000.        , 1520.12103795, 1000.        ],\n",
              "       [1573.26776117, 1000.        , 1000.        ,  485.83968506],\n",
              "       [1000.        , 1000.        ,    9.55143573, 1000.        ]])"
            ]
          },
          "metadata": {
            "tags": []
          },
          "execution_count": 69
        }
      ]
    },
    {
      "cell_type": "markdown",
      "metadata": {
        "id": "CwdZmeGbIghz"
      },
      "source": [
        "\n",
        "(j) Price of all the shoes which are more than 1500"
      ]
    },
    {
      "cell_type": "code",
      "metadata": {
        "id": "D8nBdspfRIaW",
        "colab": {
          "base_uri": "https://localhost:8080/"
        },
        "outputId": "9ff23238-9cb8-4527-b92b-01dc3b59d404"
      },
      "source": [
        " #Price of all the shoes which are more than 1500\n",
        " newdata[newdata>1500]"
      ],
      "execution_count": null,
      "outputs": [
        {
          "output_type": "execute_result",
          "data": {
            "text/plain": [
              "array([2112.80258013, 1582.64155402, 1595.68561273, 1520.12103795,\n",
              "       1573.26776117])"
            ]
          },
          "metadata": {
            "tags": []
          },
          "execution_count": 70
        }
      ]
    },
    {
      "cell_type": "markdown",
      "metadata": {
        "id": "twxIBPuTIg80"
      },
      "source": [
        "\n",
        "(k) Change the price of all the Reebok shoes to 5000"
      ]
    },
    {
      "cell_type": "code",
      "metadata": {
        "id": "O1R0BKhnRZVq",
        "colab": {
          "base_uri": "https://localhost:8080/"
        },
        "outputId": "23894708-d62f-4101-c64f-18dda609c171"
      },
      "source": [
        "#Change the price of all the Reebok shoes to 5000\n",
        "newdata[brands == 'Reebok'] = 5000\n",
        "newdata"
      ],
      "execution_count": null,
      "outputs": [
        {
          "output_type": "execute_result",
          "data": {
            "text/plain": [
              "array([[ 733.31659116, 2112.80258013, 1582.64155402,  235.4957585 ],\n",
              "       [1000.        , 1595.68561273,  127.27496566, 1000.        ],\n",
              "       [5000.        , 5000.        , 5000.        , 5000.        ],\n",
              "       [  84.41686167,  638.92215344, 1000.        , 1000.        ],\n",
              "       [1000.        , 1000.        , 1000.        , 1000.        ],\n",
              "       [1000.        , 1000.        , 1520.12103795, 1000.        ],\n",
              "       [5000.        , 5000.        , 5000.        , 5000.        ],\n",
              "       [5000.        , 5000.        , 5000.        , 5000.        ]])"
            ]
          },
          "metadata": {
            "tags": []
          },
          "execution_count": 71
        }
      ]
    },
    {
      "cell_type": "markdown",
      "metadata": {
        "id": "Mkgm99o-IhqN"
      },
      "source": [
        "(h) Price of all shoes other than that of Reebok brand"
      ]
    },
    {
      "cell_type": "code",
      "metadata": {
        "id": "V8p7HY9bRq8V",
        "colab": {
          "base_uri": "https://localhost:8080/"
        },
        "outputId": "dc4bb642-3d12-40d9-e07e-656929187617"
      },
      "source": [
        "#Price of all shoes other than that of Reebok brand\n",
        "newdata[brands!='Reebok']"
      ],
      "execution_count": null,
      "outputs": [
        {
          "output_type": "execute_result",
          "data": {
            "text/plain": [
              "array([[ 733.31659116, 2112.80258013, 1582.64155402,  235.4957585 ],\n",
              "       [1000.        , 1595.68561273,  127.27496566, 1000.        ],\n",
              "       [  84.41686167,  638.92215344, 1000.        , 1000.        ],\n",
              "       [1000.        , 1000.        , 1000.        , 1000.        ],\n",
              "       [1000.        , 1000.        , 1520.12103795, 1000.        ]])"
            ]
          },
          "metadata": {
            "tags": []
          },
          "execution_count": 72
        }
      ]
    },
    {
      "cell_type": "markdown",
      "metadata": {
        "id": "9fY3oFoEIijP"
      },
      "source": [
        "(i) Price of 1st and 2nd variant of Shoes other than Nike or Puma brand."
      ]
    },
    {
      "cell_type": "code",
      "metadata": {
        "id": "H_Yk4Oh6Rzbz",
        "colab": {
          "base_uri": "https://localhost:8080/"
        },
        "outputId": "914f55c5-d8ea-485b-d1ee-ef608bace656"
      },
      "source": [
        "# Price of 1st and 2nd variant of Shoes other than Nike or Puma brand.\n",
        "\n",
        "cond1 = brands=='Nike'\n",
        "cond2 = brands=='puma'\n",
        "newdata[cond1|cond2,0:2]"
      ],
      "execution_count": null,
      "outputs": [
        {
          "output_type": "execute_result",
          "data": {
            "text/plain": [
              "array([[ 733.31659116, 2112.80258013],\n",
              "       [1000.        , 1000.        ]])"
            ]
          },
          "metadata": {
            "tags": []
          },
          "execution_count": 73
        }
      ]
    },
    {
      "cell_type": "markdown",
      "metadata": {
        "id": "wq-GIb7EIjF2"
      },
      "source": [
        "(l) Print only 3rd and 4th variant prices of the all the shoe brands"
      ]
    },
    {
      "cell_type": "code",
      "metadata": {
        "id": "fROEmZD1G_DK",
        "colab": {
          "base_uri": "https://localhost:8080/"
        },
        "outputId": "77a9e94e-b679-49de-8c88-cdd0c8a7c64f"
      },
      "source": [
        "#3rd and 4th variant prices of the all the shoe brands\n",
        "newdata[:,2:]"
      ],
      "execution_count": null,
      "outputs": [
        {
          "output_type": "execute_result",
          "data": {
            "text/plain": [
              "array([[1582.64155402,  235.4957585 ],\n",
              "       [ 127.27496566, 1000.        ],\n",
              "       [5000.        , 5000.        ],\n",
              "       [1000.        , 1000.        ],\n",
              "       [1000.        , 1000.        ],\n",
              "       [1520.12103795, 1000.        ],\n",
              "       [5000.        , 5000.        ],\n",
              "       [5000.        , 5000.        ]])"
            ]
          },
          "metadata": {
            "tags": []
          },
          "execution_count": 74
        }
      ]
    },
    {
      "cell_type": "markdown",
      "metadata": {
        "id": "V_rBhqytIjhd"
      },
      "source": [
        "(m) Print only 1st and 2nd variant prices of first four brands of the shoes"
      ]
    },
    {
      "cell_type": "code",
      "metadata": {
        "id": "oJqk-amrHdh5",
        "colab": {
          "base_uri": "https://localhost:8080/"
        },
        "outputId": "199a9fb2-a19a-497d-a57e-92b81c372054"
      },
      "source": [
        "# 1st and 2nd variant prices of first four brands of the shoes\n",
        "newdata[0:4,0:2]"
      ],
      "execution_count": null,
      "outputs": [
        {
          "output_type": "execute_result",
          "data": {
            "text/plain": [
              "array([[ 733.31659116, 2112.80258013],\n",
              "       [1000.        , 1595.68561273],\n",
              "       [5000.        , 5000.        ],\n",
              "       [  84.41686167,  638.92215344]])"
            ]
          },
          "metadata": {
            "tags": []
          },
          "execution_count": 75
        }
      ]
    },
    {
      "cell_type": "markdown",
      "metadata": {
        "id": "CTsy-mFBIj_I"
      },
      "source": [
        "(g) Price of only 2nd and 3rd variant of all Nike or Adidas shoes "
      ]
    },
    {
      "cell_type": "code",
      "metadata": {
        "id": "ilTL_UCoINES",
        "colab": {
          "base_uri": "https://localhost:8080/"
        },
        "outputId": "988034cd-f6a5-41df-b771-aef3b9da5a53"
      },
      "source": [
        "#2nd and 3rd variant of all Nike or Adidas shoes\n",
        "cond1 = brands=='Nike'\n",
        "cond2 = brands=='Adidas'\n",
        "newdata[cond1|cond2,1:3]"
      ],
      "execution_count": null,
      "outputs": [
        {
          "output_type": "execute_result",
          "data": {
            "text/plain": [
              "array([[2112.80258013, 1582.64155402],\n",
              "       [1000.        , 1000.        ],\n",
              "       [1000.        , 1520.12103795]])"
            ]
          },
          "metadata": {
            "tags": []
          },
          "execution_count": 76
        }
      ]
    }
  ]
}