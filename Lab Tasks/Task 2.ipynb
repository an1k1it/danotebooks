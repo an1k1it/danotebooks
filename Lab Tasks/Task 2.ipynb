{
  "nbformat": 4,
  "nbformat_minor": 0,
  "metadata": {
    "colab": {
      "name": "ANKIT19MTS5630LAB(14/09/2020)Task 2.ipynb",
      "provenance": [],
      "collapsed_sections": []
    },
    "kernelspec": {
      "name": "python3",
      "display_name": "Python 3"
    }
  },
  "cells": [
    {
      "cell_type": "markdown",
      "metadata": {
        "id": "G6LTy36m1OcK"
      },
      "source": [
        "Name - Ankit\n",
        "Roll No.-19MTS5630\n",
        "Class-BSc Mathematical Science 2nd year(3rd sem)\n",
        "Date-07 Sept 2020"
      ]
    },
    {
      "cell_type": "code",
      "metadata": {
        "id": "g3iqncSK1E_Y"
      },
      "source": [
        "import numpy as np"
      ],
      "execution_count": null,
      "outputs": []
    },
    {
      "cell_type": "markdown",
      "metadata": {
        "id": "DrvuWXUFwxBR"
      },
      "source": [
        "1. Create a random array of 15 positive elements and perform the following operations with the help of Ufuncs."
      ]
    },
    {
      "cell_type": "code",
      "metadata": {
        "id": "fg75mNX6w1OB",
        "colab": {
          "base_uri": "https://localhost:8080/",
          "height": 67
        },
        "outputId": "64414a9e-6234-461b-ea5f-2cb21c6b9f0c"
      },
      "source": [
        "data = np.random.rand(15)\n",
        "data"
      ],
      "execution_count": null,
      "outputs": [
        {
          "output_type": "execute_result",
          "data": {
            "text/plain": [
              "array([0.60337529, 0.12961288, 0.65804744, 0.44766592, 0.08327683,\n",
              "       0.62714535, 0.42972574, 0.05816392, 0.49236449, 0.36605242,\n",
              "       0.11435455, 0.26892984, 0.1853887 , 0.22654384, 0.57372847])"
            ]
          },
          "metadata": {
            "tags": []
          },
          "execution_count": 62
        }
      ]
    },
    {
      "cell_type": "markdown",
      "metadata": {
        "id": "9QimPPlSw1gd"
      },
      "source": [
        "(a) Square Root"
      ]
    },
    {
      "cell_type": "code",
      "metadata": {
        "id": "CUTxY5lnwNpf",
        "colab": {
          "base_uri": "https://localhost:8080/",
          "height": 67
        },
        "outputId": "adb55365-1d5a-466f-9e85-72902cceb3f3"
      },
      "source": [
        "np.sqrt(data)"
      ],
      "execution_count": null,
      "outputs": [
        {
          "output_type": "execute_result",
          "data": {
            "text/plain": [
              "array([0.77677235, 0.3600179 , 0.81120124, 0.66907841, 0.28857725,\n",
              "       0.79192509, 0.6555347 , 0.24117196, 0.70168689, 0.60502266,\n",
              "       0.3381635 , 0.51858446, 0.43056788, 0.47596622, 0.75744866])"
            ]
          },
          "metadata": {
            "tags": []
          },
          "execution_count": 65
        }
      ]
    },
    {
      "cell_type": "markdown",
      "metadata": {
        "id": "BxCAN9aLw2ne"
      },
      "source": [
        "(b) Exponent"
      ]
    },
    {
      "cell_type": "code",
      "metadata": {
        "id": "4ObHLGwrw4l1",
        "colab": {
          "base_uri": "https://localhost:8080/",
          "height": 67
        },
        "outputId": "a1c7a6d0-3c0b-4ce6-820b-936e08e90e82"
      },
      "source": [
        "np.exp(data)"
      ],
      "execution_count": null,
      "outputs": [
        {
          "output_type": "execute_result",
          "data": {
            "text/plain": [
              "array([1.82827937, 1.13838761, 1.93101823, 1.56465589, 1.08684263,\n",
              "       1.87225831, 1.53683598, 1.05988871, 1.63618038, 1.44203083,\n",
              "       1.12114956, 1.30856333, 1.20368622, 1.2542576 , 1.77487229])"
            ]
          },
          "metadata": {
            "tags": []
          },
          "execution_count": 64
        }
      ]
    },
    {
      "cell_type": "markdown",
      "metadata": {
        "id": "LgFdQlGlw48-"
      },
      "source": [
        "(c) Square"
      ]
    },
    {
      "cell_type": "code",
      "metadata": {
        "id": "E24QWI9Hw9OV",
        "colab": {
          "base_uri": "https://localhost:8080/",
          "height": 67
        },
        "outputId": "1599fe95-fb5a-4f22-a7e5-48a827350a5e"
      },
      "source": [
        "np.square(data)"
      ],
      "execution_count": null,
      "outputs": [
        {
          "output_type": "execute_result",
          "data": {
            "text/plain": [
              "array([0.36406174, 0.0167995 , 0.43302644, 0.20040478, 0.00693503,\n",
              "       0.39331129, 0.18466421, 0.00338304, 0.24242279, 0.13399437,\n",
              "       0.01307696, 0.07232326, 0.03436897, 0.05132211, 0.32916436])"
            ]
          },
          "metadata": {
            "tags": []
          },
          "execution_count": 66
        }
      ]
    },
    {
      "cell_type": "markdown",
      "metadata": {
        "id": "S5BSn92Nw-3l"
      },
      "source": [
        "(d) Log (base: 10, e, 2)"
      ]
    },
    {
      "cell_type": "code",
      "metadata": {
        "id": "fJsy5I8ey4Dd",
        "colab": {
          "base_uri": "https://localhost:8080/",
          "height": 67
        },
        "outputId": "924cd311-f676-4f89-f20f-1cbc22ec3eaf"
      },
      "source": [
        "#log 10\n",
        "np.log10(data)"
      ],
      "execution_count": null,
      "outputs": [
        {
          "output_type": "execute_result",
          "data": {
            "text/plain": [
              "array([-0.21941248, -0.88735182, -0.18174279, -0.34904596, -1.07947583,\n",
              "       -0.20263179, -0.36680863, -1.23534636, -0.30771328, -0.43645672,\n",
              "       -0.94174654, -0.57036101, -0.73191675, -0.64484774, -0.2412936 ])"
            ]
          },
          "metadata": {
            "tags": []
          },
          "execution_count": 67
        }
      ]
    },
    {
      "cell_type": "code",
      "metadata": {
        "id": "wn__s0X0y6s9",
        "colab": {
          "base_uri": "https://localhost:8080/",
          "height": 67
        },
        "outputId": "aa032f40-9305-4d8b-82eb-beb2381fa3a5"
      },
      "source": [
        "#log 2\n",
        "np.log2(data)"
      ],
      "execution_count": null,
      "outputs": [
        {
          "output_type": "execute_result",
          "data": {
            "text/plain": [
              "array([-0.72887248, -2.94771895, -0.60373649, -1.15950559, -3.58594109,\n",
              "       -0.67312824, -1.21851189, -4.10373178, -1.02220138, -1.44987785,\n",
              "       -3.12841429, -1.89469826, -2.43137482, -2.14213783, -0.80155998])"
            ]
          },
          "metadata": {
            "tags": []
          },
          "execution_count": 68
        }
      ]
    },
    {
      "cell_type": "code",
      "metadata": {
        "id": "P_ttJEu9HBd6",
        "colab": {
          "base_uri": "https://localhost:8080/",
          "height": 1000
        },
        "outputId": "a6005e84-abe3-467d-ded6-2d5a1f6db86a"
      },
      "source": [
        "#log e\n",
        "np.log(data)"
      ],
      "execution_count": null,
      "outputs": [
        {
          "output_type": "execute_result",
          "data": {
            "text/plain": [
              "array([[ 1.19890922,  2.4890984 ,  2.69315075,  3.70210433,  3.95737817,\n",
              "         3.96445551,  4.00382209,  4.10771618,  4.16526054,  4.59787393],\n",
              "       [ 0.6046177 ,  1.71110386,  2.24239011,  3.19361701,  3.67789606,\n",
              "         3.87358515,  4.34279222,  4.34324   ,  4.50162692,  4.59908288],\n",
              "       [ 0.54133902,  1.73504628,  2.65065073,  2.94504118,  3.03024041,\n",
              "         4.03803727,  4.12379463,  4.32511443,  4.38799028,  4.43523492],\n",
              "       [ 1.59875877,  3.22697821,  3.29280911,  3.85015634,  3.9856875 ,\n",
              "         4.06793783,  4.21223589,  4.29859519,  4.41683925,  4.59401202],\n",
              "       [ 3.00516454,  3.43070794,  4.04624924,  4.19304801,  4.30119324,\n",
              "         4.39785069,  4.50285407,  4.53560444,  4.58325696,  4.59772683],\n",
              "       [ 0.50842891,  2.57510475,  3.53289608,  3.66302927,  3.77437833,\n",
              "         4.17923849,  4.18271839,  4.26229914,  4.27854029,  4.3717317 ],\n",
              "       [ 1.21141803,  1.48775066,  2.5261498 ,  3.34703118,  3.43957843,\n",
              "         3.71169125,  3.7155305 ,  3.83022246,  4.09582249,  4.56173548],\n",
              "       [-0.06783676,  2.84937759,  3.27259801,  3.37626322,  3.45330177,\n",
              "         3.88970677,  3.89426569,  3.97691407,  4.40601971,  4.56614326],\n",
              "       [ 1.70951591,  3.61505918,  3.65413039,  3.74227601,  3.97707598,\n",
              "         3.99832886,  4.11405768,  4.36483127,  4.38422099,  4.52542398],\n",
              "       [-1.7803571 ,  2.44298336,  3.61506366,  3.6441762 ,  3.82113601,\n",
              "         4.0938434 ,  4.11112889,  4.40875376,  4.46742405,  4.50961079],\n",
              "       [ 1.06388186,  1.84941488,  3.41688511,  3.55470151,  3.58309707,\n",
              "         3.83458425,  4.03639413,  4.43871866,  4.56525488,  4.60341777],\n",
              "       [ 3.15556179,  3.21517381,  3.47300008,  3.69444566,  3.74469586,\n",
              "         4.14805811,  4.44577382,  4.46847886,  4.48801016,  4.57613452],\n",
              "       [ 0.58994896,  1.14271681,  1.61388972,  2.08944736,  2.90359404,\n",
              "         3.72968855,  3.93710561,  3.97909443,  4.09842538,  4.36714769],\n",
              "       [ 1.79935626,  1.97001344,  2.4789941 ,  3.22811712,  3.27345935,\n",
              "         4.24417658,  4.4796257 ,  4.50721708,  4.55935092,  4.5727138 ],\n",
              "       [ 1.84216354,  3.10014806,  3.10775422,  3.32045091,  3.64076457,\n",
              "         3.74380044,  3.80903601,  3.96033494,  4.11415119,  4.57828686],\n",
              "       [ 1.57848606,  1.91781083,  2.2155295 ,  2.5216668 ,  2.8266136 ,\n",
              "         4.15341422,  4.24786736,  4.27569479,  4.36371776,  4.38387973],\n",
              "       [ 1.48315395,  2.36763793,  2.82452565,  3.2792305 ,  3.8621117 ,\n",
              "         4.01053933,  4.12904357,  4.26177227,  4.29721709,  4.50842108],\n",
              "       [ 1.68119028,  1.86234866,  2.52011327,  2.57105342,  2.95018434,\n",
              "         3.54639042,  3.97184703,  3.97507993,  3.97666386,  4.115239  ],\n",
              "       [ 0.4062966 ,  2.39107992,  2.82335375,  3.08753579,  3.63881789,\n",
              "         3.72277869,  4.06711021,  4.09051783,  4.31467822,  4.58706947],\n",
              "       [-0.1337798 ,  2.91556058,  3.41159083,  3.67353022,  3.99552801,\n",
              "         4.06310335,  4.10543905,  4.18581938,  4.34694868,  4.36995543],\n",
              "       [ 1.77042462,  2.22970162,  3.21309164,  3.4896951 ,  3.61232992,\n",
              "         4.22292729,  4.3867041 ,  4.4797322 ,  4.57396471,  4.57417343],\n",
              "       [ 1.67373716,  2.66993265,  3.11649971,  3.73448085,  4.18689941,\n",
              "         4.28573458,  4.2900318 ,  4.29120833,  4.41991531,  4.56666868],\n",
              "       [ 0.25341335,  2.36652203,  3.40391161,  3.42619951,  3.7362179 ,\n",
              "         3.98002607,  4.15232379,  4.44564489,  4.45085269,  4.47118345],\n",
              "       [ 1.66033726,  1.94426003,  3.22581155,  3.42426496,  3.50642767,\n",
              "         3.53341307,  3.59806665,  3.75911387,  4.33779316,  4.52925137],\n",
              "       [-0.41910541,  2.77187332,  3.70483031,  3.92533771,  4.00759622,\n",
              "         4.31204042,  4.33866359,  4.38163904,  4.38975277,  4.49102579],\n",
              "       [ 2.58401423,  2.77973045,  3.43561402,  3.51302353,  3.52346092,\n",
              "         3.90381507,  4.04366811,  4.05998209,  4.1439102 ,  4.16912422],\n",
              "       [ 1.33887038,  2.69996579,  3.23678561,  3.46501352,  3.97484357,\n",
              "         4.21516141,  4.22143413,  4.2390596 ,  4.4415991 ,  4.50399557],\n",
              "       [ 1.0657346 ,  2.86355082,  3.24962628,  3.87161929,  4.10796746,\n",
              "         4.39382745,  4.48853442,  4.52113031,  4.52461668,  4.58906458],\n",
              "       [ 1.97174511,  3.05320992,  3.1974498 ,  3.22041986,  3.6168955 ,\n",
              "         3.71786449,  4.00012811,  4.01546136,  4.09114373,  4.58405366],\n",
              "       [ 2.37608273,  2.88643776,  3.17180523,  3.5094155 ,  4.02860315,\n",
              "         4.21293244,  4.41882993,  4.45292306,  4.49674641,  4.50056339]])"
            ]
          },
          "metadata": {
            "tags": []
          },
          "execution_count": 107
        }
      ]
    },
    {
      "cell_type": "markdown",
      "metadata": {
        "id": "ngu8YLMZxBXN"
      },
      "source": [
        "(e) Ceiling"
      ]
    },
    {
      "cell_type": "code",
      "metadata": {
        "id": "QyKQU33XxC71",
        "colab": {
          "base_uri": "https://localhost:8080/",
          "height": 34
        },
        "outputId": "d5f7b291-fd83-47f1-b0ea-801cb72927c7"
      },
      "source": [
        "np.ceil(data)"
      ],
      "execution_count": null,
      "outputs": [
        {
          "output_type": "execute_result",
          "data": {
            "text/plain": [
              "array([1., 1., 1., 1., 1., 1., 1., 1., 1., 1., 1., 1., 1., 1., 1.])"
            ]
          },
          "metadata": {
            "tags": []
          },
          "execution_count": 69
        }
      ]
    },
    {
      "cell_type": "markdown",
      "metadata": {
        "id": "LNNwiqJrxDN1"
      },
      "source": [
        "(f) Floor"
      ]
    },
    {
      "cell_type": "code",
      "metadata": {
        "id": "Vg6q5ZtixFHe",
        "colab": {
          "base_uri": "https://localhost:8080/",
          "height": 34
        },
        "outputId": "26702e5a-c383-4ae1-d366-17542ed78488"
      },
      "source": [
        "np.floor(data)"
      ],
      "execution_count": null,
      "outputs": [
        {
          "output_type": "execute_result",
          "data": {
            "text/plain": [
              "array([0., 0., 0., 0., 0., 0., 0., 0., 0., 0., 0., 0., 0., 0., 0.])"
            ]
          },
          "metadata": {
            "tags": []
          },
          "execution_count": 70
        }
      ]
    },
    {
      "cell_type": "markdown",
      "metadata": {
        "id": "zP6rq_T7xFtl"
      },
      "source": [
        "(g) Near round integer"
      ]
    },
    {
      "cell_type": "code",
      "metadata": {
        "id": "dCNPkSMdxHnt",
        "colab": {
          "base_uri": "https://localhost:8080/",
          "height": 34
        },
        "outputId": "eaa8e660-abeb-4574-ce30-34e5d1c69f4f"
      },
      "source": [
        "np.rint(data)"
      ],
      "execution_count": null,
      "outputs": [
        {
          "output_type": "execute_result",
          "data": {
            "text/plain": [
              "array([1., 0., 1., 0., 0., 1., 0., 0., 0., 0., 0., 0., 0., 0., 1.])"
            ]
          },
          "metadata": {
            "tags": []
          },
          "execution_count": 71
        }
      ]
    },
    {
      "cell_type": "markdown",
      "metadata": {
        "id": "ilFIc55dxIGN"
      },
      "source": [
        "(h) Check if a value is NAN, Infinite or Finite"
      ]
    },
    {
      "cell_type": "code",
      "metadata": {
        "id": "DjTwFmAAxJwt",
        "colab": {
          "base_uri": "https://localhost:8080/",
          "height": 50
        },
        "outputId": "e8085f2a-4df4-48a7-90d0-1f20ca06b9db"
      },
      "source": [
        "#checking for nan values\n",
        "np.isnan(data)"
      ],
      "execution_count": null,
      "outputs": [
        {
          "output_type": "execute_result",
          "data": {
            "text/plain": [
              "array([False, False, False, False, False, False, False, False, False,\n",
              "       False, False, False, False, False, False])"
            ]
          },
          "metadata": {
            "tags": []
          },
          "execution_count": 72
        }
      ]
    },
    {
      "cell_type": "code",
      "metadata": {
        "id": "r4rB2O9gzTRF",
        "colab": {
          "base_uri": "https://localhost:8080/",
          "height": 50
        },
        "outputId": "7baa3867-a866-4897-d01c-61d01c8bcd66"
      },
      "source": [
        "#checking finite and infinite values\n",
        "np.isfinite(data)"
      ],
      "execution_count": null,
      "outputs": [
        {
          "output_type": "execute_result",
          "data": {
            "text/plain": [
              "array([ True,  True,  True,  True,  True,  True,  True,  True,  True,\n",
              "        True,  True,  True,  True,  True,  True])"
            ]
          },
          "metadata": {
            "tags": []
          },
          "execution_count": 73
        }
      ]
    },
    {
      "cell_type": "code",
      "metadata": {
        "id": "u52uelsPzX02",
        "colab": {
          "base_uri": "https://localhost:8080/",
          "height": 50
        },
        "outputId": "59d7d355-b0bd-4b86-b0a0-12b889500110"
      },
      "source": [
        "np.isinf(data)"
      ],
      "execution_count": null,
      "outputs": [
        {
          "output_type": "execute_result",
          "data": {
            "text/plain": [
              "array([False, False, False, False, False, False, False, False, False,\n",
              "       False, False, False, False, False, False])"
            ]
          },
          "metadata": {
            "tags": []
          },
          "execution_count": 74
        }
      ]
    },
    {
      "cell_type": "markdown",
      "metadata": {
        "id": "EvLeF0x5xL5N"
      },
      "source": [
        "(i) Trigo operations - sin, cos, tan"
      ]
    },
    {
      "cell_type": "code",
      "metadata": {
        "id": "voONSVCyxMYe",
        "colab": {
          "base_uri": "https://localhost:8080/",
          "height": 67
        },
        "outputId": "78adf7be-db13-44de-d742-a9e8ac7ceb7d"
      },
      "source": [
        "#trigonometric functions - cos,sin,tan\n",
        "np.cos(data)"
      ],
      "execution_count": null,
      "outputs": [
        {
          "output_type": "execute_result",
          "data": {
            "text/plain": [
              "array([0.82342508, 0.991612  , 0.79118787, 0.90145989, 0.99653449,\n",
              "       0.80970601, 0.90908005, 0.99830896, 0.8812176 , 0.93374758,\n",
              "       0.99346864, 0.96405579, 0.98286468, 0.9744485 , 0.83988313])"
            ]
          },
          "metadata": {
            "tags": []
          },
          "execution_count": 75
        }
      ]
    },
    {
      "cell_type": "code",
      "metadata": {
        "id": "Z5Kf_bRdzt1G",
        "colab": {
          "base_uri": "https://localhost:8080/",
          "height": 67
        },
        "outputId": "1db1c391-4353-42e6-e50a-fa1c25b7cfa0"
      },
      "source": [
        "np.sin(data)"
      ],
      "execution_count": null,
      "outputs": [
        {
          "output_type": "execute_result",
          "data": {
            "text/plain": [
              "array([0.567425  , 0.12925028, 0.61157318, 0.43286264, 0.08318061,\n",
              "       0.58683573, 0.4166215 , 0.05813113, 0.47271084, 0.35793218,\n",
              "       0.11410548, 0.26569989, 0.18432858, 0.22461102, 0.54276729])"
            ]
          },
          "metadata": {
            "tags": []
          },
          "execution_count": 76
        }
      ]
    },
    {
      "cell_type": "code",
      "metadata": {
        "id": "0AHBDwokzzp1",
        "colab": {
          "base_uri": "https://localhost:8080/",
          "height": 67
        },
        "outputId": "da366967-9e57-4b43-d545-c19226c333bc"
      },
      "source": [
        "np.tan(data)"
      ],
      "execution_count": null,
      "outputs": [
        {
          "output_type": "execute_result",
          "data": {
            "text/plain": [
              "array([0.68910337, 0.13034361, 0.77298099, 0.48017959, 0.08346987,\n",
              "       0.7247516 , 0.45828912, 0.0582296 , 0.53642918, 0.38332863,\n",
              "       0.11485564, 0.27560635, 0.18754218, 0.23050066, 0.64624146])"
            ]
          },
          "metadata": {
            "tags": []
          },
          "execution_count": 77
        }
      ]
    },
    {
      "cell_type": "markdown",
      "metadata": {
        "id": "680iip80xM9d"
      },
      "source": [
        "2. Create two random 2-D arrays of size 5 rows and 4 columns each and perform the following operations in an element-wise manner using inbuilt binary functions from Numpy."
      ]
    },
    {
      "cell_type": "code",
      "metadata": {
        "id": "DphXUZcPxPHt"
      },
      "source": [
        "arr2d1=np.random.rand(5,4)\n",
        "arr2d2=np.random.rand(5,4)"
      ],
      "execution_count": null,
      "outputs": []
    },
    {
      "cell_type": "code",
      "metadata": {
        "id": "3ql2TQ6e0Ap5",
        "colab": {
          "base_uri": "https://localhost:8080/",
          "height": 101
        },
        "outputId": "455cecf3-a37c-4112-c2a3-81a13aad8f8a"
      },
      "source": [
        "arr2d1"
      ],
      "execution_count": null,
      "outputs": [
        {
          "output_type": "execute_result",
          "data": {
            "text/plain": [
              "array([[0.00431743, 0.99028439, 0.74026981, 0.59505991],\n",
              "       [0.64003161, 0.03142869, 0.46875672, 0.40230156],\n",
              "       [0.08055767, 0.32873847, 0.32345652, 0.19344651],\n",
              "       [0.46612714, 0.10441358, 0.48584058, 0.31871977],\n",
              "       [0.80631466, 0.24017855, 0.88911777, 0.57348054]])"
            ]
          },
          "metadata": {
            "tags": []
          },
          "execution_count": 35
        }
      ]
    },
    {
      "cell_type": "code",
      "metadata": {
        "id": "YqGtGjc90CAV",
        "colab": {
          "base_uri": "https://localhost:8080/",
          "height": 101
        },
        "outputId": "2fe2d8c0-aff6-4adf-c880-457c7a3c9306"
      },
      "source": [
        "arr2d2"
      ],
      "execution_count": null,
      "outputs": [
        {
          "output_type": "execute_result",
          "data": {
            "text/plain": [
              "array([[0.0043784 , 0.26866407, 0.05700771, 0.72006424],\n",
              "       [0.95532917, 0.357385  , 0.93333562, 0.93000566],\n",
              "       [0.4746608 , 0.71428429, 0.09460127, 0.68458376],\n",
              "       [0.32427462, 0.95030086, 0.6507672 , 0.45676022],\n",
              "       [0.42488453, 0.01514081, 0.66425242, 0.85351326]])"
            ]
          },
          "metadata": {
            "tags": []
          },
          "execution_count": 36
        }
      ]
    },
    {
      "cell_type": "markdown",
      "metadata": {
        "id": "OPXsx7TKxQt-"
      },
      "source": [
        "(a) Addition"
      ]
    },
    {
      "cell_type": "code",
      "metadata": {
        "id": "ccXAU7oGxRSO",
        "colab": {
          "base_uri": "https://localhost:8080/",
          "height": 101
        },
        "outputId": "3bd0ce47-c1bd-4c63-b89a-7a12c005e2cf"
      },
      "source": [
        "np.add(arr2d1,arr2d2)"
      ],
      "execution_count": null,
      "outputs": [
        {
          "output_type": "execute_result",
          "data": {
            "text/plain": [
              "array([[0.00869583, 1.25894846, 0.79727752, 1.31512415],\n",
              "       [1.59536078, 0.38881369, 1.40209234, 1.33230723],\n",
              "       [0.55521847, 1.04302276, 0.41805779, 0.87803028],\n",
              "       [0.79040176, 1.05471443, 1.13660778, 0.77547999],\n",
              "       [1.23119919, 0.25531936, 1.55337018, 1.4269938 ]])"
            ]
          },
          "metadata": {
            "tags": []
          },
          "execution_count": 38
        }
      ]
    },
    {
      "cell_type": "markdown",
      "metadata": {
        "id": "okXH1VjYxRwd"
      },
      "source": [
        "(b) Multiplication"
      ]
    },
    {
      "cell_type": "code",
      "metadata": {
        "id": "bHsuAXc_xUy-",
        "colab": {
          "base_uri": "https://localhost:8080/",
          "height": 101
        },
        "outputId": "db1111ad-b2a4-49ab-e4ca-d45650cbd608"
      },
      "source": [
        "np.multiply(arr2d1, arr2d2)"
      ],
      "execution_count": null,
      "outputs": [
        {
          "output_type": "execute_result",
          "data": {
            "text/plain": [
              "array([[1.89034368e-05, 2.66053839e-01, 4.22010853e-02, 4.28481361e-01],\n",
              "       [6.11440865e-01, 1.12321426e-02, 4.37507345e-01, 3.74142734e-01],\n",
              "       [3.82375687e-02, 2.34812726e-01, 3.05993964e-02, 1.32430342e-01],\n",
              "       [1.51153202e-01, 9.92243108e-02, 3.16169116e-01, 1.45578513e-01],\n",
              "       [3.42590623e-01, 3.63649802e-03, 5.90598626e-01, 4.89473247e-01]])"
            ]
          },
          "metadata": {
            "tags": []
          },
          "execution_count": 39
        }
      ]
    },
    {
      "cell_type": "markdown",
      "metadata": {
        "id": "HyVT6l9UxVfN"
      },
      "source": [
        "(c) Division"
      ]
    },
    {
      "cell_type": "code",
      "metadata": {
        "id": "XMAIBB-_xXvF",
        "colab": {
          "base_uri": "https://localhost:8080/",
          "height": 101
        },
        "outputId": "99280bdd-cdf6-4ec3-e2e8-f540382d4bf0"
      },
      "source": [
        "np.divide(arr2d1, arr2d2)"
      ],
      "execution_count": null,
      "outputs": [
        {
          "output_type": "execute_result",
          "data": {
            "text/plain": [
              "array([[ 0.98607493,  3.68595762, 12.98543373,  0.82639836],\n",
              "       [ 0.66995925,  0.08794071,  0.50223811,  0.43257969],\n",
              "       [ 0.16971629,  0.46023478,  3.41915637,  0.28257538],\n",
              "       [ 1.43744564,  0.10987423,  0.74656588,  0.69778354],\n",
              "       [ 1.89772659, 15.8629912 ,  1.33852394,  0.67190584]])"
            ]
          },
          "metadata": {
            "tags": []
          },
          "execution_count": 40
        }
      ]
    },
    {
      "cell_type": "markdown",
      "metadata": {
        "id": "-ZafPSwMxZmt"
      },
      "source": [
        "(d) Subtraction"
      ]
    },
    {
      "cell_type": "code",
      "metadata": {
        "id": "beTEkFzWxaW1",
        "colab": {
          "base_uri": "https://localhost:8080/",
          "height": 185
        },
        "outputId": "3ec67311-6b1e-49e9-cb6c-4ffd6f04bcd6"
      },
      "source": [
        "np.subtract(arr2d1,arr2d2)"
      ],
      "execution_count": null,
      "outputs": [
        {
          "output_type": "execute_result",
          "data": {
            "text/plain": [
              "array([[-6.09695150e-05,  7.21620317e-01,  6.83262105e-01,\n",
              "        -1.25004334e-01],\n",
              "       [-3.15297557e-01, -3.25956313e-01, -4.64578899e-01,\n",
              "        -5.27704100e-01],\n",
              "       [-3.94103132e-01, -3.85545811e-01,  2.28855255e-01,\n",
              "        -4.91137246e-01],\n",
              "       [ 1.41852519e-01, -8.45887280e-01, -1.64926614e-01,\n",
              "        -1.38040457e-01],\n",
              "       [ 3.81430136e-01,  2.25037740e-01,  2.24865348e-01,\n",
              "        -2.80032713e-01]])"
            ]
          },
          "metadata": {
            "tags": []
          },
          "execution_count": 41
        }
      ]
    },
    {
      "cell_type": "markdown",
      "metadata": {
        "id": "yCnPZmHYxast"
      },
      "source": [
        "(e) Power"
      ]
    },
    {
      "cell_type": "code",
      "metadata": {
        "id": "grPI5DFYxa-t",
        "colab": {
          "base_uri": "https://localhost:8080/",
          "height": 101
        },
        "outputId": "3240b4bf-34db-4395-ec0f-4550644c48bc"
      },
      "source": [
        "np.power(arr2d1, arr2d2)"
      ],
      "execution_count": null,
      "outputs": [
        {
          "output_type": "execute_result",
          "data": {
            "text/plain": [
              "array([[0.97644114, 0.99738044, 0.9830016 , 0.68812798],\n",
              "       [0.65291789, 0.29038017, 0.49304163, 0.42877639],\n",
              "       [0.30253235, 0.4517456 , 0.89872736, 0.32478143],\n",
              "       [0.78073633, 0.1168218 , 0.62514454, 0.593167  ],\n",
              "       [0.91258901, 0.97863509, 0.92490278, 0.62214627]])"
            ]
          },
          "metadata": {
            "tags": []
          },
          "execution_count": 42
        }
      ]
    },
    {
      "cell_type": "markdown",
      "metadata": {
        "id": "QRX4_YUfxdgt"
      },
      "source": [
        "(f) Maximum & Minimum of two arrays"
      ]
    },
    {
      "cell_type": "code",
      "metadata": {
        "id": "Eb2sQE3_xgU1",
        "colab": {
          "base_uri": "https://localhost:8080/",
          "height": 101
        },
        "outputId": "96959154-78f6-414f-cd1e-0da829c93f40"
      },
      "source": [
        "#maximum\n",
        "np.maximum(arr2d1, arr2d2)"
      ],
      "execution_count": null,
      "outputs": [
        {
          "output_type": "execute_result",
          "data": {
            "text/plain": [
              "array([[0.0043784 , 0.99028439, 0.74026981, 0.72006424],\n",
              "       [0.95532917, 0.357385  , 0.93333562, 0.93000566],\n",
              "       [0.4746608 , 0.71428429, 0.32345652, 0.68458376],\n",
              "       [0.46612714, 0.95030086, 0.6507672 , 0.45676022],\n",
              "       [0.80631466, 0.24017855, 0.88911777, 0.85351326]])"
            ]
          },
          "metadata": {
            "tags": []
          },
          "execution_count": 43
        }
      ]
    },
    {
      "cell_type": "code",
      "metadata": {
        "id": "08JwIILC0R-t",
        "colab": {
          "base_uri": "https://localhost:8080/",
          "height": 101
        },
        "outputId": "f4e63629-324a-42dd-c643-a1b3de5ecbe9"
      },
      "source": [
        "#minimum\n",
        "np.minimum(arr2d1, arr2d2)"
      ],
      "execution_count": null,
      "outputs": [
        {
          "output_type": "execute_result",
          "data": {
            "text/plain": [
              "array([[0.00431743, 0.26866407, 0.05700771, 0.59505991],\n",
              "       [0.64003161, 0.03142869, 0.46875672, 0.40230156],\n",
              "       [0.08055767, 0.32873847, 0.09460127, 0.19344651],\n",
              "       [0.32427462, 0.10441358, 0.48584058, 0.31871977],\n",
              "       [0.42488453, 0.01514081, 0.66425242, 0.57348054]])"
            ]
          },
          "metadata": {
            "tags": []
          },
          "execution_count": 44
        }
      ]
    },
    {
      "cell_type": "markdown",
      "metadata": {
        "id": "eJ5hf5yxxhGV"
      },
      "source": [
        "(g) Mod of two arrays"
      ]
    },
    {
      "cell_type": "code",
      "metadata": {
        "id": "aciW_DDkxi7V",
        "colab": {
          "base_uri": "https://localhost:8080/",
          "height": 101
        },
        "outputId": "476d7333-3d2c-4dd9-af77-225a62dd33e4"
      },
      "source": [
        "np.mod(arr2d1, arr2d2)"
      ],
      "execution_count": null,
      "outputs": [
        {
          "output_type": "execute_result",
          "data": {
            "text/plain": [
              "array([[0.00431743, 0.18429217, 0.05617732, 0.59505991],\n",
              "       [0.64003161, 0.03142869, 0.46875672, 0.40230156],\n",
              "       [0.08055767, 0.32873847, 0.03965272, 0.19344651],\n",
              "       [0.14185252, 0.10441358, 0.48584058, 0.31871977],\n",
              "       [0.38143014, 0.01306639, 0.22486535, 0.57348054]])"
            ]
          },
          "metadata": {
            "tags": []
          },
          "execution_count": 45
        }
      ]
    },
    {
      "cell_type": "markdown",
      "metadata": {
        "id": "XyHtBrV0xjTd"
      },
      "source": [
        "(h) Copy the sign of one array to another"
      ]
    },
    {
      "cell_type": "code",
      "metadata": {
        "id": "Mn7kbsufxk09",
        "colab": {
          "base_uri": "https://localhost:8080/",
          "height": 101
        },
        "outputId": "89bd5fd4-5c06-48cc-8019-ab96d2489237"
      },
      "source": [
        "np.copysign(arr2d1, arr2d2)"
      ],
      "execution_count": null,
      "outputs": [
        {
          "output_type": "execute_result",
          "data": {
            "text/plain": [
              "array([[0.00431743, 0.99028439, 0.74026981, 0.59505991],\n",
              "       [0.64003161, 0.03142869, 0.46875672, 0.40230156],\n",
              "       [0.08055767, 0.32873847, 0.32345652, 0.19344651],\n",
              "       [0.46612714, 0.10441358, 0.48584058, 0.31871977],\n",
              "       [0.80631466, 0.24017855, 0.88911777, 0.57348054]])"
            ]
          },
          "metadata": {
            "tags": []
          },
          "execution_count": 46
        }
      ]
    },
    {
      "cell_type": "markdown",
      "metadata": {
        "id": "jZKEzgeFxnrG"
      },
      "source": [
        "(i) Compare elements: >, >=, ==, <=, <"
      ]
    },
    {
      "cell_type": "code",
      "metadata": {
        "id": "TueBnOclxoT1",
        "colab": {
          "base_uri": "https://localhost:8080/",
          "height": 101
        },
        "outputId": "c5e2aaf4-66cf-4312-f728-46bfbcb3caed"
      },
      "source": [
        "#greater\n",
        "np.greater(arr2d1, arr2d2)"
      ],
      "execution_count": null,
      "outputs": [
        {
          "output_type": "execute_result",
          "data": {
            "text/plain": [
              "array([[False,  True,  True, False],\n",
              "       [False, False, False, False],\n",
              "       [False, False,  True, False],\n",
              "       [ True, False, False, False],\n",
              "       [ True,  True,  True, False]])"
            ]
          },
          "metadata": {
            "tags": []
          },
          "execution_count": 47
        }
      ]
    },
    {
      "cell_type": "code",
      "metadata": {
        "id": "hsLtfspn0hut",
        "colab": {
          "base_uri": "https://localhost:8080/",
          "height": 101
        },
        "outputId": "cbb87720-45c7-43c8-9e7a-8bf98e0c369a"
      },
      "source": [
        "#greater or equal\n",
        "np.greater_equal(arr2d1, arr2d2)"
      ],
      "execution_count": null,
      "outputs": [
        {
          "output_type": "execute_result",
          "data": {
            "text/plain": [
              "array([[False,  True,  True, False],\n",
              "       [False, False, False, False],\n",
              "       [False, False,  True, False],\n",
              "       [ True, False, False, False],\n",
              "       [ True,  True,  True, False]])"
            ]
          },
          "metadata": {
            "tags": []
          },
          "execution_count": 48
        }
      ]
    },
    {
      "cell_type": "code",
      "metadata": {
        "id": "r4OVZH7S0i6l",
        "colab": {
          "base_uri": "https://localhost:8080/",
          "height": 101
        },
        "outputId": "6acfa971-a85b-4ef3-833c-7d4647fa966e"
      },
      "source": [
        "#less\n",
        "np.less(arr2d1, arr2d2)"
      ],
      "execution_count": null,
      "outputs": [
        {
          "output_type": "execute_result",
          "data": {
            "text/plain": [
              "array([[ True, False, False,  True],\n",
              "       [ True,  True,  True,  True],\n",
              "       [ True,  True, False,  True],\n",
              "       [False,  True,  True,  True],\n",
              "       [False, False, False,  True]])"
            ]
          },
          "metadata": {
            "tags": []
          },
          "execution_count": 49
        }
      ]
    },
    {
      "cell_type": "code",
      "metadata": {
        "id": "kQxshxxI0kVt",
        "colab": {
          "base_uri": "https://localhost:8080/",
          "height": 101
        },
        "outputId": "0f7dfd33-0c2c-4423-95ba-8ea08e6f7b25"
      },
      "source": [
        "#less or equal\n",
        "np.less_equal(arr2d1, arr2d2)"
      ],
      "execution_count": null,
      "outputs": [
        {
          "output_type": "execute_result",
          "data": {
            "text/plain": [
              "array([[ True, False, False,  True],\n",
              "       [ True,  True,  True,  True],\n",
              "       [ True,  True, False,  True],\n",
              "       [False,  True,  True,  True],\n",
              "       [False, False, False,  True]])"
            ]
          },
          "metadata": {
            "tags": []
          },
          "execution_count": 50
        }
      ]
    },
    {
      "cell_type": "code",
      "metadata": {
        "id": "771v-bpx0mAt",
        "colab": {
          "base_uri": "https://localhost:8080/",
          "height": 101
        },
        "outputId": "f8e763d5-41d0-472a-8958-71ebadd16168"
      },
      "source": [
        "#equal\n",
        "np.equal(arr2d1, arr2d2)"
      ],
      "execution_count": null,
      "outputs": [
        {
          "output_type": "execute_result",
          "data": {
            "text/plain": [
              "array([[False, False, False, False],\n",
              "       [False, False, False, False],\n",
              "       [False, False, False, False],\n",
              "       [False, False, False, False],\n",
              "       [False, False, False, False]])"
            ]
          },
          "metadata": {
            "tags": []
          },
          "execution_count": 51
        }
      ]
    },
    {
      "cell_type": "markdown",
      "metadata": {
        "id": "ec1ULfYhxpR-"
      },
      "source": [
        "(j) Logical Operations: AND, OR, XOR"
      ]
    },
    {
      "cell_type": "code",
      "metadata": {
        "id": "AgqpeTcMxrnm",
        "colab": {
          "base_uri": "https://localhost:8080/",
          "height": 101
        },
        "outputId": "da98cad0-652f-42a7-ef35-8da296d26f67"
      },
      "source": [
        "#logical and\n",
        "np.logical_and(arr2d1, arr2d2)"
      ],
      "execution_count": null,
      "outputs": [
        {
          "output_type": "execute_result",
          "data": {
            "text/plain": [
              "array([[ True,  True,  True,  True],\n",
              "       [ True,  True,  True,  True],\n",
              "       [ True,  True,  True,  True],\n",
              "       [ True,  True,  True,  True],\n",
              "       [ True,  True,  True,  True]])"
            ]
          },
          "metadata": {
            "tags": []
          },
          "execution_count": 52
        }
      ]
    },
    {
      "cell_type": "code",
      "metadata": {
        "id": "iCrdb4-40q0e",
        "colab": {
          "base_uri": "https://localhost:8080/",
          "height": 101
        },
        "outputId": "df190a6c-a0d5-4c05-8916-711770717561"
      },
      "source": [
        "#logical or\n",
        "np.logical_or(arr2d1, arr2d2)"
      ],
      "execution_count": null,
      "outputs": [
        {
          "output_type": "execute_result",
          "data": {
            "text/plain": [
              "array([[ True,  True,  True,  True],\n",
              "       [ True,  True,  True,  True],\n",
              "       [ True,  True,  True,  True],\n",
              "       [ True,  True,  True,  True],\n",
              "       [ True,  True,  True,  True]])"
            ]
          },
          "metadata": {
            "tags": []
          },
          "execution_count": 53
        }
      ]
    },
    {
      "cell_type": "code",
      "metadata": {
        "id": "j_VIdO8G0sBU",
        "colab": {
          "base_uri": "https://localhost:8080/",
          "height": 101
        },
        "outputId": "96d5657d-ba90-4cb7-8c2f-474e33f4a426"
      },
      "source": [
        "#logical xor\n",
        "np.logical_xor(arr2d1, arr2d2)"
      ],
      "execution_count": null,
      "outputs": [
        {
          "output_type": "execute_result",
          "data": {
            "text/plain": [
              "array([[False, False, False, False],\n",
              "       [False, False, False, False],\n",
              "       [False, False, False, False],\n",
              "       [False, False, False, False],\n",
              "       [False, False, False, False]])"
            ]
          },
          "metadata": {
            "tags": []
          },
          "execution_count": 54
        }
      ]
    },
    {
      "cell_type": "markdown",
      "metadata": {
        "id": "dTm5pEVlxr9N"
      },
      "source": [
        "3. Create an array of size 30x10 having random elements in the range -100 to 100. Perform the following operations on the array."
      ]
    },
    {
      "cell_type": "code",
      "metadata": {
        "id": "Zj4Hu4dB3iTR",
        "colab": {
          "base_uri": "https://localhost:8080/",
          "height": 1000
        },
        "outputId": "958b1b77-8d3e-46ae-cc53-630fb12baf04"
      },
      "source": [
        "arr1=np.random.rand(300).reshape((30,10))\n",
        "arr1"
      ],
      "execution_count": null,
      "outputs": [
        {
          "output_type": "execute_result",
          "data": {
            "text/plain": [
              "array([[0.52691571, 0.03316497, 0.40532508, 0.99273029, 0.60807685,\n",
              "        0.54807228, 0.64409461, 0.52319972, 0.12050407, 0.14778165],\n",
              "       [0.24376438, 0.39563068, 0.99393118, 0.90163701, 0.76922023,\n",
              "        0.01830552, 0.05535068, 0.76956475, 0.48114575, 0.09415809],\n",
              "       [0.56714918, 0.20702209, 0.84371943, 0.0566919 , 0.80478517,\n",
              "        0.01718306, 0.19011445, 0.14163252, 0.7557416 , 0.61793281],\n",
              "       [0.82834054, 0.58436332, 0.25203382, 0.53822279, 0.98890385,\n",
              "        0.47000411, 0.73596332, 0.6750731 , 0.26918374, 0.04946888],\n",
              "       [0.99258427, 0.73787788, 0.20189538, 0.9327988 , 0.97832513,\n",
              "        0.30898509, 0.81275994, 0.90274413, 0.57182576, 0.66224336],\n",
              "       [0.38979243, 0.65316095, 0.70972973, 0.43570413, 0.72135067,\n",
              "        0.65543785, 0.13132693, 0.79180631, 0.34222937, 0.01662677],\n",
              "       [0.41080374, 0.31173813, 0.2841824 , 0.03358243, 0.46072786,\n",
              "        0.12505266, 0.95749508, 0.60088742, 0.04427126, 0.40922959],\n",
              "       [0.49119971, 0.48896546, 0.17277025, 0.96172482, 0.26379785,\n",
              "        0.29261224, 0.53352139, 0.31604571, 0.00934413, 0.81942658],\n",
              "       [0.05526286, 0.42193915, 0.3863391 , 0.92335066, 0.54506985,\n",
              "        0.80175742, 0.53360778, 0.61194522, 0.37153545, 0.78636131],\n",
              "       [0.38251249, 0.59969938, 0.1150732 , 0.87131986, 0.82167   ,\n",
              "        0.00168578, 0.45656044, 0.37153711, 0.61015558, 0.90886437],\n",
              "       [0.02897597, 0.56621804, 0.30474343, 0.34977378, 0.96087082,\n",
              "        0.35984816, 0.84666385, 0.99824912, 0.06356099, 0.46274185],\n",
              "       [0.42296141, 0.322333  , 0.88944285, 0.23466217, 0.97138181,\n",
              "        0.24907621, 0.40223269, 0.87223942, 0.85265833, 0.63310938],\n",
              "       [0.51269991, 0.03135275, 0.01803896, 0.18239581, 0.60245349,\n",
              "        0.53468592, 0.08080448, 0.05022309, 0.41666129, 0.78818496],\n",
              "       [0.26402517, 0.90669143, 0.69698346, 0.96806467, 0.25232103,\n",
              "        0.07170773, 0.95521458, 0.11929259, 0.06045754, 0.88201653],\n",
              "       [0.45106935, 0.38120972, 0.22201238, 0.61200245, 0.22370748,\n",
              "        0.06310176, 0.52474899, 0.97347481, 0.27672826, 0.42258285],\n",
              "       [0.04847611, 0.06806043, 0.63650948, 0.80148385, 0.71930098,\n",
              "        0.09166261, 0.78548617, 0.1244933 , 0.16888174, 0.69956062],\n",
              "       [0.04406823, 0.10672154, 0.55176621, 0.70935589, 0.62118482,\n",
              "        0.4756569 , 0.73494979, 0.90778374, 0.16852949, 0.2655533 ],\n",
              "       [0.53254373, 0.34687882, 0.53082485, 0.13079596, 0.53338792,\n",
              "        0.19109476, 0.05371946, 0.61266855, 0.12430005, 0.06438842],\n",
              "       [0.59770835, 0.16833211, 0.41379215, 0.74789554, 0.38046835,\n",
              "        0.21922989, 0.58387989, 0.10925286, 0.01501248, 0.98206211],\n",
              "       [0.18459157, 0.58154505, 0.65747351, 0.77242412, 0.39390719,\n",
              "        0.60669375, 0.54354533, 0.00874783, 0.79040109, 0.3031343 ],\n",
              "       [0.96927639, 0.37052281, 0.09297092, 0.05873347, 0.96947871,\n",
              "        0.80375074, 0.24855813, 0.88211046, 0.32775953, 0.6823293 ],\n",
              "       [0.72655899, 0.73054689, 0.83089248, 0.05332057, 0.41866285,\n",
              "        0.14438997, 0.72968789, 0.65818398, 0.22567249, 0.96223026],\n",
              "       [0.30081538, 0.30759519, 0.01288416, 0.87460167, 0.63581579,\n",
              "        0.53518429, 0.85699988, 0.10660252, 0.8525484 , 0.41939072],\n",
              "       [0.06988459, 0.33328993, 0.92689145, 0.34240634, 0.42910385,\n",
              "        0.05261085, 0.30700071, 0.76538445, 0.25173996, 0.36527546],\n",
              "       [0.80620484, 0.4064315 , 0.15988558, 0.89212913, 0.74592534,\n",
              "        0.79968999, 0.50670187, 0.55014469, 0.76605095, 0.00657635],\n",
              "       [0.57035171, 0.33549553, 0.16114677, 0.63048874, 0.13250221,\n",
              "        0.33901556, 0.31050472, 0.49591283, 0.57973273, 0.646588  ],\n",
              "       [0.67705093, 0.53241788, 0.84910613, 0.14879223, 0.03814732,\n",
              "        0.69342612, 0.25451778, 0.31976892, 0.68131123, 0.90377521],\n",
              "       [0.1752364 , 0.80949657, 0.88990927, 0.98402339, 0.9193946 ,\n",
              "        0.92260554, 0.48020082, 0.02902971, 0.25780703, 0.60822967],\n",
              "       [0.59808257, 0.97910487, 0.24470047, 0.41176368, 0.07183201,\n",
              "        0.55448871, 0.54605145, 0.25038631, 0.21183232, 0.37221833],\n",
              "       [0.67554349, 0.85877603, 0.23850501, 0.1076266 , 0.17929327,\n",
              "        0.9006786 , 0.56182378, 0.33428723, 0.82999114, 0.89724728]])"
            ]
          },
          "metadata": {
            "tags": []
          },
          "execution_count": 83
        }
      ]
    },
    {
      "cell_type": "code",
      "metadata": {
        "id": "VG015t494Bki",
        "colab": {
          "base_uri": "https://localhost:8080/",
          "height": 1000
        },
        "outputId": "4c3c5164-9f81-4dff-b0ce-e3fac4408a80"
      },
      "source": [
        "data=arr1*100\n",
        "data"
      ],
      "execution_count": null,
      "outputs": [
        {
          "output_type": "execute_result",
          "data": {
            "text/plain": [
              "array([[52.69157148,  3.31649736, 40.5325083 , 99.27302922, 60.80768497,\n",
              "        54.80722824, 64.40946138, 52.31997204, 12.05040658, 14.77816493],\n",
              "       [24.37643808, 39.56306832, 99.39311811, 90.16370074, 76.92202275,\n",
              "         1.83055225,  5.53506805, 76.95647512, 48.11457524,  9.41580922],\n",
              "       [56.71491759, 20.70220891, 84.3719429 ,  5.66919016, 80.4785167 ,\n",
              "         1.71830616, 19.01144527, 14.1632521 , 75.57416021, 61.79328075],\n",
              "       [82.83405371, 58.43633232, 25.20338249, 53.8222794 , 98.89038518,\n",
              "        47.00041065, 73.59633235, 67.50730998, 26.91837427,  4.94688841],\n",
              "       [99.25842738, 73.78778806, 20.1895379 , 93.27988029, 97.83251275,\n",
              "        30.89850944, 81.27599352, 90.27441343, 57.18257626, 66.22433611],\n",
              "       [38.97924279, 65.31609539, 70.97297293, 43.57041348, 72.13506697,\n",
              "        65.54378468, 13.13269277, 79.18063051, 34.2229366 ,  1.66267693],\n",
              "       [41.08037445, 31.17381332, 28.41823955,  3.35824338, 46.07278638,\n",
              "        12.50526558, 95.74950752, 60.08874153,  4.42712619, 40.92295914],\n",
              "       [49.11997077, 48.89654647, 17.27702512, 96.17248167, 26.37978542,\n",
              "        29.2612239 , 53.35213877, 31.60457125,  0.93441299, 81.94265808],\n",
              "       [ 5.52628561, 42.19391481, 38.63391001, 92.33506573, 54.50698491,\n",
              "        80.17574151, 53.36077803, 61.19452236, 37.15354463, 78.63613085],\n",
              "       [38.25124862, 59.96993773, 11.5073201 , 87.13198587, 82.16700005,\n",
              "         0.16857794, 45.65604437, 37.15371117, 61.01555832, 90.88643734],\n",
              "       [ 2.89759724, 56.62180366, 30.47434275, 34.97737785, 96.0870818 ,\n",
              "        35.98481581, 84.66638531, 99.824912  ,  6.35609938, 46.27418524],\n",
              "       [42.29614111, 32.23330005, 88.94428507, 23.46621654, 97.13818145,\n",
              "        24.90762063, 40.22326895, 87.22394185, 85.26583259, 63.3109382 ],\n",
              "       [51.26999109,  3.13527474,  1.80389634, 18.2395815 , 60.24534939,\n",
              "        53.46859249,  8.08044833,  5.02230864, 41.66612918, 78.81849594],\n",
              "       [26.40251719, 90.66914255, 69.69834563, 96.8064668 , 25.23210329,\n",
              "         7.17077288, 95.52145821, 11.92925871,  6.04575433, 88.20165261],\n",
              "       [45.10693514, 38.12097179, 22.20123822, 61.20024469, 22.37074815,\n",
              "         6.31017585, 52.47489879, 97.34748093, 27.67282582, 42.25828533],\n",
              "       [ 4.84761124,  6.80604254, 63.65094822, 80.14838487, 71.93009797,\n",
              "         9.16626138, 78.54861691, 12.44932998, 16.88817373, 69.9560624 ],\n",
              "       [ 4.40682267, 10.67215413, 55.17662075, 70.93558901, 62.11848228,\n",
              "        47.56568998, 73.49497895, 90.7783738 , 16.85294886, 26.55533043],\n",
              "       [53.25437333, 34.68788248, 53.08248522, 13.07959553, 53.33879162,\n",
              "        19.10947612,  5.37194628, 61.26685542, 12.43000451,  6.43884166],\n",
              "       [59.77083464, 16.83321052, 41.37921472, 74.78955408, 38.0468345 ,\n",
              "        21.9229886 , 58.38798926, 10.92528602,  1.50124775, 98.20621137],\n",
              "       [18.45915735, 58.15450498, 65.74735094, 77.24241181, 39.39071871,\n",
              "        60.66937543, 54.35453252,  0.87478267, 79.04010853, 30.31342959],\n",
              "       [96.9276393 , 37.05228122,  9.29709164,  5.87334677, 96.9478714 ,\n",
              "        80.37507397, 24.85581273, 88.2110463 , 32.77595283, 68.23292959],\n",
              "       [72.65589871, 73.05468933, 83.08924839,  5.33205738, 41.86628501,\n",
              "        14.43899666, 72.96878882, 65.81839822, 22.56724922, 96.22302572],\n",
              "       [30.08153755, 30.75951897,  1.28841573, 87.46016658, 63.58157902,\n",
              "        53.51842948, 85.69998831, 10.66025166, 85.25484012, 41.93907228],\n",
              "       [ 6.98845872, 33.32899276, 92.68914492, 34.24063418, 42.91038493,\n",
              "         5.26108488, 30.70007091, 76.53844493, 25.17399587, 36.52754564],\n",
              "       [80.62048433, 40.64314997, 15.98855767, 89.21291274, 74.59253393,\n",
              "        79.96899874, 50.67018721, 55.01446889, 76.60509474,  0.65763487],\n",
              "       [57.03517092, 33.54955258, 16.11467673, 63.04887385, 13.250221  ,\n",
              "        33.90155626, 31.05047225, 49.59128301, 57.97327265, 64.65880018],\n",
              "       [67.70509336, 53.24178752, 84.91061345, 14.87922273,  3.81473188,\n",
              "        69.34261159, 25.45177828, 31.97689205, 68.13112322, 90.37752084],\n",
              "       [17.52363997, 80.94965744, 88.99092671, 98.40233925, 91.9394595 ,\n",
              "        92.26055373, 48.02008158,  2.90297073, 25.78070342, 60.82296699],\n",
              "       [59.80825703, 97.91048668, 24.47004716, 41.17636775,  7.18320101,\n",
              "        55.44887129, 54.6051449 , 25.03863063, 21.18323191, 37.22183292],\n",
              "       [67.55434895, 85.87760276, 23.85050125, 10.76265989, 17.9293271 ,\n",
              "        90.0678601 , 56.18237824, 33.42872288, 82.99911353, 89.72472824]])"
            ]
          },
          "metadata": {
            "tags": []
          },
          "execution_count": 84
        }
      ]
    },
    {
      "cell_type": "code",
      "metadata": {
        "id": "KJx_1JwUxu2N",
        "colab": {
          "base_uri": "https://localhost:8080/",
          "height": 178
        },
        "outputId": "271d8284-e8f1-499a-deb6-d3b14e984797"
      },
      "source": [
        "arr2d = np.arange(-100,100,0.67).reshape((30, 10))\n",
        "arr2d"
      ],
      "execution_count": null,
      "outputs": [
        {
          "output_type": "error",
          "ename": "ValueError",
          "evalue": "ignored",
          "traceback": [
            "\u001b[0;31m---------------------------------------------------------------------------\u001b[0m",
            "\u001b[0;31mValueError\u001b[0m                                Traceback (most recent call last)",
            "\u001b[0;32m<ipython-input-6-e71ebfe3cd27>\u001b[0m in \u001b[0;36m<module>\u001b[0;34m()\u001b[0m\n\u001b[0;32m----> 1\u001b[0;31m \u001b[0marr2d\u001b[0m \u001b[0;34m=\u001b[0m \u001b[0mnp\u001b[0m\u001b[0;34m.\u001b[0m\u001b[0marange\u001b[0m\u001b[0;34m(\u001b[0m\u001b[0;34m-\u001b[0m\u001b[0;36m100\u001b[0m\u001b[0;34m,\u001b[0m\u001b[0;36m100\u001b[0m\u001b[0;34m,\u001b[0m\u001b[0;36m0.67\u001b[0m\u001b[0;34m)\u001b[0m\u001b[0;34m.\u001b[0m\u001b[0mreshape\u001b[0m\u001b[0;34m(\u001b[0m\u001b[0;34m(\u001b[0m\u001b[0;36m30\u001b[0m\u001b[0;34m,\u001b[0m \u001b[0;36m10\u001b[0m\u001b[0;34m)\u001b[0m\u001b[0;34m)\u001b[0m\u001b[0;34m\u001b[0m\u001b[0;34m\u001b[0m\u001b[0m\n\u001b[0m\u001b[1;32m      2\u001b[0m \u001b[0marr2d\u001b[0m\u001b[0;34m\u001b[0m\u001b[0;34m\u001b[0m\u001b[0m\n",
            "\u001b[0;31mValueError\u001b[0m: cannot reshape array of size 299 into shape (30,10)"
          ]
        }
      ]
    },
    {
      "cell_type": "markdown",
      "metadata": {
        "id": "MA2BdhOyxvUu"
      },
      "source": [
        "(a) Sum of the array"
      ]
    },
    {
      "cell_type": "code",
      "metadata": {
        "id": "mJRQhb8n8QlM",
        "colab": {
          "base_uri": "https://localhost:8080/",
          "height": 34
        },
        "outputId": "09e173bc-72f7-4cbe-ab03-512dd806955a"
      },
      "source": [
        "data.sum()"
      ],
      "execution_count": null,
      "outputs": [
        {
          "output_type": "execute_result",
          "data": {
            "text/plain": [
              "14409.739701455306"
            ]
          },
          "metadata": {
            "tags": []
          },
          "execution_count": 86
        }
      ]
    },
    {
      "cell_type": "code",
      "metadata": {
        "id": "lwL5kE8a8hkd",
        "colab": {
          "base_uri": "https://localhost:8080/",
          "height": 34
        },
        "outputId": "e1584cd2-5372-449a-9656-ef149e84dd99"
      },
      "source": [
        "#using np function\n",
        "np.sum(data)"
      ],
      "execution_count": null,
      "outputs": [
        {
          "output_type": "execute_result",
          "data": {
            "text/plain": [
              "14409.739701455303"
            ]
          },
          "metadata": {
            "tags": []
          },
          "execution_count": 105
        }
      ]
    },
    {
      "cell_type": "markdown",
      "metadata": {
        "id": "d58qTEy7xx5d"
      },
      "source": [
        "(b) Mean of the array"
      ]
    },
    {
      "cell_type": "code",
      "metadata": {
        "id": "wvWCXTKpx1Xd",
        "colab": {
          "base_uri": "https://localhost:8080/",
          "height": 34
        },
        "outputId": "8df2531b-e70e-4b38-a3e8-c18a8ab006cf"
      },
      "source": [
        "data.mean()\n"
      ],
      "execution_count": null,
      "outputs": [
        {
          "output_type": "execute_result",
          "data": {
            "text/plain": [
              "48.032465671517684"
            ]
          },
          "metadata": {
            "tags": []
          },
          "execution_count": 88
        }
      ]
    },
    {
      "cell_type": "code",
      "metadata": {
        "id": "A4tjKy_Q8nxE",
        "colab": {
          "base_uri": "https://localhost:8080/",
          "height": 34
        },
        "outputId": "1be5121b-d910-45a9-b211-617e6ba4dcb2"
      },
      "source": [
        "#using np function\n",
        "np.mean(data)"
      ],
      "execution_count": null,
      "outputs": [
        {
          "output_type": "execute_result",
          "data": {
            "text/plain": [
              "48.032465671517684"
            ]
          },
          "metadata": {
            "tags": []
          },
          "execution_count": 89
        }
      ]
    },
    {
      "cell_type": "markdown",
      "metadata": {
        "id": "mWdcL4-Xx16d"
      },
      "source": [
        "(c) Standard Deviation of the array"
      ]
    },
    {
      "cell_type": "code",
      "metadata": {
        "id": "yrRGGVunx2ke",
        "colab": {
          "base_uri": "https://localhost:8080/",
          "height": 34
        },
        "outputId": "57963569-f80d-4027-f073-6725db4f3461"
      },
      "source": [
        "data.std()"
      ],
      "execution_count": null,
      "outputs": [
        {
          "output_type": "execute_result",
          "data": {
            "text/plain": [
              "29.711491354628745"
            ]
          },
          "metadata": {
            "tags": []
          },
          "execution_count": 95
        }
      ]
    },
    {
      "cell_type": "code",
      "metadata": {
        "id": "2J0YbiBh82fY",
        "colab": {
          "base_uri": "https://localhost:8080/",
          "height": 34
        },
        "outputId": "d40cbbed-1c23-431e-a6a1-7f383998a252"
      },
      "source": [
        "#using np function\n",
        "np.std(data)"
      ],
      "execution_count": null,
      "outputs": [
        {
          "output_type": "execute_result",
          "data": {
            "text/plain": [
              "29.711491354628745"
            ]
          },
          "metadata": {
            "tags": []
          },
          "execution_count": 94
        }
      ]
    },
    {
      "cell_type": "markdown",
      "metadata": {
        "id": "oJW4V8zDx6b9"
      },
      "source": [
        "(d) Variance of the array"
      ]
    },
    {
      "cell_type": "code",
      "metadata": {
        "id": "9cHt0WNR9BE8",
        "colab": {
          "base_uri": "https://localhost:8080/",
          "height": 34
        },
        "outputId": "5ab21659-4e3d-4eea-cd3f-c8ab5c7c9283"
      },
      "source": [
        "\n",
        "data.var()"
      ],
      "execution_count": null,
      "outputs": [
        {
          "output_type": "execute_result",
          "data": {
            "text/plain": [
              "882.7727185161787"
            ]
          },
          "metadata": {
            "tags": []
          },
          "execution_count": 96
        }
      ]
    },
    {
      "cell_type": "code",
      "metadata": {
        "id": "Jt60WOZK9CWX",
        "colab": {
          "base_uri": "https://localhost:8080/",
          "height": 34
        },
        "outputId": "896a9d32-1e4f-4ede-85e2-60150d8d88ed"
      },
      "source": [
        "#using np function\n",
        "np.var(data)"
      ],
      "execution_count": null,
      "outputs": [
        {
          "output_type": "execute_result",
          "data": {
            "text/plain": [
              "882.7727185161787"
            ]
          },
          "metadata": {
            "tags": []
          },
          "execution_count": 97
        }
      ]
    },
    {
      "cell_type": "markdown",
      "metadata": {
        "id": "mEhiT8ggx80m"
      },
      "source": [
        "(e) Cumulative Sum for each column"
      ]
    },
    {
      "cell_type": "code",
      "metadata": {
        "id": "zI2zGGvJx8X1",
        "colab": {
          "base_uri": "https://localhost:8080/",
          "height": 1000
        },
        "outputId": "53a3d4cf-ad1a-4139-bdbb-8a7bc4935749"
      },
      "source": [
        "data.cumsum(axis=0)"
      ],
      "execution_count": null,
      "outputs": [
        {
          "output_type": "execute_result",
          "data": {
            "text/plain": [
              "array([[  52.69157148,    3.31649736,   40.5325083 ,   99.27302922,\n",
              "          60.80768497,   54.80722824,   64.40946138,   52.31997204,\n",
              "          12.05040658,   14.77816493],\n",
              "       [  77.06800956,   42.87956569,  139.92562641,  189.43672996,\n",
              "         137.72970772,   56.63778049,   69.94452943,  129.27644715,\n",
              "          60.16498182,   24.19397416],\n",
              "       [ 133.78292715,   63.5817746 ,  224.29756931,  195.10592012,\n",
              "         218.20822442,   58.35608665,   88.9559747 ,  143.43969925,\n",
              "         135.73914202,   85.98725491],\n",
              "       [ 216.61698086,  122.01810692,  249.50095179,  248.92819952,\n",
              "         317.09860961,  105.3564973 ,  162.55230705,  210.94700923,\n",
              "         162.65751629,   90.93414332],\n",
              "       [ 315.87540824,  195.80589498,  269.69048969,  342.20807982,\n",
              "         414.93112235,  136.25500674,  243.82830057,  301.22142266,\n",
              "         219.84009255,  157.15847943],\n",
              "       [ 354.85465103,  261.12199038,  340.66346262,  385.77849329,\n",
              "         487.06618932,  201.79879142,  256.96099334,  380.40205317,\n",
              "         254.06302915,  158.82115636],\n",
              "       [ 395.93502549,  292.2958037 ,  369.08170218,  389.13673667,\n",
              "         533.1389757 ,  214.304057  ,  352.71050086,  440.49079469,\n",
              "         258.49015535,  199.7441155 ],\n",
              "       [ 445.05499625,  341.19235017,  386.3587273 ,  485.30921835,\n",
              "         559.51876112,  243.5652809 ,  406.06263963,  472.09536594,\n",
              "         259.42456834,  281.68677358],\n",
              "       [ 450.58128186,  383.38626498,  424.99263731,  577.64428408,\n",
              "         614.02574603,  323.74102241,  459.42341766,  533.2898883 ,\n",
              "         296.57811297,  360.32290444],\n",
              "       [ 488.83253048,  443.35620271,  436.49995741,  664.77626994,\n",
              "         696.19274608,  323.90960035,  505.07946203,  570.44359947,\n",
              "         357.59367129,  451.20934177],\n",
              "       [ 491.73012772,  499.97800636,  466.97430016,  699.75364779,\n",
              "         792.27982787,  359.89441615,  589.74584734,  670.26851147,\n",
              "         363.94977067,  497.48352701],\n",
              "       [ 534.02626883,  532.21130642,  555.91858523,  723.21986434,\n",
              "         889.41800932,  384.80203678,  629.96911629,  757.49245332,\n",
              "         449.21560326,  560.79446522],\n",
              "       [ 585.29625992,  535.34658115,  557.72248158,  741.45944583,\n",
              "         949.66335871,  438.27062927,  638.04956463,  762.51476196,\n",
              "         490.88173243,  639.61296116],\n",
              "       [ 611.69877711,  626.0157237 ,  627.4208272 ,  838.26591263,\n",
              "         974.895462  ,  445.44140215,  733.57102284,  774.44402067,\n",
              "         496.92748676,  727.81461377],\n",
              "       [ 656.80571225,  664.13669549,  649.62206542,  899.46615732,\n",
              "         997.26621014,  451.75157799,  786.04592163,  871.7915016 ,\n",
              "         524.60031259,  770.0728991 ],\n",
              "       [ 661.65332349,  670.94273803,  713.27301364,  979.61454219,\n",
              "        1069.19630811,  460.91783937,  864.59453854,  884.24083158,\n",
              "         541.48848632,  840.0289615 ],\n",
              "       [ 666.06014616,  681.61489216,  768.44963439, 1050.5501312 ,\n",
              "        1131.31479039,  508.48352935,  938.08951749,  975.01920538,\n",
              "         558.34143517,  866.58429193],\n",
              "       [ 719.31451949,  716.30277465,  821.53211961, 1063.62972673,\n",
              "        1184.65358201,  527.59300547,  943.46146377, 1036.2860608 ,\n",
              "         570.77143968,  873.02313359],\n",
              "       [ 779.08535413,  733.13598517,  862.91133432, 1138.41928081,\n",
              "        1222.70041652,  549.51599407, 1001.84945303, 1047.21134682,\n",
              "         572.27268744,  971.22934496],\n",
              "       [ 797.54451148,  791.29049015,  928.65868527, 1215.66169262,\n",
              "        1262.09113522,  610.18536949, 1056.20398555, 1048.08612948,\n",
              "         651.31279597, 1001.54277455],\n",
              "       [ 894.47215079,  828.34277136,  937.95577691, 1221.53503939,\n",
              "        1359.03900662,  690.56044346, 1081.05979828, 1136.29717579,\n",
              "         684.08874879, 1069.77570414],\n",
              "       [ 967.1280495 ,  901.3974607 , 1021.0450253 , 1226.86709678,\n",
              "        1400.90529163,  704.99944012, 1154.0285871 , 1202.11557401,\n",
              "         706.65599802, 1165.99872986],\n",
              "       [ 997.20958705,  932.15697967, 1022.33344103, 1314.32726335,\n",
              "        1464.48687066,  758.5178696 , 1239.72857541, 1212.77582567,\n",
              "         791.91083814, 1207.93780213],\n",
              "       [1004.19804577,  965.48597242, 1115.02258595, 1348.56789754,\n",
              "        1507.39725559,  763.77895447, 1270.42864633, 1289.3142706 ,\n",
              "         817.08483401, 1244.46534777],\n",
              "       [1084.8185301 , 1006.12912239, 1131.01114362, 1437.78081028,\n",
              "        1581.98978952,  843.74795322, 1321.09883354, 1344.3287395 ,\n",
              "         893.68992875, 1245.12298264],\n",
              "       [1141.85370102, 1039.67867497, 1147.12582035, 1500.82968413,\n",
              "        1595.24001052,  877.64950948, 1352.14930579, 1393.9200225 ,\n",
              "         951.6632014 , 1309.78178282],\n",
              "       [1209.55879438, 1092.92046249, 1232.0364338 , 1515.70890686,\n",
              "        1599.0547424 ,  946.99212107, 1377.60108407, 1425.89691456,\n",
              "        1019.79432462, 1400.15930366],\n",
              "       [1227.08243435, 1173.87011994, 1321.02736051, 1614.1112461 ,\n",
              "        1690.9942019 , 1039.2526748 , 1425.62116564, 1428.79988528,\n",
              "        1045.57502804, 1460.98227065],\n",
              "       [1286.89069137, 1271.78060662, 1345.49740767, 1655.28761385,\n",
              "        1698.17740291, 1094.70154609, 1480.22631055, 1453.83851591,\n",
              "        1066.75825995, 1498.20410357],\n",
              "       [1354.44504033, 1357.65820938, 1369.34790892, 1666.05027375,\n",
              "        1716.10673001, 1184.76940618, 1536.40868879, 1487.26723879,\n",
              "        1149.75737349, 1587.92883181]])"
            ]
          },
          "metadata": {
            "tags": []
          },
          "execution_count": 90
        }
      ]
    },
    {
      "cell_type": "code",
      "metadata": {
        "id": "54YYsojT9Kxc",
        "colab": {
          "base_uri": "https://localhost:8080/",
          "height": 1000
        },
        "outputId": "44c94fa9-b293-4fb2-f5ef-ac613f4740e7"
      },
      "source": [
        "#using np function\n",
        "np.cumsum(data,axis=0)"
      ],
      "execution_count": null,
      "outputs": [
        {
          "output_type": "execute_result",
          "data": {
            "text/plain": [
              "array([[  52.69157148,    3.31649736,   40.5325083 ,   99.27302922,\n",
              "          60.80768497,   54.80722824,   64.40946138,   52.31997204,\n",
              "          12.05040658,   14.77816493],\n",
              "       [  77.06800956,   42.87956569,  139.92562641,  189.43672996,\n",
              "         137.72970772,   56.63778049,   69.94452943,  129.27644715,\n",
              "          60.16498182,   24.19397416],\n",
              "       [ 133.78292715,   63.5817746 ,  224.29756931,  195.10592012,\n",
              "         218.20822442,   58.35608665,   88.9559747 ,  143.43969925,\n",
              "         135.73914202,   85.98725491],\n",
              "       [ 216.61698086,  122.01810692,  249.50095179,  248.92819952,\n",
              "         317.09860961,  105.3564973 ,  162.55230705,  210.94700923,\n",
              "         162.65751629,   90.93414332],\n",
              "       [ 315.87540824,  195.80589498,  269.69048969,  342.20807982,\n",
              "         414.93112235,  136.25500674,  243.82830057,  301.22142266,\n",
              "         219.84009255,  157.15847943],\n",
              "       [ 354.85465103,  261.12199038,  340.66346262,  385.77849329,\n",
              "         487.06618932,  201.79879142,  256.96099334,  380.40205317,\n",
              "         254.06302915,  158.82115636],\n",
              "       [ 395.93502549,  292.2958037 ,  369.08170218,  389.13673667,\n",
              "         533.1389757 ,  214.304057  ,  352.71050086,  440.49079469,\n",
              "         258.49015535,  199.7441155 ],\n",
              "       [ 445.05499625,  341.19235017,  386.3587273 ,  485.30921835,\n",
              "         559.51876112,  243.5652809 ,  406.06263963,  472.09536594,\n",
              "         259.42456834,  281.68677358],\n",
              "       [ 450.58128186,  383.38626498,  424.99263731,  577.64428408,\n",
              "         614.02574603,  323.74102241,  459.42341766,  533.2898883 ,\n",
              "         296.57811297,  360.32290444],\n",
              "       [ 488.83253048,  443.35620271,  436.49995741,  664.77626994,\n",
              "         696.19274608,  323.90960035,  505.07946203,  570.44359947,\n",
              "         357.59367129,  451.20934177],\n",
              "       [ 491.73012772,  499.97800636,  466.97430016,  699.75364779,\n",
              "         792.27982787,  359.89441615,  589.74584734,  670.26851147,\n",
              "         363.94977067,  497.48352701],\n",
              "       [ 534.02626883,  532.21130642,  555.91858523,  723.21986434,\n",
              "         889.41800932,  384.80203678,  629.96911629,  757.49245332,\n",
              "         449.21560326,  560.79446522],\n",
              "       [ 585.29625992,  535.34658115,  557.72248158,  741.45944583,\n",
              "         949.66335871,  438.27062927,  638.04956463,  762.51476196,\n",
              "         490.88173243,  639.61296116],\n",
              "       [ 611.69877711,  626.0157237 ,  627.4208272 ,  838.26591263,\n",
              "         974.895462  ,  445.44140215,  733.57102284,  774.44402067,\n",
              "         496.92748676,  727.81461377],\n",
              "       [ 656.80571225,  664.13669549,  649.62206542,  899.46615732,\n",
              "         997.26621014,  451.75157799,  786.04592163,  871.7915016 ,\n",
              "         524.60031259,  770.0728991 ],\n",
              "       [ 661.65332349,  670.94273803,  713.27301364,  979.61454219,\n",
              "        1069.19630811,  460.91783937,  864.59453854,  884.24083158,\n",
              "         541.48848632,  840.0289615 ],\n",
              "       [ 666.06014616,  681.61489216,  768.44963439, 1050.5501312 ,\n",
              "        1131.31479039,  508.48352935,  938.08951749,  975.01920538,\n",
              "         558.34143517,  866.58429193],\n",
              "       [ 719.31451949,  716.30277465,  821.53211961, 1063.62972673,\n",
              "        1184.65358201,  527.59300547,  943.46146377, 1036.2860608 ,\n",
              "         570.77143968,  873.02313359],\n",
              "       [ 779.08535413,  733.13598517,  862.91133432, 1138.41928081,\n",
              "        1222.70041652,  549.51599407, 1001.84945303, 1047.21134682,\n",
              "         572.27268744,  971.22934496],\n",
              "       [ 797.54451148,  791.29049015,  928.65868527, 1215.66169262,\n",
              "        1262.09113522,  610.18536949, 1056.20398555, 1048.08612948,\n",
              "         651.31279597, 1001.54277455],\n",
              "       [ 894.47215079,  828.34277136,  937.95577691, 1221.53503939,\n",
              "        1359.03900662,  690.56044346, 1081.05979828, 1136.29717579,\n",
              "         684.08874879, 1069.77570414],\n",
              "       [ 967.1280495 ,  901.3974607 , 1021.0450253 , 1226.86709678,\n",
              "        1400.90529163,  704.99944012, 1154.0285871 , 1202.11557401,\n",
              "         706.65599802, 1165.99872986],\n",
              "       [ 997.20958705,  932.15697967, 1022.33344103, 1314.32726335,\n",
              "        1464.48687066,  758.5178696 , 1239.72857541, 1212.77582567,\n",
              "         791.91083814, 1207.93780213],\n",
              "       [1004.19804577,  965.48597242, 1115.02258595, 1348.56789754,\n",
              "        1507.39725559,  763.77895447, 1270.42864633, 1289.3142706 ,\n",
              "         817.08483401, 1244.46534777],\n",
              "       [1084.8185301 , 1006.12912239, 1131.01114362, 1437.78081028,\n",
              "        1581.98978952,  843.74795322, 1321.09883354, 1344.3287395 ,\n",
              "         893.68992875, 1245.12298264],\n",
              "       [1141.85370102, 1039.67867497, 1147.12582035, 1500.82968413,\n",
              "        1595.24001052,  877.64950948, 1352.14930579, 1393.9200225 ,\n",
              "         951.6632014 , 1309.78178282],\n",
              "       [1209.55879438, 1092.92046249, 1232.0364338 , 1515.70890686,\n",
              "        1599.0547424 ,  946.99212107, 1377.60108407, 1425.89691456,\n",
              "        1019.79432462, 1400.15930366],\n",
              "       [1227.08243435, 1173.87011994, 1321.02736051, 1614.1112461 ,\n",
              "        1690.9942019 , 1039.2526748 , 1425.62116564, 1428.79988528,\n",
              "        1045.57502804, 1460.98227065],\n",
              "       [1286.89069137, 1271.78060662, 1345.49740767, 1655.28761385,\n",
              "        1698.17740291, 1094.70154609, 1480.22631055, 1453.83851591,\n",
              "        1066.75825995, 1498.20410357],\n",
              "       [1354.44504033, 1357.65820938, 1369.34790892, 1666.05027375,\n",
              "        1716.10673001, 1184.76940618, 1536.40868879, 1487.26723879,\n",
              "        1149.75737349, 1587.92883181]])"
            ]
          },
          "metadata": {
            "tags": []
          },
          "execution_count": 98
        }
      ]
    },
    {
      "cell_type": "markdown",
      "metadata": {
        "id": "ftZMb_kTx-pd"
      },
      "source": [
        "(f) Cumulative Sum for each row"
      ]
    },
    {
      "cell_type": "code",
      "metadata": {
        "id": "d3E_rhBgyATd",
        "colab": {
          "base_uri": "https://localhost:8080/",
          "height": 1000
        },
        "outputId": "b080f96e-1a99-4f27-a9b6-876789c40b1b"
      },
      "source": [
        "data.cumsum(axis=1)"
      ],
      "execution_count": null,
      "outputs": [
        {
          "output_type": "execute_result",
          "data": {
            "text/plain": [
              "array([[ 52.69157148,  56.00806885,  96.54057715, 195.81360637,\n",
              "        256.62129135, 311.42851958, 375.83798096, 428.157953  ,\n",
              "        440.20835958, 454.98652451],\n",
              "       [ 24.37643808,  63.9395064 , 163.3326245 , 253.49632524,\n",
              "        330.41834799, 332.24890025, 337.7839683 , 414.74044341,\n",
              "        462.85501865, 472.27082788],\n",
              "       [ 56.71491759,  77.4171265 , 161.7890694 , 167.45825956,\n",
              "        247.93677625, 249.65508242, 268.66652769, 282.82977979,\n",
              "        358.40393999, 420.19722075],\n",
              "       [ 82.83405371, 141.27038604, 166.47376852, 220.29604792,\n",
              "        319.18643311, 366.18684376, 439.7831761 , 507.29048608,\n",
              "        534.20886035, 539.15574876],\n",
              "       [ 99.25842738, 173.04621545, 193.23575334, 286.51563364,\n",
              "        384.34814638, 415.24665582, 496.52264935, 586.79706278,\n",
              "        643.97963904, 710.20397514],\n",
              "       [ 38.97924279, 104.29533818, 175.26831112, 218.83872459,\n",
              "        290.97379156, 356.51757624, 369.65026901, 448.83089952,\n",
              "        483.05383612, 484.71651306],\n",
              "       [ 41.08037445,  72.25418777, 100.67242733, 104.03067071,\n",
              "        150.10345709, 162.60872267, 258.35823019, 318.44697172,\n",
              "        322.87409791, 363.79705706],\n",
              "       [ 49.11997077,  98.01651724, 115.29354236, 211.46602404,\n",
              "        237.84580946, 267.10703336, 320.45917213, 352.06374338,\n",
              "        352.99815638, 434.94081445],\n",
              "       [  5.52628561,  47.72020041,  86.35411043, 178.68917615,\n",
              "        233.19616106, 313.37190257, 366.73268059, 427.92720295,\n",
              "        465.08074758, 543.71687843],\n",
              "       [ 38.25124862,  98.22118635, 109.72850645, 196.86049231,\n",
              "        279.02749236, 279.1960703 , 324.85211467, 362.00582584,\n",
              "        423.02138416, 513.90782149],\n",
              "       [  2.89759724,  59.5194009 ,  89.99374365, 124.9711215 ,\n",
              "        221.0582033 , 257.0430191 , 341.70940442, 441.53431641,\n",
              "        447.89041579, 494.16460103],\n",
              "       [ 42.29614111,  74.52944116, 163.47372623, 186.93994278,\n",
              "        284.07812422, 308.98574485, 349.2090138 , 436.43295566,\n",
              "        521.69878825, 585.00972645],\n",
              "       [ 51.26999109,  54.40526583,  56.20916217,  74.44874367,\n",
              "        134.69409306, 188.16268554, 196.24313387, 201.26544251,\n",
              "        242.93157168, 321.75006763],\n",
              "       [ 26.40251719, 117.07165974, 186.77000536, 283.57647216,\n",
              "        308.80857545, 315.97934833, 411.50080655, 423.43006526,\n",
              "        429.47581959, 517.6774722 ],\n",
              "       [ 45.10693514,  83.22790694, 105.42914516, 166.62938984,\n",
              "        189.00013799, 195.31031384, 247.78521263, 345.13269356,\n",
              "        372.80551939, 415.06380471],\n",
              "       [  4.84761124,  11.65365378,  75.304602  , 155.45298687,\n",
              "        227.38308484, 236.54934622, 315.09796313, 327.54729311,\n",
              "        344.43546684, 414.39152923],\n",
              "       [  4.40682267,  15.0789768 ,  70.25559754, 141.19118655,\n",
              "        203.30966884, 250.87535881, 324.37033776, 415.14871155,\n",
              "        432.00166041, 458.55699085],\n",
              "       [ 53.25437333,  87.94225581, 141.02474103, 154.10433656,\n",
              "        207.44312818, 226.5526043 , 231.92455058, 293.191406  ,\n",
              "        305.62141051, 312.06025218],\n",
              "       [ 59.77083464,  76.60404516, 117.98325988, 192.77281396,\n",
              "        230.81964846, 252.74263706, 311.13062632, 322.05591234,\n",
              "        323.5571601 , 421.76337146],\n",
              "       [ 18.45915735,  76.61366233, 142.36101327, 219.60342508,\n",
              "        258.99414379, 319.66351922, 374.01805173, 374.8928344 ,\n",
              "        453.93294293, 484.24637252],\n",
              "       [ 96.9276393 , 133.97992052, 143.27701216, 149.15035894,\n",
              "        246.09823034, 326.47330431, 351.32911704, 439.54016334,\n",
              "        472.31611617, 540.54904576],\n",
              "       [ 72.65589871, 145.71058804, 228.79983643, 234.13189382,\n",
              "        275.99817882, 290.43717548, 363.4059643 , 429.22436253,\n",
              "        451.79161175, 548.01463747],\n",
              "       [ 30.08153755,  60.84105652,  62.12947225, 149.58963882,\n",
              "        213.17121785, 266.68964733, 352.38963564, 363.0498873 ,\n",
              "        448.30472742, 490.24379969],\n",
              "       [  6.98845872,  40.31745148, 133.0065964 , 167.24723058,\n",
              "        210.15761551, 215.41870039, 246.11877131, 322.65721624,\n",
              "        347.83121211, 384.35875774],\n",
              "       [ 80.62048433, 121.2636343 , 137.25219197, 226.46510472,\n",
              "        301.05763865, 381.02663739, 431.69682461, 486.7112935 ,\n",
              "        563.31638824, 563.97402311],\n",
              "       [ 57.03517092,  90.5847235 , 106.69940023, 169.74827408,\n",
              "        182.99849508, 216.90005134, 247.95052358, 297.54180659,\n",
              "        355.51507924, 420.17387942],\n",
              "       [ 67.70509336, 120.94688088, 205.85749433, 220.73671706,\n",
              "        224.55144894, 293.89406053, 319.34583881, 351.32273086,\n",
              "        419.45385408, 509.83137492],\n",
              "       [ 17.52363997,  98.47329741, 187.46422412, 285.86656337,\n",
              "        377.80602287, 470.0665766 , 518.08665818, 520.9896289 ,\n",
              "        546.77033233, 607.59329932],\n",
              "       [ 59.80825703, 157.71874371, 182.18879086, 223.36515861,\n",
              "        230.54835962, 285.99723092, 340.60237582, 365.64100645,\n",
              "        386.82423836, 424.04607128],\n",
              "       [ 67.55434895, 153.43195171, 177.28245297, 188.04511286,\n",
              "        205.97443996, 296.04230005, 352.22467829, 385.65340117,\n",
              "        468.65251471, 558.37724295]])"
            ]
          },
          "metadata": {
            "tags": []
          },
          "execution_count": 91
        }
      ]
    },
    {
      "cell_type": "code",
      "metadata": {
        "id": "tYt-Px0i9Vwz",
        "colab": {
          "base_uri": "https://localhost:8080/",
          "height": 1000
        },
        "outputId": "f671a373-b00c-4b22-f628-318a784ebc17"
      },
      "source": [
        "#using np function\n",
        "np.cumsum(data,axis=1)"
      ],
      "execution_count": null,
      "outputs": [
        {
          "output_type": "execute_result",
          "data": {
            "text/plain": [
              "array([[ 52.69157148,  56.00806885,  96.54057715, 195.81360637,\n",
              "        256.62129135, 311.42851958, 375.83798096, 428.157953  ,\n",
              "        440.20835958, 454.98652451],\n",
              "       [ 24.37643808,  63.9395064 , 163.3326245 , 253.49632524,\n",
              "        330.41834799, 332.24890025, 337.7839683 , 414.74044341,\n",
              "        462.85501865, 472.27082788],\n",
              "       [ 56.71491759,  77.4171265 , 161.7890694 , 167.45825956,\n",
              "        247.93677625, 249.65508242, 268.66652769, 282.82977979,\n",
              "        358.40393999, 420.19722075],\n",
              "       [ 82.83405371, 141.27038604, 166.47376852, 220.29604792,\n",
              "        319.18643311, 366.18684376, 439.7831761 , 507.29048608,\n",
              "        534.20886035, 539.15574876],\n",
              "       [ 99.25842738, 173.04621545, 193.23575334, 286.51563364,\n",
              "        384.34814638, 415.24665582, 496.52264935, 586.79706278,\n",
              "        643.97963904, 710.20397514],\n",
              "       [ 38.97924279, 104.29533818, 175.26831112, 218.83872459,\n",
              "        290.97379156, 356.51757624, 369.65026901, 448.83089952,\n",
              "        483.05383612, 484.71651306],\n",
              "       [ 41.08037445,  72.25418777, 100.67242733, 104.03067071,\n",
              "        150.10345709, 162.60872267, 258.35823019, 318.44697172,\n",
              "        322.87409791, 363.79705706],\n",
              "       [ 49.11997077,  98.01651724, 115.29354236, 211.46602404,\n",
              "        237.84580946, 267.10703336, 320.45917213, 352.06374338,\n",
              "        352.99815638, 434.94081445],\n",
              "       [  5.52628561,  47.72020041,  86.35411043, 178.68917615,\n",
              "        233.19616106, 313.37190257, 366.73268059, 427.92720295,\n",
              "        465.08074758, 543.71687843],\n",
              "       [ 38.25124862,  98.22118635, 109.72850645, 196.86049231,\n",
              "        279.02749236, 279.1960703 , 324.85211467, 362.00582584,\n",
              "        423.02138416, 513.90782149],\n",
              "       [  2.89759724,  59.5194009 ,  89.99374365, 124.9711215 ,\n",
              "        221.0582033 , 257.0430191 , 341.70940442, 441.53431641,\n",
              "        447.89041579, 494.16460103],\n",
              "       [ 42.29614111,  74.52944116, 163.47372623, 186.93994278,\n",
              "        284.07812422, 308.98574485, 349.2090138 , 436.43295566,\n",
              "        521.69878825, 585.00972645],\n",
              "       [ 51.26999109,  54.40526583,  56.20916217,  74.44874367,\n",
              "        134.69409306, 188.16268554, 196.24313387, 201.26544251,\n",
              "        242.93157168, 321.75006763],\n",
              "       [ 26.40251719, 117.07165974, 186.77000536, 283.57647216,\n",
              "        308.80857545, 315.97934833, 411.50080655, 423.43006526,\n",
              "        429.47581959, 517.6774722 ],\n",
              "       [ 45.10693514,  83.22790694, 105.42914516, 166.62938984,\n",
              "        189.00013799, 195.31031384, 247.78521263, 345.13269356,\n",
              "        372.80551939, 415.06380471],\n",
              "       [  4.84761124,  11.65365378,  75.304602  , 155.45298687,\n",
              "        227.38308484, 236.54934622, 315.09796313, 327.54729311,\n",
              "        344.43546684, 414.39152923],\n",
              "       [  4.40682267,  15.0789768 ,  70.25559754, 141.19118655,\n",
              "        203.30966884, 250.87535881, 324.37033776, 415.14871155,\n",
              "        432.00166041, 458.55699085],\n",
              "       [ 53.25437333,  87.94225581, 141.02474103, 154.10433656,\n",
              "        207.44312818, 226.5526043 , 231.92455058, 293.191406  ,\n",
              "        305.62141051, 312.06025218],\n",
              "       [ 59.77083464,  76.60404516, 117.98325988, 192.77281396,\n",
              "        230.81964846, 252.74263706, 311.13062632, 322.05591234,\n",
              "        323.5571601 , 421.76337146],\n",
              "       [ 18.45915735,  76.61366233, 142.36101327, 219.60342508,\n",
              "        258.99414379, 319.66351922, 374.01805173, 374.8928344 ,\n",
              "        453.93294293, 484.24637252],\n",
              "       [ 96.9276393 , 133.97992052, 143.27701216, 149.15035894,\n",
              "        246.09823034, 326.47330431, 351.32911704, 439.54016334,\n",
              "        472.31611617, 540.54904576],\n",
              "       [ 72.65589871, 145.71058804, 228.79983643, 234.13189382,\n",
              "        275.99817882, 290.43717548, 363.4059643 , 429.22436253,\n",
              "        451.79161175, 548.01463747],\n",
              "       [ 30.08153755,  60.84105652,  62.12947225, 149.58963882,\n",
              "        213.17121785, 266.68964733, 352.38963564, 363.0498873 ,\n",
              "        448.30472742, 490.24379969],\n",
              "       [  6.98845872,  40.31745148, 133.0065964 , 167.24723058,\n",
              "        210.15761551, 215.41870039, 246.11877131, 322.65721624,\n",
              "        347.83121211, 384.35875774],\n",
              "       [ 80.62048433, 121.2636343 , 137.25219197, 226.46510472,\n",
              "        301.05763865, 381.02663739, 431.69682461, 486.7112935 ,\n",
              "        563.31638824, 563.97402311],\n",
              "       [ 57.03517092,  90.5847235 , 106.69940023, 169.74827408,\n",
              "        182.99849508, 216.90005134, 247.95052358, 297.54180659,\n",
              "        355.51507924, 420.17387942],\n",
              "       [ 67.70509336, 120.94688088, 205.85749433, 220.73671706,\n",
              "        224.55144894, 293.89406053, 319.34583881, 351.32273086,\n",
              "        419.45385408, 509.83137492],\n",
              "       [ 17.52363997,  98.47329741, 187.46422412, 285.86656337,\n",
              "        377.80602287, 470.0665766 , 518.08665818, 520.9896289 ,\n",
              "        546.77033233, 607.59329932],\n",
              "       [ 59.80825703, 157.71874371, 182.18879086, 223.36515861,\n",
              "        230.54835962, 285.99723092, 340.60237582, 365.64100645,\n",
              "        386.82423836, 424.04607128],\n",
              "       [ 67.55434895, 153.43195171, 177.28245297, 188.04511286,\n",
              "        205.97443996, 296.04230005, 352.22467829, 385.65340117,\n",
              "        468.65251471, 558.37724295]])"
            ]
          },
          "metadata": {
            "tags": []
          },
          "execution_count": 99
        }
      ]
    },
    {
      "cell_type": "markdown",
      "metadata": {
        "id": "SOenbs7oyCat"
      },
      "source": [
        "(g) Cumulative Product for each column"
      ]
    },
    {
      "cell_type": "code",
      "metadata": {
        "id": "JvSTKtywyCy2",
        "colab": {
          "base_uri": "https://localhost:8080/",
          "height": 1000
        },
        "outputId": "fbb4f04e-e565-498f-cfc3-5a6aa9be1faf"
      },
      "source": [
        "data.cumprod(axis=0)"
      ],
      "execution_count": null,
      "outputs": [
        {
          "output_type": "execute_result",
          "data": {
            "text/plain": [
              "array([[5.26915715e+01, 3.31649736e+00, 4.05325083e+01, 9.92730292e+01,\n",
              "        6.08076850e+01, 5.48072282e+01, 6.44094614e+01, 5.23199720e+01,\n",
              "        1.20504066e+01, 1.47781649e+01],\n",
              "       [1.28443283e+03, 1.31210812e+02, 4.02865238e+03, 8.95082370e+03,\n",
              "        4.67745013e+03, 1.00327495e+02, 3.56510752e+02, 4.02636063e+03,\n",
              "        5.79800194e+02, 1.39148382e+02],\n",
              "       [7.28465021e+04, 2.71635364e+03, 3.39905229e+05, 5.07439216e+04,\n",
              "        3.76434248e+05, 1.72393353e+02, 6.77778464e+03, 5.70263606e+04,\n",
              "        4.38179127e+04, 8.59843502e+03],\n",
              "       [6.03417106e+06, 1.58733744e+05, 8.56676149e+06, 2.73115353e+06,\n",
              "        3.72257278e+07, 8.10255839e+03, 4.98820091e+05, 3.84969620e+06,\n",
              "        1.17950697e+06, 4.25354985e+04],\n",
              "       [5.98942330e+08, 1.17126119e+07, 1.72958956e+08, 2.54761674e+08,\n",
              "        3.64188649e+09, 2.50356977e+05, 4.05420985e+07, 3.47529066e+08,\n",
              "        6.74472475e+07, 2.81688515e+06],\n",
              "       [2.33463185e+10, 7.65022073e+08, 1.22754113e+10, 1.11000715e+10,\n",
              "        2.62707726e+11, 1.64093438e+07, 5.32426924e+08, 2.75175706e+10,\n",
              "        2.30824288e+09, 4.68356996e+06],\n",
              "       [9.59075507e+11, 2.38486553e+10, 3.48845579e+11, 3.72767416e+10,\n",
              "        1.21036769e+13, 2.05203202e+08, 5.09796158e+10, 1.65349619e+12,\n",
              "        1.02188825e+10, 1.91665542e+08],\n",
              "       [4.71097609e+13, 1.16611688e+12, 6.02701383e+12, 3.58499675e+12,\n",
              "        3.19292400e+14, 6.00449685e+09, 2.71987153e+12, 5.22580381e+13,\n",
              "        9.54865658e+09, 1.57055840e+10],\n",
              "       [2.60341993e+14, 4.92030364e+13, 2.32847110e+14, 3.31020910e+14,\n",
              "        1.74036660e+16, 4.81414987e+11, 1.45134461e+14, 3.19790568e+15,\n",
              "        3.54766438e+11, 1.23502636e+12],\n",
              "       [9.95840631e+15, 2.95070303e+15, 2.67944623e+15, 2.88425093e+16,\n",
              "        1.43000703e+18, 8.11559454e+10, 6.62626540e+15, 1.18814064e+17,\n",
              "        2.16462723e+13, 1.12247146e+14],\n",
              "       [2.88554507e+16, 1.67074127e+17, 8.16543627e+16, 1.00883534e+18,\n",
              "        1.37405202e+20, 2.92038175e+12, 5.61021940e+17, 1.18606035e+19,\n",
              "        1.37585858e+14, 5.19414521e+15],\n",
              "       [1.22047421e+18, 5.38535048e+18, 7.26268891e+18, 2.36735487e+19,\n",
              "        1.33472915e+22, 7.27397606e+13, 2.25661364e+19, 1.03452859e+21,\n",
              "        1.17313727e+16, 3.28846207e+17],\n",
              "       [6.25737021e+19, 1.68845533e+19, 1.31011380e+19, 4.31795620e+20,\n",
              "        8.04112238e+23, 3.88929262e+15, 1.82344499e+20, 5.19572186e+21,\n",
              "        4.88800892e+17, 2.59191634e+19],\n",
              "       [1.65210324e+21, 1.53090797e+21, 9.13127643e+20, 4.18006084e+22,\n",
              "        2.02894430e+25, 2.78892340e+16, 1.74178124e+22, 6.19811103e+22,\n",
              "        2.95517011e+18, 2.28611305e+21],\n",
              "       [7.45213139e+22, 5.83596996e+22, 2.02725643e+22, 2.55820746e+24,\n",
              "        4.53890020e+26, 1.75985971e+17, 9.13997945e+23, 6.03370495e+24,\n",
              "        8.17779077e+19, 9.66072174e+22],\n",
              "       [3.61250359e+23, 3.97198598e+23, 1.29036794e+24, 2.05036196e+26,\n",
              "        3.26483536e+28, 1.61313341e+18, 7.17932744e+25, 7.51155839e+25,\n",
              "        1.38107951e+21, 6.75826053e+24],\n",
              "       [1.59196627e+24, 4.23896466e+24, 7.11981426e+25, 1.45443633e+28,\n",
              "        2.02806618e+30, 7.67298036e+19, 5.27644519e+27, 6.81887055e+27,\n",
              "        2.32752624e+22, 1.79467842e+26],\n",
              "       [8.47791661e+25, 1.47040708e+26, 3.77937435e+27, 1.90234390e+29,\n",
              "        1.08174599e+32, 1.46626635e+21, 2.83447801e+28, 4.17770756e+29,\n",
              "        2.89311616e+23, 1.15556502e+27],\n",
              "       [5.06732152e+27, 2.47516719e+27, 1.56387543e+29, 1.42275452e+31,\n",
              "        4.11570107e+33, 3.21449405e+22, 1.65499472e+30, 4.56426500e+30,\n",
              "        4.34328414e+23, 1.13483662e+29],\n",
              "       [9.35384852e+28, 1.43942123e+29, 1.02820667e+31, 1.09896990e+33,\n",
              "        1.62120423e+35, 1.95021346e+24, 8.99564642e+31, 3.99273991e+30,\n",
              "        3.43293650e+25, 3.44007900e+30],\n",
              "       [9.06646456e+30, 5.33338401e+30, 9.55933160e+31, 6.45463133e+33,\n",
              "        1.57172299e+37, 1.56748551e+26, 2.23594103e+33, 3.52203765e+32,\n",
              "        1.12517765e+27, 2.34726668e+32],\n",
              "       [6.58732130e+32, 3.89628712e+32, 7.94277677e+33, 3.44164647e+34,\n",
              "        6.58022029e+38, 2.26329181e+27, 1.63153909e+35, 2.31814877e+34,\n",
              "        2.53921644e+28, 2.25861102e+34],\n",
              "       [1.98156753e+34, 1.19847918e+34, 1.02335985e+34, 3.01006973e+36,\n",
              "        4.18380796e+40, 1.21127823e+29, 1.39822881e+37, 2.47120492e+35,\n",
              "        2.16480492e+30, 9.47240510e+35],\n",
              "       [1.38481029e+35, 3.99441038e+35, 9.48543496e+35, 1.03066697e+38,\n",
              "        1.79528810e+42, 6.37263758e+29, 4.29257235e+38, 1.89142182e+37,\n",
              "        5.44967900e+31, 3.46003710e+37],\n",
              "       [1.11644076e+37, 1.62345420e+37, 1.51658424e+37, 9.19488021e+39,\n",
              "        1.33915089e+44, 5.09613446e+31, 2.17505445e+40, 1.04055567e+39,\n",
              "        4.17473176e+33, 2.27544105e+37],\n",
              "       [6.36763897e+38, 5.44661620e+38, 2.44392647e+38, 5.79726842e+41,\n",
              "        1.77440452e+45, 1.72766889e+33, 6.75364677e+41, 5.16024907e+40,\n",
              "        2.42022863e+35, 1.47127288e+39],\n",
              "       [4.31121591e+40, 2.89987583e+40, 2.07515296e+40, 8.62588481e+42,\n",
              "        6.76887749e+45, 1.19801073e+35, 1.71892320e+43, 1.65008727e+42,\n",
              "        1.64892895e+37, 1.32969996e+41],\n",
              "       [7.55481955e+41, 2.34743955e+42, 1.84669785e+42, 8.48807243e+44,\n",
              "        6.22326938e+47, 1.10529133e+37, 8.25428324e+44, 4.79015505e+42,\n",
              "        4.25105482e+38, 8.08762965e+42],\n",
              "       [4.51840589e+43, 2.29838948e+44, 4.51887835e+43, 3.49507992e+46,\n",
              "        4.47029949e+48, 6.12871568e+38, 4.50726333e+46, 1.19938923e+44,\n",
              "        9.00510801e+39, 3.01036399e+44],\n",
              "       [3.05237968e+45, 1.97380179e+46, 1.07777514e+45, 3.76163565e+47,\n",
              "        8.01494617e+49, 5.52000307e+40, 2.53228773e+48, 4.00940502e+45,\n",
              "        7.47415982e+41, 2.70104091e+46]])"
            ]
          },
          "metadata": {
            "tags": []
          },
          "execution_count": 92
        }
      ]
    },
    {
      "cell_type": "code",
      "metadata": {
        "id": "yEVR9rIA9Y3M",
        "colab": {
          "base_uri": "https://localhost:8080/",
          "height": 1000
        },
        "outputId": "205e81ad-04a1-4cfc-a48f-14ce9231cd2c"
      },
      "source": [
        "#using np function\n",
        "np.cumprod(data,axis=0)"
      ],
      "execution_count": null,
      "outputs": [
        {
          "output_type": "execute_result",
          "data": {
            "text/plain": [
              "array([[5.26915715e+01, 3.31649736e+00, 4.05325083e+01, 9.92730292e+01,\n",
              "        6.08076850e+01, 5.48072282e+01, 6.44094614e+01, 5.23199720e+01,\n",
              "        1.20504066e+01, 1.47781649e+01],\n",
              "       [1.28443283e+03, 1.31210812e+02, 4.02865238e+03, 8.95082370e+03,\n",
              "        4.67745013e+03, 1.00327495e+02, 3.56510752e+02, 4.02636063e+03,\n",
              "        5.79800194e+02, 1.39148382e+02],\n",
              "       [7.28465021e+04, 2.71635364e+03, 3.39905229e+05, 5.07439216e+04,\n",
              "        3.76434248e+05, 1.72393353e+02, 6.77778464e+03, 5.70263606e+04,\n",
              "        4.38179127e+04, 8.59843502e+03],\n",
              "       [6.03417106e+06, 1.58733744e+05, 8.56676149e+06, 2.73115353e+06,\n",
              "        3.72257278e+07, 8.10255839e+03, 4.98820091e+05, 3.84969620e+06,\n",
              "        1.17950697e+06, 4.25354985e+04],\n",
              "       [5.98942330e+08, 1.17126119e+07, 1.72958956e+08, 2.54761674e+08,\n",
              "        3.64188649e+09, 2.50356977e+05, 4.05420985e+07, 3.47529066e+08,\n",
              "        6.74472475e+07, 2.81688515e+06],\n",
              "       [2.33463185e+10, 7.65022073e+08, 1.22754113e+10, 1.11000715e+10,\n",
              "        2.62707726e+11, 1.64093438e+07, 5.32426924e+08, 2.75175706e+10,\n",
              "        2.30824288e+09, 4.68356996e+06],\n",
              "       [9.59075507e+11, 2.38486553e+10, 3.48845579e+11, 3.72767416e+10,\n",
              "        1.21036769e+13, 2.05203202e+08, 5.09796158e+10, 1.65349619e+12,\n",
              "        1.02188825e+10, 1.91665542e+08],\n",
              "       [4.71097609e+13, 1.16611688e+12, 6.02701383e+12, 3.58499675e+12,\n",
              "        3.19292400e+14, 6.00449685e+09, 2.71987153e+12, 5.22580381e+13,\n",
              "        9.54865658e+09, 1.57055840e+10],\n",
              "       [2.60341993e+14, 4.92030364e+13, 2.32847110e+14, 3.31020910e+14,\n",
              "        1.74036660e+16, 4.81414987e+11, 1.45134461e+14, 3.19790568e+15,\n",
              "        3.54766438e+11, 1.23502636e+12],\n",
              "       [9.95840631e+15, 2.95070303e+15, 2.67944623e+15, 2.88425093e+16,\n",
              "        1.43000703e+18, 8.11559454e+10, 6.62626540e+15, 1.18814064e+17,\n",
              "        2.16462723e+13, 1.12247146e+14],\n",
              "       [2.88554507e+16, 1.67074127e+17, 8.16543627e+16, 1.00883534e+18,\n",
              "        1.37405202e+20, 2.92038175e+12, 5.61021940e+17, 1.18606035e+19,\n",
              "        1.37585858e+14, 5.19414521e+15],\n",
              "       [1.22047421e+18, 5.38535048e+18, 7.26268891e+18, 2.36735487e+19,\n",
              "        1.33472915e+22, 7.27397606e+13, 2.25661364e+19, 1.03452859e+21,\n",
              "        1.17313727e+16, 3.28846207e+17],\n",
              "       [6.25737021e+19, 1.68845533e+19, 1.31011380e+19, 4.31795620e+20,\n",
              "        8.04112238e+23, 3.88929262e+15, 1.82344499e+20, 5.19572186e+21,\n",
              "        4.88800892e+17, 2.59191634e+19],\n",
              "       [1.65210324e+21, 1.53090797e+21, 9.13127643e+20, 4.18006084e+22,\n",
              "        2.02894430e+25, 2.78892340e+16, 1.74178124e+22, 6.19811103e+22,\n",
              "        2.95517011e+18, 2.28611305e+21],\n",
              "       [7.45213139e+22, 5.83596996e+22, 2.02725643e+22, 2.55820746e+24,\n",
              "        4.53890020e+26, 1.75985971e+17, 9.13997945e+23, 6.03370495e+24,\n",
              "        8.17779077e+19, 9.66072174e+22],\n",
              "       [3.61250359e+23, 3.97198598e+23, 1.29036794e+24, 2.05036196e+26,\n",
              "        3.26483536e+28, 1.61313341e+18, 7.17932744e+25, 7.51155839e+25,\n",
              "        1.38107951e+21, 6.75826053e+24],\n",
              "       [1.59196627e+24, 4.23896466e+24, 7.11981426e+25, 1.45443633e+28,\n",
              "        2.02806618e+30, 7.67298036e+19, 5.27644519e+27, 6.81887055e+27,\n",
              "        2.32752624e+22, 1.79467842e+26],\n",
              "       [8.47791661e+25, 1.47040708e+26, 3.77937435e+27, 1.90234390e+29,\n",
              "        1.08174599e+32, 1.46626635e+21, 2.83447801e+28, 4.17770756e+29,\n",
              "        2.89311616e+23, 1.15556502e+27],\n",
              "       [5.06732152e+27, 2.47516719e+27, 1.56387543e+29, 1.42275452e+31,\n",
              "        4.11570107e+33, 3.21449405e+22, 1.65499472e+30, 4.56426500e+30,\n",
              "        4.34328414e+23, 1.13483662e+29],\n",
              "       [9.35384852e+28, 1.43942123e+29, 1.02820667e+31, 1.09896990e+33,\n",
              "        1.62120423e+35, 1.95021346e+24, 8.99564642e+31, 3.99273991e+30,\n",
              "        3.43293650e+25, 3.44007900e+30],\n",
              "       [9.06646456e+30, 5.33338401e+30, 9.55933160e+31, 6.45463133e+33,\n",
              "        1.57172299e+37, 1.56748551e+26, 2.23594103e+33, 3.52203765e+32,\n",
              "        1.12517765e+27, 2.34726668e+32],\n",
              "       [6.58732130e+32, 3.89628712e+32, 7.94277677e+33, 3.44164647e+34,\n",
              "        6.58022029e+38, 2.26329181e+27, 1.63153909e+35, 2.31814877e+34,\n",
              "        2.53921644e+28, 2.25861102e+34],\n",
              "       [1.98156753e+34, 1.19847918e+34, 1.02335985e+34, 3.01006973e+36,\n",
              "        4.18380796e+40, 1.21127823e+29, 1.39822881e+37, 2.47120492e+35,\n",
              "        2.16480492e+30, 9.47240510e+35],\n",
              "       [1.38481029e+35, 3.99441038e+35, 9.48543496e+35, 1.03066697e+38,\n",
              "        1.79528810e+42, 6.37263758e+29, 4.29257235e+38, 1.89142182e+37,\n",
              "        5.44967900e+31, 3.46003710e+37],\n",
              "       [1.11644076e+37, 1.62345420e+37, 1.51658424e+37, 9.19488021e+39,\n",
              "        1.33915089e+44, 5.09613446e+31, 2.17505445e+40, 1.04055567e+39,\n",
              "        4.17473176e+33, 2.27544105e+37],\n",
              "       [6.36763897e+38, 5.44661620e+38, 2.44392647e+38, 5.79726842e+41,\n",
              "        1.77440452e+45, 1.72766889e+33, 6.75364677e+41, 5.16024907e+40,\n",
              "        2.42022863e+35, 1.47127288e+39],\n",
              "       [4.31121591e+40, 2.89987583e+40, 2.07515296e+40, 8.62588481e+42,\n",
              "        6.76887749e+45, 1.19801073e+35, 1.71892320e+43, 1.65008727e+42,\n",
              "        1.64892895e+37, 1.32969996e+41],\n",
              "       [7.55481955e+41, 2.34743955e+42, 1.84669785e+42, 8.48807243e+44,\n",
              "        6.22326938e+47, 1.10529133e+37, 8.25428324e+44, 4.79015505e+42,\n",
              "        4.25105482e+38, 8.08762965e+42],\n",
              "       [4.51840589e+43, 2.29838948e+44, 4.51887835e+43, 3.49507992e+46,\n",
              "        4.47029949e+48, 6.12871568e+38, 4.50726333e+46, 1.19938923e+44,\n",
              "        9.00510801e+39, 3.01036399e+44],\n",
              "       [3.05237968e+45, 1.97380179e+46, 1.07777514e+45, 3.76163565e+47,\n",
              "        8.01494617e+49, 5.52000307e+40, 2.53228773e+48, 4.00940502e+45,\n",
              "        7.47415982e+41, 2.70104091e+46]])"
            ]
          },
          "metadata": {
            "tags": []
          },
          "execution_count": 100
        }
      ]
    },
    {
      "cell_type": "markdown",
      "metadata": {
        "id": "ZzWn62lsyEqd"
      },
      "source": [
        "(h) Cumulative Product for each row"
      ]
    },
    {
      "cell_type": "code",
      "metadata": {
        "id": "HZPniF_MyFau",
        "colab": {
          "base_uri": "https://localhost:8080/",
          "height": 1000
        },
        "outputId": "93c73af2-7593-41ab-aa11-8d76bb2810ed"
      },
      "source": [
        "data.cumprod(axis=1)"
      ],
      "execution_count": null,
      "outputs": [
        {
          "output_type": "execute_result",
          "data": {
            "text/plain": [
              "array([[5.26915715e+01, 1.74751458e+02, 7.08311492e+03, 7.03162274e+05,\n",
              "        4.27576701e+07, 2.34342938e+09, 1.50939024e+11, 7.89712553e+12,\n",
              "        9.51635734e+13, 1.40634298e+15],\n",
              "       [2.43764381e+01, 9.64406685e+02, 9.58553875e+04, 8.64267648e+06,\n",
              "        6.64812157e+08, 1.21697339e+09, 6.73603054e+09, 5.18381166e+11,\n",
              "        2.49416896e+13, 2.34846191e+14],\n",
              "       [5.67149176e+01, 1.17412407e+03, 9.90631292e+04, 5.61607717e+05,\n",
              "        4.51973560e+07, 7.76628954e+07, 1.47648389e+09, 2.09118135e+10,\n",
              "        1.58039274e+12, 9.76576525e+13],\n",
              "       [8.28340537e+01, 4.84051829e+03, 1.21997434e+05, 6.56617997e+06,\n",
              "        6.49332067e+08, 3.05188738e+10, 2.24607718e+12, 1.51626628e+14,\n",
              "        4.08154233e+15, 2.01909344e+16],\n",
              "       [9.92584274e+01, 7.32405980e+03, 1.47869383e+05, 1.37932383e+07,\n",
              "        1.34942717e+09, 4.16952880e+10, 3.38882596e+12, 3.05924276e+14,\n",
              "        1.74935382e+16, 1.15849796e+18],\n",
              "       [3.89792428e+01, 2.54597194e+03, 1.80695198e+05, 7.87296447e+06,\n",
              "        5.67916820e+08, 3.72234177e+10, 4.88843709e+11, 3.87069531e+13,\n",
              "        1.32466560e+15, 2.20249094e+15],\n",
              "       [4.10803745e+01, 1.28063192e+03, 3.63933048e+04, 1.22217575e+05,\n",
              "        5.63090422e+06, 7.04159528e+07, 6.74229280e+09, 4.05135889e+11,\n",
              "        1.79358771e+12, 7.33989165e+13],\n",
              "       [4.91199708e+01, 2.40179693e+03, 4.14959060e+04, 3.99076426e+06,\n",
              "        1.05275505e+08, 3.08049011e+09, 1.64350736e+11, 5.19423455e+12,\n",
              "        4.85356025e+12, 3.97713628e+14],\n",
              "       [5.52628561e+00, 2.33175624e+02, 9.00848608e+03, 8.31799154e+05,\n",
              "        4.53388639e+07, 3.63507704e+09, 1.93970539e+11, 1.18699345e+13,\n",
              "        4.41010140e+14, 3.46793311e+16],\n",
              "       [3.82512486e+01, 2.29392500e+03, 2.63969292e+04, 2.30001686e+06,\n",
              "        1.88985486e+08, 3.18587833e+07, 1.45454603e+09, 5.40417829e+10,\n",
              "        3.29738956e+12, 2.99687989e+14],\n",
              "       [2.89759724e+00, 1.64067182e+02, 4.99983954e+03, 1.74881277e+05,\n",
              "        1.68038316e+07, 6.04682784e+08, 5.11963055e+10, 5.11066670e+12,\n",
              "        3.24839054e+13, 1.50316626e+15],\n",
              "       [4.22961411e+01, 1.36334421e+03, 1.21261676e+05, 2.84555274e+06,\n",
              "        2.76411819e+08, 6.88476072e+09, 2.76927582e+11, 2.41547153e+13,\n",
              "        2.05957191e+15, 1.30393430e+17],\n",
              "       [5.12699911e+01, 1.60745508e+02, 2.89968234e+02, 5.28889923e+03,\n",
              "        3.18631582e+05, 1.70367822e+07, 1.37664838e+08, 6.91395307e+08,\n",
              "        2.88077662e+10, 2.27058480e+12],\n",
              "       [2.64025172e+01, 2.39389359e+03, 1.66850423e+05, 1.61521999e+07,\n",
              "        4.07553977e+08, 2.92247701e+09, 2.79159266e+11, 3.33016310e+12,\n",
              "        2.01333480e+13, 1.77579456e+15],\n",
              "       [4.51069351e+01, 1.71952020e+03, 3.81754776e+04, 2.33634857e+06,\n",
              "        5.22658655e+07, 3.29806802e+08, 1.73065786e+10, 1.68475183e+12,\n",
              "        4.66218438e+13, 1.97015918e+15],\n",
              "       [4.84761124e+00, 3.29930483e+01, 2.10003881e+03, 1.68314719e+05,\n",
              "        1.21068942e+07, 1.10974957e+08, 8.71692937e+09, 1.08519930e+11,\n",
              "        1.83270343e+12, 1.28208716e+14],\n",
              "       [4.40682267e+00, 4.70302907e+01, 2.59497251e+03, 1.84075904e+05,\n",
              "        1.14345158e+07, 5.43890632e+08, 3.99732306e+10, 3.62870486e+12,\n",
              "        6.11543775e+13, 1.62397470e+15],\n",
              "       [5.32543733e+01, 1.84728144e+03, 9.80582899e+04, 1.28256277e+06,\n",
              "        6.84103484e+07, 1.30728592e+09, 7.02266973e+09, 4.30256891e+11,\n",
              "        5.34809509e+12, 3.44355375e+13],\n",
              "       [5.97708346e+01, 1.00613504e+03, 4.16330780e+04, 3.11371934e+06,\n",
              "        1.18467164e+08, 2.59715429e+09, 1.51642617e+11, 1.65673896e+12,\n",
              "        2.48717564e+12, 2.44256097e+14],\n",
              "       [1.84591573e+01, 1.07348316e+03, 7.05786739e+04, 5.45166700e+06,\n",
              "        2.14745081e+08, 1.30284499e+10, 7.08155306e+11, 6.19481987e+11,\n",
              "        4.89639235e+13, 1.48426445e+15],\n",
              "       [9.69276393e+01, 3.59139015e+03, 3.33894833e+04, 1.96108014e+05,\n",
              "        1.90122545e+07, 1.52811137e+09, 3.79824499e+10, 3.35047165e+12,\n",
              "        1.09814901e+14, 7.49299239e+15],\n",
              "       [7.26558987e+01, 5.30785411e+03, 4.41025608e+05, 2.35157385e+06,\n",
              "        9.84516611e+07, 1.42154320e+09, 1.03728286e+11, 6.82722963e+12,\n",
              "        1.54071793e+14, 1.48252541e+16],\n",
              "       [3.00815376e+01, 9.25293625e+02, 1.19216286e+03, 1.04266762e+05,\n",
              "        6.62944538e+06, 3.54797505e+08, 3.04061420e+10, 3.24137126e+11,\n",
              "        2.76342589e+13, 1.15895518e+15],\n",
              "       [6.98845872e+00, 2.32918290e+02, 2.15889972e+04, 7.39220954e+05,\n",
              "        3.17202557e+07, 1.66882957e+08, 5.12331863e+09, 3.92130841e+11,\n",
              "        9.87150017e+12, 3.60581673e+14],\n",
              "       [8.06204843e+01, 3.27667044e+03, 5.23892342e+04, 4.67379618e+06,\n",
              "        3.48630300e+08, 2.78796160e+10, 1.41266536e+12, 7.77170348e+13,\n",
              "        5.95352081e+15, 3.91524289e+15],\n",
              "       [5.70351709e+01, 1.91350447e+03, 3.08355059e+04, 1.94414392e+06,\n",
              "        2.57603366e+07, 8.73315501e+08, 2.71168587e+10, 1.34475981e+12,\n",
              "        7.79601274e+13, 5.04080830e+15],\n",
              "       [6.77050934e+01, 3.60474019e+03, 3.06080701e+05, 4.55424293e+06,\n",
              "        1.73732157e+07, 1.20470415e+09, 3.06618629e+10, 9.80471079e+11,\n",
              "        6.68005959e+13, 6.03727225e+15],\n",
              "       [1.75236400e+01, 1.41853265e+03, 1.26236535e+05, 1.24219704e+07,\n",
              "        1.14206924e+09, 1.05367941e+11, 5.05977711e+12, 1.46883848e+13,\n",
              "        3.78676893e+14, 2.30322522e+16],\n",
              "       [5.98082570e+01, 5.85585555e+03, 1.43293062e+05, 5.90028780e+06,\n",
              "        4.23829533e+07, 2.35008692e+09, 1.28326837e+11, 3.21312827e+12,\n",
              "        6.80644413e+13, 2.53348326e+15],\n",
              "       [6.75543490e+01, 5.80140554e+03, 1.38366430e+05, 1.48919083e+06,\n",
              "        2.67001895e+07, 2.40482893e+09, 1.35109009e+11, 4.51652161e+12,\n",
              "        3.74867290e+14, 3.36348657e+16]])"
            ]
          },
          "metadata": {
            "tags": []
          },
          "execution_count": 93
        }
      ]
    },
    {
      "cell_type": "code",
      "metadata": {
        "id": "qYbvVo6p9d_b",
        "colab": {
          "base_uri": "https://localhost:8080/",
          "height": 1000
        },
        "outputId": "e71e3ed0-05f8-4ca5-8ffe-c295dfefb3a2"
      },
      "source": [
        "#using np function\n",
        "np.cumprod(data,axis=1)"
      ],
      "execution_count": null,
      "outputs": [
        {
          "output_type": "execute_result",
          "data": {
            "text/plain": [
              "array([[5.26915715e+01, 1.74751458e+02, 7.08311492e+03, 7.03162274e+05,\n",
              "        4.27576701e+07, 2.34342938e+09, 1.50939024e+11, 7.89712553e+12,\n",
              "        9.51635734e+13, 1.40634298e+15],\n",
              "       [2.43764381e+01, 9.64406685e+02, 9.58553875e+04, 8.64267648e+06,\n",
              "        6.64812157e+08, 1.21697339e+09, 6.73603054e+09, 5.18381166e+11,\n",
              "        2.49416896e+13, 2.34846191e+14],\n",
              "       [5.67149176e+01, 1.17412407e+03, 9.90631292e+04, 5.61607717e+05,\n",
              "        4.51973560e+07, 7.76628954e+07, 1.47648389e+09, 2.09118135e+10,\n",
              "        1.58039274e+12, 9.76576525e+13],\n",
              "       [8.28340537e+01, 4.84051829e+03, 1.21997434e+05, 6.56617997e+06,\n",
              "        6.49332067e+08, 3.05188738e+10, 2.24607718e+12, 1.51626628e+14,\n",
              "        4.08154233e+15, 2.01909344e+16],\n",
              "       [9.92584274e+01, 7.32405980e+03, 1.47869383e+05, 1.37932383e+07,\n",
              "        1.34942717e+09, 4.16952880e+10, 3.38882596e+12, 3.05924276e+14,\n",
              "        1.74935382e+16, 1.15849796e+18],\n",
              "       [3.89792428e+01, 2.54597194e+03, 1.80695198e+05, 7.87296447e+06,\n",
              "        5.67916820e+08, 3.72234177e+10, 4.88843709e+11, 3.87069531e+13,\n",
              "        1.32466560e+15, 2.20249094e+15],\n",
              "       [4.10803745e+01, 1.28063192e+03, 3.63933048e+04, 1.22217575e+05,\n",
              "        5.63090422e+06, 7.04159528e+07, 6.74229280e+09, 4.05135889e+11,\n",
              "        1.79358771e+12, 7.33989165e+13],\n",
              "       [4.91199708e+01, 2.40179693e+03, 4.14959060e+04, 3.99076426e+06,\n",
              "        1.05275505e+08, 3.08049011e+09, 1.64350736e+11, 5.19423455e+12,\n",
              "        4.85356025e+12, 3.97713628e+14],\n",
              "       [5.52628561e+00, 2.33175624e+02, 9.00848608e+03, 8.31799154e+05,\n",
              "        4.53388639e+07, 3.63507704e+09, 1.93970539e+11, 1.18699345e+13,\n",
              "        4.41010140e+14, 3.46793311e+16],\n",
              "       [3.82512486e+01, 2.29392500e+03, 2.63969292e+04, 2.30001686e+06,\n",
              "        1.88985486e+08, 3.18587833e+07, 1.45454603e+09, 5.40417829e+10,\n",
              "        3.29738956e+12, 2.99687989e+14],\n",
              "       [2.89759724e+00, 1.64067182e+02, 4.99983954e+03, 1.74881277e+05,\n",
              "        1.68038316e+07, 6.04682784e+08, 5.11963055e+10, 5.11066670e+12,\n",
              "        3.24839054e+13, 1.50316626e+15],\n",
              "       [4.22961411e+01, 1.36334421e+03, 1.21261676e+05, 2.84555274e+06,\n",
              "        2.76411819e+08, 6.88476072e+09, 2.76927582e+11, 2.41547153e+13,\n",
              "        2.05957191e+15, 1.30393430e+17],\n",
              "       [5.12699911e+01, 1.60745508e+02, 2.89968234e+02, 5.28889923e+03,\n",
              "        3.18631582e+05, 1.70367822e+07, 1.37664838e+08, 6.91395307e+08,\n",
              "        2.88077662e+10, 2.27058480e+12],\n",
              "       [2.64025172e+01, 2.39389359e+03, 1.66850423e+05, 1.61521999e+07,\n",
              "        4.07553977e+08, 2.92247701e+09, 2.79159266e+11, 3.33016310e+12,\n",
              "        2.01333480e+13, 1.77579456e+15],\n",
              "       [4.51069351e+01, 1.71952020e+03, 3.81754776e+04, 2.33634857e+06,\n",
              "        5.22658655e+07, 3.29806802e+08, 1.73065786e+10, 1.68475183e+12,\n",
              "        4.66218438e+13, 1.97015918e+15],\n",
              "       [4.84761124e+00, 3.29930483e+01, 2.10003881e+03, 1.68314719e+05,\n",
              "        1.21068942e+07, 1.10974957e+08, 8.71692937e+09, 1.08519930e+11,\n",
              "        1.83270343e+12, 1.28208716e+14],\n",
              "       [4.40682267e+00, 4.70302907e+01, 2.59497251e+03, 1.84075904e+05,\n",
              "        1.14345158e+07, 5.43890632e+08, 3.99732306e+10, 3.62870486e+12,\n",
              "        6.11543775e+13, 1.62397470e+15],\n",
              "       [5.32543733e+01, 1.84728144e+03, 9.80582899e+04, 1.28256277e+06,\n",
              "        6.84103484e+07, 1.30728592e+09, 7.02266973e+09, 4.30256891e+11,\n",
              "        5.34809509e+12, 3.44355375e+13],\n",
              "       [5.97708346e+01, 1.00613504e+03, 4.16330780e+04, 3.11371934e+06,\n",
              "        1.18467164e+08, 2.59715429e+09, 1.51642617e+11, 1.65673896e+12,\n",
              "        2.48717564e+12, 2.44256097e+14],\n",
              "       [1.84591573e+01, 1.07348316e+03, 7.05786739e+04, 5.45166700e+06,\n",
              "        2.14745081e+08, 1.30284499e+10, 7.08155306e+11, 6.19481987e+11,\n",
              "        4.89639235e+13, 1.48426445e+15],\n",
              "       [9.69276393e+01, 3.59139015e+03, 3.33894833e+04, 1.96108014e+05,\n",
              "        1.90122545e+07, 1.52811137e+09, 3.79824499e+10, 3.35047165e+12,\n",
              "        1.09814901e+14, 7.49299239e+15],\n",
              "       [7.26558987e+01, 5.30785411e+03, 4.41025608e+05, 2.35157385e+06,\n",
              "        9.84516611e+07, 1.42154320e+09, 1.03728286e+11, 6.82722963e+12,\n",
              "        1.54071793e+14, 1.48252541e+16],\n",
              "       [3.00815376e+01, 9.25293625e+02, 1.19216286e+03, 1.04266762e+05,\n",
              "        6.62944538e+06, 3.54797505e+08, 3.04061420e+10, 3.24137126e+11,\n",
              "        2.76342589e+13, 1.15895518e+15],\n",
              "       [6.98845872e+00, 2.32918290e+02, 2.15889972e+04, 7.39220954e+05,\n",
              "        3.17202557e+07, 1.66882957e+08, 5.12331863e+09, 3.92130841e+11,\n",
              "        9.87150017e+12, 3.60581673e+14],\n",
              "       [8.06204843e+01, 3.27667044e+03, 5.23892342e+04, 4.67379618e+06,\n",
              "        3.48630300e+08, 2.78796160e+10, 1.41266536e+12, 7.77170348e+13,\n",
              "        5.95352081e+15, 3.91524289e+15],\n",
              "       [5.70351709e+01, 1.91350447e+03, 3.08355059e+04, 1.94414392e+06,\n",
              "        2.57603366e+07, 8.73315501e+08, 2.71168587e+10, 1.34475981e+12,\n",
              "        7.79601274e+13, 5.04080830e+15],\n",
              "       [6.77050934e+01, 3.60474019e+03, 3.06080701e+05, 4.55424293e+06,\n",
              "        1.73732157e+07, 1.20470415e+09, 3.06618629e+10, 9.80471079e+11,\n",
              "        6.68005959e+13, 6.03727225e+15],\n",
              "       [1.75236400e+01, 1.41853265e+03, 1.26236535e+05, 1.24219704e+07,\n",
              "        1.14206924e+09, 1.05367941e+11, 5.05977711e+12, 1.46883848e+13,\n",
              "        3.78676893e+14, 2.30322522e+16],\n",
              "       [5.98082570e+01, 5.85585555e+03, 1.43293062e+05, 5.90028780e+06,\n",
              "        4.23829533e+07, 2.35008692e+09, 1.28326837e+11, 3.21312827e+12,\n",
              "        6.80644413e+13, 2.53348326e+15],\n",
              "       [6.75543490e+01, 5.80140554e+03, 1.38366430e+05, 1.48919083e+06,\n",
              "        2.67001895e+07, 2.40482893e+09, 1.35109009e+11, 4.51652161e+12,\n",
              "        3.74867290e+14, 3.36348657e+16]])"
            ]
          },
          "metadata": {
            "tags": []
          },
          "execution_count": 101
        }
      ]
    },
    {
      "cell_type": "markdown",
      "metadata": {
        "id": "RsXHlCRUyFue"
      },
      "source": [
        "(i) Sort the array"
      ]
    },
    {
      "cell_type": "code",
      "metadata": {
        "id": "vXOSiFkvyHbV",
        "colab": {
          "base_uri": "https://localhost:8080/",
          "height": 1000
        },
        "outputId": "d8c32e34-75e6-49b0-b107-7ca40e98393d"
      },
      "source": [
        "data.sort()\n",
        "data"
      ],
      "execution_count": null,
      "outputs": [
        {
          "output_type": "execute_result",
          "data": {
            "text/plain": [
              "array([[ 3.31649736, 12.05040658, 14.77816493, 40.5325083 , 52.31997204,\n",
              "        52.69157148, 54.80722824, 60.80768497, 64.40946138, 99.27302922],\n",
              "       [ 1.83055225,  5.53506805,  9.41580922, 24.37643808, 39.56306832,\n",
              "        48.11457524, 76.92202275, 76.95647512, 90.16370074, 99.39311811],\n",
              "       [ 1.71830616,  5.66919016, 14.1632521 , 19.01144527, 20.70220891,\n",
              "        56.71491759, 61.79328075, 75.57416021, 80.4785167 , 84.3719429 ],\n",
              "       [ 4.94688841, 25.20338249, 26.91837427, 47.00041065, 53.8222794 ,\n",
              "        58.43633232, 67.50730998, 73.59633235, 82.83405371, 98.89038518],\n",
              "       [20.1895379 , 30.89850944, 57.18257626, 66.22433611, 73.78778806,\n",
              "        81.27599352, 90.27441343, 93.27988029, 97.83251275, 99.25842738],\n",
              "       [ 1.66267693, 13.13269277, 34.2229366 , 38.97924279, 43.57041348,\n",
              "        65.31609539, 65.54378468, 70.97297293, 72.13506697, 79.18063051],\n",
              "       [ 3.35824338,  4.42712619, 12.50526558, 28.41823955, 31.17381332,\n",
              "        40.92295914, 41.08037445, 46.07278638, 60.08874153, 95.74950752],\n",
              "       [ 0.93441299, 17.27702512, 26.37978542, 29.2612239 , 31.60457125,\n",
              "        48.89654647, 49.11997077, 53.35213877, 81.94265808, 96.17248167],\n",
              "       [ 5.52628561, 37.15354463, 38.63391001, 42.19391481, 53.36077803,\n",
              "        54.50698491, 61.19452236, 78.63613085, 80.17574151, 92.33506573],\n",
              "       [ 0.16857794, 11.5073201 , 37.15371117, 38.25124862, 45.65604437,\n",
              "        59.96993773, 61.01555832, 82.16700005, 87.13198587, 90.88643734],\n",
              "       [ 2.89759724,  6.35609938, 30.47434275, 34.97737785, 35.98481581,\n",
              "        46.27418524, 56.62180366, 84.66638531, 96.0870818 , 99.824912  ],\n",
              "       [23.46621654, 24.90762063, 32.23330005, 40.22326895, 42.29614111,\n",
              "        63.3109382 , 85.26583259, 87.22394185, 88.94428507, 97.13818145],\n",
              "       [ 1.80389634,  3.13527474,  5.02230864,  8.08044833, 18.2395815 ,\n",
              "        41.66612918, 51.26999109, 53.46859249, 60.24534939, 78.81849594],\n",
              "       [ 6.04575433,  7.17077288, 11.92925871, 25.23210329, 26.40251719,\n",
              "        69.69834563, 88.20165261, 90.66914255, 95.52145821, 96.8064668 ],\n",
              "       [ 6.31017585, 22.20123822, 22.37074815, 27.67282582, 38.12097179,\n",
              "        42.25828533, 45.10693514, 52.47489879, 61.20024469, 97.34748093],\n",
              "       [ 4.84761124,  6.80604254,  9.16626138, 12.44932998, 16.88817373,\n",
              "        63.65094822, 69.9560624 , 71.93009797, 78.54861691, 80.14838487],\n",
              "       [ 4.40682267, 10.67215413, 16.85294886, 26.55533043, 47.56568998,\n",
              "        55.17662075, 62.11848228, 70.93558901, 73.49497895, 90.7783738 ],\n",
              "       [ 5.37194628,  6.43884166, 12.43000451, 13.07959553, 19.10947612,\n",
              "        34.68788248, 53.08248522, 53.25437333, 53.33879162, 61.26685542],\n",
              "       [ 1.50124775, 10.92528602, 16.83321052, 21.9229886 , 38.0468345 ,\n",
              "        41.37921472, 58.38798926, 59.77083464, 74.78955408, 98.20621137],\n",
              "       [ 0.87478267, 18.45915735, 30.31342959, 39.39071871, 54.35453252,\n",
              "        58.15450498, 60.66937543, 65.74735094, 77.24241181, 79.04010853],\n",
              "       [ 5.87334677,  9.29709164, 24.85581273, 32.77595283, 37.05228122,\n",
              "        68.23292959, 80.37507397, 88.2110463 , 96.9276393 , 96.9478714 ],\n",
              "       [ 5.33205738, 14.43899666, 22.56724922, 41.86628501, 65.81839822,\n",
              "        72.65589871, 72.96878882, 73.05468933, 83.08924839, 96.22302572],\n",
              "       [ 1.28841573, 10.66025166, 30.08153755, 30.75951897, 41.93907228,\n",
              "        53.51842948, 63.58157902, 85.25484012, 85.69998831, 87.46016658],\n",
              "       [ 5.26108488,  6.98845872, 25.17399587, 30.70007091, 33.32899276,\n",
              "        34.24063418, 36.52754564, 42.91038493, 76.53844493, 92.68914492],\n",
              "       [ 0.65763487, 15.98855767, 40.64314997, 50.67018721, 55.01446889,\n",
              "        74.59253393, 76.60509474, 79.96899874, 80.62048433, 89.21291274],\n",
              "       [13.250221  , 16.11467673, 31.05047225, 33.54955258, 33.90155626,\n",
              "        49.59128301, 57.03517092, 57.97327265, 63.04887385, 64.65880018],\n",
              "       [ 3.81473188, 14.87922273, 25.45177828, 31.97689205, 53.24178752,\n",
              "        67.70509336, 68.13112322, 69.34261159, 84.91061345, 90.37752084],\n",
              "       [ 2.90297073, 17.52363997, 25.78070342, 48.02008158, 60.82296699,\n",
              "        80.94965744, 88.99092671, 91.9394595 , 92.26055373, 98.40233925],\n",
              "       [ 7.18320101, 21.18323191, 24.47004716, 25.03863063, 37.22183292,\n",
              "        41.17636775, 54.6051449 , 55.44887129, 59.80825703, 97.91048668],\n",
              "       [10.76265989, 17.9293271 , 23.85050125, 33.42872288, 56.18237824,\n",
              "        67.55434895, 82.99911353, 85.87760276, 89.72472824, 90.0678601 ]])"
            ]
          },
          "metadata": {
            "tags": []
          },
          "execution_count": 103
        }
      ]
    },
    {
      "cell_type": "code",
      "metadata": {
        "id": "BocxXyKz9l2D",
        "colab": {
          "base_uri": "https://localhost:8080/",
          "height": 1000
        },
        "outputId": "b4653547-325c-4178-bc3c-a0d519c18f32"
      },
      "source": [
        "#using np function\n",
        "np.sort(data)"
      ],
      "execution_count": null,
      "outputs": [
        {
          "output_type": "execute_result",
          "data": {
            "text/plain": [
              "array([[ 3.31649736, 12.05040658, 14.77816493, 40.5325083 , 52.31997204,\n",
              "        52.69157148, 54.80722824, 60.80768497, 64.40946138, 99.27302922],\n",
              "       [ 1.83055225,  5.53506805,  9.41580922, 24.37643808, 39.56306832,\n",
              "        48.11457524, 76.92202275, 76.95647512, 90.16370074, 99.39311811],\n",
              "       [ 1.71830616,  5.66919016, 14.1632521 , 19.01144527, 20.70220891,\n",
              "        56.71491759, 61.79328075, 75.57416021, 80.4785167 , 84.3719429 ],\n",
              "       [ 4.94688841, 25.20338249, 26.91837427, 47.00041065, 53.8222794 ,\n",
              "        58.43633232, 67.50730998, 73.59633235, 82.83405371, 98.89038518],\n",
              "       [20.1895379 , 30.89850944, 57.18257626, 66.22433611, 73.78778806,\n",
              "        81.27599352, 90.27441343, 93.27988029, 97.83251275, 99.25842738],\n",
              "       [ 1.66267693, 13.13269277, 34.2229366 , 38.97924279, 43.57041348,\n",
              "        65.31609539, 65.54378468, 70.97297293, 72.13506697, 79.18063051],\n",
              "       [ 3.35824338,  4.42712619, 12.50526558, 28.41823955, 31.17381332,\n",
              "        40.92295914, 41.08037445, 46.07278638, 60.08874153, 95.74950752],\n",
              "       [ 0.93441299, 17.27702512, 26.37978542, 29.2612239 , 31.60457125,\n",
              "        48.89654647, 49.11997077, 53.35213877, 81.94265808, 96.17248167],\n",
              "       [ 5.52628561, 37.15354463, 38.63391001, 42.19391481, 53.36077803,\n",
              "        54.50698491, 61.19452236, 78.63613085, 80.17574151, 92.33506573],\n",
              "       [ 0.16857794, 11.5073201 , 37.15371117, 38.25124862, 45.65604437,\n",
              "        59.96993773, 61.01555832, 82.16700005, 87.13198587, 90.88643734],\n",
              "       [ 2.89759724,  6.35609938, 30.47434275, 34.97737785, 35.98481581,\n",
              "        46.27418524, 56.62180366, 84.66638531, 96.0870818 , 99.824912  ],\n",
              "       [23.46621654, 24.90762063, 32.23330005, 40.22326895, 42.29614111,\n",
              "        63.3109382 , 85.26583259, 87.22394185, 88.94428507, 97.13818145],\n",
              "       [ 1.80389634,  3.13527474,  5.02230864,  8.08044833, 18.2395815 ,\n",
              "        41.66612918, 51.26999109, 53.46859249, 60.24534939, 78.81849594],\n",
              "       [ 6.04575433,  7.17077288, 11.92925871, 25.23210329, 26.40251719,\n",
              "        69.69834563, 88.20165261, 90.66914255, 95.52145821, 96.8064668 ],\n",
              "       [ 6.31017585, 22.20123822, 22.37074815, 27.67282582, 38.12097179,\n",
              "        42.25828533, 45.10693514, 52.47489879, 61.20024469, 97.34748093],\n",
              "       [ 4.84761124,  6.80604254,  9.16626138, 12.44932998, 16.88817373,\n",
              "        63.65094822, 69.9560624 , 71.93009797, 78.54861691, 80.14838487],\n",
              "       [ 4.40682267, 10.67215413, 16.85294886, 26.55533043, 47.56568998,\n",
              "        55.17662075, 62.11848228, 70.93558901, 73.49497895, 90.7783738 ],\n",
              "       [ 5.37194628,  6.43884166, 12.43000451, 13.07959553, 19.10947612,\n",
              "        34.68788248, 53.08248522, 53.25437333, 53.33879162, 61.26685542],\n",
              "       [ 1.50124775, 10.92528602, 16.83321052, 21.9229886 , 38.0468345 ,\n",
              "        41.37921472, 58.38798926, 59.77083464, 74.78955408, 98.20621137],\n",
              "       [ 0.87478267, 18.45915735, 30.31342959, 39.39071871, 54.35453252,\n",
              "        58.15450498, 60.66937543, 65.74735094, 77.24241181, 79.04010853],\n",
              "       [ 5.87334677,  9.29709164, 24.85581273, 32.77595283, 37.05228122,\n",
              "        68.23292959, 80.37507397, 88.2110463 , 96.9276393 , 96.9478714 ],\n",
              "       [ 5.33205738, 14.43899666, 22.56724922, 41.86628501, 65.81839822,\n",
              "        72.65589871, 72.96878882, 73.05468933, 83.08924839, 96.22302572],\n",
              "       [ 1.28841573, 10.66025166, 30.08153755, 30.75951897, 41.93907228,\n",
              "        53.51842948, 63.58157902, 85.25484012, 85.69998831, 87.46016658],\n",
              "       [ 5.26108488,  6.98845872, 25.17399587, 30.70007091, 33.32899276,\n",
              "        34.24063418, 36.52754564, 42.91038493, 76.53844493, 92.68914492],\n",
              "       [ 0.65763487, 15.98855767, 40.64314997, 50.67018721, 55.01446889,\n",
              "        74.59253393, 76.60509474, 79.96899874, 80.62048433, 89.21291274],\n",
              "       [13.250221  , 16.11467673, 31.05047225, 33.54955258, 33.90155626,\n",
              "        49.59128301, 57.03517092, 57.97327265, 63.04887385, 64.65880018],\n",
              "       [ 3.81473188, 14.87922273, 25.45177828, 31.97689205, 53.24178752,\n",
              "        67.70509336, 68.13112322, 69.34261159, 84.91061345, 90.37752084],\n",
              "       [ 2.90297073, 17.52363997, 25.78070342, 48.02008158, 60.82296699,\n",
              "        80.94965744, 88.99092671, 91.9394595 , 92.26055373, 98.40233925],\n",
              "       [ 7.18320101, 21.18323191, 24.47004716, 25.03863063, 37.22183292,\n",
              "        41.17636775, 54.6051449 , 55.44887129, 59.80825703, 97.91048668],\n",
              "       [10.76265989, 17.9293271 , 23.85050125, 33.42872288, 56.18237824,\n",
              "        67.55434895, 82.99911353, 85.87760276, 89.72472824, 90.0678601 ]])"
            ]
          },
          "metadata": {
            "tags": []
          },
          "execution_count": 104
        }
      ]
    }
  ]
}